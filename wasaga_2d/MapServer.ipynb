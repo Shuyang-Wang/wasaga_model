{
 "cells": [
  {
   "cell_type": "code",
   "execution_count": null,
   "metadata": {},
   "outputs": [],
   "source": [
    "from arcgis.gis import GIS\n",
    "from arcgis.raster import export_image\n",
    "\n",
    "# Initialize the GIS object\n",
    "gis = GIS(\"https://your-arcgis-server-url.com\", username=\"your-username\", password=\"your-password\")\n",
    "\n",
    "# Define the MapServer URL\n",
    "map_service_url = \"https://your-arcgis-server-url.com/arcgis/rest/services/YourMapService/MapServer\"\n",
    "\n",
    "# Create a MapService object\n",
    "map_service = gis.content.get(map_service_url)\n",
    "\n",
    "# Set the output directory for downloaded tiles\n",
    "output_directory = \"path/to/output/directory\"\n",
    "\n",
    "# Define the extent and zoom levels you want to download\n",
    "extent = {\"xmin\": -180, \"ymin\": -90, \"xmax\": 180, \"ymax\": 90, \"spatialReference\": {\"wkid\": 4326}}\n",
    "zoom_levels = [0, 1, 2, 3]  # Adjust this list as needed\n",
    "\n",
    "for zoom_level in zoom_levels:\n",
    "    # Export tiles at the specified zoom level\n",
    "    export_image(map_service, bbox=extent, export_format=\"png\", size=[256, 256], level_of_detail=zoom_level,\n",
    "                 out_folder=output_directory)\n",
    "\n",
    "print(\"Tile download completed.\")\n"
   ]
  },
  {
   "cell_type": "code",
   "execution_count": 3,
   "metadata": {},
   "outputs": [
    {
     "name": "stdout",
     "output_type": "stream",
     "text": [
      "Failed to access the folder: https://maps.simcoe.ca/arcgis/rest/services/Public/Ortho_1989_Cache/MapServer/tile/9/94842\n"
     ]
    }
   ],
   "source": [
    "import os\n",
    "import requests\n",
    "from bs4 import BeautifulSoup\n",
    "\n",
    "def download_folder(url, local_path):\n",
    "    # Send an HTTP GET request to the folder URL\n",
    "    response = requests.get(url)\n",
    "    \n",
    "    # Check if the request was successful (status code 200)\n",
    "    if response.status_code == 200:\n",
    "        # Parse the HTML content of the folder page\n",
    "        soup = BeautifulSoup(response.text, 'html.parser')\n",
    "        \n",
    "        # Create the local folder if it doesn't exist\n",
    "        if not os.path.exists(local_path):\n",
    "            os.makedirs(local_path)\n",
    "        \n",
    "        # Find all links (anchor tags) in the HTML content\n",
    "        links = soup.find_all('a')\n",
    "        \n",
    "        # Iterate through the links and download files/subfolders\n",
    "        for link in links:\n",
    "            link_url = link.get('href')\n",
    "            \n",
    "            # Ensure the link is not a parent directory link or a link to a different domain\n",
    "            if link_url and not link_url.startswith('..') and not link_url.startswith('http'):\n",
    "                full_url = url + link_url\n",
    "                file_name = os.path.basename(full_url)\n",
    "                file_path = os.path.join(local_path, file_name)\n",
    "                \n",
    "                # If the link points to a subfolder, recursively download its contents\n",
    "                if link_url.endswith('/'):\n",
    "                    download_folder(full_url, file_path)\n",
    "                else:\n",
    "                    # Otherwise, download the file\n",
    "                    file_response = requests.get(full_url)\n",
    "                    \n",
    "                    if file_response.status_code == 200:\n",
    "                        with open(file_path, 'wb') as file:\n",
    "                            file.write(file_response.content)\n",
    "                        print(f\"Downloaded: {file_path}\")\n",
    "                    else:\n",
    "                        print(f\"Failed to download: {full_url}\")\n",
    "    else:\n",
    "        print(f\"Failed to access the folder: {url}\")\n",
    "\n",
    "# Example usage:\n",
    "folder_url = 'https://maps.simcoe.ca/arcgis/rest/services/Public/Ortho_1989_Cache/MapServer/tile/9/94842'\n",
    "local_folder = 'downloaded_folder'\n",
    "download_folder(folder_url, local_folder)\n"
   ]
  },
  {
   "cell_type": "code",
   "execution_count": null,
   "metadata": {},
   "outputs": [],
   "source": []
  }
 ],
 "metadata": {
  "kernelspec": {
   "display_name": "pht3d",
   "language": "python",
   "name": "python3"
  },
  "language_info": {
   "codemirror_mode": {
    "name": "ipython",
    "version": 3
   },
   "file_extension": ".py",
   "mimetype": "text/x-python",
   "name": "python",
   "nbconvert_exporter": "python",
   "pygments_lexer": "ipython3",
   "version": "3.11.5"
  }
 },
 "nbformat": 4,
 "nbformat_minor": 2
}
