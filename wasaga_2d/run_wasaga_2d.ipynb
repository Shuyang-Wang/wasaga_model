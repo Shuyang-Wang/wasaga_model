{
 "cells": [
  {
   "cell_type": "code",
   "execution_count": null,
   "metadata": {},
   "outputs": [],
   "source": [
    "import wasaga_tools\n",
    "import flopy\n",
    "import shutil\n",
    "from pathlib import Path\n",
    "import numpy as np\n",
    "\n",
    "import importlib\n",
    "importlib.reload(wasaga_tools)"
   ]
  },
  {
   "cell_type": "code",
   "execution_count": null,
   "metadata": {},
   "outputs": [],
   "source": []
  },
  {
   "attachments": {},
   "cell_type": "markdown",
   "metadata": {},
   "source": [
    "# SRP"
   ]
  },
  {
   "cell_type": "code",
   "execution_count": null,
   "metadata": {},
   "outputs": [],
   "source": [
    "################### Model Parameters   ##############################\n",
    "my_params = {}\n",
    "my_params['name'] = 'test_wasaga_2'\n",
    "## mt3dGcg\n",
    "cclose=my_params['cclose'] = 1e-5\n",
    "## RCT\n",
    "\n",
    "my_params['hk'] = 6.9\n",
    "my_params['vk'] = 0.1\n",
    "\n",
    "my_params['porosity'] = 0.35\n",
    "my_params['sy'] = 0.33\n",
    "my_params['ss'] = 0.0002\n",
    "my_params['la'] = 0.2\n",
    "my_params['trpt'] = 0.1\n",
    "my_params['trpv'] = 0.1\n",
    "my_params['dmcoef'] = 3.7E-10 ####\n",
    "my_params['sconc'] = 20\n",
    "\n",
    "#Species ID\n",
    "sp_ID = {}\n",
    "#sp_ID['Cl-'] = 1\n",
    "sp_ID['SRP'] = 1\n",
    "my_params['sp_ID'] = sp_ID\n",
    "\n",
    "#Species Name\n",
    "sp_name = {}\n",
    "#sp_name[1] = 'Cl-'\n",
    "sp_name[1] = 'SRP'\n",
    "my_params['sp_name'] = sp_name\n",
    "\n",
    "\n",
    "## P lens\n",
    "my_params['perlen'] = [1]+[30,92,31,212]*25 +[365]*5+[365*5]*5+[365*4]+[185,30,30,120]\n",
    "\n",
    "\n",
    "## Wel data\n",
    "wel_data = {}\n",
    "#last_wel_id = len(my_params['perlen'])-1\n",
    "for y in range(25):\n",
    "    p = (y)*4 +2\n",
    "    wel_data[p] = [[50,0,15,0.0075]]\n",
    "    p += 1\n",
    "    wel_data[p] = [[50,0,15,0.075]]\n",
    "    p += 1\n",
    "    wel_data[p] = [[50,0,15,0.0075]]\n",
    "    p += 1\n",
    "    wel_data[p] = [[50,0,15,0.0]]\n",
    "    p += 1\n",
    "\n",
    "wel_data[p] = [[50,0,15,0]]\n",
    "my_params['wel_data'] = wel_data\n",
    "\n",
    "\n",
    "# Mt3dSsm \n",
    "ssm_data = {}\n",
    "itype = flopy.mt3d.Mt3dSsm.itype_dict()\n",
    "\n",
    "for y in range(25):\n",
    "    p = (y)*4 +2\n",
    "    ssm_data[p] = [(50, 0, 15, 3000.0, itype['WEL'])]\n",
    "    p += 1\n",
    "    ssm_data[p] = [(50, 0, 15, 3000.0, itype['WEL'])]\n",
    "    p += 1\n",
    "    ssm_data[p] = [(50, 0, 15, 3000.0, itype['WEL'])]\n",
    "    p += 1\n",
    "    ssm_data[p] = [(50, 0, 15, 3000.0, itype['WEL'])]\n",
    "    p += 1\n",
    "ssm_data[p] = [(50, 0, 15, 0.0, itype['WEL'])]\n",
    "my_params['ssm_data'] = ssm_data\n",
    "\n",
    "\n",
    "#Mt3dBtn\n",
    "mixelm=my_params['mixelm'] = 0 # HMOC\n",
    "my_params['isothm'] = 3 # Langmuir\n",
    "my_params['sp1'] = 0.0001 ##  0.1 mg/L  => 1e5 ug/m3\n",
    "my_params['sp2'] = 0.0001  ##  maximum soil adsorption value = 100 ug/g => 1e5 ug/kg\n",
    "\n",
    "# Rch\n",
    "my_params['rech'] = 0.5/365 #0.5/365 ## 500mm/year\n",
    "\n",
    "# dt0\n",
    "my_params['dt0'] = 0.1\n",
    "################################################################\n",
    "\n",
    "base_model_my_params = my_params"
   ]
  },
  {
   "cell_type": "code",
   "execution_count": null,
   "metadata": {},
   "outputs": [],
   "source": []
  },
  {
   "cell_type": "code",
   "execution_count": null,
   "metadata": {},
   "outputs": [],
   "source": []
  },
  {
   "cell_type": "code",
   "execution_count": null,
   "metadata": {},
   "outputs": [],
   "source": []
  },
  {
   "cell_type": "markdown",
   "metadata": {},
   "source": [
    "# Test"
   ]
  },
  {
   "cell_type": "code",
   "execution_count": null,
   "metadata": {},
   "outputs": [],
   "source": []
  },
  {
   "cell_type": "code",
   "execution_count": null,
   "metadata": {},
   "outputs": [],
   "source": [
    "\n",
    "\n",
    "ws = wasaga_tools.run_wasaga(my_params=my_params)\n",
    "shutil.copy('wasaga_draw.py',Path(ws) / 'wasaga_draw.py')\n",
    "wasaga_tools.execute_wasaga_draw(ws = ws)"
   ]
  },
  {
   "cell_type": "code",
   "execution_count": null,
   "metadata": {},
   "outputs": [],
   "source": []
  },
  {
   "cell_type": "code",
   "execution_count": null,
   "metadata": {},
   "outputs": [],
   "source": []
  },
  {
   "cell_type": "code",
   "execution_count": null,
   "metadata": {},
   "outputs": [],
   "source": []
  },
  {
   "cell_type": "code",
   "execution_count": null,
   "metadata": {},
   "outputs": [],
   "source": [
    "import sys\n",
    "import os\n",
    "def get_desktop_path():\n",
    "    if sys.platform == 'win32':\n",
    "        desktop = os.path.join(os.path.join(os.environ['USERPROFILE']), 'Desktop')\n",
    "    else:  # 'darwin' assumes MacOS\n",
    "        desktop = os.path.join(os.path.join(os.path.expanduser('~')), 'Desktop')\n",
    "    return desktop\n",
    "\n",
    "def create_folder_on_desktop(folder_name):\n",
    "    desktop = get_desktop_path()\n",
    "    folder_path = os.path.join(desktop, folder_name)\n",
    "    if not os.path.exists(folder_path):\n",
    "        os.makedirs(folder_path)\n",
    "    return folder_path\n",
    "\n",
    "\n",
    "def copy_and_rename_file(src_file_path, dest_folder_path, new_name):\n",
    "    if not os.path.isfile(src_file_path):\n",
    "        print(f\"Source file does not exist: {src_file_path}\")\n",
    "        return False\n",
    "    \n",
    "    # Define the destination file path with the new name\n",
    "    dest_file_path = os.path.join(dest_folder_path, new_name)\n",
    "    \n",
    "    # Copy the file to the new destination\n",
    "    shutil.copy(src_file_path, dest_file_path)\n",
    "    print(f\"File {src_file_path} copied and renamed to {dest_file_path}\")\n",
    "    return True\n",
    "\n",
    "\n",
    "def copy_files(new_name):\n",
    "    # Replace 'path_to_ws' with the actual path to your 'ws' directory\n",
    "    path_to_ws = \"path_to_ws\"\n",
    "    file_to_copy = \"SRP_mass.png\"\n",
    "    output_folder_name = \"_output\"\n",
    "    conc_folder_name = \"conc\"\n",
    "\n",
    "    # Construct the full path to the source file\n",
    "    src_file_path = os.path.join(ws, output_folder_name, file_to_copy)\n",
    "    \n",
    "    # Create 'conc' folder on desktop and get the path\n",
    "    conc_folder_path = create_folder_on_desktop(conc_folder_name)\n",
    "    \n",
    "    # Copy the file from the source to the 'conc' folder on the desktop\n",
    "    copy_and_rename_file(src_file_path, conc_folder_path,new_name)\n",
    "\n",
    "\n",
    "\n",
    "def copy_files_0(new_name):\n",
    "    # Replace 'path_to_ws' with the actual path to your 'ws' directory\n",
    "    path_to_ws = \"path_to_ws\"\n",
    "    file_to_copy = \"_my_params.png\"\n",
    "    output_folder_name = \"_output\"\n",
    "    conc_folder_name = \"conc\"\n",
    "\n",
    "    # Construct the full path to the source file\n",
    "    src_file_path = os.path.join(ws, output_folder_name, file_to_copy)\n",
    "    \n",
    "    # Create 'conc' folder on desktop and get the path\n",
    "    conc_folder_path = create_folder_on_desktop(conc_folder_name)\n",
    "    \n",
    "    # Copy the file from the source to the 'conc' folder on the desktop\n",
    "    copy_and_rename_file(src_file_path, conc_folder_path,new_name)"
   ]
  },
  {
   "cell_type": "code",
   "execution_count": null,
   "metadata": {},
   "outputs": [],
   "source": []
  },
  {
   "cell_type": "code",
   "execution_count": null,
   "metadata": {},
   "outputs": [],
   "source": []
  },
  {
   "cell_type": "code",
   "execution_count": null,
   "metadata": {},
   "outputs": [],
   "source": []
  },
  {
   "cell_type": "code",
   "execution_count": null,
   "metadata": {},
   "outputs": [],
   "source": []
  },
  {
   "cell_type": "code",
   "execution_count": null,
   "metadata": {},
   "outputs": [],
   "source": []
  },
  {
   "cell_type": "code",
   "execution_count": 124,
   "metadata": {},
   "outputs": [],
   "source": [
    "my_params['sp1'] = 0.0008\n",
    "my_params['la'] = 5\n",
    "my_params['hk'] = 12\n",
    "base_model_my_params = my_params"
   ]
  },
  {
   "cell_type": "code",
   "execution_count": null,
   "metadata": {},
   "outputs": [],
   "source": []
  },
  {
   "cell_type": "markdown",
   "metadata": {},
   "source": [
    "# HK"
   ]
  },
  {
   "cell_type": "code",
   "execution_count": null,
   "metadata": {},
   "outputs": [],
   "source": [
    "import numpy as np\n",
    "import os"
   ]
  },
  {
   "cell_type": "code",
   "execution_count": null,
   "metadata": {},
   "outputs": [],
   "source": []
  },
  {
   "cell_type": "code",
   "execution_count": null,
   "metadata": {},
   "outputs": [],
   "source": [
    "np.logspace(0.1,2,20).round(1)"
   ]
  },
  {
   "cell_type": "code",
   "execution_count": null,
   "metadata": {},
   "outputs": [],
   "source": [
    "hks = np.array([  1.3,   1.6,   2. ,   2.5,   3.2,   4. ,   5. ,   6.3,   7.9,\n",
    "        10. ,  12,  15.8,  20. ,  25.1,  31.6,  39.8,  50.1,  63.1,\n",
    "        79.4, 100. ])"
   ]
  },
  {
   "cell_type": "code",
   "execution_count": null,
   "metadata": {},
   "outputs": [],
   "source": [
    "%%capture\n",
    "c = 0\n",
    "\n",
    "my_params = base_model_my_params\n",
    "for h in hks:\n",
    "    my_params['hk'] = h\n",
    "    my_params['vk'] = 0.1\n",
    "\n",
    "    ws = wasaga_tools.run_wasaga(my_params=my_params)\n",
    "\n",
    "    shutil.copy('wasaga_draw.py',Path(ws) / 'wasaga_draw.py')\n",
    "    wasaga_tools.execute_wasaga_draw(ws = ws)\n",
    "    copy_files_0('{:02d}__my_params_h_{:.1e}.png'.format(c,h))\n",
    "    copy_files('{:02d}_h_{:.1e}_mass.png'.format(c,h))\n",
    "    c += 1"
   ]
  },
  {
   "cell_type": "code",
   "execution_count": null,
   "metadata": {},
   "outputs": [],
   "source": []
  },
  {
   "cell_type": "code",
   "execution_count": null,
   "metadata": {},
   "outputs": [],
   "source": [
    "# BASE sp1 = 0.0008"
   ]
  },
  {
   "cell_type": "code",
   "execution_count": null,
   "metadata": {},
   "outputs": [],
   "source": [
    "np.logspace(-4,-2,20)"
   ]
  },
  {
   "cell_type": "code",
   "execution_count": null,
   "metadata": {},
   "outputs": [],
   "source": [
    "sp1s = np.array([0.0001    , 0.00012743, 0.00016238, 0.00020691, 0.00026367,\n",
    "       0.00033598, 0.00042813, 0.00054556, 0.00069519, 0.0008,\n",
    "       0.00112884, 0.00143845, 0.00183298, 0.00233572, 0.00297635,\n",
    "       0.00379269, 0.00483293, 0.00615848, 0.0078476 , 0.01      ])"
   ]
  },
  {
   "cell_type": "markdown",
   "metadata": {},
   "source": [
    "# SP1"
   ]
  },
  {
   "cell_type": "code",
   "execution_count": null,
   "metadata": {},
   "outputs": [],
   "source": [
    "# %%capture\n",
    "\n",
    "my_params = base_model_my_params\n",
    "\n",
    "c = 0\n",
    "for k in sp1s:\n",
    "    print(k)\n",
    "    my_params['sp1'] = k\n",
    "\n",
    "    ws = wasaga_tools.run_wasaga(my_params=my_params)\n",
    "\n",
    "    shutil.copy('wasaga_draw.py',Path(ws) / 'wasaga_draw.py')\n",
    "    wasaga_tools.execute_wasaga_draw(ws = ws)\n",
    "    copy_files_0('{:02d}__my_params_k_{:.1e}.png'.format(c,k))\n",
    "    copy_files('{:02d}_k_{:.1e}_mass.png'.format(c,k))\n",
    "    c += 1"
   ]
  },
  {
   "cell_type": "markdown",
   "metadata": {},
   "source": [
    "# LA"
   ]
  },
  {
   "cell_type": "code",
   "execution_count": 105,
   "metadata": {},
   "outputs": [
    {
     "data": {
      "text/plain": [
       "array([ 0.1       ,  0.13538762,  0.18329807,  0.24816289,  0.33598183,\n",
       "        0.45487779,  0.61584821,  0.83378222,  1.12883789,  1.52830673,\n",
       "        2.06913808,  2.80135676,  3.79269019,  5.13483291,  6.95192796,\n",
       "        9.41204967, 12.74274986, 17.2521055 , 23.35721469, 31.6227766 ])"
      ]
     },
     "execution_count": 105,
     "metadata": {},
     "output_type": "execute_result"
    }
   ],
   "source": [
    "np.logspace(-1,1.5,20)"
   ]
  },
  {
   "cell_type": "code",
   "execution_count": 110,
   "metadata": {},
   "outputs": [],
   "source": [
    "las = np.array([ 0.1 ,  0.13538762,  0.18329807,  0.24816289,  0.33598183,\n",
    "        0.45487779,  0.61584821,  0.83378222,  1.12883789,  1.52830673,\n",
    "        2.06913808,  2.80135676,  3.79269019,  5.0,  6.95192796,\n",
    "        9.41204967, 12.74274986, 17.2521055 , 23.35721469, 31.6227766 ])"
   ]
  },
  {
   "cell_type": "code",
   "execution_count": null,
   "metadata": {},
   "outputs": [],
   "source": []
  },
  {
   "cell_type": "code",
   "execution_count": 122,
   "metadata": {},
   "outputs": [],
   "source": [
    "%%capture\n",
    "\n",
    "my_params = base_model_my_params\n",
    "c = 0\n",
    "for k in las:\n",
    "    my_params['la'] = k\n",
    "    ws = wasaga_tools.run_wasaga(my_params=my_params)\n",
    "\n",
    "    shutil.copy('wasaga_draw.py',Path(ws) / 'wasaga_draw.py')\n",
    "    wasaga_tools.execute_wasaga_draw(ws = ws)\n",
    "    copy_files_0('{:02d}__my_params_k_{:.1e}.png'.format(c,k))\n",
    "    copy_files('{:02d}_k_{:.1e}_mass.png'.format(c,k))\n",
    "    c += 1"
   ]
  },
  {
   "cell_type": "code",
   "execution_count": null,
   "metadata": {},
   "outputs": [],
   "source": []
  },
  {
   "cell_type": "code",
   "execution_count": null,
   "metadata": {},
   "outputs": [],
   "source": []
  },
  {
   "cell_type": "markdown",
   "metadata": {},
   "source": [
    "# SP2"
   ]
  },
  {
   "cell_type": "code",
   "execution_count": null,
   "metadata": {},
   "outputs": [],
   "source": [
    "%%capture\n",
    "\n",
    "my_params = base_model_my_params\n",
    "\n",
    "c = 0\n",
    "for k in np.logspace(-5,-1,20):\n",
    "    my_params['sp2'] = k\n",
    "\n",
    "    ws = wasaga_tools.run_wasaga(my_params=my_params)\n",
    "\n",
    "    shutil.copy('wasaga_draw.py',Path(ws) / 'wasaga_draw.py')\n",
    "    wasaga_tools.execute_wasaga_draw(ws = ws)\n",
    "    #copy_files_0('{:02d}__my_params_k_{:.1e}.png'.format(c,k))\n",
    "    copy_files('{:02d}_k_{:.1e}_mass.png'.format(c,k))\n",
    "    c += 1"
   ]
  },
  {
   "cell_type": "code",
   "execution_count": null,
   "metadata": {},
   "outputs": [],
   "source": []
  },
  {
   "cell_type": "markdown",
   "metadata": {},
   "source": [
    "# Merge png"
   ]
  },
  {
   "cell_type": "code",
   "execution_count": 123,
   "metadata": {},
   "outputs": [],
   "source": [
    "\n",
    "from PIL import Image\n",
    "import os\n",
    "\n",
    "# Set the path to the folder containing the PNG figures\n",
    "conc_folder_path = create_folder_on_desktop('conc')\n",
    "folder_path = conc_folder_path\n",
    "\n",
    "# Get a list of all the PNG files in the folder\n",
    "file_list = sorted([f for f in os.listdir(folder_path) if f.endswith('.png')])\n",
    "\n",
    "# Create a new image with the size of the grid\n",
    "grid_size = (5, 4)\n",
    "grid_image = Image.new('RGB', (grid_size[0]*500, grid_size[1]*400))\n",
    "\n",
    "# Loop through the files and paste them into the grid\n",
    "for i, file_name in enumerate(file_list):\n",
    "    # Open the file\n",
    "    file_path = os.path.join(folder_path, file_name)\n",
    "    image = Image.open(file_path)\n",
    "\n",
    "    # Resize the image to fit in the grid\n",
    "    image = image.resize((500, 400))\n",
    "\n",
    "    # Calculate the position of the image in the grid\n",
    "    x = (i % grid_size[0]) * 500\n",
    "    y = (i // grid_size[0]) * 400\n",
    "\n",
    "    # Paste the image into the grid\n",
    "    grid_image.paste(image, (x, y))\n",
    "\n",
    "# Save the grid image\n",
    "grid_image.save(Path(folder_path) /\"grid.png\")"
   ]
  },
  {
   "cell_type": "code",
   "execution_count": null,
   "metadata": {},
   "outputs": [],
   "source": []
  },
  {
   "cell_type": "code",
   "execution_count": null,
   "metadata": {},
   "outputs": [],
   "source": [
    "%%capture\n",
    "for h in [6.9]:\n",
    "    my_params['hk'] = h\n",
    "    my_params['vk'] = h/10\n",
    "    for kd in [0.012]:\n",
    "        my_params['sp1'] = kd\n",
    "        #my_params['name'] = 'Linear_hk{:02d}_kd{:03d}'.format(int(h),int(kd*1000))\n",
    "        for rech in [0,0.5/365,1.5/365]:\n",
    "            my_params['rech'] = rech\n",
    "            my_params['name'] = 'Linear_hk{:02d}_rech{:03d}'.format(int(h),int(rech*1000))\n",
    "\n",
    "            ws = wasaga_tools.run_wasaga(my_params=my_params)\n",
    "\n",
    "            shutil.copy('wasaga_draw.py',Path(ws) / 'wasaga_draw.py')\n",
    "            wasaga_tools.execute_wasaga_draw(ws = ws)"
   ]
  },
  {
   "cell_type": "code",
   "execution_count": null,
   "metadata": {},
   "outputs": [],
   "source": []
  },
  {
   "cell_type": "code",
   "execution_count": null,
   "metadata": {},
   "outputs": [],
   "source": []
  },
  {
   "attachments": {},
   "cell_type": "markdown",
   "metadata": {},
   "source": [
    "# Cl-"
   ]
  },
  {
   "cell_type": "code",
   "execution_count": null,
   "metadata": {},
   "outputs": [],
   "source": [
    "################### Model Parameters   ##############################\n",
    "my_params = {}\n",
    "my_params['name'] = 'test_wasaga_cl'\n",
    "## mt3dGcg\n",
    "cclose=my_params['cclose'] = 1e-5\n",
    "## RCT\n",
    "\n",
    "my_params['hk'] = 12.9\n",
    "my_params['vk'] = 1.29\n",
    "\n",
    "my_params['porosity'] = 0.35\n",
    "my_params['sy'] = 0.33\n",
    "my_params['ss'] = 0.0002\n",
    "my_params['la'] = 0.2\n",
    "my_params['trpt'] = 0.1\n",
    "my_params['trpv'] = 0.1\n",
    "my_params['dmcoef'] = 3.7E-10 ####\n",
    "my_params['sconc'] = 0\n",
    "\n",
    "#Species ID\n",
    "sp_ID = {}\n",
    "#sp_ID['Cl-'] = 1\n",
    "sp_ID['Cl'] = 1\n",
    "my_params['sp_ID'] = sp_ID\n",
    "\n",
    "#Species Name\n",
    "sp_name = {}\n",
    "#sp_name[1] = 'Cl-'\n",
    "sp_name[1] = 'Cl'\n",
    "my_params['sp_name'] = sp_name\n",
    "\n",
    "\n",
    "## P lens\n",
    "my_params['perlen'] = [1,1]+[90,90,90,90]\n",
    "\n",
    "\n",
    "## Wel data\n",
    "wel_data = {}\n",
    "#last_wel_id = len(my_params['perlen'])-1\n",
    "for y in range(25):\n",
    "    p = 1\n",
    "    wel_data[p] = [[50,0,15,1.5]]\n",
    "\n",
    "    p += 1\n",
    "\n",
    "wel_data[p] = [[50,0,15,0]]\n",
    "my_params['wel_data'] = wel_data\n",
    "\n",
    "\n",
    "# Mt3dSsm \n",
    "ssm_data = {}\n",
    "itype = flopy.mt3d.Mt3dSsm.itype_dict()\n",
    "\n",
    "for y in range(25):\n",
    "    p = 1\n",
    "    ssm_data[p] = [(50, 0, 15, 500.0, itype['WEL'])]\n",
    "\n",
    "    p += 1\n",
    "ssm_data[p] = [(50, 0, 15, 0.0, itype['WEL'])]\n",
    "my_params['ssm_data'] = ssm_data\n",
    "\n",
    "\n",
    "#Mt3dBtn\n",
    "mixelm=my_params['mixelm'] = 3 # HMOC\n",
    "my_params['isothm'] = 0 #No Sorption\n",
    "my_params['sp1'] = 0.0001 ##  0.1 mg/L  => 1e5 ug/m3\n",
    "my_params['sp2'] = 0.0001  ##  maximum soil adsorption value = 100 ug/g => 1e5 ug/kg\n",
    "\n",
    "# Rch\n",
    "\n",
    "my_params['rech'] = 0 ## 500mm/year\n",
    "\n",
    "\n",
    "# dt0 \n",
    "\n",
    "my_params['dt0'] = 0.0\n",
    "################################################################"
   ]
  },
  {
   "cell_type": "code",
   "execution_count": null,
   "metadata": {},
   "outputs": [],
   "source": []
  },
  {
   "cell_type": "code",
   "execution_count": null,
   "metadata": {},
   "outputs": [],
   "source": [
    "for h in [0.69,6.9]:\n",
    "    my_params['hk'] = h\n",
    "    my_params['vk'] = h/10\n",
    "    my_params['name'] = 'hk69'\n",
    "\n",
    "    ws = wasaga_tools.run_wasaga(my_params=my_params)\n",
    "\n",
    "    shutil.copy('wasaga_draw.py',Path(ws) / 'wasaga_draw.py')\n",
    "    wasaga_tools.execute_wasaga_draw(ws = ws)\n",
    "    copy_files('h_{:.1e}.png'.format(h))"
   ]
  },
  {
   "cell_type": "code",
   "execution_count": null,
   "metadata": {},
   "outputs": [],
   "source": [
    "import sys\n",
    "import os\n",
    "def get_desktop_path():\n",
    "    if sys.platform == 'win32':\n",
    "        desktop = os.path.join(os.path.join(os.environ['USERPROFILE']), 'Desktop')\n",
    "    else:  # 'darwin' assumes MacOS\n",
    "        desktop = os.path.join(os.path.join(os.path.expanduser('~')), 'Desktop')\n",
    "    return desktop\n",
    "\n",
    "def create_folder_on_desktop(folder_name):\n",
    "    desktop = get_desktop_path()\n",
    "    folder_path = os.path.join(desktop, folder_name)\n",
    "    if not os.path.exists(folder_path):\n",
    "        os.makedirs(folder_path)\n",
    "    return folder_path\n",
    "\n",
    "\n",
    "def copy_and_rename_file(src_file_path, dest_folder_path, new_name):\n",
    "    if not os.path.isfile(src_file_path):\n",
    "        print(f\"Source file does not exist: {src_file_path}\")\n",
    "        return False\n",
    "    \n",
    "    # Define the destination file path with the new name\n",
    "    dest_file_path = os.path.join(dest_folder_path, new_name)\n",
    "    \n",
    "    # Copy the file to the new destination\n",
    "    shutil.copy(src_file_path, dest_file_path)\n",
    "    print(f\"File {src_file_path} copied and renamed to {dest_file_path}\")\n",
    "    return True\n",
    "\n",
    "\n",
    "def copy_files(new_name):\n",
    "    # Replace 'path_to_ws' with the actual path to your 'ws' directory\n",
    "    path_to_ws = \"path_to_ws\"\n",
    "    file_to_copy = \"SRP_mass.png\"\n",
    "    output_folder_name = \"_output\"\n",
    "    conc_folder_name = \"conc\"\n",
    "\n",
    "    # Construct the full path to the source file\n",
    "    src_file_path = os.path.join(ws, output_folder_name, file_to_copy)\n",
    "    \n",
    "    # Create 'conc' folder on desktop and get the path\n",
    "    conc_folder_path = create_folder_on_desktop(conc_folder_name)\n",
    "    \n",
    "    # Copy the file from the source to the 'conc' folder on the desktop\n",
    "    copy_and_rename_file(src_file_path, conc_folder_path,new_name)\n",
    "\n",
    "\n",
    "\n",
    "def copy_files_0(new_name):\n",
    "    # Replace 'path_to_ws' with the actual path to your 'ws' directory\n",
    "    path_to_ws = \"path_to_ws\"\n",
    "    file_to_copy = \"_my_params.png\"\n",
    "    output_folder_name = \"_output\"\n",
    "    conc_folder_name = \"conc\"\n",
    "\n",
    "    # Construct the full path to the source file\n",
    "    src_file_path = os.path.join(ws, output_folder_name, file_to_copy)\n",
    "    \n",
    "    # Create 'conc' folder on desktop and get the path\n",
    "    conc_folder_path = create_folder_on_desktop(conc_folder_name)\n",
    "    \n",
    "    # Copy the file from the source to the 'conc' folder on the desktop\n",
    "    copy_and_rename_file(src_file_path, conc_folder_path,new_name)"
   ]
  },
  {
   "cell_type": "code",
   "execution_count": null,
   "metadata": {},
   "outputs": [],
   "source": []
  },
  {
   "cell_type": "code",
   "execution_count": null,
   "metadata": {},
   "outputs": [],
   "source": []
  },
  {
   "cell_type": "code",
   "execution_count": null,
   "metadata": {},
   "outputs": [],
   "source": []
  },
  {
   "cell_type": "code",
   "execution_count": null,
   "metadata": {},
   "outputs": [],
   "source": []
  },
  {
   "cell_type": "code",
   "execution_count": null,
   "metadata": {},
   "outputs": [],
   "source": [
    "import flopy.utils.binaryfile as bf"
   ]
  },
  {
   "cell_type": "code",
   "execution_count": null,
   "metadata": {},
   "outputs": [],
   "source": [
    "import pickle\n",
    "model = pickle.load( open( Path(ws)/Path('_output') / 'model.pickle', \"rb\"  ))"
   ]
  },
  {
   "cell_type": "code",
   "execution_count": null,
   "metadata": {},
   "outputs": [],
   "source": [
    "delr = np.concatenate([np.repeat(2,25),np.repeat(1,70),np.repeat(2,15)])"
   ]
  },
  {
   "cell_type": "code",
   "execution_count": null,
   "metadata": {},
   "outputs": [],
   "source": [
    "delv = np.array([0.1 , 0.1 , 0.1 , 0.1 , 0.1 , 0.1 , 0.1 , 0.1 , 0.1 , 0.1 , 0.1 ,\n",
    "       0.1 , 0.1 , 0.1 , 0.1 , 0.1 , 0.1 , 0.1 , 0.1 , 0.1 , 0.1 , 0.1 ,\n",
    "       0.1 , 0.1 , 0.1 , 0.1 , 0.1 , 0.1 , 0.1 , 0.1 , 0.25, 0.25, 0.25,\n",
    "       0.25, 0.1 , 0.1 , 0.1 , 0.1 , 0.1 , 0.1 , 0.1 , 0.1 , 0.1 , 0.1 ,\n",
    "       0.1 , 0.1 , 0.1 , 0.1 , 0.1 , 0.1 , 0.1 , 0.1 , 0.1 , 0.1 , 0.1 ,\n",
    "       0.1 , 0.1 , 0.1 , 0.1 , 0.1 , 0.1 , 0.1 , 0.1 , 0.1 , 0.1 , 0.1 ,\n",
    "       0.1 , 0.1 , 0.1 , 0.5 , 0.5 , 0.5 , 0.5 , 0.5 ])"
   ]
  },
  {
   "cell_type": "code",
   "execution_count": null,
   "metadata": {},
   "outputs": [],
   "source": []
  },
  {
   "cell_type": "code",
   "execution_count": null,
   "metadata": {},
   "outputs": [],
   "source": []
  },
  {
   "cell_type": "code",
   "execution_count": null,
   "metadata": {},
   "outputs": [],
   "source": []
  },
  {
   "cell_type": "code",
   "execution_count": null,
   "metadata": {},
   "outputs": [],
   "source": [
    "plot_distance_mass(ws,'wasaga',model)"
   ]
  },
  {
   "cell_type": "code",
   "execution_count": null,
   "metadata": {},
   "outputs": [],
   "source": []
  },
  {
   "cell_type": "code",
   "execution_count": null,
   "metadata": {},
   "outputs": [],
   "source": []
  },
  {
   "cell_type": "code",
   "execution_count": null,
   "metadata": {},
   "outputs": [],
   "source": [
    "shutil.copy('wasaga_draw.py',Path(ws) / 'wasaga_draw.py')\n",
    "wasaga_tools.execute_wasaga_draw(ws = ws)\n",
    "copy_files('{:02d}_h_{:.1e}_mass.png'.format(c,h))"
   ]
  },
  {
   "cell_type": "code",
   "execution_count": null,
   "metadata": {},
   "outputs": [],
   "source": []
  },
  {
   "cell_type": "code",
   "execution_count": null,
   "metadata": {},
   "outputs": [],
   "source": []
  },
  {
   "cell_type": "code",
   "execution_count": null,
   "metadata": {},
   "outputs": [],
   "source": []
  },
  {
   "cell_type": "code",
   "execution_count": null,
   "metadata": {},
   "outputs": [],
   "source": [
    "model = flopy.modflow.Modflow.load('wasaga.nam', model_ws=Path(\"C:\\\\Users\\\\swan47\\\\AppData\\\\Local\\\\Temp\\\\_T1110165212_wasaga_hxnz6x86\"))"
   ]
  },
  {
   "cell_type": "code",
   "execution_count": null,
   "metadata": {},
   "outputs": [],
   "source": []
  },
  {
   "cell_type": "code",
   "execution_count": null,
   "metadata": {},
   "outputs": [],
   "source": []
  },
  {
   "cell_type": "code",
   "execution_count": null,
   "metadata": {},
   "outputs": [],
   "source": []
  },
  {
   "cell_type": "code",
   "execution_count": null,
   "metadata": {},
   "outputs": [],
   "source": [
    "response = requests.get(\"https://api.qa.datastream.org/v1/odata/v4\")"
   ]
  },
  {
   "cell_type": "code",
   "execution_count": null,
   "metadata": {},
   "outputs": [],
   "source": [
    "print(response.status_code)"
   ]
  },
  {
   "cell_type": "code",
   "execution_count": null,
   "metadata": {},
   "outputs": [],
   "source": []
  }
 ],
 "metadata": {
  "kernelspec": {
   "display_name": "pht3d",
   "language": "python",
   "name": "python3"
  },
  "language_info": {
   "codemirror_mode": {
    "name": "ipython",
    "version": 3
   },
   "file_extension": ".py",
   "mimetype": "text/x-python",
   "name": "python",
   "nbconvert_exporter": "python",
   "pygments_lexer": "ipython3",
   "version": "3.9.18"
  },
  "orig_nbformat": 4
 },
 "nbformat": 4,
 "nbformat_minor": 2
}
