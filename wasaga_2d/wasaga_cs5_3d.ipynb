{
 "cells": [
  {
   "cell_type": "code",
   "execution_count": 404,
   "metadata": {},
   "outputs": [],
   "source": [
    "\n",
    "# %%\n",
    "# ## Getting Started\n",
    "from pathlib import Path\n",
    "from tempfile import TemporaryDirectory\n",
    "from tempfile import mkdtemp\n",
    "\n",
    "import numpy as np\n",
    "import matplotlib.pyplot as plt\n",
    "import flopy\n",
    "import pandas as pd\n",
    "import shutil\n",
    "import pickle\n",
    "import subprocess\n",
    "import os\n",
    "# %% [markdown]\n",
    "\n",
    "# %%"
   ]
  },
  {
   "cell_type": "code",
   "execution_count": 405,
   "metadata": {},
   "outputs": [],
   "source": [
    "################### Model Parameters   ##############################\n",
    "my_params = {}\n",
    "my_params['name'] = 'test_wasaga_2'\n",
    "## mt3dGcg\n",
    "cclose=my_params['cclose'] = 1e-5\n",
    "## RCT\n",
    "\n",
    "my_params['hk'] = 6.9\n",
    "my_params['vk'] = 0.1\n",
    "\n",
    "my_params['porosity'] = 0.35\n",
    "my_params['sy'] = 0.33\n",
    "my_params['ss'] = 0.0002\n",
    "my_params['la'] = 0.2\n",
    "my_params['trpt'] = 0.1\n",
    "my_params['trpv'] = 0.1\n",
    "my_params['dmcoef'] = 3.7E-10 ####\n",
    "my_params['sconc'] = 0.01\n",
    "\n",
    "#Species ID\n",
    "sp_ID = {}\n",
    "#sp_ID['Cl-'] = 1\n",
    "sp_ID['SRP'] = 1\n",
    "my_params['sp_ID'] = sp_ID\n",
    "\n",
    "#Species Name\n",
    "sp_name = {}\n",
    "#sp_name[1] = 'Cl-'\n",
    "sp_name[1] = 'SRP'\n",
    "my_params['sp_name'] = sp_name\n",
    "\n",
    "\n",
    "## P lens\n",
    "my_params['perlen'] = [1]+[30,92,31,212]*25 +[365]*5+[365*5]*5+[365*4]+[185,30,30,120]\n",
    "\n",
    "\n",
    "## Wel data\n",
    "wel_data = {}\n",
    "#last_wel_id = len(my_params['perlen'])-1\n",
    "for y in range(25):\n",
    "    p = (y)*4 +2\n",
    "    wel_data[p] = [[50,0,15,0.0075]]\n",
    "    p += 1\n",
    "    wel_data[p] = [[50,0,15,0.075]]\n",
    "    p += 1\n",
    "    wel_data[p] = [[50,0,15,0.0075]]\n",
    "    p += 1\n",
    "    wel_data[p] = [[50,0,15,0.0]]\n",
    "    p += 1\n",
    "\n",
    "wel_data[p] = [[50,0,15,0]]\n",
    "my_params['wel_data'] = wel_data\n",
    "\n",
    "\n",
    "# Mt3dSsm \n",
    "ssm_data = {}\n",
    "itype = flopy.mt3d.Mt3dSsm.itype_dict()\n",
    "\n",
    "for y in range(25):\n",
    "    p = (y)*4 +2\n",
    "    ssm_data[p] = [(50, 0, 15, 3000.0, itype['WEL'])]\n",
    "    p += 1\n",
    "    ssm_data[p] = [(50, 0, 15, 3000.0, itype['WEL'])]\n",
    "    p += 1\n",
    "    ssm_data[p] = [(50, 0, 15, 3000.0, itype['WEL'])]\n",
    "    p += 1\n",
    "    ssm_data[p] = [(50, 0, 15, 3000.0, itype['WEL'])]\n",
    "    p += 1\n",
    "ssm_data[p] = [(50, 0, 15, 0.0, itype['WEL'])]\n",
    "my_params['ssm_data'] = ssm_data\n",
    "\n",
    "\n",
    "#Mt3dBtn\n",
    "mixelm=my_params['mixelm'] = 0 # HMOC\n",
    "my_params['isothm'] = 3 # Langmuir\n",
    "my_params['sp1'] = 0.0001 ##  0.1 mg/L  => 1e5 ug/m3\n",
    "my_params['sp2'] = 0.0001  ##  maximum soil adsorption value = 100 ug/g => 1e5 ug/kg\n",
    "\n",
    "# Rch\n",
    "my_params['rech'] = 0.5/365 #0.5/365 ## 500mm/year\n",
    "\n",
    "# dt0\n",
    "my_params['dt0'] = 0.1\n",
    "################################################################\n",
    "\n",
    "base_model_my_params = my_params"
   ]
  },
  {
   "cell_type": "code",
   "execution_count": 406,
   "metadata": {},
   "outputs": [],
   "source": [
    "my_params['sp1'] = 0.0002\n",
    "my_params['la'] = 5\n",
    "my_params['hk'] = 6.9\n",
    "base_model_my_params = my_params.copy()"
   ]
  },
  {
   "cell_type": "code",
   "execution_count": null,
   "metadata": {},
   "outputs": [],
   "source": []
  },
  {
   "cell_type": "code",
   "execution_count": 407,
   "metadata": {},
   "outputs": [],
   "source": [
    "## Wel data\n",
    "wel_data = {}\n",
    "#last_wel_id = len(my_params['perlen'])-1\n",
    "for y in range(25):\n",
    "    p = (y)*4 +2\n",
    "    wel_data[p] = [[50,30,15,0.5]]\n",
    "    p += 1\n",
    "    wel_data[p] = [[50,30,15,0.5]]\n",
    "    p += 1\n",
    "    wel_data[p] = [[50,30,15,0.5]]\n",
    "    p += 1\n",
    "    wel_data[p] = [[50,30,15,0.5]]\n",
    "    p += 1\n",
    "\n",
    "wel_data[p] = [[50,30,15,0]]\n",
    "my_params['wel_data'] = wel_data\n",
    "\n",
    "\n",
    "# Mt3dSsm \n",
    "ssm_data = {}\n",
    "itype = flopy.mt3d.Mt3dSsm.itype_dict()\n",
    "\n",
    "for y in range(25):\n",
    "    p = (y)*4 +2\n",
    "    ssm_data[p] = [(50,30, 15, 3000.0, itype['WEL'])]\n",
    "    p += 1\n",
    "    ssm_data[p] = [(50, 30, 15, 3000.0, itype['WEL'])]\n",
    "    p += 1\n",
    "    ssm_data[p] = [(50, 30, 15, 3000.0, itype['WEL'])]\n",
    "    p += 1\n",
    "    ssm_data[p] = [(50, 30, 15, 3000.0, itype['WEL'])]\n",
    "    p += 1\n",
    "ssm_data[p] = [(50, 30, 15, 0.0, itype['WEL'])]\n",
    "my_params['ssm_data'] = ssm_data\n",
    "\n"
   ]
  },
  {
   "cell_type": "code",
   "execution_count": null,
   "metadata": {},
   "outputs": [],
   "source": []
  },
  {
   "cell_type": "code",
   "execution_count": 408,
   "metadata": {},
   "outputs": [],
   "source": [
    "mytop =np.loadtxt('_imports/top')\n",
    "mybot = np.loadtxt('_imports/bot')\n",
    "myibound = np.loadtxt('_imports/ibound')\n",
    "mystrt = np.loadtxt('_imports/strt')\n",
    "myicbund = np.loadtxt('_imports/icbund')"
   ]
  },
  {
   "cell_type": "code",
   "execution_count": 409,
   "metadata": {},
   "outputs": [],
   "source": [
    "mytop = np.tile(mytop.reshape([74,1,110]),(1,60,1))\n",
    "mybot = np.tile(mybot.reshape([74,1,110]),(1,60,1))\n",
    "myibound= np.tile(myibound.reshape([74,1,110]),(1,60,1))\n",
    "mystrt = np.tile(mystrt.reshape([74,1,110]),(1,60,1))\n",
    "myicbund = np.tile(myicbund.reshape([74,1,110]),(1,60,1))"
   ]
  },
  {
   "cell_type": "code",
   "execution_count": 410,
   "metadata": {},
   "outputs": [],
   "source": [
    "# mytop = np.tile(mytop.reshape([74,1,110]),(1,1,1))\n",
    "# mybot = np.tile(mybot.reshape([74,1,110]),(1,1,1))\n",
    "# myibound= np.tile(myibound.reshape([74,1,110]),(1,1,1))\n",
    "# mystrt = np.tile(mystrt.reshape([74,1,110]),(1,1,1))\n",
    "# myicbund = np.tile(myicbund.reshape([74,1,110]),(1,1,1))"
   ]
  },
  {
   "cell_type": "code",
   "execution_count": null,
   "metadata": {},
   "outputs": [],
   "source": []
  },
  {
   "cell_type": "code",
   "execution_count": null,
   "metadata": {},
   "outputs": [],
   "source": []
  },
  {
   "cell_type": "code",
   "execution_count": null,
   "metadata": {},
   "outputs": [],
   "source": []
  },
  {
   "cell_type": "code",
   "execution_count": 411,
   "metadata": {},
   "outputs": [],
   "source": [
    "# ## Import\n",
    "Lx = 150\n",
    "Lz = 1\n",
    "nlay = 74\n",
    "nrow = 60\n",
    "ncol = 110\n",
    "delr = np.concatenate([np.repeat(2,25),np.repeat(1,70),np.repeat(2,15)])\n",
    "delc = 1.0\n",
    "delv = mytop[:,0] - mybot[:,0]\n"
   ]
  },
  {
   "cell_type": "code",
   "execution_count": 412,
   "metadata": {},
   "outputs": [],
   "source": [
    "# ## Workspace\n",
    "\n",
    "\n",
    "import os\n",
    "from datetime import datetime\n",
    "\n",
    "\n",
    "myt = datetime.now().strftime('%m%d%H%M%S')\n",
    "name = 'wasaga'\n",
    "#name =my_params['name']\n",
    "temp_dir = mkdtemp(prefix='_T{}_{}_'.format(myt,name))\n",
    "workspace = temp_dir\n",
    "os.makedirs(Path(workspace) / '_output')\n",
    "swt = flopy.seawat.Seawat(name, exe_name=\"swtv4\", model_ws=workspace)"
   ]
  },
  {
   "cell_type": "code",
   "execution_count": 413,
   "metadata": {},
   "outputs": [],
   "source": [
    "\n",
    "\n",
    "##\n",
    "\n",
    "import os\n",
    "import platform\n",
    "import subprocess\n",
    "\n",
    "def open_file(path):\n",
    "    if platform.system() == \"Windows\":\n",
    "        os.startfile(path)\n",
    "    elif platform.system() == \"Darwin\":\n",
    "        subprocess.Popen([\"open\", path])\n",
    "    else:\n",
    "        subprocess.Popen([\"xdg-open\", path])\n",
    "\n",
    "open_file(workspace)\n"
   ]
  },
  {
   "cell_type": "code",
   "execution_count": 414,
   "metadata": {},
   "outputs": [],
   "source": [
    "# %%\n",
    "def create_time_table():\n",
    "    time_table = pd.DataFrame()\n",
    "\n",
    "    perlen = pd.Series(my_params['perlen'])\n",
    "    perlen.index = perlen.index+1\n",
    "\n",
    "    time_table['perlen'] = perlen\n",
    "    time_table['Time'] = time_table['perlen'].cumsum()\n",
    "\n",
    "    #time_table = pd.DataFrame()\n",
    "    for key,value in wel_data.items():\n",
    "        key\n",
    "        time_table.loc[key,'wel_data'] = value[0][3]\n",
    "\n",
    "    #time_table = pd.DataFrame()\n",
    "    for key,value in ssm_data.items():\n",
    "        key\n",
    "        time_table.loc[key,'ssm'] = value[0][3]\n",
    "    return time_table\n"
   ]
  },
  {
   "cell_type": "code",
   "execution_count": 415,
   "metadata": {},
   "outputs": [],
   "source": [
    "\n",
    "# ## DIS\n",
    "\n",
    "# %%\n",
    "ipakcb = 53\n",
    "\n",
    "# %%\n",
    "\n",
    "perlen = my_params['perlen']\n",
    "nper = len(perlen)\n",
    "nstp = np.repeat(1,nper)\n",
    "steady = np.append(np.array([True]),np.repeat(False,nper-1))\n",
    "\n",
    "\n",
    "\n",
    "# %%\n",
    "dis = flopy.modflow.ModflowDis(\n",
    "    swt,\n",
    "    nlay,\n",
    "    nrow,\n",
    "    ncol,\n",
    "    nper=nper,\n",
    "    delr=delr,\n",
    "    delc=delc,\n",
    "    laycbd=0,\n",
    "    top=182.2,\n",
    "    botm=mybot,\n",
    "    perlen=perlen,\n",
    "    nstp=nstp, #Number of time steps in each stress period\n",
    "    steady = steady\n",
    ")"
   ]
  },
  {
   "cell_type": "code",
   "execution_count": 416,
   "metadata": {},
   "outputs": [],
   "source": [
    "\n",
    "bas = flopy.modflow.ModflowBas(swt, myibound, mystrt)\n",
    "\n",
    "\n",
    "lpf = flopy.modflow.ModflowLpf(swt, hk=my_params['hk'], vka=my_params['vk'],\n",
    "                            ss= my_params['ss'],sy=my_params['sy'],\n",
    "                            ipakcb=ipakcb,laytyp=1)\n",
    "\n",
    "pcg = flopy.modflow.ModflowPcg(swt, hclose=1e-4)\n"
   ]
  },
  {
   "cell_type": "code",
   "execution_count": 419,
   "metadata": {},
   "outputs": [
    {
     "name": "stdout",
     "output_type": "stream",
     "text": [
      "found 'rch' in modflow model, resetting crch to 0.0\n"
     ]
    }
   ],
   "source": [
    "\n",
    "\n",
    "stress_period_data = {}\n",
    "for kper in range(nper):\n",
    "    for kstp in range(nstp[kper]):\n",
    "        stress_period_data[(kper, kstp)] = [\n",
    "            \"save head\",\n",
    "            \"save drawdown\",\n",
    "            \"save budget\",\n",
    "            \"print head\",\n",
    "            \"print budget\",\n",
    "        ]\n",
    "\n",
    "# OC - Output Control Option\n",
    "oc = flopy.modflow.ModflowOc(\n",
    "    swt,\n",
    "    stress_period_data= stress_period_data,\n",
    "    compact=True,\n",
    ")\n",
    "\n",
    "# ## Well\n",
    "\n",
    "wel_data = my_params['wel_data']\n",
    "wel = flopy.modflow.ModflowWel(swt, stress_period_data=wel_data, ipakcb=ipakcb)\n",
    "\n",
    "# ModflowRch\n",
    "\n",
    "rch = flopy.modflow.ModflowRch(model = swt, rech = my_params['rech'])\n",
    "\n",
    "# ## SSM\n",
    "ssm_data = my_params['ssm_data']\n",
    "\n",
    "\n",
    "# ## BTN\n",
    "\n",
    "#timprs = my_params['perlen'][:5]*5 +np.arange(365,np.sum(my_params['perlen']),5*355).tolist()\n",
    "timprs = np.cumsum(my_params['perlen'])\n",
    "timprs = [1]\n",
    "\n",
    "\n",
    "\n",
    "\n",
    "btn = flopy.mt3d.Mt3dBtn(\n",
    "    swt,\n",
    "    nprs=len(timprs),\n",
    "    timprs=timprs,\n",
    "    prsity=my_params['porosity'],\n",
    "    sconc=my_params['sconc'], # starting concentration\n",
    "    ifmtcn=0,\n",
    "    chkmas=False,\n",
    "    nprobs=10,\n",
    "    nprmas=10,\n",
    "    dt0=my_params['dt0'],  # The user-specified initial transport step size\n",
    "    ttsmult=1.1,\n",
    "    mxstrn = 50000,\n",
    "    icbund = myicbund\n",
    ")\n",
    "adv = flopy.mt3d.Mt3dAdv(swt, mixelm=my_params['mixelm'],percel=0.4,mxpart=200000,nadvfd=0)\n",
    "dsp = flopy.mt3d.Mt3dDsp(swt, al=my_params['la'], trpt=my_params['trpt'], \n",
    "                        trpv=my_params['trpv'], \n",
    "                        dmcoef=my_params['dmcoef'])\n",
    "gcg = flopy.mt3d.Mt3dGcg(swt, iter1=50, mxiter=1, isolve=2, cclose=my_params['cclose'])\n",
    "ssm = flopy.mt3d.Mt3dSsm(swt, stress_period_data=ssm_data)\n",
    "\n",
    "# %% [markdown]\n",
    "# ## RCT\n",
    "\n",
    "# %%\n",
    "rct = flopy.mt3d.Mt3dRct(model=swt, isothm=my_params['isothm'],sp1=my_params['sp1'],sp2=my_params['sp2'],igetsc=0,rhob= 1.65E+09)\n",
    "\n",
    "\n",
    "\n",
    "\n",
    "\n",
    "# %%\n",
    "#Pht3d\n",
    "#phc = flopy.mt3d.Mt3dPhc(swt,mine=[1],ie=[1],surf=[1],mobkin=[1],minkin=[1],surfkin=[1],imobkin=[1])\n",
    "#phc.write_file()\n",
    "\n",
    "# %% [markdown]\n",
    "# # Write File"
   ]
  },
  {
   "cell_type": "code",
   "execution_count": null,
   "metadata": {},
   "outputs": [],
   "source": []
  },
  {
   "cell_type": "code",
   "execution_count": 420,
   "metadata": {},
   "outputs": [],
   "source": [
    "\n",
    "\n",
    "# %%\n",
    "swt.write_input()\n",
    "\n",
    "# %%\n",
    "\n",
    "\n",
    "# %% [markdown]\n",
    "# ## ################   Run      ########################\n",
    "\n",
    "# %%\n",
    "\n",
    "success, buff = swt.run_model(silent=False, report=True)\n",
    "assert success, \"SEAWAT did not terminate normally.\"\n",
    "\n",
    "# %%  dump\n",
    "swt.my_params = my_params\n",
    "swt.delv =  delv\n",
    "swt.delr = delr\n",
    "pickle.dump( swt, open( Path(workspace) / '_output' / 'model.pickle',\"wb\" ) )\n",
    "\n",
    "# %%\n",
    "\n",
    "\n",
    "# %% [markdown]\n",
    "# # Summarize Parameters\n",
    "\n",
    "# %%\n",
    "\n",
    "def plot_my_params():\n",
    "\n",
    "    time_table = create_time_table()\n",
    "\n",
    "    fig,ax = plt.subplots(figsize=(8,5))\n",
    "\n",
    "    xs = time_table['Time']\n",
    "    ax.scatter(xs,np.repeat(10,len(xs)),s=200,marker='|')\n",
    "    ax.annotate('Stress Period:   {}'.format([n for n in time_table['perlen'].dropna().unique()]),(0,10.2))\n",
    "\n",
    "\n",
    "    mask = time_table['wel_data'].isna()\n",
    "    xs = time_table[~mask]['Time']\n",
    "    ax.scatter(xs,np.repeat(9,len(xs)),s=200,marker='|',c=time_table[~mask]['wel_data'],cmap='coolwarm_r')\n",
    "    ax.annotate('Well Input:   {}'.format([n for n in time_table['wel_data'].dropna().unique()]),(0,9.2))\n",
    "\n",
    "\n",
    "    mask = time_table['ssm'].isna()\n",
    "    xs = time_table[~mask]['Time']\n",
    "    ax.scatter(xs,np.repeat(8,len(xs)),s=200,marker='|',c=time_table[~mask]['ssm'],cmap='coolwarm_r')\n",
    "    ax.annotate('Input Concentration:   {}'.format([n for n in time_table['ssm'].dropna().unique()]),(0,8.2))\n",
    "\n",
    "\n",
    "    ax.annotate('Aquifer:',(11000,9.2),weight=\"bold\")\n",
    "    ax.annotate(('hk={0:.3g} '.format(my_params['hk']) + 'vk={0:.3g}'.format(my_params['vk'])),(11000,9))\n",
    "    ax.annotate('ss= {} sy={}'.format(my_params['ss'],my_params['sy']),(11000,8.8))\n",
    "    ax.annotate('porosity={}'.format(my_params['porosity']),(11000,8.6))\n",
    "\n",
    "    ax.annotate('Dispersion:',(16400,9.2),weight=\"bold\")\n",
    "    ax.annotate('la={}, trpt={}, trpv={}'.format(my_params['la'],my_params['trpt'],my_params['trpv']),(16400,9))\n",
    "\n",
    "\n",
    "    ax.annotate('Advection:',(16400,8.7),weight=\"bold\")\n",
    "    d = {0:'FDM',3:'HMOC'}\n",
    "    ax.annotate('Solution: {}'.format(d[my_params['mixelm']]),(16400,8.5))\n",
    "\n",
    "\n",
    "    ax.annotate('Sorption:',(11000,8.3),weight=\"bold\")\n",
    "    d = {0:'No Sorption',1:'Linear',3:'Langmuir'}\n",
    "    ax.annotate('{},'.format(d[my_params['isothm']]),(11000,8.1))\n",
    "    if my_params['isothm']==1:\n",
    "        ax.annotate('sp1={}'.format(my_params['sp1']),(11000,7.9))\n",
    "        \n",
    "    elif my_params['isothm']==3:\n",
    "        ax.annotate('sp1={}'.format(my_params['sp1']),(11000,7.9))\n",
    "        ax.annotate('sp2={}'.format(my_params['sp2']),(11000,7.7))\n",
    "        \n",
    "\n",
    "\n",
    "    ax.annotate('Recharge:',(16400,8.3),weight=\"bold\")\n",
    "    #d = {0:'No Sorption',1:'Linear'}\n",
    "    ax.annotate('{0:.3g}'.format(my_params['rech']),(16000,8.1))\n",
    "\n",
    "\n",
    "    ax.annotate('{}'.format(os.path.basename(os.path.normpath(workspace))),(200,7.3),weight=\"bold\")\n",
    "\n",
    "    ax.axes.get_yaxis().set_visible(False)\n",
    "    plt.ylim(7,10.5)\n",
    "    plt.xlim(-1000,65*365)\n",
    "    plt.tight_layout()\n",
    "    plt.savefig(Path(workspace) /'_output/_my_params.png')\n",
    "\n",
    "\n",
    "## Run\n",
    "plot_my_params()\n",
    "\n",
    "\n",
    "# %% [markdown]\n",
    "# ## JSON\n",
    "# %%\n",
    "import json\n",
    "\n",
    "with open(Path(workspace) /'_output/my_params.json', 'w') as fp:\n",
    "    json.dump(my_params,fp)\n",
    "\n",
    "# %%\n",
    "\n",
    "\n",
    "# %% [markdown]\n",
    "# ## Time_Table\n",
    "\n",
    "\n",
    "\n",
    "# %%\n",
    "create_time_table().to_csv(Path(workspace) /'_output/time_table.csv')   \n",
    "shutil.copytree('_imports',Path(workspace)/'_output/_imports',dirs_exist_ok =True)\n",
    "#shutil.copyfile(__file__,Path(workspace) /'_output/{}'.format(os.path.basename(__file__)))\n",
    "\n",
    "\n",
    "\n",
    "# %%\n"
   ]
  },
  {
   "cell_type": "code",
   "execution_count": 398,
   "metadata": {},
   "outputs": [
    {
     "data": {
      "text/plain": [
       "(172.2, 177.0)"
      ]
     },
     "execution_count": 398,
     "metadata": {},
     "output_type": "execute_result"
    },
    {
     "data": {
      "image/png": "[encoded data removed]",
      "text/plain": [
       "<Figure size 1000x500 with 2 Axes>"
      ]
     },
     "metadata": {},
     "output_type": "display_data"
    }
   ],
   "source": [
    "\n",
    "### read data\n",
    "col = int(24)\n",
    "ibound = swt.bas6.ibound.array\n",
    "ucnobj = flopy.utils.binaryfile.UcnFile(Path(workspace)/ 'MT3D001.UCN')\n",
    "\n",
    "times = ucnobj.get_times()\n",
    "\n",
    "    # Read the concentration data from the UCN file\n",
    "    \n",
    "concentration_array = ucnobj.get_data(totim=times[-1])# (time step, stress period)\n",
    "\n",
    "# Mask the inactive cells\n",
    "mask = ((ibound== 0)|(concentration_array>=1e30))\n",
    "masked_conc_data = np.ma.masked_where(mask, concentration_array)\n",
    "\n",
    "### plotting# ##\n",
    "fig = plt.figure(figsize=(15, 4))\n",
    "line = {\"Column\": col}\n",
    "\n",
    "# Create a PlotCrossSection object for the model\n",
    "xsect = flopy.plot.PlotCrossSection(model=swt, line=line)\n",
    "\n",
    "# Plot the concentration results\n",
    "cs = xsect.plot_array(masked_conc_data, cmap='coolwarm', vmin=0.1, vmax=200)\n",
    "plt.colorbar(cs)\n",
    "ibd = xsect.plot_ibound(color_noflow='grey')\n",
    "plt.title('col:{:03}, kper:{:02}'.format(col,kper))\n",
    "plt.gcf().set_size_inches(10,5)\n",
    "plt.ylim(mybot.min(),177)\n",
    "\n",
    "#plt.savefig(Path(workspace)/'_output/conc_{:02}.png'.format(kper))\n",
    "#plt.clf()\n",
    "\n",
    "##--------"
   ]
  },
  {
   "cell_type": "code",
   "execution_count": null,
   "metadata": {},
   "outputs": [],
   "source": []
  },
  {
   "cell_type": "code",
   "execution_count": null,
   "metadata": {},
   "outputs": [],
   "source": []
  },
  {
   "cell_type": "code",
   "execution_count": null,
   "metadata": {},
   "outputs": [],
   "source": []
  },
  {
   "cell_type": "code",
   "execution_count": 400,
   "metadata": {},
   "outputs": [
    {
     "data": {
      "text/plain": [
       "(172.2, 177.0)"
      ]
     },
     "execution_count": 400,
     "metadata": {},
     "output_type": "execute_result"
    },
    {
     "data": {
      "image/png": "[encoded data removed]",
      "text/plain": [
       "<Figure size 1000x500 with 2 Axes>"
      ]
     },
     "metadata": {},
     "output_type": "display_data"
    }
   ],
   "source": [
    "\n",
    "### read data\n",
    "col = int(44)\n",
    "ibound = swt.bas6.ibound.array\n",
    "ucnobj = flopy.utils.binaryfile.UcnFile(Path(workspace)/ 'MT3D001.UCN')\n",
    "\n",
    "times = ucnobj.get_times()\n",
    "\n",
    "    # Read the concentration data from the UCN file\n",
    "    \n",
    "concentration_array = ucnobj.get_data(totim=times[-1])# (time step, stress period)\n",
    "\n",
    "# Mask the inactive cells\n",
    "mask = ((ibound== 0)|(concentration_array>=1e30))\n",
    "masked_conc_data = np.ma.masked_where(mask, concentration_array)\n",
    "\n",
    "### plotting# ##\n",
    "fig = plt.figure(figsize=(15, 4))\n",
    "line = {\"Column\": col}\n",
    "\n",
    "# Create a PlotCrossSection object for the model\n",
    "xsect = flopy.plot.PlotCrossSection(model=swt, line=line)\n",
    "\n",
    "# Plot the concentration results\n",
    "cs = xsect.plot_array(masked_conc_data, cmap='coolwarm', vmin=0.1, vmax=200)\n",
    "plt.colorbar(cs)\n",
    "ibd = xsect.plot_ibound(color_noflow='grey')\n",
    "plt.title('col:{:03}, kper:{:02}'.format(col,kper))\n",
    "plt.gcf().set_size_inches(10,5)\n",
    "plt.ylim(mybot.min(),177)\n",
    "\n",
    "#plt.savefig(Path(workspace)/'_output/conc_{:02}.png'.format(kper))\n",
    "#plt.clf()\n",
    "\n",
    "##--------"
   ]
  },
  {
   "cell_type": "code",
   "execution_count": 403,
   "metadata": {},
   "outputs": [
    {
     "data": {
      "text/plain": [
       "(172.2, 177.0)"
      ]
     },
     "execution_count": 403,
     "metadata": {},
     "output_type": "execute_result"
    },
    {
     "data": {
      "image/png": "[encoded data removed]",
      "text/plain": [
       "<Figure size 1000x500 with 2 Axes>"
      ]
     },
     "metadata": {},
     "output_type": "display_data"
    }
   ],
   "source": [
    "\n",
    "### read data\n",
    "col = int(64)\n",
    "ibound = swt.bas6.ibound.array\n",
    "ucnobj = flopy.utils.binaryfile.UcnFile(Path(workspace)/ 'MT3D001.UCN')\n",
    "\n",
    "times = ucnobj.get_times()\n",
    "\n",
    "    # Read the concentration data from the UCN file\n",
    "    \n",
    "concentration_array = ucnobj.get_data(totim=times[-1])# (time step, stress period)\n",
    "\n",
    "# Mask the inactive cells\n",
    "mask = ((ibound== 0)|(concentration_array>=1e30))\n",
    "masked_conc_data = np.ma.masked_where(mask, concentration_array)\n",
    "\n",
    "### plotting# ##\n",
    "fig = plt.figure(figsize=(15, 4))\n",
    "line = {\"Column\": col}\n",
    "\n",
    "# Create a PlotCrossSection object for the model\n",
    "xsect = flopy.plot.PlotCrossSection(model=swt, line=line)\n",
    "\n",
    "# Plot the concentration results\n",
    "cs = xsect.plot_array(masked_conc_data, cmap='coolwarm', vmin=0.1, vmax=200)\n",
    "plt.colorbar(cs)\n",
    "ibd = xsect.plot_ibound(color_noflow='grey')\n",
    "plt.title('col:{:03}, kper:{:02}'.format(col,kper))\n",
    "plt.gcf().set_size_inches(10,5)\n",
    "plt.ylim(mybot.min(),177)\n",
    "\n",
    "#plt.savefig(Path(workspace)/'_output/conc_{:02}.png'.format(kper))\n",
    "#plt.clf()\n",
    "\n",
    "##--------"
   ]
  },
  {
   "cell_type": "code",
   "execution_count": null,
   "metadata": {},
   "outputs": [],
   "source": []
  },
  {
   "cell_type": "code",
   "execution_count": null,
   "metadata": {},
   "outputs": [],
   "source": []
  },
  {
   "cell_type": "code",
   "execution_count": null,
   "metadata": {},
   "outputs": [],
   "source": []
  },
  {
   "cell_type": "code",
   "execution_count": 381,
   "metadata": {},
   "outputs": [
    {
     "data": {
      "text/plain": [
       "Text(0.5, 1.0, 'col:050, kper:115')"
      ]
     },
     "execution_count": 381,
     "metadata": {},
     "output_type": "execute_result"
    },
    {
     "data": {
      "image/png": "[encoded data removed]",
      "text/plain": [
       "<Figure size 1500x400 with 2 Axes>"
      ]
     },
     "metadata": {},
     "output_type": "display_data"
    }
   ],
   "source": [
    "### read data\n",
    "row = int(10)\n",
    "ibound = swt.bas6.ibound.array\n",
    "ucnobj = flopy.utils.binaryfile.UcnFile(Path(workspace)/ 'MT3D001.UCN')\n",
    "\n",
    "    # Read the concentration data from the UCN file\n",
    "    \n",
    "concentration_array = ucnobj.get_data(totim=times[-1])# (time step, stress period)\n",
    "\n",
    "# Mask the inactive cells\n",
    "mask = ((ibound== 0)|(concentration_array>=1e30))\n",
    "masked_conc_data = np.ma.masked_where(mask, concentration_array)\n",
    "\n",
    "### plotting# ##\n",
    "fig = plt.figure(figsize=(15, 4))\n",
    "line = {\"Row\": row}\n",
    "\n",
    "# Create a PlotCrossSection object for the model\n",
    "xsect = flopy.plot.PlotCrossSection(model=swt, line=line)\n",
    "\n",
    "# Plot the concentration results\n",
    "cs = xsect.plot_array(masked_conc_data, cmap='coolwarm', vmin=0.1, vmax=200)\n",
    "plt.colorbar(cs)\n",
    "ibd = xsect.plot_ibound(color_noflow='grey')\n",
    "plt.title('col:{:03}, kper:{:02}'.format(col,kper))\n",
    "\n",
    "#plt.savefig(Path(workspace)/'_output/conc_{:02}.png'.format(kper))\n",
    "#plt.clf()\n",
    "\n",
    "##--------"
   ]
  },
  {
   "cell_type": "code",
   "execution_count": null,
   "metadata": {},
   "outputs": [],
   "source": []
  },
  {
   "cell_type": "code",
   "execution_count": null,
   "metadata": {},
   "outputs": [],
   "source": []
  },
  {
   "cell_type": "code",
   "execution_count": 391,
   "metadata": {},
   "outputs": [
    {
     "data": {
      "text/plain": [
       "140"
      ]
     },
     "execution_count": 391,
     "metadata": {},
     "output_type": "execute_result"
    }
   ],
   "source": [
    "find_closest_value = lambda target_value: min(delr.cumsum(), key=lambda x: abs(target_value- x))\n",
    "find_closest_value(140)"
   ]
  },
  {
   "cell_type": "code",
   "execution_count": 375,
   "metadata": {},
   "outputs": [
    {
     "data": {
      "image/png": "[encoded data removed]",
      "text/plain": [
       "<Figure size 1500x800 with 2 Axes>"
      ]
     },
     "metadata": {},
     "output_type": "display_data"
    }
   ],
   "source": [
    "ucnobj = flopy.utils.binaryfile.UcnFile(Path(workspace) / 'MT3D001.UCN')\n",
    "times = ucnobj.get_times()\n",
    "conc = ucnobj.get_data(totim=times[-1])  # get the concentration data for the last time step\n",
    "conc[np.where(conc==1e30)] = 0\n",
    "conc_sum = np.sum(conc, axis=0)\n",
    "mapview = flopy.plot.PlotMapView(model=swt)\n",
    "fig = mapview.plot_array(conc_sum,cmap='coolwarm')\n",
    "plt.gcf().set_size_inches(15,8)\n",
    "plt.colorbar(fig,orientation='horizontal')\n",
    "plt.title('SRP (sum of all layers)')\n",
    "plt.show()\n"
   ]
  },
  {
   "cell_type": "code",
   "execution_count": null,
   "metadata": {},
   "outputs": [],
   "source": []
  },
  {
   "cell_type": "code",
   "execution_count": null,
   "metadata": {},
   "outputs": [],
   "source": []
  },
  {
   "cell_type": "code",
   "execution_count": null,
   "metadata": {},
   "outputs": [],
   "source": []
  },
  {
   "cell_type": "code",
   "execution_count": null,
   "metadata": {},
   "outputs": [],
   "source": []
  },
  {
   "cell_type": "code",
   "execution_count": null,
   "metadata": {},
   "outputs": [],
   "source": []
  },
  {
   "cell_type": "code",
   "execution_count": 71,
   "metadata": {},
   "outputs": [],
   "source": [
    "\n",
    "def execute_wasaga_draw(ws):\n",
    "    # Define the path to the script and its folder\n",
    "    script_path = Path(ws) / \"wasaga_draw.py\"\n",
    "    #script_path = os.path.join(\"workspace\", \"wasaga_draw.py\")\n",
    "    script_folder = os.path.dirname(script_path)\n",
    "\n",
    "    # Save the current working directory\n",
    "    original_dir = os.getcwd()\n",
    "\n",
    "    try:\n",
    "        # Change the working directory to the script's folder\n",
    "        os.chdir(script_folder)\n",
    "\n",
    "        # Define the command to execute the script\n",
    "        command = [\"python\", script_path]\n",
    "\n",
    "        # Execute the command and capture the output\n",
    "        output = subprocess.check_output(command, universal_newlines=True)\n",
    "        print(\"Script executed successfully.\")\n",
    "        print(\"Output:\")\n",
    "        print(output)\n",
    "    except subprocess.CalledProcessError as e:\n",
    "        print(\"Error executing the script:\")\n",
    "        print(e)\n",
    "    finally:\n",
    "        # Change the working directory back to the original\n",
    "        os.chdir(original_dir)\n"
   ]
  },
  {
   "cell_type": "code",
   "execution_count": null,
   "metadata": {},
   "outputs": [],
   "source": []
  },
  {
   "cell_type": "code",
   "execution_count": null,
   "metadata": {},
   "outputs": [],
   "source": []
  },
  {
   "cell_type": "code",
   "execution_count": null,
   "metadata": {},
   "outputs": [],
   "source": []
  },
  {
   "cell_type": "code",
   "execution_count": 72,
   "metadata": {},
   "outputs": [
    {
     "name": "stdout",
     "output_type": "stream",
     "text": [
      "Error executing the script:\n",
      "Command '['python', PosixPath('/var/folders/hy/v14_l_r91tl2w5s9xfm9p2kc0000gn/T/_T1220000443_wasaga_q991__i3/wasaga_draw.py')]' returned non-zero exit status 1.\n"
     ]
    },
    {
     "name": "stderr",
     "output_type": "stream",
     "text": [
      "Traceback (most recent call last):\n",
      "  File \"/var/folders/hy/v14_l_r91tl2w5s9xfm9p2kc0000gn/T/_T1220000443_wasaga_q991__i3/wasaga_draw.py\", line 332, in <module>\n",
      "    draw_all_hds(workspace,name,model)\n",
      "  File \"/var/folders/hy/v14_l_r91tl2w5s9xfm9p2kc0000gn/T/_T1220000443_wasaga_q991__i3/wasaga_draw.py\", line 72, in draw_all_hds\n",
      "    topo = pmv.plot_array(topo_mask, cmap='Greys_r',masked_values=[-1],alpha=0.2)\n",
      "           ^^^^^^^^^^^^^^^^^^^^^^^^^^^^^^^^^^^^^^^^^^^^^^^^^^^^^^^^^^^^^^^^^^^^^^\n",
      "  File \"/Users/b/miniforge3/envs/pht3d/lib/python3.11/site-packages/flopy/plot/crosssection.py\", line 399, in plot_array\n",
      "    pc = self.get_grid_patch_collection(a, projpts, **kwargs)\n",
      "         ^^^^^^^^^^^^^^^^^^^^^^^^^^^^^^^^^^^^^^^^^^^^^^^^^^^^\n",
      "  File \"/Users/b/miniforge3/envs/pht3d/lib/python3.11/site-packages/flopy/plot/crosssection.py\", line 1531, in get_grid_patch_collection\n",
      "    if np.isnan(plotarray[cell]):\n",
      "                ~~~~~~~~~^^^^^^\n",
      "  File \"/Users/b/miniforge3/envs/pht3d/lib/python3.11/site-packages/numpy/ma/core.py\", line 3216, in __getitem__\n",
      "    dout = self.data[indx]\n",
      "           ~~~~~~~~~^^^^^^\n",
      "IndexError: index 8800 is out of bounds for axis 0 with size 8140\n"
     ]
    }
   ],
   "source": [
    "shutil.copy('wasaga_draw.py',Path(workspace) / 'wasaga_draw.py')\n",
    "execute_wasaga_draw(ws = workspace)"
   ]
  },
  {
   "cell_type": "code",
   "execution_count": null,
   "metadata": {},
   "outputs": [],
   "source": []
  },
  {
   "cell_type": "code",
   "execution_count": null,
   "metadata": {},
   "outputs": [],
   "source": []
  },
  {
   "cell_type": "code",
   "execution_count": null,
   "metadata": {},
   "outputs": [],
   "source": []
  },
  {
   "cell_type": "code",
   "execution_count": null,
   "metadata": {},
   "outputs": [],
   "source": [
    "\n",
    "\n",
    "\n",
    "# %%\n",
    "\n",
    "\n",
    "if (__name__ == '__main__'):\n",
    "    ################### Model Parameters  #########################\n",
    "\n",
    "\n",
    "\n",
    "\n",
    "def execute_wasaga_draw(ws):\n",
    "    # Define the path to the script and its folder\n",
    "    script_path = Path(ws) / \"wasaga_draw.py\"\n",
    "    #script_path = os.path.join(\"workspace\", \"wasaga_draw.py\")\n",
    "    script_folder = os.path.dirname(script_path)\n",
    "\n",
    "    # Save the current working directory\n",
    "    original_dir = os.getcwd()\n",
    "\n",
    "    try:\n",
    "        # Change the working directory to the script's folder\n",
    "        os.chdir(script_folder)\n",
    "\n",
    "        # Define the command to execute the script\n",
    "        command = [\"python\", script_path]\n",
    "\n",
    "        # Execute the command and capture the output\n",
    "        output = subprocess.check_output(command, universal_newlines=True)\n",
    "        print(\"Script executed successfully.\")\n",
    "        print(\"Output:\")\n",
    "        print(output)\n",
    "    except subprocess.CalledProcessError as e:\n",
    "        print(\"Error executing the script:\")\n",
    "        print(e)\n",
    "    finally:\n",
    "        # Change the working directory back to the original\n",
    "        os.chdir(original_dir)\n",
    "\n",
    "\n",
    "# %%\n",
    "if (__name__ == '__main__'):\n",
    "\n",
    "    \n",
    "    run_wasaga(my_params)"
   ]
  },
  {
   "cell_type": "code",
   "execution_count": null,
   "metadata": {},
   "outputs": [],
   "source": []
  },
  {
   "cell_type": "code",
   "execution_count": null,
   "metadata": {},
   "outputs": [],
   "source": []
  },
  {
   "cell_type": "code",
   "execution_count": null,
   "metadata": {},
   "outputs": [],
   "source": []
  },
  {
   "cell_type": "code",
   "execution_count": null,
   "metadata": {},
   "outputs": [],
   "source": []
  }
 ],
 "metadata": {
  "kernelspec": {
   "display_name": "pht3d",
   "language": "python",
   "name": "python3"
  },
  "language_info": {
   "codemirror_mode": {
    "name": "ipython",
    "version": 3
   },
   "file_extension": ".py",
   "mimetype": "text/x-python",
   "name": "python",
   "nbconvert_exporter": "python",
   "pygments_lexer": "ipython3",
   "version": "3.11.3"
  }
 },
 "nbformat": 4,
 "nbformat_minor": 2
}
