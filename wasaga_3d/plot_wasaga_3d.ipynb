{
 "cells": [
  {
   "cell_type": "code",
   "execution_count": 1,
   "metadata": {},
   "outputs": [],
   "source": [
    "import flopy\n",
    "import numpy as np\n",
    "import matplotlib.pyplot as plt\n",
    "import shutil\n",
    "from pathlib import Path\n",
    "\n",
    "\n",
    "from datetime import datetime\n",
    "from tempfile import TemporaryDirectory\n",
    "from tempfile import mkdtemp\n",
    "\n",
    "import os\n",
    "import platform\n",
    "import subprocess\n",
    "#from shapely.geometry import Polygon, Point\n",
    "#from scipy.interpolate import make_interp_spline"
   ]
  },
  {
   "cell_type": "code",
   "execution_count": null,
   "metadata": {},
   "outputs": [],
   "source": []
  },
  {
   "cell_type": "code",
   "execution_count": 2,
   "metadata": {},
   "outputs": [],
   "source": [
    "def open_file(path):\n",
    "    if platform.system() == \"Windows\":\n",
    "        os.startfile(path)\n",
    "    elif platform.system() == \"Darwin\":\n",
    "        subprocess.Popen([\"open\", path])\n",
    "    else:\n",
    "        subprocess.Popen([\"xdg-open\", path])"
   ]
  },
  {
   "cell_type": "code",
   "execution_count": null,
   "metadata": {},
   "outputs": [],
   "source": []
  },
  {
   "cell_type": "code",
   "execution_count": null,
   "metadata": {},
   "outputs": [],
   "source": []
  },
  {
   "cell_type": "code",
   "execution_count": null,
   "metadata": {},
   "outputs": [],
   "source": []
  },
  {
   "cell_type": "markdown",
   "metadata": {},
   "source": [
    "# Plot Results"
   ]
  },
  {
   "cell_type": "markdown",
   "metadata": {},
   "source": []
  },
  {
   "cell_type": "code",
   "execution_count": null,
   "metadata": {},
   "outputs": [],
   "source": [
    "model_ws = \"C:\\\\Users\\\\swan47\\\\AppData\\\\Local\\\\Temp\\\\_T1027115022_wasaga_c96bgfib\" # HMOC\n",
    "model = flopy.modflow.Modflow.load('example_model.nam', model_ws=model_ws)"
   ]
  },
  {
   "cell_type": "code",
   "execution_count": null,
   "metadata": {},
   "outputs": [],
   "source": [
    "# FDM 70 years\n",
    "model_ws = 'C:\\\\Users\\\\swan47\\\\AppData\\\\Local\\\\Temp\\\\_T1027155237_wasaga_8w84q7ca' \n",
    "model = flopy.modflow.Modflow.load('example_model.nam', model_ws=model_ws)"
   ]
  },
  {
   "cell_type": "code",
   "execution_count": null,
   "metadata": {},
   "outputs": [],
   "source": [
    "model_ws = 'C:\\\\Users\\\\swan47\\\\AppData\\\\Local\\\\Temp\\\\_T1027151129_wasaga_pzvlih61' ## Heterogeneity , Sigma=2\n",
    "model = flopy.modflow.Modflow.load('example_model.nam', model_ws=model_ws)"
   ]
  },
  {
   "cell_type": "code",
   "execution_count": null,
   "metadata": {},
   "outputs": [],
   "source": [
    "## Heterogeneity , Log Normal Sigma =0.4\n",
    "model_ws = 'C:\\\\Users\\\\swan47\\\\AppData\\\\Local\\\\Temp\\\\_T1027200024_wasaga_4bbtdli5'\n",
    "model = flopy.modflow.Modflow.load('example_model.nam', model_ws=model_ws)"
   ]
  },
  {
   "cell_type": "code",
   "execution_count": null,
   "metadata": {},
   "outputs": [],
   "source": [
    "\n",
    "## Langmuir \n",
    "model_ws = Path('C:/Users/swan47/Documents/Data/_wasaga_regional_local/_T1027204957_wasaga_xiniyo6w_langmuir')\n",
    "model = flopy.modflow.Modflow.load('example_model.nam', model_ws=model_ws)"
   ]
  },
  {
   "cell_type": "code",
   "execution_count": null,
   "metadata": {},
   "outputs": [],
   "source": [
    "\n",
    "\n",
    "model_ws = '/Volumes/WD Green/Data/pmwin_projects/_T1027204957_wasaga_xiniyo6w_langmuir'\n",
    "model = flopy.modflow.Modflow.load('example_model.nam', model_ws=model_ws)"
   ]
  },
  {
   "cell_type": "code",
   "execution_count": null,
   "metadata": {},
   "outputs": [],
   "source": [
    "\n",
    "model_ws = Path('/var/folders/hy/v14_l_r91tl2w5s9xfm9p2kc0000gn/T/_T1027235020_wasaga_722y1j58')\n",
    "model = flopy.modflow.Modflow.load('example_model.nam', model_ws=model_ws)"
   ]
  },
  {
   "cell_type": "code",
   "execution_count": null,
   "metadata": {},
   "outputs": [],
   "source": []
  },
  {
   "cell_type": "code",
   "execution_count": null,
   "metadata": {},
   "outputs": [],
   "source": []
  },
  {
   "cell_type": "markdown",
   "metadata": {},
   "source": [
    "## GW Budget  test"
   ]
  },
  {
   "cell_type": "code",
   "execution_count": null,
   "metadata": {},
   "outputs": [],
   "source": [
    "#T\n",
    "model_ws = Path('C:/Users/swan47/AppData/Local/Temp/_T1113225454_wasaga_4scesssj')\n",
    "model = flopy.modflow.Modflow.load('example_model.nam', model_ws=model_ws)"
   ]
  },
  {
   "cell_type": "code",
   "execution_count": null,
   "metadata": {},
   "outputs": [],
   "source": [
    "model_ws = Path('C:/Users/swan47/AppData/Local/Temp/_T1114011712_wasaga_hhe2cnnr')\n",
    "model = flopy.modflow.Modflow.load('example_model.nam', model_ws=model_ws)"
   ]
  },
  {
   "cell_type": "code",
   "execution_count": null,
   "metadata": {},
   "outputs": [],
   "source": [
    "model_ws = Path('C:/Users/swan47/AppData/Local/Temp/_T1114024022_wasaga__5_pv4rn')\n",
    "model = flopy.modflow.Modflow.load('example_model.nam', model_ws=model_ws)"
   ]
  },
  {
   "cell_type": "code",
   "execution_count": null,
   "metadata": {},
   "outputs": [],
   "source": [
    "model_ws = Path('C:/Users/swan47/AppData/Local/Temp/_T1114164044_wasaga_2cy8k67o') ##70 years\n",
    "model = flopy.modflow.Modflow.load('example_model.nam', model_ws=model_ws)"
   ]
  },
  {
   "cell_type": "code",
   "execution_count": null,
   "metadata": {},
   "outputs": [],
   "source": [
    "model_ws = Path('C:/Users/swan47/AppData/Local/Temp/_T1115164527_wasaga_8g0heui5') ##70 years, updated icbund\n",
    "model = flopy.modflow.Modflow.load('example_model.nam', model_ws=model_ws)"
   ]
  },
  {
   "cell_type": "code",
   "execution_count": null,
   "metadata": {},
   "outputs": [],
   "source": [
    "model_ws"
   ]
  },
  {
   "cell_type": "code",
   "execution_count": null,
   "metadata": {},
   "outputs": [],
   "source": [
    "model_ws = Path('/var/folders/hy/v14_l_r91tl2w5s9xfm9p2kc0000gn/T/_T1125184206_wasaga_0s9zwl7u') ##70 years, updated icbund\n",
    "model = flopy.modflow.Modflow.load('example_model.nam', model_ws=model_ws)"
   ]
  },
  {
   "cell_type": "code",
   "execution_count": null,
   "metadata": {},
   "outputs": [],
   "source": [
    "model_ws =  Path('C:\\\\Users\\\\swan47\\\\AppData\\\\Local\\\\Temp\\\\_T1126155437_wasaga_mcympo81') # new base model\n",
    "model = flopy.modflow.Modflow.load('example_model.nam', model_ws=model_ws)"
   ]
  },
  {
   "cell_type": "code",
   "execution_count": null,
   "metadata": {},
   "outputs": [],
   "source": [
    "\n",
    "model_ws =  Path('C:\\\\Users\\\\swan47\\\\AppData\\\\Local\\\\Temp\\\\_T1126164037_wasaga_wi_39aij') # new fast conditions\n",
    "model = flopy.modflow.Modflow.load('example_model.nam', model_ws=model_ws)"
   ]
  },
  {
   "cell_type": "code",
   "execution_count": null,
   "metadata": {},
   "outputs": [],
   "source": [
    "\n",
    "model_ws =  Path('C:\\\\Users\\\\swan47\\\\AppData\\\\Local\\\\Temp\\\\_T1126173234_wasaga_2r9_cyma') # new slower conditions\n",
    "model = flopy.modflow.Modflow.load('example_model.nam', model_ws=model_ws)"
   ]
  },
  {
   "cell_type": "code",
   "execution_count": null,
   "metadata": {},
   "outputs": [],
   "source": [
    "model_ws =  Path('C:\\\\Users\\\\swan47\\\\AppData\\\\Local\\\\Temp\\\\_T1126174811_wasaga_gcs_jye6') # new fast conditions 500 years\n",
    "model = flopy.modflow.Modflow.load('example_model.nam', model_ws=model_ws)\n"
   ]
  },
  {
   "cell_type": "code",
   "execution_count": null,
   "metadata": {},
   "outputs": [],
   "source": [
    "model_ws = Path('/var/folders/hy/v14_l_r91tl2w5s9xfm9p2kc0000gn/T/_T1126231349_wasaga_i_3l1xt3') ## faster condition with lower dispersivity\n",
    "model = flopy.modflow.Modflow.load('example_model.nam', model_ws=model_ws)"
   ]
  },
  {
   "cell_type": "code",
   "execution_count": null,
   "metadata": {},
   "outputs": [],
   "source": []
  },
  {
   "cell_type": "code",
   "execution_count": null,
   "metadata": {},
   "outputs": [],
   "source": [
    "\n",
    "model_ws =  Path('/var/folders/hy/v14_l_r91tl2w5s9xfm9p2kc0000gn/T/_T1127092500_wasaga_6w77qvj_') # even faster conditions\n",
    "model = flopy.modflow.Modflow.load('example_model.nam', model_ws=model_ws)"
   ]
  },
  {
   "cell_type": "code",
   "execution_count": null,
   "metadata": {},
   "outputs": [],
   "source": []
  },
  {
   "cell_type": "markdown",
   "metadata": {},
   "source": [
    "## Comfort Station"
   ]
  },
  {
   "cell_type": "code",
   "execution_count": null,
   "metadata": {},
   "outputs": [],
   "source": [
    "\n",
    "model_ws =  Path('C:\\\\Users\\\\swan47\\\\AppData\\\\Local\\\\Temp\\\\_T1207162357_wasaga_o5u9s4y2') # old base condition, comfort station\n",
    "model = flopy.modflow.Modflow.load('example_model.nam', model_ws=model_ws)"
   ]
  },
  {
   "cell_type": "code",
   "execution_count": 3,
   "metadata": {},
   "outputs": [],
   "source": [
    "\n",
    "model_ws =  Path('C:\\\\Users\\\\swan47\\\\AppData\\\\Local\\\\Temp\\\\_T1207175420_wasaga_5n5avyuh') # new base condition, comfort station,  no nearshore drain\n",
    "model = flopy.modflow.Modflow.load('example_model.nam', model_ws=model_ws)"
   ]
  },
  {
   "cell_type": "code",
   "execution_count": null,
   "metadata": {},
   "outputs": [],
   "source": []
  },
  {
   "cell_type": "code",
   "execution_count": null,
   "metadata": {},
   "outputs": [],
   "source": [
    "model_ws =  Path('C:\\\\Users\\\\swan47\\\\AppData\\\\Local\\\\Temp\\\\_T1207191219_wasaga_f80k7t8f') # new base condition, comfort station at 1250m,  no nearshore drain\n",
    "model = flopy.modflow.Modflow.load('example_model.nam', model_ws=model_ws)"
   ]
  },
  {
   "cell_type": "code",
   "execution_count": null,
   "metadata": {},
   "outputs": [],
   "source": [
    "model_ws =  Path('C:\\\\Users\\\\swan47\\\\AppData\\\\Local\\\\Temp\\\\_T1208152949_wasaga_zok1vxe8') # new base condition, comfort station at 1250m,  no nearshore drain, 500 years\n",
    "model = flopy.modflow.Modflow.load('example_model.nam', model_ws=model_ws)"
   ]
  },
  {
   "cell_type": "code",
   "execution_count": null,
   "metadata": {},
   "outputs": [],
   "source": []
  },
  {
   "cell_type": "code",
   "execution_count": 4,
   "metadata": {},
   "outputs": [],
   "source": [
    "model_ws =  Path('C:\\\\Users\\\\swan47\\\\AppData\\\\Local\\\\Temp\\\\_T1208174955_wasaga_rie7u9w2') # new base condition, comfort station at 1250m,  no nearshore drain, 500 years\n",
    "model = flopy.modflow.Modflow.load('example_model.nam', model_ws=model_ws)"
   ]
  },
  {
   "cell_type": "code",
   "execution_count": 10,
   "metadata": {},
   "outputs": [],
   "source": [
    "model_ws =  Path('C:\\\\Users\\\\swan47\\\\AppData\\\\Local\\\\Temp\\\\_T1213133434_wasaga_a4inkdh2') # new base condition, comfort station at 1250m,  with drain, 10 year , fine grid\n",
    "model = flopy.modflow.Modflow.load('example_model.nam', model_ws=model_ws)\n",
    "\n"
   ]
  },
  {
   "cell_type": "code",
   "execution_count": 15,
   "metadata": {},
   "outputs": [],
   "source": [
    "\n",
    "model_ws =  Path('C:\\\\Users\\\\swan47\\\\AppData\\\\Local\\\\Temp\\\\_T1213141439_wasaga_kd0ajh1w') # new base condition, comfort station 70m from beach,  with drain, 10 year , fine grid\n",
    "model = flopy.modflow.Modflow.load('example_model.nam', model_ws=model_ws)\n",
    "\n"
   ]
  },
  {
   "cell_type": "markdown",
   "metadata": {},
   "source": [
    "# DIS"
   ]
  },
  {
   "cell_type": "code",
   "execution_count": 16,
   "metadata": {},
   "outputs": [],
   "source": [
    "dis = model.dis\n",
    "nrow = dis.nrow\n",
    "ncol = dis.ncol\n",
    "nlay = dis.nlay\n",
    "\n",
    "\n",
    "delr = 2200/nrow\n",
    "delc = 2200/ncol\n",
    "layer_thickness = 30/nlay\n",
    "nper = model.dis.nper"
   ]
  },
  {
   "cell_type": "code",
   "execution_count": null,
   "metadata": {},
   "outputs": [],
   "source": []
  },
  {
   "cell_type": "code",
   "execution_count": null,
   "metadata": {},
   "outputs": [],
   "source": []
  },
  {
   "cell_type": "markdown",
   "metadata": {},
   "source": [
    "# Cross-section"
   ]
  },
  {
   "cell_type": "code",
   "execution_count": 13,
   "metadata": {},
   "outputs": [
    {
     "data": {
      "image/png": "[encoded data removed]",
      "text/plain": [
       "<Figure size 1500x500 with 2 Axes>"
      ]
     },
     "metadata": {},
     "output_type": "display_data"
    }
   ],
   "source": [
    "fig = plt.figure(figsize=(15, 5))\n",
    "xsect = flopy.plot.PlotCrossSection(model=model, line={\"Column\": 0})\n",
    "\n",
    "hds = flopy.utils.binaryfile.HeadFile(model_ws / 'example_model.hds')\n",
    "head_data = hds.get_data(kstpkper=(0, 0)) # (time step, stress period)\n",
    "\n",
    "ibd = model.bas6.ibound.array\n",
    "masked_head_data = np.ma.masked_where(ibd== 0, head_data)\n",
    "\n",
    "cs = xsect.plot_array(masked_head_data, cmap=\"viridis\")\n",
    "plt.colorbar(cs)\n",
    "\n",
    "contour_levels = np.arange(164, 188, 0.5)\n",
    "contour_set = xsect.contour_array(masked_head_data, levels=contour_levels, colors=\"black\")\n",
    "plt.clabel(contour_set, inline=True, fontsize=10, fmt=\"%1.0f\")\n",
    "plt.grid()\n",
    "\n",
    "ibd = xsect.plot_ibound(color_noflow='grey')\n",
    "#ibd.set_facecolor(\"red\")  # set the color of the masked cells to grey\n",
    "\n",
    "plt.axvline(x=1700, color='black', linestyle='--')\n",
    "\n",
    "plt.text(1700, 185, 'Shoreline', ha='center', va='bottom', fontsize=12)\n",
    "\n",
    "\n",
    "#xs = drn_ys\n",
    "#ys = [ lay_to_meter(locate_ground_surface_lay(meter_to_row(y))) for y in drn_ys]\n",
    "#plt.scatter([x - 0.0 for x in xs],[y- 0.0 for y in ys],c='r',marker='s',s=5)\n",
    "\n",
    "plt.savefig(Path(model_ws)/'_output/hds.png')"
   ]
  },
  {
   "cell_type": "code",
   "execution_count": null,
   "metadata": {},
   "outputs": [],
   "source": []
  },
  {
   "cell_type": "code",
   "execution_count": 17,
   "metadata": {},
   "outputs": [],
   "source": [
    "open_file(model_ws)"
   ]
  },
  {
   "cell_type": "code",
   "execution_count": null,
   "metadata": {},
   "outputs": [],
   "source": []
  },
  {
   "cell_type": "code",
   "execution_count": null,
   "metadata": {},
   "outputs": [],
   "source": []
  },
  {
   "cell_type": "code",
   "execution_count": null,
   "metadata": {},
   "outputs": [],
   "source": []
  },
  {
   "cell_type": "code",
   "execution_count": null,
   "metadata": {},
   "outputs": [],
   "source": []
  },
  {
   "cell_type": "code",
   "execution_count": 19,
   "metadata": {},
   "outputs": [
    {
     "data": {
      "text/plain": [
       "<Figure size 1500x400 with 0 Axes>"
      ]
     },
     "metadata": {},
     "output_type": "display_data"
    },
    {
     "data": {
      "text/plain": [
       "<Figure size 1500x400 with 0 Axes>"
      ]
     },
     "metadata": {},
     "output_type": "display_data"
    },
    {
     "data": {
      "text/plain": [
       "<Figure size 1500x400 with 0 Axes>"
      ]
     },
     "metadata": {},
     "output_type": "display_data"
    },
    {
     "data": {
      "text/plain": [
       "<Figure size 1500x400 with 0 Axes>"
      ]
     },
     "metadata": {},
     "output_type": "display_data"
    },
    {
     "data": {
      "text/plain": [
       "<Figure size 1500x400 with 0 Axes>"
      ]
     },
     "metadata": {},
     "output_type": "display_data"
    },
    {
     "data": {
      "text/plain": [
       "<Figure size 1500x400 with 0 Axes>"
      ]
     },
     "metadata": {},
     "output_type": "display_data"
    },
    {
     "data": {
      "text/plain": [
       "<Figure size 1500x400 with 0 Axes>"
      ]
     },
     "metadata": {},
     "output_type": "display_data"
    },
    {
     "data": {
      "text/plain": [
       "<Figure size 1500x400 with 0 Axes>"
      ]
     },
     "metadata": {},
     "output_type": "display_data"
    },
    {
     "data": {
      "text/plain": [
       "<Figure size 1500x400 with 0 Axes>"
      ]
     },
     "metadata": {},
     "output_type": "display_data"
    },
    {
     "data": {
      "text/plain": [
       "<Figure size 1500x400 with 0 Axes>"
      ]
     },
     "metadata": {},
     "output_type": "display_data"
    }
   ],
   "source": [
    "### read data\n",
    "\n",
    "col = int(ncol/3)\n",
    "ibound = model.bas6.ibound.array\n",
    "ucnobj = flopy.utils.binaryfile.UcnFile(model_ws / 'MT3D001.UCN')\n",
    "\n",
    "for kper in range(nper):\n",
    "# for kper in [2,69]:\n",
    "    # Read the concentration data from the UCN file\n",
    "    \n",
    "    concentration_array = ucnobj.get_data(kstpkper=(0, kper))# (time step, stress period)\n",
    "\n",
    "    # Mask the inactive cells\n",
    "    mask = ((ibound== 0)|(concentration_array>=1e30))\n",
    "    masked_conc_data = np.ma.masked_where(mask, concentration_array)\n",
    "\n",
    "    ### plotting# #######\n",
    "    fig = plt.figure(figsize=(15, 4))\n",
    "    line = {\"Column\": col}\n",
    "\n",
    "    # Create a PlotCrossSection object for the model\n",
    "    xsect = flopy.plot.PlotCrossSection(model=model, line=line)\n",
    "\n",
    "    # Plot the concentration results\n",
    "    cs = xsect.plot_array(masked_conc_data, cmap='coolwarm', vmin=0.1, vmax=500)\n",
    "    plt.colorbar(cs)\n",
    "    ibd = xsect.plot_ibound(color_noflow='grey')\n",
    "    plt.title('col:{:03}, kper:{:02}'.format(col,kper))\n",
    "    plt.savefig(Path(model_ws)/'_output/conc_{:02}.png'.format(kper))\n",
    "    plt.clf()\n",
    "\n",
    "##--------"
   ]
  },
  {
   "cell_type": "code",
   "execution_count": null,
   "metadata": {},
   "outputs": [],
   "source": []
  },
  {
   "cell_type": "code",
   "execution_count": null,
   "metadata": {},
   "outputs": [],
   "source": []
  },
  {
   "cell_type": "code",
   "execution_count": null,
   "metadata": {},
   "outputs": [],
   "source": []
  },
  {
   "cell_type": "markdown",
   "metadata": {},
   "source": [
    "# GW Budget"
   ]
  },
  {
   "cell_type": "code",
   "execution_count": 42,
   "metadata": {},
   "outputs": [],
   "source": [
    "import warnings\n",
    "warnings.filterwarnings(\"ignore\", category=DeprecationWarning) "
   ]
  },
  {
   "cell_type": "code",
   "execution_count": 43,
   "metadata": {},
   "outputs": [],
   "source": [
    "cbc = flopy.utils.CellBudgetFile(model_ws /'example_model.cbc', model=model)\n",
    "\n",
    "times = cbc.get_times()\n",
    "fff = cbc.get_data(text='FLOW FRONT FACE', totim=times[-1])[0]\n",
    "frf = cbc.get_data(text='FLOW RIGHT FACE', totim=times[-1])[0]\n",
    "flf = cbc.get_data(text='FLOW LOWER FACE', totim=times[-1])[0]\n",
    "faf = flf + fff + frf\n"
   ]
  },
  {
   "cell_type": "code",
   "execution_count": 44,
   "metadata": {},
   "outputs": [],
   "source": [
    "ch  = cbc.get_data(text='CONSTANT HEAD', totim=times[0])[0]"
   ]
  },
  {
   "cell_type": "code",
   "execution_count": null,
   "metadata": {},
   "outputs": [],
   "source": []
  },
  {
   "cell_type": "code",
   "execution_count": 45,
   "metadata": {},
   "outputs": [
    {
     "name": "stdout",
     "output_type": "stream",
     "text": [
      "0\n",
      "1\n",
      "2\n",
      "3\n",
      "4\n",
      "5\n",
      "6\n",
      "7\n",
      "8\n",
      "9\n",
      "10\n",
      "11\n",
      "12\n",
      "13\n",
      "14\n",
      "15\n",
      "16\n",
      "17\n",
      "18\n",
      "19\n",
      "20\n",
      "21\n",
      "22\n",
      "23\n",
      "24\n",
      "25\n",
      "26\n",
      "27\n",
      "28\n",
      "29\n",
      "30\n",
      "31\n",
      "32\n",
      "33\n",
      "34\n",
      "35\n",
      "36\n",
      "37\n",
      "38\n",
      "39\n",
      "40\n",
      "41\n",
      "42\n",
      "43\n",
      "44\n",
      "45\n",
      "46\n",
      "47\n",
      "48\n",
      "49\n",
      "50\n",
      "51\n",
      "52\n",
      "53\n",
      "54\n",
      "55\n",
      "56\n",
      "57\n",
      "58\n",
      "59\n",
      "60\n",
      "61\n",
      "62\n",
      "63\n",
      "64\n",
      "65\n",
      "66\n",
      "67\n",
      "68\n",
      "69\n",
      "70\n",
      "71\n",
      "72\n",
      "73\n",
      "74\n",
      "75\n",
      "76\n",
      "77\n",
      "78\n",
      "79\n",
      "80\n",
      "81\n",
      "82\n",
      "83\n",
      "84\n",
      "85\n",
      "86\n",
      "87\n",
      "88\n",
      "89\n",
      "90\n",
      "91\n",
      "92\n",
      "93\n",
      "94\n",
      "95\n",
      "96\n",
      "97\n",
      "98\n",
      "99\n",
      "100\n",
      "101\n",
      "102\n",
      "103\n",
      "104\n",
      "105\n",
      "106\n",
      "107\n",
      "108\n",
      "109\n",
      "110\n",
      "111\n",
      "112\n",
      "113\n",
      "114\n",
      "115\n",
      "116\n",
      "117\n",
      "118\n",
      "119\n",
      "120\n",
      "121\n",
      "122\n",
      "123\n",
      "124\n",
      "125\n",
      "126\n",
      "127\n",
      "128\n",
      "129\n",
      "130\n",
      "131\n",
      "132\n",
      "133\n",
      "134\n",
      "135\n",
      "136\n",
      "137\n",
      "138\n",
      "139\n",
      "140\n",
      "141\n",
      "142\n",
      "143\n",
      "144\n",
      "145\n",
      "146\n",
      "147\n",
      "148\n",
      "149\n",
      "150\n",
      "151\n",
      "152\n",
      "153\n",
      "154\n",
      "155\n",
      "156\n",
      "157\n",
      "158\n",
      "159\n",
      "160\n",
      "161\n",
      "162\n",
      "163\n",
      "164\n",
      "165\n",
      "166\n",
      "167\n",
      "168\n",
      "169\n",
      "170\n",
      "171\n",
      "172\n",
      "173\n",
      "174\n",
      "175\n",
      "176\n",
      "177\n",
      "178\n",
      "179\n",
      "180\n",
      "181\n",
      "182\n",
      "183\n",
      "184\n",
      "185\n",
      "186\n",
      "187\n",
      "188\n",
      "189\n",
      "190\n",
      "191\n",
      "192\n",
      "193\n",
      "194\n",
      "195\n",
      "196\n",
      "197\n",
      "198\n",
      "199\n",
      "200\n",
      "201\n",
      "202\n",
      "203\n",
      "204\n",
      "205\n",
      "206\n",
      "207\n",
      "208\n",
      "209\n",
      "210\n",
      "211\n",
      "212\n",
      "213\n",
      "214\n",
      "215\n",
      "216\n",
      "217\n",
      "218\n",
      "219\n",
      "220\n",
      "221\n",
      "222\n",
      "223\n",
      "224\n",
      "225\n",
      "226\n",
      "227\n",
      "228\n",
      "229\n",
      "230\n",
      "231\n",
      "232\n",
      "233\n",
      "234\n",
      "235\n",
      "236\n",
      "237\n",
      "238\n",
      "239\n",
      "240\n",
      "241\n",
      "242\n",
      "243\n",
      "244\n",
      "245\n",
      "246\n",
      "247\n",
      "248\n",
      "249\n",
      "250\n",
      "251\n",
      "252\n",
      "253\n",
      "254\n",
      "255\n",
      "256\n",
      "257\n",
      "258\n",
      "259\n",
      "260\n",
      "261\n",
      "262\n",
      "263\n",
      "264\n",
      "265\n",
      "266\n",
      "267\n",
      "268\n",
      "269\n",
      "270\n",
      "271\n",
      "272\n",
      "273\n",
      "274\n",
      "275\n",
      "276\n",
      "277\n",
      "278\n",
      "279\n",
      "280\n",
      "281\n",
      "282\n",
      "283\n",
      "284\n",
      "285\n",
      "286\n",
      "287\n",
      "288\n",
      "289\n",
      "290\n",
      "291\n",
      "292\n",
      "293\n",
      "294\n",
      "295\n",
      "296\n",
      "297\n",
      "298\n",
      "299\n",
      "300\n",
      "301\n",
      "302\n",
      "303\n",
      "304\n",
      "305\n",
      "306\n",
      "307\n",
      "308\n",
      "309\n",
      "310\n",
      "311\n",
      "312\n",
      "313\n",
      "314\n",
      "315\n",
      "316\n",
      "317\n",
      "318\n",
      "319\n",
      "320\n",
      "321\n",
      "322\n",
      "323\n",
      "324\n",
      "325\n",
      "326\n",
      "327\n",
      "328\n",
      "329\n",
      "330\n",
      "331\n",
      "332\n",
      "333\n",
      "334\n",
      "335\n",
      "336\n",
      "337\n",
      "338\n",
      "339\n",
      "340\n",
      "341\n",
      "342\n",
      "343\n",
      "344\n",
      "345\n",
      "346\n",
      "347\n",
      "348\n",
      "349\n",
      "350\n",
      "351\n",
      "352\n",
      "353\n",
      "354\n",
      "355\n",
      "356\n",
      "357\n",
      "358\n",
      "359\n",
      "360\n",
      "361\n",
      "362\n",
      "363\n",
      "364\n",
      "365\n",
      "366\n",
      "367\n",
      "368\n",
      "369\n",
      "370\n",
      "371\n",
      "372\n",
      "373\n",
      "374\n",
      "375\n",
      "376\n",
      "377\n",
      "378\n",
      "379\n",
      "380\n",
      "381\n",
      "382\n",
      "383\n",
      "384\n",
      "385\n",
      "386\n",
      "387\n",
      "388\n",
      "389\n",
      "390\n",
      "391\n",
      "392\n",
      "393\n",
      "394\n",
      "395\n",
      "396\n",
      "397\n",
      "398\n",
      "399\n",
      "400\n",
      "401\n",
      "402\n",
      "403\n",
      "404\n",
      "405\n",
      "406\n",
      "407\n",
      "408\n",
      "409\n",
      "410\n",
      "411\n",
      "412\n",
      "413\n",
      "414\n",
      "415\n",
      "416\n",
      "417\n",
      "418\n",
      "419\n",
      "420\n",
      "421\n",
      "422\n",
      "423\n",
      "424\n",
      "425\n",
      "426\n",
      "427\n",
      "428\n",
      "429\n",
      "430\n",
      "431\n",
      "432\n",
      "433\n",
      "434\n",
      "435\n",
      "436\n",
      "437\n",
      "438\n",
      "439\n",
      "440\n",
      "441\n",
      "442\n",
      "443\n",
      "444\n",
      "445\n",
      "446\n",
      "447\n",
      "448\n",
      "449\n",
      "450\n",
      "451\n",
      "452\n",
      "453\n",
      "454\n",
      "455\n",
      "456\n",
      "457\n",
      "458\n",
      "459\n",
      "460\n",
      "461\n",
      "462\n",
      "463\n",
      "464\n",
      "465\n",
      "466\n",
      "467\n",
      "468\n",
      "469\n",
      "470\n",
      "471\n",
      "472\n",
      "473\n",
      "474\n",
      "475\n",
      "476\n",
      "477\n",
      "478\n",
      "479\n",
      "480\n",
      "481\n",
      "482\n",
      "483\n",
      "484\n",
      "485\n",
      "486\n",
      "487\n",
      "488\n",
      "489\n",
      "490\n",
      "491\n",
      "492\n",
      "493\n",
      "494\n",
      "495\n",
      "496\n",
      "497\n",
      "498\n",
      "499\n"
     ]
    },
    {
     "data": {
      "text/plain": [
       "<matplotlib.legend.Legend at 0x1b5069a1d50>"
      ]
     },
     "execution_count": 45,
     "metadata": {},
     "output_type": "execute_result"
    },
    {
     "data": {
      "image/png": "[encoded data removed]",
      "text/plain": [
       "<Figure size 640x480 with 1 Axes>"
      ]
     },
     "metadata": {},
     "output_type": "display_data"
    }
   ],
   "source": [
    "cbc = flopy.utils.CellBudgetFile(model_ws /'example_model.cbc', model=model)\n",
    "ucnobj = flopy.utils.binaryfile.UcnFile(model_ws / 'MT3D001.UCN')\n",
    "\n",
    "times = cbc.get_times()\n",
    "xs = []\n",
    "ys = []\n",
    "ys1 =[]\n",
    "ys2 = []\n",
    "for n in range(len(times)):\n",
    "    print(n)\n",
    "    ucn= ucnobj.get_data( totim=times[n])\n",
    "    ucn[ucn==1e30]=0\n",
    "\n",
    "    ch  = cbc.get_data(text='CONSTANT HEAD', totim=times[n])[0]\n",
    "    ch2 = [(np.unravel_index(i[0],(120,220,220)),i[1]) for i in ch]\n",
    "    ch3 = [i for i in ch2 if i[0] if i[0][1]>float(2200/2/delr)] ## lake\n",
    "    #print(np.sum([i[1] for i in ch3]))\n",
    "\n",
    "    dr = cbc.get_data(text='DRAINS', totim=times[n])[0]\n",
    "\n",
    "    dr2 = [(np.unravel_index(i[0],(120,220,220)),i[1]) for i in dr]\n",
    "    dr3 = [i for i in dr2 if i[0] if i[0][1]>float(2200/2/delr)] ## lakeshore\n",
    "    #print(np.sum([i[1] for i in dr3]))\n",
    "\n",
    "    dr4 = [i for i in dr2 if i[0] if i[0][1]<float(2200/2/delr)] ## upland\n",
    "    #print(np.sum([i[1] for i in dr4]))\n",
    "\n",
    "\n",
    "    ys.append(0.51*-5000*2)\n",
    "    ys1.append(np.sum([ucn[i[0]]*i[1] for i in ch3]))\n",
    "    ys2.append(np.sum([ucn[i[0]]*i[1] for i in dr3]))\n",
    "    xs.append(n)\n",
    "\n",
    "#plt.plot(xs,ys,label='SRP: input')\n",
    "plt.plot(xs,ys1,label='SRP: lake')\n",
    "plt.plot(xs,ys2,label = 'SRP: drain')\n",
    "plt.xlabel('kper')\n",
    "plt.ylabel('mg/D')\n",
    "plt.gca().invert_yaxis()\n",
    "plt.legend()"
   ]
  },
  {
   "cell_type": "code",
   "execution_count": 46,
   "metadata": {},
   "outputs": [
    {
     "data": {
      "text/plain": [
       "(0.0, -1500.0)"
      ]
     },
     "execution_count": 46,
     "metadata": {},
     "output_type": "execute_result"
    },
    {
     "data": {
      "image/png": "[encoded data removed]",
      "text/plain": [
       "<Figure size 640x480 with 1 Axes>"
      ]
     },
     "metadata": {},
     "output_type": "display_data"
    }
   ],
   "source": [
    "#plt.plot(xs,ys,label='SRP: input')\n",
    "plt.plot(xs,np.array(ys1) + np.array(ys2),label='SRP: lake + drain')\n",
    "\n",
    "plt.xlabel('kper')\n",
    "plt.ylabel('mg/D')\n",
    "plt.gca().invert_yaxis()\n",
    "plt.legend()\n",
    "plt.ylim(0,-1500)"
   ]
  },
  {
   "cell_type": "code",
   "execution_count": null,
   "metadata": {},
   "outputs": [],
   "source": []
  },
  {
   "cell_type": "code",
   "execution_count": null,
   "metadata": {},
   "outputs": [],
   "source": []
  },
  {
   "cell_type": "code",
   "execution_count": null,
   "metadata": {},
   "outputs": [],
   "source": [
    "ys5 = np.cumsum(np.add(ys1,ys2))*365/1000/1000\n",
    "\n",
    "plt.plot(xs,ys5,marker='.')\n",
    "\n",
    "plt.xlabel('kper (year)')\n",
    "plt.ylabel('Cumative SRP (kg) (Total, Drain + Lake)')\n",
    "plt.gca().invert_yaxis()\n",
    "plt.title('cumulative SRP discharge to lake (kg)')\n",
    "plt.ylim(0,-120)"
   ]
  },
  {
   "cell_type": "code",
   "execution_count": null,
   "metadata": {},
   "outputs": [],
   "source": [
    "ys5 = np.cumsum(np.add(ys1,ys2))*365/1000/1000\n",
    "\n",
    "plt.plot(xs,ys5,marker='.')\n",
    "\n",
    "plt.xlabel('kper (year)')\n",
    "plt.ylabel('Cumative SRP (kg) (Total, Drain + Lake)')\n",
    "plt.gca().invert_yaxis()\n",
    "plt.title('cumulative SRP discharge to lake (kg)')\n",
    "plt.ylim(0,-120)"
   ]
  },
  {
   "cell_type": "code",
   "execution_count": null,
   "metadata": {},
   "outputs": [],
   "source": [
    "ys5[-1]"
   ]
  },
  {
   "cell_type": "code",
   "execution_count": null,
   "metadata": {},
   "outputs": [],
   "source": []
  },
  {
   "cell_type": "code",
   "execution_count": null,
   "metadata": {},
   "outputs": [],
   "source": []
  },
  {
   "cell_type": "code",
   "execution_count": null,
   "metadata": {},
   "outputs": [],
   "source": [
    "ch  = cbc.get_data(text='CONSTANT HEAD', totim=times[-1])[0]\n",
    "ch2 = [(np.unravel_index(i[0],(120,220,220)),i[1]) for i in ch]\n",
    "ch3 = [i for i in ch2 if i[0] if i[0][1]>float(2200/2/delr)] ## lake\n",
    "print(np.sum([i[1] for i in ch3]))\n",
    "\n",
    "ch4 = [i for i in ch2 if i[0] if i[0][1]<float(2200/2/delr)] ## upland\n",
    "print(np.sum([i[1] for i in ch4]))\n",
    "\n",
    "#ch3_minus_one = [[i[0][0]-1,i[0][1],i[0][2]] for i in ch3] # water"
   ]
  },
  {
   "cell_type": "code",
   "execution_count": null,
   "metadata": {},
   "outputs": [],
   "source": [
    "dr = cbc.get_data(text='DRAINS', totim=times[-1])[0]\n",
    "\n",
    "\n",
    "dr2 = [(np.unravel_index(i[0],(120,220,220)),i[1]) for i in dr]\n",
    "\n",
    "dr3 = [i for i in dr2 if i[0] if i[0][1]>float(2200/2/delr)] ## lakeshore\n",
    "print(np.sum([i[1] for i in dr3]))\n",
    "\n",
    "\n",
    "dr4 = [i for i in dr2 if i[0] if i[0][1]<float(2200/2/delr)] ## upland\n",
    "print(np.sum([i[1] for i in dr4]))\n",
    "\n",
    "#ch3_minus_one = [[i[0][0]-1,i[0][1],i[0][2]] for i in ch3] # water"
   ]
  },
  {
   "cell_type": "code",
   "execution_count": null,
   "metadata": {},
   "outputs": [],
   "source": [
    "cbc.list_unique_records()"
   ]
  },
  {
   "cell_type": "code",
   "execution_count": null,
   "metadata": {},
   "outputs": [],
   "source": []
  },
  {
   "cell_type": "code",
   "execution_count": null,
   "metadata": {},
   "outputs": [],
   "source": []
  },
  {
   "cell_type": "markdown",
   "metadata": {},
   "source": [
    "## Constant Head (Lake)"
   ]
  },
  {
   "cell_type": "code",
   "execution_count": null,
   "metadata": {},
   "outputs": [],
   "source": [
    "idx= np.where((ibound==-1))\n",
    "filter = idx[1]>50\n",
    "idx =(idx[0][filter],idx[1][filter],idx[2][filter])\n",
    "faf[idx].sum() #m3 per day"
   ]
  },
  {
   "cell_type": "code",
   "execution_count": null,
   "metadata": {},
   "outputs": [],
   "source": [
    "cbc = flopy.utils.CellBudgetFile(model_ws /'test.cbc', model=model)\n",
    "ucnobj = flopy.utils.binaryfile.UcnFile(model_ws / 'MT3D001.UCN')\n",
    "\n",
    "times = cbc.get_times()\n",
    "xs = []\n",
    "ys = []\n",
    "for n in range(len(times)):\n",
    "    t = times[n]\n",
    "    fff = cbc.get_data(text='FLOW FRONT FACE', totim=t)[0]\n",
    "    frf = cbc.get_data(text='FLOW RIGHT FACE', totim=t)[0]\n",
    "    flf = cbc.get_data(text='FLOW LOWER FACE', totim=t)[0]\n",
    "    faf = flf + fff + frf\n",
    "    ucn= ucnobj.get_data( totim=t)\n",
    "\n",
    "    gw_flow = faf[idx]\n",
    "    gw_flux = gw_flow.sum() #m3 per day\n",
    "    ucn_flux = (gw_flow * ucn[idx]).sum()\n",
    "    ys.append(ucn_flux)\n",
    "    xs.append(n)\n",
    "    print(ucn_flux)\n",
    "\n",
    "plt.scatter(xs,ys)\n"
   ]
  },
  {
   "cell_type": "code",
   "execution_count": null,
   "metadata": {},
   "outputs": [],
   "source": []
  },
  {
   "cell_type": "code",
   "execution_count": null,
   "metadata": {},
   "outputs": [],
   "source": []
  },
  {
   "cell_type": "markdown",
   "metadata": {},
   "source": [
    "## Drain (near shore)"
   ]
  },
  {
   "cell_type": "code",
   "execution_count": null,
   "metadata": {},
   "outputs": [],
   "source": [
    "drn = model.drn\n",
    "i0 = np.array([i[0] for i in drn.stress_period_data.data[0]])\n",
    "i1 = np.array([i[1] for i in drn.stress_period_data.data[0]])\n",
    "i2 = np.array([i[2] for i in drn.stress_period_data.data[0]])\n",
    "drn_idx = (i0,i1,i2)\n",
    "\n",
    "\n",
    "filter = drn_idx[1]>100\n",
    "drn_idx =(drn_idx[0][filter],drn_idx[1][filter],drn_idx[2][filter])\n",
    "\n",
    "faf[drn_idx].sum()"
   ]
  },
  {
   "cell_type": "code",
   "execution_count": null,
   "metadata": {},
   "outputs": [],
   "source": [
    "cbc = flopy.utils.CellBudgetFile(model_ws /'test.cbc', model=model)\n",
    "ucnobj = flopy.utils.binaryfile.UcnFile(model_ws / 'MT3D001.UCN')\n",
    "\n",
    "times = cbc.get_times()\n",
    "\n",
    "xs = []\n",
    "ys = []\n",
    "\n",
    "for n in range(len(times)):\n",
    "    t = times[n]\n",
    "    fff = cbc.get_data(text='FLOW FRONT FACE', totim=t)[0]\n",
    "    frf = cbc.get_data(text='FLOW RIGHT FACE', totim=t)[0]\n",
    "    flf = cbc.get_data(text='FLOW LOWER FACE', totim=t)[0]\n",
    "    faf = flf + fff + frf\n",
    "    ucn= ucnobj.get_data( totim=t)\n",
    "\n",
    "    gw_flow = faf[drn_idx]\n",
    "    gw_flux = gw_flow.sum() #m3 per day\n",
    "    ucn_flux = (gw_flow * ucn[drn_idx]).sum() * 365 /1000/1000\n",
    "    ys.append(ucn_flux)\n",
    "    xs.append(n)\n",
    "    print(ucn_flux)\n",
    "\n",
    "plt.plot(xs,ys,marker='o')\n",
    "plt.gca().invert_yaxis()\n",
    "#plt.ylim(0,-2000)\n",
    "plt.xlabel('kper')\n",
    "plt.ylabel('SRP mass flux (kg)')\n",
    "plt.title('Drain (nearshore)')"
   ]
  },
  {
   "cell_type": "code",
   "execution_count": null,
   "metadata": {},
   "outputs": [],
   "source": []
  },
  {
   "cell_type": "markdown",
   "metadata": {},
   "source": [
    "## vertical boundary"
   ]
  },
  {
   "cell_type": "code",
   "execution_count": null,
   "metadata": {},
   "outputs": [],
   "source": [
    "ibound = model.bas6.ibound.array"
   ]
  },
  {
   "cell_type": "code",
   "execution_count": null,
   "metadata": {},
   "outputs": [],
   "source": [
    "idx= np.where((ibound !=0))\n",
    "distance = 1690\n",
    "distance = 1510\n",
    "filter = idx[1]==int(distance/delr)\n",
    "idx =(idx[0][filter],idx[1][filter],idx[2][filter])\n",
    "faf[idx].sum() #m3 per day"
   ]
  },
  {
   "cell_type": "code",
   "execution_count": null,
   "metadata": {},
   "outputs": [],
   "source": [
    "fff[idx].sum()"
   ]
  },
  {
   "cell_type": "code",
   "execution_count": null,
   "metadata": {},
   "outputs": [],
   "source": [
    "cbc = flopy.utils.CellBudgetFile(model_ws /'example_model.cbc', model=model)\n",
    "ucnobj = flopy.utils.binaryfile.UcnFile(model_ws / 'MT3D001.UCN')\n",
    "\n",
    "times = cbc.get_times()\n",
    "xs = []\n",
    "ys = []\n",
    "for n in range(len(times)):\n",
    "    t = times[n]\n",
    "    fff = cbc.get_data(text='FLOW FRONT FACE', totim=t)[0]\n",
    "    frf = cbc.get_data(text='FLOW RIGHT FACE', totim=t)[0]\n",
    "    flf = cbc.get_data(text='FLOW LOWER FACE', totim=t)[0]\n",
    "    faf = abs(fff) +abs(frf) +abs(flf)\n",
    "    faf = np.sqrt(abs(fff)**2 +abs(frf)**2 +abs(flf)**2)\n",
    "    ucn= ucnobj.get_data( totim=t)\n",
    "\n",
    "    gw_flow = faf[idx]\n",
    "    gw_flux = gw_flow.sum() #m3 per day\n",
    "    ucn_flux = (gw_flow * ucn[idx]).sum() \n",
    "    ys.append(ucn_flux)\n",
    "    xs.append(n)\n",
    "    print(ucn_flux)\n",
    "\n",
    "plt.plot(xs,ys,marker='o')\n",
    "#plt.gca().invert_yaxis()\n",
    "plt.ylim(0,8000)\n",
    "plt.xlabel('kper')\n",
    "plt.ylabel('SRP mass flux (mg/D)')\n",
    "plt.title('x={}'.format(distance))\n"
   ]
  },
  {
   "cell_type": "code",
   "execution_count": null,
   "metadata": {},
   "outputs": [],
   "source": []
  },
  {
   "cell_type": "code",
   "execution_count": null,
   "metadata": {},
   "outputs": [],
   "source": []
  },
  {
   "cell_type": "code",
   "execution_count": null,
   "metadata": {},
   "outputs": [],
   "source": []
  },
  {
   "cell_type": "code",
   "execution_count": null,
   "metadata": {},
   "outputs": [],
   "source": []
  },
  {
   "cell_type": "markdown",
   "metadata": {},
   "source": [
    "## aqueous phase"
   ]
  },
  {
   "cell_type": "code",
   "execution_count": null,
   "metadata": {},
   "outputs": [],
   "source": [
    "cmass_aq =[]\n",
    "cmass_in = []\n",
    "cmass_solid = []\n",
    "kpers = []\n",
    "ucnobj_aq = flopy.utils.binaryfile.UcnFile(model_ws + '/MT3D001.UCN')\n",
    "ucnobj_solid = flopy.utils.binaryfile.UcnFile(model_ws + '/MT3D001S.UCN')\n",
    "for kper in range(nper):\n",
    "\n",
    "    # Read the concentration data from the UCN file\n",
    "    if kper==0:\n",
    "        source_mass = 0\n",
    "    else:\n",
    "        source_mass += 365*0.51*5000*2\n",
    "    \n",
    "    conc_array = ucnobj_aq.get_data(kstpkper=(0, kper))# (time step, stress period)\n",
    "    conc_array[np.where(conc_array==1e30)] = 0\n",
    "    conc_array[np.where(ibound!=1)] = 0\n",
    "    c_aq = conc_array[np.where(conc_array>0.11)].sum()\n",
    "    mass_aq = c_aq*delr*delc*layer_thickness* 0.25\n",
    "\n",
    "    conc_array = ucnobj_solid.get_data(kstpkper=(0, kper))# (time step, stress period)\n",
    "    conc_array[np.where(conc_array==1e30)] = 0\n",
    "    conc_array[np.where(ibound!=1)] = 0\n",
    "    c_solid = conc_array[np.where(conc_array>1e-7)].sum()\n",
    "    mass_solid = c_solid*delr*delc*layer_thickness * 1.65E+09\n",
    "\n",
    "    cmass_in.append(source_mass)\n",
    "    cmass_aq.append(mass_aq)\n",
    "    cmass_solid.append(mass_solid)\n",
    "    kpers.append(kper)\n",
    "\n",
    "ys = np.array(cmass_aq)\n",
    "ys2 = np.array(cmass_in)\n",
    "ys3 = np.array(cmass_solid)\n",
    "ys4 = np.array(ys+ys3)\n",
    "xs = kpers\n",
    "\n",
    "\n",
    "\n",
    "plt.ylabel('Totoal SRP mass (mg))')\n",
    "#plt.xticks(np.linspace(0,nper,5))\n",
    "plt.xlabel('Stress Period (Year)')\n",
    "#plt.title('mass_flux (input - output): {} '.format(cmass_in[-1] - cmass[-1]))\n",
    "plt.plot(xs,ys4,marker='o',label='aq + solid')\n",
    "plt.plot(xs,ys2,marker='o',label= 'input')\n",
    "plt.legend()\n",
    "plt.savefig(Path(model_ws)/'_output' /'mass.png')"
   ]
  },
  {
   "cell_type": "code",
   "execution_count": null,
   "metadata": {},
   "outputs": [],
   "source": []
  },
  {
   "cell_type": "code",
   "execution_count": null,
   "metadata": {},
   "outputs": [],
   "source": [
    "cmass =[]\n",
    "cmass_in = []\n",
    "kpers = []\n",
    "ucnobj = flopy.utils.binaryfile.UcnFile(model_ws + '/MT3D001S.UCN')\n",
    "for kper in range(nper):\n",
    "\n",
    "    # Read the concentration data from the UCN file\n",
    "    if kper==0:\n",
    "        source_mass = 0\n",
    "    else:\n",
    "        source_mass += 365*0.51*5000*2\n",
    "    \n",
    "    concentration_array = ucnobj.get_data(kstpkper=(0, kper))# (time step, stress period)\n",
    "    concentration_array[np.where(concentration_array==1e30)] = 0\n",
    "    concentration_array[np.where(ibound!=1)] = 0\n",
    "\n",
    "    csum = concentration_array[np.where(concentration_array>1e-6)].sum()\n",
    "    mass = csum*delr*delc*layer_thickness * 1.65E+09\n",
    "\n",
    "    cmass_in.append(source_mass)\n",
    "    cmass.append(mass)\n",
    "    kpers.append(kper)\n",
    "\n",
    "ys = np.array(cmass)/1000/1000\n",
    "ys2 = np.array(cmass_in)/1000/1000\n",
    "xs = kpers\n",
    "\n",
    "\n",
    "\n",
    "plt.ylabel('Totoal SRP mass (mg))')\n",
    "#plt.xticks(np.linspace(0,nper,5))\n",
    "plt.xlabel('Stress Period (Year)')\n",
    "plt.title('mass_flux (input - output): {} '.format(cmass_in[-1] - cmass[-1]))\n",
    "plt.plot(xs,ys,marker='o',label='output')\n",
    "plt.plot(xs,ys2,marker='o',label= 'input')\n",
    "plt.legend()\n",
    "plt.savefig(Path(model_ws)/'_output' /'mass_sorbed.png')"
   ]
  },
  {
   "cell_type": "code",
   "execution_count": null,
   "metadata": {},
   "outputs": [],
   "source": []
  },
  {
   "cell_type": "code",
   "execution_count": null,
   "metadata": {},
   "outputs": [],
   "source": [
    "ucnobj = flopy.utils.binaryfile.UcnFile(Path(model_ws) / 'MT3D001.UCN')\n",
    "times = ucnobj.get_times()\n",
    "conc = ucnobj.get_data(totim=times[-1])  # get the concentration data for the last time step\n",
    "conc[np.where(conc==1e30)] = 0\n",
    "conc_sum = np.sum(conc, axis=0)\n",
    "mapview = flopy.plot.PlotMapView(model=model)\n",
    "fig = mapview.plot_array(conc_sum,vmin=0,vmax=100)\n",
    "plt.show()"
   ]
  },
  {
   "cell_type": "code",
   "execution_count": null,
   "metadata": {},
   "outputs": [],
   "source": [
    "nper = model.dis.nper\n",
    "ucnobj = flopy.utils.binaryfile.UcnFile(model_ws + '/MT3D001.UCN')\n",
    "for kper in range(nper):\n",
    "\n",
    "\n",
    "    ucnobj = flopy.utils.binaryfile.UcnFile(Path(model_ws)/'MT3D001.UCN')\n",
    "    times = ucnobj.get_times()\n",
    "    conc = ucnobj.get_data(kstpkper=(0, kper))\n",
    "    conc[np.where(conc==1e30)] = 0\n",
    "    conc_sum = np.sum(conc, axis=0)\n",
    "\n",
    "    mapview = flopy.plot.PlotMapView(model=model)\n",
    "    fig = mapview.plot_array(conc_sum, cmap='coolwarm', vmin=0, vmax=30000)\n",
    "    #plt.show()\n",
    "\n",
    "    plt.title('kper:{:02}'.format(kper))\n",
    "    \n",
    "    plt.savefig(Path(model_ws)/'_output'/'map_conc_{:02}'.format(kper))\n",
    "    \n",
    "    \n",
    "    plt.clf()"
   ]
  },
  {
   "cell_type": "code",
   "execution_count": null,
   "metadata": {},
   "outputs": [],
   "source": []
  },
  {
   "cell_type": "code",
   "execution_count": null,
   "metadata": {},
   "outputs": [],
   "source": []
  },
  {
   "cell_type": "code",
   "execution_count": null,
   "metadata": {},
   "outputs": [],
   "source": [
    "kper = 18\n",
    "lay = int(nlay/2)\n",
    "\n",
    "fig = plt.figure(figsize=(15, 5))\n",
    "mapview = flopy.plot.PlotMapView(model=model, layer=lay)\n",
    "ucnobj = flopy.utils.binaryfile.UcnFile(model_ws + '/MT3D001.UCN')\n",
    "concentration_array = ucnobj.get_data(kstpkper=(0, kper))# (time step, stress period)\n",
    "\n",
    "ibound = model.bas6.ibound.array\n",
    "mask = ((ibound== 0)|(concentration_array>=1e30))\n",
    "masked_conc_data = np.ma.masked_where(mask, concentration_array)\n",
    "\n",
    "cs = mapview.plot_array(masked_conc_data, cmap='coolwarm', vmin=0, vmax=900)\n",
    "plt.colorbar(cs)\n",
    "\n",
    "# Show the plot\n",
    "plt.gcf().set_size_inches(12,12)\n",
    "plt.show()"
   ]
  },
  {
   "cell_type": "code",
   "execution_count": null,
   "metadata": {},
   "outputs": [],
   "source": []
  },
  {
   "cell_type": "code",
   "execution_count": null,
   "metadata": {},
   "outputs": [],
   "source": []
  },
  {
   "cell_type": "markdown",
   "metadata": {},
   "source": [
    "# Matplotlib 3D"
   ]
  },
  {
   "cell_type": "code",
   "execution_count": 37,
   "metadata": {},
   "outputs": [
    {
     "ename": "TypeError",
     "evalue": "unsupported operand type(s) for +: 'WindowsPath' and 'str'",
     "output_type": "error",
     "traceback": [
      "\u001b[1;31m---------------------------------------------------------------------------\u001b[0m",
      "\u001b[1;31mTypeError\u001b[0m                                 Traceback (most recent call last)",
      "\u001b[1;32mc:\\Users\\swan47\\Documents\\GitHub\\wasaga_model\\wasaga_3d\\plot_wasaga_3d.ipynb Cell 102\u001b[0m line \u001b[0;36m5\n\u001b[0;32m      <a href='vscode-notebook-cell:/c%3A/Users/swan47/Documents/GitHub/wasaga_model/wasaga_3d/plot_wasaga_3d.ipynb#Y204sZmlsZQ%3D%3D?line=1'>2</a>\u001b[0m col \u001b[39m=\u001b[39m \u001b[39mint\u001b[39m(ncol)\u001b[39m/\u001b[39m\u001b[39m2\u001b[39m\n\u001b[0;32m      <a href='vscode-notebook-cell:/c%3A/Users/swan47/Documents/GitHub/wasaga_model/wasaga_3d/plot_wasaga_3d.ipynb#Y204sZmlsZQ%3D%3D?line=3'>4</a>\u001b[0m \u001b[39m# Read the concentration data from the UCN file\u001b[39;00m\n\u001b[1;32m----> <a href='vscode-notebook-cell:/c%3A/Users/swan47/Documents/GitHub/wasaga_model/wasaga_3d/plot_wasaga_3d.ipynb#Y204sZmlsZQ%3D%3D?line=4'>5</a>\u001b[0m ucnobj \u001b[39m=\u001b[39m flopy\u001b[39m.\u001b[39mutils\u001b[39m.\u001b[39mbinaryfile\u001b[39m.\u001b[39mUcnFile(model_ws \u001b[39m+\u001b[39m \u001b[39m'\u001b[39m\u001b[39m/MT3D001.UCN\u001b[39m\u001b[39m'\u001b[39m)\n\u001b[0;32m      <a href='vscode-notebook-cell:/c%3A/Users/swan47/Documents/GitHub/wasaga_model/wasaga_3d/plot_wasaga_3d.ipynb#Y204sZmlsZQ%3D%3D?line=5'>6</a>\u001b[0m concentration_array \u001b[39m=\u001b[39m ucnobj\u001b[39m.\u001b[39mget_data(kstpkper\u001b[39m=\u001b[39m(\u001b[39m0\u001b[39m, kper))\u001b[39m# (time step, stress period)\u001b[39;00m\n\u001b[0;32m      <a href='vscode-notebook-cell:/c%3A/Users/swan47/Documents/GitHub/wasaga_model/wasaga_3d/plot_wasaga_3d.ipynb#Y204sZmlsZQ%3D%3D?line=7'>8</a>\u001b[0m concentration_array[concentration_array\u001b[39m==\u001b[39m\u001b[39m1e30\u001b[39m]\u001b[39m=\u001b[39m\u001b[39m0\u001b[39m\n",
      "\u001b[1;31mTypeError\u001b[0m: unsupported operand type(s) for +: 'WindowsPath' and 'str'"
     ]
    }
   ],
   "source": [
    "kper = 9\n",
    "col = int(ncol)/2\n",
    "\n",
    "# Read the concentration data from the UCN file\n",
    "ucnobj = flopy.utils.binaryfile.UcnFile(model_ws + '/MT3D001.UCN')\n",
    "concentration_array = ucnobj.get_data(kstpkper=(0, kper))# (time step, stress period)\n",
    "\n",
    "concentration_array[concentration_array==1e30]=0\n",
    "#concentration_array[concentration_array<=0.1]=0"
   ]
  },
  {
   "cell_type": "code",
   "execution_count": null,
   "metadata": {},
   "outputs": [],
   "source": [
    "import matplotlib.pyplot as plt\n",
    "import numpy as np\n",
    "from mpl_toolkits.mplot3d import Axes3D\n",
    "from mpl_toolkits.mplot3d.art3d import Poly3DCollection\n",
    "\n",
    "\n",
    "colum = int(ncol/2)\n",
    "\n",
    "fig = plt.figure()\n",
    "ax = fig.add_subplot(projection='3d')\n",
    "\n",
    "# Fixing random state for reproducibility\n",
    "arr = concentration_array[:,:,:colum]\n",
    "\n",
    "coords = np.where(arr>0.11)\n",
    "zs,ys,xs = coords\n",
    "vs = arr[coords]\n",
    "ax.scatter(xs, ys, zs, marker='o',s=1,alpha=1,cmap='coolwarm',c=vs,vmax=200)\n",
    "\n",
    "ax.set_xlabel('X Label')\n",
    "ax.set_ylabel('Y Label')\n",
    "ax.set_zlabel('Z Label')\n",
    "\n",
    "\n",
    "\n",
    "ibd = model.bas6.ibound.array[:,:,0]\n",
    "zs = np.array([np.where(col!=0)[0][-1]for col in ibd.T])\n",
    "ys = np.arange(len(zs))\n",
    "zs = list(zs) + [nlay,nlay]\n",
    "ys = list(ys) + [ys[-1],0]\n",
    "xs = np.repeat(colum,len(ys))\n",
    "\n",
    "verts = [list(zip(xs, ys, zs))]\n",
    "poly = Poly3DCollection(verts)\n",
    "poly.set_facecolor('grey')\n",
    "poly.set_edgecolor('black')\n",
    "ax.add_collection3d(poly)\n",
    "\n",
    "\n",
    "ibd = model.bas6.ibound.array[:,:,0]\n",
    "z1 = np.array([np.where(col!=0)[0][-1]for col in ibd.T])[-1]\n",
    "zs = [z1,z1,60,60]\n",
    "ys = [nrow-1,nrow-1,nrow-1,nrow-1]\n",
    "xs = [colum, 0,  0,colum]\n",
    "\n",
    "verts = [list(zip(xs, ys, zs))]\n",
    "poly = Poly3DCollection(verts)\n",
    "poly.set_facecolor('grey')\n",
    "poly.set_edgecolor('black')\n",
    "ax.add_collection3d(poly)\n",
    "\n",
    "\n",
    "\n",
    "xs = list(wt)\n",
    "ys =list(np.arange(0,len(xs)))\n",
    "\n",
    "xs = xs[::5] +xs[-1:]\n",
    "ys  = ys[::5] +ys[-1:]\n",
    "\n",
    "spline = make_interp_spline(ys, xs)\n",
    "ys_smooth = np.linspace(min(ys), max(ys), 100)\n",
    "xs_smooth = spline(ys_smooth)\n",
    "zs_smooth = np.repeat(colum,len(xs_smooth))\n",
    "ax.plot(zs_smooth,ys_smooth,xs_smooth,c='k',zorder=10)\n",
    "\n",
    "xs = [zs_smooth[-1],zs_smooth[-1]]\n",
    "ys = [ys_smooth[-1],ys_smooth[-1]]\n",
    "zs = [xs_smooth[-1],52]\n",
    "ax.plot(xs,ys,zs,c='k',zorder=10)\n",
    "\n",
    "xs = [0,zs_smooth[-1]]\n",
    "ys = [ys_smooth[-1],ys_smooth[-1]]\n",
    "zs = [xs_smooth[-1],xs_smooth[-1]]\n",
    "ax.plot(xs,ys,zs,c='k',zorder=10)\n",
    "\n",
    "\n",
    "zs_smooth = np.repeat(0,len(xs_smooth))\n",
    "ax.plot(zs_smooth,ys_smooth,xs_smooth,c='k',zorder=10)\n",
    "\n",
    "xs = [zs_smooth[-1],zs_smooth[-1]]\n",
    "ys = [ys_smooth[-1],ys_smooth[-1]]\n",
    "zs = [xs_smooth[-1],52]\n",
    "ax.plot(xs,ys,zs,c='k',zorder=10)\n",
    "\n",
    "\n",
    "\n",
    "ax.set_xlim(0,220)\n",
    "ax.set_ylim(0,220)\n",
    "ax.set_zlim(0,60)\n",
    "ax.view_init(elev=30, azim=30)\n",
    "ax.set_box_aspect((2200,2200,30*10))\n",
    "ax.invert_zaxis()\n",
    "\n",
    "\n",
    "fig.set_size_inches(12,12)\n",
    "\n",
    "plt.title('Period {}'.format(kper))\n",
    "plt.show()"
   ]
  },
  {
   "cell_type": "code",
   "execution_count": null,
   "metadata": {},
   "outputs": [],
   "source": []
  },
  {
   "cell_type": "code",
   "execution_count": null,
   "metadata": {},
   "outputs": [],
   "source": [
    "import matplotlib.pyplot as plt\n",
    "import numpy as np\n",
    "from mpl_toolkits.mplot3d import Axes3D\n",
    "from mpl_toolkits.mplot3d.art3d import Poly3DCollection\n",
    "\n",
    "for kper in range(0,20):\n",
    "\n",
    "\n",
    "\n",
    "    # Read the concentration data from the UCN file\n",
    "    ucnobj = flopy.utils.binaryfile.UcnFile(model_ws + '/MT3D001.UCN')\n",
    "    concentration_array = ucnobj.get_data(kstpkper=(0, kper))# \n",
    "    concentration_array[concentration_array==1e30]=0\n",
    "\n",
    "    colum = int(ncol/2)\n",
    "\n",
    "    fig = plt.figure()\n",
    "    ax = fig.add_subplot(projection='3d')\n",
    "\n",
    "    # Fixing random state for reproducibility\n",
    "    arr = concentration_array[:,:,:colum]\n",
    "\n",
    "    coords = np.where(arr>0)\n",
    "    zs,ys,xs = coords\n",
    "    vs = arr[coords]\n",
    "    ax.scatter(xs, ys, zs, marker='o',s=1,alpha=1,cmap='coolwarm',c=vs,vmax=200)\n",
    "\n",
    "    ax.set_xlabel('X Label')\n",
    "    ax.set_ylabel('Y Label')\n",
    "    ax.set_zlabel('Z Label')\n",
    "\n",
    "\n",
    "\n",
    "    ibd = model.bas6.ibound.array[:,:,0]\n",
    "    zs = np.array([np.where(col!=0)[0][-1]for col in ibd.T])\n",
    "    ys = np.arange(len(zs))\n",
    "    zs = list(zs) + [nlay,nlay]\n",
    "    ys = list(ys) + [ys[-1],0]\n",
    "    xs = np.repeat(colum,len(ys))\n",
    "\n",
    "    verts = [list(zip(xs, ys, zs))]\n",
    "    poly = Poly3DCollection(verts)\n",
    "    poly.set_facecolor('grey')\n",
    "    poly.set_edgecolor('black')\n",
    "    ax.add_collection3d(poly)\n",
    "\n",
    "\n",
    "    ibd = model.bas6.ibound.array[:,:,0]\n",
    "    z1 = np.array([np.where(col!=0)[0][-1]for col in ibd.T])[-1]\n",
    "    zs = [z1,z1,60,60]\n",
    "    ys = [nrow-1,nrow-1,nrow-1,nrow-1]\n",
    "    xs = [colum, 0,  0,colum]\n",
    "\n",
    "    verts = [list(zip(xs, ys, zs))]\n",
    "    poly = Poly3DCollection(verts)\n",
    "    poly.set_facecolor('grey')\n",
    "    poly.set_edgecolor('black')\n",
    "    ax.add_collection3d(poly)\n",
    "\n",
    "\n",
    "\n",
    "    xs = list(wt)\n",
    "    ys =list(np.arange(0,len(xs)))\n",
    "\n",
    "    xs = xs[::5] +xs[-1:]\n",
    "    ys  = ys[::5] +ys[-1:]\n",
    "\n",
    "    spline = make_interp_spline(ys, xs)\n",
    "    ys_smooth = np.linspace(min(ys), max(ys), 100)\n",
    "    xs_smooth = spline(ys_smooth)\n",
    "    zs_smooth = np.repeat(colum,len(xs_smooth))\n",
    "    ax.plot(zs_smooth,ys_smooth,xs_smooth,c='k',zorder=10)\n",
    "\n",
    "    xs = [zs_smooth[-1],zs_smooth[-1]]\n",
    "    ys = [ys_smooth[-1],ys_smooth[-1]]\n",
    "    zs = [xs_smooth[-1],52]\n",
    "    ax.plot(xs,ys,zs,c='k',zorder=10)\n",
    "\n",
    "    xs = [0,zs_smooth[-1]]\n",
    "    ys = [ys_smooth[-1],ys_smooth[-1]]\n",
    "    zs = [xs_smooth[-1],xs_smooth[-1]]\n",
    "    ax.plot(xs,ys,zs,c='k',zorder=10)\n",
    "\n",
    "    zs_smooth = np.repeat(0,len(xs_smooth))\n",
    "    ax.plot(zs_smooth,ys_smooth,xs_smooth,c='k',zorder=10)\n",
    "\n",
    "    xs = [zs_smooth[-1],zs_smooth[-1]]\n",
    "    ys = [ys_smooth[-1],ys_smooth[-1]]\n",
    "    zs = [xs_smooth[-1],52]\n",
    "    ax.plot(xs,ys,zs,c='k',zorder=10)\n",
    "\n",
    "    ax.set_xlim(0,220)\n",
    "    ax.set_ylim(0,220)\n",
    "    ax.set_zlim(0,60)\n",
    "    ax.view_init(elev=30, azim=30)\n",
    "    ax.set_box_aspect((2200,2200,30*10))\n",
    "    ax.invert_zaxis()\n",
    "\n",
    "    fig.set_size_inches(12,12)\n",
    "    #plt.show()\n",
    "    plt.savefig(Path(model_ws) /'_output'/'{0:02d}.png'.format(kper))\n",
    "\n",
    "\n",
    "\n",
    "from PIL import Image\n",
    "import os\n",
    "\n",
    "# Set the directory containing the PNG files\n",
    "png_dir = Path(model_ws) /'_output'\n",
    "\n",
    "# Set the output file name\n",
    "gif_file = 'output.gif'\n",
    "\n",
    "# Set the size of the resized images\n",
    "size = (1000, 1000)\n",
    "\n",
    "# Create a list of all PNG files in the directory\n",
    "png_files = [f for f in os.listdir(png_dir) if f.endswith('.png')]\n",
    "\n",
    "# Open each PNG file, resize it, and append it to a list of frames\n",
    "frames = []\n",
    "for png_file in png_files:\n",
    "    with Image.open(os.path.join(png_dir, png_file)) as im:\n",
    "        im_resized = im.resize(size)\n",
    "        frames.append(im_resized)\n",
    "\n",
    "# Save the frames as an animated GIF\n",
    "frames[0].save(Path(model_ws) /'_output'/ gif_file, save_all=True, append_images=frames[1:], duration=200, loop=0)\n"
   ]
  },
  {
   "cell_type": "code",
   "execution_count": null,
   "metadata": {},
   "outputs": [],
   "source": []
  },
  {
   "cell_type": "code",
   "execution_count": null,
   "metadata": {},
   "outputs": [],
   "source": []
  },
  {
   "cell_type": "markdown",
   "metadata": {},
   "source": [
    "# PyVista"
   ]
  },
  {
   "cell_type": "code",
   "execution_count": null,
   "metadata": {},
   "outputs": [],
   "source": [
    "import numpy as np\n",
    "import pyvista as pv\n",
    "np.bool = np.bool_"
   ]
  },
  {
   "cell_type": "code",
   "execution_count": null,
   "metadata": {},
   "outputs": [],
   "source": []
  },
  {
   "cell_type": "code",
   "execution_count": null,
   "metadata": {},
   "outputs": [],
   "source": []
  },
  {
   "cell_type": "code",
   "execution_count": null,
   "metadata": {},
   "outputs": [],
   "source": [
    "\n",
    "for kper in range(nper):\n",
    "    # Read the concentration data from the UCN file\n",
    "    ucnobj = flopy.utils.binaryfile.UcnFile(model_ws + '/MT3D001.UCN')\n",
    "    concentration_array = ucnobj.get_data(kstpkper=(0, kper))# (time step, stress period)\n",
    "\n",
    "    concentration_array[concentration_array==1e30]=0\n",
    "    concentration_array[concentration_array<0.1]=0\n",
    "    arr = concentration_array[:,:,:].T\n",
    "    arr = arr[:,:,::-1]\n",
    "    #arr[np.where(arr<1)]=1\n",
    "\n",
    "    # Create the spatial reference\n",
    "    grid = pv.ImageData()\n",
    "    grid.dimensions = np.array(arr.shape) + 1\n",
    "    grid.origin = (0,0,0)  # The bottom left corner of the data set\n",
    "    grid.spacing = (delc, delr, 30/nlay)  # These are the cell sizes along each axis\n",
    "\n",
    "\n",
    "    # Add the data values to the cell data\n",
    "    grid.cell_data[\"arr\"] = arr.flatten(order=\"F\")  # Flatten the array\n",
    "\n",
    "\n",
    "    pl = pv.Plotter()\n",
    "    pl.add_volume(grid,cmap='rainbow')\n",
    "\n",
    "    points = np.array([[0, 0, 0], [0,0,27],[0,2200,10],[0,2200,0],[0,0,0]])\n",
    "    poly = pyvista.lines_from_points(points)\n",
    "    pl.add_mesh(poly, color='lightblue', line_width=5)\n",
    "\n",
    "    points = np.array([[0,2200,10],[0,2200,0],[2200,2200,0],[2200,2200,10],[0,2200,10]])\n",
    "    poly = pyvista.lines_from_points(points)\n",
    "    pl.add_mesh(poly, color='lightblue', line_width=5)\n",
    "\n",
    "\n",
    "    points = np.array([[2200, 0, 0], [2200,0,27],[2200,2200,10],[2200,2200,0],[2200,0,0]])\n",
    "    poly = pyvista.lines_from_points(points)\n",
    "    pl.add_mesh(poly, color='lightblue', line_width=5)\n",
    "\n",
    "\n",
    "    points = np.array([[0,0,27],[0,0,0],[2200,0,0],[2200,0,27],[0,0,27]])\n",
    "    poly = pyvista.lines_from_points(points)\n",
    "    pl.add_mesh(poly, color='lightblue', line_width=5)\n",
    "\n",
    "    # pl.camera.position = (1100, 1100, 10)\n",
    "    # pl.camera.focal_point = (1100,1200, -20)\n",
    "    # pl.camera.up = (0.0, 0.0, 0.0)\n",
    "    # pl.camera.zoom(1.0)\n",
    "\n",
    "    pl.camera_position = 'yz'\n",
    "    pl.camera.elevation = 45\n",
    "\n",
    "    pl.set_scale(zscale=20)\n",
    " \n",
    "\n",
    "\n",
    "    pl.show(screenshot=Path(model_ws)/'_output'/'pv_{:02}'.format(kper))"
   ]
  },
  {
   "cell_type": "code",
   "execution_count": null,
   "metadata": {},
   "outputs": [],
   "source": []
  },
  {
   "cell_type": "code",
   "execution_count": null,
   "metadata": {},
   "outputs": [],
   "source": []
  },
  {
   "cell_type": "code",
   "execution_count": null,
   "metadata": {},
   "outputs": [],
   "source": []
  },
  {
   "cell_type": "code",
   "execution_count": null,
   "metadata": {},
   "outputs": [],
   "source": [
    "# Create a figure with 2 rows and 4 columns of subplots\n",
    "fig, axes = plt.subplots(3, 4)\n",
    "\n",
    "# Load the concentration data from the UCN file\n",
    "budobj = bf.UcnFile(model_ws + '/MT3D001.UCN', model=model)\n",
    "\n",
    "# Get the times for which concentration data is available\n",
    "times = budobj.get_times()\n",
    "\n",
    "# Select 8 time indices evenly spaced throughout the simulation period\n",
    "selected_indices = [int(n) for n in np.linspace(0, len(times)-1,12)]\n",
    "\n",
    "# Loop over the selected time indices\n",
    "for n in range(12):\n",
    "    # Get the concentration data for the selected time\n",
    "    conc = budobj.get_data(totim=times[selected_indices[n]])\n",
    "    conc[conc==1.e+30] = 0\n",
    "    \n",
    "    # Flatten the axes array and select the nth subplot\n",
    "    ax = axes.flatten()[n]\n",
    "    \n",
    "    # Plot the sum of the concentration data over the x-axis\n",
    "    im1 = ax.imshow(np.sum(conc, axis=0), cmap='coolwarm', vmin=0, vmax=500)\n",
    "    \n",
    "    # Add a colorbar to the figure\n",
    "    cbar_ax = fig.add_axes([0.25, 0.01, 0.5, 0.05])\n",
    "    fig.colorbar(im1, cax=cbar_ax, orientation='horizontal')\n",
    "    \n",
    "    # Set the title of the subplot to the selected time in years\n",
    "    ax.set_title('{:.1f} years'.format(times[selected_indices[n]]/365))\n",
    "    \n",
    "    # Add a shoreline  to the subplot\n",
    "    ax.axhline(y=170*2, c='k')\n",
    "\n",
    "# Set the size of the figure\n",
    "fig.set_size_inches(20, 15)"
   ]
  },
  {
   "cell_type": "code",
   "execution_count": null,
   "metadata": {},
   "outputs": [],
   "source": [
    "# Create a figure with 2 rows and 4 columns of subplots\n",
    "fig, axes = plt.subplots(2, 4)\n",
    "\n",
    "# Load the concentration data from the UCN file\n",
    "budobj = bf.UcnFile(model_ws + '/MT3D001.UCN', model=model)\n",
    "\n",
    "# Get the times for which concentration data is available\n",
    "times = budobj.get_times()\n",
    "\n",
    "# Select 8 time indices evenly spaced throughout the simulation period\n",
    "selected_indices = [int(n) for n in np.linspace(0, len(times)-1,8)]\n",
    "\n",
    "# Loop over the selected time indices\n",
    "for n in range(8):\n",
    "    # Get the concentration data for the selected time\n",
    "    conc = budobj.get_data(totim=times[selected_indices[n]])\n",
    "    conc[conc==1.e+30] = 0\n",
    "    \n",
    "    # Flatten the axes array and select the nth subplot\n",
    "    ax = axes.flatten()[n]\n",
    "    \n",
    "    # Plot the sum of the concentration data over the x-axis\n",
    "    im1 = ax.imshow(np.sum(conc, axis=0), cmap='coolwarm', vmin=0, vmax=500)\n",
    "    \n",
    "    # Add a colorbar to the figure\n",
    "    cbar_ax = fig.add_axes([0.25, 0.01, 0.5, 0.05])\n",
    "    fig.colorbar(im1, cax=cbar_ax, orientation='horizontal')\n",
    "    \n",
    "    # Set the title of the subplot to the selected time in years\n",
    "    ax.set_title('{:.1f} years'.format(times[selected_indices[n]]/365))\n",
    "    \n",
    "    # Add a shoreline  to the subplot\n",
    "    ax.axhline(y=140, c='k')\n",
    "\n",
    "# Set the size of the figure\n",
    "fig.set_size_inches(20, 8)"
   ]
  },
  {
   "cell_type": "code",
   "execution_count": null,
   "metadata": {},
   "outputs": [],
   "source": []
  },
  {
   "cell_type": "code",
   "execution_count": null,
   "metadata": {},
   "outputs": [],
   "source": []
  },
  {
   "cell_type": "code",
   "execution_count": null,
   "metadata": {},
   "outputs": [],
   "source": []
  },
  {
   "cell_type": "code",
   "execution_count": null,
   "metadata": {},
   "outputs": [],
   "source": []
  },
  {
   "cell_type": "code",
   "execution_count": null,
   "metadata": {},
   "outputs": [],
   "source": [
    "xsect = flopy.plot.crosssection.PlotCrossSection(model=model, line={'Column': 100})\n",
    "patches = xsect.plot_ibound()\n",
    "plt.colorbar(patches)\n",
    "plt.gcf().set_size_inches(10,8)"
   ]
  },
  {
   "cell_type": "code",
   "execution_count": null,
   "metadata": {},
   "outputs": [],
   "source": [
    "xsect = flopy.plot.crosssection.PlotCrossSection(model=model, line={'Column': 100})\n",
    "patches = xsect.plot_array(bas.strt.array)\n",
    "plt.colorbar(patches)\n",
    "plt.gcf().set_size_inches(10,4)"
   ]
  },
  {
   "cell_type": "code",
   "execution_count": null,
   "metadata": {},
   "outputs": [],
   "source": []
  }
 ],
 "metadata": {
  "kernelspec": {
   "display_name": "Python 3",
   "language": "python",
   "name": "python3"
  },
  "language_info": {
   "codemirror_mode": {
    "name": "ipython",
    "version": 3
   },
   "file_extension": ".py",
   "mimetype": "text/x-python",
   "name": "python",
   "nbconvert_exporter": "python",
   "pygments_lexer": "ipython3",
   "version": "3.11.5"
  }
 },
 "nbformat": 4,
 "nbformat_minor": 4
}
