{
 "cells": [
  {
   "cell_type": "code",
   "execution_count": 73,
   "metadata": {},
   "outputs": [],
   "source": [
    "import flopy\n",
    "import numpy as np\n",
    "import matplotlib.pyplot as plt\n",
    "import shutil\n",
    "from pathlib import Path\n",
    "\n",
    "\n",
    "from datetime import datetime\n",
    "from tempfile import TemporaryDirectory\n",
    "from tempfile import mkdtemp\n",
    "\n",
    "import os\n",
    "import platform\n",
    "import subprocess\n",
    "#from shapely.geometry import Polygon, Point\n",
    "#from scipy.interpolate import make_interp_spline"
   ]
  },
  {
   "cell_type": "code",
   "execution_count": 74,
   "metadata": {},
   "outputs": [],
   "source": [
    "def open_file(path):\n",
    "    if platform.system() == \"Windows\":\n",
    "        os.startfile(path)\n",
    "    elif platform.system() == \"Darwin\":\n",
    "        subprocess.Popen([\"open\", path])\n",
    "    else:\n",
    "        subprocess.Popen([\"xdg-open\", path])"
   ]
  },
  {
   "cell_type": "code",
   "execution_count": null,
   "metadata": {},
   "outputs": [],
   "source": []
  },
  {
   "cell_type": "markdown",
   "metadata": {},
   "source": [
    "# Plot Results"
   ]
  },
  {
   "cell_type": "markdown",
   "metadata": {},
   "source": []
  },
  {
   "cell_type": "code",
   "execution_count": null,
   "metadata": {},
   "outputs": [],
   "source": [
    "model_ws = \"C:\\\\Users\\\\swan47\\\\AppData\\\\Local\\\\Temp\\\\_T1027115022_wasaga_c96bgfib\" # HMOC\n",
    "model = flopy.modflow.Modflow.load('example_model.nam', model_ws=model_ws)"
   ]
  },
  {
   "cell_type": "code",
   "execution_count": null,
   "metadata": {},
   "outputs": [],
   "source": [
    "# FDM 70 years\n",
    "model_ws = 'C:\\\\Users\\\\swan47\\\\AppData\\\\Local\\\\Temp\\\\_T1027155237_wasaga_8w84q7ca' \n",
    "model = flopy.modflow.Modflow.load('example_model.nam', model_ws=model_ws)"
   ]
  },
  {
   "cell_type": "code",
   "execution_count": null,
   "metadata": {},
   "outputs": [],
   "source": [
    "model_ws = 'C:\\\\Users\\\\swan47\\\\AppData\\\\Local\\\\Temp\\\\_T1027151129_wasaga_pzvlih61' ## Heterogeneity , Sigma=2\n",
    "model = flopy.modflow.Modflow.load('example_model.nam', model_ws=model_ws)"
   ]
  },
  {
   "cell_type": "code",
   "execution_count": null,
   "metadata": {},
   "outputs": [],
   "source": [
    "## Heterogeneity , Log Normal Sigma =0.4\n",
    "model_ws = 'C:\\\\Users\\\\swan47\\\\AppData\\\\Local\\\\Temp\\\\_T1027200024_wasaga_4bbtdli5'\n",
    "model = flopy.modflow.Modflow.load('example_model.nam', model_ws=model_ws)"
   ]
  },
  {
   "cell_type": "code",
   "execution_count": null,
   "metadata": {},
   "outputs": [],
   "source": [
    "\n",
    "## Langmuir \n",
    "model_ws = Path('C:/Users/swan47/Documents/Data/_wasaga_regional_local/_T1027204957_wasaga_xiniyo6w_langmuir')\n",
    "model = flopy.modflow.Modflow.load('example_model.nam', model_ws=model_ws)"
   ]
  },
  {
   "cell_type": "code",
   "execution_count": null,
   "metadata": {},
   "outputs": [],
   "source": [
    "\n",
    "\n",
    "model_ws = '/Volumes/WD Green/Data/pmwin_projects/_T1027204957_wasaga_xiniyo6w_langmuir'\n",
    "model = flopy.modflow.Modflow.load('example_model.nam', model_ws=model_ws)"
   ]
  },
  {
   "cell_type": "code",
   "execution_count": null,
   "metadata": {},
   "outputs": [],
   "source": [
    "\n",
    "model_ws = Path('/var/folders/hy/v14_l_r91tl2w5s9xfm9p2kc0000gn/T/_T1027235020_wasaga_722y1j58')\n",
    "model = flopy.modflow.Modflow.load('example_model.nam', model_ws=model_ws)"
   ]
  },
  {
   "cell_type": "code",
   "execution_count": null,
   "metadata": {},
   "outputs": [],
   "source": []
  },
  {
   "cell_type": "code",
   "execution_count": null,
   "metadata": {},
   "outputs": [],
   "source": []
  },
  {
   "cell_type": "markdown",
   "metadata": {},
   "source": [
    "## GW Budget  test"
   ]
  },
  {
   "cell_type": "code",
   "execution_count": null,
   "metadata": {},
   "outputs": [],
   "source": [
    "#T\n",
    "model_ws = Path('C:/Users/swan47/AppData/Local/Temp/_T1113225454_wasaga_4scesssj')\n",
    "model = flopy.modflow.Modflow.load('example_model.nam', model_ws=model_ws)"
   ]
  },
  {
   "cell_type": "code",
   "execution_count": null,
   "metadata": {},
   "outputs": [],
   "source": [
    "model_ws = Path('C:/Users/swan47/AppData/Local/Temp/_T1114011712_wasaga_hhe2cnnr')\n",
    "model = flopy.modflow.Modflow.load('example_model.nam', model_ws=model_ws)"
   ]
  },
  {
   "cell_type": "code",
   "execution_count": null,
   "metadata": {},
   "outputs": [],
   "source": [
    "model_ws = Path('C:/Users/swan47/AppData/Local/Temp/_T1114024022_wasaga__5_pv4rn')\n",
    "model = flopy.modflow.Modflow.load('example_model.nam', model_ws=model_ws)"
   ]
  },
  {
   "cell_type": "code",
   "execution_count": null,
   "metadata": {},
   "outputs": [],
   "source": [
    "model_ws = Path('C:/Users/swan47/AppData/Local/Temp/_T1114164044_wasaga_2cy8k67o') ##70 years\n",
    "model = flopy.modflow.Modflow.load('example_model.nam', model_ws=model_ws)"
   ]
  },
  {
   "cell_type": "code",
   "execution_count": null,
   "metadata": {},
   "outputs": [],
   "source": [
    "model_ws = Path('C:/Users/swan47/AppData/Local/Temp/_T1115164527_wasaga_8g0heui5') ##70 years, updated icbund\n",
    "model = flopy.modflow.Modflow.load('example_model.nam', model_ws=model_ws)"
   ]
  },
  {
   "cell_type": "code",
   "execution_count": null,
   "metadata": {},
   "outputs": [],
   "source": [
    "model_ws"
   ]
  },
  {
   "cell_type": "code",
   "execution_count": null,
   "metadata": {},
   "outputs": [],
   "source": [
    "model_ws = Path('/var/folders/hy/v14_l_r91tl2w5s9xfm9p2kc0000gn/T/_T1125184206_wasaga_0s9zwl7u') ##70 years, updated icbund\n",
    "model = flopy.modflow.Modflow.load('example_model.nam', model_ws=model_ws)"
   ]
  },
  {
   "cell_type": "code",
   "execution_count": null,
   "metadata": {},
   "outputs": [],
   "source": [
    "model_ws =  Path('C:\\\\Users\\\\swan47\\\\AppData\\\\Local\\\\Temp\\\\_T1126155437_wasaga_mcympo81') # new base model\n",
    "model = flopy.modflow.Modflow.load('example_model.nam', model_ws=model_ws)"
   ]
  },
  {
   "cell_type": "code",
   "execution_count": null,
   "metadata": {},
   "outputs": [],
   "source": [
    "\n",
    "model_ws =  Path('C:\\\\Users\\\\swan47\\\\AppData\\\\Local\\\\Temp\\\\_T1126164037_wasaga_wi_39aij') # new fast conditions\n",
    "model = flopy.modflow.Modflow.load('example_model.nam', model_ws=model_ws)"
   ]
  },
  {
   "cell_type": "code",
   "execution_count": null,
   "metadata": {},
   "outputs": [],
   "source": [
    "\n",
    "model_ws =  Path('C:\\\\Users\\\\swan47\\\\AppData\\\\Local\\\\Temp\\\\_T1126173234_wasaga_2r9_cyma') # new slower conditions\n",
    "model = flopy.modflow.Modflow.load('example_model.nam', model_ws=model_ws)"
   ]
  },
  {
   "cell_type": "code",
   "execution_count": null,
   "metadata": {},
   "outputs": [],
   "source": [
    "model_ws =  Path('C:\\\\Users\\\\swan47\\\\AppData\\\\Local\\\\Temp\\\\_T1126174811_wasaga_gcs_jye6') # new fast conditions 500 years\n",
    "model = flopy.modflow.Modflow.load('example_model.nam', model_ws=model_ws)\n"
   ]
  },
  {
   "cell_type": "code",
   "execution_count": null,
   "metadata": {},
   "outputs": [],
   "source": [
    "model_ws = Path('/var/folders/hy/v14_l_r91tl2w5s9xfm9p2kc0000gn/T/_T1126231349_wasaga_i_3l1xt3') ## faster condition with lower dispersivity\n",
    "model = flopy.modflow.Modflow.load('example_model.nam', model_ws=model_ws)"
   ]
  },
  {
   "cell_type": "code",
   "execution_count": null,
   "metadata": {},
   "outputs": [],
   "source": []
  },
  {
   "cell_type": "code",
   "execution_count": null,
   "metadata": {},
   "outputs": [],
   "source": [
    "\n",
    "model_ws =  Path('/var/folders/hy/v14_l_r91tl2w5s9xfm9p2kc0000gn/T/_T1127092500_wasaga_6w77qvj_') # even faster conditions\n",
    "model = flopy.modflow.Modflow.load('example_model.nam', model_ws=model_ws)"
   ]
  },
  {
   "cell_type": "code",
   "execution_count": null,
   "metadata": {},
   "outputs": [],
   "source": []
  },
  {
   "cell_type": "markdown",
   "metadata": {},
   "source": [
    "## Comfort Station"
   ]
  },
  {
   "cell_type": "code",
   "execution_count": null,
   "metadata": {},
   "outputs": [],
   "source": [
    "\n",
    "model_ws =  Path('C:\\\\Users\\\\swan47\\\\AppData\\\\Local\\\\Temp\\\\_T1207162357_wasaga_o5u9s4y2') # old base condition, comfort station\n",
    "model = flopy.modflow.Modflow.load('example_model.nam', model_ws=model_ws)"
   ]
  },
  {
   "cell_type": "code",
   "execution_count": null,
   "metadata": {},
   "outputs": [],
   "source": [
    "\n",
    "model_ws =  Path('C:\\\\Users\\\\swan47\\\\AppData\\\\Local\\\\Temp\\\\_T1207175420_wasaga_5n5avyuh') # new base condition, comfort station,  no nearshore drain\n",
    "model = flopy.modflow.Modflow.load('example_model.nam', model_ws=model_ws)"
   ]
  },
  {
   "cell_type": "code",
   "execution_count": null,
   "metadata": {},
   "outputs": [],
   "source": []
  },
  {
   "cell_type": "code",
   "execution_count": null,
   "metadata": {},
   "outputs": [],
   "source": [
    "model_ws =  Path('C:\\\\Users\\\\swan47\\\\AppData\\\\Local\\\\Temp\\\\_T1207191219_wasaga_f80k7t8f') # new base condition, comfort station at 1250m,  no nearshore drain\n",
    "model = flopy.modflow.Modflow.load('example_model.nam', model_ws=model_ws)"
   ]
  },
  {
   "cell_type": "code",
   "execution_count": null,
   "metadata": {},
   "outputs": [],
   "source": [
    "model_ws =  Path('C:\\\\Users\\\\swan47\\\\AppData\\\\Local\\\\Temp\\\\_T1208152949_wasaga_zok1vxe8') # new base condition, comfort station at 1250m,  no nearshore drain, 500 years\n",
    "model = flopy.modflow.Modflow.load('example_model.nam', model_ws=model_ws)"
   ]
  },
  {
   "cell_type": "code",
   "execution_count": null,
   "metadata": {},
   "outputs": [],
   "source": []
  },
  {
   "cell_type": "code",
   "execution_count": null,
   "metadata": {},
   "outputs": [],
   "source": [
    "model_ws =  Path('C:\\\\Users\\\\swan47\\\\AppData\\\\Local\\\\Temp\\\\_T1208174955_wasaga_rie7u9w2') # new base condition, comfort station at 1250m,  no nearshore drain, 500 years\n",
    "model = flopy.modflow.Modflow.load('example_model.nam', model_ws=model_ws)"
   ]
  },
  {
   "cell_type": "code",
   "execution_count": null,
   "metadata": {},
   "outputs": [],
   "source": [
    "model_ws =  Path('C:\\\\Users\\\\swan47\\\\AppData\\\\Local\\\\Temp\\\\_T1213133434_wasaga_a4inkdh2') # new base condition, comfort station at 1250m,  with drain, 10 year , fine grid\n",
    "model = flopy.modflow.Modflow.load('example_model.nam', model_ws=model_ws)\n",
    "\n"
   ]
  },
  {
   "cell_type": "code",
   "execution_count": null,
   "metadata": {},
   "outputs": [],
   "source": [
    "\n",
    "model_ws =  Path('D:\\\\_T1213141439_wasaga_kd0ajh1w') # new base condition, comfort station 70m from beach,  with drain, 10 year , fine grid\n",
    "model = flopy.modflow.Modflow.load('example_model.nam', model_ws=model_ws)\n",
    "\n"
   ]
  },
  {
   "cell_type": "code",
   "execution_count": 5,
   "metadata": {},
   "outputs": [],
   "source": [
    "\n",
    "\n",
    "model_ws =  Path('C:\\\\Users\\\\swan47\\\\AppData\\\\Local\\\\Temp\\\\_T1213204545_wasaga_4xcfmuwd') # new base condition, comfort station 70m from beach,  with drain, 70 year , fine grid ## [moved to D]\n",
    "model = flopy.modflow.Modflow.load('example_model.nam', model_ws=model_ws)\n",
    "\n"
   ]
  },
  {
   "cell_type": "markdown",
   "metadata": {},
   "source": [
    "## Topography"
   ]
  },
  {
   "cell_type": "code",
   "execution_count": null,
   "metadata": {},
   "outputs": [],
   "source": []
  },
  {
   "cell_type": "code",
   "execution_count": 4,
   "metadata": {},
   "outputs": [],
   "source": [
    "model_ws =  Path('/var/folders/hy/v14_l_r91tl2w5s9xfm9p2kc0000gn/T/_T1221063806_wasaga_rb3xqkdp') #\n",
    "model = flopy.modflow.Modflow.load('example_model.nam', model_ws=model_ws)"
   ]
  },
  {
   "cell_type": "markdown",
   "metadata": {},
   "source": [
    "## Drain Conductance"
   ]
  },
  {
   "cell_type": "code",
   "execution_count": 40,
   "metadata": {},
   "outputs": [],
   "source": [
    "\n",
    "model_ws =  Path('/var/folders/hy/v14_l_r91tl2w5s9xfm9p2kc0000gn/T/_T1221085136_wasaga_u_d_bjei')  # 10\n",
    "model = flopy.modflow.Modflow.load('example_model.nam', model_ws=model_ws)"
   ]
  },
  {
   "cell_type": "code",
   "execution_count": null,
   "metadata": {},
   "outputs": [],
   "source": [
    "\n",
    "model_ws =  Path('/var/folders/hy/v14_l_r91tl2w5s9xfm9p2kc0000gn/T/_T1221122318_wasaga_tucxxlkj')  # 1\n",
    "model = flopy.modflow.Modflow.load('example_model.nam', model_ws=model_ws)"
   ]
  },
  {
   "cell_type": "code",
   "execution_count": null,
   "metadata": {},
   "outputs": [],
   "source": []
  },
  {
   "cell_type": "markdown",
   "metadata": {},
   "source": [
    "## Real Septic data"
   ]
  },
  {
   "cell_type": "code",
   "execution_count": 32,
   "metadata": {},
   "outputs": [],
   "source": []
  },
  {
   "cell_type": "code",
   "execution_count": 35,
   "metadata": {},
   "outputs": [],
   "source": [
    "\n",
    "model_ws =  Path('C:\\\\Users\\\\swan47\\\\AppData\\\\Local\\\\Temp\\\\_T0108211703_wasaga_jozjucwp')  # 56 years (if no sanitary   )\n",
    "model = flopy.modflow.Modflow.load('example_model.nam', model_ws=model_ws)"
   ]
  },
  {
   "cell_type": "code",
   "execution_count": 76,
   "metadata": {},
   "outputs": [],
   "source": [
    "model_ws =  Path('C:\\\\Users\\\\swan47\\\\AppData\\\\Local\\\\Temp\\\\_T0109005814_wasaga_8t3rbwo4')  # 56 years \n",
    "model = flopy.modflow.Modflow.load('example_model.nam', model_ws=model_ws)"
   ]
  },
  {
   "cell_type": "code",
   "execution_count": 68,
   "metadata": {},
   "outputs": [],
   "source": [
    "\n",
    "model_ws =  Path('D:\\\\_T0110015920_wasaga_')  # 500 years\n",
    "model = flopy.modflow.Modflow.load('example_model.nam', model_ws=model_ws)"
   ]
  },
  {
   "cell_type": "code",
   "execution_count": null,
   "metadata": {},
   "outputs": [],
   "source": []
  },
  {
   "cell_type": "markdown",
   "metadata": {},
   "source": [
    "# DIS"
   ]
  },
  {
   "cell_type": "code",
   "execution_count": null,
   "metadata": {},
   "outputs": [],
   "source": [
    "dis = model.dis\n",
    "nrow = dis.nrow\n",
    "ncol = dis.ncol\n",
    "nlay = dis.nlay\n",
    "\n",
    "\n",
    "delr = 2200/nrow\n",
    "delc = 2200/ncol\n",
    "layer_thickness = 30/nlay\n",
    "nper = model.dis.nper"
   ]
  },
  {
   "cell_type": "code",
   "execution_count": null,
   "metadata": {},
   "outputs": [],
   "source": [
    "open_file(model_ws)"
   ]
  },
  {
   "cell_type": "code",
   "execution_count": null,
   "metadata": {},
   "outputs": [],
   "source": []
  },
  {
   "cell_type": "markdown",
   "metadata": {},
   "source": [
    "# Cross-section"
   ]
  },
  {
   "cell_type": "markdown",
   "metadata": {},
   "source": [
    "\n",
    "## Hydraulic Head"
   ]
  },
  {
   "cell_type": "code",
   "execution_count": 69,
   "metadata": {},
   "outputs": [
    {
     "name": "stderr",
     "output_type": "stream",
     "text": [
      "c:\\Users\\swan47\\Miniconda3\\envs\\pht3d\\Lib\\site-packages\\flopy\\plot\\crosssection.py:562: UserWarning: Warning: converting a masked element to nan.\n",
      "  plotarray = np.array([a[cell] for cell in sorted(self.projpts)])\n"
     ]
    },
    {
     "data": {
      "image/png": "[encoded data removed]",
      "text/plain": [
       "<Figure size 1500x500 with 2 Axes>"
      ]
     },
     "metadata": {},
     "output_type": "display_data"
    }
   ],
   "source": [
    "fig = plt.figure(figsize=(15, 5))\n",
    "xsect = flopy.plot.PlotCrossSection(model=model, line={\"Column\": 146})\n",
    "\n",
    "hds = flopy.utils.binaryfile.HeadFile(model_ws / 'example_model.hds')\n",
    "head_data = hds.get_data(kstpkper=(0, 0)) # (time step, stress period)\n",
    "\n",
    "ibd = model.bas6.ibound.array\n",
    "masked_head_data = np.ma.masked_where(ibd== 0, head_data)\n",
    "\n",
    "cs = xsect.plot_array(masked_head_data, cmap=\"viridis\")\n",
    "plt.colorbar(cs)\n",
    "\n",
    "contour_levels = np.arange(164, 188, 0.5)\n",
    "#contour_levels = np.arange(173, 177, 0.1)\n",
    "\n",
    "contour_set = xsect.contour_array(masked_head_data, levels=contour_levels, colors=\"black\")\n",
    "plt.clabel(contour_set, inline=True, fontsize=10, fmt=\"%1.1f\")\n",
    "plt.grid()\n",
    "\n",
    "ibd = xsect.plot_ibound(color_noflow='grey')\n",
    "#ibd.set_facecolor(\"red\")  # set the color of the masked cells to grey\n",
    "\n",
    "plt.axvline(x=1700, color='black', linestyle='--')\n",
    "\n",
    "plt.text(1700, 185, 'Shoreline', ha='center', va='bottom', fontsize=12)\n",
    "# plt.xlim(1600,1750)\n",
    "# plt.ylim(165,180)\n",
    "\n",
    "# plt.axvline(x=1700-70, color='r') #source\n",
    "# plt.axvline(x=1700-70+20, color='k') #source\n",
    "# plt.axvline(x=1700-70+40, color='k') #source\n",
    "# plt.axvline(x=1700-70+60, color='k') #source\n",
    "\n",
    "\n",
    "#xs = drn_ys\n",
    "#ys = [ lay_to_meter(locate_ground_surface_lay(meter_to_row(y))) for y in drn_ys]\n",
    "#plt.scatter([x - 0.0 for x in xs],[y- 0.0 for y in ys],c='r',marker='s',s=5)\n",
    "\n",
    "plt.savefig(Path(model_ws)/'_output/hds.png')"
   ]
  },
  {
   "cell_type": "code",
   "execution_count": null,
   "metadata": {},
   "outputs": [],
   "source": [
    "open_file(model_ws)"
   ]
  },
  {
   "cell_type": "code",
   "execution_count": null,
   "metadata": {},
   "outputs": [],
   "source": []
  },
  {
   "cell_type": "code",
   "execution_count": null,
   "metadata": {},
   "outputs": [],
   "source": []
  },
  {
   "cell_type": "code",
   "execution_count": 71,
   "metadata": {},
   "outputs": [],
   "source": [
    "open_file(model_ws)"
   ]
  },
  {
   "cell_type": "code",
   "execution_count": 70,
   "metadata": {},
   "outputs": [
    {
     "data": {
      "text/plain": [
       "<Figure size 1500x400 with 0 Axes>"
      ]
     },
     "metadata": {},
     "output_type": "display_data"
    }
   ],
   "source": [
    "### read data\n",
    "\n",
    "col = int(ncol/3)\n",
    "col = 146\n",
    "ibound = model.bas6.ibound.array\n",
    "ucnobj = flopy.utils.binaryfile.UcnFile(model_ws / 'MT3D001.UCN')\n",
    "\n",
    "# for kper in range(nper):\n",
    "for kper in [55]:\n",
    "    # Read the concentration data from the UCN file\n",
    "    \n",
    "    concentration_array = ucnobj.get_data(kstpkper=(0, kper))# (time step, stress period)\n",
    "\n",
    "    # Mask the inactive cells\n",
    "    mask = ((ibound== 0)|(concentration_array>=1e30))\n",
    "    masked_conc_data = np.ma.masked_where(mask, concentration_array)\n",
    "\n",
    "    ### plotting# #######\n",
    "    fig = plt.figure(figsize=(15, 4))\n",
    "    line = {\"Column\": col}\n",
    "\n",
    "    # Create a PlotCrossSection object for the model\n",
    "    xsect = flopy.plot.PlotCrossSection(model=model, line=line)\n",
    "\n",
    "    # Plot the concentration results\n",
    "    cs = xsect.plot_array(masked_conc_data, cmap='coolwarm', vmin=0.1, vmax=500)\n",
    "    plt.colorbar(cs)\n",
    "    ibd = xsect.plot_ibound(color_noflow='grey')\n",
    "    plt.title('col:{:03}, kper:{:02}'.format(col,kper))\n",
    "    plt.savefig(Path(model_ws)/'_output/conc_{:02}.png'.format(kper))\n",
    "    plt.clf()\n",
    "\n",
    "##--------"
   ]
  },
  {
   "cell_type": "code",
   "execution_count": null,
   "metadata": {},
   "outputs": [
    {
     "data": {
      "image/png": "[encoded data removed]",
      "text/plain": [
       "<Figure size 1500x400 with 2 Axes>"
      ]
     },
     "metadata": {},
     "output_type": "display_data"
    }
   ],
   "source": [
    "### close up image\n",
    "\n",
    "col = int(ncol/3)\n",
    "ibound = model.bas6.ibound.array\n",
    "ucnobj = flopy.utils.binaryfile.UcnFile(model_ws / 'MT3D001.UCN')\n",
    "\n",
    "# for kper in range(nper):\n",
    "for kper in [59]:\n",
    "    # Read the concentration data from the UCN file\n",
    "    \n",
    "    concentration_array = ucnobj.get_data(kstpkper=(0, kper))# (time step, stress period)\n",
    "\n",
    "    # Mask the inactive cells\n",
    "    mask = ((ibound== 0)|(concentration_array>=1e30))\n",
    "    masked_conc_data = np.ma.masked_where(mask, concentration_array)\n",
    "\n",
    "    ### plotting# #######\n",
    "    fig = plt.figure(figsize=(15, 4))\n",
    "    line = {\"Column\": col}\n",
    "\n",
    "    # Create a PlotCrossSection object for the model\n",
    "    xsect = flopy.plot.PlotCrossSection(model=model, line=line)\n",
    "\n",
    "    # Plot the concentration results\n",
    "    cs = xsect.plot_array(masked_conc_data, cmap='coolwarm', vmin=0.1, vmax=200)\n",
    "    plt.colorbar(cs)\n",
    "    ibd = xsect.plot_ibound(color_noflow='grey')\n",
    "    plt.title('col:{:03}, kper:{:02}'.format(col,kper))\n",
    "    plt.xlim(1600,1750)\n",
    "    plt.ylim(165,180)\n",
    "\n",
    "    plt.axvline(x=1700-70, color='r') #source\n",
    "    plt.axvline(x=1700-70+20, color='k') #source\n",
    "    plt.axvline(x=1700-70+40, color='k') #source\n",
    "    plt.axvline(x=1700-70+60, color='k') #source\n",
    "    #plt.savefig(Path(model_ws)/'_output/conc_{:02}.png'.format(kper))\n",
    "    #plt.clf()\n",
    "\n",
    "##--------"
   ]
  },
  {
   "cell_type": "markdown",
   "metadata": {},
   "source": [
    "## Row View Xsect"
   ]
  },
  {
   "cell_type": "code",
   "execution_count": 33,
   "metadata": {},
   "outputs": [
    {
     "data": {
      "text/plain": [
       "5.0"
      ]
     },
     "execution_count": 33,
     "metadata": {},
     "output_type": "execute_result"
    }
   ],
   "source": []
  },
  {
   "cell_type": "code",
   "execution_count": 44,
   "metadata": {},
   "outputs": [
    {
     "data": {
      "text/plain": [
       "730.0"
      ]
     },
     "execution_count": 44,
     "metadata": {},
     "output_type": "execute_result"
    }
   ],
   "source": []
  },
  {
   "cell_type": "code",
   "execution_count": 46,
   "metadata": {},
   "outputs": [
    {
     "ename": "Exception",
     "evalue": "get_data() error: kstpkper not found:(0, 59)",
     "output_type": "error",
     "traceback": [
      "\u001b[0;31m---------------------------------------------------------------------------\u001b[0m",
      "\u001b[0;31mException\u001b[0m                                 Traceback (most recent call last)",
      "Cell \u001b[0;32mIn[46], line 12\u001b[0m\n\u001b[1;32m      8\u001b[0m \u001b[38;5;66;03m# for kper in range(nper):\u001b[39;00m\n\u001b[1;32m      9\u001b[0m \u001b[38;5;28;01mfor\u001b[39;00m kper \u001b[38;5;129;01min\u001b[39;00m [\u001b[38;5;241m59\u001b[39m]:\n\u001b[1;32m     10\u001b[0m     \u001b[38;5;66;03m# Read the concentration data from the UCN file\u001b[39;00m\n\u001b[0;32m---> 12\u001b[0m     concentration_array \u001b[38;5;241m=\u001b[39m \u001b[43mucnobj\u001b[49m\u001b[38;5;241;43m.\u001b[39;49m\u001b[43mget_data\u001b[49m\u001b[43m(\u001b[49m\u001b[43mkstpkper\u001b[49m\u001b[38;5;241;43m=\u001b[39;49m\u001b[43m(\u001b[49m\u001b[38;5;241;43m0\u001b[39;49m\u001b[43m,\u001b[49m\u001b[43m \u001b[49m\u001b[43mkper\u001b[49m\u001b[43m)\u001b[49m\u001b[43m)\u001b[49m\u001b[38;5;66;03m# (time step, stress period)\u001b[39;00m\n\u001b[1;32m     14\u001b[0m     \u001b[38;5;66;03m# Mask the inactive cells\u001b[39;00m\n\u001b[1;32m     15\u001b[0m     mask \u001b[38;5;241m=\u001b[39m ((ibound\u001b[38;5;241m==\u001b[39m \u001b[38;5;241m0\u001b[39m)\u001b[38;5;241m|\u001b[39m(concentration_array\u001b[38;5;241m>\u001b[39m\u001b[38;5;241m=\u001b[39m\u001b[38;5;241m1e30\u001b[39m))\n",
      "File \u001b[0;32m~/miniforge3/envs/pht3d/lib/python3.11/site-packages/flopy/utils/datafile.py:529\u001b[0m, in \u001b[0;36mLayerFile.get_data\u001b[0;34m(self, kstpkper, idx, totim, mflay)\u001b[0m\n\u001b[1;32m    524\u001b[0m     idx \u001b[38;5;241m=\u001b[39m np\u001b[38;5;241m.\u001b[39mwhere(\n\u001b[1;32m    525\u001b[0m         (\u001b[38;5;28mself\u001b[39m\u001b[38;5;241m.\u001b[39mrecordarray[\u001b[38;5;124m\"\u001b[39m\u001b[38;5;124mkstp\u001b[39m\u001b[38;5;124m\"\u001b[39m] \u001b[38;5;241m==\u001b[39m kstp1)\n\u001b[1;32m    526\u001b[0m         \u001b[38;5;241m&\u001b[39m (\u001b[38;5;28mself\u001b[39m\u001b[38;5;241m.\u001b[39mrecordarray[\u001b[38;5;124m\"\u001b[39m\u001b[38;5;124mkper\u001b[39m\u001b[38;5;124m\"\u001b[39m] \u001b[38;5;241m==\u001b[39m kper1)\n\u001b[1;32m    527\u001b[0m     )\n\u001b[1;32m    528\u001b[0m     \u001b[38;5;28;01mif\u001b[39;00m idx[\u001b[38;5;241m0\u001b[39m]\u001b[38;5;241m.\u001b[39mshape[\u001b[38;5;241m0\u001b[39m] \u001b[38;5;241m==\u001b[39m \u001b[38;5;241m0\u001b[39m:\n\u001b[0;32m--> 529\u001b[0m         \u001b[38;5;28;01mraise\u001b[39;00m \u001b[38;5;167;01mException\u001b[39;00m(\n\u001b[1;32m    530\u001b[0m             \u001b[38;5;124mf\u001b[39m\u001b[38;5;124m\"\u001b[39m\u001b[38;5;124mget_data() error: kstpkper not found:\u001b[39m\u001b[38;5;132;01m{\u001b[39;00mkstpkper\u001b[38;5;132;01m}\u001b[39;00m\u001b[38;5;124m\"\u001b[39m\n\u001b[1;32m    531\u001b[0m         )\n\u001b[1;32m    532\u001b[0m     totim1 \u001b[38;5;241m=\u001b[39m \u001b[38;5;28mself\u001b[39m\u001b[38;5;241m.\u001b[39mrecordarray[idx][\u001b[38;5;124m\"\u001b[39m\u001b[38;5;124mtotim\u001b[39m\u001b[38;5;124m\"\u001b[39m][\u001b[38;5;241m0\u001b[39m]\n\u001b[1;32m    533\u001b[0m \u001b[38;5;28;01melif\u001b[39;00m totim \u001b[38;5;129;01mis\u001b[39;00m \u001b[38;5;129;01mnot\u001b[39;00m \u001b[38;5;28;01mNone\u001b[39;00m:\n",
      "\u001b[0;31mException\u001b[0m: get_data() error: kstpkper not found:(0, 59)"
     ]
    }
   ],
   "source": [
    "### read data\n",
    "\n",
    "#col = int(ncol/3)\n",
    "row =  int((1700-70+20+20+20)/(delc))\n",
    "ibound = model.bas6.ibound.array\n",
    "ucnobj = flopy.utils.binaryfile.UcnFile(model_ws / 'MT3D001.UCN')\n",
    "\n",
    "# for kper in range(nper):\n",
    "for kper in [59]:\n",
    "    # Read the concentration data from the UCN file\n",
    "    \n",
    "    concentration_array = ucnobj.get_data(kstpkper=(0, kper))# (time step, stress period)\n",
    "\n",
    "    # Mask the inactive cells\n",
    "    mask = ((ibound== 0)|(concentration_array>=1e30))\n",
    "    masked_conc_data = np.ma.masked_where(mask, concentration_array)\n",
    "\n",
    "    ### plotting# #######\n",
    "    fig = plt.figure(figsize=(15, 4))\n",
    "    line = {\"Row\": row}\n",
    "\n",
    "    # Create a PlotCrossSection object for the model\n",
    "    xsect = flopy.plot.PlotCrossSection(model=model, line=line)\n",
    "\n",
    "    # Plot the concentration results\n",
    "    cs = xsect.plot_array(masked_conc_data, cmap='coolwarm', vmin=0.1, vmax=300)\n",
    "    plt.colorbar(cs)\n",
    "    ibd = xsect.plot_ibound(color_noflow='grey')\n",
    "    plt.title('row:{:03}, kper:{:02}'.format(row,kper))\n",
    "    plt.xlim(700,760)\n",
    "    plt.ylim(166,176)\n",
    "    plt.savefig(Path(model_ws)/'_output/conc_rowview_row{:02}_{:02}.png'.format(row,kper))\n",
    "    \n",
    "    plt.clf()\n",
    "\n",
    "##--------"
   ]
  },
  {
   "cell_type": "code",
   "execution_count": null,
   "metadata": {},
   "outputs": [],
   "source": []
  },
  {
   "cell_type": "markdown",
   "metadata": {},
   "source": [
    "# GW Budget"
   ]
  },
  {
   "cell_type": "code",
   "execution_count": 36,
   "metadata": {},
   "outputs": [],
   "source": [
    "import warnings\n",
    "warnings.filterwarnings(\"ignore\", category=DeprecationWarning) "
   ]
  },
  {
   "cell_type": "code",
   "execution_count": 37,
   "metadata": {},
   "outputs": [],
   "source": [
    "cbc = flopy.utils.CellBudgetFile(model_ws /'example_model.cbc', model=model)\n",
    "\n",
    "times = cbc.get_times()\n",
    "fff = cbc.get_data(text='FLOW FRONT FACE', totim=times[-1])[0]\n",
    "frf = cbc.get_data(text='FLOW RIGHT FACE', totim=times[-1])[0]\n",
    "flf = cbc.get_data(text='FLOW LOWER FACE', totim=times[-1])[0]\n",
    "faf = flf + fff + frf\n"
   ]
  },
  {
   "cell_type": "code",
   "execution_count": 38,
   "metadata": {},
   "outputs": [],
   "source": [
    "ch  = cbc.get_data(text='CONSTANT HEAD', totim=times[0])[0]"
   ]
  },
  {
   "cell_type": "code",
   "execution_count": null,
   "metadata": {},
   "outputs": [],
   "source": []
  },
  {
   "cell_type": "code",
   "execution_count": 48,
   "metadata": {},
   "outputs": [
    {
     "name": "stdout",
     "output_type": "stream",
     "text": [
      "0\n",
      "1\n",
      "2\n",
      "3\n",
      "4\n",
      "5\n",
      "6\n",
      "7\n",
      "8\n",
      "9\n"
     ]
    },
    {
     "data": {
      "text/plain": [
       "<matplotlib.legend.Legend at 0x17ca5e550>"
      ]
     },
     "execution_count": 48,
     "metadata": {},
     "output_type": "execute_result"
    },
    {
     "data": {
      "image/png": "[encoded data removed]",
      "text/plain": [
       "<Figure size 640x480 with 1 Axes>"
      ]
     },
     "metadata": {},
     "output_type": "display_data"
    }
   ],
   "source": [
    "cbc = flopy.utils.CellBudgetFile(model_ws /'example_model.cbc', model=model)\n",
    "ucnobj = flopy.utils.binaryfile.UcnFile(model_ws / 'MT3D001.UCN')\n",
    "\n",
    "times = cbc.get_times()\n",
    "xs = []\n",
    "ys = []\n",
    "ys1 =[]\n",
    "ys2 = []\n",
    "for n in range(len(times)):\n",
    "    print(n)\n",
    "    ucn= ucnobj.get_data( totim=times[n])\n",
    "    ucn[ucn==1e30]=0\n",
    "\n",
    "    ch  = cbc.get_data(text='CONSTANT HEAD', totim=times[n])[0]\n",
    "    ch2 = [(np.unravel_index(i[0],(nlay,nrow,ncol)),i[1]) for i in ch]\n",
    "    ch3 = [i for i in ch2 if i[0] if i[0][1]>float(2200/2/delr)] ## lake\n",
    "    #print(np.sum([i[1] for i in ch3]))\n",
    "\n",
    "    dr = cbc.get_data(text='DRAINS', totim=times[n])[0]\n",
    "\n",
    "    dr2 = [(np.unravel_index(i[0],(nlay,nrow,ncol)),i[1]) for i in dr]\n",
    "    dr3 = [i for i in dr2 if i[0] if i[0][1]>float(2200/2/delr)] ## lakeshore\n",
    "    #print(np.sum([i[1] for i in dr3]))\n",
    "\n",
    "    dr4 = [i for i in dr2 if i[0] if i[0][1]<float(2200/2/delr)] ## upland\n",
    "    #print(np.sum([i[1] for i in dr4]))\n",
    "\n",
    "\n",
    "    ys.append(0.51*-5000*2)\n",
    "    ys1.append(np.sum([1*i[1] for i in ch3]))\n",
    "    ys2.append(np.sum([1*i[1] for i in dr3]))\n",
    "    xs.append(n)\n",
    "\n",
    "#plt.plot(xs,ys,label='SRP: input')\n",
    "plt.plot(xs,ys1,label='SRP: lake')\n",
    "plt.plot(xs,ys2,label = 'SRP: drain')\n",
    "plt.xlabel('kper')\n",
    "plt.ylabel('mg/D')\n",
    "plt.gca().invert_yaxis()\n",
    "plt.legend()"
   ]
  },
  {
   "cell_type": "code",
   "execution_count": 45,
   "metadata": {},
   "outputs": [
    {
     "name": "stdout",
     "output_type": "stream",
     "text": [
      "0\n",
      "1\n",
      "2\n",
      "3\n",
      "4\n",
      "5\n",
      "6\n",
      "7\n",
      "8\n",
      "9\n"
     ]
    },
    {
     "data": {
      "text/plain": [
       "<matplotlib.legend.Legend at 0x132b11d10>"
      ]
     },
     "execution_count": 45,
     "metadata": {},
     "output_type": "execute_result"
    },
    {
     "data": {
      "image/png": "[encoded data removed]",
      "text/plain": [
       "<Figure size 640x480 with 1 Axes>"
      ]
     },
     "metadata": {},
     "output_type": "display_data"
    }
   ],
   "source": [
    "cbc = flopy.utils.CellBudgetFile(model_ws /'example_model.cbc', model=model)\n",
    "ucnobj = flopy.utils.binaryfile.UcnFile(model_ws / 'MT3D001.UCN')\n",
    "\n",
    "times = cbc.get_times()\n",
    "xs = []\n",
    "ys = []\n",
    "ys1 =[]\n",
    "ys2 = []\n",
    "for n in range(len(times)):\n",
    "    print(n)\n",
    "    ucn= ucnobj.get_data( totim=times[n])\n",
    "    ucn[ucn==1e30]=0\n",
    "\n",
    "    ch  = cbc.get_data(text='CONSTANT HEAD', totim=times[n])[0]\n",
    "    ch2 = [(np.unravel_index(i[0],(nlay,nrow,ncol)),i[1]) for i in ch]\n",
    "    ch3 = [i for i in ch2 if i[0] if i[0][1]>float(2200/2/delr)] ## lake\n",
    "    #print(np.sum([i[1] for i in ch3]))\n",
    "\n",
    "    dr = cbc.get_data(text='DRAINS', totim=times[n])[0]\n",
    "\n",
    "    dr2 = [(np.unravel_index(i[0],(nlay,nrow,ncol)),i[1]) for i in dr]\n",
    "    dr3 = [i for i in dr2 if i[0] if i[0][1]>float(2200/2/delr)] ## lakeshore\n",
    "    #print(np.sum([i[1] for i in dr3]))\n",
    "\n",
    "    dr4 = [i for i in dr2 if i[0] if i[0][1]<float(2200/2/delr)] ## upland\n",
    "    #print(np.sum([i[1] for i in dr4]))\n",
    "\n",
    "\n",
    "    ys.append(0.51*-5000*2)\n",
    "    ys1.append(np.sum([ucn[i[0]]*i[1] for i in ch3]))\n",
    "    ys2.append(np.sum([ucn[i[0]]*i[1] for i in dr3]))\n",
    "    xs.append(n)\n",
    "\n",
    "#plt.plot(xs,ys,label='SRP: input')\n",
    "plt.plot(xs,ys1,label='SRP: lake')\n",
    "plt.plot(xs,ys2,label = 'SRP: drain')\n",
    "plt.xlabel('kper')\n",
    "plt.ylabel('mg/D')\n",
    "plt.gca().invert_yaxis()\n",
    "plt.legend()"
   ]
  },
  {
   "cell_type": "code",
   "execution_count": null,
   "metadata": {},
   "outputs": [],
   "source": [
    "#plt.plot(xs,ys,label='SRP: input')\n",
    "plt.plot(xs,np.array(ys1) + np.array(ys2),label='SRP: lake + drain')\n",
    "\n",
    "plt.xlabel('kper')\n",
    "plt.ylabel('mg/D')\n",
    "plt.gca().invert_yaxis()\n",
    "plt.legend()\n",
    "plt.ylim(0,-1500)"
   ]
  },
  {
   "cell_type": "code",
   "execution_count": null,
   "metadata": {},
   "outputs": [],
   "source": []
  },
  {
   "cell_type": "code",
   "execution_count": null,
   "metadata": {},
   "outputs": [],
   "source": []
  },
  {
   "cell_type": "code",
   "execution_count": null,
   "metadata": {},
   "outputs": [],
   "source": [
    "ys5 = np.cumsum(np.add(ys1,ys2))*365/1000/1000\n",
    "\n",
    "plt.plot(xs,ys5,marker='.')\n",
    "\n",
    "plt.xlabel('kper (year)')\n",
    "plt.ylabel('Cumative SRP (kg) (Total, Drain + Lake)')\n",
    "plt.gca().invert_yaxis()\n",
    "plt.title('cumulative SRP discharge to lake (kg)')\n",
    "plt.ylim(0,-120)"
   ]
  },
  {
   "cell_type": "code",
   "execution_count": null,
   "metadata": {},
   "outputs": [],
   "source": [
    "ys5 = np.cumsum(np.add(ys1,ys2))*365/1000/1000\n",
    "\n",
    "plt.plot(xs,ys5,marker='.')\n",
    "\n",
    "plt.xlabel('kper (year)')\n",
    "plt.ylabel('Cumative SRP (kg) (Total, Drain + Lake)')\n",
    "plt.gca().invert_yaxis()\n",
    "plt.title('cumulative SRP discharge to lake (kg)')\n",
    "plt.ylim(0,-120)"
   ]
  },
  {
   "cell_type": "code",
   "execution_count": null,
   "metadata": {},
   "outputs": [],
   "source": [
    "ys5[-1]"
   ]
  },
  {
   "cell_type": "code",
   "execution_count": null,
   "metadata": {},
   "outputs": [],
   "source": []
  },
  {
   "cell_type": "code",
   "execution_count": null,
   "metadata": {},
   "outputs": [],
   "source": []
  },
  {
   "cell_type": "code",
   "execution_count": null,
   "metadata": {},
   "outputs": [],
   "source": [
    "ch  = cbc.get_data(text='CONSTANT HEAD', totim=times[-1])[0]\n",
    "ch2 = [(np.unravel_index(i[0],(120,220,220)),i[1]) for i in ch]\n",
    "ch3 = [i for i in ch2 if i[0] if i[0][1]>float(2200/2/delr)] ## lake\n",
    "print(np.sum([i[1] for i in ch3]))\n",
    "\n",
    "ch4 = [i for i in ch2 if i[0] if i[0][1]<float(2200/2/delr)] ## upland\n",
    "print(np.sum([i[1] for i in ch4]))\n",
    "\n",
    "#ch3_minus_one = [[i[0][0]-1,i[0][1],i[0][2]] for i in ch3] # water"
   ]
  },
  {
   "cell_type": "code",
   "execution_count": null,
   "metadata": {},
   "outputs": [],
   "source": [
    "dr = cbc.get_data(text='DRAINS', totim=times[-1])[0]\n",
    "\n",
    "\n",
    "dr2 = [(np.unravel_index(i[0],(120,220,220)),i[1]) for i in dr]\n",
    "\n",
    "dr3 = [i for i in dr2 if i[0] if i[0][1]>float(2200/2/delr)] ## lakeshore\n",
    "print(np.sum([i[1] for i in dr3]))\n",
    "\n",
    "\n",
    "dr4 = [i for i in dr2 if i[0] if i[0][1]<float(2200/2/delr)] ## upland\n",
    "print(np.sum([i[1] for i in dr4]))\n",
    "\n",
    "#ch3_minus_one = [[i[0][0]-1,i[0][1],i[0][2]] for i in ch3] # water"
   ]
  },
  {
   "cell_type": "code",
   "execution_count": null,
   "metadata": {},
   "outputs": [],
   "source": [
    "cbc.list_unique_records()"
   ]
  },
  {
   "cell_type": "code",
   "execution_count": null,
   "metadata": {},
   "outputs": [],
   "source": []
  },
  {
   "cell_type": "code",
   "execution_count": null,
   "metadata": {},
   "outputs": [],
   "source": []
  },
  {
   "cell_type": "markdown",
   "metadata": {},
   "source": [
    "## Constant Head (Lake)"
   ]
  },
  {
   "cell_type": "code",
   "execution_count": null,
   "metadata": {},
   "outputs": [],
   "source": [
    "idx= np.where((ibound==-1))\n",
    "filter = idx[1]>50\n",
    "idx =(idx[0][filter],idx[1][filter],idx[2][filter])\n",
    "faf[idx].sum() #m3 per day"
   ]
  },
  {
   "cell_type": "code",
   "execution_count": null,
   "metadata": {},
   "outputs": [],
   "source": [
    "cbc = flopy.utils.CellBudgetFile(model_ws /'test.cbc', model=model)\n",
    "ucnobj = flopy.utils.binaryfile.UcnFile(model_ws / 'MT3D001.UCN')\n",
    "\n",
    "times = cbc.get_times()\n",
    "xs = []\n",
    "ys = []\n",
    "for n in range(len(times)):\n",
    "    t = times[n]\n",
    "    fff = cbc.get_data(text='FLOW FRONT FACE', totim=t)[0]\n",
    "    frf = cbc.get_data(text='FLOW RIGHT FACE', totim=t)[0]\n",
    "    flf = cbc.get_data(text='FLOW LOWER FACE', totim=t)[0]\n",
    "    faf = flf + fff + frf\n",
    "    ucn= ucnobj.get_data( totim=t)\n",
    "\n",
    "    gw_flow = faf[idx]\n",
    "    gw_flux = gw_flow.sum() #m3 per day\n",
    "    ucn_flux = (gw_flow * ucn[idx]).sum()\n",
    "    ys.append(ucn_flux)\n",
    "    xs.append(n)\n",
    "    print(ucn_flux)\n",
    "\n",
    "plt.scatter(xs,ys)\n"
   ]
  },
  {
   "cell_type": "code",
   "execution_count": null,
   "metadata": {},
   "outputs": [],
   "source": []
  },
  {
   "cell_type": "code",
   "execution_count": null,
   "metadata": {},
   "outputs": [],
   "source": []
  },
  {
   "cell_type": "markdown",
   "metadata": {},
   "source": [
    "## Drain (near shore)"
   ]
  },
  {
   "cell_type": "code",
   "execution_count": null,
   "metadata": {},
   "outputs": [],
   "source": [
    "drn = model.drn\n",
    "i0 = np.array([i[0] for i in drn.stress_period_data.data[0]])\n",
    "i1 = np.array([i[1] for i in drn.stress_period_data.data[0]])\n",
    "i2 = np.array([i[2] for i in drn.stress_period_data.data[0]])\n",
    "drn_idx = (i0,i1,i2)\n",
    "\n",
    "\n",
    "filter = drn_idx[1]>100\n",
    "drn_idx =(drn_idx[0][filter],drn_idx[1][filter],drn_idx[2][filter])\n",
    "\n",
    "faf[drn_idx].sum()"
   ]
  },
  {
   "cell_type": "code",
   "execution_count": null,
   "metadata": {},
   "outputs": [],
   "source": [
    "cbc = flopy.utils.CellBudgetFile(model_ws /'test.cbc', model=model)\n",
    "ucnobj = flopy.utils.binaryfile.UcnFile(model_ws / 'MT3D001.UCN')\n",
    "\n",
    "times = cbc.get_times()\n",
    "\n",
    "xs = []\n",
    "ys = []\n",
    "\n",
    "for n in range(len(times)):\n",
    "    t = times[n]\n",
    "    fff = cbc.get_data(text='FLOW FRONT FACE', totim=t)[0]\n",
    "    frf = cbc.get_data(text='FLOW RIGHT FACE', totim=t)[0]\n",
    "    flf = cbc.get_data(text='FLOW LOWER FACE', totim=t)[0]\n",
    "    faf = flf + fff + frf\n",
    "    ucn= ucnobj.get_data( totim=t)\n",
    "\n",
    "    gw_flow = faf[drn_idx]\n",
    "    gw_flux = gw_flow.sum() #m3 per day\n",
    "    ucn_flux = (gw_flow * ucn[drn_idx]).sum() * 365 /1000/1000\n",
    "    ys.append(ucn_flux)\n",
    "    xs.append(n)\n",
    "    print(ucn_flux)\n",
    "\n",
    "plt.plot(xs,ys,marker='o')\n",
    "plt.gca().invert_yaxis()\n",
    "#plt.ylim(0,-2000)\n",
    "plt.xlabel('kper')\n",
    "plt.ylabel('SRP mass flux (kg)')\n",
    "plt.title('Drain (nearshore)')"
   ]
  },
  {
   "cell_type": "code",
   "execution_count": null,
   "metadata": {},
   "outputs": [],
   "source": []
  },
  {
   "cell_type": "markdown",
   "metadata": {},
   "source": [
    "## vertical boundary"
   ]
  },
  {
   "cell_type": "code",
   "execution_count": null,
   "metadata": {},
   "outputs": [],
   "source": [
    "ibound = model.bas6.ibound.array"
   ]
  },
  {
   "cell_type": "code",
   "execution_count": null,
   "metadata": {},
   "outputs": [],
   "source": [
    "idx= np.where((ibound !=0))\n",
    "distance = 1690\n",
    "distance = 1510\n",
    "filter = idx[1]==int(distance/delr)\n",
    "idx =(idx[0][filter],idx[1][filter],idx[2][filter])\n",
    "faf[idx].sum() #m3 per day"
   ]
  },
  {
   "cell_type": "code",
   "execution_count": null,
   "metadata": {},
   "outputs": [],
   "source": [
    "fff[idx].sum()"
   ]
  },
  {
   "cell_type": "code",
   "execution_count": null,
   "metadata": {},
   "outputs": [],
   "source": [
    "cbc = flopy.utils.CellBudgetFile(model_ws /'example_model.cbc', model=model)\n",
    "ucnobj = flopy.utils.binaryfile.UcnFile(model_ws / 'MT3D001.UCN')\n",
    "\n",
    "times = cbc.get_times()\n",
    "xs = []\n",
    "ys = []\n",
    "for n in range(len(times)):\n",
    "    t = times[n]\n",
    "    fff = cbc.get_data(text='FLOW FRONT FACE', totim=t)[0]\n",
    "    frf = cbc.get_data(text='FLOW RIGHT FACE', totim=t)[0]\n",
    "    flf = cbc.get_data(text='FLOW LOWER FACE', totim=t)[0]\n",
    "    faf = abs(fff) +abs(frf) +abs(flf)\n",
    "    faf = np.sqrt(abs(fff)**2 +abs(frf)**2 +abs(flf)**2)\n",
    "    ucn= ucnobj.get_data( totim=t)\n",
    "\n",
    "    gw_flow = faf[idx]\n",
    "    gw_flux = gw_flow.sum() #m3 per day\n",
    "    ucn_flux = (gw_flow * ucn[idx]).sum() \n",
    "    ys.append(ucn_flux)\n",
    "    xs.append(n)\n",
    "    print(ucn_flux)\n",
    "\n",
    "plt.plot(xs,ys,marker='o')\n",
    "#plt.gca().invert_yaxis()\n",
    "plt.ylim(0,8000)\n",
    "plt.xlabel('kper')\n",
    "plt.ylabel('SRP mass flux (mg/D)')\n",
    "plt.title('x={}'.format(distance))\n"
   ]
  },
  {
   "cell_type": "code",
   "execution_count": null,
   "metadata": {},
   "outputs": [],
   "source": []
  },
  {
   "cell_type": "code",
   "execution_count": null,
   "metadata": {},
   "outputs": [],
   "source": []
  },
  {
   "cell_type": "code",
   "execution_count": null,
   "metadata": {},
   "outputs": [],
   "source": []
  },
  {
   "cell_type": "code",
   "execution_count": null,
   "metadata": {},
   "outputs": [],
   "source": []
  },
  {
   "cell_type": "markdown",
   "metadata": {},
   "source": [
    "## aqueous phase"
   ]
  },
  {
   "cell_type": "code",
   "execution_count": null,
   "metadata": {},
   "outputs": [],
   "source": [
    "cmass_aq =[]\n",
    "cmass_in = []\n",
    "cmass_solid = []\n",
    "kpers = []\n",
    "ucnobj_aq = flopy.utils.binaryfile.UcnFile(model_ws + '/MT3D001.UCN')\n",
    "ucnobj_solid = flopy.utils.binaryfile.UcnFile(model_ws + '/MT3D001S.UCN')\n",
    "for kper in range(nper):\n",
    "\n",
    "    # Read the concentration data from the UCN file\n",
    "    if kper==0:\n",
    "        source_mass = 0\n",
    "    else:\n",
    "        source_mass += 365*0.51*5000*2\n",
    "    \n",
    "    conc_array = ucnobj_aq.get_data(kstpkper=(0, kper))# (time step, stress period)\n",
    "    conc_array[np.where(conc_array==1e30)] = 0\n",
    "    conc_array[np.where(ibound!=1)] = 0\n",
    "    c_aq = conc_array[np.where(conc_array>0.11)].sum()\n",
    "    mass_aq = c_aq*delr*delc*layer_thickness* 0.25\n",
    "\n",
    "    conc_array = ucnobj_solid.get_data(kstpkper=(0, kper))# (time step, stress period)\n",
    "    conc_array[np.where(conc_array==1e30)] = 0\n",
    "    conc_array[np.where(ibound!=1)] = 0\n",
    "    c_solid = conc_array[np.where(conc_array>1e-7)].sum()\n",
    "    mass_solid = c_solid*delr*delc*layer_thickness * 1.65E+09\n",
    "\n",
    "    cmass_in.append(source_mass)\n",
    "    cmass_aq.append(mass_aq)\n",
    "    cmass_solid.append(mass_solid)\n",
    "    kpers.append(kper)\n",
    "\n",
    "ys = np.array(cmass_aq)\n",
    "ys2 = np.array(cmass_in)\n",
    "ys3 = np.array(cmass_solid)\n",
    "ys4 = np.array(ys+ys3)\n",
    "xs = kpers\n",
    "\n",
    "\n",
    "\n",
    "plt.ylabel('Totoal SRP mass (mg))')\n",
    "#plt.xticks(np.linspace(0,nper,5))\n",
    "plt.xlabel('Stress Period (Year)')\n",
    "#plt.title('mass_flux (input - output): {} '.format(cmass_in[-1] - cmass[-1]))\n",
    "plt.plot(xs,ys4,marker='o',label='aq + solid')\n",
    "plt.plot(xs,ys2,marker='o',label= 'input')\n",
    "plt.legend()\n",
    "plt.savefig(Path(model_ws)/'_output' /'mass.png')"
   ]
  },
  {
   "cell_type": "code",
   "execution_count": null,
   "metadata": {},
   "outputs": [],
   "source": []
  },
  {
   "cell_type": "code",
   "execution_count": null,
   "metadata": {},
   "outputs": [],
   "source": [
    "cmass =[]\n",
    "cmass_in = []\n",
    "kpers = []\n",
    "ucnobj = flopy.utils.binaryfile.UcnFile(model_ws + '/MT3D001S.UCN')\n",
    "for kper in range(nper):\n",
    "\n",
    "    # Read the concentration data from the UCN file\n",
    "    if kper==0:\n",
    "        source_mass = 0\n",
    "    else:\n",
    "        source_mass += 365*0.51*5000*2\n",
    "    \n",
    "    concentration_array = ucnobj.get_data(kstpkper=(0, kper))# (time step, stress period)\n",
    "    concentration_array[np.where(concentration_array==1e30)] = 0\n",
    "    concentration_array[np.where(ibound!=1)] = 0\n",
    "\n",
    "    csum = concentration_array[np.where(concentration_array>1e-6)].sum()\n",
    "    mass = csum*delr*delc*layer_thickness * 1.65E+09\n",
    "\n",
    "    cmass_in.append(source_mass)\n",
    "    cmass.append(mass)\n",
    "    kpers.append(kper)\n",
    "\n",
    "ys = np.array(cmass)/1000/1000\n",
    "ys2 = np.array(cmass_in)/1000/1000\n",
    "xs = kpers\n",
    "\n",
    "\n",
    "\n",
    "plt.ylabel('Totoal SRP mass (mg))')\n",
    "#plt.xticks(np.linspace(0,nper,5))\n",
    "plt.xlabel('Stress Period (Year)')\n",
    "plt.title('mass_flux (input - output): {} '.format(cmass_in[-1] - cmass[-1]))\n",
    "plt.plot(xs,ys,marker='o',label='output')\n",
    "plt.plot(xs,ys2,marker='o',label= 'input')\n",
    "plt.legend()\n",
    "plt.savefig(Path(model_ws)/'_output' /'mass_sorbed.png')"
   ]
  },
  {
   "cell_type": "code",
   "execution_count": null,
   "metadata": {},
   "outputs": [],
   "source": []
  },
  {
   "cell_type": "code",
   "execution_count": null,
   "metadata": {},
   "outputs": [],
   "source": []
  },
  {
   "cell_type": "markdown",
   "metadata": {},
   "source": [
    "# MapView"
   ]
  },
  {
   "cell_type": "code",
   "execution_count": 61,
   "metadata": {},
   "outputs": [
    {
     "data": {
      "image/png": "[encoded data removed]",
      "text/plain": [
       "<Figure size 1000x1000 with 1 Axes>"
      ]
     },
     "metadata": {},
     "output_type": "display_data"
    }
   ],
   "source": [
    "ucnobj = flopy.utils.binaryfile.UcnFile(Path(model_ws) / 'MT3D001.UCN')\n",
    "times = ucnobj.get_times()\n",
    "conc = ucnobj.get_data(totim=times[-1])  # get the concentration data for the last time step\n",
    "conc[np.where(conc==1e30)] = 0\n",
    "conc_sum = np.sum(conc, axis=0)\n",
    "mapview = flopy.plot.PlotMapView(model=model)\n",
    "fig = mapview.plot_array(conc_sum,vmin=0,vmax=10000)\n",
    "plt.axhline(y=2200-1700)\n",
    "plt.gca().invert_yaxis()\n",
    "plt.gcf().set_size_inches(10,10)\n",
    "plt.show()"
   ]
  },
  {
   "cell_type": "code",
   "execution_count": 7,
   "metadata": {},
   "outputs": [
    {
     "name": "stdout",
     "output_type": "stream",
     "text": [
      "All concentration maps saved to C:\\Users\\swan47\\AppData\\Local\\Temp\\_T0108211703_wasaga_jozjucwp\\_output\\concentration_maps\n"
     ]
    }
   ],
   "source": [
    "# import os\n",
    "# import flopy\n",
    "# import numpy as np\n",
    "# import matplotlib.pyplot as plt\n",
    "# from matplotlib.cm import ScalarMappable\n",
    "# from pathlib import Path\n",
    "\n",
    "# # Define the UCN file and output folder\n",
    "# ucnobj = flopy.utils.binaryfile.UcnFile(Path(model_ws) / 'MT3D001.UCN')\n",
    "# output_folder = Path(model_ws) / '_output' / 'concentration_maps'\n",
    "\n",
    "# # Create the output folder if it doesn't exist\n",
    "# output_folder.mkdir(parents=True, exist_ok=True)\n",
    "\n",
    "# # Get the times and loop through each time period\n",
    "# times = ucnobj.get_times()\n",
    "\n",
    "# for kper, totim in enumerate(times):\n",
    "#     # Get concentration data for the current time step\n",
    "#     conc = ucnobj.get_data(totim=totim)\n",
    "#     conc[np.where(conc == 1e30)] = 0\n",
    "#     conc_sum = np.sum(conc, axis=0)\n",
    "\n",
    "#     # Create a map view plot\n",
    "#     fig, ax = plt.subplots(figsize=(10, 10))\n",
    "#     mapview = flopy.plot.PlotMapView(model=model)\n",
    "#     mapview.plot_array(conc_sum, vmin=0, vmax=10000, ax=ax)\n",
    "#     plt.axhline(y=2200-1700)\n",
    "#     plt.gca().invert_yaxis()\n",
    "\n",
    "#     # Create a dummy image for the colorbar\n",
    "#     sm = ScalarMappable(cmap=plt.cm.viridis, norm=plt.Normalize(vmin=0, vmax=10000))\n",
    "#     sm.set_array([])\n",
    "\n",
    "#     # Add a colorbar with the sum of concentrations in all layers\n",
    "#     cbar = plt.colorbar(sm, ax=ax, label='Sum of conc in all layers')\n",
    "\n",
    "#     # Calculate the year based on kper\n",
    "#     year = kper + 1968\n",
    "\n",
    "#     # Set the title of the plot with the current year\n",
    "#     plt.title(f'Concentration Map - Year {year}')\n",
    "\n",
    "#     # Save the plot to the output folder\n",
    "#     output_file = output_folder / f'concentration_map_year_{year}.png'\n",
    "#     plt.savefig(output_file, bbox_inches='tight')\n",
    "#     plt.close()\n",
    "\n",
    "# # Print a message when all plots are saved\n",
    "# print(f'All concentration maps saved to {output_folder}')\n",
    "\n",
    "\n"
   ]
  },
  {
   "cell_type": "code",
   "execution_count": 22,
   "metadata": {},
   "outputs": [
    {
     "data": {
      "text/plain": [
       "WindowsPath('C:/Users/swan47/AppData/Local/Temp/_T0108211703_wasaga_jozjucwp/_output/concentration_maps')"
      ]
     },
     "execution_count": 22,
     "metadata": {},
     "output_type": "execute_result"
    }
   ],
   "source": [
    "output_folder"
   ]
  },
  {
   "cell_type": "code",
   "execution_count": 70,
   "metadata": {},
   "outputs": [
    {
     "name": "stdout",
     "output_type": "stream",
     "text": [
      "All concentration maps saved to D:\\_T0110015920_wasaga_\\_output\\concentration_maps\n"
     ]
    }
   ],
   "source": [
    "import os\n",
    "import flopy\n",
    "import numpy as np\n",
    "import matplotlib.pyplot as plt\n",
    "from matplotlib.cm import ScalarMappable\n",
    "from pathlib import Path\n",
    "\n",
    "# Assuming 'model_ws' and 'model' variables are defined and valid\n",
    "ucnobj = flopy.utils.binaryfile.UcnFile(Path(model_ws) / 'MT3D001.UCN')\n",
    "output_folder = Path(model_ws) / '_output' / 'concentration_maps'\n",
    "\n",
    "output_folder.mkdir(parents=True, exist_ok=True)\n",
    "\n",
    "times = ucnobj.get_times()\n",
    "image_files = []\n",
    "\n",
    "for kper, totim in enumerate(times):\n",
    "\n",
    "    conc = ucnobj.get_data(totim=totim)\n",
    "    conc[np.where(conc == 1e30)] = 0\n",
    "    conc_sum = np.sum(conc, axis=0)\n",
    "\n",
    "    fig, ax = plt.subplots(figsize=(10, 10))\n",
    "    mapview = flopy.plot.PlotMapView(model=model)\n",
    "    mapview.plot_array(conc_sum, vmin=0, vmax=10000, ax=ax)\n",
    "    plt.axhline(y=2200-1700)\n",
    "    plt.gca().invert_yaxis()\n",
    "    plt.title(f'Concentration Map - Year {year}', pad=20)\n",
    "\n",
    "    sm = ScalarMappable(cmap=plt.cm.viridis, norm=plt.Normalize(vmin=0, vmax=10000))\n",
    "    sm.set_array([])\n",
    "    cax = fig.add_axes([0.92, 0.15, 0.02, 0.7])\n",
    "    cbar = plt.colorbar(sm, cax=cax, label='Sum of conc in all layers')\n",
    "    year = totim/365 + 1968\n",
    "    year = round(year,1)\n",
    "    \n",
    "    output_file = output_folder / f'concentration_map_year_{year}.png'\n",
    "    plt.savefig(output_file, bbox_inches='tight',dpi=300)\n",
    "    plt.close()\n",
    "    image_files.append(output_file)\n",
    "\n",
    "print(f'All concentration maps saved to {output_folder}')"
   ]
  },
  {
   "cell_type": "markdown",
   "metadata": {},
   "source": [
    "### Video"
   ]
  },
  {
   "cell_type": "code",
   "execution_count": 72,
   "metadata": {},
   "outputs": [
    {
     "name": "stdout",
     "output_type": "stream",
     "text": [
      "Video saved as D:\\_T0110015920_wasaga_\\_output\\concentration_maps\\concentration_video.mp4\n"
     ]
    }
   ],
   "source": [
    "import cv2\n",
    "\n",
    "# Parameters for video creation\n",
    "frame_duration = 0.05  # Duration of each image in the video\n",
    "fps = int(1 / frame_duration)  # Frames per second\n",
    "video_output = output_folder / 'concentration_video.mp4'\n",
    "\n",
    "# Read the first image to determine the video resolution\n",
    "frame = cv2.imread(str(image_files[0]))\n",
    "height, width, layers = frame.shape\n",
    "\n",
    "size = (width, height)\n",
    "\n",
    "# Initialize video writer\n",
    "fourcc = cv2.VideoWriter_fourcc(*'mp4v')  # You can change the codec if needed\n",
    "video = cv2.VideoWriter(str(video_output), fourcc, fps, size)\n",
    "\n",
    "# Add images to video\n",
    "for image_file in image_files:\n",
    "    frame = cv2.imread(str(image_file))\n",
    "    if frame.shape[1] != width or frame.shape[0] != height:\n",
    "        raise ValueError(f\"Image {image_file} has different size. All images must have the same dimensions.\")\n",
    "    video.write(frame)\n",
    "\n",
    "# Release the video writer\n",
    "video.release()\n",
    "print(f\"Video saved as {video_output}\")\n"
   ]
  },
  {
   "cell_type": "code",
   "execution_count": 54,
   "metadata": {},
   "outputs": [
    {
     "data": {
      "text/plain": [
       "1900"
      ]
     },
     "execution_count": 54,
     "metadata": {},
     "output_type": "execute_result"
    }
   ],
   "source": [
    "width*2"
   ]
  },
  {
   "cell_type": "code",
   "execution_count": null,
   "metadata": {},
   "outputs": [],
   "source": []
  },
  {
   "cell_type": "code",
   "execution_count": null,
   "metadata": {},
   "outputs": [],
   "source": []
  },
  {
   "cell_type": "code",
   "execution_count": null,
   "metadata": {},
   "outputs": [],
   "source": []
  },
  {
   "cell_type": "code",
   "execution_count": null,
   "metadata": {},
   "outputs": [],
   "source": []
  },
  {
   "cell_type": "code",
   "execution_count": 77,
   "metadata": {},
   "outputs": [
    {
     "data": {
      "image/png": "[encoded data removed]",
      "text/plain": [
       "<Figure size 1000x1000 with 2 Axes>"
      ]
     },
     "metadata": {},
     "output_type": "display_data"
    }
   ],
   "source": [
    "ucnobj = flopy.utils.binaryfile.UcnFile(Path(model_ws) / 'MT3D001.UCN')\n",
    "times = ucnobj.get_times()\n",
    "conc = ucnobj.get_data(totim=times[-10])  # get the concentration data for the last time step\n",
    "conc[np.where(conc==1e30)] = 0\n",
    "conc_sum = np.sum(conc, axis=0)\n",
    "mapview = flopy.plot.PlotMapView(model=model)\n",
    "fig = mapview.plot_array(conc_sum,vmin=0,vmax=10000)\n",
    "plt.colorbar(fig)\n",
    "plt.axhline(y=2200-1700)\n",
    "plt.gca().invert_yaxis()\n",
    "plt.xlim(146*5-100,146*5+100)\n",
    "plt.axvline(x=146*5,c='k')\n",
    "#plt.ylim(900,450)\n",
    "plt.gcf().set_size_inches(10,10)\n",
    "plt.show()"
   ]
  },
  {
   "cell_type": "code",
   "execution_count": 64,
   "metadata": {},
   "outputs": [
    {
     "ename": "Exception",
     "evalue": "get_data() error: kstpkper not found:(0, 59)",
     "output_type": "error",
     "traceback": [
      "\u001b[1;31m---------------------------------------------------------------------------\u001b[0m",
      "\u001b[1;31mException\u001b[0m                                 Traceback (most recent call last)",
      "\u001b[1;32mc:\\Users\\swan47\\Documents\\GitHub\\wasaga_model\\wasaga_3d\\plot_wasaga_3d.ipynb Cell 122\u001b[0m line \u001b[0;36m9\n\u001b[0;32m      <a href='vscode-notebook-cell:/c%3A/Users/swan47/Documents/GitHub/wasaga_model/wasaga_3d/plot_wasaga_3d.ipynb#Y224sZmlsZQ%3D%3D?line=6'>7</a>\u001b[0m ucnobj \u001b[39m=\u001b[39m flopy\u001b[39m.\u001b[39mutils\u001b[39m.\u001b[39mbinaryfile\u001b[39m.\u001b[39mUcnFile(Path(model_ws)\u001b[39m/\u001b[39m\u001b[39m'\u001b[39m\u001b[39mMT3D001.UCN\u001b[39m\u001b[39m'\u001b[39m)\n\u001b[0;32m      <a href='vscode-notebook-cell:/c%3A/Users/swan47/Documents/GitHub/wasaga_model/wasaga_3d/plot_wasaga_3d.ipynb#Y224sZmlsZQ%3D%3D?line=7'>8</a>\u001b[0m times \u001b[39m=\u001b[39m ucnobj\u001b[39m.\u001b[39mget_times()\n\u001b[1;32m----> <a href='vscode-notebook-cell:/c%3A/Users/swan47/Documents/GitHub/wasaga_model/wasaga_3d/plot_wasaga_3d.ipynb#Y224sZmlsZQ%3D%3D?line=8'>9</a>\u001b[0m conc \u001b[39m=\u001b[39m ucnobj\u001b[39m.\u001b[39mget_data(kstpkper\u001b[39m=\u001b[39m(\u001b[39m0\u001b[39m, kper))\n\u001b[0;32m     <a href='vscode-notebook-cell:/c%3A/Users/swan47/Documents/GitHub/wasaga_model/wasaga_3d/plot_wasaga_3d.ipynb#Y224sZmlsZQ%3D%3D?line=9'>10</a>\u001b[0m conc[np\u001b[39m.\u001b[39mwhere(conc\u001b[39m==\u001b[39m\u001b[39m1e30\u001b[39m)] \u001b[39m=\u001b[39m \u001b[39m0\u001b[39m\n\u001b[0;32m     <a href='vscode-notebook-cell:/c%3A/Users/swan47/Documents/GitHub/wasaga_model/wasaga_3d/plot_wasaga_3d.ipynb#Y224sZmlsZQ%3D%3D?line=10'>11</a>\u001b[0m conc_sum \u001b[39m=\u001b[39m np\u001b[39m.\u001b[39msum(conc, axis\u001b[39m=\u001b[39m\u001b[39m0\u001b[39m)\n",
      "File \u001b[1;32mc:\\Users\\swan47\\Miniconda3\\envs\\pht3d\\Lib\\site-packages\\flopy\\utils\\datafile.py:521\u001b[0m, in \u001b[0;36mLayerFile.get_data\u001b[1;34m(self, kstpkper, idx, totim, mflay)\u001b[0m\n\u001b[0;32m    516\u001b[0m     idx \u001b[39m=\u001b[39m np\u001b[39m.\u001b[39mwhere(\n\u001b[0;32m    517\u001b[0m         (\u001b[39mself\u001b[39m\u001b[39m.\u001b[39mrecordarray[\u001b[39m\"\u001b[39m\u001b[39mkstp\u001b[39m\u001b[39m\"\u001b[39m] \u001b[39m==\u001b[39m kstp1)\n\u001b[0;32m    518\u001b[0m         \u001b[39m&\u001b[39m (\u001b[39mself\u001b[39m\u001b[39m.\u001b[39mrecordarray[\u001b[39m\"\u001b[39m\u001b[39mkper\u001b[39m\u001b[39m\"\u001b[39m] \u001b[39m==\u001b[39m kper1)\n\u001b[0;32m    519\u001b[0m     )\n\u001b[0;32m    520\u001b[0m     \u001b[39mif\u001b[39;00m idx[\u001b[39m0\u001b[39m]\u001b[39m.\u001b[39mshape[\u001b[39m0\u001b[39m] \u001b[39m==\u001b[39m \u001b[39m0\u001b[39m:\n\u001b[1;32m--> 521\u001b[0m         \u001b[39mraise\u001b[39;00m \u001b[39mException\u001b[39;00m(\n\u001b[0;32m    522\u001b[0m             \u001b[39mf\u001b[39m\u001b[39m\"\u001b[39m\u001b[39mget_data() error: kstpkper not found:\u001b[39m\u001b[39m{\u001b[39;00mkstpkper\u001b[39m}\u001b[39;00m\u001b[39m\"\u001b[39m\n\u001b[0;32m    523\u001b[0m         )\n\u001b[0;32m    524\u001b[0m     totim1 \u001b[39m=\u001b[39m \u001b[39mself\u001b[39m\u001b[39m.\u001b[39mrecordarray[idx][\u001b[39m\"\u001b[39m\u001b[39mtotim\u001b[39m\u001b[39m\"\u001b[39m][\u001b[39m0\u001b[39m]\n\u001b[0;32m    525\u001b[0m \u001b[39melif\u001b[39;00m totim \u001b[39mis\u001b[39;00m \u001b[39mnot\u001b[39;00m \u001b[39mNone\u001b[39;00m:\n",
      "\u001b[1;31mException\u001b[0m: get_data() error: kstpkper not found:(0, 59)"
     ]
    },
    {
     "data": {
      "text/plain": [
       "<Figure size 640x480 with 0 Axes>"
      ]
     },
     "metadata": {},
     "output_type": "display_data"
    }
   ],
   "source": [
    "nper = model.dis.nper\n",
    "ucnobj = flopy.utils.binaryfile.UcnFile(Path(model_ws) / 'MT3D001.UCN')\n",
    "#for kper in range(nper)[::5]:\n",
    "for kper in [3,17,59]:\n",
    "\n",
    "\n",
    "    ucnobj = flopy.utils.binaryfile.UcnFile(Path(model_ws)/'MT3D001.UCN')\n",
    "    times = ucnobj.get_times()\n",
    "    conc = ucnobj.get_data(kstpkper=(0, kper))\n",
    "    conc[np.where(conc==1e30)] = 0\n",
    "    conc_sum = np.sum(conc, axis=0)\n",
    "    conc_sum = np.flipud(conc_sum)\n",
    "    mapview = flopy.plot.PlotMapView(model=model)\n",
    "    fig = mapview.plot_array(conc_sum, cmap='coolwarm', vmin=0, vmax=800)\n",
    "    #plt.show()\n",
    "\n",
    "    plt.title('kper:{:02}'.format(kper))\n",
    "    plt.xlim(650,850)\n",
    "    plt.ylim(1550,1750)\n",
    "    plt.colorbar(fig)\n",
    "    plt.axhline(1700,c='k',linestyle = 'dashed')\n",
    "    plt.axhline(1700-70,c='r')\n",
    "    plt.axhline(1700-70+20,c='k')\n",
    "    plt.axhline(1700-70+40,c='k')\n",
    "    plt.axhline(1700-70+60,c='k')\n",
    "\n",
    "    plt.savefig(Path(model_ws)/'_output'/'map_conc_{:02}'.format(kper))\n",
    "\n",
    "    \n",
    "    \n",
    "    \n",
    "    plt.clf()"
   ]
  },
  {
   "cell_type": "code",
   "execution_count": null,
   "metadata": {},
   "outputs": [],
   "source": [
    "open_file(model_ws)"
   ]
  },
  {
   "cell_type": "code",
   "execution_count": null,
   "metadata": {},
   "outputs": [],
   "source": []
  },
  {
   "cell_type": "code",
   "execution_count": null,
   "metadata": {},
   "outputs": [],
   "source": []
  },
  {
   "cell_type": "code",
   "execution_count": null,
   "metadata": {},
   "outputs": [],
   "source": [
    "kper = 18\n",
    "lay = int(nlay/2)\n",
    "\n",
    "fig = plt.figure(figsize=(15, 5))\n",
    "mapview = flopy.plot.PlotMapView(model=model, layer=lay)\n",
    "ucnobj = flopy.utils.binaryfile.UcnFile(model_ws + '/MT3D001.UCN')\n",
    "concentration_array = ucnobj.get_data(kstpkper=(0, kper))# (time step, stress period)\n",
    "\n",
    "ibound = model.bas6.ibound.array\n",
    "mask = ((ibound== 0)|(concentration_array>=1e30))\n",
    "masked_conc_data = np.ma.masked_where(mask, concentration_array)\n",
    "\n",
    "cs = mapview.plot_array(masked_conc_data, cmap='coolwarm', vmin=0, vmax=900)\n",
    "plt.colorbar(cs)\n",
    "\n",
    "# Show the plot\n",
    "plt.gcf().set_size_inches(12,12)\n",
    "plt.show()"
   ]
  },
  {
   "cell_type": "code",
   "execution_count": null,
   "metadata": {},
   "outputs": [],
   "source": []
  },
  {
   "cell_type": "code",
   "execution_count": null,
   "metadata": {},
   "outputs": [],
   "source": []
  },
  {
   "cell_type": "markdown",
   "metadata": {},
   "source": [
    "# Matplotlib 3D"
   ]
  },
  {
   "cell_type": "code",
   "execution_count": null,
   "metadata": {},
   "outputs": [],
   "source": [
    "kper = 9\n",
    "col = int(ncol)/2\n",
    "\n",
    "# Read the concentration data from the UCN file\n",
    "ucnobj = flopy.utils.binaryfile.UcnFile(model_ws + '/MT3D001.UCN')\n",
    "concentration_array = ucnobj.get_data(kstpkper=(0, kper))# (time step, stress period)\n",
    "\n",
    "concentration_array[concentration_array==1e30]=0\n",
    "#concentration_array[concentration_array<=0.1]=0"
   ]
  },
  {
   "cell_type": "code",
   "execution_count": null,
   "metadata": {},
   "outputs": [],
   "source": [
    "import matplotlib.pyplot as plt\n",
    "import numpy as np\n",
    "from mpl_toolkits.mplot3d import Axes3D\n",
    "from mpl_toolkits.mplot3d.art3d import Poly3DCollection\n",
    "\n",
    "\n",
    "colum = int(ncol/2)\n",
    "\n",
    "fig = plt.figure()\n",
    "ax = fig.add_subplot(projection='3d')\n",
    "\n",
    "# Fixing random state for reproducibility\n",
    "arr = concentration_array[:,:,:colum]\n",
    "\n",
    "coords = np.where(arr>0.11)\n",
    "zs,ys,xs = coords\n",
    "vs = arr[coords]\n",
    "ax.scatter(xs, ys, zs, marker='o',s=1,alpha=1,cmap='coolwarm',c=vs,vmax=200)\n",
    "\n",
    "ax.set_xlabel('X Label')\n",
    "ax.set_ylabel('Y Label')\n",
    "ax.set_zlabel('Z Label')\n",
    "\n",
    "\n",
    "\n",
    "ibd = model.bas6.ibound.array[:,:,0]\n",
    "zs = np.array([np.where(col!=0)[0][-1]for col in ibd.T])\n",
    "ys = np.arange(len(zs))\n",
    "zs = list(zs) + [nlay,nlay]\n",
    "ys = list(ys) + [ys[-1],0]\n",
    "xs = np.repeat(colum,len(ys))\n",
    "\n",
    "verts = [list(zip(xs, ys, zs))]\n",
    "poly = Poly3DCollection(verts)\n",
    "poly.set_facecolor('grey')\n",
    "poly.set_edgecolor('black')\n",
    "ax.add_collection3d(poly)\n",
    "\n",
    "\n",
    "ibd = model.bas6.ibound.array[:,:,0]\n",
    "z1 = np.array([np.where(col!=0)[0][-1]for col in ibd.T])[-1]\n",
    "zs = [z1,z1,60,60]\n",
    "ys = [nrow-1,nrow-1,nrow-1,nrow-1]\n",
    "xs = [colum, 0,  0,colum]\n",
    "\n",
    "verts = [list(zip(xs, ys, zs))]\n",
    "poly = Poly3DCollection(verts)\n",
    "poly.set_facecolor('grey')\n",
    "poly.set_edgecolor('black')\n",
    "ax.add_collection3d(poly)\n",
    "\n",
    "\n",
    "\n",
    "xs = list(wt)\n",
    "ys =list(np.arange(0,len(xs)))\n",
    "\n",
    "xs = xs[::5] +xs[-1:]\n",
    "ys  = ys[::5] +ys[-1:]\n",
    "\n",
    "spline = make_interp_spline(ys, xs)\n",
    "ys_smooth = np.linspace(min(ys), max(ys), 100)\n",
    "xs_smooth = spline(ys_smooth)\n",
    "zs_smooth = np.repeat(colum,len(xs_smooth))\n",
    "ax.plot(zs_smooth,ys_smooth,xs_smooth,c='k',zorder=10)\n",
    "\n",
    "xs = [zs_smooth[-1],zs_smooth[-1]]\n",
    "ys = [ys_smooth[-1],ys_smooth[-1]]\n",
    "zs = [xs_smooth[-1],52]\n",
    "ax.plot(xs,ys,zs,c='k',zorder=10)\n",
    "\n",
    "xs = [0,zs_smooth[-1]]\n",
    "ys = [ys_smooth[-1],ys_smooth[-1]]\n",
    "zs = [xs_smooth[-1],xs_smooth[-1]]\n",
    "ax.plot(xs,ys,zs,c='k',zorder=10)\n",
    "\n",
    "\n",
    "zs_smooth = np.repeat(0,len(xs_smooth))\n",
    "ax.plot(zs_smooth,ys_smooth,xs_smooth,c='k',zorder=10)\n",
    "\n",
    "xs = [zs_smooth[-1],zs_smooth[-1]]\n",
    "ys = [ys_smooth[-1],ys_smooth[-1]]\n",
    "zs = [xs_smooth[-1],52]\n",
    "ax.plot(xs,ys,zs,c='k',zorder=10)\n",
    "\n",
    "\n",
    "\n",
    "ax.set_xlim(0,220)\n",
    "ax.set_ylim(0,220)\n",
    "ax.set_zlim(0,60)\n",
    "ax.view_init(elev=30, azim=30)\n",
    "ax.set_box_aspect((2200,2200,30*10))\n",
    "ax.invert_zaxis()\n",
    "\n",
    "\n",
    "fig.set_size_inches(12,12)\n",
    "\n",
    "plt.title('Period {}'.format(kper))\n",
    "plt.show()"
   ]
  },
  {
   "cell_type": "code",
   "execution_count": null,
   "metadata": {},
   "outputs": [],
   "source": []
  },
  {
   "cell_type": "code",
   "execution_count": null,
   "metadata": {},
   "outputs": [],
   "source": [
    "import matplotlib.pyplot as plt\n",
    "import numpy as np\n",
    "from mpl_toolkits.mplot3d import Axes3D\n",
    "from mpl_toolkits.mplot3d.art3d import Poly3DCollection\n",
    "\n",
    "for kper in range(0,20):\n",
    "\n",
    "\n",
    "\n",
    "    # Read the concentration data from the UCN file\n",
    "    ucnobj = flopy.utils.binaryfile.UcnFile(model_ws + '/MT3D001.UCN')\n",
    "    concentration_array = ucnobj.get_data(kstpkper=(0, kper))# \n",
    "    concentration_array[concentration_array==1e30]=0\n",
    "\n",
    "    colum = int(ncol/2)\n",
    "\n",
    "    fig = plt.figure()\n",
    "    ax = fig.add_subplot(projection='3d')\n",
    "\n",
    "    # Fixing random state for reproducibility\n",
    "    arr = concentration_array[:,:,:colum]\n",
    "\n",
    "    coords = np.where(arr>0)\n",
    "    zs,ys,xs = coords\n",
    "    vs = arr[coords]\n",
    "    ax.scatter(xs, ys, zs, marker='o',s=1,alpha=1,cmap='coolwarm',c=vs,vmax=200)\n",
    "\n",
    "    ax.set_xlabel('X Label')\n",
    "    ax.set_ylabel('Y Label')\n",
    "    ax.set_zlabel('Z Label')\n",
    "\n",
    "\n",
    "\n",
    "    ibd = model.bas6.ibound.array[:,:,0]\n",
    "    zs = np.array([np.where(col!=0)[0][-1]for col in ibd.T])\n",
    "    ys = np.arange(len(zs))\n",
    "    zs = list(zs) + [nlay,nlay]\n",
    "    ys = list(ys) + [ys[-1],0]\n",
    "    xs = np.repeat(colum,len(ys))\n",
    "\n",
    "    verts = [list(zip(xs, ys, zs))]\n",
    "    poly = Poly3DCollection(verts)\n",
    "    poly.set_facecolor('grey')\n",
    "    poly.set_edgecolor('black')\n",
    "    ax.add_collection3d(poly)\n",
    "\n",
    "\n",
    "    ibd = model.bas6.ibound.array[:,:,0]\n",
    "    z1 = np.array([np.where(col!=0)[0][-1]for col in ibd.T])[-1]\n",
    "    zs = [z1,z1,60,60]\n",
    "    ys = [nrow-1,nrow-1,nrow-1,nrow-1]\n",
    "    xs = [colum, 0,  0,colum]\n",
    "\n",
    "    verts = [list(zip(xs, ys, zs))]\n",
    "    poly = Poly3DCollection(verts)\n",
    "    poly.set_facecolor('grey')\n",
    "    poly.set_edgecolor('black')\n",
    "    ax.add_collection3d(poly)\n",
    "\n",
    "\n",
    "\n",
    "    xs = list(wt)\n",
    "    ys =list(np.arange(0,len(xs)))\n",
    "\n",
    "    xs = xs[::5] +xs[-1:]\n",
    "    ys  = ys[::5] +ys[-1:]\n",
    "\n",
    "    spline = make_interp_spline(ys, xs)\n",
    "    ys_smooth = np.linspace(min(ys), max(ys), 100)\n",
    "    xs_smooth = spline(ys_smooth)\n",
    "    zs_smooth = np.repeat(colum,len(xs_smooth))\n",
    "    ax.plot(zs_smooth,ys_smooth,xs_smooth,c='k',zorder=10)\n",
    "\n",
    "    xs = [zs_smooth[-1],zs_smooth[-1]]\n",
    "    ys = [ys_smooth[-1],ys_smooth[-1]]\n",
    "    zs = [xs_smooth[-1],52]\n",
    "    ax.plot(xs,ys,zs,c='k',zorder=10)\n",
    "\n",
    "    xs = [0,zs_smooth[-1]]\n",
    "    ys = [ys_smooth[-1],ys_smooth[-1]]\n",
    "    zs = [xs_smooth[-1],xs_smooth[-1]]\n",
    "    ax.plot(xs,ys,zs,c='k',zorder=10)\n",
    "\n",
    "    zs_smooth = np.repeat(0,len(xs_smooth))\n",
    "    ax.plot(zs_smooth,ys_smooth,xs_smooth,c='k',zorder=10)\n",
    "\n",
    "    xs = [zs_smooth[-1],zs_smooth[-1]]\n",
    "    ys = [ys_smooth[-1],ys_smooth[-1]]\n",
    "    zs = [xs_smooth[-1],52]\n",
    "    ax.plot(xs,ys,zs,c='k',zorder=10)\n",
    "\n",
    "    ax.set_xlim(0,220)\n",
    "    ax.set_ylim(0,220)\n",
    "    ax.set_zlim(0,60)\n",
    "    ax.view_init(elev=30, azim=30)\n",
    "    ax.set_box_aspect((2200,2200,30*10))\n",
    "    ax.invert_zaxis()\n",
    "\n",
    "    fig.set_size_inches(12,12)\n",
    "    #plt.show()\n",
    "    plt.savefig(Path(model_ws) /'_output'/'{0:02d}.png'.format(kper))\n",
    "\n",
    "\n",
    "\n",
    "from PIL import Image\n",
    "import os\n",
    "\n",
    "# Set the directory containing the PNG files\n",
    "png_dir = Path(model_ws) /'_output'\n",
    "\n",
    "# Set the output file name\n",
    "gif_file = 'output.gif'\n",
    "\n",
    "# Set the size of the resized images\n",
    "size = (1000, 1000)\n",
    "\n",
    "# Create a list of all PNG files in the directory\n",
    "png_files = [f for f in os.listdir(png_dir) if f.endswith('.png')]\n",
    "\n",
    "# Open each PNG file, resize it, and append it to a list of frames\n",
    "frames = []\n",
    "for png_file in png_files:\n",
    "    with Image.open(os.path.join(png_dir, png_file)) as im:\n",
    "        im_resized = im.resize(size)\n",
    "        frames.append(im_resized)\n",
    "\n",
    "# Save the frames as an animated GIF\n",
    "frames[0].save(Path(model_ws) /'_output'/ gif_file, save_all=True, append_images=frames[1:], duration=200, loop=0)\n"
   ]
  },
  {
   "cell_type": "code",
   "execution_count": null,
   "metadata": {},
   "outputs": [],
   "source": []
  },
  {
   "cell_type": "code",
   "execution_count": null,
   "metadata": {},
   "outputs": [],
   "source": []
  },
  {
   "cell_type": "markdown",
   "metadata": {},
   "source": [
    "# PyVista"
   ]
  },
  {
   "cell_type": "code",
   "execution_count": null,
   "metadata": {},
   "outputs": [],
   "source": [
    "import numpy as np\n",
    "import pyvista as pv\n",
    "np.bool = np.bool_"
   ]
  },
  {
   "cell_type": "code",
   "execution_count": null,
   "metadata": {},
   "outputs": [],
   "source": []
  },
  {
   "cell_type": "code",
   "execution_count": null,
   "metadata": {},
   "outputs": [],
   "source": []
  },
  {
   "cell_type": "code",
   "execution_count": null,
   "metadata": {},
   "outputs": [],
   "source": [
    "\n",
    "for kper in range(nper):\n",
    "    # Read the concentration data from the UCN file\n",
    "    ucnobj = flopy.utils.binaryfile.UcnFile(model_ws + '/MT3D001.UCN')\n",
    "    concentration_array = ucnobj.get_data(kstpkper=(0, kper))# (time step, stress period)\n",
    "\n",
    "    concentration_array[concentration_array==1e30]=0\n",
    "    concentration_array[concentration_array<0.1]=0\n",
    "    arr = concentration_array[:,:,:].T\n",
    "    arr = arr[:,:,::-1]\n",
    "    #arr[np.where(arr<1)]=1\n",
    "\n",
    "    # Create the spatial reference\n",
    "    grid = pv.ImageData()\n",
    "    grid.dimensions = np.array(arr.shape) + 1\n",
    "    grid.origin = (0,0,0)  # The bottom left corner of the data set\n",
    "    grid.spacing = (delc, delr, 30/nlay)  # These are the cell sizes along each axis\n",
    "\n",
    "\n",
    "    # Add the data values to the cell data\n",
    "    grid.cell_data[\"arr\"] = arr.flatten(order=\"F\")  # Flatten the array\n",
    "\n",
    "\n",
    "    pl = pv.Plotter()\n",
    "    pl.add_volume(grid,cmap='rainbow')\n",
    "\n",
    "    points = np.array([[0, 0, 0], [0,0,27],[0,2200,10],[0,2200,0],[0,0,0]])\n",
    "    poly = pyvista.lines_from_points(points)\n",
    "    pl.add_mesh(poly, color='lightblue', line_width=5)\n",
    "\n",
    "    points = np.array([[0,2200,10],[0,2200,0],[2200,2200,0],[2200,2200,10],[0,2200,10]])\n",
    "    poly = pyvista.lines_from_points(points)\n",
    "    pl.add_mesh(poly, color='lightblue', line_width=5)\n",
    "\n",
    "\n",
    "    points = np.array([[2200, 0, 0], [2200,0,27],[2200,2200,10],[2200,2200,0],[2200,0,0]])\n",
    "    poly = pyvista.lines_from_points(points)\n",
    "    pl.add_mesh(poly, color='lightblue', line_width=5)\n",
    "\n",
    "\n",
    "    points = np.array([[0,0,27],[0,0,0],[2200,0,0],[2200,0,27],[0,0,27]])\n",
    "    poly = pyvista.lines_from_points(points)\n",
    "    pl.add_mesh(poly, color='lightblue', line_width=5)\n",
    "\n",
    "    # pl.camera.position = (1100, 1100, 10)\n",
    "    # pl.camera.focal_point = (1100,1200, -20)\n",
    "    # pl.camera.up = (0.0, 0.0, 0.0)\n",
    "    # pl.camera.zoom(1.0)\n",
    "\n",
    "    pl.camera_position = 'yz'\n",
    "    pl.camera.elevation = 45\n",
    "\n",
    "    pl.set_scale(zscale=20)\n",
    " \n",
    "\n",
    "\n",
    "    pl.show(screenshot=Path(model_ws)/'_output'/'pv_{:02}'.format(kper))"
   ]
  },
  {
   "cell_type": "code",
   "execution_count": null,
   "metadata": {},
   "outputs": [],
   "source": []
  },
  {
   "cell_type": "code",
   "execution_count": null,
   "metadata": {},
   "outputs": [],
   "source": []
  },
  {
   "cell_type": "code",
   "execution_count": null,
   "metadata": {},
   "outputs": [],
   "source": []
  },
  {
   "cell_type": "code",
   "execution_count": null,
   "metadata": {},
   "outputs": [],
   "source": [
    "# Create a figure with 2 rows and 4 columns of subplots\n",
    "fig, axes = plt.subplots(3, 4)\n",
    "\n",
    "# Load the concentration data from the UCN file\n",
    "budobj = bf.UcnFile(model_ws + '/MT3D001.UCN', model=model)\n",
    "\n",
    "# Get the times for which concentration data is available\n",
    "times = budobj.get_times()\n",
    "\n",
    "# Select 8 time indices evenly spaced throughout the simulation period\n",
    "selected_indices = [int(n) for n in np.linspace(0, len(times)-1,12)]\n",
    "\n",
    "# Loop over the selected time indices\n",
    "for n in range(12):\n",
    "    # Get the concentration data for the selected time\n",
    "    conc = budobj.get_data(totim=times[selected_indices[n]])\n",
    "    conc[conc==1.e+30] = 0\n",
    "    \n",
    "    # Flatten the axes array and select the nth subplot\n",
    "    ax = axes.flatten()[n]\n",
    "    \n",
    "    # Plot the sum of the concentration data over the x-axis\n",
    "    im1 = ax.imshow(np.sum(conc, axis=0), cmap='coolwarm', vmin=0, vmax=500)\n",
    "    \n",
    "    # Add a colorbar to the figure\n",
    "    cbar_ax = fig.add_axes([0.25, 0.01, 0.5, 0.05])\n",
    "    fig.colorbar(im1, cax=cbar_ax, orientation='horizontal')\n",
    "    \n",
    "    # Set the title of the subplot to the selected time in years\n",
    "    ax.set_title('{:.1f} years'.format(times[selected_indices[n]]/365))\n",
    "    \n",
    "    # Add a shoreline  to the subplot\n",
    "    ax.axhline(y=170*2, c='k')\n",
    "\n",
    "# Set the size of the figure\n",
    "fig.set_size_inches(20, 15)"
   ]
  },
  {
   "cell_type": "code",
   "execution_count": null,
   "metadata": {},
   "outputs": [],
   "source": [
    "# Create a figure with 2 rows and 4 columns of subplots\n",
    "fig, axes = plt.subplots(2, 4)\n",
    "\n",
    "# Load the concentration data from the UCN file\n",
    "budobj = bf.UcnFile(model_ws + '/MT3D001.UCN', model=model)\n",
    "\n",
    "# Get the times for which concentration data is available\n",
    "times = budobj.get_times()\n",
    "\n",
    "# Select 8 time indices evenly spaced throughout the simulation period\n",
    "selected_indices = [int(n) for n in np.linspace(0, len(times)-1,8)]\n",
    "\n",
    "# Loop over the selected time indices\n",
    "for n in range(8):\n",
    "    # Get the concentration data for the selected time\n",
    "    conc = budobj.get_data(totim=times[selected_indices[n]])\n",
    "    conc[conc==1.e+30] = 0\n",
    "    \n",
    "    # Flatten the axes array and select the nth subplot\n",
    "    ax = axes.flatten()[n]\n",
    "    \n",
    "    # Plot the sum of the concentration data over the x-axis\n",
    "    im1 = ax.imshow(np.sum(conc, axis=0), cmap='coolwarm', vmin=0, vmax=500)\n",
    "    \n",
    "    # Add a colorbar to the figure\n",
    "    cbar_ax = fig.add_axes([0.25, 0.01, 0.5, 0.05])\n",
    "    fig.colorbar(im1, cax=cbar_ax, orientation='horizontal')\n",
    "    \n",
    "    # Set the title of the subplot to the selected time in years\n",
    "    ax.set_title('{:.1f} years'.format(times[selected_indices[n]]/365))\n",
    "    \n",
    "    # Add a shoreline  to the subplot\n",
    "    ax.axhline(y=140, c='k')\n",
    "\n",
    "# Set the size of the figure\n",
    "fig.set_size_inches(20, 8)"
   ]
  },
  {
   "cell_type": "code",
   "execution_count": null,
   "metadata": {},
   "outputs": [],
   "source": []
  },
  {
   "cell_type": "code",
   "execution_count": null,
   "metadata": {},
   "outputs": [],
   "source": []
  },
  {
   "cell_type": "code",
   "execution_count": null,
   "metadata": {},
   "outputs": [],
   "source": []
  },
  {
   "cell_type": "code",
   "execution_count": null,
   "metadata": {},
   "outputs": [],
   "source": []
  },
  {
   "cell_type": "code",
   "execution_count": null,
   "metadata": {},
   "outputs": [],
   "source": [
    "xsect = flopy.plot.crosssection.PlotCrossSection(model=model, line={'Column': 100})\n",
    "patches = xsect.plot_ibound()\n",
    "plt.colorbar(patches)\n",
    "plt.gcf().set_size_inches(10,8)"
   ]
  },
  {
   "cell_type": "code",
   "execution_count": null,
   "metadata": {},
   "outputs": [],
   "source": [
    "xsect = flopy.plot.crosssection.PlotCrossSection(model=model, line={'Column': 100})\n",
    "patches = xsect.plot_array(bas.strt.array)\n",
    "plt.colorbar(patches)\n",
    "plt.gcf().set_size_inches(10,4)"
   ]
  },
  {
   "cell_type": "code",
   "execution_count": null,
   "metadata": {},
   "outputs": [],
   "source": []
  }
 ],
 "metadata": {
  "kernelspec": {
   "display_name": "Python 3",
   "language": "python",
   "name": "python3"
  },
  "language_info": {
   "codemirror_mode": {
    "name": "ipython",
    "version": 3
   },
   "file_extension": ".py",
   "mimetype": "text/x-python",
   "name": "python",
   "nbconvert_exporter": "python",
   "pygments_lexer": "ipython3",
   "version": "3.11.3"
  }
 },
 "nbformat": 4,
 "nbformat_minor": 4
}
