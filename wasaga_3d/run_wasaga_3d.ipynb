{
 "cells": [
  {
   "cell_type": "code",
   "execution_count": 57,
   "metadata": {},
   "outputs": [],
   "source": [
    "import flopy\n",
    "import numpy as np\n",
    "import matplotlib.pyplot as plt\n",
    "import shutil\n",
    "from pathlib import Path\n",
    "\n",
    "from datetime import datetime\n",
    "from tempfile import TemporaryDirectory\n",
    "from tempfile import mkdtemp\n",
    "\n",
    "import os\n",
    "import platform\n",
    "import subprocess\n",
    "from shapely.geometry import Polygon, Point\n",
    "from scipy.interpolate import make_interp_spline"
   ]
  },
  {
   "cell_type": "code",
   "execution_count": null,
   "metadata": {},
   "outputs": [],
   "source": []
  },
  {
   "cell_type": "code",
   "execution_count": 58,
   "metadata": {},
   "outputs": [],
   "source": [
    "def locate_ground_surface_lay(row=150):\n",
    "    cross_section = ibound[:,:,0]\n",
    "    lay = np.where(cross_section[:,row]==1)[0][0]\n",
    "    return lay\n",
    "\n",
    "def meter_to_col(col_meter):\n",
    "    return int(np.round(col_meter/delc,0))\n",
    "\n",
    "def meter_to_row(row_meter):\n",
    "    return int(np.round(row_meter/delc,0))\n",
    "\n",
    "def meter_to_lay(lay_meter):\n",
    "    return int(np.round((top_elev-lay_meter)/layer_thickness,0))\n",
    "\n",
    "def col_to_meter(col):\n",
    "    return col*delc\n",
    "\n",
    "def row_to_meter(row):\n",
    "    return row*delc\n",
    "\n",
    "def lay_to_meter(row):\n",
    "    return 190.0-row*layer_thickness"
   ]
  },
  {
   "cell_type": "code",
   "execution_count": null,
   "metadata": {},
   "outputs": [],
   "source": []
  },
  {
   "cell_type": "code",
   "execution_count": 59,
   "metadata": {},
   "outputs": [],
   "source": [
    "\n",
    "def change_array_within_polygon(array, row_coords, col_coords, value):\n",
    "\n",
    "    # Create a polygon object from the row and column coordinates\n",
    "    polygon = Polygon(zip(col_coords, row_coords))\n",
    "\n",
    "    # Create a boolean mask indicating which points fall within the polygon\n",
    "    mask = np.zeros_like(array, dtype=bool)\n",
    "    for row in range(array.shape[0]):\n",
    "        for col in range(array.shape[1]):\n",
    "            point = Point(col, row)\n",
    "            if polygon.contains(point) or polygon.intersects(point):\n",
    "                mask[row, col] = True\n",
    "\n",
    "    # Set the values of the array that fall within the polygon to the new value\n",
    "    array[mask] = value\n",
    "\n",
    "    return array\n"
   ]
  },
  {
   "cell_type": "code",
   "execution_count": null,
   "metadata": {},
   "outputs": [],
   "source": []
  },
  {
   "cell_type": "markdown",
   "metadata": {},
   "source": [
    "# Workspace"
   ]
  },
  {
   "cell_type": "code",
   "execution_count": 60,
   "metadata": {},
   "outputs": [],
   "source": [
    "# Define model workspace\n",
    "\n",
    "myt = datetime.now().strftime('%m%d%H%M%S')\n",
    "name = 'wasaga'\n",
    "temp_dir = mkdtemp(prefix='_T{}_{}_'.format(myt,name))\n",
    "os.makedirs(Path(temp_dir) / '_output')\n",
    "\n",
    "#model_ws = \"./modflow_model_2\"\n",
    "model_ws = temp_dir\n",
    "\n",
    "def open_file(path):\n",
    "    if platform.system() == \"Windows\":\n",
    "        os.startfile(path)\n",
    "    elif platform.system() == \"Darwin\":\n",
    "        subprocess.Popen([\"open\", path])\n",
    "    else:\n",
    "        subprocess.Popen([\"xdg-open\", path])\n",
    "\n",
    "open_file(model_ws)"
   ]
  },
  {
   "cell_type": "code",
   "execution_count": null,
   "metadata": {},
   "outputs": [],
   "source": []
  },
  {
   "cell_type": "markdown",
   "metadata": {},
   "source": [
    "# Model"
   ]
  },
  {
   "cell_type": "code",
   "execution_count": 61,
   "metadata": {},
   "outputs": [],
   "source": [
    "# # Create a MODFLOW model instance\n",
    "# model = flopy.modflow.Modflow(modelname=\"example_model\",version='mf2005',\n",
    "#                               exe_name='mf2005', \n",
    "#                               model_ws=model_ws)"
   ]
  },
  {
   "cell_type": "markdown",
   "metadata": {},
   "source": []
  },
  {
   "cell_type": "markdown",
   "metadata": {},
   "source": []
  },
  {
   "cell_type": "code",
   "execution_count": 62,
   "metadata": {},
   "outputs": [],
   "source": [
    "# Create a MODFLOW model instance\n",
    "model = flopy.seawat.Seawat(modelname=\"example_model\",\n",
    "                            exe_name='swtv4', \n",
    "                              model_ws=model_ws)\n"
   ]
  },
  {
   "cell_type": "code",
   "execution_count": null,
   "metadata": {},
   "outputs": [],
   "source": []
  },
  {
   "cell_type": "code",
   "execution_count": null,
   "metadata": {},
   "outputs": [],
   "source": []
  },
  {
   "cell_type": "code",
   "execution_count": null,
   "metadata": {},
   "outputs": [],
   "source": []
  },
  {
   "cell_type": "markdown",
   "metadata": {},
   "source": [
    "# DIS"
   ]
  },
  {
   "cell_type": "code",
   "execution_count": 63,
   "metadata": {},
   "outputs": [],
   "source": [
    "# Define model dimensions\n",
    "nlay = int(60 * 2)\n",
    "nrow = int(220 * 1)\n",
    "ncol = int(220 * 1)\n",
    "delr = 2200/nrow  # Cell width along rows (extend 2200 / 220)\n",
    "delc = 2200/ncol  # Cell width along columns (extend 2200 / 220)\n",
    "\n",
    "# Define top elevation\n",
    "layer_thickness = 30.0 / nlay\n",
    "\n",
    "top_elev = 190.0\n",
    "botm_elev = [top_elev - (i * layer_thickness) for i in range(1, nlay + 1)]\n",
    "# Define layer thickness (uniform thickness)\n",
    "\n",
    "\n",
    "perlen = 365\n",
    "nper = int(70)\n",
    "\n",
    "steady = np.append(np.array([True]),np.repeat(False,nper-1))\n",
    "#steady=[False,False,True]\n",
    "#steady = True\n",
    "\n",
    "# Create DIS package\n",
    "\n"
   ]
  },
  {
   "cell_type": "code",
   "execution_count": 64,
   "metadata": {},
   "outputs": [],
   "source": [
    "dis = flopy.modflow.ModflowDis(model, nlay=nlay, nrow=nrow, ncol=ncol, \n",
    "                               delr=delr, delc=delc,top=top_elev, \n",
    "                               botm=botm_elev,\n",
    "                               nper = nper, perlen = perlen,\n",
    "                               nstp = 1, steady = steady)\n"
   ]
  },
  {
   "cell_type": "code",
   "execution_count": null,
   "metadata": {},
   "outputs": [],
   "source": []
  },
  {
   "cell_type": "markdown",
   "metadata": {},
   "source": [
    "# Ibound"
   ]
  },
  {
   "cell_type": "code",
   "execution_count": 65,
   "metadata": {},
   "outputs": [],
   "source": [
    "\n",
    "\n",
    "x = np.array([0, 100, 340, 600, 750, 850, 1100, 1350, 1450, 1530, 1650, 1750, 1850, 2050, 2200])\n",
    "y_topo = np.array([190,190,187,184,184,184,183,182,179,175.5,175,173.8,173.5,172,171])#topo\n",
    "y_clay = np.array([185,184,180,175,174,174,173,170,169,168.5,167.5,166.8,166.5,165,164]) #clay\n",
    "\n",
    "\n",
    "# Interpolate the data using smoothing splines\n",
    "spl = make_interp_spline(x, y_topo)\n",
    "x_smooth_topo = np.linspace(x.min(), x.max(), 30)\n",
    "y_smooth_topo = spl(x_smooth_topo)\n",
    "\n",
    "col_coords = (x_smooth_topo/delr).round(0)\n",
    "col_coords_topo = list(col_coords) +[nrow,0]\n",
    "\n",
    "row_coords = ((top_elev - y_smooth_topo)/layer_thickness).round(0)\n",
    "row_coords_topo  =  list(row_coords) +[0,0]\n",
    "\n",
    "\n",
    "\n",
    "# Interpolate the data using smoothing splines\n",
    "spl = make_interp_spline(x, y_clay)\n",
    "x_smooth = np.linspace(x.min(), x.max(), 30)\n",
    "y_smooth = spl(x_smooth)\n",
    "\n",
    "col_coords = (x_smooth/delr).round(0)\n",
    "col_coords_clay = list(col_coords) +[nrow,0]\n",
    "row_coords = ((top_elev - y_smooth)/layer_thickness).round(0)\n",
    "row_coords_clay  =  list(row_coords) +[nlay,nlay]\n"
   ]
  },
  {
   "cell_type": "code",
   "execution_count": null,
   "metadata": {},
   "outputs": [],
   "source": []
  },
  {
   "cell_type": "markdown",
   "metadata": {},
   "source": [
    "# Ibound & Strt"
   ]
  },
  {
   "cell_type": "code",
   "execution_count": 66,
   "metadata": {},
   "outputs": [
    {
     "name": "stdout",
     "output_type": "stream",
     "text": [
      "185.25\n",
      "185.5\n",
      "185.75\n",
      "186.0\n",
      "186.25\n",
      "186.5\n",
      "186.75\n",
      "185.0\n",
      "185.25\n",
      "185.5\n",
      "185.75\n",
      "186.0\n",
      "186.25\n",
      "186.5\n",
      "186.75\n"
     ]
    },
    {
     "data": {
      "image/png": "[encoded data removed]",
      "text/plain": [
       "<Figure size 1500x1000 with 2 Axes>"
      ]
     },
     "metadata": {},
     "output_type": "display_data"
    },
    {
     "data": {
      "image/png": "[encoded data removed]",
      "text/plain": [
       "<Figure size 1500x1000 with 2 Axes>"
      ]
     },
     "metadata": {},
     "output_type": "display_data"
    }
   ],
   "source": [
    "\n",
    "# Define ibound and initial conditionsa\n",
    "ibound = np.ones((nlay, nrow, ncol), dtype=int)\n",
    "initial_head = np.full((nlay, nrow, ncol), 200.0, dtype=float)\n",
    "\n",
    "# Set constant head boundary conditions for the first and last rows\n",
    "array = change_array_within_polygon(ibound, row_coords_topo, col_coords_topo, 0)\n",
    "plt.scatter(col_coords_topo,row_coords_topo,c='r')\n",
    "\n",
    "\n",
    "array = change_array_within_polygon(ibound, row_coords_clay, col_coords_clay, 0)\n",
    "plt.scatter(col_coords,row_coords,c='r')\n",
    "\n",
    "for c in range(0,2):\n",
    "    i = np.where(ibound[:,c,-1]==1)[0][-1]\n",
    "    head = top_elev-i*layer_thickness\n",
    "    #print('head {}'.format(head))\n",
    "    \n",
    "    while head<187:\n",
    "        ibound[i,c,:] = -1\n",
    "        #print(i,c)\n",
    "        #initial_head[i,c,:] = head+0.5\n",
    "        print(head)\n",
    "        initial_head[i,c,:] = 187\n",
    "        head+=layer_thickness\n",
    "        i-=1\n",
    "\n",
    "\n",
    "lay = np.where(ibound[:,int(1700/delr),-1])[0][0]\n",
    "elv = lay_to_meter(lay)\n",
    "head = elv\n",
    "\n",
    "for c in range(int(1700/delr),int(2200/delr)):\n",
    "    lay = np.where(ibound[:,c,-1]==1)[0][0]\n",
    "    #print(lay,lay_to_meter(lay))\n",
    "    ibound[lay,c,:] = -1\n",
    "    initial_head[lay,c,:] = elv\n",
    "\n",
    "\n",
    "\n",
    "\n",
    "# Your existing code\n",
    "im = plt.imshow(ibound[:,:,2], origin='upper', aspect=1)\n",
    "plt.axvline(x=meter_to_col(1700))# shoreline\n",
    "plt.gcf().set_size_inches(15,10)\n",
    "\n",
    "# Set the y-axis tick positions and labels\n",
    "#plt.yticks([0, 10,20, 30,40, 50,60], ['190m (0L)','185m (10L)', '180m (20L)','175m (30L)', '170m (40L)', '165m (50L)','160m (60L)'])\n",
    "\n",
    "# Add a horizontal colorbar\n",
    "cbar = plt.colorbar(im, orientation='horizontal')\n",
    "cbar.ax.tick_params(labelsize=16)\n",
    "cbar.set_label('Colorbar Label', fontsize=16)\n",
    "\n",
    "# Display the plot\n",
    "plt.title('ibound')\n",
    "plt.grid()\n",
    "plt.show()\n",
    "\n",
    "\n",
    "fig, ax = plt.subplots(figsize=(15, 10))\n",
    "im = ax.imshow(initial_head[:, :, 0], origin='upper')\n",
    "\n",
    "# Add a horizontal colorbar\n",
    "cbar = plt.colorbar(im, orientation='horizontal')\n",
    "cbar.ax.tick_params(labelsize=18)\n",
    "plt.title('initial head')\n",
    "plt.show()\n"
   ]
  },
  {
   "cell_type": "code",
   "execution_count": null,
   "metadata": {},
   "outputs": [],
   "source": []
  },
  {
   "cell_type": "code",
   "execution_count": null,
   "metadata": {},
   "outputs": [],
   "source": []
  },
  {
   "cell_type": "code",
   "execution_count": null,
   "metadata": {},
   "outputs": [],
   "source": []
  },
  {
   "cell_type": "markdown",
   "metadata": {},
   "source": []
  },
  {
   "cell_type": "markdown",
   "metadata": {},
   "source": [
    "# BAS LPF  PCG"
   ]
  },
  {
   "cell_type": "code",
   "execution_count": 67,
   "metadata": {},
   "outputs": [],
   "source": [
    "\n",
    "# Create BAS package\n",
    "bas = flopy.modflow.ModflowBas(model, ibound=ibound, strt=initial_head)\n",
    "\n",
    "# Define hydraulic properties\n",
    "horizontal_k = 2.3  # Horizontal hydraulic conductivity (m/day)\n",
    "vertical_ka = 0.1   # Vertical hydraulic conductivity (m/day)\n",
    "porosity = 0.25     # Porosity\n",
    "\n",
    "# Create LPF package (Layer Property Flow package)\n",
    "lpf = flopy.modflow.ModflowLpf(model, hk=horizontal_k, \n",
    "                               vka=vertical_ka, laytyp=1, \n",
    "                               ipakcb=None,ss=0.0002,sy=0.33,\n",
    "                               laywet=1,iwetit=1,wetfct=0.1,ihdwet=1)\n",
    "\n",
    "# #ss=0.0002,sy=0.33\n",
    "# upw = flopy.modflow.ModflowUpw(model, laytyp=1, hk=horizontal_k)\n",
    "\n",
    "pcg = flopy.modflow.ModflowPcg(model, hclose=1e-3,npcond=1,\n",
    "                               relax=0.99,rclose=1e-3,mutpcg=0,nbpol=1,iprpcg=1)\n",
    "\n"
   ]
  },
  {
   "cell_type": "code",
   "execution_count": null,
   "metadata": {},
   "outputs": [],
   "source": []
  },
  {
   "cell_type": "code",
   "execution_count": null,
   "metadata": {},
   "outputs": [],
   "source": []
  },
  {
   "cell_type": "code",
   "execution_count": null,
   "metadata": {},
   "outputs": [],
   "source": []
  },
  {
   "cell_type": "code",
   "execution_count": null,
   "metadata": {},
   "outputs": [],
   "source": []
  },
  {
   "cell_type": "markdown",
   "metadata": {},
   "source": [
    "# Heterogeneity"
   ]
  },
  {
   "cell_type": "code",
   "execution_count": 68,
   "metadata": {},
   "outputs": [],
   "source": [
    "# hk_mean = 2.3  # mean hydraulic conductivity\n",
    "# hk_std = 2  # standard deviation of hydraulic conductivity\n",
    "# hk= np.random.normal(hk_mean, hk_std, size=[nlay,nrow,ncol])\n",
    "# hk[np.where(hk<0)]=0.001\n",
    "\n",
    "# model.lpf.hk = hk\n"
   ]
  },
  {
   "cell_type": "code",
   "execution_count": 69,
   "metadata": {},
   "outputs": [],
   "source": [
    "# hk_mean = np.log10(2.3)  # mean hydraulic conductivity\n",
    "# hk_std = 0.4  # standard deviation of hydraulic conductivity\n",
    "# hk= np.random.normal(hk_mean, hk_std, size=[nlay,nrow,ncol])\n",
    "# hk = 10**hk\n",
    "# #hk[np.where(hk<0)]=0.001\n",
    "# hk.mean()\n",
    "# model.lpf.hk = hk"
   ]
  },
  {
   "cell_type": "code",
   "execution_count": 70,
   "metadata": {},
   "outputs": [],
   "source": [
    "# plt.hist(hk.flatten(),bins=np.linspace(0,30,50))\n",
    "# plt.show()\n",
    "\n",
    "# plt.imshow(hk[0,:,:])\n",
    "# plt.show()"
   ]
  },
  {
   "cell_type": "code",
   "execution_count": null,
   "metadata": {},
   "outputs": [],
   "source": []
  },
  {
   "cell_type": "markdown",
   "metadata": {},
   "source": [
    "# DRN"
   ]
  },
  {
   "cell_type": "code",
   "execution_count": 71,
   "metadata": {},
   "outputs": [],
   "source": [
    "locate_ground_surface_lay(meter_to_row(160))\n",
    "#drn_cell = [(0, 150, 28), -10, 100]\n",
    "\n",
    "beach_drns = np.arange(1520,1600+1,delr).astype(int)\n",
    "river_drns = np.arange(595,605+1,delr).astype(int)\n",
    "\n",
    "drn_list = []\n",
    "drn_ys= list(beach_drns)+list(river_drns)\n",
    "\n",
    "for y in drn_ys:\n",
    "   row = meter_to_row(y)\n",
    "   lay = locate_ground_surface_lay(row=row)\n",
    "   elv = lay_to_meter(lay)\n",
    "   #print(lay)\n",
    "   for col in range(ncol):\n",
    "\n",
    "      drn_list.append([lay, row, col, elv, 100])\n",
    "      #drn_list.append([12*2, meter_to_row(600), col, 184.0-0.5, 100])\n",
    "      \n",
    "drn_cell = {0:drn_list} \n",
    "\n",
    "#drn_cell={0:[[31, 160, 0, 174.5-0.5, 0],[12, 60, 0, 184.0-0.5, 0]]}\n",
    "drn = flopy.modflow.ModflowDrn(model=model, stress_period_data=drn_cell,)"
   ]
  },
  {
   "cell_type": "code",
   "execution_count": null,
   "metadata": {},
   "outputs": [],
   "source": []
  },
  {
   "cell_type": "code",
   "execution_count": 72,
   "metadata": {},
   "outputs": [
    {
     "data": {
      "image/png": "[encoded data removed]",
      "text/plain": [
       "<Figure size 640x480 with 1 Axes>"
      ]
     },
     "metadata": {},
     "output_type": "display_data"
    }
   ],
   "source": [
    "lays_with_drn = np.unique([i[0] for i in drn.stress_period_data.data[0]])\n",
    "for lay in lays_with_drn:\n",
    "    pmv = flopy.plot.PlotMapView(model=model, layer=lay)\n",
    "    pmv.plot_bc('DRN',color='r')"
   ]
  },
  {
   "cell_type": "code",
   "execution_count": null,
   "metadata": {},
   "outputs": [],
   "source": []
  },
  {
   "cell_type": "code",
   "execution_count": null,
   "metadata": {},
   "outputs": [],
   "source": []
  },
  {
   "cell_type": "markdown",
   "metadata": {},
   "source": [
    "# BTN ICBOUND "
   ]
  },
  {
   "cell_type": "code",
   "execution_count": 73,
   "metadata": {},
   "outputs": [],
   "source": [
    "icbund = np.full((nlay, nrow, ncol),0, dtype=float)\n",
    "icbund = ibound.copy()\n",
    "\n",
    "btn = flopy.mt3d.Mt3dBtn(\n",
    "    model,\n",
    "    nprs=5,\n",
    "    timprs=np.cumsum([200]*7),\n",
    "    prsity=0.25,\n",
    "    sconc= 0.1, # starting concentration\n",
    "    ifmtcn=0, chkmas=False, nprobs=10, nprmas=10,\n",
    "    dt0=5,  # The user-specified initial \n",
    "    ttsmult=1.4,\n",
    "    mxstrn = 50000,\n",
    "    icbund = icbund\n",
    ")\n"
   ]
  },
  {
   "cell_type": "code",
   "execution_count": null,
   "metadata": {},
   "outputs": [],
   "source": []
  },
  {
   "cell_type": "code",
   "execution_count": 74,
   "metadata": {},
   "outputs": [],
   "source": [
    "adv = flopy.mt3d.Mt3dAdv(model, mixelm=0,percel=0.4,mxpart=50000000,nadvfd=0)\n",
    "dsp = flopy.mt3d.Mt3dDsp(model, al=0.2, trpt=0.1, \n",
    "                        trpv=0.1, \n",
    "                        dmcoef=3.7E-10 )\n",
    "gcg = flopy.mt3d.Mt3dGcg(model, iter1=50, mxiter=1, isolve=2, cclose= 1e-5)"
   ]
  },
  {
   "cell_type": "code",
   "execution_count": null,
   "metadata": {},
   "outputs": [],
   "source": []
  },
  {
   "cell_type": "markdown",
   "metadata": {},
   "source": [
    "# RCH"
   ]
  },
  {
   "cell_type": "code",
   "execution_count": 75,
   "metadata": {},
   "outputs": [],
   "source": [
    "# crch_array =  np.full(( nrow, ncol), 0.1, dtype=float)\n",
    "# crch_dict = {}\n",
    "# crch_dict[0] = crch_array\n",
    "# ssm = flopy.mt3d.Mt3dSsm(model, crch=crch_dict)\n",
    "\n",
    "# rch_dict = {}\n",
    "# rch_array = np.full(( nrow, ncol), 0.00013, dtype=float)\n",
    "# rch_dict[0] = rch_array\n",
    "# rch = flopy.modflow.ModflowRch(model = model, rech = rch_dict)\n",
    "\n",
    "\n",
    "# ## [row, col, rch(m3), crch, start, end]\n",
    "# rch_data = [[1100,1100,0.51,5000,1,20]]\n"
   ]
  },
  {
   "cell_type": "code",
   "execution_count": null,
   "metadata": {},
   "outputs": [],
   "source": []
  },
  {
   "cell_type": "code",
   "execution_count": null,
   "metadata": {},
   "outputs": [],
   "source": []
  },
  {
   "cell_type": "code",
   "execution_count": 76,
   "metadata": {},
   "outputs": [],
   "source": [
    "crch_array =  np.full(( nrow, ncol), 0.1, dtype=float)\n",
    "crch_dict = {}\n",
    "crch_dict[0] = crch_array\n",
    "\n",
    "crch_array =  np.full(( nrow, ncol), 0.1, dtype=float)\n",
    "crch_array[int(nrow/2),int(ncol/2)] =5000\n",
    "crch_array[int(nrow/2),int(ncol/3)] =5000\n",
    "crch_dict = {}\n",
    "crch_dict[1] = crch_array\n",
    "\n",
    "ssm = flopy.mt3d.Mt3dSsm(model, crch=crch_dict)"
   ]
  },
  {
   "cell_type": "code",
   "execution_count": 77,
   "metadata": {},
   "outputs": [],
   "source": [
    "rch_dict = {}\n",
    "\n",
    "rch_array = np.full(( nrow, ncol), 0.00013, dtype=float)\n",
    "rch_dict[0] = rch_array\n",
    "\n",
    "rch_array = np.full(( nrow, ncol), 0.00013, dtype=float)\n",
    "rch_array[int(nrow/2),int(ncol/2)] = 0.51/delr/delc\n",
    "rch_array[int(nrow/2),int(ncol/3)] = 0.51/delr/delc\n",
    "\n",
    "rch_dict[1] = rch_array\n",
    "rch = flopy.modflow.ModflowRch(model = model, rech = rch_dict)"
   ]
  },
  {
   "cell_type": "markdown",
   "metadata": {},
   "source": [
    "# RCT"
   ]
  },
  {
   "cell_type": "code",
   "execution_count": 78,
   "metadata": {},
   "outputs": [],
   "source": [
    "#rct = flopy.mt3d.Mt3dRct(model=model, isothm=3,sp1=1e-5,sp2=0.0001,igetsc=0,rhob= 1.65E+09)"
   ]
  },
  {
   "cell_type": "code",
   "execution_count": null,
   "metadata": {},
   "outputs": [],
   "source": []
  },
  {
   "cell_type": "markdown",
   "metadata": {},
   "source": [
    "# OC"
   ]
  },
  {
   "cell_type": "code",
   "execution_count": 81,
   "metadata": {},
   "outputs": [],
   "source": [
    "# OC\n",
    "spd = {}\n",
    "for kper in range(nper):\n",
    "    for kstp in range(1):\n",
    "        spd[(kper, kstp)] = [\n",
    "            \"save head\",\n",
    "            \"save drawdown\",\n",
    "            \"save budget\",\n",
    "            \"print head\",\n",
    "            \"print budget\",\n",
    "        ]\n",
    "\n",
    "oc = flopy.modflow.ModflowOc(\n",
    "    model,\n",
    "    stress_period_data= spd,\n",
    "    compact=True\n",
    "    ,extension=['oc', 'hds', 'ddn', 'cbc', 'ibo']\n",
    "    ,unitnumber = [14, 51, 52, 53, 0]\n",
    ")\n",
    "\n",
    "oc.reset_budgetunit(budgetunit=1053, fname='test.cbc')\n",
    "oc.reset_budgetunit(budgetunit=555, fname='test.cbc')"
   ]
  },
  {
   "cell_type": "code",
   "execution_count": null,
   "metadata": {},
   "outputs": [],
   "source": []
  },
  {
   "cell_type": "markdown",
   "metadata": {},
   "source": [
    "# Write and Run"
   ]
  },
  {
   "cell_type": "code",
   "execution_count": null,
   "metadata": {},
   "outputs": [],
   "source": []
  },
  {
   "cell_type": "code",
   "execution_count": 82,
   "metadata": {},
   "outputs": [
    {
     "name": "stdout",
     "output_type": "stream",
     "text": [
      "Util2d rech_1: locat is None, but model does not support free format and how is internal... resetting how = external\n",
      "Util2d rech_2: locat is None, but model does not support free format and how is internal... resetting how = external\n"
     ]
    }
   ],
   "source": [
    "\n",
    "# Write MODFLOW input files\n",
    "model.write_input()\n"
   ]
  },
  {
   "cell_type": "code",
   "execution_count": 83,
   "metadata": {},
   "outputs": [
    {
     "data": {
      "text/plain": [
       "'/var/folders/hy/v14_l_r91tl2w5s9xfm9p2kc0000gn/T/_T1114041911_wasaga_t3shbof_'"
      ]
     },
     "execution_count": 83,
     "metadata": {},
     "output_type": "execute_result"
    }
   ],
   "source": [
    "model_ws"
   ]
  },
  {
   "cell_type": "markdown",
   "metadata": {},
   "source": []
  },
  {
   "cell_type": "code",
   "execution_count": 84,
   "metadata": {},
   "outputs": [],
   "source": [
    "open_file(model_ws)"
   ]
  },
  {
   "cell_type": "code",
   "execution_count": 86,
   "metadata": {},
   "outputs": [
    {
     "name": "stdout",
     "output_type": "stream",
     "text": [
      "FloPy is using the following executable to run the model: ../../../../../../Users/b/.local/share/flopy/bin/swtv4\n",
      "\n",
      "                                  SEAWAT Version 4\n",
      "    U.S. GEOLOGICAL SURVEY MODULAR FINITE-DIFFERENCE GROUND-WATER FLOW MODEL\n",
      "                             Version 4.00.05 10/19/2012                      \n",
      "\n",
      "Incorporated MODFLOW Version: 1.18.01 06/20/2008                      \n",
      "Incorporated MT3DMS  Version: 5.20    10/30/2006                      \n",
      "\n",
      "\n",
      " This program is public domain and is released on the\n",
      " condition that neither the U.S. Geological Survey nor\n",
      " the United States Government may be held liable for any\n",
      " damages resulting from their authorized or unauthorized\n",
      " use.\n",
      "\n",
      "\n",
      " Using NAME file: example_model.nam                                                                                                                                                                                       \n",
      " Run start date and time (yyyy/mm/dd hh:mm:ss): 2023/11/14  4:25:10\n",
      "\n",
      "\n",
      " STRESS PERIOD NO.    1\n",
      "\n",
      "  STRESS PERIOD    1 TIME STEP    1 FROM TIME =   0.0000     TO    365.00    \n",
      "\n",
      " Transport Step:    1   Step Size:   5.000     Total Elapsed Time:   5.0000    \n",
      " Outer Iter.  1  Inner Iter.  1:  Max. DC =  0.1505      [K,I,J]   15   16  189\n",
      " Outer Iter.  1  Inner Iter.  2:  Max. DC =  0.2051E-03  [K,I,J]   57  151    6\n",
      " Outer Iter.  1  Inner Iter.  3:  Max. DC =  0.4176E-05  [K,I,J]   63  160  147\n",
      "forrtl: severe (174): SIGSEGV, segmentation fault occurred\n",
      "Image              PC                Routine            Line        Source             \n",
      "swtv4              00000001047DC7E4  Unknown               Unknown  Unknown\n",
      "libsystem_platfor  00007FF80B46237D  Unknown               Unknown  Unknown\n",
      "swtv4              000000010469C923  _ubdsv1_                 1278  utl6.f\n",
      "swtv4              000000010478AB69  _MAIN__                  2666  swt_v4.f\n",
      "swtv4              00000001044B77AE  Unknown               Unknown  Unknown\n"
     ]
    },
    {
     "data": {
      "text/plain": [
       "(False, [])"
      ]
     },
     "execution_count": 86,
     "metadata": {},
     "output_type": "execute_result"
    }
   ],
   "source": [
    "# Run the MODFLOW model\n",
    "model.run_model()"
   ]
  },
  {
   "cell_type": "code",
   "execution_count": null,
   "metadata": {},
   "outputs": [],
   "source": []
  },
  {
   "cell_type": "code",
   "execution_count": null,
   "metadata": {},
   "outputs": [],
   "source": []
  }
 ],
 "metadata": {
  "kernelspec": {
   "display_name": "Python 3",
   "language": "python",
   "name": "python3"
  },
  "language_info": {
   "codemirror_mode": {
    "name": "ipython",
    "version": 3
   },
   "file_extension": ".py",
   "mimetype": "text/x-python",
   "name": "python",
   "nbconvert_exporter": "python",
   "pygments_lexer": "ipython3",
   "version": "3.11.3"
  }
 },
 "nbformat": 4,
 "nbformat_minor": 4
}
