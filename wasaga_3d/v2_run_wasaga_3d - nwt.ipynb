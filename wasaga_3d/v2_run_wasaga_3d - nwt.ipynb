{
 "cells": [
  {
   "cell_type": "markdown",
   "metadata": {},
   "source": [
    "# MODFLOW-NWT"
   ]
  },
  {
   "cell_type": "code",
   "execution_count": null,
   "metadata": {},
   "outputs": [],
   "source": []
  },
  {
   "cell_type": "markdown",
   "metadata": {},
   "source": [
    "# Import"
   ]
  },
  {
   "cell_type": "markdown",
   "metadata": {},
   "source": [
    "- fix shoreline\n",
    "- add more septics\n",
    "- 1965 images\n",
    "- flux"
   ]
  },
  {
   "cell_type": "markdown",
   "metadata": {},
   "source": []
  },
  {
   "cell_type": "code",
   "execution_count": 54,
   "metadata": {},
   "outputs": [],
   "source": [
    "import flopy\n",
    "import numpy as np\n",
    "import matplotlib.pyplot as plt\n",
    "import shutil\n",
    "from pathlib import Path\n",
    "\n",
    "from datetime import datetime\n",
    "from tempfile import TemporaryDirectory\n",
    "from tempfile import mkdtemp\n",
    "\n",
    "import os\n",
    "import platform\n",
    "import subprocess\n",
    "from shapely.geometry import Polygon, Point\n",
    "from scipy.interpolate import make_interp_spline\n",
    "from random_name import generate_random_name\n"
   ]
  },
  {
   "cell_type": "code",
   "execution_count": null,
   "metadata": {},
   "outputs": [],
   "source": []
  },
  {
   "cell_type": "code",
   "execution_count": 55,
   "metadata": {},
   "outputs": [],
   "source": [
    "def locate_ground_surface_lay(row=150):\n",
    "    cross_section = ibound[:,:,0]\n",
    "    lay = np.where(cross_section[:,row]==1)[0][0]\n",
    "    return lay\n",
    "\n",
    "def meter_to_col(col_meter):\n",
    "    return int(np.round(col_meter/delc,0))\n",
    "\n",
    "def meter_to_row(row_meter):\n",
    "    return int(np.round(row_meter/delc,0))\n",
    "\n",
    "def meter_to_lay(lay_meter):\n",
    "    return int(np.round((top_elev-lay_meter)/layer_thickness,0))\n",
    "\n",
    "def col_to_meter(col):\n",
    "    return col*delc\n",
    "\n",
    "def row_to_meter(row):\n",
    "    return row*delc\n",
    "\n",
    "def lay_to_meter(row):\n",
    "    return 190.0-row*layer_thickness"
   ]
  },
  {
   "cell_type": "code",
   "execution_count": null,
   "metadata": {},
   "outputs": [],
   "source": []
  },
  {
   "cell_type": "code",
   "execution_count": 56,
   "metadata": {},
   "outputs": [],
   "source": [
    "\n",
    "def change_array_within_polygon(array, row_coords, col_coords, value):\n",
    "\n",
    "    # Create a polygon object from the row and column coordinates\n",
    "    polygon = Polygon(zip(col_coords, row_coords))\n",
    "\n",
    "    # Create a boolean mask indicating which points fall within the polygon\n",
    "    mask = np.zeros_like(array, dtype=bool)\n",
    "    for row in range(array.shape[0]):\n",
    "        for col in range(array.shape[1]):\n",
    "            point = Point(col, row)\n",
    "            if polygon.contains(point) or polygon.intersects(point):\n",
    "                mask[row, col] = True\n",
    "\n",
    "    # Set the values of the array that fall within the polygon to the new value\n",
    "    array[mask] = value\n",
    "\n",
    "    return array\n"
   ]
  },
  {
   "cell_type": "markdown",
   "metadata": {},
   "source": [
    "# Workspace"
   ]
  },
  {
   "cell_type": "code",
   "execution_count": 57,
   "metadata": {},
   "outputs": [
    {
     "data": {
      "text/plain": [
       "'/var/folders/hy/v14_l_r91tl2w5s9xfm9p2kc0000gn/T/_T0129045138_cg9dlszw_Energetic_House'"
      ]
     },
     "execution_count": 57,
     "metadata": {},
     "output_type": "execute_result"
    }
   ],
   "source": [
    "\n",
    "# Control variable to decide the location of the temp folder\n",
    "use_d_drive = False  # Set to True to use the custom location\n",
    "\n",
    "# Define model workspace\n",
    "myt = datetime.now().strftime('%m%d%H%M%S')\n",
    "name = 'wasaga'\n",
    "adj_non = '_' + generate_random_name()\n",
    "\n",
    "if use_d_drive and platform.system() == 'Darwin':  # Check if on macOS\n",
    "    temp_dir = '/Volumes/Public/mf/_T{}_{}'.format(myt, adj_non)\n",
    "    os.makedirs(temp_dir, exist_ok=True)\n",
    "else:\n",
    "    temp_dir = mkdtemp(prefix='_T{}_'.format(myt), suffix=adj_non)\n",
    "\n",
    "os.makedirs(Path(temp_dir) / '_output', exist_ok=True)\n",
    "model_ws = temp_dir\n",
    "\n",
    "\n",
    "def open_file(path):\n",
    "    if platform.system() == \"Windows\":\n",
    "        os.startfile(path)\n",
    "    elif platform.system() == \"Darwin\":\n",
    "        subprocess.Popen([\"open\", path])\n",
    "    else:\n",
    "        subprocess.Popen([\"xdg-open\", path])\n",
    "\n",
    "open_file(model_ws)\n",
    "model_ws"
   ]
  },
  {
   "cell_type": "code",
   "execution_count": null,
   "metadata": {},
   "outputs": [],
   "source": []
  },
  {
   "cell_type": "code",
   "execution_count": 93,
   "metadata": {},
   "outputs": [],
   "source": [
    "# base\n",
    "parms= {}\n",
    "parms['sp1']= 0.0002\n",
    "parms['hk']= 6.9\n",
    "parms['al'] = 5\n",
    "base_parms = parms"
   ]
  },
  {
   "cell_type": "markdown",
   "metadata": {},
   "source": [
    "# Model (MODFLOW-NWT)"
   ]
  },
  {
   "cell_type": "code",
   "execution_count": 94,
   "metadata": {},
   "outputs": [],
   "source": [
    "# Create a MODFLOW model instance\n",
    "# mf = flopy.modflow.Modflow(modelname=\"example_model\",version='mf2005',\n",
    "#                               exe_name='mf2005', \n",
    "#                               model_ws=model_ws)\n",
    "\n",
    "\n",
    "# Create a MODFLOW-NWT model instance\n",
    "mf = flopy.modflow.Modflow(modelname=\"example_model\", version='mfnwt',\n",
    "                           exe_name='mfnwt', \n",
    "                           model_ws=model_ws)\n"
   ]
  },
  {
   "cell_type": "code",
   "execution_count": 95,
   "metadata": {},
   "outputs": [],
   "source": [
    "# # Create a MODFLOW model instance\n",
    "# model = flopy.seawat.Seawat(modelname=\"example_model\",\n",
    "#                             exe_name='swtv4', \n",
    "#                               model_ws=model_ws)\n"
   ]
  },
  {
   "cell_type": "markdown",
   "metadata": {},
   "source": [
    "# DIS"
   ]
  },
  {
   "cell_type": "code",
   "execution_count": null,
   "metadata": {},
   "outputs": [],
   "source": []
  },
  {
   "cell_type": "code",
   "execution_count": 96,
   "metadata": {},
   "outputs": [],
   "source": [
    "# Define model dimensions\n",
    "nlay = int(60 * 1)\n",
    "nrow = int(220 * 1)\n",
    "ncol = int(220 * 1)\n",
    "delr = 2200/nrow  # Cell width along rows (extend 2200 / 220)\n",
    "delc = 2200/ncol  # Cell width along columns (extend 2200 / 220)\n",
    "\n",
    "# Define top elevation\n",
    "layer_thickness = 30.0 / nlay\n",
    "\n",
    "top_elev = 190.0\n",
    "botm_elev = [top_elev - (i * layer_thickness) for i in range(1, nlay + 1)]\n",
    "# Define layer thickness (uniform thickness)\n",
    "\n",
    "\n",
    "perlen = 365\n",
    "nper = int(100)\n",
    "#nper = int(56)\n",
    "#nper = int(500)\n",
    "\n",
    "steady = np.append(np.array([True]),np.repeat(False,nper-1))\n",
    "#steady=[False,False,True]\n",
    "#steady = True\n",
    "\n",
    "# Create DIS package\n",
    "\n"
   ]
  },
  {
   "cell_type": "code",
   "execution_count": 97,
   "metadata": {},
   "outputs": [],
   "source": [
    "dis = flopy.modflow.ModflowDis(mf, nlay=nlay, nrow=nrow, ncol=ncol, \n",
    "                               delr=delr, delc=delc,top=top_elev, \n",
    "                               botm=botm_elev,\n",
    "                               nper = nper, perlen = perlen,\n",
    "                               nstp = 1, steady = steady)\n"
   ]
  },
  {
   "cell_type": "markdown",
   "metadata": {},
   "source": [
    "# Ibound"
   ]
  },
  {
   "cell_type": "code",
   "execution_count": 98,
   "metadata": {},
   "outputs": [],
   "source": [
    "\n",
    "\n",
    "x = np.array([0, 100, 340, 600, 750, 850, 1100, 1350, 1450, 1530, 1650, 1750, 1850, 2050, 2200])\n",
    "\n",
    "y_topo = np.array([190,190,187,184,184,184,183,182,179,175.5,175,173.8,173.5,172,171])#topo\n",
    "#y_topo = np.array([190,190,187,184,184,184,183,182,179+2,175.5+4,175+2,173.8+1,173.5+0,172,171])#topo\n",
    "\n",
    "y_clay = np.array([185,184,180,175,174,174,173,170,169,168.5,167.5,166.8,166.5,165,164]) #clay\n",
    "\n",
    "\n",
    "# Interpolate the data using smoothing splines\n",
    "spl = make_interp_spline(x, y_topo)\n",
    "x_smooth_topo = np.linspace(x.min(), x.max(), 30)\n",
    "y_smooth_topo = spl(x_smooth_topo)\n",
    "\n",
    "col_coords = (x_smooth_topo/delr).round(0)\n",
    "col_coords_topo = list(col_coords) +[nrow,0]\n",
    "\n",
    "row_coords = ((top_elev - y_smooth_topo)/layer_thickness).round(0)\n",
    "row_coords_topo  =  list(row_coords) +[0,0]\n",
    "\n",
    "\n",
    "\n",
    "# Interpolate the data using smoothing splines\n",
    "spl = make_interp_spline(x, y_clay)\n",
    "x_smooth = np.linspace(x.min(), x.max(), 30)\n",
    "y_smooth = spl(x_smooth)\n",
    "\n",
    "col_coords = (x_smooth/delr).round(0)\n",
    "col_coords_clay = list(col_coords) +[nrow,0]\n",
    "row_coords = ((top_elev - y_smooth)/layer_thickness).round(0)\n",
    "row_coords_clay  =  list(row_coords) +[nlay,nlay]\n"
   ]
  },
  {
   "cell_type": "code",
   "execution_count": null,
   "metadata": {},
   "outputs": [],
   "source": []
  },
  {
   "cell_type": "markdown",
   "metadata": {},
   "source": [
    "# Ibound & Strt"
   ]
  },
  {
   "cell_type": "code",
   "execution_count": 99,
   "metadata": {},
   "outputs": [
    {
     "data": {
      "image/png": "[encoded data removed]",
      "text/plain": [
       "<Figure size 1000x700 with 2 Axes>"
      ]
     },
     "metadata": {},
     "output_type": "display_data"
    },
    {
     "data": {
      "image/png": "[encoded data removed]",
      "text/plain": [
       "<Figure size 1000x700 with 2 Axes>"
      ]
     },
     "metadata": {},
     "output_type": "display_data"
    }
   ],
   "source": [
    "\n",
    "# Define ibound and initial conditionsa\n",
    "ibound = np.ones((nlay, nrow, ncol), dtype=int)\n",
    "initial_head = np.full((nlay, nrow, ncol), 200.0, dtype=float)\n",
    "shoreline_distance = 1600\n",
    "\n",
    "# Set constant head boundary conditions for the first and last rows\n",
    "array = change_array_within_polygon(ibound, row_coords_topo, col_coords_topo, 0)\n",
    "plt.scatter(col_coords_topo,row_coords_topo,c='r')\n",
    "\n",
    "\n",
    "array = change_array_within_polygon(ibound, row_coords_clay, col_coords_clay, 0)\n",
    "plt.scatter(col_coords,row_coords,c='r')\n",
    "\n",
    "for c in range(0,2):\n",
    "    i = np.where(ibound[:,c,-1]==1)[0][-1]\n",
    "    head = top_elev-i*layer_thickness\n",
    "    #print('head {}'.format(head))\n",
    "    \n",
    "    while head<187:\n",
    "        ibound[i,c,:] = -1\n",
    "        #print(i,c)\n",
    "        #initial_head[i,c,:] = head+0.5\n",
    "        #print(head)\n",
    "        initial_head[i,c,:] = 187\n",
    "        head+=layer_thickness\n",
    "        i-=1\n",
    "\n",
    "\n",
    "lay = np.where(ibound[:,int(shoreline_distance/delr),-1])[0][0]\n",
    "elv = lay_to_meter(lay)\n",
    "head = elv\n",
    "\n",
    "for c in range(int(shoreline_distance/delr),int(2200/delr)):\n",
    "    lay = np.where(ibound[:,c,-1]==1)[0][0]\n",
    "    #print(lay,lay_to_meter(lay))\n",
    "    ibound[lay,c,:] = -1\n",
    "    initial_head[lay,c,:] = elv\n",
    "\n",
    "# Your existing code\n",
    "im = plt.imshow(ibound[:,:,2], origin='upper', aspect=1)\n",
    "plt.axvline(x=meter_to_col(shoreline_distance))# shoreline\n",
    "plt.gcf().set_size_inches(10,7)\n",
    "\n",
    "# Set the y-axis tick positions and labels\n",
    "#plt.yticks([0, 10,20, 30,40, 50,60], ['190m (0L)','185m (10L)', '180m (20L)','175m (30L)', '170m (40L)', '165m (50L)','160m (60L)'])\n",
    "# Add a horizontal colorbar\n",
    "\n",
    "cbar = plt.colorbar(im, orientation='horizontal')\n",
    "cbar.ax.tick_params(labelsize=16)\n",
    "cbar.set_label('Colorbar Label', fontsize=16)\n",
    "\n",
    "# Display the plot\n",
    "plt.title('ibound')\n",
    "plt.grid()\n",
    "plt.show()\n",
    "\n",
    "\n",
    "fig, ax = plt.subplots(figsize=(10, 7))\n",
    "im = ax.imshow(initial_head[:, :, 0], origin='upper')\n",
    "\n",
    "# Add a horizontal colorbar\n",
    "cbar = plt.colorbar(im, orientation='horizontal')\n",
    "cbar.ax.tick_params(labelsize=18)\n",
    "plt.title('initial head')\n",
    "plt.show()\n"
   ]
  },
  {
   "cell_type": "code",
   "execution_count": null,
   "metadata": {},
   "outputs": [],
   "source": []
  },
  {
   "cell_type": "code",
   "execution_count": null,
   "metadata": {},
   "outputs": [],
   "source": []
  },
  {
   "cell_type": "markdown",
   "metadata": {},
   "source": []
  },
  {
   "cell_type": "markdown",
   "metadata": {},
   "source": [
    "# BAS UPW NWT"
   ]
  },
  {
   "cell_type": "code",
   "execution_count": 100,
   "metadata": {},
   "outputs": [],
   "source": [
    "\n",
    "# # Create BAS package\n",
    "# bas = flopy.modflow.ModflowBas(mf, ibound=ibound, strt=initial_head)\n",
    "\n",
    "# # Define hydraulic properties\n",
    "# horizontal_k = parms['hk'] # Horizontal hydraulic conductivity (m/day)\n",
    "# vertical_ka = 0.1   # Vertical hydraulic conductivity (m/day)\n",
    "# porosity = 0.25     # Porosity\n",
    "\n",
    "# # Create LPF package (Layer Property Flow package)\n",
    "# lpf = flopy.modflow.ModflowLpf(mf, hk=horizontal_k, \n",
    "#                                vka=vertical_ka, laytyp=1, \n",
    "#                                ipakcb=None,ss=0.0002,sy=0.33,\n",
    "#                                laywet=1,iwetit=5,wetfct=0.01,ihdwet=0,iwdflg=1,wetdry=-0.25)\n",
    "\n",
    "\n",
    "# pcg = flopy.modflow.ModflowPcg(mf, hclose=1e-3,npcond=1,\n",
    "#                                relax=0.98,rclose=1e-3,mutpcg=0,nbpol=0,iprpcg=0,\n",
    "#                                mxiter=200,iter1=120, damp=0.95)\n",
    "\n",
    "# #"
   ]
  },
  {
   "cell_type": "code",
   "execution_count": 101,
   "metadata": {},
   "outputs": [],
   "source": [
    "# Create BAS package\n",
    "bas = flopy.modflow.ModflowBas(mf, ibound=ibound, strt=initial_head)\n",
    "\n",
    "# Define hydraulic properties\n",
    "horizontal_k = parms['hk']  # Horizontal hydraulic conductivity (m/day)\n",
    "vertical_ka = 0.1  # Vertical hydraulic conductivity (m/day)\n",
    "porosity = 0.25  # Porosity\n",
    "\n",
    "# Create LPF package (Layer Property Flow package)\n",
    "upw = flopy.modflow.ModflowUpw(mf, hk=horizontal_k, \n",
    "                                  vka=vertical_ka, laytyp=1, \n",
    "                                  ipakcb=None, ss=0.0002, sy=0.33)\n",
    "# Create NWT solver package\n",
    "nwt = flopy.modflow.ModflowNwt(mf ,maxiterout=150,linmeth=2)"
   ]
  },
  {
   "cell_type": "markdown",
   "metadata": {},
   "source": [
    "# DRN"
   ]
  },
  {
   "cell_type": "code",
   "execution_count": 102,
   "metadata": {},
   "outputs": [],
   "source": [
    "# Assuming necessary variables (shoreline_distance, delr, ncol, nrow, nlay, ibound) are defined\n",
    "start_dis_1 = shoreline_distance - 150\n",
    "end_dis_1 = shoreline_distance - 60\n",
    "start_dis_2 = 595\n",
    "end_dis_2 = 610\n",
    "\n",
    "drn_list = []\n",
    "\n",
    "# Function to check for inactive neighbor cells\n",
    "def has_inactive_neighbor(lay, row, col):\n",
    "    for dlay, drow, dcol in [(-1, 0, 0), (1, 0, 0), (0, -1, 0), (0, 1, 0), (0, 0, -1), (0, 0, 1)]:\n",
    "        n_lay, n_row, n_col = lay + dlay, row + drow, col + dcol\n",
    "        if 0 <= n_lay < nlay and 0 <= n_row < nrow and 0 <= n_col < ncol:\n",
    "            if ibound[n_lay, n_row, n_col] == 0:\n",
    "                return True\n",
    "    return False\n",
    "\n",
    "\n",
    "# Function to add drainage cells within a given range\n",
    "def add_drainage_cells(start_m, end_m):\n",
    "    for row in range(meter_to_row(start_m), meter_to_row(end_m) + 1):\n",
    "        for col in range(ncol):\n",
    "            # Determine the number of active layers in this column\n",
    "            active_layers = [lay for lay in range(nlay) if ibound[lay, row, col] > 0]\n",
    "            # Calculate the index up to which layers should be considered (first half of active layers)\n",
    "            max_active_layer = active_layers[len(active_layers) // 2] if active_layers else 0\n",
    "            \n",
    "            for lay in range(max_active_layer + 1):  # Iterate only through the first half of active layers\n",
    "                if ibound[lay, row, col] > 0 and has_inactive_neighbor(lay, row, col):\n",
    "                    elv = lay_to_meter(lay)\n",
    "                    drn_list.append([lay, row, col, elv, 1])\n",
    "\n",
    "\n",
    "# Add drainage cells for both specified ranges\n",
    "add_drainage_cells(start_dis_1, end_dis_1)\n",
    "add_drainage_cells(start_dis_2, end_dis_2)\n",
    "\n",
    "# Assign drainage cells to the DRN package\n",
    "drn_cell = {0: drn_list}\n",
    "drn = flopy.modflow.ModflowDrn(model=mf, stress_period_data=drn_cell)\n"
   ]
  },
  {
   "cell_type": "code",
   "execution_count": 103,
   "metadata": {},
   "outputs": [
    {
     "data": {
      "image/png": "[encoded data removed]",
      "text/plain": [
       "<Figure size 1500x1000 with 1 Axes>"
      ]
     },
     "metadata": {},
     "output_type": "display_data"
    }
   ],
   "source": [
    "# Load your model\n",
    "model = mf\n",
    "# Plot the ibound array\n",
    "plt.imshow(model.bas6.ibound.array[:, :, 0], origin='upper', cmap='bone')\n",
    "# Plot drains for the first stress period if DRN package exists\n",
    "if model.drn:\n",
    "    for drn in np.unique(model.drn.stress_period_data[0], axis=0):\n",
    "        if drn[2] == 0:  # Checks if the drain is in the first layer\n",
    "            plt.scatter(drn[1], drn[0], c='cyan', s=5, marker='s')\n",
    "\n",
    "# Customize and display the plot\n",
    "plt.gcf().set_size_inches(15, 10)\n",
    "plt.title('Ibound and Drain Cells Visualization')\n",
    "# plt.xlim(140,175)\n",
    "# plt.ylim(60,20)\n",
    "plt.show()\n"
   ]
  },
  {
   "cell_type": "code",
   "execution_count": null,
   "metadata": {},
   "outputs": [],
   "source": []
  },
  {
   "cell_type": "markdown",
   "metadata": {},
   "source": [
    "# RCH"
   ]
  },
  {
   "cell_type": "code",
   "execution_count": 104,
   "metadata": {},
   "outputs": [],
   "source": [
    "septic_gw_flux = 0.51 #  0.51m3/D per septic system"
   ]
  },
  {
   "cell_type": "markdown",
   "metadata": {},
   "source": [
    "### Test data"
   ]
  },
  {
   "cell_type": "code",
   "execution_count": 105,
   "metadata": {},
   "outputs": [],
   "source": [
    "##2D pers [1]+[30,92,31,212]*25 +[365]*5+[365*5]*5+[365*4]+[185,30,30,120]"
   ]
  },
  {
   "cell_type": "code",
   "execution_count": 106,
   "metadata": {},
   "outputs": [],
   "source": [
    "# rch_dict = {}\n",
    "\n",
    "# rch_array = np.full(( nrow, ncol), 0.00013, dtype=float)\n",
    "# rch_dict[0] = rch_array\n",
    "\n",
    "# rch_array = np.full(( nrow, ncol), 0.00013, dtype=float)\n",
    "# #rch_array[int(nrow/2),int(ncol/2)] = 0.51/delr/delc\n",
    "# #rch_array[int(nrow/2),int(ncol/3)] = 0.51/delr/delc\n",
    "\n",
    "# rch_array[int((1700-70)/delr),int(ncol/2)] = 0.51/delr/delc\n",
    "# rch_array[int((1700-70)/delr),int(ncol/3)] = 0.51/delr/delc\n",
    "# rch_dict[1] = rch_array \n",
    "\n",
    "\n",
    "# rch_array = np.full(( nrow, ncol), 0.00013, dtype=float)\n",
    "# rch_dict[26] = rch_array\n",
    "\n",
    "\n",
    "# rch = flopy.modflow.ModflowRch(model = mf, rech = rch_dict)"
   ]
  },
  {
   "cell_type": "code",
   "execution_count": null,
   "metadata": {},
   "outputs": [],
   "source": []
  },
  {
   "cell_type": "code",
   "execution_count": 107,
   "metadata": {},
   "outputs": [],
   "source": [
    "import pandas as pd\n",
    "\n",
    "model_begin_year = 1970\n",
    "def calculate_year_septic_start(df):\n",
    "    # Ensure the DataFrame is sorted by 'Year'\n",
    "    df = df.sort_values('Year').reset_index(drop=True)\n",
    "    \n",
    "    # Get the unique years and sort them\n",
    "    unique_years = sorted(df['Year'].unique())\n",
    "    \n",
    "    # Initialize the \"Year_Septic_Start\" list\n",
    "    year_septic_start = []\n",
    "    \n",
    "    # Iterate through the DataFrame rows\n",
    "    for current_year in df['Year']:\n",
    "        # Find the index of the current_year in the unique_years list\n",
    "        current_index = unique_years.index(current_year)\n",
    "        \n",
    "        # Determine the previous year (if it's not the first year)\n",
    "        if current_index == 0:\n",
    "            #previous_year = 1950  # If it's the first unique year, use 1950\n",
    "            year_septic_start.append(model_begin_year )\n",
    "        else:\n",
    "            previous_year = unique_years[current_index - 1]  # Get the previous unique year\n",
    "        \n",
    "        # Calculate the \"Year_Septic_Start\"\n",
    "            year_septic_start.append((current_year + previous_year) // 2)\n",
    "    \n",
    "    # Add the \"Year_Septic_Start\" as a new column in the DataFrame\n",
    "    df['Year_Septic_Start'] = year_septic_start\n",
    "    return df\n",
    "\n",
    "df = pd.read_csv(\"wasaga septics placement/septics_transformed.csv\")\n",
    "df = df[~df['Year End'].isna()]\n",
    "df['Year End'] =df['Year End'].astype(int)\n",
    "df = calculate_year_septic_start(df)\n",
    "df['Year_Septic_End'] = df['Sewer_Installation_Period'].apply(lambda x: (int(x.split('-')[1]) + int(x.split('-')[0]))//2)"
   ]
  },
  {
   "cell_type": "code",
   "execution_count": null,
   "metadata": {},
   "outputs": [],
   "source": []
  },
  {
   "cell_type": "code",
   "execution_count": 108,
   "metadata": {},
   "outputs": [],
   "source": [
    "import numpy as np\n",
    "import flopy  # Assuming flopy is already installed and imported\n",
    "\n",
    "# Assuming nrow, ncol, delr, delc, mf are defined earlier in your code\n",
    "# Define start_dist, end_dist, and exclude_range\n",
    "start_dist = start_dis_1 -100  # Define start distance for exclusion (e.g., 1000 meters)\n",
    "end_dist = end_dis_1    # Define end distance for exclusion (e.g., 2000 meters)\n",
    "exclude_range = True  # Set to True to exclude, False to include\n",
    "\n",
    "# Convert distances to row indices\n",
    "start_row_index = int(start_dist / delr)\n",
    "end_row_index = int(end_dist / delr)\n",
    "\n",
    "# Initialize the recharge dictionary\n",
    "rch_dict = {0: np.full((nrow, ncol), 0.00013, dtype=float)}  # Initial background recharge rate\n",
    "# for kper in range(nper-1):\n",
    "#     rch_dict = {kper: np.full((nrow, ncol), 0.00013, dtype=float)} \n",
    "\n",
    "# Loop through the DataFrame to update rch_dict\n",
    "for index, row in df.iterrows():\n",
    "    easting = row['Wasaga Easting']\n",
    "    northing = row['Wasaga Northing']\n",
    "    start_year = row['Year_Septic_Start']\n",
    "    end_year = row['Year_Septic_End']\n",
    "\n",
    "    # Calculate the indices\n",
    "    row_index = int(northing / delr)\n",
    "    col_index = int(easting / delc)\n",
    "\n",
    "    # Check if row index is within the exclusion range and if exclusion is enabled\n",
    "    if exclude_range and start_row_index <= row_index <= end_row_index:\n",
    "        continue  # Skip updating for this row index\n",
    "\n",
    "    # Calculate the range of years for each septic source\n",
    "    start_key = start_year - model_begin_year + 1\n",
    "    end_key = end_year - model_begin_year  + 1\n",
    "\n",
    "    # Loop through each year for the septic source\n",
    "    for year_key in range(start_key, end_key + 1):\n",
    "        # Check if the key exists in the dictionary, if not, create a new array with background recharge\n",
    "        if year_key not in rch_dict:\n",
    "            rch_dict[year_key] = np.full((nrow, ncol), 0.00013, dtype=float)\n",
    "\n",
    "        # Update the recharge rate at the septic location\n",
    "        rch_dict[year_key][row_index, col_index] = septic_gw_flux / delr / delc\n",
    "    \n",
    "    # Ensure the septic is turned off after its end year\n",
    "    if end_key + 1 not in rch_dict:\n",
    "        rch_dict[end_key + 1] = np.full((nrow, ncol), 0.00013, dtype=float)\n",
    "\n",
    "    # Set the recharge rate back to the background rate after the septic system's active period\n",
    "    rch_dict[end_key + 1][row_index, col_index] = 0.00013\n",
    "\n",
    "# Create the ModflowRch object\n",
    "rch = flopy.modflow.ModflowRch(model=mf, rech=rch_dict)\n"
   ]
  },
  {
   "cell_type": "code",
   "execution_count": null,
   "metadata": {},
   "outputs": [],
   "source": []
  },
  {
   "cell_type": "code",
   "execution_count": 109,
   "metadata": {},
   "outputs": [],
   "source": [
    "# # Assuming 'mf' is your MODFLOW model and 'rch_dict' is a dictionary with stress period numbers as keys and recharge arrays as values\n",
    "\n",
    "# # Number of stress periods in your model\n",
    "# nper = mf.nper\n",
    "\n",
    "# # Initialize an empty dictionary for the new, gradually changing recharge rates\n",
    "# new_rch_dict = {}\n",
    "\n",
    "# # Use linear interpolation to fill in recharge rates for each stress period\n",
    "# for per in range(nper):\n",
    "#     if per in rch_dict:\n",
    "#         # If the current period is in the original dictionary, use its value\n",
    "#         new_rch_dict[per] = rch_dict[per]\n",
    "#     else:\n",
    "#         # Find the nearest periods before and after the current period that have specified recharge rates\n",
    "#         before = max([p for p in rch_dict if p < per], default=None)\n",
    "#         after = min([p for p in rch_dict if p > per], default=None)\n",
    "\n",
    "#         if before is not None and after is not None:\n",
    "#             # If there are specified periods both before and after, interpolate recharge rates\n",
    "#             weight = (per - before) / (after - before)\n",
    "#             new_rch_dict[per] = (1 - weight) * rch_dict[before] + weight * rch_dict[after]\n",
    "#         elif before is not None:\n",
    "#             # If only a before period is found, use its recharge rate\n",
    "#             new_rch_dict[per] = rch_dict[before]\n",
    "#         elif after is not None:\n",
    "#             # If only an after period is found, use its recharge rate\n",
    "#             new_rch_dict[per] = rch_dict[after]\n",
    "\n",
    "# # Create the RCH package with the new recharge dictionary\n",
    "# rch = flopy.modflow.ModflowRch(model=mf, rech=new_rch_dict)"
   ]
  },
  {
   "cell_type": "code",
   "execution_count": null,
   "metadata": {},
   "outputs": [],
   "source": []
  },
  {
   "cell_type": "markdown",
   "metadata": {},
   "source": []
  },
  {
   "cell_type": "code",
   "execution_count": 110,
   "metadata": {},
   "outputs": [
    {
     "data": {
      "image/png": "[encoded data removed]",
      "text/plain": [
       "<Figure size 1000x800 with 1 Axes>"
      ]
     },
     "metadata": {},
     "output_type": "display_data"
    }
   ],
   "source": [
    "import numpy as np\n",
    "import matplotlib.pyplot as plt\n",
    "\n",
    "fig, ax = plt.subplots(figsize=(10, 8))\n",
    "\n",
    "# Plot drain coordinates\n",
    "rows = []\n",
    "cols = []\n",
    "for drn in np.unique(model.drn.stress_period_data[0], axis=0):\n",
    "    rows.append(drn[1])\n",
    "    cols.append(drn[2])\n",
    "\n",
    "ax.scatter(cols, rows, c='cyan', marker='s')\n",
    "\n",
    "# Plot and customize the shoreline as a thicker, dashed line and add annotation\n",
    "shoreline_y = shoreline_distance / delr\n",
    "ax.axhline(shoreline_y, color='blue', linestyle='--', linewidth=2, label='Shoreline')\n",
    "ax.annotate('Shoreline', xy=(0.5, shoreline_y), xytext=(0, 5),\n",
    "            xycoords=('axes fraction', 'data'), textcoords='offset points',\n",
    "            ha='center', va='bottom')\n",
    "\n",
    "# Assuming rch_dict, delr, and delc are already defined\n",
    "target_value = 0.51 / delr / delc\n",
    "colors = plt.cm.jet(np.linspace(0, 1, len(rch_dict)))\n",
    "\n",
    "for (key, array), color in zip(rch_dict.items(), colors):\n",
    "    rows, cols = np.where(np.isclose(array, target_value))\n",
    "    if rows.size and cols.size:\n",
    "        ax.scatter(cols, rows, color=color, label=f'Key: {key}',s=10)\n",
    "\n",
    "# Set titles and labels\n",
    "ax.set(title='Drain and Septics', xlabel='Column ', ylabel='Row ')\n",
    "\n",
    "# Display legend\n",
    "#ax.legend()\n",
    "# plt.xlim(0,440)\n",
    "# plt.ylim(280,320)\n",
    "\n",
    "plt.tight_layout()\n",
    "plt.show()\n"
   ]
  },
  {
   "cell_type": "code",
   "execution_count": 111,
   "metadata": {},
   "outputs": [
    {
     "data": {
      "image/png": "[encoded data removed]",
      "text/plain": [
       "<Figure size 1500x600 with 2 Axes>"
      ]
     },
     "metadata": {},
     "output_type": "display_data"
    }
   ],
   "source": [
    "import matplotlib.pyplot as plt\n",
    "import numpy as np\n",
    "\n",
    "# Assuming rch_dict, delr, and delc are defined elsewhere and model_begin_year is provided\n",
    "\n",
    "# Calculate and plot in a compact form\n",
    "kpers, active_septics = zip(*sorted((year_key, np.sum(rech >= septic_gw_flux / delr / delc)) for year_key, rech in rch_dict.items()))\n",
    "\n",
    "fig, ax1 = plt.subplots(figsize=(15, 6))\n",
    "bars = ax1.bar(kpers, active_septics, color='dodgerblue', alpha=0.7)\n",
    "\n",
    "ax1.set(xlabel='kper', ylabel='Number of Active Septic Sources', title='Active Septic Sources Over Time')\n",
    "ax1.grid(axis='y', linestyle='--', alpha=0.7)\n",
    "plt.axvline(x=68)\n",
    "\n",
    "# Adding secondary x-axis on top\n",
    "ax2 = ax1.twiny()  # Create a twin Axes sharing the y-axis\n",
    "\n",
    "# Decide on the number of ticks: for example, one tick every 5 ticks from the original x-axis\n",
    "tick_spacing = 5\n",
    "selected_ticks = kpers[::tick_spacing]\n",
    "selected_labels = [str(x + model_begin_year) for x in selected_ticks]\n",
    "ax1.set_xlim(0,nper)\n",
    "\n",
    "ax2.set_xticks(selected_ticks)\n",
    "ax2.set_xticklabels(selected_labels)\n",
    "ax2.set_xlabel('Year')  # Set label for the secondary x-axis\n",
    "\n",
    "# Annotate bars with values\n",
    "for bar, val in zip(bars, active_septics):\n",
    "    if val == 0: \n",
    "        ax1.text(bar.get_x() + bar.get_width() / 2, bar.get_height(), str(val), ha='center', va='bottom', fontsize=10, fontweight='bold')\n",
    "\n",
    "plt.tight_layout()\n",
    "plt.show()\n"
   ]
  },
  {
   "cell_type": "code",
   "execution_count": 112,
   "metadata": {},
   "outputs": [
    {
     "data": {
      "image/png": "[encoded data removed]",
      "text/plain": [
       "<Figure size 640x480 with 2 Axes>"
      ]
     },
     "metadata": {},
     "output_type": "display_data"
    }
   ],
   "source": [
    "import matplotlib.pyplot as plt\n",
    "\n",
    "# Assuming crch_dict is already defined and filled with your data\n",
    "\n",
    "period = max(rch_dict.keys()) - 30  # Specify the period you want to visualize\n",
    "if period in rch_dict: \n",
    "    crch_array = rch_dict[period]\n",
    "    plt.imshow(crch_array, cmap='viridis', interpolation='nearest')\n",
    "    plt.colorbar(label='Concentration');plt.gca().invert_yaxis()\n",
    "    plt.xlabel('Column Index'); plt.ylabel('Row Index'); plt.title(f'RCH Array Visualization at Period {period}');plt.show()\n",
    "else: print(f\"No data available for period {period}\")\n"
   ]
  },
  {
   "cell_type": "code",
   "execution_count": null,
   "metadata": {},
   "outputs": [],
   "source": []
  },
  {
   "cell_type": "markdown",
   "metadata": {},
   "source": [
    "# OC"
   ]
  },
  {
   "cell_type": "code",
   "execution_count": 113,
   "metadata": {},
   "outputs": [],
   "source": [
    "# OC\n",
    "spd = {}\n",
    "for kper in range(nper):\n",
    "    for kstp in range(1):\n",
    "        spd[(kper, kstp)] = [\n",
    "            \"save head\",\n",
    "            \"save drawdown\",\n",
    "            \"save budget\",\n",
    "            \"print head\",\n",
    "            \"print budget\",\n",
    "        ]\n",
    "\n",
    "oc = flopy.modflow.ModflowOc(\n",
    "    mf,\n",
    "    stress_period_data= spd,\n",
    "    compact=True\n",
    "    ,extension=['oc', 'hds', 'ddn', 'cbc', 'ibo']\n",
    ")\n",
    "\n",
    "#oc.reset_budgetunit(budgetunit=1053, fname='test.cbc')\n",
    "oc.reset_budgetunit(budgetunit=53, fname='example_model.cbc')"
   ]
  },
  {
   "cell_type": "code",
   "execution_count": 114,
   "metadata": {},
   "outputs": [],
   "source": [
    "lmt = flopy.modflow.ModflowLmt(mf, output_file_name='mt3d_link.ftl')"
   ]
  },
  {
   "cell_type": "code",
   "execution_count": 115,
   "metadata": {},
   "outputs": [],
   "source": [
    "open_file(model_ws)"
   ]
  },
  {
   "cell_type": "code",
   "execution_count": 116,
   "metadata": {},
   "outputs": [],
   "source": [
    "# Write the MODFLOW model input files\n",
    "mf.write_input()"
   ]
  },
  {
   "cell_type": "code",
   "execution_count": 117,
   "metadata": {},
   "outputs": [
    {
     "name": "stdout",
     "output_type": "stream",
     "text": [
      "FloPy is using the following executable to run the model: ../../../../../../Users/b/.local/share/flopy/bin/mfnwt\n",
      "\n",
      "                                  MODFLOW-NWT-SWR1 \n",
      "    U.S. GEOLOGICAL SURVEY MODULAR FINITE-DIFFERENCE GROUNDWATER-FLOW MODEL\n",
      "                             WITH NEWTON FORMULATION\n",
      "                             Version 1.3.0 07/01/2022                        \n",
      "                    BASED ON MODFLOW-2005 Version 1.12.0 02/03/2017                       \n",
      "\n",
      "                    SWR1 Version 1.05.0 03/10/2022                       \n",
      "\n",
      " Using NAME file: example_model.nam \n",
      " Run start date and time (yyyy/mm/dd hh:mm:ss): 2024/01/29  4:55:44\n",
      "\n",
      " Solving:  Stress period:     1    Time step:     1    Groundwater-Flow Eqn.\n",
      " Solving:  Stress period:     2    Time step:     1    Groundwater-Flow Eqn.\n",
      " Solving:  Stress period:     3    Time step:     1    Groundwater-Flow Eqn.\n",
      " Solving:  Stress period:     4    Time step:     1    Groundwater-Flow Eqn.\n",
      " Solving:  Stress period:     5    Time step:     1    Groundwater-Flow Eqn.\n",
      " Solving:  Stress period:     6    Time step:     1    Groundwater-Flow Eqn.\n",
      " Solving:  Stress period:     7    Time step:     1    Groundwater-Flow Eqn.\n",
      " Solving:  Stress period:     8    Time step:     1    Groundwater-Flow Eqn.\n",
      " Solving:  Stress period:     9    Time step:     1    Groundwater-Flow Eqn.\n",
      " Solving:  Stress period:    10    Time step:     1    Groundwater-Flow Eqn.\n",
      " Solving:  Stress period:    11    Time step:     1    Groundwater-Flow Eqn.\n",
      " Solving:  Stress period:    12    Time step:     1    Groundwater-Flow Eqn.\n",
      " Solving:  Stress period:    13    Time step:     1    Groundwater-Flow Eqn.\n",
      " Solving:  Stress period:    14    Time step:     1    Groundwater-Flow Eqn.\n",
      " Solving:  Stress period:    15    Time step:     1    Groundwater-Flow Eqn.\n",
      " Solving:  Stress period:    16    Time step:     1    Groundwater-Flow Eqn.\n",
      " Solving:  Stress period:    17    Time step:     1    Groundwater-Flow Eqn.\n",
      " Solving:  Stress period:    18    Time step:     1    Groundwater-Flow Eqn.\n",
      " Solving:  Stress period:    19    Time step:     1    Groundwater-Flow Eqn.\n",
      " Solving:  Stress period:    20    Time step:     1    Groundwater-Flow Eqn.\n",
      " Solving:  Stress period:    21    Time step:     1    Groundwater-Flow Eqn.\n",
      " Solving:  Stress period:    22    Time step:     1    Groundwater-Flow Eqn.\n",
      " Solving:  Stress period:    23    Time step:     1    Groundwater-Flow Eqn.\n",
      " Solving:  Stress period:    24    Time step:     1    Groundwater-Flow Eqn.\n",
      " Solving:  Stress period:    25    Time step:     1    Groundwater-Flow Eqn.\n",
      " Solving:  Stress period:    26    Time step:     1    Groundwater-Flow Eqn.\n",
      " Solving:  Stress period:    27    Time step:     1    Groundwater-Flow Eqn.\n",
      " Solving:  Stress period:    28    Time step:     1    Groundwater-Flow Eqn.\n",
      " Solving:  Stress period:    29    Time step:     1    Groundwater-Flow Eqn.\n",
      " Solving:  Stress period:    30    Time step:     1    Groundwater-Flow Eqn.\n",
      " Solving:  Stress period:    31    Time step:     1    Groundwater-Flow Eqn.\n",
      " Solving:  Stress period:    32    Time step:     1    Groundwater-Flow Eqn.\n",
      " Solving:  Stress period:    33    Time step:     1    Groundwater-Flow Eqn.\n",
      " Solving:  Stress period:    34    Time step:     1    Groundwater-Flow Eqn.\n",
      " Solving:  Stress period:    35    Time step:     1    Groundwater-Flow Eqn.\n",
      " Solving:  Stress period:    36    Time step:     1    Groundwater-Flow Eqn.\n",
      " Solving:  Stress period:    37    Time step:     1    Groundwater-Flow Eqn.\n",
      " Solving:  Stress period:    38    Time step:     1    Groundwater-Flow Eqn.\n",
      " Solving:  Stress period:    39    Time step:     1    Groundwater-Flow Eqn.\n",
      " Solving:  Stress period:    40    Time step:     1    Groundwater-Flow Eqn.\n",
      " Solving:  Stress period:    41    Time step:     1    Groundwater-Flow Eqn.\n",
      " Solving:  Stress period:    42    Time step:     1    Groundwater-Flow Eqn.\n",
      " Solving:  Stress period:    43    Time step:     1    Groundwater-Flow Eqn.\n",
      " Solving:  Stress period:    44    Time step:     1    Groundwater-Flow Eqn.\n",
      " Solving:  Stress period:    45    Time step:     1    Groundwater-Flow Eqn.\n",
      " Solving:  Stress period:    46    Time step:     1    Groundwater-Flow Eqn.\n",
      " Solving:  Stress period:    47    Time step:     1    Groundwater-Flow Eqn.\n",
      " Solving:  Stress period:    48    Time step:     1    Groundwater-Flow Eqn.\n",
      " Solving:  Stress period:    49    Time step:     1    Groundwater-Flow Eqn.\n",
      " Solving:  Stress period:    50    Time step:     1    Groundwater-Flow Eqn.\n",
      " Solving:  Stress period:    51    Time step:     1    Groundwater-Flow Eqn.\n",
      " Solving:  Stress period:    52    Time step:     1    Groundwater-Flow Eqn.\n",
      " Solving:  Stress period:    53    Time step:     1    Groundwater-Flow Eqn.\n",
      " Solving:  Stress period:    54    Time step:     1    Groundwater-Flow Eqn.\n",
      " Solving:  Stress period:    55    Time step:     1    Groundwater-Flow Eqn.\n",
      " Solving:  Stress period:    56    Time step:     1    Groundwater-Flow Eqn.\n",
      " Solving:  Stress period:    57    Time step:     1    Groundwater-Flow Eqn.\n",
      " Solving:  Stress period:    58    Time step:     1    Groundwater-Flow Eqn.\n",
      " Solving:  Stress period:    59    Time step:     1    Groundwater-Flow Eqn.\n",
      " Solving:  Stress period:    60    Time step:     1    Groundwater-Flow Eqn.\n",
      " Solving:  Stress period:    61    Time step:     1    Groundwater-Flow Eqn.\n",
      " Solving:  Stress period:    62    Time step:     1    Groundwater-Flow Eqn.\n",
      " Solving:  Stress period:    63    Time step:     1    Groundwater-Flow Eqn.\n",
      " Solving:  Stress period:    64    Time step:     1    Groundwater-Flow Eqn.\n",
      " Solving:  Stress period:    65    Time step:     1    Groundwater-Flow Eqn.\n",
      " Solving:  Stress period:    66    Time step:     1    Groundwater-Flow Eqn.\n",
      " Solving:  Stress period:    67    Time step:     1    Groundwater-Flow Eqn.\n",
      " Solving:  Stress period:    68    Time step:     1    Groundwater-Flow Eqn.\n",
      " Solving:  Stress period:    69    Time step:     1    Groundwater-Flow Eqn.\n",
      " Solving:  Stress period:    70    Time step:     1    Groundwater-Flow Eqn.\n",
      " Solving:  Stress period:    71    Time step:     1    Groundwater-Flow Eqn.\n",
      " Solving:  Stress period:    72    Time step:     1    Groundwater-Flow Eqn.\n",
      " Solving:  Stress period:    73    Time step:     1    Groundwater-Flow Eqn.\n",
      " Solving:  Stress period:    74    Time step:     1    Groundwater-Flow Eqn.\n",
      " Solving:  Stress period:    75    Time step:     1    Groundwater-Flow Eqn.\n",
      " Solving:  Stress period:    76    Time step:     1    Groundwater-Flow Eqn.\n",
      " Solving:  Stress period:    77    Time step:     1    Groundwater-Flow Eqn.\n",
      " Solving:  Stress period:    78    Time step:     1    Groundwater-Flow Eqn.\n",
      " Solving:  Stress period:    79    Time step:     1    Groundwater-Flow Eqn.\n",
      " Solving:  Stress period:    80    Time step:     1    Groundwater-Flow Eqn.\n",
      " Solving:  Stress period:    81    Time step:     1    Groundwater-Flow Eqn.\n",
      " Solving:  Stress period:    82    Time step:     1    Groundwater-Flow Eqn.\n",
      " Solving:  Stress period:    83    Time step:     1    Groundwater-Flow Eqn.\n",
      " Solving:  Stress period:    84    Time step:     1    Groundwater-Flow Eqn.\n",
      " Solving:  Stress period:    85    Time step:     1    Groundwater-Flow Eqn.\n",
      " Solving:  Stress period:    86    Time step:     1    Groundwater-Flow Eqn.\n",
      " Solving:  Stress period:    87    Time step:     1    Groundwater-Flow Eqn.\n",
      " Solving:  Stress period:    88    Time step:     1    Groundwater-Flow Eqn.\n",
      " Solving:  Stress period:    89    Time step:     1    Groundwater-Flow Eqn.\n",
      " Solving:  Stress period:    90    Time step:     1    Groundwater-Flow Eqn.\n",
      " Solving:  Stress period:    91    Time step:     1    Groundwater-Flow Eqn.\n",
      " Solving:  Stress period:    92    Time step:     1    Groundwater-Flow Eqn.\n",
      " Solving:  Stress period:    93    Time step:     1    Groundwater-Flow Eqn.\n",
      " Solving:  Stress period:    94    Time step:     1    Groundwater-Flow Eqn.\n",
      " Solving:  Stress period:    95    Time step:     1    Groundwater-Flow Eqn.\n",
      " Solving:  Stress period:    96    Time step:     1    Groundwater-Flow Eqn.\n",
      " Solving:  Stress period:    97    Time step:     1    Groundwater-Flow Eqn.\n",
      " Solving:  Stress period:    98    Time step:     1    Groundwater-Flow Eqn.\n"
     ]
    }
   ],
   "source": [
    "# Run the MODFLOW model\n",
    "success, buff = mf.run_model()"
   ]
  },
  {
   "cell_type": "code",
   "execution_count": 305,
   "metadata": {},
   "outputs": [
    {
     "data": {
      "text/plain": [
       "'C:\\\\Users\\\\swan47\\\\AppData\\\\Local\\\\Temp\\\\_T0129015400_gprjceni_Fantastic_Road'"
      ]
     },
     "execution_count": 305,
     "metadata": {},
     "output_type": "execute_result"
    }
   ],
   "source": [
    "model_ws"
   ]
  },
  {
   "cell_type": "code",
   "execution_count": null,
   "metadata": {},
   "outputs": [],
   "source": []
  },
  {
   "cell_type": "code",
   "execution_count": null,
   "metadata": {},
   "outputs": [],
   "source": []
  },
  {
   "cell_type": "code",
   "execution_count": null,
   "metadata": {},
   "outputs": [],
   "source": []
  },
  {
   "cell_type": "markdown",
   "metadata": {},
   "source": [
    "# ---MT3DMS---"
   ]
  },
  {
   "cell_type": "code",
   "execution_count": 173,
   "metadata": {},
   "outputs": [],
   "source": [
    "mt = flopy.mt3d.Mt3dms(modflowmodel=mf, modelname='mt', exe_name='mt3dms.exe' ,ftlfilename='mt3d_link.ftl',model_ws=model_ws)"
   ]
  },
  {
   "cell_type": "markdown",
   "metadata": {},
   "source": [
    "# ICBUND"
   ]
  },
  {
   "cell_type": "code",
   "execution_count": 155,
   "metadata": {},
   "outputs": [
    {
     "data": {
      "text/plain": [
       "<matplotlib.image.AxesImage at 0x169474b90>"
      ]
     },
     "execution_count": 155,
     "metadata": {},
     "output_type": "execute_result"
    },
    {
     "data": {
      "image/png": "[encoded data removed]",
      "text/plain": [
       "<Figure size 640x480 with 1 Axes>"
      ]
     },
     "metadata": {},
     "output_type": "display_data"
    }
   ],
   "source": [
    "icbund = ibound.copy()\n",
    "cc = np.where(icbund==-1)\n",
    "mask = cc[1]>2200/2/delr\n",
    "\n",
    "cc2 = (cc[0][mask],cc[1][mask],cc[2][mask])\n",
    "icbund[cc2] = 1\n",
    "plt.imshow(icbund[:,:,0])"
   ]
  },
  {
   "cell_type": "code",
   "execution_count": null,
   "metadata": {},
   "outputs": [],
   "source": []
  },
  {
   "cell_type": "markdown",
   "metadata": {},
   "source": [
    "# BTN ICBOUND "
   ]
  },
  {
   "cell_type": "code",
   "execution_count": 156,
   "metadata": {},
   "outputs": [],
   "source": [
    "#icbund = np.full((nlay, nrow, ncol),0, dtype=float)\n",
    "#\n",
    "btn = flopy.mt3d.Mt3dBtn(\n",
    "    mt,\n",
    "    nprs=5,\n",
    "    timprs=np.cumsum([200]*7),\n",
    "    prsity=0.25,\n",
    "    sconc= 0.01, # starting concentration\n",
    "    ifmtcn=0, chkmas=False, nprobs=10, nprmas=10,\n",
    "    dt0=5,  # The user-specified initial \n",
    "    ttsmult=1.4,\n",
    "    mxstrn = 50000,\n",
    "    icbund = icbund\n",
    ")\n"
   ]
  },
  {
   "cell_type": "code",
   "execution_count": null,
   "metadata": {},
   "outputs": [],
   "source": []
  },
  {
   "cell_type": "code",
   "execution_count": 157,
   "metadata": {},
   "outputs": [],
   "source": [
    "adv = flopy.mt3d.Mt3dAdv(mt, mixelm=0,percel=0.4,mxpart=50000000,nadvfd=0)\n",
    "dsp = flopy.mt3d.Mt3dDsp(mt, al=parms['al'], trpt=0.1, \n",
    "                        trpv=0.01, \n",
    "                        dmcoef=3.7E-10 )  ## !!TRVP change to 0.01\n",
    "gcg = flopy.mt3d.Mt3dGcg(mt, iter1=50, mxiter=1, isolve=2, cclose= 1e-5)"
   ]
  },
  {
   "cell_type": "code",
   "execution_count": null,
   "metadata": {},
   "outputs": [],
   "source": []
  },
  {
   "cell_type": "markdown",
   "metadata": {},
   "source": [
    "# RCH"
   ]
  },
  {
   "cell_type": "code",
   "execution_count": 158,
   "metadata": {},
   "outputs": [],
   "source": [
    "# crch_array =  np.full(( nrow, ncol), 0.1, dtype=float)\n",
    "# crch_dict = {}\n",
    "# crch_dict[0] = crch_array\n",
    "# ssm = flopy.mt3d.Mt3dSsm(model, crch=crch_dict)\n",
    "\n",
    "# rch_dict = {}\n",
    "# rch_array = np.full(( nrow, ncol), 0.00013, dtype=float)\n",
    "# rch_dict[0] = rch_array\n",
    "# rch = flopy.modflow.ModflowRch(model = model, rech = rch_dict)\n",
    "\n",
    "\n",
    "# ## [row, col, rch(m3), crch, start, end]\n",
    "# rch_data = [[1100,1100,0.51,5000,1,20]]\n"
   ]
  },
  {
   "cell_type": "code",
   "execution_count": null,
   "metadata": {},
   "outputs": [],
   "source": []
  },
  {
   "cell_type": "markdown",
   "metadata": {},
   "source": [
    "### Real Septics"
   ]
  },
  {
   "cell_type": "code",
   "execution_count": 159,
   "metadata": {},
   "outputs": [],
   "source": [
    "import numpy as np\n",
    "import pandas as pd\n",
    "import flopy\n",
    "\n",
    "# Assuming nrow, ncol, delr, delc, and mt are defined earlier in your code\n",
    "\n",
    "# Initialize the base concentration array and the dictionary\n",
    "crch_array_base = np.full((nrow, ncol), 0.01, dtype=float)\n",
    "crch_dict = {0: crch_array_base.copy()}\n",
    "\n",
    "# Read the CSV file from the specified path\n",
    "df = pd.read_csv(\"wasaga septics placement/septics_transformed.csv\")\n",
    "df = df[~df['Year End'].isna()]\n",
    "df['Year End'] =df['Year End'].astype(int)\n",
    "\n",
    "# Loop through the DataFrame to update crch_dict\n",
    "for index, row in df.iterrows():\n",
    "    easting = row['Wasaga Easting']\n",
    "    northing = row['Wasaga Northing']\n",
    "    start_year = row['Year']\n",
    "    end_year = row['Year End']\n",
    "\n",
    "    # Calculate the indices\n",
    "    row_index = int(northing / delr)  # Using northing for row index\n",
    "    col_index = int(easting / delc)   # Using easting for column index\n",
    "\n",
    "    # Calculate the range of years for each septic source\n",
    "    start_key = start_year - 1968\n",
    "    end_key = end_year - 1968\n",
    "\n",
    "    # Loop through each year for the septic source\n",
    "    for year_key in range(start_key, end_key + 1):\n",
    "        # Check if the key exists in the dictionary, if not, create a new array\n",
    "        if year_key not in crch_dict:\n",
    "            crch_dict[year_key] = crch_array_base.copy()\n",
    "\n",
    "        # Update the concentration at the specified location\n",
    "        crch_dict[year_key][row_index, col_index] = 5000  # or any other value you wish to set\n",
    "\n",
    "# Create the SSM object\n",
    "ssm = flopy.mt3d.Mt3dSsm(mt, crch=crch_dict)\n"
   ]
  },
  {
   "cell_type": "code",
   "execution_count": 161,
   "metadata": {},
   "outputs": [],
   "source": [
    "import numpy as np\n",
    "import pandas as pd\n",
    "import flopy\n",
    "\n",
    "# Assuming nrow, ncol, delr, delc, and mt are defined earlier in your code\n",
    "# Also assuming rch_dict is already defined from your MODFLOW recharge setup\n",
    "\n",
    "# Initialize the base concentration array and the dictionary\n",
    "crch_array_base = np.full((nrow, ncol), 0.01, dtype=float)  # Background concentration\n",
    "crch_dict = {}\n",
    "\n",
    "# Constants for recharge and concentration\n",
    "background_recharge = 0.00013\n",
    "septic_recharge = 0.51 / delr / delc\n",
    "background_concentration = 0.01\n",
    "septic_concentration = 5000\n",
    "\n",
    "# Loop through each stress period in rch_dict\n",
    "for stress_period, rch_array in rch_dict.items():\n",
    "    # Copy the base concentration array for the current stress period\n",
    "    crch_array = crch_array_base.copy()\n",
    "    \n",
    "    # Find indices where recharge rate indicates a septic source\n",
    "    septic_indices = np.where(rch_array == septic_recharge)\n",
    "    \n",
    "    # Update the concentration array at these indices\n",
    "    crch_array[septic_indices] = septic_concentration\n",
    "    \n",
    "    # Store the updated concentration array in crch_dict for the current stress period\n",
    "    crch_dict[stress_period] = crch_array\n",
    "\n",
    "# Create the SSM object using crch_dict\n",
    "ssm = flopy.mt3d.Mt3dSsm(mt, crch=crch_dict)\n"
   ]
  },
  {
   "cell_type": "code",
   "execution_count": 750,
   "metadata": {},
   "outputs": [
    {
     "data": {
      "image/png": "[encoded data removed]",
      "text/plain": [
       "<Figure size 1000x600 with 2 Axes>"
      ]
     },
     "metadata": {},
     "output_type": "display_data"
    }
   ],
   "source": [
    "import matplotlib.pyplot as plt\n",
    "import numpy as np\n",
    "\n",
    "# Constants for recharge and concentration\n",
    "septic_concentration = 5000\n",
    "\n",
    "# Calculate and plot in a compact form\n",
    "kpers, active_septics = zip(*sorted((year_key, np.sum(crch == septic_concentration)) for year_key, crch in crch_dict.items()))\n",
    "\n",
    "fig, ax1 = plt.subplots(figsize=(10, 6))\n",
    "bars = ax1.bar(kpers, active_septics, color='dodgerblue', alpha=0.7)\n",
    "\n",
    "ax1.set(xlabel='Stress Period (kper)', ylabel='Number of Active Septic Sources', title='Active Septic Sources Over Time')\n",
    "\n",
    "# Adjust the x-axis to show actual years assuming the first stress period starts in 1950 (change if needed)\n",
    "start_year =model_begin_year \n",
    "ax2 = ax1.twiny()\n",
    "ax2.set(xlabel='Year', xlim=[start_year + kpers[0], start_year + kpers[-1]], xticks=[start_year + k for k in ax1.get_xticks()],\n",
    "        xticklabels=[int(start_year + k) for k in ax1.get_xticks()])\n",
    "ax1.grid(axis='y', linestyle='--', alpha=0.7)\n",
    "\n",
    "\n",
    "\n",
    "# Add text labels on the bars\n",
    "for bar, val in zip(bars, active_septics):\n",
    "    if val == 0:\n",
    "        ax1.text(bar.get_x() + bar.get_width() / 2, bar.get_height(), str(val), ha='center', va='bottom', fontsize=10, fontweight='bold')\n",
    "\n",
    "\n",
    "plt.axvline(x=48)\n",
    "\n",
    "plt.tight_layout()\n",
    "plt.show()\n"
   ]
  },
  {
   "cell_type": "code",
   "execution_count": 304,
   "metadata": {},
   "outputs": [
    {
     "ename": "NameError",
     "evalue": "name 'crch_dict' is not defined",
     "output_type": "error",
     "traceback": [
      "\u001b[1;31m---------------------------------------------------------------------------\u001b[0m",
      "\u001b[1;31mNameError\u001b[0m                                 Traceback (most recent call last)",
      "\u001b[1;32mc:\\Users\\swan47\\Documents\\GitHub\\wasaga_model\\wasaga_3d\\v2_run_wasaga_3d -mac.ipynb Cell 85\u001b[0m line \u001b[0;36m8\n\u001b[0;32m      <a href='vscode-notebook-cell:/c%3A/Users/swan47/Documents/GitHub/wasaga_model/wasaga_3d/v2_run_wasaga_3d%20-mac.ipynb#Y140sZmlsZQ%3D%3D?line=4'>5</a>\u001b[0m period \u001b[39m=\u001b[39m \u001b[39m47\u001b[39m  \u001b[39m# Specify the period you want to visualize\u001b[39;00m\n\u001b[0;32m      <a href='vscode-notebook-cell:/c%3A/Users/swan47/Documents/GitHub/wasaga_model/wasaga_3d/v2_run_wasaga_3d%20-mac.ipynb#Y140sZmlsZQ%3D%3D?line=6'>7</a>\u001b[0m \u001b[39m# Check if the period exists in the dictionary\u001b[39;00m\n\u001b[1;32m----> <a href='vscode-notebook-cell:/c%3A/Users/swan47/Documents/GitHub/wasaga_model/wasaga_3d/v2_run_wasaga_3d%20-mac.ipynb#Y140sZmlsZQ%3D%3D?line=7'>8</a>\u001b[0m \u001b[39mif\u001b[39;00m period \u001b[39min\u001b[39;00m crch_dict:\n\u001b[0;32m      <a href='vscode-notebook-cell:/c%3A/Users/swan47/Documents/GitHub/wasaga_model/wasaga_3d/v2_run_wasaga_3d%20-mac.ipynb#Y140sZmlsZQ%3D%3D?line=8'>9</a>\u001b[0m     \u001b[39m# Extract the array for the specified period\u001b[39;00m\n\u001b[0;32m     <a href='vscode-notebook-cell:/c%3A/Users/swan47/Documents/GitHub/wasaga_model/wasaga_3d/v2_run_wasaga_3d%20-mac.ipynb#Y140sZmlsZQ%3D%3D?line=9'>10</a>\u001b[0m     crch_array \u001b[39m=\u001b[39m crch_dict[period]\n\u001b[0;32m     <a href='vscode-notebook-cell:/c%3A/Users/swan47/Documents/GitHub/wasaga_model/wasaga_3d/v2_run_wasaga_3d%20-mac.ipynb#Y140sZmlsZQ%3D%3D?line=11'>12</a>\u001b[0m     \u001b[39m# Create a heatmap of the array\u001b[39;00m\n",
      "\u001b[1;31mNameError\u001b[0m: name 'crch_dict' is not defined"
     ]
    }
   ],
   "source": [
    "import matplotlib.pyplot as plt\n",
    "\n",
    "# Assuming crch_dict is already defined and filled with your data\n",
    "\n",
    "period = 47  # Specify the period you want to visualize\n",
    "\n",
    "# Check if the period exists in the dictionary\n",
    "if period in crch_dict:\n",
    "    # Extract the array for the specified period\n",
    "    crch_array = crch_dict[period]\n",
    "\n",
    "    # Create a heatmap of the array\n",
    "    plt.imshow(crch_array, cmap='viridis', interpolation='nearest')\n",
    "    plt.colorbar(label='Concentration')  # Add a color bar to indicate the values\n",
    "\n",
    "    # Flip the y-axis\n",
    "    plt.gca().invert_yaxis()\n",
    "\n",
    "    # Add labels and title\n",
    "    plt.xlabel('Column Index')\n",
    "    plt.ylabel('Row Index')\n",
    "    plt.title(f'CRCH Array Visualization at Period {period}')\n",
    "\n",
    "    # Show the plot\n",
    "    plt.show()\n",
    "else:\n",
    "    print(f\"No data available for period {period}\")\n"
   ]
  },
  {
   "cell_type": "code",
   "execution_count": null,
   "metadata": {},
   "outputs": [],
   "source": []
  },
  {
   "cell_type": "code",
   "execution_count": null,
   "metadata": {},
   "outputs": [],
   "source": []
  },
  {
   "cell_type": "code",
   "execution_count": null,
   "metadata": {},
   "outputs": [],
   "source": []
  },
  {
   "cell_type": "markdown",
   "metadata": {},
   "source": [
    "### Test SSM"
   ]
  },
  {
   "cell_type": "code",
   "execution_count": 102,
   "metadata": {},
   "outputs": [],
   "source": [
    "# crch_array =  np.full(( nrow, ncol), 0.01, dtype=float)\n",
    "# crch_dict = {}\n",
    "# crch_dict[0] = crch_array\n",
    "\n",
    "# crch_array =  np.full(( nrow, ncol), 0.01, dtype=float)\n",
    "\n",
    "# # crch_array[int(nrow/2),int(ncol/2)] =5000\n",
    "# # crch_array[int(nrow/2),int(ncol/3)] =5000\n",
    "# crch_array[int((1700-70)/delr),int(ncol/3)] =5000\n",
    "# crch_array[int((1700-70)/delr),int(ncol/2)] =5000\n",
    "# spetic_locs = [[int((1700-70)/delr),int(ncol/3)], [int((1700-70)/delr),int(ncol/2)]]\n",
    "\n",
    "# crch_dict = {}\n",
    "# crch_dict[1] = crch_array\n",
    "\n",
    "\n",
    "# crch_array =  np.full(( nrow, ncol), 0.01, dtype=float)\n",
    "# crch_dict[26] = crch_array\n",
    "\n",
    "# ssm = flopy.mt3d.Mt3dSsm(mt, crch=crch_dict)"
   ]
  },
  {
   "cell_type": "code",
   "execution_count": null,
   "metadata": {},
   "outputs": [],
   "source": []
  },
  {
   "cell_type": "code",
   "execution_count": null,
   "metadata": {},
   "outputs": [],
   "source": []
  },
  {
   "cell_type": "code",
   "execution_count": null,
   "metadata": {},
   "outputs": [],
   "source": []
  },
  {
   "cell_type": "code",
   "execution_count": null,
   "metadata": {},
   "outputs": [],
   "source": []
  },
  {
   "cell_type": "code",
   "execution_count": null,
   "metadata": {},
   "outputs": [],
   "source": []
  },
  {
   "cell_type": "code",
   "execution_count": null,
   "metadata": {},
   "outputs": [],
   "source": []
  },
  {
   "cell_type": "markdown",
   "metadata": {},
   "source": [
    "# RCT"
   ]
  },
  {
   "cell_type": "code",
   "execution_count": 103,
   "metadata": {},
   "outputs": [],
   "source": [
    "rct = flopy.mt3d.Mt3dRct(model=mt, isothm=3,sp1=parms['sp1'],sp2=0.0001,igetsc=0,rhob= 1.65E+09)"
   ]
  },
  {
   "cell_type": "code",
   "execution_count": null,
   "metadata": {},
   "outputs": [],
   "source": []
  },
  {
   "cell_type": "code",
   "execution_count": null,
   "metadata": {},
   "outputs": [],
   "source": []
  },
  {
   "cell_type": "markdown",
   "metadata": {},
   "source": [
    "# Write and Run"
   ]
  },
  {
   "cell_type": "code",
   "execution_count": 88,
   "metadata": {},
   "outputs": [
    {
     "ename": "NameError",
     "evalue": "name 'mt' is not defined",
     "output_type": "error",
     "traceback": [
      "\u001b[1;31m---------------------------------------------------------------------------\u001b[0m",
      "\u001b[1;31mNameError\u001b[0m                                 Traceback (most recent call last)",
      "\u001b[1;32mc:\\Users\\swan47\\Documents\\GitHub\\wasaga_model\\wasaga_3d\\v2_run_wasaga_3d -mac.ipynb Cell 98\u001b[0m line \u001b[0;36m2\n\u001b[0;32m      <a href='vscode-notebook-cell:/c%3A/Users/swan47/Documents/GitHub/wasaga_model/wasaga_3d/v2_run_wasaga_3d%20-mac.ipynb#Y163sZmlsZQ%3D%3D?line=0'>1</a>\u001b[0m \u001b[39m# Write MODFLOW input files\u001b[39;00m\n\u001b[1;32m----> <a href='vscode-notebook-cell:/c%3A/Users/swan47/Documents/GitHub/wasaga_model/wasaga_3d/v2_run_wasaga_3d%20-mac.ipynb#Y163sZmlsZQ%3D%3D?line=1'>2</a>\u001b[0m mt\u001b[39m.\u001b[39mwrite_input()\n",
      "\u001b[1;31mNameError\u001b[0m: name 'mt' is not defined"
     ]
    }
   ],
   "source": [
    "\n",
    "# Write MODFLOW input files\n",
    "mt.write_input()"
   ]
  },
  {
   "cell_type": "markdown",
   "metadata": {},
   "source": []
  },
  {
   "cell_type": "code",
   "execution_count": 86,
   "metadata": {},
   "outputs": [],
   "source": [
    "open_file(model_ws)"
   ]
  },
  {
   "cell_type": "code",
   "execution_count": 87,
   "metadata": {},
   "outputs": [
    {
     "ename": "NameError",
     "evalue": "name 'mt' is not defined",
     "output_type": "error",
     "traceback": [
      "\u001b[1;31m---------------------------------------------------------------------------\u001b[0m",
      "\u001b[1;31mNameError\u001b[0m                                 Traceback (most recent call last)",
      "\u001b[1;32mc:\\Users\\swan47\\Documents\\GitHub\\wasaga_model\\wasaga_3d\\v2_run_wasaga_3d -mac.ipynb Cell 101\u001b[0m line \u001b[0;36m2\n\u001b[0;32m      <a href='vscode-notebook-cell:/c%3A/Users/swan47/Documents/GitHub/wasaga_model/wasaga_3d/v2_run_wasaga_3d%20-mac.ipynb#Y166sZmlsZQ%3D%3D?line=0'>1</a>\u001b[0m \u001b[39m# Run the MODFLOW model\u001b[39;00m\n\u001b[1;32m----> <a href='vscode-notebook-cell:/c%3A/Users/swan47/Documents/GitHub/wasaga_model/wasaga_3d/v2_run_wasaga_3d%20-mac.ipynb#Y166sZmlsZQ%3D%3D?line=1'>2</a>\u001b[0m mt\u001b[39m.\u001b[39mrun_model()\n",
      "\u001b[1;31mNameError\u001b[0m: name 'mt' is not defined"
     ]
    }
   ],
   "source": [
    "# Run the MODFLOW model\n",
    "mt.run_model()"
   ]
  },
  {
   "cell_type": "code",
   "execution_count": null,
   "metadata": {},
   "outputs": [],
   "source": []
  },
  {
   "cell_type": "code",
   "execution_count": null,
   "metadata": {},
   "outputs": [
    {
     "data": {
      "text/plain": [
       "'C:\\\\Users\\\\swan47\\\\AppData\\\\Local\\\\Temp\\\\_T0109005814_wasaga_8t3rbwo4'"
      ]
     },
     "execution_count": 267,
     "metadata": {},
     "output_type": "execute_result"
    }
   ],
   "source": [
    "model_ws"
   ]
  },
  {
   "cell_type": "code",
   "execution_count": null,
   "metadata": {},
   "outputs": [],
   "source": []
  },
  {
   "cell_type": "code",
   "execution_count": null,
   "metadata": {},
   "outputs": [],
   "source": []
  },
  {
   "cell_type": "code",
   "execution_count": null,
   "metadata": {},
   "outputs": [],
   "source": []
  },
  {
   "cell_type": "code",
   "execution_count": null,
   "metadata": {},
   "outputs": [],
   "source": []
  },
  {
   "cell_type": "code",
   "execution_count": null,
   "metadata": {},
   "outputs": [],
   "source": []
  }
 ],
 "metadata": {
  "kernelspec": {
   "display_name": "Python 3",
   "language": "python",
   "name": "python3"
  },
  "language_info": {
   "codemirror_mode": {
    "name": "ipython",
    "version": 3
   },
   "file_extension": ".py",
   "mimetype": "text/x-python",
   "name": "python",
   "nbconvert_exporter": "python",
   "pygments_lexer": "ipython3",
   "version": "3.11.3"
  }
 },
 "nbformat": 4,
 "nbformat_minor": 4
}
