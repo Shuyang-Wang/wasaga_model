{
 "cells": [
  {
   "cell_type": "code",
   "execution_count": 1,
   "metadata": {},
   "outputs": [],
   "source": [
    "import flopy\n",
    "import numpy as np\n",
    "import matplotlib.pyplot as plt\n",
    "import shutil\n",
    "from pathlib import Path\n",
    "\n",
    "from datetime import datetime\n",
    "from tempfile import TemporaryDirectory\n",
    "from tempfile import mkdtemp\n",
    "\n",
    "import os\n",
    "import platform\n",
    "import subprocess\n",
    "from shapely.geometry import Polygon, Point\n",
    "from scipy.interpolate import make_interp_spline"
   ]
  },
  {
   "cell_type": "code",
   "execution_count": null,
   "metadata": {},
   "outputs": [],
   "source": []
  },
  {
   "cell_type": "code",
   "execution_count": 2,
   "metadata": {},
   "outputs": [],
   "source": [
    "def locate_ground_surface_lay(row=150):\n",
    "    cross_section = ibound[:,:,0]\n",
    "    lay = np.where(cross_section[:,row]==1)[0][0]\n",
    "    return lay\n",
    "\n",
    "def meter_to_col(col_meter):\n",
    "    return int(np.round(col_meter/delc,0))\n",
    "\n",
    "def meter_to_row(row_meter):\n",
    "    return int(np.round(row_meter/delc,0))\n",
    "\n",
    "def meter_to_lay(lay_meter):\n",
    "    return int(np.round((top_elev-lay_meter)/layer_thickness,0))\n",
    "\n",
    "def col_to_meter(col):\n",
    "    return col*delc\n",
    "\n",
    "def row_to_meter(row):\n",
    "    return row*delc\n",
    "\n",
    "def lay_to_meter(row):\n",
    "    return 190.0-row*layer_thickness"
   ]
  },
  {
   "cell_type": "code",
   "execution_count": null,
   "metadata": {},
   "outputs": [],
   "source": []
  },
  {
   "cell_type": "code",
   "execution_count": null,
   "metadata": {},
   "outputs": [],
   "source": []
  },
  {
   "cell_type": "code",
   "execution_count": 3,
   "metadata": {},
   "outputs": [],
   "source": [
    "\n",
    "def change_array_within_polygon(array, row_coords, col_coords, value):\n",
    "\n",
    "    # Create a polygon object from the row and column coordinates\n",
    "    polygon = Polygon(zip(col_coords, row_coords))\n",
    "\n",
    "    # Create a boolean mask indicating which points fall within the polygon\n",
    "    mask = np.zeros_like(array, dtype=bool)\n",
    "    for row in range(array.shape[0]):\n",
    "        for col in range(array.shape[1]):\n",
    "            point = Point(col, row)\n",
    "            if polygon.contains(point) or polygon.intersects(point):\n",
    "                mask[row, col] = True\n",
    "\n",
    "    # Set the values of the array that fall within the polygon to the new value\n",
    "    array[mask] = value\n",
    "\n",
    "    return array\n"
   ]
  },
  {
   "cell_type": "code",
   "execution_count": null,
   "metadata": {},
   "outputs": [],
   "source": []
  },
  {
   "cell_type": "code",
   "execution_count": null,
   "metadata": {},
   "outputs": [],
   "source": []
  },
  {
   "cell_type": "markdown",
   "metadata": {},
   "source": [
    "# Workspace"
   ]
  },
  {
   "cell_type": "code",
   "execution_count": 4,
   "metadata": {},
   "outputs": [],
   "source": [
    "# Define model workspace\n",
    "\n",
    "myt = datetime.now().strftime('%m%d%H%M%S')\n",
    "name = 'wasaga'\n",
    "temp_dir = mkdtemp(prefix='_T{}_{}_'.format(myt,name))\n",
    "os.makedirs(Path(temp_dir) / '_output')\n",
    "\n",
    "#model_ws = \"./modflow_model_2\"\n",
    "model_ws = temp_dir\n",
    "\n",
    "def open_file(path):\n",
    "    if platform.system() == \"Windows\":\n",
    "        os.startfile(path)\n",
    "    elif platform.system() == \"Darwin\":\n",
    "        subprocess.Popen([\"open\", path])\n",
    "    else:\n",
    "        subprocess.Popen([\"xdg-open\", path])\n",
    "\n",
    "open_file(model_ws)"
   ]
  },
  {
   "cell_type": "code",
   "execution_count": 5,
   "metadata": {},
   "outputs": [
    {
     "data": {
      "text/plain": [
       "'C:\\\\Users\\\\swan47\\\\AppData\\\\Local\\\\Temp\\\\_T1213133434_wasaga_a4inkdh2'"
      ]
     },
     "execution_count": 5,
     "metadata": {},
     "output_type": "execute_result"
    }
   ],
   "source": [
    "model_ws"
   ]
  },
  {
   "cell_type": "code",
   "execution_count": 6,
   "metadata": {},
   "outputs": [],
   "source": [
    "# base\n",
    "parms= {}\n",
    "parms['sp1']= 0.0002\n",
    "parms['hk']= 6.9\n",
    "parms['al'] = 5\n",
    "base_parms = parms"
   ]
  },
  {
   "cell_type": "code",
   "execution_count": null,
   "metadata": {},
   "outputs": [],
   "source": []
  },
  {
   "cell_type": "code",
   "execution_count": null,
   "metadata": {},
   "outputs": [],
   "source": []
  },
  {
   "cell_type": "markdown",
   "metadata": {},
   "source": [
    "# Model"
   ]
  },
  {
   "cell_type": "code",
   "execution_count": 7,
   "metadata": {},
   "outputs": [],
   "source": [
    "# Create a MODFLOW model instance\n",
    "mf = flopy.modflow.Modflow(modelname=\"example_model\",version='mf2005',\n",
    "                              exe_name='mf2005', \n",
    "                              model_ws=model_ws)"
   ]
  },
  {
   "cell_type": "code",
   "execution_count": 8,
   "metadata": {},
   "outputs": [],
   "source": [
    "# # Create a MODFLOW model instance\n",
    "# model = flopy.seawat.Seawat(modelname=\"example_model\",\n",
    "#                             exe_name='swtv4', \n",
    "#                               model_ws=model_ws)\n"
   ]
  },
  {
   "cell_type": "code",
   "execution_count": null,
   "metadata": {},
   "outputs": [],
   "source": []
  },
  {
   "cell_type": "markdown",
   "metadata": {},
   "source": [
    "# DIS"
   ]
  },
  {
   "cell_type": "code",
   "execution_count": 9,
   "metadata": {},
   "outputs": [],
   "source": [
    "# Define model dimensions\n",
    "nlay = int(60 * 2)\n",
    "nrow = int(220 * 2)\n",
    "ncol = int(220 * 2)\n",
    "delr = 2200/nrow  # Cell width along rows (extend 2200 / 220)\n",
    "delc = 2200/ncol  # Cell width along columns (extend 2200 / 220)\n",
    "\n",
    "# Define top elevation\n",
    "layer_thickness = 30.0 / nlay\n",
    "\n",
    "top_elev = 190.0\n",
    "botm_elev = [top_elev - (i * layer_thickness) for i in range(1, nlay + 1)]\n",
    "# Define layer thickness (uniform thickness)\n",
    "\n",
    "\n",
    "perlen = 365\n",
    "nper = int(10)\n",
    "#nper = int(20)\n",
    "\n",
    "steady = np.append(np.array([True]),np.repeat(False,nper-1))\n",
    "#steady=[False,False,True]\n",
    "#steady = True\n",
    "\n",
    "# Create DIS package\n",
    "\n"
   ]
  },
  {
   "cell_type": "code",
   "execution_count": null,
   "metadata": {},
   "outputs": [],
   "source": []
  },
  {
   "cell_type": "code",
   "execution_count": 10,
   "metadata": {},
   "outputs": [],
   "source": [
    "dis = flopy.modflow.ModflowDis(mf, nlay=nlay, nrow=nrow, ncol=ncol, \n",
    "                               delr=delr, delc=delc,top=top_elev, \n",
    "                               botm=botm_elev,\n",
    "                               nper = nper, perlen = perlen,\n",
    "                               nstp = 1, steady = steady)\n"
   ]
  },
  {
   "cell_type": "code",
   "execution_count": null,
   "metadata": {},
   "outputs": [],
   "source": []
  },
  {
   "cell_type": "markdown",
   "metadata": {},
   "source": [
    "# Ibound"
   ]
  },
  {
   "cell_type": "code",
   "execution_count": 11,
   "metadata": {},
   "outputs": [],
   "source": [
    "\n",
    "\n",
    "x = np.array([0, 100, 340, 600, 750, 850, 1100, 1350, 1450, 1530, 1650, 1750, 1850, 2050, 2200])\n",
    "y_topo = np.array([190,190,187,184,184,184,183,182,179,175.5,175,173.8,173.5,172,171])#topo\n",
    "y_clay = np.array([185,184,180,175,174,174,173,170,169,168.5,167.5,166.8,166.5,165,164]) #clay\n",
    "\n",
    "\n",
    "# Interpolate the data using smoothing splines\n",
    "spl = make_interp_spline(x, y_topo)\n",
    "x_smooth_topo = np.linspace(x.min(), x.max(), 30)\n",
    "y_smooth_topo = spl(x_smooth_topo)\n",
    "\n",
    "col_coords = (x_smooth_topo/delr).round(0)\n",
    "col_coords_topo = list(col_coords) +[nrow,0]\n",
    "\n",
    "row_coords = ((top_elev - y_smooth_topo)/layer_thickness).round(0)\n",
    "row_coords_topo  =  list(row_coords) +[0,0]\n",
    "\n",
    "\n",
    "\n",
    "# Interpolate the data using smoothing splines\n",
    "spl = make_interp_spline(x, y_clay)\n",
    "x_smooth = np.linspace(x.min(), x.max(), 30)\n",
    "y_smooth = spl(x_smooth)\n",
    "\n",
    "col_coords = (x_smooth/delr).round(0)\n",
    "col_coords_clay = list(col_coords) +[nrow,0]\n",
    "row_coords = ((top_elev - y_smooth)/layer_thickness).round(0)\n",
    "row_coords_clay  =  list(row_coords) +[nlay,nlay]\n"
   ]
  },
  {
   "cell_type": "code",
   "execution_count": null,
   "metadata": {},
   "outputs": [],
   "source": []
  },
  {
   "cell_type": "markdown",
   "metadata": {},
   "source": [
    "# Ibound & Strt"
   ]
  },
  {
   "cell_type": "code",
   "execution_count": 12,
   "metadata": {},
   "outputs": [
    {
     "name": "stdout",
     "output_type": "stream",
     "text": [
      "185.25\n",
      "185.5\n",
      "185.75\n",
      "186.0\n",
      "186.25\n",
      "186.5\n",
      "186.75\n",
      "185.0\n",
      "185.25\n",
      "185.5\n",
      "185.75\n",
      "186.0\n",
      "186.25\n",
      "186.5\n",
      "186.75\n"
     ]
    },
    {
     "data": {
      "image/png": "[encoded data removed]",
      "text/plain": [
       "<Figure size 1500x1000 with 2 Axes>"
      ]
     },
     "metadata": {},
     "output_type": "display_data"
    },
    {
     "data": {
      "image/png": "[encoded data removed]",
      "text/plain": [
       "<Figure size 1500x1000 with 2 Axes>"
      ]
     },
     "metadata": {},
     "output_type": "display_data"
    }
   ],
   "source": [
    "\n",
    "# Define ibound and initial conditionsa\n",
    "ibound = np.ones((nlay, nrow, ncol), dtype=int)\n",
    "initial_head = np.full((nlay, nrow, ncol), 200.0, dtype=float)\n",
    "\n",
    "# Set constant head boundary conditions for the first and last rows\n",
    "array = change_array_within_polygon(ibound, row_coords_topo, col_coords_topo, 0)\n",
    "plt.scatter(col_coords_topo,row_coords_topo,c='r')\n",
    "\n",
    "\n",
    "array = change_array_within_polygon(ibound, row_coords_clay, col_coords_clay, 0)\n",
    "plt.scatter(col_coords,row_coords,c='r')\n",
    "\n",
    "for c in range(0,2):\n",
    "    i = np.where(ibound[:,c,-1]==1)[0][-1]\n",
    "    head = top_elev-i*layer_thickness\n",
    "    #print('head {}'.format(head))\n",
    "    \n",
    "    while head<187:\n",
    "        ibound[i,c,:] = -1\n",
    "        #print(i,c)\n",
    "        #initial_head[i,c,:] = head+0.5\n",
    "        print(head)\n",
    "        initial_head[i,c,:] = 187\n",
    "        head+=layer_thickness\n",
    "        i-=1\n",
    "\n",
    "\n",
    "lay = np.where(ibound[:,int(1700/delr),-1])[0][0]\n",
    "elv = lay_to_meter(lay)\n",
    "head = elv\n",
    "\n",
    "for c in range(int(1700/delr),int(2200/delr)):\n",
    "    lay = np.where(ibound[:,c,-1]==1)[0][0]\n",
    "    #print(lay,lay_to_meter(lay))\n",
    "    ibound[lay,c,:] = -1\n",
    "    initial_head[lay,c,:] = elv\n",
    "\n",
    "# Your existing code\n",
    "im = plt.imshow(ibound[:,:,2], origin='upper', aspect=1)\n",
    "plt.axvline(x=meter_to_col(1700))# shoreline\n",
    "plt.gcf().set_size_inches(15,10)\n",
    "\n",
    "# Set the y-axis tick positions and labels\n",
    "#plt.yticks([0, 10,20, 30,40, 50,60], ['190m (0L)','185m (10L)', '180m (20L)','175m (30L)', '170m (40L)', '165m (50L)','160m (60L)'])\n",
    "# Add a horizontal colorbar\n",
    "\n",
    "cbar = plt.colorbar(im, orientation='horizontal')\n",
    "cbar.ax.tick_params(labelsize=16)\n",
    "cbar.set_label('Colorbar Label', fontsize=16)\n",
    "\n",
    "# Display the plot\n",
    "plt.title('ibound')\n",
    "plt.grid()\n",
    "plt.show()\n",
    "\n",
    "\n",
    "fig, ax = plt.subplots(figsize=(15, 10))\n",
    "im = ax.imshow(initial_head[:, :, 0], origin='upper')\n",
    "\n",
    "# Add a horizontal colorbar\n",
    "cbar = plt.colorbar(im, orientation='horizontal')\n",
    "cbar.ax.tick_params(labelsize=18)\n",
    "plt.title('initial head')\n",
    "plt.show()\n"
   ]
  },
  {
   "cell_type": "code",
   "execution_count": null,
   "metadata": {},
   "outputs": [],
   "source": []
  },
  {
   "cell_type": "code",
   "execution_count": null,
   "metadata": {},
   "outputs": [],
   "source": []
  },
  {
   "cell_type": "code",
   "execution_count": null,
   "metadata": {},
   "outputs": [],
   "source": []
  },
  {
   "cell_type": "markdown",
   "metadata": {},
   "source": []
  },
  {
   "cell_type": "markdown",
   "metadata": {},
   "source": [
    "# BAS LPF  PCG"
   ]
  },
  {
   "cell_type": "code",
   "execution_count": 13,
   "metadata": {},
   "outputs": [],
   "source": [
    "\n",
    "# Create BAS package\n",
    "bas = flopy.modflow.ModflowBas(mf, ibound=ibound, strt=initial_head)\n",
    "\n",
    "# Define hydraulic properties\n",
    "horizontal_k = parms['hk'] # Horizontal hydraulic conductivity (m/day)\n",
    "vertical_ka = 0.1   # Vertical hydraulic conductivity (m/day)\n",
    "porosity = 0.25     # Porosity\n",
    "\n",
    "# Create LPF package (Layer Property Flow package)\n",
    "lpf = flopy.modflow.ModflowLpf(mf, hk=horizontal_k, \n",
    "                               vka=vertical_ka, laytyp=1, \n",
    "                               ipakcb=None,ss=0.0002,sy=0.33,\n",
    "                               laywet=1,iwetit=1,wetfct=0.1,ihdwet=1)\n",
    "\n",
    "# #ss=0.0002,sy=0.33\n",
    "# upw = flopy.modflow.ModflowUpw(model, laytyp=1, hk=horizontal_k)\n",
    "\n",
    "pcg = flopy.modflow.ModflowPcg(mf, hclose=1e-3,npcond=1,\n",
    "                               relax=0.99,rclose=1e-3,mutpcg=0,nbpol=1,iprpcg=1)\n",
    "\n"
   ]
  },
  {
   "cell_type": "code",
   "execution_count": null,
   "metadata": {},
   "outputs": [],
   "source": []
  },
  {
   "cell_type": "code",
   "execution_count": null,
   "metadata": {},
   "outputs": [],
   "source": []
  },
  {
   "cell_type": "code",
   "execution_count": null,
   "metadata": {},
   "outputs": [],
   "source": []
  },
  {
   "cell_type": "code",
   "execution_count": null,
   "metadata": {},
   "outputs": [],
   "source": []
  },
  {
   "cell_type": "markdown",
   "metadata": {},
   "source": [
    "# Heterogeneity"
   ]
  },
  {
   "cell_type": "code",
   "execution_count": 14,
   "metadata": {},
   "outputs": [],
   "source": [
    "# hk_mean = 2.3  # mean hydraulic conductivity\n",
    "# hk_std = 2  # standard deviation of hydraulic conductivity\n",
    "# hk= np.random.normal(hk_mean, hk_std, size=[nlay,nrow,ncol])\n",
    "# hk[np.where(hk<0)]=0.001\n",
    "\n",
    "# model.lpf.hk = hk\n"
   ]
  },
  {
   "cell_type": "code",
   "execution_count": 15,
   "metadata": {},
   "outputs": [],
   "source": [
    "# hk_mean = np.log10(2.3)  # mean hydraulic conductivity\n",
    "# hk_std = 0.4  # standard deviation of hydraulic conductivity\n",
    "# hk= np.random.normal(hk_mean, hk_std, size=[nlay,nrow,ncol])\n",
    "# hk = 10**hk\n",
    "# #hk[np.where(hk<0)]=0.001\n",
    "# hk.mean()\n",
    "# model.lpf.hk = hk"
   ]
  },
  {
   "cell_type": "code",
   "execution_count": 16,
   "metadata": {},
   "outputs": [],
   "source": [
    "# plt.hist(hk.flatten(),bins=np.linspace(0,30,50))\n",
    "# plt.show()\n",
    "\n",
    "# plt.imshow(hk[0,:,:])\n",
    "# plt.show()"
   ]
  },
  {
   "cell_type": "markdown",
   "metadata": {},
   "source": [
    "# DRN"
   ]
  },
  {
   "cell_type": "code",
   "execution_count": 17,
   "metadata": {},
   "outputs": [
    {
     "name": "stdout",
     "output_type": "stream",
     "text": [
      "304\n",
      "305\n",
      "306\n",
      "307\n",
      "308\n",
      "309\n",
      "310\n",
      "311\n",
      "312\n",
      "313\n",
      "314\n",
      "315\n",
      "316\n",
      "317\n",
      "318\n",
      "319\n",
      "320\n",
      "119\n",
      "120\n",
      "121\n"
     ]
    }
   ],
   "source": [
    "locate_ground_surface_lay(meter_to_row(160))\n",
    "#drn_cell = [(0, 150, 28), -10, 100]\n",
    "\n",
    "beach_drns = np.arange(1520,1600+1,delr).astype(int)\n",
    "river_drns = np.arange(595,605+1,delr).astype(int)\n",
    "#beach_drns = []\n",
    "\n",
    "drn_list = []\n",
    "drn_ys= list(beach_drns)+list(river_drns)\n",
    "\n",
    "for y in drn_ys:\n",
    "   \n",
    "   row = meter_to_row(y)\n",
    "   lay = locate_ground_surface_lay(row=row)\n",
    "   elv = lay_to_meter(lay)\n",
    "   print(row)\n",
    "   #print(lay)\n",
    "   for col in range(ncol):\n",
    "\n",
    "      drn_list.append([lay, row, col, elv, 100])\n",
    "      #drn_list.append([12*2, meter_to_row(600), col, 184.0-0.5, 100])\n",
    "      \n",
    "drn_cell = {0:drn_list} \n",
    "\n",
    "#drn_cell={0:[[31, 160, 0, 174.5-0.5, 0],[12, 60, 0, 184.0-0.5, 0]]}\n",
    "drn = flopy.modflow.ModflowDrn(model=mf, stress_period_data=drn_cell,)"
   ]
  },
  {
   "cell_type": "code",
   "execution_count": null,
   "metadata": {},
   "outputs": [],
   "source": []
  },
  {
   "cell_type": "code",
   "execution_count": 18,
   "metadata": {},
   "outputs": [
    {
     "data": {
      "text/plain": [
       "[(57, 304, 0, 175.75, 100.),\n",
       " (57, 305, 0, 175.75, 100.),\n",
       " (57, 306, 0, 175.75, 100.),\n",
       " (58, 307, 0, 175.5, 100.),\n",
       " (58, 308, 0, 175.5, 100.),\n",
       " (58, 309, 0, 175.5, 100.),\n",
       " (58, 310, 0, 175.5, 100.),\n",
       " (59, 311, 0, 175.25, 100.),\n",
       " (59, 312, 0, 175.25, 100.),\n",
       " (59, 313, 0, 175.25, 100.),\n",
       " (59, 314, 0, 175.25, 100.),\n",
       " (60, 315, 0, 175., 100.),\n",
       " (60, 316, 0, 175., 100.),\n",
       " (60, 317, 0, 175., 100.),\n",
       " (60, 318, 0, 175., 100.),\n",
       " (61, 319, 0, 174.75, 100.),\n",
       " (61, 320, 0, 174.75, 100.),\n",
       " (24, 119, 0, 184., 100.),\n",
       " (24, 120, 0, 184., 100.),\n",
       " (25, 121, 0, 183.75, 100.)]"
      ]
     },
     "execution_count": 18,
     "metadata": {},
     "output_type": "execute_result"
    }
   ],
   "source": [
    "[i for i in drn.stress_period_data.data[0] if i[2]==0] "
   ]
  },
  {
   "cell_type": "code",
   "execution_count": 19,
   "metadata": {},
   "outputs": [
    {
     "data": {
      "image/png": "[encoded data removed]",
      "text/plain": [
       "<Figure size 640x480 with 1 Axes>"
      ]
     },
     "metadata": {},
     "output_type": "display_data"
    }
   ],
   "source": [
    "lays_with_drn = np.unique([i[0] for i in drn.stress_period_data.data[0]])\n",
    "for lay in lays_with_drn:\n",
    "    pmv = flopy.plot.PlotMapView(model=mf, layer=lay)\n",
    "    pmv.plot_bc('DRN',color='r')"
   ]
  },
  {
   "cell_type": "code",
   "execution_count": null,
   "metadata": {},
   "outputs": [],
   "source": []
  },
  {
   "cell_type": "code",
   "execution_count": null,
   "metadata": {},
   "outputs": [],
   "source": []
  },
  {
   "cell_type": "code",
   "execution_count": null,
   "metadata": {},
   "outputs": [],
   "source": []
  },
  {
   "cell_type": "markdown",
   "metadata": {},
   "source": [
    "# RCH"
   ]
  },
  {
   "cell_type": "code",
   "execution_count": 20,
   "metadata": {},
   "outputs": [],
   "source": [
    "rch_dict = {}\n",
    "\n",
    "rch_array = np.full(( nrow, ncol), 0.00013, dtype=float)\n",
    "rch_dict[0] = rch_array\n",
    "\n",
    "rch_array = np.full(( nrow, ncol), 0.00013, dtype=float)\n",
    "#rch_array[int(nrow/2),int(ncol/2)] = 0.51/delr/delc\n",
    "#rch_array[int(nrow/2),int(ncol/3)] = 0.51/delr/delc\n",
    "\n",
    "rch_array[int((1700-450)/delr),int(ncol/2)] = 0.51/delr/delc\n",
    "rch_array[int((1700-450)/delr),int(ncol/3)] = 0.51/delr/delc\n",
    "\n",
    "rch_dict[1] = rch_array \n",
    "rch = flopy.modflow.ModflowRch(model = mf, rech = rch_dict)"
   ]
  },
  {
   "cell_type": "code",
   "execution_count": 21,
   "metadata": {},
   "outputs": [],
   "source": [
    "# shoreline at 1700m , septic at 1700-60"
   ]
  },
  {
   "cell_type": "code",
   "execution_count": null,
   "metadata": {},
   "outputs": [],
   "source": []
  },
  {
   "cell_type": "markdown",
   "metadata": {},
   "source": [
    "# OC"
   ]
  },
  {
   "cell_type": "code",
   "execution_count": 22,
   "metadata": {},
   "outputs": [],
   "source": [
    "# OC\n",
    "spd = {}\n",
    "for kper in range(nper):\n",
    "    for kstp in range(1):\n",
    "        spd[(kper, kstp)] = [\n",
    "            \"save head\",\n",
    "            \"save drawdown\",\n",
    "            \"save budget\",\n",
    "            \"print head\",\n",
    "            \"print budget\",\n",
    "        ]\n",
    "\n",
    "oc = flopy.modflow.ModflowOc(\n",
    "    mf,\n",
    "    stress_period_data= spd,\n",
    "    compact=True\n",
    "    ,extension=['oc', 'hds', 'ddn', 'cbc', 'ibo']\n",
    ")\n",
    "\n",
    "#oc.reset_budgetunit(budgetunit=1053, fname='test.cbc')\n",
    "oc.reset_budgetunit(budgetunit=53, fname='example_model.cbc')"
   ]
  },
  {
   "cell_type": "code",
   "execution_count": null,
   "metadata": {},
   "outputs": [],
   "source": []
  },
  {
   "cell_type": "code",
   "execution_count": 23,
   "metadata": {},
   "outputs": [],
   "source": [
    "lmt = flopy.modflow.ModflowLmt(mf, output_file_name='mt3d_link.ftl')"
   ]
  },
  {
   "cell_type": "code",
   "execution_count": null,
   "metadata": {},
   "outputs": [],
   "source": []
  },
  {
   "cell_type": "code",
   "execution_count": null,
   "metadata": {},
   "outputs": [],
   "source": []
  },
  {
   "cell_type": "code",
   "execution_count": 24,
   "metadata": {},
   "outputs": [],
   "source": [
    "# Write the MODFLOW model input files\n",
    "mf.write_input()"
   ]
  },
  {
   "cell_type": "code",
   "execution_count": 25,
   "metadata": {},
   "outputs": [
    {
     "name": "stdout",
     "output_type": "stream",
     "text": [
      "FloPy is using the following executable to run the model: C:\\Users\\swan47\\AppData\\Local\\flopy\\bin\\mf2005.EXE\n",
      "\n",
      "                                  MODFLOW-2005     \n",
      "    U.S. GEOLOGICAL SURVEY MODULAR FINITE-DIFFERENCE GROUND-WATER FLOW MODEL\n",
      "                             Version 1.12.00 2/3/2017                        \n",
      "\n",
      " Using NAME file: example_model.nam \n",
      " Run start date and time (yyyy/mm/dd hh:mm:ss): 2023/12/13 13:36:18\n",
      "\n",
      " Solving:  Stress period:     1    Time step:     1    Ground-Water Flow Eqn.\n",
      " Solving:  Stress period:     2    Time step:     1    Ground-Water Flow Eqn.\n",
      " Solving:  Stress period:     3    Time step:     1    Ground-Water Flow Eqn.\n",
      " Solving:  Stress period:     4    Time step:     1    Ground-Water Flow Eqn.\n",
      " Solving:  Stress period:     5    Time step:     1    Ground-Water Flow Eqn.\n",
      " Solving:  Stress period:     6    Time step:     1    Ground-Water Flow Eqn.\n",
      " Solving:  Stress period:     7    Time step:     1    Ground-Water Flow Eqn.\n",
      " Solving:  Stress period:     8    Time step:     1    Ground-Water Flow Eqn.\n",
      " Solving:  Stress period:     9    Time step:     1    Ground-Water Flow Eqn.\n",
      " Solving:  Stress period:    10    Time step:     1    Ground-Water Flow Eqn.\n",
      " Run end date and time (yyyy/mm/dd hh:mm:ss): 2023/12/13 13:41:52\n",
      " Elapsed run time:  5 Minutes, 34.052 Seconds\n",
      "\n",
      "  Normal termination of simulation\n"
     ]
    }
   ],
   "source": [
    "# Run the MODFLOW model\n",
    "success, buff = mf.run_model()"
   ]
  },
  {
   "cell_type": "code",
   "execution_count": null,
   "metadata": {},
   "outputs": [],
   "source": []
  },
  {
   "cell_type": "code",
   "execution_count": null,
   "metadata": {},
   "outputs": [],
   "source": []
  },
  {
   "cell_type": "code",
   "execution_count": null,
   "metadata": {},
   "outputs": [],
   "source": []
  },
  {
   "cell_type": "markdown",
   "metadata": {},
   "source": [
    "# ---MT3DMS---"
   ]
  },
  {
   "cell_type": "code",
   "execution_count": 26,
   "metadata": {},
   "outputs": [],
   "source": [
    "mt = flopy.mt3d.Mt3dms(modflowmodel=mf, modelname='mt', exe_name='mt3dms.exe' ,ftlfilename='mt3d_link.ftl',model_ws=model_ws)"
   ]
  },
  {
   "cell_type": "code",
   "execution_count": null,
   "metadata": {},
   "outputs": [],
   "source": []
  },
  {
   "cell_type": "markdown",
   "metadata": {},
   "source": [
    "# ICBUND"
   ]
  },
  {
   "cell_type": "code",
   "execution_count": 27,
   "metadata": {},
   "outputs": [
    {
     "data": {
      "text/plain": [
       "<matplotlib.image.AxesImage at 0x242215aabd0>"
      ]
     },
     "execution_count": 27,
     "metadata": {},
     "output_type": "execute_result"
    },
    {
     "data": {
      "image/png": "[encoded data removed]",
      "text/plain": [
       "<Figure size 640x480 with 1 Axes>"
      ]
     },
     "metadata": {},
     "output_type": "display_data"
    }
   ],
   "source": [
    "icbund = ibound.copy()\n",
    "cc = np.where(icbund==-1)\n",
    "mask = cc[1]>2200/2/delr\n",
    "\n",
    "cc2 = (cc[0][mask],cc[1][mask],cc[2][mask])\n",
    "icbund[cc2] = 1\n",
    "plt.imshow(icbund[:,:,0])"
   ]
  },
  {
   "cell_type": "code",
   "execution_count": null,
   "metadata": {},
   "outputs": [],
   "source": []
  },
  {
   "cell_type": "markdown",
   "metadata": {},
   "source": [
    "# BTN ICBOUND "
   ]
  },
  {
   "cell_type": "code",
   "execution_count": 28,
   "metadata": {},
   "outputs": [],
   "source": [
    "#icbund = np.full((nlay, nrow, ncol),0, dtype=float)\n",
    "#\n",
    "btn = flopy.mt3d.Mt3dBtn(\n",
    "    mt,\n",
    "    nprs=5,\n",
    "    timprs=np.cumsum([200]*7),\n",
    "    prsity=0.25,\n",
    "    sconc= 0.01, # starting concentration\n",
    "    ifmtcn=0, chkmas=False, nprobs=10, nprmas=10,\n",
    "    dt0=5,  # The user-specified initial \n",
    "    ttsmult=1.4,\n",
    "    mxstrn = 50000,\n",
    "    icbund = icbund\n",
    ")\n"
   ]
  },
  {
   "cell_type": "code",
   "execution_count": null,
   "metadata": {},
   "outputs": [],
   "source": []
  },
  {
   "cell_type": "code",
   "execution_count": 29,
   "metadata": {},
   "outputs": [],
   "source": [
    "adv = flopy.mt3d.Mt3dAdv(mt, mixelm=0,percel=0.4,mxpart=50000000,nadvfd=0)\n",
    "dsp = flopy.mt3d.Mt3dDsp(mt, al=parms['al'], trpt=0.1, \n",
    "                        trpv=0.1, \n",
    "                        dmcoef=3.7E-10 )\n",
    "gcg = flopy.mt3d.Mt3dGcg(mt, iter1=50, mxiter=1, isolve=2, cclose= 1e-5)"
   ]
  },
  {
   "cell_type": "code",
   "execution_count": null,
   "metadata": {},
   "outputs": [],
   "source": []
  },
  {
   "cell_type": "markdown",
   "metadata": {},
   "source": [
    "# RCH"
   ]
  },
  {
   "cell_type": "code",
   "execution_count": 30,
   "metadata": {},
   "outputs": [],
   "source": [
    "# crch_array =  np.full(( nrow, ncol), 0.1, dtype=float)\n",
    "# crch_dict = {}\n",
    "# crch_dict[0] = crch_array\n",
    "# ssm = flopy.mt3d.Mt3dSsm(model, crch=crch_dict)\n",
    "\n",
    "# rch_dict = {}\n",
    "# rch_array = np.full(( nrow, ncol), 0.00013, dtype=float)\n",
    "# rch_dict[0] = rch_array\n",
    "# rch = flopy.modflow.ModflowRch(model = model, rech = rch_dict)\n",
    "\n",
    "\n",
    "# ## [row, col, rch(m3), crch, start, end]\n",
    "# rch_data = [[1100,1100,0.51,5000,1,20]]\n"
   ]
  },
  {
   "cell_type": "code",
   "execution_count": null,
   "metadata": {},
   "outputs": [],
   "source": []
  },
  {
   "cell_type": "code",
   "execution_count": null,
   "metadata": {},
   "outputs": [],
   "source": []
  },
  {
   "cell_type": "code",
   "execution_count": 31,
   "metadata": {},
   "outputs": [],
   "source": [
    "crch_array =  np.full(( nrow, ncol), 0.1, dtype=float)\n",
    "crch_dict = {}\n",
    "crch_dict[0] = crch_array\n",
    "\n",
    "crch_array =  np.full(( nrow, ncol), 0.1, dtype=float)\n",
    "\n",
    "# crch_array[int(nrow/2),int(ncol/2)] =5000\n",
    "# crch_array[int(nrow/2),int(ncol/3)] =5000\n",
    "crch_array[int((1700-450)/delr),int(ncol/3)] =5000\n",
    "crch_array[int((1700-450)/delr),int(ncol/2)] =5000\n",
    "spetic_locs = [[int((1700-450)/delr),int(ncol/3)], [int((1700-450)/delr),int(ncol/2)]]\n",
    "\n",
    "crch_dict = {}\n",
    "crch_dict[1] = crch_array\n",
    "\n",
    "\n",
    "crch_array =  np.full(( nrow, ncol), 0.1, dtype=float)\n",
    "crch_dict[69] = crch_array\n",
    "\n",
    "ssm = flopy.mt3d.Mt3dSsm(mt, crch=crch_dict)"
   ]
  },
  {
   "cell_type": "code",
   "execution_count": null,
   "metadata": {},
   "outputs": [],
   "source": []
  },
  {
   "cell_type": "code",
   "execution_count": 32,
   "metadata": {},
   "outputs": [
    {
     "data": {
      "image/png": "[encoded data removed]",
      "text/plain": [
       "<Figure size 1500x1000 with 1 Axes>"
      ]
     },
     "metadata": {},
     "output_type": "display_data"
    }
   ],
   "source": [
    "im = plt.imshow(ibound[:, :, 0], origin='upper')\n",
    "\n",
    "drns0 = np.unique([i for i in drn.stress_period_data.data[0] if i[2]==0])\n",
    "for i in drns0:\n",
    "    plt.scatter(i[1],i[0],c='cyan',s=5,marker='s')\n",
    "\n",
    "\n",
    "for i in spetic_locs:\n",
    "\n",
    "    plt.scatter([i[0],i[0],i[0],i[0]],[1,2,3,4],c='red',s=6,marker='s')\n",
    "    \n",
    "\n",
    "\n",
    "\n",
    "\n",
    "plt.gcf().set_size_inches(15,10)\n",
    "plt.show()"
   ]
  },
  {
   "cell_type": "code",
   "execution_count": null,
   "metadata": {},
   "outputs": [],
   "source": []
  },
  {
   "cell_type": "code",
   "execution_count": null,
   "metadata": {},
   "outputs": [],
   "source": []
  },
  {
   "cell_type": "markdown",
   "metadata": {},
   "source": [
    "# RCT"
   ]
  },
  {
   "cell_type": "code",
   "execution_count": 33,
   "metadata": {},
   "outputs": [],
   "source": [
    "rct = flopy.mt3d.Mt3dRct(model=mt, isothm=3,sp1=parms['sp1'],sp2=0.0001,igetsc=0,rhob= 1.65E+09)"
   ]
  },
  {
   "cell_type": "code",
   "execution_count": null,
   "metadata": {},
   "outputs": [],
   "source": []
  },
  {
   "cell_type": "code",
   "execution_count": null,
   "metadata": {},
   "outputs": [],
   "source": []
  },
  {
   "cell_type": "markdown",
   "metadata": {},
   "source": [
    "# Write and Run"
   ]
  },
  {
   "cell_type": "code",
   "execution_count": 34,
   "metadata": {},
   "outputs": [],
   "source": [
    "\n",
    "# Write MODFLOW input files\n",
    "mt.write_input()"
   ]
  },
  {
   "cell_type": "markdown",
   "metadata": {},
   "source": []
  },
  {
   "cell_type": "code",
   "execution_count": 35,
   "metadata": {},
   "outputs": [],
   "source": [
    "open_file(model_ws)"
   ]
  },
  {
   "cell_type": "code",
   "execution_count": null,
   "metadata": {},
   "outputs": [],
   "source": []
  },
  {
   "cell_type": "code",
   "execution_count": 36,
   "metadata": {},
   "outputs": [
    {
     "name": "stdout",
     "output_type": "stream",
     "text": [
      "FloPy is using the following executable to run the model: C:\\Users\\swan47\\AppData\\Local\\flopy\\bin\\mt3dms.exe\n",
      " MT3DMS - Modular 3-D Multi-Species Transport Model [Version 5.30]\n",
      " Developed at University of Alabama for U.S. Department of Defense\n",
      "\n",
      " Using NAME File: mt.nam                                            \n",
      "\n",
      " STRESS PERIOD NO.    1\n",
      "\n",
      " TIME STEP NO.    1\n",
      " FROM TIME =   0.0000     TO    365.00    \n",
      "\n",
      " Transport Step:    1   Step Size:   5.000     Total Elapsed Time:   5.0000    \n",
      " Outer Iter.  1  Inner Iter.  1:  Max. DC =  0.3099E-02  [K,I,J]   31   97  438\n",
      " Outer Iter.  1  Inner Iter.  2:  Max. DC =  0.8941E-06  [K,I,J]   21   37  422\n",
      " Transport Step:    2   Step Size:   7.000     Total Elapsed Time:   12.000    \n",
      " Outer Iter.  1  Inner Iter.  1:  Max. DC =  0.1575E-02  [K,I,J]   31   97  440\n",
      " Outer Iter.  1  Inner Iter.  2:  Max. DC =  0.2742E-05  [K,I,J]   21   37    3\n",
      " Transport Step:    3   Step Size:   9.800     Total Elapsed Time:   21.800    \n",
      " Outer Iter.  1  Inner Iter.  1:  Max. DC =  0.1715E-02  [K,I,J]   63  338    2\n",
      " Outer Iter.  1  Inner Iter.  2:  Max. DC =  0.9418E-05  [K,I,J]   63  338    1\n",
      " Transport Step:    4   Step Size:   13.72     Total Elapsed Time:   35.520    \n",
      " Outer Iter.  1  Inner Iter.  1:  Max. DC =  0.2094E-02  [K,I,J]   63  338    2\n",
      " Outer Iter.  1  Inner Iter.  2:  Max. DC =  0.2980E-04  [K,I,J]   63  338    1\n",
      " Outer Iter.  1  Inner Iter.  3:  Max. DC =  0.7153E-06  [K,I,J]   65  340    1\n",
      " Transport Step:    5   Step Size:   19.21     Total Elapsed Time:   54.728    \n",
      " Outer Iter.  1  Inner Iter.  1:  Max. DC =  0.2497E-02  [K,I,J]   63  338    2\n",
      " Outer Iter.  1  Inner Iter.  2:  Max. DC =  0.6986E-04  [K,I,J]   63  338    1\n",
      " Outer Iter.  1  Inner Iter.  3:  Max. DC =  0.2325E-05  [K,I,J]   65  340    1\n",
      " Transport Step:    6   Step Size:   26.89     Total Elapsed Time:   81.619    \n",
      " Outer Iter.  1  Inner Iter.  1:  Max. DC =  0.2917E-02  [K,I,J]   63  338    2\n",
      " Outer Iter.  1  Inner Iter.  2:  Max. DC =  0.1401E-03  [K,I,J]   63  338    1\n",
      " Outer Iter.  1  Inner Iter.  3:  Max. DC =  0.6020E-05  [K,I,J]   64  338    2\n",
      " Transport Step:    7   Step Size:   37.65     Total Elapsed Time:   119.27    \n",
      " Outer Iter.  1  Inner Iter.  1:  Max. DC =  0.3352E-02  [K,I,J]   63  338    2\n",
      " Outer Iter.  1  Inner Iter.  2:  Max. DC =  0.2466E-03  [K,I,J]   63  338    1\n",
      " Outer Iter.  1  Inner Iter.  3:  Max. DC =  0.1669E-04  [K,I,J]   64  338    2\n",
      " Outer Iter.  1  Inner Iter.  4:  Max. DC =  0.1669E-05  [K,I,J]   64  338    1\n",
      " Transport Step:    8   Step Size:   52.71     Total Elapsed Time:   171.97    \n",
      " Outer Iter.  1  Inner Iter.  1:  Max. DC =  0.3808E-02  [K,I,J]   63  338    2\n",
      " Outer Iter.  1  Inner Iter.  2:  Max. DC =  0.3916E-03  [K,I,J]   63  338    1\n",
      " Outer Iter.  1  Inner Iter.  3:  Max. DC =  0.4005E-04  [K,I,J]   64  338    2\n",
      " Outer Iter.  1  Inner Iter.  4:  Max. DC =  0.4530E-05  [K,I,J]   64  338    1\n",
      " Transport Step:    9   Step Size:   28.03     Total Elapsed Time:   200.00    \n",
      " Outer Iter.  1  Inner Iter.  1:  Max. DC =  0.1714E-02  [K,I,J]   63  338    3\n",
      " Outer Iter.  1  Inner Iter.  2:  Max. DC =  0.1028E-03  [K,I,J]   63  338    1\n",
      " Outer Iter.  1  Inner Iter.  3:  Max. DC =  0.4590E-05  [K,I,J]   64  338    2\n",
      " Transport Step:   10   Step Size:   103.3     Total Elapsed Time:   303.31    \n",
      " Outer Iter.  1  Inner Iter.  1:  Max. DC =  0.5281E-02  [K,I,J]   63  338    2\n",
      " Outer Iter.  1  Inner Iter.  2:  Max. DC =  0.8116E-03  [K,I,J]   63  338    1\n",
      " Outer Iter.  1  Inner Iter.  3:  Max. DC =  0.1725E-03  [K,I,J]   64  338    2\n",
      " Outer Iter.  1  Inner Iter.  4:  Max. DC =  0.1925E-04  [K,I,J]   64  338    1\n",
      " Outer Iter.  1  Inner Iter.  5:  Max. DC =  0.3040E-05  [K,I,J]   63  323    3\n",
      " Transport Step:   11   Step Size:   61.69     Total Elapsed Time:   365.00    \n",
      " Outer Iter.  1  Inner Iter.  1:  Max. DC =  0.2573E-02  [K,I,J]   63  338    2\n",
      " Outer Iter.  1  Inner Iter.  2:  Max. DC =  0.3201E-03  [K,I,J]   63  338    2\n",
      " Outer Iter.  1  Inner Iter.  3:  Max. DC =  0.3719E-04  [K,I,J]   64  338    2\n",
      " Outer Iter.  1  Inner Iter.  4:  Max. DC =  0.3815E-05  [K,I,J]   64  338    1\n",
      "\n",
      " STRESS PERIOD NO.    2\n",
      "\n",
      " TIME STEP NO.    1\n",
      " FROM TIME =   365.00     TO    730.00    \n",
      "\n",
      " Transport Step:    1   Step Size:   5.000     Total Elapsed Time:   370.00    \n",
      " Outer Iter.  1  Inner Iter.  1:  Max. DC =   7115.      [K,I,J]   51  251  221\n",
      " Outer Iter.  1  Inner Iter.  2:  Max. DC =   9.059      [K,I,J]   52  251  221\n",
      " Outer Iter.  1  Inner Iter.  3:  Max. DC =  0.7696E-02  [K,I,J]   52  252  147\n",
      " Outer Iter.  1  Inner Iter.  4:  Max. DC =  0.5794E-04  [K,I,J]   52  250  147\n",
      " Outer Iter.  1  Inner Iter.  5:  Max. DC =  0.1192E-06  [K,I,J]   52  250  147\n",
      " Transport Step:    2   Step Size:   7.000     Total Elapsed Time:   377.00    \n",
      " Outer Iter.  1  Inner Iter.  1:  Max. DC =   1.198      [K,I,J]   51  251  221\n",
      " Outer Iter.  1  Inner Iter.  2:  Max. DC =  0.5746E-02  [K,I,J]   52  251  147\n",
      " Outer Iter.  1  Inner Iter.  3:  Max. DC =  0.1359E-04  [K,I,J]   52  252  147\n",
      " Outer Iter.  1  Inner Iter.  4:  Max. DC =  0.5250E-07  [K,I,J]   52  250  147\n",
      " Transport Step:    3   Step Size:   9.800     Total Elapsed Time:   386.80    \n",
      " Outer Iter.  1  Inner Iter.  1:  Max. DC =  0.6350      [K,I,J]   51  251  221\n",
      " Outer Iter.  1  Inner Iter.  2:  Max. DC =  0.7763E-02  [K,I,J]   52  251  147\n",
      " Outer Iter.  1  Inner Iter.  3:  Max. DC =  0.4124E-04  [K,I,J]   52  252  147\n",
      " Outer Iter.  1  Inner Iter.  4:  Max. DC =  0.2152E-06  [K,I,J]   53  250  147\n",
      " Transport Step:    4   Step Size:   13.20     Total Elapsed Time:   400.00    \n",
      " Outer Iter.  1  Inner Iter.  1:  Max. DC =  0.4299      [K,I,J]   51  251  221\n",
      " Outer Iter.  1  Inner Iter.  2:  Max. DC =  0.9947E-02  [K,I,J]   52  251  147\n",
      " Outer Iter.  1  Inner Iter.  3:  Max. DC =  0.4235E-03  [K,I,J]   52  250  222\n",
      " Outer Iter.  1  Inner Iter.  4:  Max. DC =  0.7372E-04  [K,I,J]   52  252  147\n",
      " Outer Iter.  1  Inner Iter.  5:  Max. DC =  0.1855E-05  [K,I,J]   52  252  147\n",
      " Transport Step:    5   Step Size:   19.21     Total Elapsed Time:   419.21    \n",
      " Outer Iter.  1  Inner Iter.  1:  Max. DC =  0.3539      [K,I,J]   51  251  221\n",
      " Outer Iter.  1  Inner Iter.  2:  Max. DC =  0.1420E-01  [K,I,J]   52  251  147\n",
      " Outer Iter.  1  Inner Iter.  3:  Max. DC =  0.6120E-03  [K,I,J]   52  250  222\n",
      " Outer Iter.  1  Inner Iter.  4:  Max. DC =  0.2508E-03  [K,I,J]   52  252  147\n",
      " Outer Iter.  1  Inner Iter.  5:  Max. DC =  0.1861E-03  [K,I,J]   53  250  147\n",
      " Outer Iter.  1  Inner Iter.  6:  Max. DC =  0.1423E-03  [K,I,J]   53  250  147\n",
      " Outer Iter.  1  Inner Iter.  7:  Max. DC =  0.7718E-06  [K,I,J]   55  250  147\n",
      " Transport Step:    6   Step Size:   26.89     Total Elapsed Time:   446.10    \n",
      " Outer Iter.  1  Inner Iter.  1:  Max. DC =  0.2961      [K,I,J]   51  251  221\n",
      " Outer Iter.  1  Inner Iter.  2:  Max. DC =  0.1726E-01  [K,I,J]   52  251  147\n",
      " Outer Iter.  1  Inner Iter.  3:  Max. DC =  0.1361E-02  [K,I,J]   53  250  147\n",
      " Outer Iter.  1  Inner Iter.  4:  Max. DC =  0.6023E-03  [K,I,J]   54  250  147\n",
      " Outer Iter.  1  Inner Iter.  5:  Max. DC =  0.1288E-03  [K,I,J]   53  250  147\n",
      " Outer Iter.  1  Inner Iter.  6:  Max. DC =  0.1165E-03  [K,I,J]   54  250  147\n",
      " Outer Iter.  1  Inner Iter.  7:  Max. DC =  0.2789E-04  [K,I,J]   56  250  147\n",
      " Outer Iter.  1  Inner Iter.  8:  Max. DC =  0.8643E-06  [K,I,J]   54  251  147\n",
      " Transport Step:    7   Step Size:   37.65     Total Elapsed Time:   483.75    \n",
      " Outer Iter.  1  Inner Iter.  1:  Max. DC =  0.2569      [K,I,J]   51  251  221\n",
      " Outer Iter.  1  Inner Iter.  2:  Max. DC =  0.2039E-01  [K,I,J]   52  251  147\n",
      " Outer Iter.  1  Inner Iter.  3:  Max. DC =  0.2233E-02  [K,I,J]   53  250  147\n",
      " Outer Iter.  1  Inner Iter.  4:  Max. DC =  0.1101E-02  [K,I,J]   54  250  147\n",
      " Outer Iter.  1  Inner Iter.  5:  Max. DC =  0.2559E-03  [K,I,J]   52  252  147\n",
      " Outer Iter.  1  Inner Iter.  6:  Max. DC =  0.1092E-03  [K,I,J]   52  250  146\n",
      " Outer Iter.  1  Inner Iter.  7:  Max. DC =  0.2324E-04  [K,I,J]   56  250  147\n",
      " Outer Iter.  1  Inner Iter.  8:  Max. DC =  0.4712E-05  [K,I,J]   57  250  147\n",
      " Transport Step:    8   Step Size:   52.71     Total Elapsed Time:   536.45    \n",
      " Outer Iter.  1  Inner Iter.  1:  Max. DC =  0.2244      [K,I,J]   51  251  221\n",
      " Outer Iter.  1  Inner Iter.  2:  Max. DC =  0.2360E-01  [K,I,J]   52  251  147\n",
      " Outer Iter.  1  Inner Iter.  3:  Max. DC =  0.2413E-02  [K,I,J]   52  252  147\n",
      " Outer Iter.  1  Inner Iter.  4:  Max. DC =  0.4974E-03  [K,I,J]   52  252  147\n",
      " Outer Iter.  1  Inner Iter.  5:  Max. DC =  0.1620E-03  [K,I,J]   52  249  222\n",
      " Outer Iter.  1  Inner Iter.  6:  Max. DC =  0.5583E-04  [K,I,J]   55  251  147\n",
      " Outer Iter.  1  Inner Iter.  7:  Max. DC =  0.2353E-04  [K,I,J]   52  250  220\n",
      " Outer Iter.  1  Inner Iter.  8:  Max. DC =  0.2126E-05  [K,I,J]   52  249  220\n",
      " Transport Step:    9   Step Size:   63.55     Total Elapsed Time:   600.00    \n",
      " Outer Iter.  1  Inner Iter.  1:  Max. DC =  0.1726      [K,I,J]   51  251  221\n",
      " Outer Iter.  1  Inner Iter.  2:  Max. DC =  0.2231E-01  [K,I,J]   52  251  147\n",
      " Outer Iter.  1  Inner Iter.  3:  Max. DC =  0.2664E-02  [K,I,J]   52  252  147\n",
      " Outer Iter.  1  Inner Iter.  4:  Max. DC =  0.7001E-03  [K,I,J]   52  252  147\n",
      " Outer Iter.  1  Inner Iter.  5:  Max. DC =  0.4754E-04  [K,I,J]   52  250  220\n",
      " Outer Iter.  1  Inner Iter.  6:  Max. DC =  0.5377E-04  [K,I,J]   52  250  220\n",
      " Outer Iter.  1  Inner Iter.  7:  Max. DC =  0.4890E-05  [K,I,J]   58  250  220\n",
      " Transport Step:   10   Step Size:   103.3     Total Elapsed Time:   703.31    \n",
      " Outer Iter.  1  Inner Iter.  1:  Max. DC =  0.1686      [K,I,J]   51  251  221\n",
      " Outer Iter.  1  Inner Iter.  2:  Max. DC =  0.3013E-01  [K,I,J]   52  251  221\n",
      " Outer Iter.  1  Inner Iter.  3:  Max. DC =  0.5460E-02  [K,I,J]   52  252  147\n",
      " Outer Iter.  1  Inner Iter.  4:  Max. DC =  0.1985E-02  [K,I,J]   52  252  147\n",
      " Outer Iter.  1  Inner Iter.  5:  Max. DC =  0.4337E-03  [K,I,J]   52  250  220\n",
      " Outer Iter.  1  Inner Iter.  6:  Max. DC =  0.5491E-03  [K,I,J]   52  250  220\n",
      " Outer Iter.  1  Inner Iter.  7:  Max. DC =  0.9216E-04  [K,I,J]   57  251  147\n",
      " Outer Iter.  1  Inner Iter.  8:  Max. DC =  0.8179E-04  [K,I,J]   52  249  146\n",
      " Outer Iter.  1  Inner Iter.  9:  Max. DC =  0.1729E-04  [K,I,J]   59  251  221\n",
      " Outer Iter.  1  Inner Iter. 10:  Max. DC =  0.1402E-04  [K,I,J]   59  250  148\n",
      " Outer Iter.  1  Inner Iter. 11:  Max. DC =  0.4843E-05  [K,I,J]   52  251  222\n",
      " Transport Step:   11   Step Size:   26.69     Total Elapsed Time:   730.00    \n",
      " Outer Iter.  1  Inner Iter.  1:  Max. DC =  0.3651E-01  [K,I,J]   51  251  221\n",
      " Outer Iter.  1  Inner Iter.  2:  Max. DC =  0.3674E-02  [K,I,J]   52  251  147\n",
      " Outer Iter.  1  Inner Iter.  3:  Max. DC =  0.2985E-03  [K,I,J]   51  251  147\n",
      " Outer Iter.  1  Inner Iter.  4:  Max. DC =  0.3231E-03  [K,I,J]   52  250  222\n",
      " Outer Iter.  1  Inner Iter.  5:  Max. DC =  0.8705E-04  [K,I,J]   52  252  147\n",
      " Outer Iter.  1  Inner Iter.  6:  Max. DC =  0.4273E-04  [K,I,J]   52  249  222\n",
      " Outer Iter.  1  Inner Iter.  7:  Max. DC =  0.6381E-05  [K,I,J]   52  251  220\n",
      "\n",
      " STRESS PERIOD NO.    3\n",
      "\n",
      " TIME STEP NO.    1\n",
      " FROM TIME =   730.00     TO    1095.0    \n",
      "\n",
      " Transport Step:    1   Step Size:   5.000     Total Elapsed Time:   735.00    \n",
      " Outer Iter.  1  Inner Iter.  1:  Max. DC =  0.6496E-02  [K,I,J]   52  251  221\n",
      " Outer Iter.  1  Inner Iter.  2:  Max. DC =  0.1872E-03  [K,I,J]   52  251  147\n",
      " Outer Iter.  1  Inner Iter.  3:  Max. DC =  0.9880E-04  [K,I,J]   52  250  222\n",
      " Outer Iter.  1  Inner Iter.  4:  Max. DC =  0.1277E-04  [K,I,J]   56  250  146\n",
      " Outer Iter.  1  Inner Iter.  5:  Max. DC =  0.6139E-05  [K,I,J]   56  250  146\n",
      " Transport Step:    2   Step Size:   7.000     Total Elapsed Time:   742.00    \n",
      " Outer Iter.  1  Inner Iter.  1:  Max. DC =  0.8741E-02  [K,I,J]   52  251  147\n",
      " Outer Iter.  1  Inner Iter.  2:  Max. DC =  0.2371E-03  [K,I,J]   52  251  147\n",
      " Outer Iter.  1  Inner Iter.  3:  Max. DC =  0.9079E-04  [K,I,J]   52  250  148\n",
      " Outer Iter.  1  Inner Iter.  4:  Max. DC =  0.1918E-04  [K,I,J]   56  250  148\n",
      " Outer Iter.  1  Inner Iter.  5:  Max. DC =  0.4768E-05  [K,I,J]   51  251  147\n",
      " Transport Step:    3   Step Size:   9.800     Total Elapsed Time:   751.80    \n",
      " Outer Iter.  1  Inner Iter.  1:  Max. DC =  0.1170E-01  [K,I,J]   51  251  147\n",
      " Outer Iter.  1  Inner Iter.  2:  Max. DC =  0.4623E-03  [K,I,J]   52  251  147\n",
      " Outer Iter.  1  Inner Iter.  3:  Max. DC =  0.1526E-04  [K,I,J]   51  251  147\n",
      " Outer Iter.  1  Inner Iter.  4:  Max. DC =  0.1639E-04  [K,I,J]   52  249  148\n",
      " Outer Iter.  1  Inner Iter.  5:  Max. DC =  0.3982E-04  [K,I,J]   52  250  220\n",
      " Outer Iter.  1  Inner Iter.  6:  Max. DC =  0.2670E-04  [K,I,J]   53  250  220\n",
      " Outer Iter.  1  Inner Iter.  7:  Max. DC =  0.6247E-06  [K,I,J]   52  250  148\n",
      " Transport Step:    4   Step Size:   13.72     Total Elapsed Time:   765.52    \n",
      " Outer Iter.  1  Inner Iter.  1:  Max. DC =  0.1541E-01  [K,I,J]   51  251  147\n",
      " Outer Iter.  1  Inner Iter.  2:  Max. DC =  0.9162E-03  [K,I,J]   52  251  147\n",
      " Outer Iter.  1  Inner Iter.  3:  Max. DC =  0.4896E-04  [K,I,J]   52  250  220\n",
      " Outer Iter.  1  Inner Iter.  4:  Max. DC =  0.5631E-04  [K,I,J]   52  250  220\n",
      " Outer Iter.  1  Inner Iter.  5:  Max. DC =  0.4947E-05  [K,I,J]   52  252  147\n",
      " Transport Step:    5   Step Size:   19.21     Total Elapsed Time:   784.73    \n",
      " Outer Iter.  1  Inner Iter.  1:  Max. DC =  0.1991E-01  [K,I,J]   53  251  147\n",
      " Outer Iter.  1  Inner Iter.  2:  Max. DC =  0.1700E-02  [K,I,J]   52  251  147\n",
      " Outer Iter.  1  Inner Iter.  3:  Max. DC =  0.8595E-04  [K,I,J]   51  251  147\n",
      " Outer Iter.  1  Inner Iter.  4:  Max. DC =  0.1305E-03  [K,I,J]   52  250  148\n",
      " Outer Iter.  1  Inner Iter.  5:  Max. DC =  0.1948E-04  [K,I,J]   52  252  147\n",
      " Outer Iter.  1  Inner Iter.  6:  Max. DC =  0.1246E-04  [K,I,J]   52  249  148\n",
      " Outer Iter.  1  Inner Iter.  7:  Max. DC =  0.2663E-05  [K,I,J]   56  250  146\n",
      " Transport Step:    6   Step Size:   15.27     Total Elapsed Time:   800.00    \n",
      " Outer Iter.  1  Inner Iter.  1:  Max. DC =  0.1497E-01  [K,I,J]   53  251  147\n",
      " Outer Iter.  1  Inner Iter.  2:  Max. DC =  0.1040E-02  [K,I,J]   52  251  147\n",
      " Outer Iter.  1  Inner Iter.  3:  Max. DC =  0.4160E-04  [K,I,J]   51  251  147\n",
      " Outer Iter.  1  Inner Iter.  4:  Max. DC =  0.7655E-04  [K,I,J]   52  250  220\n",
      " Outer Iter.  1  Inner Iter.  5:  Max. DC =  0.8270E-05  [K,I,J]   52  252  147\n",
      " Transport Step:    7   Step Size:   37.65     Total Elapsed Time:   837.65    \n",
      " Outer Iter.  1  Inner Iter.  1:  Max. DC =  0.3257E-01  [K,I,J]   53  251  221\n",
      " Outer Iter.  1  Inner Iter.  2:  Max. DC =  0.4847E-02  [K,I,J]   52  251  147\n",
      " Outer Iter.  1  Inner Iter.  3:  Max. DC =  0.4631E-03  [K,I,J]   51  251  147\n",
      " Outer Iter.  1  Inner Iter.  4:  Max. DC =  0.3760E-03  [K,I,J]   52  250  146\n",
      " Outer Iter.  1  Inner Iter.  5:  Max. DC =  0.1358E-03  [K,I,J]   52  252  147\n",
      " Outer Iter.  1  Inner Iter.  6:  Max. DC =  0.5102E-04  [K,I,J]   52  249  220\n",
      " Outer Iter.  1  Inner Iter.  7:  Max. DC =  0.1863E-04  [K,I,J]   52  250  147\n",
      " Outer Iter.  1  Inner Iter.  8:  Max. DC =  0.6141E-05  [K,I,J]   52  250  147\n",
      " Transport Step:    8   Step Size:   52.71     Total Elapsed Time:   890.35    \n",
      " Outer Iter.  1  Inner Iter.  1:  Max. DC =  0.3851E-01  [K,I,J]   53  251  221\n",
      " Outer Iter.  1  Inner Iter.  2:  Max. DC =  0.7139E-02  [K,I,J]   52  251  147\n",
      " Outer Iter.  1  Inner Iter.  3:  Max. DC =  0.9232E-03  [K,I,J]   51  251  147\n",
      " Outer Iter.  1  Inner Iter.  4:  Max. DC =  0.2172E-03  [K,I,J]   52  252  221\n",
      " Outer Iter.  1  Inner Iter.  5:  Max. DC =  0.1427E-03  [K,I,J]   52  250  146\n",
      " Outer Iter.  1  Inner Iter.  6:  Max. DC =  0.3082E-04  [K,I,J]   53  251  147\n",
      " Outer Iter.  1  Inner Iter.  7:  Max. DC =  0.3283E-04  [K,I,J]   52  249  146\n",
      " Outer Iter.  1  Inner Iter.  8:  Max. DC =  0.6400E-05  [K,I,J]   52  251  148\n",
      " Transport Step:    9   Step Size:   73.79     Total Elapsed Time:   964.14    \n",
      " Outer Iter.  1  Inner Iter.  1:  Max. DC =  0.4372E-01  [K,I,J]   54  251  221\n",
      " Outer Iter.  1  Inner Iter.  2:  Max. DC =  0.9618E-02  [K,I,J]   52  251  147\n",
      " Outer Iter.  1  Inner Iter.  3:  Max. DC =  0.1764E-02  [K,I,J]   51  251  147\n",
      " Outer Iter.  1  Inner Iter.  4:  Max. DC =  0.3255E-03  [K,I,J]   52  252  147\n",
      " Outer Iter.  1  Inner Iter.  5:  Max. DC =  0.1022E-03  [K,I,J]   52  250  146\n",
      " Outer Iter.  1  Inner Iter.  6:  Max. DC =  0.4736E-04  [K,I,J]   52  250  146\n",
      " Outer Iter.  1  Inner Iter.  7:  Max. DC =  0.2614E-04  [K,I,J]   52  249  220\n",
      " Outer Iter.  1  Inner Iter.  8:  Max. DC =  0.1249E-04  [K,I,J]   54  251  147\n",
      " Outer Iter.  1  Inner Iter.  9:  Max. DC =  0.3146E-05  [K,I,J]   52  253  147\n",
      " Transport Step:   10   Step Size:   35.86     Total Elapsed Time:   1000.0    \n",
      " Outer Iter.  1  Inner Iter.  1:  Max. DC =  0.1937E-01  [K,I,J]   53  251  147\n",
      " Outer Iter.  1  Inner Iter.  2:  Max. DC =  0.3177E-02  [K,I,J]   52  251  147\n",
      " Outer Iter.  1  Inner Iter.  3:  Max. DC =  0.2793E-03  [K,I,J]   51  251  147\n",
      " Outer Iter.  1  Inner Iter.  4:  Max. DC =  0.3403E-04  [K,I,J]   52  252  147\n",
      " Outer Iter.  1  Inner Iter.  5:  Max. DC =  0.9918E-05  [K,I,J]   52  250  220\n",
      " Transport Step:   11   Step Size:   95.00     Total Elapsed Time:   1095.0    \n",
      " Outer Iter.  1  Inner Iter.  1:  Max. DC =  0.4186E-01  [K,I,J]   54  251  221\n",
      " Outer Iter.  1  Inner Iter.  2:  Max. DC =  0.1009E-01  [K,I,J]   52  251  147\n",
      " Outer Iter.  1  Inner Iter.  3:  Max. DC =  0.2505E-02  [K,I,J]   51  252  221\n",
      " Outer Iter.  1  Inner Iter.  4:  Max. DC =  0.3684E-03  [K,I,J]   52  252  221\n",
      " Outer Iter.  1  Inner Iter.  5:  Max. DC =  0.6501E-04  [K,I,J]   52  252  147\n",
      " Outer Iter.  1  Inner Iter.  6:  Max. DC =  0.1019E-04  [K,I,J]   54  251  147\n",
      " Outer Iter.  1  Inner Iter.  7:  Max. DC =  0.1502E-04  [K,I,J]   52  250  223\n",
      " Outer Iter.  1  Inner Iter.  8:  Max. DC =  0.3945E-05  [K,I,J]   52  253  147\n",
      "\n",
      " STRESS PERIOD NO.    4\n",
      "\n",
      " TIME STEP NO.    1\n",
      " FROM TIME =   1095.0     TO    1460.0    \n",
      "\n",
      " Transport Step:    1   Step Size:   5.000     Total Elapsed Time:   1100.0    \n",
      " Outer Iter.  1  Inner Iter.  1:  Max. DC =  0.2185E-02  [K,I,J]   53  251  147\n",
      " Outer Iter.  1  Inner Iter.  2:  Max. DC =  0.4834E-04  [K,I,J]   52  251  147\n",
      " Outer Iter.  1  Inner Iter.  3:  Max. DC =  0.2088E-04  [K,I,J]   52  250  145\n",
      " Outer Iter.  1  Inner Iter.  4:  Max. DC =  0.1192E-05  [K,I,J]   51  251  147\n",
      " Transport Step:    2   Step Size:   7.000     Total Elapsed Time:   1107.0    \n",
      " Outer Iter.  1  Inner Iter.  1:  Max. DC =  0.3008E-02  [K,I,J]   53  251  147\n",
      " Outer Iter.  1  Inner Iter.  2:  Max. DC =  0.1022E-03  [K,I,J]   52  251  147\n",
      " Outer Iter.  1  Inner Iter.  3:  Max. DC =  0.1230E-04  [K,I,J]   52  250  145\n",
      " Outer Iter.  1  Inner Iter.  4:  Max. DC =  0.2608E-05  [K,I,J]   51  252  147\n",
      " Transport Step:    3   Step Size:   9.800     Total Elapsed Time:   1116.8    \n",
      " Outer Iter.  1  Inner Iter.  1:  Max. DC =  0.4112E-02  [K,I,J]   53  251  147\n",
      " Outer Iter.  1  Inner Iter.  2:  Max. DC =  0.2162E-03  [K,I,J]   52  251  147\n",
      " Outer Iter.  1  Inner Iter.  3:  Max. DC =  0.4709E-05  [K,I,J]   51  252  147\n",
      " Transport Step:    4   Step Size:   13.72     Total Elapsed Time:   1130.5    \n",
      " Outer Iter.  1  Inner Iter.  1:  Max. DC =  0.5560E-02  [K,I,J]   53  251  147\n",
      " Outer Iter.  1  Inner Iter.  2:  Max. DC =  0.4329E-03  [K,I,J]   52  251  147\n",
      " Outer Iter.  1  Inner Iter.  3:  Max. DC =  0.1222E-04  [K,I,J]   51  252  147\n",
      " Outer Iter.  1  Inner Iter.  4:  Max. DC =  0.1565E-05  [K,I,J]   52  252  147\n",
      " Transport Step:    5   Step Size:   19.21     Total Elapsed Time:   1149.7    \n",
      " Outer Iter.  1  Inner Iter.  1:  Max. DC =  0.7458E-02  [K,I,J]   54  251  147\n",
      " Outer Iter.  1  Inner Iter.  2:  Max. DC =  0.8138E-03  [K,I,J]   52  251  147\n",
      " Outer Iter.  1  Inner Iter.  3:  Max. DC =  0.3678E-04  [K,I,J]   51  252  147\n",
      " Outer Iter.  1  Inner Iter.  4:  Max. DC =  0.2459E-05  [K,I,J]   52  252  147\n",
      " Transport Step:    6   Step Size:   26.89     Total Elapsed Time:   1176.6    \n",
      " Outer Iter.  1  Inner Iter.  1:  Max. DC =  0.9899E-02  [K,I,J]   54  251  147\n",
      " Outer Iter.  1  Inner Iter.  2:  Max. DC =  0.1430E-02  [K,I,J]   52  251  147\n",
      " Outer Iter.  1  Inner Iter.  3:  Max. DC =  0.1009E-03  [K,I,J]   51  252  147\n",
      " Outer Iter.  1  Inner Iter.  4:  Max. DC =  0.8434E-05  [K,I,J]   52  252  147\n",
      " Transport Step:    7   Step Size:   23.38     Total Elapsed Time:   1200.0    \n",
      " Outer Iter.  1  Inner Iter.  1:  Max. DC =  0.8200E-02  [K,I,J]   54  251  147\n",
      " Outer Iter.  1  Inner Iter.  2:  Max. DC =  0.1095E-02  [K,I,J]   52  252  147\n",
      " Outer Iter.  1  Inner Iter.  3:  Max. DC =  0.6545E-04  [K,I,J]   51  252  147\n",
      " Outer Iter.  1  Inner Iter.  4:  Max. DC =  0.4977E-05  [K,I,J]   52  252  147\n",
      " Transport Step:    8   Step Size:   52.71     Total Elapsed Time:   1252.7    \n",
      " Outer Iter.  1  Inner Iter.  1:  Max. DC =  0.1659E-01  [K,I,J]   54  251  147\n",
      " Outer Iter.  1  Inner Iter.  2:  Max. DC =  0.3751E-02  [K,I,J]   52  252  147\n",
      " Outer Iter.  1  Inner Iter.  3:  Max. DC =  0.5865E-03  [K,I,J]   51  252  147\n",
      " Outer Iter.  1  Inner Iter.  4:  Max. DC =  0.5975E-04  [K,I,J]   52  252  147\n",
      " Outer Iter.  1  Inner Iter.  5:  Max. DC =  0.1029E-04  [K,I,J]   52  250  147\n",
      " Outer Iter.  1  Inner Iter.  6:  Max. DC =  0.1668E-04  [K,I,J]   52  250  219\n",
      " Outer Iter.  1  Inner Iter.  7:  Max. DC =  0.3874E-05  [K,I,J]   52  251  147\n",
      " Transport Step:    9   Step Size:   73.79     Total Elapsed Time:   1326.5    \n",
      " Outer Iter.  1  Inner Iter.  1:  Max. DC =  0.2011E-01  [K,I,J]   54  251  147\n",
      " Outer Iter.  1  Inner Iter.  2:  Max. DC =  0.5448E-02  [K,I,J]   52  252  147\n",
      " Outer Iter.  1  Inner Iter.  3:  Max. DC =  0.1248E-02  [K,I,J]   51  252  147\n",
      " Outer Iter.  1  Inner Iter.  4:  Max. DC =  0.1250E-03  [K,I,J]   52  252  147\n",
      " Outer Iter.  1  Inner Iter.  5:  Max. DC =  0.2297E-04  [K,I,J]   52  250  147\n",
      " Outer Iter.  1  Inner Iter.  6:  Max. DC =  0.1361E-04  [K,I,J]   52  250  145\n",
      " Outer Iter.  1  Inner Iter.  7:  Max. DC =  0.1000E-04  [K,I,J]   52  250  145\n",
      " Outer Iter.  1  Inner Iter.  8:  Max. DC =  0.1587E-05  [K,I,J]   54  250  147\n",
      " Transport Step:   10   Step Size:   73.50     Total Elapsed Time:   1400.0    \n",
      " Outer Iter.  1  Inner Iter.  1:  Max. DC =  0.1769E-01  [K,I,J]   55  251  147\n",
      " Outer Iter.  1  Inner Iter.  2:  Max. DC =  0.5120E-02  [K,I,J]   52  252  147\n",
      " Outer Iter.  1  Inner Iter.  3:  Max. DC =  0.1187E-02  [K,I,J]   51  252  147\n",
      " Outer Iter.  1  Inner Iter.  4:  Max. DC =  0.1113E-03  [K,I,J]   52  252  147\n",
      " Outer Iter.  1  Inner Iter.  5:  Max. DC =  0.2082E-04  [K,I,J]   52  250  147\n",
      " Outer Iter.  1  Inner Iter.  6:  Max. DC =  0.6612E-05  [K,I,J]   52  250  145\n",
      " Transport Step:   11   Step Size:   60.00     Total Elapsed Time:   1460.0    \n",
      " Outer Iter.  1  Inner Iter.  1:  Max. DC =  0.1317E-01  [K,I,J]   55  251  147\n",
      " Outer Iter.  1  Inner Iter.  2:  Max. DC =  0.3816E-02  [K,I,J]   52  252  147\n",
      " Outer Iter.  1  Inner Iter.  3:  Max. DC =  0.7135E-03  [K,I,J]   51  252  147\n",
      " Outer Iter.  1  Inner Iter.  4:  Max. DC =  0.6247E-04  [K,I,J]   52  252  147\n",
      " Outer Iter.  1  Inner Iter.  5:  Max. DC =  0.1011E-04  [K,I,J]   52  250  147\n",
      " Outer Iter.  1  Inner Iter.  6:  Max. DC =  0.4886E-05  [K,I,J]   52  250  219\n",
      "\n",
      " STRESS PERIOD NO.    5\n",
      "\n",
      " TIME STEP NO.    1\n",
      " FROM TIME =   1460.0     TO    1825.0    \n",
      "\n",
      " Transport Step:    1   Step Size:   5.000     Total Elapsed Time:   1465.0    \n",
      " Outer Iter.  1  Inner Iter.  1:  Max. DC =  0.1124E-02  [K,I,J]   51  252  147\n",
      " Outer Iter.  1  Inner Iter.  2:  Max. DC =  0.3684E-04  [K,I,J]   52  252  147\n",
      " Outer Iter.  1  Inner Iter.  3:  Max. DC =  0.5310E-05  [K,I,J]   52  250  223\n",
      " Transport Step:    2   Step Size:   7.000     Total Elapsed Time:   1472.0    \n",
      " Outer Iter.  1  Inner Iter.  1:  Max. DC =  0.1562E-02  [K,I,J]   51  252  147\n",
      " Outer Iter.  1  Inner Iter.  2:  Max. DC =  0.8041E-04  [K,I,J]   52  252  147\n",
      " Outer Iter.  1  Inner Iter.  3:  Max. DC =  0.1043E-05  [K,I,J]   51  252  147\n",
      " Transport Step:    3   Step Size:   9.800     Total Elapsed Time:   1481.8    \n",
      " Outer Iter.  1  Inner Iter.  1:  Max. DC =  0.2158E-02  [K,I,J]   53  252  221\n",
      " Outer Iter.  1  Inner Iter.  2:  Max. DC =  0.1688E-03  [K,I,J]   52  252  147\n",
      " Outer Iter.  1  Inner Iter.  3:  Max. DC =  0.2891E-05  [K,I,J]   51  252  147\n",
      " Transport Step:    4   Step Size:   13.72     Total Elapsed Time:   1495.5    \n",
      " Outer Iter.  1  Inner Iter.  1:  Max. DC =  0.2963E-02  [K,I,J]   53  252  147\n",
      " Outer Iter.  1  Inner Iter.  2:  Max. DC =  0.3356E-03  [K,I,J]   52  252  147\n",
      " Outer Iter.  1  Inner Iter.  3:  Max. DC =  0.9745E-05  [K,I,J]   51  252  147\n",
      " Transport Step:    5   Step Size:   19.21     Total Elapsed Time:   1514.7    \n",
      " Outer Iter.  1  Inner Iter.  1:  Max. DC =  0.4027E-02  [K,I,J]   53  252  221\n",
      " Outer Iter.  1  Inner Iter.  2:  Max. DC =  0.6299E-03  [K,I,J]   52  252  147\n",
      " Outer Iter.  1  Inner Iter.  3:  Max. DC =  0.2939E-04  [K,I,J]   51  252  147\n",
      " Outer Iter.  1  Inner Iter.  4:  Max. DC =  0.3471E-05  [K,I,J]   52  250  219\n",
      " Transport Step:    6   Step Size:   26.89     Total Elapsed Time:   1541.6    \n",
      " Outer Iter.  1  Inner Iter.  1:  Max. DC =  0.5445E-02  [K,I,J]   54  252  147\n",
      " Outer Iter.  1  Inner Iter.  2:  Max. DC =  0.1112E-02  [K,I,J]   52  252  147\n",
      " Outer Iter.  1  Inner Iter.  3:  Max. DC =  0.8067E-04  [K,I,J]   51  252  147\n",
      " Outer Iter.  1  Inner Iter.  4:  Max. DC =  0.5156E-05  [K,I,J]   52  252  147\n",
      " Transport Step:    7   Step Size:   37.65     Total Elapsed Time:   1579.3    \n",
      " Outer Iter.  1  Inner Iter.  1:  Max. DC =  0.7320E-02  [K,I,J]   54  252  147\n",
      " Outer Iter.  1  Inner Iter.  2:  Max. DC =  0.1842E-02  [K,I,J]   52  252  147\n",
      " Outer Iter.  1  Inner Iter.  3:  Max. DC =  0.2034E-03  [K,I,J]   51  252  147\n",
      " Outer Iter.  1  Inner Iter.  4:  Max. DC =  0.1454E-04  [K,I,J]   52  252  147\n",
      " Outer Iter.  1  Inner Iter.  5:  Max. DC =  0.4908E-05  [K,I,J]   52  250  219\n",
      " Transport Step:    8   Step Size:   52.71     Total Elapsed Time:   1632.0    \n",
      " Outer Iter.  1  Inner Iter.  1:  Max. DC =  0.9655E-02  [K,I,J]   54  252  221\n",
      " Outer Iter.  1  Inner Iter.  2:  Max. DC =  0.2842E-02  [K,I,J]   52  252  147\n",
      " Outer Iter.  1  Inner Iter.  3:  Max. DC =  0.4728E-03  [K,I,J]   51  252  147\n",
      " Outer Iter.  1  Inner Iter.  4:  Max. DC =  0.3769E-04  [K,I,J]   52  253  147\n",
      " Outer Iter.  1  Inner Iter.  5:  Max. DC =  0.6504E-05  [K,I,J]   52  250  147\n",
      " Transport Step:    9   Step Size:   73.79     Total Elapsed Time:   1705.8    \n",
      " Outer Iter.  1  Inner Iter.  1:  Max. DC =  0.1244E-01  [K,I,J]   54  252  221\n",
      " Outer Iter.  1  Inner Iter.  2:  Max. DC =  0.4056E-02  [K,I,J]   52  252  221\n",
      " Outer Iter.  1  Inner Iter.  3:  Max. DC =  0.1016E-02  [K,I,J]   51  252  147\n",
      " Outer Iter.  1  Inner Iter.  4:  Max. DC =  0.8695E-04  [K,I,J]   52  253  147\n",
      " Outer Iter.  1  Inner Iter.  5:  Max. DC =  0.1765E-04  [K,I,J]   52  250  147\n",
      " Outer Iter.  1  Inner Iter.  6:  Max. DC =  0.4232E-05  [K,I,J]   52  251  147\n",
      " Transport Step:   10   Step Size:   103.3     Total Elapsed Time:   1809.1    \n",
      " Outer Iter.  1  Inner Iter.  1:  Max. DC =  0.1576E-01  [K,I,J]   55  252  147\n",
      " Outer Iter.  1  Inner Iter.  2:  Max. DC =  0.5305E-02  [K,I,J]   52  252  147\n",
      " Outer Iter.  1  Inner Iter.  3:  Max. DC =  0.1999E-02  [K,I,J]   51  252  147\n",
      " Outer Iter.  1  Inner Iter.  4:  Max. DC =  0.1930E-03  [K,I,J]   52  250  221\n",
      " Outer Iter.  1  Inner Iter.  5:  Max. DC =  0.4171E-04  [K,I,J]   52  250  147\n",
      " Outer Iter.  1  Inner Iter.  6:  Max. DC =  0.6795E-05  [K,I,J]   52  251  147\n",
      " Transport Step:   11   Step Size:   15.93     Total Elapsed Time:   1825.0    \n",
      " Outer Iter.  1  Inner Iter.  1:  Max. DC =  0.2599E-02  [K,I,J]   54  252  221\n",
      " Outer Iter.  1  Inner Iter.  2:  Max. DC =  0.3680E-03  [K,I,J]   52  252  147\n",
      " Outer Iter.  1  Inner Iter.  3:  Max. DC =  0.1350E-04  [K,I,J]   51  252  147\n",
      " Outer Iter.  1  Inner Iter.  4:  Max. DC =  0.5960E-06  [K,I,J]   51  251  147\n",
      "\n",
      " STRESS PERIOD NO.    6\n",
      "\n",
      " TIME STEP NO.    1\n",
      " FROM TIME =   1825.0     TO    2190.0    \n",
      "\n",
      " Transport Step:    1   Step Size:   5.000     Total Elapsed Time:   1830.0    \n",
      " Outer Iter.  1  Inner Iter.  1:  Max. DC =  0.8267E-03  [K,I,J]   53  252  221\n",
      " Outer Iter.  1  Inner Iter.  2:  Max. DC =  0.2980E-04  [K,I,J]   52  252  147\n",
      " Outer Iter.  1  Inner Iter.  3:  Max. DC =  0.1490E-06  [K,I,J]   51  252  147\n",
      " Transport Step:    2   Step Size:   7.000     Total Elapsed Time:   1837.0    \n",
      " Outer Iter.  1  Inner Iter.  1:  Max. DC =  0.1148E-02  [K,I,J]   53  252  147\n",
      " Outer Iter.  1  Inner Iter.  2:  Max. DC =  0.6548E-04  [K,I,J]   52  252  147\n",
      " Outer Iter.  1  Inner Iter.  3:  Max. DC =  0.6557E-06  [K,I,J]   51  252  147\n",
      " Transport Step:    3   Step Size:   9.800     Total Elapsed Time:   1846.8    \n",
      " Outer Iter.  1  Inner Iter.  1:  Max. DC =  0.1585E-02  [K,I,J]   53  252  221\n",
      " Outer Iter.  1  Inner Iter.  2:  Max. DC =  0.1366E-03  [K,I,J]   52  252  147\n",
      " Outer Iter.  1  Inner Iter.  3:  Max. DC =  0.2354E-05  [K,I,J]   51  252  147\n",
      " Transport Step:    4   Step Size:   13.72     Total Elapsed Time:   1860.5    \n",
      " Outer Iter.  1  Inner Iter.  1:  Max. DC =  0.2176E-02  [K,I,J]   54  252  221\n",
      " Outer Iter.  1  Inner Iter.  2:  Max. DC =  0.2696E-03  [K,I,J]   52  252  147\n",
      " Outer Iter.  1  Inner Iter.  3:  Max. DC =  0.7957E-05  [K,I,J]   51  252  147\n",
      " Transport Step:    5   Step Size:   19.21     Total Elapsed Time:   1879.7    \n",
      " Outer Iter.  1  Inner Iter.  1:  Max. DC =  0.2990E-02  [K,I,J]   54  252  221\n",
      " Outer Iter.  1  Inner Iter.  2:  Max. DC =  0.5014E-03  [K,I,J]   52  252  147\n",
      " Outer Iter.  1  Inner Iter.  3:  Max. DC =  0.2426E-04  [K,I,J]   51  252  147\n",
      " Outer Iter.  1  Inner Iter.  4:  Max. DC =  0.1073E-05  [K,I,J]   51  251  147\n",
      " Transport Step:    6   Step Size:   26.89     Total Elapsed Time:   1906.6    \n",
      " Outer Iter.  1  Inner Iter.  1:  Max. DC =  0.4065E-02  [K,I,J]   54  252  147\n",
      " Outer Iter.  1  Inner Iter.  2:  Max. DC =  0.8762E-03  [K,I,J]   52  252  221\n",
      " Outer Iter.  1  Inner Iter.  3:  Max. DC =  0.6729E-04  [K,I,J]   51  252  147\n",
      " Outer Iter.  1  Inner Iter.  4:  Max. DC =  0.4113E-05  [K,I,J]   52  253  147\n",
      " Transport Step:    7   Step Size:   37.65     Total Elapsed Time:   1944.3    \n",
      " Outer Iter.  1  Inner Iter.  1:  Max. DC =  0.5446E-02  [K,I,J]   54  252  147\n",
      " Outer Iter.  1  Inner Iter.  2:  Max. DC =  0.1433E-02  [K,I,J]   52  252  147\n",
      " Outer Iter.  1  Inner Iter.  3:  Max. DC =  0.1705E-03  [K,I,J]   51  252  147\n",
      " Outer Iter.  1  Inner Iter.  4:  Max. DC =  0.1377E-04  [K,I,J]   52  253  147\n",
      " Outer Iter.  1  Inner Iter.  5:  Max. DC =  0.1490E-05  [K,I,J]   52  251  147\n",
      " Transport Step:    8   Step Size:   52.71     Total Elapsed Time:   1997.0    \n",
      " Outer Iter.  1  Inner Iter.  1:  Max. DC =  0.7188E-02  [K,I,J]   55  252  147\n",
      " Outer Iter.  1  Inner Iter.  2:  Max. DC =  0.2183E-02  [K,I,J]   52  252  147\n",
      " Outer Iter.  1  Inner Iter.  3:  Max. DC =  0.3971E-03  [K,I,J]   51  252  147\n",
      " Outer Iter.  1  Inner Iter.  4:  Max. DC =  0.3839E-04  [K,I,J]   52  253  147\n",
      " Outer Iter.  1  Inner Iter.  5:  Max. DC =  0.4224E-05  [K,I,J]   52  250  147\n",
      " Transport Step:    9   Step Size:   73.79     Total Elapsed Time:   2070.8    \n",
      " Outer Iter.  1  Inner Iter.  1:  Max. DC =  0.9401E-02  [K,I,J]   55  252  147\n",
      " Outer Iter.  1  Inner Iter.  2:  Max. DC =  0.3072E-02  [K,I,J]   52  252  147\n",
      " Outer Iter.  1  Inner Iter.  3:  Max. DC =  0.8518E-03  [K,I,J]   51  252  147\n",
      " Outer Iter.  1  Inner Iter.  4:  Max. DC =  0.8837E-04  [K,I,J]   52  253  221\n",
      " Outer Iter.  1  Inner Iter.  5:  Max. DC =  0.1501E-04  [K,I,J]   52  250  147\n",
      " Outer Iter.  1  Inner Iter.  6:  Max. DC =  0.2384E-05  [K,I,J]   52  251  147\n",
      " Transport Step:   10   Step Size:   103.3     Total Elapsed Time:   2174.1    \n",
      " Outer Iter.  1  Inner Iter.  1:  Max. DC =  0.1200E-01  [K,I,J]   55  252  147\n",
      " Outer Iter.  1  Inner Iter.  2:  Max. DC =  0.3961E-02  [K,I,J]   52  252  147\n",
      " Outer Iter.  1  Inner Iter.  3:  Max. DC =  0.1668E-02  [K,I,J]   51  252  147\n",
      " Outer Iter.  1  Inner Iter.  4:  Max. DC =  0.1734E-03  [K,I,J]   52  250  147\n",
      " Outer Iter.  1  Inner Iter.  5:  Max. DC =  0.3773E-04  [K,I,J]   52  250  147\n",
      " Outer Iter.  1  Inner Iter.  6:  Max. DC =  0.4709E-05  [K,I,J]   52  251  147\n",
      " Transport Step:   11   Step Size:   15.93     Total Elapsed Time:   2190.0    \n",
      " Outer Iter.  1  Inner Iter.  1:  Max. DC =  0.1972E-02  [K,I,J]   54  252  221\n",
      " Outer Iter.  1  Inner Iter.  2:  Max. DC =  0.2946E-03  [K,I,J]   52  252  147\n",
      " Outer Iter.  1  Inner Iter.  3:  Max. DC =  0.1147E-04  [K,I,J]   51  252  147\n",
      " Outer Iter.  1  Inner Iter.  4:  Max. DC =  0.4768E-06  [K,I,J]   51  251  147\n",
      "\n",
      " STRESS PERIOD NO.    7\n",
      "\n",
      " TIME STEP NO.    1\n",
      " FROM TIME =   2190.0     TO    2555.0    \n",
      "\n",
      " Transport Step:    1   Step Size:   5.000     Total Elapsed Time:   2195.0    \n",
      " Outer Iter.  1  Inner Iter.  1:  Max. DC =  0.6221E-03  [K,I,J]   53  252  221\n",
      " Outer Iter.  1  Inner Iter.  2:  Max. DC =  0.2435E-04  [K,I,J]   52  252  147\n",
      " Outer Iter.  1  Inner Iter.  3:  Max. DC =  0.1490E-06  [K,I,J]   51  252  147\n",
      " Transport Step:    2   Step Size:   7.000     Total Elapsed Time:   2202.0    \n",
      " Outer Iter.  1  Inner Iter.  1:  Max. DC =  0.8631E-03  [K,I,J]   53  252  221\n",
      " Outer Iter.  1  Inner Iter.  2:  Max. DC =  0.5329E-04  [K,I,J]   52  252  147\n",
      " Outer Iter.  1  Inner Iter.  3:  Max. DC =  0.5513E-06  [K,I,J]   52  253  147\n",
      " Transport Step:    3   Step Size:   9.800     Total Elapsed Time:   2211.8    \n",
      " Outer Iter.  1  Inner Iter.  1:  Max. DC =  0.1198E-02  [K,I,J]   54  252  147\n",
      " Outer Iter.  1  Inner Iter.  2:  Max. DC =  0.1107E-03  [K,I,J]   52  252  147\n",
      " Outer Iter.  1  Inner Iter.  3:  Max. DC =  0.1997E-05  [K,I,J]   51  252  147\n",
      " Transport Step:    4   Step Size:   13.72     Total Elapsed Time:   2225.5    \n",
      " Outer Iter.  1  Inner Iter.  1:  Max. DC =  0.1656E-02  [K,I,J]   54  252  147\n",
      " Outer Iter.  1  Inner Iter.  2:  Max. DC =  0.2170E-03  [K,I,J]   52  252  147\n",
      " Outer Iter.  1  Inner Iter.  3:  Max. DC =  0.6735E-05  [K,I,J]   51  252  147\n",
      " Transport Step:    5   Step Size:   19.21     Total Elapsed Time:   2244.7    \n",
      " Outer Iter.  1  Inner Iter.  1:  Max. DC =  0.2272E-02  [K,I,J]   54  252  147\n",
      " Outer Iter.  1  Inner Iter.  2:  Max. DC =  0.4006E-03  [K,I,J]   52  252  147\n",
      " Outer Iter.  1  Inner Iter.  3:  Max. DC =  0.2068E-04  [K,I,J]   51  252  147\n",
      " Outer Iter.  1  Inner Iter.  4:  Max. DC =  0.1028E-05  [K,I,J]   51  253  147\n",
      " Transport Step:    6   Step Size:   26.89     Total Elapsed Time:   2271.6    \n",
      " Outer Iter.  1  Inner Iter.  1:  Max. DC =  0.3083E-02  [K,I,J]   54  252  221\n",
      " Outer Iter.  1  Inner Iter.  2:  Max. DC =  0.6942E-03  [K,I,J]   52  252  147\n",
      " Outer Iter.  1  Inner Iter.  3:  Max. DC =  0.5758E-04  [K,I,J]   51  252  147\n",
      " Outer Iter.  1  Inner Iter.  4:  Max. DC =  0.4023E-05  [K,I,J]   52  253  147\n",
      " Transport Step:    7   Step Size:   37.65     Total Elapsed Time:   2309.3    \n",
      " Outer Iter.  1  Inner Iter.  1:  Max. DC =  0.4159E-02  [K,I,J]   55  252  147\n",
      " Outer Iter.  1  Inner Iter.  2:  Max. DC =  0.1125E-02  [K,I,J]   52  252  147\n",
      " Outer Iter.  1  Inner Iter.  3:  Max. DC =  0.1459E-03  [K,I,J]   51  252  147\n",
      " Outer Iter.  1  Inner Iter.  4:  Max. DC =  0.1338E-04  [K,I,J]   52  253  147\n",
      " Outer Iter.  1  Inner Iter.  5:  Max. DC =  0.1252E-05  [K,I,J]   52  251  147\n",
      " Transport Step:    8   Step Size:   52.71     Total Elapsed Time:   2362.0    \n",
      " Outer Iter.  1  Inner Iter.  1:  Max. DC =  0.5541E-02  [K,I,J]   55  252  147\n",
      " Outer Iter.  1  Inner Iter.  2:  Max. DC =  0.1696E-02  [K,I,J]   52  252  147\n",
      " Outer Iter.  1  Inner Iter.  3:  Max. DC =  0.3383E-03  [K,I,J]   51  252  147\n",
      " Outer Iter.  1  Inner Iter.  4:  Max. DC =  0.3700E-04  [K,I,J]   52  253  147\n",
      " Outer Iter.  1  Inner Iter.  5:  Max. DC =  0.3658E-05  [K,I,J]   52  250  147\n",
      " Transport Step:    9   Step Size:   73.79     Total Elapsed Time:   2435.8    \n",
      " Outer Iter.  1  Inner Iter.  1:  Max. DC =  0.7247E-02  [K,I,J]   55  252  147\n",
      " Outer Iter.  1  Inner Iter.  2:  Max. DC =  0.2361E-02  [K,I,J]   52  252  147\n",
      " Outer Iter.  1  Inner Iter.  3:  Max. DC =  0.7209E-03  [K,I,J]   51  252  147\n",
      " Outer Iter.  1  Inner Iter.  4:  Max. DC =  0.8407E-04  [K,I,J]   52  253  147\n",
      " Outer Iter.  1  Inner Iter.  5:  Max. DC =  0.1338E-04  [K,I,J]   52  250  147\n",
      " Outer Iter.  1  Inner Iter.  6:  Max. DC =  0.1967E-05  [K,I,J]   52  251  147\n",
      " Transport Step:   10   Step Size:   103.3     Total Elapsed Time:   2539.1    \n",
      " Outer Iter.  1  Inner Iter.  1:  Max. DC =  0.9310E-02  [K,I,J]   56  252  147\n",
      " Outer Iter.  1  Inner Iter.  2:  Max. DC =  0.3015E-02  [K,I,J]   52  252  221\n",
      " Outer Iter.  1  Inner Iter.  3:  Max. DC =  0.1401E-02  [K,I,J]   51  252  221\n",
      " Outer Iter.  1  Inner Iter.  4:  Max. DC =  0.1560E-03  [K,I,J]   52  253  147\n",
      " Outer Iter.  1  Inner Iter.  5:  Max. DC =  0.3487E-04  [K,I,J]   52  250  147\n",
      " Outer Iter.  1  Inner Iter.  6:  Max. DC =  0.3815E-05  [K,I,J]   52  251  147\n",
      " Transport Step:   11   Step Size:   15.93     Total Elapsed Time:   2555.0    \n",
      " Outer Iter.  1  Inner Iter.  1:  Max. DC =  0.1528E-02  [K,I,J]   54  252  147\n",
      " Outer Iter.  1  Inner Iter.  2:  Max. DC =  0.2383E-03  [K,I,J]   52  252  147\n",
      " Outer Iter.  1  Inner Iter.  3:  Max. DC =  0.9924E-05  [K,I,J]   51  252  147\n",
      "\n",
      " STRESS PERIOD NO.    8\n",
      "\n",
      " TIME STEP NO.    1\n",
      " FROM TIME =   2555.0     TO    2920.0    \n",
      "\n",
      " Transport Step:    1   Step Size:   5.000     Total Elapsed Time:   2560.0    \n",
      " Outer Iter.  1  Inner Iter.  1:  Max. DC =  0.4826E-03  [K,I,J]   54  252  147\n",
      " Outer Iter.  1  Inner Iter.  2:  Max. DC =  0.2003E-04  [K,I,J]   52  252  147\n",
      " Outer Iter.  1  Inner Iter.  3:  Max. DC =  0.1490E-06  [K,I,J]   52  252  147\n",
      " Transport Step:    2   Step Size:   7.000     Total Elapsed Time:   2567.0    \n",
      " Outer Iter.  1  Inner Iter.  1:  Max. DC =  0.6721E-03  [K,I,J]   54  252  221\n",
      " Outer Iter.  1  Inner Iter.  2:  Max. DC =  0.4372E-04  [K,I,J]   52  252  147\n",
      " Outer Iter.  1  Inner Iter.  3:  Max. DC =  0.5215E-06  [K,I,J]   52  253  147\n",
      " Transport Step:    3   Step Size:   9.800     Total Elapsed Time:   2576.8    \n",
      " Outer Iter.  1  Inner Iter.  1:  Max. DC =  0.9331E-03  [K,I,J]   54  252  221\n",
      " Outer Iter.  1  Inner Iter.  2:  Max. DC =  0.9042E-04  [K,I,J]   52  252  147\n",
      " Outer Iter.  1  Inner Iter.  3:  Max. DC =  0.1758E-05  [K,I,J]   52  252  147\n",
      " Transport Step:    4   Step Size:   13.72     Total Elapsed Time:   2590.5    \n",
      " Outer Iter.  1  Inner Iter.  1:  Max. DC =  0.1289E-02  [K,I,J]   54  252  147\n",
      " Outer Iter.  1  Inner Iter.  2:  Max. DC =  0.1765E-03  [K,I,J]   52  252  147\n",
      " Outer Iter.  1  Inner Iter.  3:  Max. DC =  0.5841E-05  [K,I,J]   51  252  147\n",
      " Transport Step:    5   Step Size:   19.21     Total Elapsed Time:   2609.7    \n",
      " Outer Iter.  1  Inner Iter.  1:  Max. DC =  0.1767E-02  [K,I,J]   55  252  221\n",
      " Outer Iter.  1  Inner Iter.  2:  Max. DC =  0.3240E-03  [K,I,J]   52  252  147\n",
      " Outer Iter.  1  Inner Iter.  3:  Max. DC =  0.1794E-04  [K,I,J]   51  252  147\n",
      " Outer Iter.  1  Inner Iter.  4:  Max. DC =  0.1013E-05  [K,I,J]   51  253  147\n",
      " Transport Step:    6   Step Size:   26.89     Total Elapsed Time:   2636.6    \n",
      " Outer Iter.  1  Inner Iter.  1:  Max. DC =  0.2417E-02  [K,I,J]   55  252  147\n",
      " Outer Iter.  1  Inner Iter.  2:  Max. DC =  0.5578E-03  [K,I,J]   52  252  147\n",
      " Outer Iter.  1  Inner Iter.  3:  Max. DC =  0.5001E-04  [K,I,J]   51  252  147\n",
      " Outer Iter.  1  Inner Iter.  4:  Max. DC =  0.3874E-05  [K,I,J]   51  253  147\n",
      " Transport Step:    7   Step Size:   37.65     Total Elapsed Time:   2674.3    \n",
      " Outer Iter.  1  Inner Iter.  1:  Max. DC =  0.3267E-02  [K,I,J]   55  252  221\n",
      " Outer Iter.  1  Inner Iter.  2:  Max. DC =  0.8973E-03  [K,I,J]   52  252  221\n",
      " Outer Iter.  1  Inner Iter.  3:  Max. DC =  0.1263E-03  [K,I,J]   51  252  147\n",
      " Outer Iter.  1  Inner Iter.  4:  Max. DC =  0.1264E-04  [K,I,J]   52  253  147\n",
      " Outer Iter.  1  Inner Iter.  5:  Max. DC =  0.1013E-05  [K,I,J]   52  251  147\n",
      " Transport Step:    8   Step Size:   52.71     Total Elapsed Time:   2727.0    \n",
      " Outer Iter.  1  Inner Iter.  1:  Max. DC =  0.4353E-02  [K,I,J]   55  252  147\n",
      " Outer Iter.  1  Inner Iter.  2:  Max. DC =  0.1342E-02  [K,I,J]   52  252  147\n",
      " Outer Iter.  1  Inner Iter.  3:  Max. DC =  0.2911E-03  [K,I,J]   51  252  147\n"
     ]
    }
   ],
   "source": [
    "# Run the MODFLOW model\n",
    "mt.run_model()"
   ]
  },
  {
   "cell_type": "code",
   "execution_count": null,
   "metadata": {},
   "outputs": [],
   "source": []
  },
  {
   "cell_type": "code",
   "execution_count": null,
   "metadata": {},
   "outputs": [
    {
     "data": {
      "text/plain": [
       "'C:\\\\Users\\\\swan47\\\\AppData\\\\Local\\\\Temp\\\\_T1208174955_wasaga_rie7u9w2'"
      ]
     },
     "execution_count": 118,
     "metadata": {},
     "output_type": "execute_result"
    }
   ],
   "source": [
    "model_ws"
   ]
  },
  {
   "cell_type": "code",
   "execution_count": null,
   "metadata": {},
   "outputs": [],
   "source": []
  },
  {
   "cell_type": "code",
   "execution_count": null,
   "metadata": {},
   "outputs": [],
   "source": []
  },
  {
   "cell_type": "code",
   "execution_count": null,
   "metadata": {},
   "outputs": [],
   "source": []
  }
 ],
 "metadata": {
  "kernelspec": {
   "display_name": "Python 3",
   "language": "python",
   "name": "python3"
  },
  "language_info": {
   "codemirror_mode": {
    "name": "ipython",
    "version": 3
   },
   "file_extension": ".py",
   "mimetype": "text/x-python",
   "name": "python",
   "nbconvert_exporter": "python",
   "pygments_lexer": "ipython3",
   "version": "3.11.5"
  }
 },
 "nbformat": 4,
 "nbformat_minor": 4
}
