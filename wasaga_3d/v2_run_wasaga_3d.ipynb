{
 "cells": [
  {
   "cell_type": "code",
   "execution_count": null,
   "metadata": {},
   "outputs": [],
   "source": []
  },
  {
   "cell_type": "code",
   "execution_count": 99,
   "metadata": {},
   "outputs": [],
   "source": [
    "import flopy\n",
    "import numpy as np\n",
    "import matplotlib.pyplot as plt\n",
    "import shutil\n",
    "from pathlib import Path\n",
    "\n",
    "from datetime import datetime\n",
    "from tempfile import TemporaryDirectory\n",
    "from tempfile import mkdtemp\n",
    "\n",
    "import os\n",
    "import platform\n",
    "import subprocess\n",
    "from shapely.geometry import Polygon, Point\n",
    "from scipy.interpolate import make_interp_spline"
   ]
  },
  {
   "cell_type": "code",
   "execution_count": null,
   "metadata": {},
   "outputs": [],
   "source": []
  },
  {
   "cell_type": "code",
   "execution_count": 100,
   "metadata": {},
   "outputs": [],
   "source": [
    "def locate_ground_surface_lay(row=150):\n",
    "    cross_section = ibound[:,:,0]\n",
    "    lay = np.where(cross_section[:,row]==1)[0][0]\n",
    "    return lay\n",
    "\n",
    "def meter_to_col(col_meter):\n",
    "    return int(np.round(col_meter/delc,0))\n",
    "\n",
    "def meter_to_row(row_meter):\n",
    "    return int(np.round(row_meter/delc,0))\n",
    "\n",
    "def meter_to_lay(lay_meter):\n",
    "    return int(np.round((top_elev-lay_meter)/layer_thickness,0))\n",
    "\n",
    "def col_to_meter(col):\n",
    "    return col*delc\n",
    "\n",
    "def row_to_meter(row):\n",
    "    return row*delc\n",
    "\n",
    "def lay_to_meter(row):\n",
    "    return 190.0-row*layer_thickness"
   ]
  },
  {
   "cell_type": "code",
   "execution_count": null,
   "metadata": {},
   "outputs": [],
   "source": []
  },
  {
   "cell_type": "code",
   "execution_count": 101,
   "metadata": {},
   "outputs": [],
   "source": [
    "\n",
    "def change_array_within_polygon(array, row_coords, col_coords, value):\n",
    "\n",
    "    # Create a polygon object from the row and column coordinates\n",
    "    polygon = Polygon(zip(col_coords, row_coords))\n",
    "\n",
    "    # Create a boolean mask indicating which points fall within the polygon\n",
    "    mask = np.zeros_like(array, dtype=bool)\n",
    "    for row in range(array.shape[0]):\n",
    "        for col in range(array.shape[1]):\n",
    "            point = Point(col, row)\n",
    "            if polygon.contains(point) or polygon.intersects(point):\n",
    "                mask[row, col] = True\n",
    "\n",
    "    # Set the values of the array that fall within the polygon to the new value\n",
    "    array[mask] = value\n",
    "\n",
    "    return array\n"
   ]
  },
  {
   "cell_type": "code",
   "execution_count": null,
   "metadata": {},
   "outputs": [],
   "source": []
  },
  {
   "cell_type": "markdown",
   "metadata": {},
   "source": [
    "# Workspace"
   ]
  },
  {
   "cell_type": "code",
   "execution_count": 102,
   "metadata": {},
   "outputs": [],
   "source": [
    "# Define model workspace\n",
    "\n",
    "myt = datetime.now().strftime('%m%d%H%M%S')\n",
    "name = 'wasaga'\n",
    "temp_dir = mkdtemp(prefix='_T{}_{}_'.format(myt,name))\n",
    "os.makedirs(Path(temp_dir) / '_output')\n",
    "\n",
    "#model_ws = \"./modflow_model_2\"\n",
    "model_ws = temp_dir\n",
    "\n",
    "def open_file(path):\n",
    "    if platform.system() == \"Windows\":\n",
    "        os.startfile(path)\n",
    "    elif platform.system() == \"Darwin\":\n",
    "        subprocess.Popen([\"open\", path])\n",
    "    else:\n",
    "        subprocess.Popen([\"xdg-open\", path])\n",
    "\n",
    "open_file(model_ws)"
   ]
  },
  {
   "cell_type": "code",
   "execution_count": 103,
   "metadata": {},
   "outputs": [
    {
     "data": {
      "text/plain": [
       "'/var/folders/hy/v14_l_r91tl2w5s9xfm9p2kc0000gn/T/_T1221122318_wasaga_tucxxlkj'"
      ]
     },
     "execution_count": 103,
     "metadata": {},
     "output_type": "execute_result"
    }
   ],
   "source": [
    "model_ws"
   ]
  },
  {
   "cell_type": "code",
   "execution_count": 104,
   "metadata": {},
   "outputs": [],
   "source": [
    "# base\n",
    "parms= {}\n",
    "parms['sp1']= 0.0002\n",
    "parms['hk']= 6.9\n",
    "parms['al'] = 5\n",
    "base_parms = parms"
   ]
  },
  {
   "cell_type": "code",
   "execution_count": null,
   "metadata": {},
   "outputs": [],
   "source": []
  },
  {
   "cell_type": "code",
   "execution_count": null,
   "metadata": {},
   "outputs": [],
   "source": []
  },
  {
   "cell_type": "markdown",
   "metadata": {},
   "source": [
    "# Model"
   ]
  },
  {
   "cell_type": "code",
   "execution_count": 105,
   "metadata": {},
   "outputs": [],
   "source": [
    "# Create a MODFLOW model instance\n",
    "mf = flopy.modflow.Modflow(modelname=\"example_model\",version='mf2005',\n",
    "                              exe_name='mf2005', \n",
    "                              model_ws=model_ws)"
   ]
  },
  {
   "cell_type": "code",
   "execution_count": 106,
   "metadata": {},
   "outputs": [],
   "source": [
    "# # Create a MODFLOW model instance\n",
    "# model = flopy.seawat.Seawat(modelname=\"example_model\",\n",
    "#                             exe_name='swtv4', \n",
    "#                               model_ws=model_ws)\n"
   ]
  },
  {
   "cell_type": "code",
   "execution_count": null,
   "metadata": {},
   "outputs": [],
   "source": []
  },
  {
   "cell_type": "markdown",
   "metadata": {},
   "source": [
    "# DIS"
   ]
  },
  {
   "cell_type": "code",
   "execution_count": 107,
   "metadata": {},
   "outputs": [],
   "source": [
    "# Define model dimensions\n",
    "nlay = int(60 * 2)\n",
    "nrow = int(220 * 2)\n",
    "ncol = int(220 * 2)\n",
    "delr = 2200/nrow  # Cell width along rows (extend 2200 / 220)\n",
    "delc = 2200/ncol  # Cell width along columns (extend 2200 / 220)\n",
    "\n",
    "# Define top elevation\n",
    "layer_thickness = 30.0 / nlay\n",
    "\n",
    "top_elev = 190.0\n",
    "botm_elev = [top_elev - (i * layer_thickness) for i in range(1, nlay + 1)]\n",
    "# Define layer thickness (uniform thickness)\n",
    "\n",
    "\n",
    "perlen = 365\n",
    "nper = int(10)\n",
    "#nper = int(20)\n",
    "\n",
    "steady = np.append(np.array([True]),np.repeat(False,nper-1))\n",
    "#steady=[False,False,True]\n",
    "#steady = True\n",
    "\n",
    "# Create DIS package\n",
    "\n"
   ]
  },
  {
   "cell_type": "code",
   "execution_count": null,
   "metadata": {},
   "outputs": [],
   "source": []
  },
  {
   "cell_type": "code",
   "execution_count": 108,
   "metadata": {},
   "outputs": [],
   "source": [
    "dis = flopy.modflow.ModflowDis(mf, nlay=nlay, nrow=nrow, ncol=ncol, \n",
    "                               delr=delr, delc=delc,top=top_elev, \n",
    "                               botm=botm_elev,\n",
    "                               nper = nper, perlen = perlen,\n",
    "                               nstp = 1, steady = steady)\n"
   ]
  },
  {
   "cell_type": "code",
   "execution_count": null,
   "metadata": {},
   "outputs": [],
   "source": []
  },
  {
   "cell_type": "markdown",
   "metadata": {},
   "source": [
    "# Ibound"
   ]
  },
  {
   "cell_type": "code",
   "execution_count": 109,
   "metadata": {},
   "outputs": [],
   "source": [
    "\n",
    "\n",
    "x = np.array([0, 100, 340, 600, 750, 850, 1100, 1350, 1450, 1530, 1650, 1750, 1850, 2050, 2200])\n",
    "\n",
    "y_topo = np.array([190,190,187,184,184,184,183,182,179,175.5,175,173.8,173.5,172,171])#topo\n",
    "#y_topo = np.array([190,190,187,184,184,184,183,182,179+2,175.5+4,175+2,173.8+1,173.5+0,172,171])#topo\n",
    "\n",
    "y_clay = np.array([185,184,180,175,174,174,173,170,169,168.5,167.5,166.8,166.5,165,164]) #clay\n",
    "\n",
    "\n",
    "# Interpolate the data using smoothing splines\n",
    "spl = make_interp_spline(x, y_topo)\n",
    "x_smooth_topo = np.linspace(x.min(), x.max(), 30)\n",
    "y_smooth_topo = spl(x_smooth_topo)\n",
    "\n",
    "col_coords = (x_smooth_topo/delr).round(0)\n",
    "col_coords_topo = list(col_coords) +[nrow,0]\n",
    "\n",
    "row_coords = ((top_elev - y_smooth_topo)/layer_thickness).round(0)\n",
    "row_coords_topo  =  list(row_coords) +[0,0]\n",
    "\n",
    "\n",
    "\n",
    "# Interpolate the data using smoothing splines\n",
    "spl = make_interp_spline(x, y_clay)\n",
    "x_smooth = np.linspace(x.min(), x.max(), 30)\n",
    "y_smooth = spl(x_smooth)\n",
    "\n",
    "col_coords = (x_smooth/delr).round(0)\n",
    "col_coords_clay = list(col_coords) +[nrow,0]\n",
    "row_coords = ((top_elev - y_smooth)/layer_thickness).round(0)\n",
    "row_coords_clay  =  list(row_coords) +[nlay,nlay]\n"
   ]
  },
  {
   "cell_type": "code",
   "execution_count": null,
   "metadata": {},
   "outputs": [],
   "source": []
  },
  {
   "cell_type": "markdown",
   "metadata": {},
   "source": [
    "# Ibound & Strt"
   ]
  },
  {
   "cell_type": "code",
   "execution_count": 110,
   "metadata": {},
   "outputs": [
    {
     "name": "stdout",
     "output_type": "stream",
     "text": [
      "185.25\n",
      "185.5\n",
      "185.75\n",
      "186.0\n",
      "186.25\n",
      "186.5\n",
      "186.75\n",
      "185.0\n",
      "185.25\n",
      "185.5\n",
      "185.75\n",
      "186.0\n",
      "186.25\n",
      "186.5\n",
      "186.75\n"
     ]
    },
    {
     "data": {
      "image/png": "[encoded data removed]",
      "text/plain": [
       "<Figure size 1500x1000 with 2 Axes>"
      ]
     },
     "metadata": {},
     "output_type": "display_data"
    },
    {
     "data": {
      "image/png": "[encoded data removed]",
      "text/plain": [
       "<Figure size 1500x1000 with 2 Axes>"
      ]
     },
     "metadata": {},
     "output_type": "display_data"
    }
   ],
   "source": [
    "\n",
    "# Define ibound and initial conditionsa\n",
    "ibound = np.ones((nlay, nrow, ncol), dtype=int)\n",
    "initial_head = np.full((nlay, nrow, ncol), 200.0, dtype=float)\n",
    "\n",
    "# Set constant head boundary conditions for the first and last rows\n",
    "array = change_array_within_polygon(ibound, row_coords_topo, col_coords_topo, 0)\n",
    "plt.scatter(col_coords_topo,row_coords_topo,c='r')\n",
    "\n",
    "\n",
    "array = change_array_within_polygon(ibound, row_coords_clay, col_coords_clay, 0)\n",
    "plt.scatter(col_coords,row_coords,c='r')\n",
    "\n",
    "for c in range(0,2):\n",
    "    i = np.where(ibound[:,c,-1]==1)[0][-1]\n",
    "    head = top_elev-i*layer_thickness\n",
    "    #print('head {}'.format(head))\n",
    "    \n",
    "    while head<187:\n",
    "        ibound[i,c,:] = -1\n",
    "        #print(i,c)\n",
    "        #initial_head[i,c,:] = head+0.5\n",
    "        print(head)\n",
    "        initial_head[i,c,:] = 187\n",
    "        head+=layer_thickness\n",
    "        i-=1\n",
    "\n",
    "\n",
    "lay = np.where(ibound[:,int(1700/delr),-1])[0][0]\n",
    "elv = lay_to_meter(lay)\n",
    "head = elv\n",
    "\n",
    "for c in range(int(1700/delr),int(2200/delr)):\n",
    "    lay = np.where(ibound[:,c,-1]==1)[0][0]\n",
    "    #print(lay,lay_to_meter(lay))\n",
    "    ibound[lay,c,:] = -1\n",
    "    initial_head[lay,c,:] = elv\n",
    "\n",
    "# Your existing code\n",
    "im = plt.imshow(ibound[:,:,2], origin='upper', aspect=1)\n",
    "plt.axvline(x=meter_to_col(1700))# shoreline\n",
    "plt.gcf().set_size_inches(15,10)\n",
    "\n",
    "# Set the y-axis tick positions and labels\n",
    "#plt.yticks([0, 10,20, 30,40, 50,60], ['190m (0L)','185m (10L)', '180m (20L)','175m (30L)', '170m (40L)', '165m (50L)','160m (60L)'])\n",
    "# Add a horizontal colorbar\n",
    "\n",
    "cbar = plt.colorbar(im, orientation='horizontal')\n",
    "cbar.ax.tick_params(labelsize=16)\n",
    "cbar.set_label('Colorbar Label', fontsize=16)\n",
    "\n",
    "# Display the plot\n",
    "plt.title('ibound')\n",
    "plt.grid()\n",
    "plt.show()\n",
    "\n",
    "\n",
    "fig, ax = plt.subplots(figsize=(15, 10))\n",
    "im = ax.imshow(initial_head[:, :, 0], origin='upper')\n",
    "\n",
    "# Add a horizontal colorbar\n",
    "cbar = plt.colorbar(im, orientation='horizontal')\n",
    "cbar.ax.tick_params(labelsize=18)\n",
    "plt.title('initial head')\n",
    "plt.show()\n"
   ]
  },
  {
   "cell_type": "code",
   "execution_count": null,
   "metadata": {},
   "outputs": [],
   "source": []
  },
  {
   "cell_type": "code",
   "execution_count": null,
   "metadata": {},
   "outputs": [],
   "source": []
  },
  {
   "cell_type": "code",
   "execution_count": null,
   "metadata": {},
   "outputs": [],
   "source": []
  },
  {
   "cell_type": "markdown",
   "metadata": {},
   "source": []
  },
  {
   "cell_type": "markdown",
   "metadata": {},
   "source": [
    "# BAS LPF  PCG"
   ]
  },
  {
   "cell_type": "code",
   "execution_count": 111,
   "metadata": {},
   "outputs": [],
   "source": [
    "\n",
    "# Create BAS package\n",
    "bas = flopy.modflow.ModflowBas(mf, ibound=ibound, strt=initial_head)\n",
    "\n",
    "# Define hydraulic properties\n",
    "horizontal_k = parms['hk'] # Horizontal hydraulic conductivity (m/day)\n",
    "vertical_ka = 0.1   # Vertical hydraulic conductivity (m/day)\n",
    "porosity = 0.25     # Porosity\n",
    "\n",
    "# Create LPF package (Layer Property Flow package)\n",
    "lpf = flopy.modflow.ModflowLpf(mf, hk=horizontal_k, \n",
    "                               vka=vertical_ka, laytyp=1, \n",
    "                               ipakcb=None,ss=0.0002,sy=0.33,\n",
    "                               laywet=1,iwetit=1,wetfct=0.1,ihdwet=1)\n",
    "\n",
    "# #ss=0.0002,sy=0.33\n",
    "# upw = flopy.modflow.ModflowUpw(model, laytyp=1, hk=horizontal_k)\n",
    "\n",
    "pcg = flopy.modflow.ModflowPcg(mf, hclose=1e-3,npcond=1,\n",
    "                               relax=0.99,rclose=1e-3,mutpcg=0,nbpol=1,iprpcg=1)\n",
    "\n"
   ]
  },
  {
   "cell_type": "code",
   "execution_count": null,
   "metadata": {},
   "outputs": [],
   "source": []
  },
  {
   "cell_type": "code",
   "execution_count": null,
   "metadata": {},
   "outputs": [],
   "source": []
  },
  {
   "cell_type": "code",
   "execution_count": null,
   "metadata": {},
   "outputs": [],
   "source": []
  },
  {
   "cell_type": "code",
   "execution_count": null,
   "metadata": {},
   "outputs": [],
   "source": []
  },
  {
   "cell_type": "markdown",
   "metadata": {},
   "source": [
    "# Heterogeneity"
   ]
  },
  {
   "cell_type": "code",
   "execution_count": 112,
   "metadata": {},
   "outputs": [],
   "source": [
    "# hk_mean = 2.3  # mean hydraulic conductivity\n",
    "# hk_std = 2  # standard deviation of hydraulic conductivity\n",
    "# hk= np.random.normal(hk_mean, hk_std, size=[nlay,nrow,ncol])\n",
    "# hk[np.where(hk<0)]=0.001\n",
    "\n",
    "# model.lpf.hk = hk\n"
   ]
  },
  {
   "cell_type": "code",
   "execution_count": 113,
   "metadata": {},
   "outputs": [],
   "source": [
    "# hk_mean = np.log10(2.3)  # mean hydraulic conductivity\n",
    "# hk_std = 0.4  # standard deviation of hydraulic conductivity\n",
    "# hk= np.random.normal(hk_mean, hk_std, size=[nlay,nrow,ncol])\n",
    "# hk = 10**hk\n",
    "# #hk[np.where(hk<0)]=0.001\n",
    "# hk.mean()\n",
    "# model.lpf.hk = hk"
   ]
  },
  {
   "cell_type": "code",
   "execution_count": 114,
   "metadata": {},
   "outputs": [],
   "source": [
    "# plt.hist(hk.flatten(),bins=np.linspace(0,30,50))\n",
    "# plt.show()\n",
    "\n",
    "# plt.imshow(hk[0,:,:])\n",
    "# plt.show()"
   ]
  },
  {
   "cell_type": "code",
   "execution_count": null,
   "metadata": {},
   "outputs": [],
   "source": []
  },
  {
   "cell_type": "markdown",
   "metadata": {},
   "source": [
    "# DRN"
   ]
  },
  {
   "cell_type": "code",
   "execution_count": null,
   "metadata": {},
   "outputs": [],
   "source": []
  },
  {
   "cell_type": "code",
   "execution_count": 115,
   "metadata": {},
   "outputs": [
    {
     "name": "stdout",
     "output_type": "stream",
     "text": [
      "304\n",
      "305\n",
      "306\n",
      "307\n",
      "308\n",
      "309\n",
      "310\n",
      "311\n",
      "312\n",
      "313\n",
      "314\n",
      "315\n",
      "316\n",
      "317\n",
      "318\n",
      "319\n",
      "320\n",
      "119\n",
      "120\n",
      "121\n"
     ]
    }
   ],
   "source": [
    "locate_ground_surface_lay(meter_to_row(160))\n",
    "#drn_cell = [(0, 150, 28), -10, 100]\n",
    "\n",
    "beach_drns = np.arange(1520,1600+1,delr).astype(int)\n",
    "river_drns = np.arange(595,605+1,delr).astype(int)\n",
    "#beach_drns = []\n",
    "\n",
    "drn_list = []\n",
    "drn_ys= list(beach_drns)+list(river_drns)\n",
    "\n",
    "for y in drn_ys:\n",
    "   \n",
    "   row = meter_to_row(y)\n",
    "   lay = locate_ground_surface_lay(row=row)\n",
    "   elv = lay_to_meter(lay)\n",
    "   print(row)\n",
    "   #print(lay)\n",
    "   for col in range(ncol):\n",
    "\n",
    "      drn_list.append([lay, row, col, elv, 1])\n",
    "      #drn_list.append([12*2, meter_to_row(600), col, 184.0-0.5, 100])\n",
    "      \n",
    "drn_cell = {0:drn_list} \n",
    "\n",
    "#drn_cell={0:[[31, 160, 0, 174.5-0.5, 0],[12, 60, 0, 184.0-0.5, 0]]}\n",
    "drn = flopy.modflow.ModflowDrn(model=mf, stress_period_data=drn_cell,)"
   ]
  },
  {
   "cell_type": "code",
   "execution_count": null,
   "metadata": {},
   "outputs": [],
   "source": []
  },
  {
   "cell_type": "code",
   "execution_count": 116,
   "metadata": {},
   "outputs": [
    {
     "data": {
      "text/plain": [
       "[(57, 304, 0, 175.75, 1.),\n",
       " (57, 305, 0, 175.75, 1.),\n",
       " (57, 306, 0, 175.75, 1.),\n",
       " (58, 307, 0, 175.5, 1.),\n",
       " (58, 308, 0, 175.5, 1.),\n",
       " (58, 309, 0, 175.5, 1.),\n",
       " (58, 310, 0, 175.5, 1.),\n",
       " (59, 311, 0, 175.25, 1.),\n",
       " (59, 312, 0, 175.25, 1.),\n",
       " (59, 313, 0, 175.25, 1.),\n",
       " (59, 314, 0, 175.25, 1.),\n",
       " (60, 315, 0, 175., 1.),\n",
       " (60, 316, 0, 175., 1.),\n",
       " (60, 317, 0, 175., 1.),\n",
       " (60, 318, 0, 175., 1.),\n",
       " (61, 319, 0, 174.75, 1.),\n",
       " (61, 320, 0, 174.75, 1.),\n",
       " (24, 119, 0, 184., 1.),\n",
       " (24, 120, 0, 184., 1.),\n",
       " (25, 121, 0, 183.75, 1.)]"
      ]
     },
     "execution_count": 116,
     "metadata": {},
     "output_type": "execute_result"
    }
   ],
   "source": [
    "[i for i in drn.stress_period_data.data[0] if i[2]==0] "
   ]
  },
  {
   "cell_type": "code",
   "execution_count": 117,
   "metadata": {},
   "outputs": [
    {
     "data": {
      "image/png": "[encoded data removed]",
      "text/plain": [
       "<Figure size 640x480 with 1 Axes>"
      ]
     },
     "metadata": {},
     "output_type": "display_data"
    }
   ],
   "source": [
    "lays_with_drn = np.unique([i[0] for i in drn.stress_period_data.data[0]])\n",
    "for lay in lays_with_drn:\n",
    "    pmv = flopy.plot.PlotMapView(model=mf, layer=lay)\n",
    "    pmv.plot_bc('DRN',color='r')"
   ]
  },
  {
   "cell_type": "code",
   "execution_count": null,
   "metadata": {},
   "outputs": [],
   "source": []
  },
  {
   "cell_type": "code",
   "execution_count": null,
   "metadata": {},
   "outputs": [],
   "source": []
  },
  {
   "cell_type": "code",
   "execution_count": null,
   "metadata": {},
   "outputs": [],
   "source": []
  },
  {
   "cell_type": "markdown",
   "metadata": {},
   "source": [
    "# RCH"
   ]
  },
  {
   "cell_type": "code",
   "execution_count": 118,
   "metadata": {},
   "outputs": [],
   "source": [
    "##2D pers [1]+[30,92,31,212]*25 +[365]*5+[365*5]*5+[365*4]+[185,30,30,120]"
   ]
  },
  {
   "cell_type": "code",
   "execution_count": 119,
   "metadata": {},
   "outputs": [],
   "source": [
    "rch_dict = {}\n",
    "\n",
    "rch_array = np.full(( nrow, ncol), 0.00013, dtype=float)\n",
    "rch_dict[0] = rch_array\n",
    "\n",
    "rch_array = np.full(( nrow, ncol), 0.00013, dtype=float)\n",
    "#rch_array[int(nrow/2),int(ncol/2)] = 0.51/delr/delc\n",
    "#rch_array[int(nrow/2),int(ncol/3)] = 0.51/delr/delc\n",
    "\n",
    "rch_array[int((1700-70)/delr),int(ncol/2)] = 0.51/delr/delc\n",
    "rch_array[int((1700-70)/delr),int(ncol/3)] = 0.51/delr/delc\n",
    "rch_dict[1] = rch_array \n",
    "\n",
    "\n",
    "rch_array = np.full(( nrow, ncol), 0.00013, dtype=float)\n",
    "rch_dict[26] = rch_array\n",
    "\n",
    "\n",
    "rch = flopy.modflow.ModflowRch(model = mf, rech = rch_dict)"
   ]
  },
  {
   "cell_type": "code",
   "execution_count": 120,
   "metadata": {},
   "outputs": [],
   "source": [
    "# shoreline at 1700m , septic at 1700-60"
   ]
  },
  {
   "cell_type": "code",
   "execution_count": null,
   "metadata": {},
   "outputs": [],
   "source": []
  },
  {
   "cell_type": "markdown",
   "metadata": {},
   "source": [
    "# OC"
   ]
  },
  {
   "cell_type": "code",
   "execution_count": 121,
   "metadata": {},
   "outputs": [],
   "source": [
    "# OC\n",
    "spd = {}\n",
    "for kper in range(nper):\n",
    "    for kstp in range(1):\n",
    "        spd[(kper, kstp)] = [\n",
    "            \"save head\",\n",
    "            \"save drawdown\",\n",
    "            \"save budget\",\n",
    "            \"print head\",\n",
    "            \"print budget\",\n",
    "        ]\n",
    "\n",
    "oc = flopy.modflow.ModflowOc(\n",
    "    mf,\n",
    "    stress_period_data= spd,\n",
    "    compact=True\n",
    "    ,extension=['oc', 'hds', 'ddn', 'cbc', 'ibo']\n",
    ")\n",
    "\n",
    "#oc.reset_budgetunit(budgetunit=1053, fname='test.cbc')\n",
    "oc.reset_budgetunit(budgetunit=53, fname='example_model.cbc')"
   ]
  },
  {
   "cell_type": "code",
   "execution_count": null,
   "metadata": {},
   "outputs": [],
   "source": []
  },
  {
   "cell_type": "code",
   "execution_count": 122,
   "metadata": {},
   "outputs": [],
   "source": [
    "lmt = flopy.modflow.ModflowLmt(mf, output_file_name='mt3d_link.ftl')"
   ]
  },
  {
   "cell_type": "code",
   "execution_count": null,
   "metadata": {},
   "outputs": [],
   "source": []
  },
  {
   "cell_type": "code",
   "execution_count": null,
   "metadata": {},
   "outputs": [],
   "source": []
  },
  {
   "cell_type": "code",
   "execution_count": 123,
   "metadata": {},
   "outputs": [],
   "source": [
    "# Write the MODFLOW model input files\n",
    "mf.write_input()"
   ]
  },
  {
   "cell_type": "code",
   "execution_count": 124,
   "metadata": {},
   "outputs": [
    {
     "name": "stdout",
     "output_type": "stream",
     "text": [
      "FloPy is using the following executable to run the model: ../../../../../../Users/b/.local/share/flopy/bin/mf2005\n",
      "\n",
      "                                  MODFLOW-2005     \n",
      "    U.S. GEOLOGICAL SURVEY MODULAR FINITE-DIFFERENCE GROUND-WATER FLOW MODEL\n",
      "                             Version 1.12.00 2/3/2017                        \n",
      "\n",
      " Using NAME file: example_model.nam \n",
      " Run start date and time (yyyy/mm/dd hh:mm:ss): 2023/12/21 12:24:13\n",
      "\n",
      " Solving:  Stress period:     1    Time step:     1    Ground-Water Flow Eqn.\n",
      " Solving:  Stress period:     2    Time step:     1    Ground-Water Flow Eqn.\n",
      " Solving:  Stress period:     3    Time step:     1    Ground-Water Flow Eqn.\n",
      " Solving:  Stress period:     4    Time step:     1    Ground-Water Flow Eqn.\n",
      " Solving:  Stress period:     5    Time step:     1    Ground-Water Flow Eqn.\n",
      " Solving:  Stress period:     6    Time step:     1    Ground-Water Flow Eqn.\n",
      " Solving:  Stress period:     7    Time step:     1    Ground-Water Flow Eqn.\n",
      " Solving:  Stress period:     8    Time step:     1    Ground-Water Flow Eqn.\n",
      " Solving:  Stress period:     9    Time step:     1    Ground-Water Flow Eqn.\n",
      " Solving:  Stress period:    10    Time step:     1    Ground-Water Flow Eqn.\n",
      " Run end date and time (yyyy/mm/dd hh:mm:ss): 2023/12/21 12:28:23\n",
      " Elapsed run time:  4 Minutes, 10.318 Seconds\n",
      "\n",
      "  Normal termination of simulation\n"
     ]
    }
   ],
   "source": [
    "# Run the MODFLOW model\n",
    "success, buff = mf.run_model()"
   ]
  },
  {
   "cell_type": "code",
   "execution_count": null,
   "metadata": {},
   "outputs": [],
   "source": []
  },
  {
   "cell_type": "code",
   "execution_count": null,
   "metadata": {},
   "outputs": [],
   "source": []
  },
  {
   "cell_type": "code",
   "execution_count": null,
   "metadata": {},
   "outputs": [],
   "source": []
  },
  {
   "cell_type": "markdown",
   "metadata": {},
   "source": [
    "# ---MT3DMS---"
   ]
  },
  {
   "cell_type": "code",
   "execution_count": 125,
   "metadata": {},
   "outputs": [],
   "source": [
    "mt = flopy.mt3d.Mt3dms(modflowmodel=mf, modelname='mt', exe_name='mt3dms.exe' ,ftlfilename='mt3d_link.ftl',model_ws=model_ws)"
   ]
  },
  {
   "cell_type": "code",
   "execution_count": null,
   "metadata": {},
   "outputs": [],
   "source": []
  },
  {
   "cell_type": "markdown",
   "metadata": {},
   "source": [
    "# ICBUND"
   ]
  },
  {
   "cell_type": "code",
   "execution_count": 126,
   "metadata": {},
   "outputs": [
    {
     "data": {
      "text/plain": [
       "<matplotlib.image.AxesImage at 0x134e11a10>"
      ]
     },
     "execution_count": 126,
     "metadata": {},
     "output_type": "execute_result"
    },
    {
     "data": {
      "image/png": "[encoded data removed]",
      "text/plain": [
       "<Figure size 640x480 with 1 Axes>"
      ]
     },
     "metadata": {},
     "output_type": "display_data"
    }
   ],
   "source": [
    "icbund = ibound.copy()\n",
    "cc = np.where(icbund==-1)\n",
    "mask = cc[1]>2200/2/delr\n",
    "\n",
    "cc2 = (cc[0][mask],cc[1][mask],cc[2][mask])\n",
    "icbund[cc2] = 1\n",
    "plt.imshow(icbund[:,:,0])"
   ]
  },
  {
   "cell_type": "code",
   "execution_count": null,
   "metadata": {},
   "outputs": [],
   "source": []
  },
  {
   "cell_type": "markdown",
   "metadata": {},
   "source": [
    "# BTN ICBOUND "
   ]
  },
  {
   "cell_type": "code",
   "execution_count": 127,
   "metadata": {},
   "outputs": [],
   "source": [
    "#icbund = np.full((nlay, nrow, ncol),0, dtype=float)\n",
    "#\n",
    "btn = flopy.mt3d.Mt3dBtn(\n",
    "    mt,\n",
    "    nprs=5,\n",
    "    timprs=np.cumsum([200]*7),\n",
    "    prsity=0.25,\n",
    "    sconc= 0.01, # starting concentration\n",
    "    ifmtcn=0, chkmas=False, nprobs=10, nprmas=10,\n",
    "    dt0=5,  # The user-specified initial \n",
    "    ttsmult=1.4,\n",
    "    mxstrn = 50000,\n",
    "    icbund = icbund\n",
    ")\n"
   ]
  },
  {
   "cell_type": "code",
   "execution_count": null,
   "metadata": {},
   "outputs": [],
   "source": []
  },
  {
   "cell_type": "code",
   "execution_count": 128,
   "metadata": {},
   "outputs": [],
   "source": [
    "adv = flopy.mt3d.Mt3dAdv(mt, mixelm=0,percel=0.4,mxpart=50000000,nadvfd=0)\n",
    "dsp = flopy.mt3d.Mt3dDsp(mt, al=parms['al'], trpt=0.1, \n",
    "                        trpv=0.1, \n",
    "                        dmcoef=3.7E-10 )\n",
    "gcg = flopy.mt3d.Mt3dGcg(mt, iter1=50, mxiter=1, isolve=2, cclose= 1e-5)"
   ]
  },
  {
   "cell_type": "code",
   "execution_count": null,
   "metadata": {},
   "outputs": [],
   "source": []
  },
  {
   "cell_type": "markdown",
   "metadata": {},
   "source": [
    "# RCH"
   ]
  },
  {
   "cell_type": "code",
   "execution_count": 129,
   "metadata": {},
   "outputs": [],
   "source": [
    "# crch_array =  np.full(( nrow, ncol), 0.1, dtype=float)\n",
    "# crch_dict = {}\n",
    "# crch_dict[0] = crch_array\n",
    "# ssm = flopy.mt3d.Mt3dSsm(model, crch=crch_dict)\n",
    "\n",
    "# rch_dict = {}\n",
    "# rch_array = np.full(( nrow, ncol), 0.00013, dtype=float)\n",
    "# rch_dict[0] = rch_array\n",
    "# rch = flopy.modflow.ModflowRch(model = model, rech = rch_dict)\n",
    "\n",
    "\n",
    "# ## [row, col, rch(m3), crch, start, end]\n",
    "# rch_data = [[1100,1100,0.51,5000,1,20]]\n"
   ]
  },
  {
   "cell_type": "code",
   "execution_count": null,
   "metadata": {},
   "outputs": [],
   "source": []
  },
  {
   "cell_type": "code",
   "execution_count": null,
   "metadata": {},
   "outputs": [],
   "source": []
  },
  {
   "cell_type": "code",
   "execution_count": 130,
   "metadata": {},
   "outputs": [],
   "source": [
    "crch_array =  np.full(( nrow, ncol), 0.01, dtype=float)\n",
    "crch_dict = {}\n",
    "crch_dict[0] = crch_array\n",
    "\n",
    "crch_array =  np.full(( nrow, ncol), 0.01, dtype=float)\n",
    "\n",
    "# crch_array[int(nrow/2),int(ncol/2)] =5000\n",
    "# crch_array[int(nrow/2),int(ncol/3)] =5000\n",
    "crch_array[int((1700-70)/delr),int(ncol/3)] =5000\n",
    "crch_array[int((1700-70)/delr),int(ncol/2)] =5000\n",
    "spetic_locs = [[int((1700-70)/delr),int(ncol/3)], [int((1700-70)/delr),int(ncol/2)]]\n",
    "\n",
    "crch_dict = {}\n",
    "crch_dict[1] = crch_array\n",
    "\n",
    "\n",
    "crch_array =  np.full(( nrow, ncol), 0.01, dtype=float)\n",
    "crch_dict[26] = crch_array\n",
    "\n",
    "ssm = flopy.mt3d.Mt3dSsm(mt, crch=crch_dict)"
   ]
  },
  {
   "cell_type": "code",
   "execution_count": null,
   "metadata": {},
   "outputs": [],
   "source": []
  },
  {
   "cell_type": "code",
   "execution_count": 131,
   "metadata": {},
   "outputs": [
    {
     "data": {
      "image/png": "[encoded data removed]",
      "text/plain": [
       "<Figure size 1500x1000 with 1 Axes>"
      ]
     },
     "metadata": {},
     "output_type": "display_data"
    }
   ],
   "source": [
    "im = plt.imshow(ibound[:, :, 0], origin='upper')\n",
    "\n",
    "drns0 = np.unique([i for i in drn.stress_period_data.data[0] if i[2]==0])\n",
    "for i in drns0:\n",
    "    plt.scatter(i[1],i[0],c='cyan',s=5,marker='s')\n",
    "\n",
    "\n",
    "for i in spetic_locs:\n",
    "\n",
    "    plt.scatter([i[0],i[0],i[0],i[0]],[1,2,3,4],c='red',s=6,marker='s')\n",
    "    \n",
    "\n",
    "\n",
    "\n",
    "\n",
    "plt.gcf().set_size_inches(15,10)\n",
    "plt.show()"
   ]
  },
  {
   "cell_type": "code",
   "execution_count": null,
   "metadata": {},
   "outputs": [],
   "source": []
  },
  {
   "cell_type": "code",
   "execution_count": null,
   "metadata": {},
   "outputs": [],
   "source": []
  },
  {
   "cell_type": "markdown",
   "metadata": {},
   "source": [
    "# RCT"
   ]
  },
  {
   "cell_type": "code",
   "execution_count": 132,
   "metadata": {},
   "outputs": [],
   "source": [
    "rct = flopy.mt3d.Mt3dRct(model=mt, isothm=3,sp1=parms['sp1'],sp2=0.0001,igetsc=0,rhob= 1.65E+09)"
   ]
  },
  {
   "cell_type": "code",
   "execution_count": null,
   "metadata": {},
   "outputs": [],
   "source": []
  },
  {
   "cell_type": "code",
   "execution_count": null,
   "metadata": {},
   "outputs": [],
   "source": []
  },
  {
   "cell_type": "markdown",
   "metadata": {},
   "source": [
    "# Write and Run"
   ]
  },
  {
   "cell_type": "code",
   "execution_count": 133,
   "metadata": {},
   "outputs": [],
   "source": [
    "\n",
    "# Write MODFLOW input files\n",
    "mt.write_input()"
   ]
  },
  {
   "cell_type": "markdown",
   "metadata": {},
   "source": []
  },
  {
   "cell_type": "code",
   "execution_count": 134,
   "metadata": {},
   "outputs": [],
   "source": [
    "open_file(model_ws)"
   ]
  },
  {
   "cell_type": "code",
   "execution_count": 135,
   "metadata": {},
   "outputs": [
    {
     "name": "stdout",
     "output_type": "stream",
     "text": [
      "FloPy is using the following executable to run the model: ../../../../../../Users/b/.local/share/flopy/bin/mt3dms\n",
      " MT3DMS - Modular 3-D Multi-Species Transport Model [Version 5.30]\n",
      " Developed at University of Alabama for U.S. Department of Defense\n",
      "\n",
      " Using NAME File: mt.nam                                            \n",
      "\n",
      " STRESS PERIOD NO.    1\n",
      "\n",
      " TIME STEP NO.    1\n",
      " FROM TIME =   0.0000     TO    365.00    \n",
      "\n",
      " Transport Step:    1   Step Size:   5.000     Total Elapsed Time:   5.0000    \n",
      " Outer Iter.  1  Inner Iter.  1:  Max. DC =  0.2917E-02  [K,I,J]   50  249    3\n",
      " Outer Iter.  1  Inner Iter.  2:  Max. DC =  0.9537E-06  [K,I,J]   17   20    1\n",
      " Transport Step:    2   Step Size:   7.000     Total Elapsed Time:   12.000    \n",
      " Outer Iter.  1  Inner Iter.  1:  Max. DC =  0.2038E-02  [K,I,J]   61  319  435\n",
      " Outer Iter.  1  Inner Iter.  2:  Max. DC =  0.3278E-05  [K,I,J]   65  340    1\n",
      " Transport Step:    3   Step Size:   9.800     Total Elapsed Time:   21.800    \n",
      " Outer Iter.  1  Inner Iter.  1:  Max. DC =  0.2587E-02  [K,I,J]   61  319  435\n",
      " Outer Iter.  1  Inner Iter.  2:  Max. DC =  0.1049E-04  [K,I,J]   65  340    1\n",
      " Outer Iter.  1  Inner Iter.  3:  Max. DC =  0.2384E-06  [K,I,J]   61  315    1\n",
      " Transport Step:    4   Step Size:   13.72     Total Elapsed Time:   35.520    \n",
      " Outer Iter.  1  Inner Iter.  1:  Max. DC =  0.3211E-02  [K,I,J]   61  319  435\n",
      " Outer Iter.  1  Inner Iter.  2:  Max. DC =  0.2778E-04  [K,I,J]   65  340    2\n",
      " Outer Iter.  1  Inner Iter.  3:  Max. DC =  0.8345E-06  [K,I,J]   61  315    1\n",
      " Transport Step:    5   Step Size:   19.21     Total Elapsed Time:   54.728    \n",
      " Outer Iter.  1  Inner Iter.  1:  Max. DC =  0.3899E-02  [K,I,J]   61  319  435\n",
      " Outer Iter.  1  Inner Iter.  2:  Max. DC =  0.6390E-04  [K,I,J]   61  319    1\n",
      " Outer Iter.  1  Inner Iter.  3:  Max. DC =  0.2801E-05  [K,I,J]   62  319    1\n",
      " Transport Step:    6   Step Size:   26.89     Total Elapsed Time:   81.619    \n",
      " Outer Iter.  1  Inner Iter.  1:  Max. DC =  0.4633E-02  [K,I,J]   61  319    2\n",
      " Outer Iter.  1  Inner Iter.  2:  Max. DC =  0.1363E-03  [K,I,J]   61  319    1\n",
      " Outer Iter.  1  Inner Iter.  3:  Max. DC =  0.8464E-05  [K,I,J]   62  319    1\n",
      " Transport Step:    7   Step Size:   37.65     Total Elapsed Time:   119.27    \n",
      " Outer Iter.  1  Inner Iter.  1:  Max. DC =  0.5403E-02  [K,I,J]   61  319    2\n",
      " Outer Iter.  1  Inner Iter.  2:  Max. DC =  0.2624E-03  [K,I,J]   61  319    1\n",
      " Outer Iter.  1  Inner Iter.  3:  Max. DC =  0.2158E-04  [K,I,J]   62  319    1\n",
      " Outer Iter.  1  Inner Iter.  4:  Max. DC =  0.1550E-05  [K,I,J]   62  319    1\n",
      " Transport Step:    8   Step Size:   52.71     Total Elapsed Time:   171.97    \n",
      " Outer Iter.  1  Inner Iter.  1:  Max. DC =  0.6183E-02  [K,I,J]   61  319    2\n",
      " Outer Iter.  1  Inner Iter.  2:  Max. DC =  0.4445E-03  [K,I,J]   61  319    1\n",
      " Outer Iter.  1  Inner Iter.  3:  Max. DC =  0.4709E-04  [K,I,J]   62  319    1\n",
      " Outer Iter.  1  Inner Iter.  4:  Max. DC =  0.4113E-05  [K,I,J]   65  340    2\n",
      " Transport Step:    9   Step Size:   28.03     Total Elapsed Time:   200.00    \n",
      " Outer Iter.  1  Inner Iter.  1:  Max. DC =  0.2839E-02  [K,I,J]   61  319    2\n",
      " Outer Iter.  1  Inner Iter.  2:  Max. DC =  0.1222E-03  [K,I,J]   61  319    1\n",
      " Outer Iter.  1  Inner Iter.  3:  Max. DC =  0.6437E-05  [K,I,J]   62  319    1\n",
      " Transport Step:   10   Step Size:   103.3     Total Elapsed Time:   303.31    \n",
      " Outer Iter.  1  Inner Iter.  1:  Max. DC =  0.8473E-02  [K,I,J]   61  319    2\n",
      " Outer Iter.  1  Inner Iter.  2:  Max. DC =  0.9910E-03  [K,I,J]   61  319    1\n",
      " Outer Iter.  1  Inner Iter.  3:  Max. DC =  0.1633E-03  [K,I,J]   62  319    1\n",
      " Outer Iter.  1  Inner Iter.  4:  Max. DC =  0.2784E-04  [K,I,J]   63  321    1\n",
      " Outer Iter.  1  Inner Iter.  5:  Max. DC =  0.4530E-05  [K,I,J]   63  319    1\n",
      " Transport Step:   11   Step Size:   61.69     Total Elapsed Time:   365.00    \n",
      " Outer Iter.  1  Inner Iter.  1:  Max. DC =  0.4177E-02  [K,I,J]   61  319    2\n",
      " Outer Iter.  1  Inner Iter.  2:  Max. DC =  0.4159E-03  [K,I,J]   61  319    1\n",
      " Outer Iter.  1  Inner Iter.  3:  Max. DC =  0.4160E-04  [K,I,J]   62  319    1\n",
      " Outer Iter.  1  Inner Iter.  4:  Max. DC =  0.5066E-05  [K,I,J]   63  321    1\n",
      "\n",
      " STRESS PERIOD NO.    2\n",
      "\n",
      " TIME STEP NO.    1\n",
      " FROM TIME =   365.00     TO    730.00    \n",
      "\n",
      " Transport Step:    1   Step Size:   5.000     Total Elapsed Time:   370.00    \n",
      " Outer Iter.  1  Inner Iter.  1:  Max. DC =  0.9267E-02  [K,I,J]   62  327  147\n",
      " Outer Iter.  1  Inner Iter.  2:  Max. DC =  0.2742E-05  [K,I,J]   63  327  147\n",
      " Transport Step:    2   Step Size:   7.000     Total Elapsed Time:   377.00    \n",
      " Outer Iter.  1  Inner Iter.  1:  Max. DC =  0.1179E-01  [K,I,J]   62  327  147\n",
      " Outer Iter.  1  Inner Iter.  2:  Max. DC =  0.1240E-04  [K,I,J]   62  327  147\n",
      " Outer Iter.  1  Inner Iter.  3:  Max. DC =  0.2980E-06  [K,I,J]   63  327  147\n",
      " Transport Step:    3   Step Size:   9.800     Total Elapsed Time:   386.80    \n",
      " Outer Iter.  1  Inner Iter.  1:  Max. DC =  0.1466E-01  [K,I,J]   62  327  221\n",
      " Outer Iter.  1  Inner Iter.  2:  Max. DC =  0.6264E-04  [K,I,J]   62  327  147\n",
      " Outer Iter.  1  Inner Iter.  3:  Max. DC =  0.1490E-05  [K,I,J]   63  327  147\n",
      " Transport Step:    4   Step Size:   13.20     Total Elapsed Time:   400.00    \n",
      " Outer Iter.  1  Inner Iter.  1:  Max. DC =  0.1723E-01  [K,I,J]   62  327  147\n",
      " Outer Iter.  1  Inner Iter.  2:  Max. DC =  0.1814E-03  [K,I,J]   62  327  147\n",
      " Outer Iter.  1  Inner Iter.  3:  Max. DC =  0.5186E-05  [K,I,J]   63  327  147\n",
      " Transport Step:    5   Step Size:   19.21     Total Elapsed Time:   419.21    \n",
      " Outer Iter.  1  Inner Iter.  1:  Max. DC =  0.2133E-01  [K,I,J]   62  327  221\n",
      " Outer Iter.  1  Inner Iter.  2:  Max. DC =  0.4613E-03  [K,I,J]   62  327  147\n",
      " Outer Iter.  1  Inner Iter.  3:  Max. DC =  0.1878E-04  [K,I,J]   63  327  147\n",
      " Outer Iter.  1  Inner Iter.  4:  Max. DC =  0.5364E-06  [K,I,J]   63  327  147\n",
      " Transport Step:    6   Step Size:   26.89     Total Elapsed Time:   446.10    \n",
      " Outer Iter.  1  Inner Iter.  1:  Max. DC =  0.2488E-01  [K,I,J]   62  327  147\n",
      " Outer Iter.  1  Inner Iter.  2:  Max. DC =  0.8674E-03  [K,I,J]   62  327  147\n",
      " Outer Iter.  1  Inner Iter.  3:  Max. DC =  0.4822E-04  [K,I,J]   63  327  147\n",
      " Outer Iter.  1  Inner Iter.  4:  Max. DC =  0.1490E-05  [K,I,J]   63  327  147\n",
      " Transport Step:    7   Step Size:   37.65     Total Elapsed Time:   483.75    \n",
      " Outer Iter.  1  Inner Iter.  1:  Max. DC =  0.2853E-01  [K,I,J]   62  327  147\n",
      " Outer Iter.  1  Inner Iter.  2:  Max. DC =  0.1465E-02  [K,I,J]   62  327  147\n",
      " Outer Iter.  1  Inner Iter.  3:  Max. DC =  0.1017E-03  [K,I,J]   63  327  147\n",
      " Outer Iter.  1  Inner Iter.  4:  Max. DC =  0.2861E-05  [K,I,J]   63  327  147\n",
      " Transport Step:    8   Step Size:   52.71     Total Elapsed Time:   536.45    \n",
      " Outer Iter.  1  Inner Iter.  1:  Max. DC =  0.3212E-01  [K,I,J]   62  327  147\n",
      " Outer Iter.  1  Inner Iter.  2:  Max. DC =  0.2195E-02  [K,I,J]   62  327  147\n",
      " Outer Iter.  1  Inner Iter.  3:  Max. DC =  0.1860E-03  [K,I,J]   63  327  147\n",
      " Outer Iter.  1  Inner Iter.  4:  Max. DC =  0.7808E-05  [K,I,J]   63  328  147\n",
      " Transport Step:    9   Step Size:   63.55     Total Elapsed Time:   600.00    \n",
      " Outer Iter.  1  Inner Iter.  1:  Max. DC =  0.3108E-01  [K,I,J]   62  327  147\n",
      " Outer Iter.  1  Inner Iter.  2:  Max. DC =  0.2402E-02  [K,I,J]   62  327  147\n",
      " Outer Iter.  1  Inner Iter.  3:  Max. DC =  0.2218E-03  [K,I,J]   63  327  147\n",
      " Outer Iter.  1  Inner Iter.  4:  Max. DC =  0.1484E-04  [K,I,J]   63  328  147\n",
      " Outer Iter.  1  Inner Iter.  5:  Max. DC =  0.2801E-05  [K,I,J]   63  327  147\n",
      " Transport Step:   10   Step Size:   103.3     Total Elapsed Time:   703.31    \n",
      " Outer Iter.  1  Inner Iter.  1:  Max. DC =  0.3880E-01  [K,I,J]   62  327  147\n",
      " Outer Iter.  1  Inner Iter.  2:  Max. DC =  0.3727E-02  [K,I,J]   62  327  147\n",
      " Outer Iter.  1  Inner Iter.  3:  Max. DC =  0.4727E-03  [K,I,J]   63  327  147\n",
      " Outer Iter.  1  Inner Iter.  4:  Max. DC =  0.5943E-04  [K,I,J]   63  328  147\n",
      " Outer Iter.  1  Inner Iter.  5:  Max. DC =  0.1228E-04  [K,I,J]   63  327  147\n",
      " Outer Iter.  1  Inner Iter.  6:  Max. DC =  0.3040E-05  [K,I,J]   63  326  147\n",
      " Transport Step:   11   Step Size:   26.69     Total Elapsed Time:   730.00    \n",
      " Outer Iter.  1  Inner Iter.  1:  Max. DC =  0.8693E-02  [K,I,J]   62  327  221\n",
      " Outer Iter.  1  Inner Iter.  2:  Max. DC =  0.2985E-03  [K,I,J]   62  327  147\n",
      " Outer Iter.  1  Inner Iter.  3:  Max. DC =  0.1299E-04  [K,I,J]   63  327  147\n",
      " Outer Iter.  1  Inner Iter.  4:  Max. DC =  0.5960E-06  [K,I,J]   64  327  147\n",
      "\n",
      " STRESS PERIOD NO.    3\n",
      "\n",
      " TIME STEP NO.    1\n",
      " FROM TIME =   730.00     TO    1095.0    \n",
      "\n",
      " Transport Step:    1   Step Size:   5.000     Total Elapsed Time:   735.00    \n",
      " Outer Iter.  1  Inner Iter.  1:  Max. DC =  0.1571E-02  [K,I,J]   62  327  147\n",
      " Outer Iter.  1  Inner Iter.  2:  Max. DC =  0.4232E-05  [K,I,J]   62  327  147\n",
      " Transport Step:    2   Step Size:   7.000     Total Elapsed Time:   742.00    \n",
      " Outer Iter.  1  Inner Iter.  1:  Max. DC =  0.2159E-02  [K,I,J]   62  327  147\n",
      " Outer Iter.  1  Inner Iter.  2:  Max. DC =  0.1049E-04  [K,I,J]   62  327  147\n",
      " Outer Iter.  1  Inner Iter.  3:  Max. DC =  0.1192E-06  [K,I,J]   62  327  147\n",
      " Transport Step:    3   Step Size:   9.800     Total Elapsed Time:   751.80    \n",
      " Outer Iter.  1  Inner Iter.  1:  Max. DC =  0.2951E-02  [K,I,J]   62  327  147\n",
      " Outer Iter.  1  Inner Iter.  2:  Max. DC =  0.2450E-04  [K,I,J]   62  327  147\n",
      " Outer Iter.  1  Inner Iter.  3:  Max. DC =  0.4172E-06  [K,I,J]   62  327  147\n",
      " Transport Step:    4   Step Size:   13.72     Total Elapsed Time:   765.52    \n",
      " Outer Iter.  1  Inner Iter.  1:  Max. DC =  0.4004E-02  [K,I,J]   62  327  221\n",
      " Outer Iter.  1  Inner Iter.  2:  Max. DC =  0.5692E-04  [K,I,J]   62  327  147\n",
      " Outer Iter.  1  Inner Iter.  3:  Max. DC =  0.1311E-05  [K,I,J]   62  327  147\n",
      " Transport Step:    5   Step Size:   19.21     Total Elapsed Time:   784.73    \n",
      " Outer Iter.  1  Inner Iter.  1:  Max. DC =  0.5379E-02  [K,I,J]   62  327  221\n",
      " Outer Iter.  1  Inner Iter.  2:  Max. DC =  0.1211E-03  [K,I,J]   62  327  147\n",
      " Outer Iter.  1  Inner Iter.  3:  Max. DC =  0.3755E-05  [K,I,J]   63  327  147\n",
      " Transport Step:    6   Step Size:   15.27     Total Elapsed Time:   800.00    \n",
      " Outer Iter.  1  Inner Iter.  1:  Max. DC =  0.4093E-02  [K,I,J]   62  327  147\n",
      " Outer Iter.  1  Inner Iter.  2:  Max. DC =  0.6694E-04  [K,I,J]   62  327  147\n",
      " Outer Iter.  1  Inner Iter.  3:  Max. DC =  0.1609E-05  [K,I,J]   62  327  147\n",
      " Transport Step:    7   Step Size:   37.65     Total Elapsed Time:   837.65    \n",
      " Outer Iter.  1  Inner Iter.  1:  Max. DC =  0.9544E-02  [K,I,J]   62  327  147\n",
      " Outer Iter.  1  Inner Iter.  2:  Max. DC =  0.4603E-03  [K,I,J]   62  327  147\n",
      " Outer Iter.  1  Inner Iter.  3:  Max. DC =  0.2420E-04  [K,I,J]   63  327  147\n",
      " Outer Iter.  1  Inner Iter.  4:  Max. DC =  0.1907E-05  [K,I,J]   65  327  147\n",
      " Transport Step:    8   Step Size:   52.71     Total Elapsed Time:   890.35    \n",
      " Outer Iter.  1  Inner Iter.  1:  Max. DC =  0.1216E-01  [K,I,J]   62  327  147\n",
      " Outer Iter.  1  Inner Iter.  2:  Max. DC =  0.7768E-03  [K,I,J]   62  327  147\n",
      " Outer Iter.  1  Inner Iter.  3:  Max. DC =  0.5382E-04  [K,I,J]   64  327  147\n",
      " Outer Iter.  1  Inner Iter.  4:  Max. DC =  0.5722E-05  [K,I,J]   65  327  147\n",
      " Transport Step:    9   Step Size:   73.79     Total Elapsed Time:   964.14    \n",
      " Outer Iter.  1  Inner Iter.  1:  Max. DC =  0.1505E-01  [K,I,J]   62  327  147\n",
      " Outer Iter.  1  Inner Iter.  2:  Max. DC =  0.1188E-02  [K,I,J]   62  327  147\n",
      " Outer Iter.  1  Inner Iter.  3:  Max. DC =  0.1247E-03  [K,I,J]   65  327  147\n",
      " Outer Iter.  1  Inner Iter.  4:  Max. DC =  0.1597E-04  [K,I,J]   63  328  147\n",
      " Outer Iter.  1  Inner Iter.  5:  Max. DC =  0.2623E-05  [K,I,J]   63  327  147\n",
      " Transport Step:   10   Step Size:   35.86     Total Elapsed Time:   1000.0    \n",
      " Outer Iter.  1  Inner Iter.  1:  Max. DC =  0.6634E-02  [K,I,J]   62  327  147\n",
      " Outer Iter.  1  Inner Iter.  2:  Max. DC =  0.3032E-03  [K,I,J]   62  327  147\n",
      " Outer Iter.  1  Inner Iter.  3:  Max. DC =  0.1359E-04  [K,I,J]   63  327  147\n",
      " Outer Iter.  1  Inner Iter.  4:  Max. DC =  0.1252E-05  [K,I,J]   65  327  147\n",
      " Transport Step:   11   Step Size:   95.00     Total Elapsed Time:   1095.0    \n",
      " Outer Iter.  1  Inner Iter.  1:  Max. DC =  0.1568E-01  [K,I,J]   62  327  147\n",
      " Outer Iter.  1  Inner Iter.  2:  Max. DC =  0.1372E-02  [K,I,J]   62  327  147\n",
      " Outer Iter.  1  Inner Iter.  3:  Max. DC =  0.2084E-03  [K,I,J]   65  327  147\n",
      " Outer Iter.  1  Inner Iter.  4:  Max. DC =  0.3088E-04  [K,I,J]   63  328  147\n",
      " Outer Iter.  1  Inner Iter.  5:  Max. DC =  0.6497E-05  [K,I,J]   63  326  147\n",
      "\n",
      " STRESS PERIOD NO.    4\n",
      "\n",
      " TIME STEP NO.    1\n",
      " FROM TIME =   1095.0     TO    1460.0    \n",
      "\n",
      " Transport Step:    1   Step Size:   5.000     Total Elapsed Time:   1100.0    \n",
      " Outer Iter.  1  Inner Iter.  1:  Max. DC =  0.7766E-03  [K,I,J]   63  327  221\n",
      " Outer Iter.  1  Inner Iter.  2:  Max. DC =  0.1550E-05  [K,I,J]   62  327  147\n",
      " Transport Step:    2   Step Size:   7.000     Total Elapsed Time:   1107.0    \n",
      " Outer Iter.  1  Inner Iter.  1:  Max. DC =  0.1075E-02  [K,I,J]   63  327  221\n",
      " Outer Iter.  1  Inner Iter.  2:  Max. DC =  0.4172E-05  [K,I,J]   62  327  147\n",
      " Transport Step:    3   Step Size:   9.800     Total Elapsed Time:   1116.8    \n",
      " Outer Iter.  1  Inner Iter.  1:  Max. DC =  0.1481E-02  [K,I,J]   63  327  147\n",
      " Outer Iter.  1  Inner Iter.  2:  Max. DC =  0.1043E-04  [K,I,J]   62  327  147\n",
      " Outer Iter.  1  Inner Iter.  3:  Max. DC =  0.1192E-06  [K,I,J]   62  327  147\n",
      " Transport Step:    4   Step Size:   13.72     Total Elapsed Time:   1130.5    \n",
      " Outer Iter.  1  Inner Iter.  1:  Max. DC =  0.2025E-02  [K,I,J]   63  327  221\n",
      " Outer Iter.  1  Inner Iter.  2:  Max. DC =  0.2426E-04  [K,I,J]   62  327  147\n",
      " Outer Iter.  1  Inner Iter.  3:  Max. DC =  0.4768E-06  [K,I,J]   63  327  147\n",
      " Transport Step:    5   Step Size:   19.21     Total Elapsed Time:   1149.7    \n",
      " Outer Iter.  1  Inner Iter.  1:  Max. DC =  0.2742E-02  [K,I,J]   63  327  147\n",
      " Outer Iter.  1  Inner Iter.  2:  Max. DC =  0.5442E-04  [K,I,J]   62  327  147\n",
      " Outer Iter.  1  Inner Iter.  3:  Max. DC =  0.1431E-05  [K,I,J]   63  327  147\n",
      " Transport Step:    6   Step Size:   26.89     Total Elapsed Time:   1176.6    \n",
      " Outer Iter.  1  Inner Iter.  1:  Max. DC =  0.3661E-02  [K,I,J]   63  327  221\n",
      " Outer Iter.  1  Inner Iter.  2:  Max. DC =  0.1122E-03  [K,I,J]   62  327  147\n",
      " Outer Iter.  1  Inner Iter.  3:  Max. DC =  0.3874E-05  [K,I,J]   63  327  147\n",
      " Transport Step:    7   Step Size:   23.38     Total Elapsed Time:   1200.0    \n",
      " Outer Iter.  1  Inner Iter.  1:  Max. DC =  0.3087E-02  [K,I,J]   63  327  221\n",
      " Outer Iter.  1  Inner Iter.  2:  Max. DC =  0.8035E-04  [K,I,J]   62  327  147\n",
      " Outer Iter.  1  Inner Iter.  3:  Max. DC =  0.2444E-05  [K,I,J]   62  327  147\n",
      " Transport Step:    8   Step Size:   52.71     Total Elapsed Time:   1252.7    \n",
      " Outer Iter.  1  Inner Iter.  1:  Max. DC =  0.6530E-02  [K,I,J]   62  327  221\n",
      " Outer Iter.  1  Inner Iter.  2:  Max. DC =  0.3861E-03  [K,I,J]   62  327  147\n",
      " Outer Iter.  1  Inner Iter.  3:  Max. DC =  0.3070E-04  [K,I,J]   65  327  147\n",
      " Outer Iter.  1  Inner Iter.  4:  Max. DC =  0.3695E-05  [K,I,J]   63  328  147\n",
      " Transport Step:    9   Step Size:   73.79     Total Elapsed Time:   1326.5    \n",
      " Outer Iter.  1  Inner Iter.  1:  Max. DC =  0.8388E-02  [K,I,J]   62  327  221\n",
      " Outer Iter.  1  Inner Iter.  2:  Max. DC =  0.6132E-03  [K,I,J]   62  327  221\n",
      " Outer Iter.  1  Inner Iter.  3:  Max. DC =  0.7552E-04  [K,I,J]   65  327  147\n",
      " Outer Iter.  1  Inner Iter.  4:  Max. DC =  0.1156E-04  [K,I,J]   63  328  147\n",
      " Outer Iter.  1  Inner Iter.  5:  Max. DC =  0.1729E-05  [K,I,J]   63  326  147\n",
      " Transport Step:   10   Step Size:   73.50     Total Elapsed Time:   1400.0    \n",
      " Outer Iter.  1  Inner Iter.  1:  Max. DC =  0.7627E-02  [K,I,J]   62  327  221\n",
      " Outer Iter.  1  Inner Iter.  2:  Max. DC =  0.5616E-03  [K,I,J]   62  327  221\n",
      " Outer Iter.  1  Inner Iter.  3:  Max. DC =  0.6753E-04  [K,I,J]   65  327  147\n",
      " Outer Iter.  1  Inner Iter.  4:  Max. DC =  0.1079E-04  [K,I,J]   63  328  147\n",
      " Outer Iter.  1  Inner Iter.  5:  Max. DC =  0.1609E-05  [K,I,J]   63  326  147\n",
      " Transport Step:   11   Step Size:   60.00     Total Elapsed Time:   1460.0    \n",
      " Outer Iter.  1  Inner Iter.  1:  Max. DC =  0.5810E-02  [K,I,J]   64  327  221\n",
      " Outer Iter.  1  Inner Iter.  2:  Max. DC =  0.3731E-03  [K,I,J]   62  327  147\n",
      " Outer Iter.  1  Inner Iter.  3:  Max. DC =  0.3392E-04  [K,I,J]   65  327  147\n",
      " Outer Iter.  1  Inner Iter.  4:  Max. DC =  0.5126E-05  [K,I,J]   63  328  147\n",
      "\n",
      " STRESS PERIOD NO.    5\n",
      "\n",
      " TIME STEP NO.    1\n",
      " FROM TIME =   1460.0     TO    1825.0    \n",
      "\n",
      " Transport Step:    1   Step Size:   5.000     Total Elapsed Time:   1465.0    \n",
      " Outer Iter.  1  Inner Iter.  1:  Max. DC =  0.4847E-03  [K,I,J]   64  327  221\n",
      " Outer Iter.  1  Inner Iter.  2:  Max. DC =  0.1073E-05  [K,I,J]   62  327  147\n",
      " Transport Step:    2   Step Size:   7.000     Total Elapsed Time:   1472.0    \n",
      " Outer Iter.  1  Inner Iter.  1:  Max. DC =  0.6731E-03  [K,I,J]   64  327  221\n",
      " Outer Iter.  1  Inner Iter.  2:  Max. DC =  0.2742E-05  [K,I,J]   62  327  147\n",
      " Transport Step:    3   Step Size:   9.800     Total Elapsed Time:   1481.8    \n",
      " Outer Iter.  1  Inner Iter.  1:  Max. DC =  0.9321E-03  [K,I,J]   64  327  147\n",
      " Outer Iter.  1  Inner Iter.  2:  Max. DC =  0.6616E-05  [K,I,J]   62  327  147\n",
      " Transport Step:    4   Step Size:   13.72     Total Elapsed Time:   1495.5    \n",
      " Outer Iter.  1  Inner Iter.  1:  Max. DC =  0.1286E-02  [K,I,J]   64  327  221\n",
      " Outer Iter.  1  Inner Iter.  2:  Max. DC =  0.1538E-04  [K,I,J]   62  327  147\n",
      " Outer Iter.  1  Inner Iter.  3:  Max. DC =  0.2980E-06  [K,I,J]   62  327  147\n",
      " Transport Step:    5   Step Size:   19.21     Total Elapsed Time:   1514.7    \n",
      " Outer Iter.  1  Inner Iter.  1:  Max. DC =  0.1763E-02  [K,I,J]   64  327  221\n",
      " Outer Iter.  1  Inner Iter.  2:  Max. DC =  0.3380E-04  [K,I,J]   62  327  147\n",
      " Outer Iter.  1  Inner Iter.  3:  Max. DC =  0.8941E-06  [K,I,J]   62  327  147\n",
      " Transport Step:    6   Step Size:   26.89     Total Elapsed Time:   1541.6    \n",
      " Outer Iter.  1  Inner Iter.  1:  Max. DC =  0.2398E-02  [K,I,J]   64  327  221\n",
      " Outer Iter.  1  Inner Iter.  2:  Max. DC =  0.6998E-04  [K,I,J]   62  327  147\n",
      " Outer Iter.  1  Inner Iter.  3:  Max. DC =  0.2682E-05  [K,I,J]   62  327  147\n",
      " Transport Step:    7   Step Size:   37.65     Total Elapsed Time:   1579.3    \n",
      " Outer Iter.  1  Inner Iter.  1:  Max. DC =  0.3223E-02  [K,I,J]   64  327  221\n",
      " Outer Iter.  1  Inner Iter.  2:  Max. DC =  0.1348E-03  [K,I,J]   62  327  147\n",
      " Outer Iter.  1  Inner Iter.  3:  Max. DC =  0.7093E-05  [K,I,J]   62  327  147\n",
      " Transport Step:    8   Step Size:   52.71     Total Elapsed Time:   1632.0    \n",
      " Outer Iter.  1  Inner Iter.  1:  Max. DC =  0.4264E-02  [K,I,J]   64  327  221\n",
      " Outer Iter.  1  Inner Iter.  2:  Max. DC =  0.2445E-03  [K,I,J]   62  326  147\n",
      " Outer Iter.  1  Inner Iter.  3:  Max. DC =  0.1812E-04  [K,I,J]   66  327  147\n",
      " Outer Iter.  1  Inner Iter.  4:  Max. DC =  0.2801E-05  [K,I,J]   63  328  147\n",
      " Transport Step:    9   Step Size:   73.79     Total Elapsed Time:   1705.8    \n",
      " Outer Iter.  1  Inner Iter.  1:  Max. DC =  0.5520E-02  [K,I,J]   64  327  221\n",
      " Outer Iter.  1  Inner Iter.  2:  Max. DC =  0.4976E-03  [K,I,J]   62  326  147\n",
      " Outer Iter.  1  Inner Iter.  3:  Max. DC =  0.4786E-04  [K,I,J]   66  327  221\n",
      " Outer Iter.  1  Inner Iter.  4:  Max. DC =  0.8821E-05  [K,I,J]   63  328  147\n",
      " Transport Step:   10   Step Size:   103.3     Total Elapsed Time:   1809.1    \n",
      " Outer Iter.  1  Inner Iter.  1:  Max. DC =  0.6967E-02  [K,I,J]   65  327  221\n",
      " Outer Iter.  1  Inner Iter.  2:  Max. DC =  0.9494E-03  [K,I,J]   62  326  221\n",
      " Outer Iter.  1  Inner Iter.  3:  Max. DC =  0.1153E-03  [K,I,J]   62  328  147\n",
      " Outer Iter.  1  Inner Iter.  4:  Max. DC =  0.2283E-04  [K,I,J]   63  328  147\n",
      " Outer Iter.  1  Inner Iter.  5:  Max. DC =  0.5662E-05  [K,I,J]   63  326  147\n",
      " Transport Step:   11   Step Size:   15.93     Total Elapsed Time:   1825.0    \n",
      " Outer Iter.  1  Inner Iter.  1:  Max. DC =  0.1080E-02  [K,I,J]   64  327  221\n",
      " Outer Iter.  1  Inner Iter.  2:  Max. DC =  0.1538E-04  [K,I,J]   62  327  147\n",
      " Outer Iter.  1  Inner Iter.  3:  Max. DC =  0.3576E-06  [K,I,J]   62  327  147\n",
      "\n",
      " STRESS PERIOD NO.    6\n",
      "\n",
      " TIME STEP NO.    1\n",
      " FROM TIME =   1825.0     TO    2190.0    \n",
      "\n",
      " Transport Step:    1   Step Size:   5.000     Total Elapsed Time:   1830.0    \n",
      " Outer Iter.  1  Inner Iter.  1:  Max. DC =  0.3378E-03  [K,I,J]   64  327  147\n",
      " Outer Iter.  1  Inner Iter.  2:  Max. DC =  0.7153E-06  [K,I,J]   62  327  147\n",
      " Transport Step:    2   Step Size:   7.000     Total Elapsed Time:   1837.0    \n",
      " Outer Iter.  1  Inner Iter.  1:  Max. DC =  0.4701E-03  [K,I,J]   64  327  147\n",
      " Outer Iter.  1  Inner Iter.  2:  Max. DC =  0.1788E-05  [K,I,J]   62  327  147\n",
      " Transport Step:    3   Step Size:   9.800     Total Elapsed Time:   1846.8    \n",
      " Outer Iter.  1  Inner Iter.  1:  Max. DC =  0.6526E-03  [K,I,J]   64  327  221\n",
      " Outer Iter.  1  Inner Iter.  2:  Max. DC =  0.4351E-05  [K,I,J]   62  327  147\n",
      " Transport Step:    4   Step Size:   13.72     Total Elapsed Time:   1860.5    \n",
      " Outer Iter.  1  Inner Iter.  1:  Max. DC =  0.9030E-03  [K,I,J]   64  327  147\n",
      " Outer Iter.  1  Inner Iter.  2:  Max. DC =  0.1013E-04  [K,I,J]   62  327  147\n",
      " Outer Iter.  1  Inner Iter.  3:  Max. DC =  0.1788E-06  [K,I,J]   62  327  147\n",
      " Transport Step:    5   Step Size:   19.21     Total Elapsed Time:   1879.7    \n",
      " Outer Iter.  1  Inner Iter.  1:  Max. DC =  0.1243E-02  [K,I,J]   64  327  147\n",
      " Outer Iter.  1  Inner Iter.  2:  Max. DC =  0.2229E-04  [K,I,J]   62  327  147\n",
      " Outer Iter.  1  Inner Iter.  3:  Max. DC =  0.6557E-06  [K,I,J]   62  327  147\n",
      " Transport Step:    6   Step Size:   26.89     Total Elapsed Time:   1906.6    \n",
      " Outer Iter.  1  Inner Iter.  1:  Max. DC =  0.1699E-02  [K,I,J]   64  327  147\n",
      " Outer Iter.  1  Inner Iter.  2:  Max. DC =  0.4941E-04  [K,I,J]   63  328  147\n",
      " Outer Iter.  1  Inner Iter.  3:  Max. DC =  0.2027E-05  [K,I,J]   62  328  147\n",
      " Transport Step:    7   Step Size:   37.65     Total Elapsed Time:   1944.3    \n",
      " Outer Iter.  1  Inner Iter.  1:  Max. DC =  0.2313E-02  [K,I,J]   62  328  221\n",
      " Outer Iter.  1  Inner Iter.  2:  Max. DC =  0.1045E-03  [K,I,J]   63  328  147\n",
      " Outer Iter.  1  Inner Iter.  3:  Max. DC =  0.6020E-05  [K,I,J]   62  328  147\n",
      " Transport Step:    8   Step Size:   52.71     Total Elapsed Time:   1997.0    \n",
      " Outer Iter.  1  Inner Iter.  1:  Max. DC =  0.3178E-02  [K,I,J]   62  328  147\n",
      " Outer Iter.  1  Inner Iter.  2:  Max. DC =  0.2077E-03  [K,I,J]   62  326  147\n",
      " Outer Iter.  1  Inner Iter.  3:  Max. DC =  0.1693E-04  [K,I,J]   62  328  147\n",
      " Outer Iter.  1  Inner Iter.  4:  Max. DC =  0.2265E-05  [K,I,J]   63  328  147\n",
      " Transport Step:    9   Step Size:   73.79     Total Elapsed Time:   2070.8    \n",
      " Outer Iter.  1  Inner Iter.  1:  Max. DC =  0.4307E-02  [K,I,J]   62  328  221\n",
      " Outer Iter.  1  Inner Iter.  2:  Max. DC =  0.4269E-03  [K,I,J]   62  326  147\n",
      " Outer Iter.  1  Inner Iter.  3:  Max. DC =  0.4411E-04  [K,I,J]   62  328  147\n",
      " Outer Iter.  1  Inner Iter.  4:  Max. DC =  0.6974E-05  [K,I,J]   63  328  147\n",
      " Transport Step:   10   Step Size:   103.3     Total Elapsed Time:   2174.1    \n",
      " Outer Iter.  1  Inner Iter.  1:  Max. DC =  0.5722E-02  [K,I,J]   62  328  221\n",
      " Outer Iter.  1  Inner Iter.  2:  Max. DC =  0.8191E-03  [K,I,J]   62  326  147\n",
      " Outer Iter.  1  Inner Iter.  3:  Max. DC =  0.1063E-03  [K,I,J]   62  328  147\n",
      " Outer Iter.  1  Inner Iter.  4:  Max. DC =  0.1818E-04  [K,I,J]   63  326  147\n",
      " Outer Iter.  1  Inner Iter.  5:  Max. DC =  0.4590E-05  [K,I,J]   63  326  147\n",
      " Transport Step:   11   Step Size:   15.93     Total Elapsed Time:   2190.0    \n",
      " Outer Iter.  1  Inner Iter.  1:  Max. DC =  0.8538E-03  [K,I,J]   62  328  221\n",
      " Outer Iter.  1  Inner Iter.  2:  Max. DC =  0.1264E-04  [K,I,J]   63  328  147\n",
      " Outer Iter.  1  Inner Iter.  3:  Max. DC =  0.2980E-06  [K,I,J]   62  328  147\n",
      "\n",
      " STRESS PERIOD NO.    7\n",
      "\n",
      " TIME STEP NO.    1\n",
      " FROM TIME =   2190.0     TO    2555.0    \n",
      "\n",
      " Transport Step:    1   Step Size:   5.000     Total Elapsed Time:   2195.0    \n",
      " Outer Iter.  1  Inner Iter.  1:  Max. DC =  0.2647E-03  [K,I,J]   62  328  147\n",
      " Outer Iter.  1  Inner Iter.  2:  Max. DC =  0.5364E-06  [K,I,J]   62  328  147\n",
      " Transport Step:    2   Step Size:   7.000     Total Elapsed Time:   2202.0    \n",
      " Outer Iter.  1  Inner Iter.  1:  Max. DC =  0.3698E-03  [K,I,J]   62  328  221\n",
      " Outer Iter.  1  Inner Iter.  2:  Max. DC =  0.1431E-05  [K,I,J]   63  328  147\n",
      " Transport Step:    3   Step Size:   9.800     Total Elapsed Time:   2211.8    \n",
      " Outer Iter.  1  Inner Iter.  1:  Max. DC =  0.5170E-03  [K,I,J]   62  328  147\n",
      " Outer Iter.  1  Inner Iter.  2:  Max. DC =  0.3517E-05  [K,I,J]   63  328  147\n",
      " Transport Step:    4   Step Size:   13.72     Total Elapsed Time:   2225.5    \n",
      " Outer Iter.  1  Inner Iter.  1:  Max. DC =  0.7223E-03  [K,I,J]   62  328  221\n",
      " Outer Iter.  1  Inner Iter.  2:  Max. DC =  0.8523E-05  [K,I,J]   63  328  147\n",
      " Transport Step:    5   Step Size:   19.21     Total Elapsed Time:   2244.7    \n",
      " Outer Iter.  1  Inner Iter.  1:  Max. DC =  0.1008E-02  [K,I,J]   62  328  147\n",
      " Outer Iter.  1  Inner Iter.  2:  Max. DC =  0.1967E-04  [K,I,J]   63  328  147\n",
      " Outer Iter.  1  Inner Iter.  3:  Max. DC =  0.5364E-06  [K,I,J]   62  328  147\n",
      " Transport Step:    6   Step Size:   26.89     Total Elapsed Time:   2271.6    \n",
      " Outer Iter.  1  Inner Iter.  1:  Max. DC =  0.1403E-02  [K,I,J]   62  328  221\n",
      " Outer Iter.  1  Inner Iter.  2:  Max. DC =  0.4351E-04  [K,I,J]   63  328  147\n",
      " Outer Iter.  1  Inner Iter.  3:  Max. DC =  0.1788E-05  [K,I,J]   62  328  147\n",
      " Transport Step:    7   Step Size:   37.65     Total Elapsed Time:   2309.3    \n",
      " Outer Iter.  1  Inner Iter.  1:  Max. DC =  0.1945E-02  [K,I,J]   62  328  147\n",
      " Outer Iter.  1  Inner Iter.  2:  Max. DC =  0.9084E-04  [K,I,J]   63  328  147\n",
      " Outer Iter.  1  Inner Iter.  3:  Max. DC =  0.5364E-05  [K,I,J]   62  328  147\n",
      " Transport Step:    8   Step Size:   52.71     Total Elapsed Time:   2362.0    \n",
      " Outer Iter.  1  Inner Iter.  1:  Max. DC =  0.2673E-02  [K,I,J]   62  328  147\n",
      " Outer Iter.  1  Inner Iter.  2:  Max. DC =  0.1792E-03  [K,I,J]   63  328  147\n",
      " Outer Iter.  1  Inner Iter.  3:  Max. DC =  0.1526E-04  [K,I,J]   62  328  147\n",
      " Outer Iter.  1  Inner Iter.  4:  Max. DC =  0.1788E-05  [K,I,J]   63  328  147\n",
      " Transport Step:    9   Step Size:   73.79     Total Elapsed Time:   2435.8    \n",
      " Outer Iter.  1  Inner Iter.  1:  Max. DC =  0.3625E-02  [K,I,J]   62  328  147\n",
      " Outer Iter.  1  Inner Iter.  2:  Max. DC =  0.3640E-03  [K,I,J]   62  326  147\n",
      " Outer Iter.  1  Inner Iter.  3:  Max. DC =  0.4005E-04  [K,I,J]   62  328  147\n",
      " Outer Iter.  1  Inner Iter.  4:  Max. DC =  0.5543E-05  [K,I,J]   63  328  147\n",
      " Transport Step:   10   Step Size:   103.3     Total Elapsed Time:   2539.1    \n",
      " Outer Iter.  1  Inner Iter.  1:  Max. DC =  0.4831E-02  [K,I,J]   62  328  147\n",
      " Outer Iter.  1  Inner Iter.  2:  Max. DC =  0.7070E-03  [K,I,J]   62  326  147\n",
      " Outer Iter.  1  Inner Iter.  3:  Max. DC =  0.9632E-04  [K,I,J]   62  328  147\n",
      " Outer Iter.  1  Inner Iter.  4:  Max. DC =  0.1520E-04  [K,I,J]   63  326  147\n",
      " Outer Iter.  1  Inner Iter.  5:  Max. DC =  0.3755E-05  [K,I,J]   63  326  147\n",
      " Transport Step:   11   Step Size:   15.93     Total Elapsed Time:   2555.0    \n",
      " Outer Iter.  1  Inner Iter.  1:  Max. DC =  0.7226E-03  [K,I,J]   62  328  221\n",
      " Outer Iter.  1  Inner Iter.  2:  Max. DC =  0.1138E-04  [K,I,J]   63  328  147\n",
      " Outer Iter.  1  Inner Iter.  3:  Max. DC =  0.2384E-06  [K,I,J]   62  328  147\n",
      "\n",
      " STRESS PERIOD NO.    8\n",
      "\n",
      " TIME STEP NO.    1\n",
      " FROM TIME =   2555.0     TO    2920.0    \n",
      "\n",
      " Transport Step:    1   Step Size:   5.000     Total Elapsed Time:   2560.0    \n",
      " Outer Iter.  1  Inner Iter.  1:  Max. DC =  0.2242E-03  [K,I,J]   62  328  221\n",
      " Outer Iter.  1  Inner Iter.  2:  Max. DC =  0.5364E-06  [K,I,J]   63  328  147\n",
      " Transport Step:    2   Step Size:   7.000     Total Elapsed Time:   2567.0    \n",
      " Outer Iter.  1  Inner Iter.  1:  Max. DC =  0.3135E-03  [K,I,J]   62  328  147\n",
      " Outer Iter.  1  Inner Iter.  2:  Max. DC =  0.1311E-05  [K,I,J]   63  328  147\n",
      " Transport Step:    3   Step Size:   9.800     Total Elapsed Time:   2576.8    \n",
      " Outer Iter.  1  Inner Iter.  1:  Max. DC =  0.4379E-03  [K,I,J]   62  328  147\n",
      " Outer Iter.  1  Inner Iter.  2:  Max. DC =  0.3159E-05  [K,I,J]   63  328  147\n",
      " Transport Step:    4   Step Size:   13.72     Total Elapsed Time:   2590.5    \n",
      " Outer Iter.  1  Inner Iter.  1:  Max. DC =  0.6117E-03  [K,I,J]   62  328  221\n",
      " Outer Iter.  1  Inner Iter.  2:  Max. DC =  0.7570E-05  [K,I,J]   63  328  147\n",
      " Transport Step:    5   Step Size:   19.21     Total Elapsed Time:   2609.7    \n",
      " Outer Iter.  1  Inner Iter.  1:  Max. DC =  0.8535E-03  [K,I,J]   62  328  147\n",
      " Outer Iter.  1  Inner Iter.  2:  Max. DC =  0.1740E-04  [K,I,J]   63  328  147\n",
      " Outer Iter.  1  Inner Iter.  3:  Max. DC =  0.4768E-06  [K,I,J]   62  328  147\n",
      " Transport Step:    6   Step Size:   26.89     Total Elapsed Time:   2636.6    \n",
      " Outer Iter.  1  Inner Iter.  1:  Max. DC =  0.1188E-02  [K,I,J]   62  328  147\n",
      " Outer Iter.  1  Inner Iter.  2:  Max. DC =  0.3856E-04  [K,I,J]   63  328  147\n",
      " Outer Iter.  1  Inner Iter.  3:  Max. DC =  0.1490E-05  [K,I,J]   62  328  147\n",
      " Transport Step:    7   Step Size:   37.65     Total Elapsed Time:   2674.3    \n",
      " Outer Iter.  1  Inner Iter.  1:  Max. DC =  0.1648E-02  [K,I,J]   62  328  221\n",
      " Outer Iter.  1  Inner Iter.  2:  Max. DC =  0.8011E-04  [K,I,J]   63  328  147\n",
      " Outer Iter.  1  Inner Iter.  3:  Max. DC =  0.4709E-05  [K,I,J]   62  328  147\n",
      " Transport Step:    8   Step Size:   52.71     Total Elapsed Time:   2727.0    \n",
      " Outer Iter.  1  Inner Iter.  1:  Max. DC =  0.2266E-02  [K,I,J]   62  328  147\n",
      " Outer Iter.  1  Inner Iter.  2:  Max. DC =  0.1571E-03  [K,I,J]   63  328  147\n",
      " Outer Iter.  1  Inner Iter.  3:  Max. DC =  0.1359E-04  [K,I,J]   62  328  147\n",
      " Outer Iter.  1  Inner Iter.  4:  Max. DC =  0.1431E-05  [K,I,J]   63  328  147\n",
      " Transport Step:    9   Step Size:   73.79     Total Elapsed Time:   2800.8    \n",
      " Outer Iter.  1  Inner Iter.  1:  Max. DC =  0.3080E-02  [K,I,J]   62  328  147\n",
      " Outer Iter.  1  Inner Iter.  2:  Max. DC =  0.3158E-03  [K,I,J]   62  326  147\n",
      " Outer Iter.  1  Inner Iter.  3:  Max. DC =  0.3606E-04  [K,I,J]   62  328  147\n",
      " Outer Iter.  1  Inner Iter.  4:  Max. DC =  0.4351E-05  [K,I,J]   63  328  147\n",
      " Transport Step:   10   Step Size:   103.3     Total Elapsed Time:   2904.1    \n",
      " Outer Iter.  1  Inner Iter.  1:  Max. DC =  0.4111E-02  [K,I,J]   62  328  147\n",
      " Outer Iter.  1  Inner Iter.  2:  Max. DC =  0.6139E-03  [K,I,J]   62  326  147\n",
      " Outer Iter.  1  Inner Iter.  3:  Max. DC =  0.8690E-04  [K,I,J]   62  328  147\n",
      " Outer Iter.  1  Inner Iter.  4:  Max. DC =  0.1281E-04  [K,I,J]   63  326  147\n",
      " Outer Iter.  1  Inner Iter.  5:  Max. DC =  0.3159E-05  [K,I,J]   63  326  147\n",
      " Transport Step:   11   Step Size:   15.93     Total Elapsed Time:   2920.0    \n",
      " Outer Iter.  1  Inner Iter.  1:  Max. DC =  0.6177E-03  [K,I,J]   62  328  147\n",
      " Outer Iter.  1  Inner Iter.  2:  Max. DC =  0.9954E-05  [K,I,J]   63  328  147\n",
      "\n",
      " STRESS PERIOD NO.    9\n",
      "\n",
      " TIME STEP NO.    1\n",
      " FROM TIME =   2920.0     TO    3285.0    \n",
      "\n",
      " Transport Step:    1   Step Size:   5.000     Total Elapsed Time:   2925.0    \n",
      " Outer Iter.  1  Inner Iter.  1:  Max. DC =  0.1918E-03  [K,I,J]   62  328  221\n",
      " Outer Iter.  1  Inner Iter.  2:  Max. DC =  0.4768E-06  [K,I,J]   63  328  147\n",
      " Transport Step:    2   Step Size:   7.000     Total Elapsed Time:   2932.0    \n",
      " Outer Iter.  1  Inner Iter.  1:  Max. DC =  0.2680E-03  [K,I,J]   62  328  221\n",
      " Outer Iter.  1  Inner Iter.  2:  Max. DC =  0.1132E-05  [K,I,J]   63  328  147\n",
      " Transport Step:    3   Step Size:   9.800     Total Elapsed Time:   2941.8    \n",
      " Outer Iter.  1  Inner Iter.  1:  Max. DC =  0.3744E-03  [K,I,J]   62  328  147\n",
      " Outer Iter.  1  Inner Iter.  2:  Max. DC =  0.2801E-05  [K,I,J]   63  328  147\n",
      " Transport Step:    4   Step Size:   13.72     Total Elapsed Time:   2955.5    \n",
      " Outer Iter.  1  Inner Iter.  1:  Max. DC =  0.5229E-03  [K,I,J]   62  328  147\n",
      " Outer Iter.  1  Inner Iter.  2:  Max. DC =  0.6735E-05  [K,I,J]   63  328  147\n",
      " Transport Step:    5   Step Size:   19.21     Total Elapsed Time:   2974.7    \n",
      " Outer Iter.  1  Inner Iter.  1:  Max. DC =  0.7299E-03  [K,I,J]   62  328  147\n",
      " Outer Iter.  1  Inner Iter.  2:  Max. DC =  0.1550E-04  [K,I,J]   63  328  147\n",
      " Outer Iter.  1  Inner Iter.  3:  Max. DC =  0.3576E-06  [K,I,J]   62  328  147\n",
      " Transport Step:    6   Step Size:   26.89     Total Elapsed Time:   3001.6    \n",
      " Outer Iter.  1  Inner Iter.  1:  Max. DC =  0.1016E-02  [K,I,J]   62  328  147\n",
      " Outer Iter.  1  Inner Iter.  2:  Max. DC =  0.3457E-04  [K,I,J]   63  328  147\n",
      " Outer Iter.  1  Inner Iter.  3:  Max. DC =  0.1311E-05  [K,I,J]   62  328  147\n",
      " Transport Step:    7   Step Size:   37.65     Total Elapsed Time:   3039.3    \n",
      " Outer Iter.  1  Inner Iter.  1:  Max. DC =  0.1409E-02  [K,I,J]   62  328  221\n",
      " Outer Iter.  1  Inner Iter.  2:  Max. DC =  0.7105E-04  [K,I,J]   63  328  221\n",
      " Outer Iter.  1  Inner Iter.  3:  Max. DC =  0.4053E-05  [K,I,J]   62  328  147\n",
      " Transport Step:    8   Step Size:   52.71     Total Elapsed Time:   3092.0    \n",
      " Outer Iter.  1  Inner Iter.  1:  Max. DC =  0.1939E-02  [K,I,J]   62  328  147\n",
      " Outer Iter.  1  Inner Iter.  2:  Max. DC =  0.1382E-03  [K,I,J]   63  328  147\n",
      " Outer Iter.  1  Inner Iter.  3:  Max. DC =  0.1192E-04  [K,I,J]   62  328  147\n",
      " Outer Iter.  1  Inner Iter.  4:  Max. DC =  0.1192E-05  [K,I,J]   63  328  147\n",
      " Transport Step:    9   Step Size:   73.79     Total Elapsed Time:   3165.8    \n",
      " Outer Iter.  1  Inner Iter.  1:  Max. DC =  0.2640E-02  [K,I,J]   62  328  147\n",
      " Outer Iter.  1  Inner Iter.  2:  Max. DC =  0.2734E-03  [K,I,J]   62  326  221\n",
      " Outer Iter.  1  Inner Iter.  3:  Max. DC =  0.3171E-04  [K,I,J]   62  328  147\n",
      " Outer Iter.  1  Inner Iter.  4:  Max. DC =  0.3338E-05  [K,I,J]   63  328  147\n",
      " Transport Step:   10   Step Size:   103.3     Total Elapsed Time:   3269.1    \n",
      " Outer Iter.  1  Inner Iter.  1:  Max. DC =  0.3531E-02  [K,I,J]   62  328  221\n",
      " Outer Iter.  1  Inner Iter.  2:  Max. DC =  0.5347E-03  [K,I,J]   62  326  147\n",
      " Outer Iter.  1  Inner Iter.  3:  Max. DC =  0.7755E-04  [K,I,J]   62  328  147\n",
      " Outer Iter.  1  Inner Iter.  4:  Max. DC =  0.1091E-04  [K,I,J]   63  326  147\n",
      " Outer Iter.  1  Inner Iter.  5:  Max. DC =  0.2682E-05  [K,I,J]   63  326  147\n",
      " Transport Step:   11   Step Size:   15.93     Total Elapsed Time:   3285.0    \n",
      " Outer Iter.  1  Inner Iter.  1:  Max. DC =  0.5327E-03  [K,I,J]   62  328  221\n",
      " Outer Iter.  1  Inner Iter.  2:  Max. DC =  0.8941E-05  [K,I,J]   63  328  147\n",
      "\n",
      " STRESS PERIOD NO.   10\n",
      "\n",
      " TIME STEP NO.    1\n",
      " FROM TIME =   3285.0     TO    3650.0    \n",
      "\n",
      " Transport Step:    1   Step Size:   5.000     Total Elapsed Time:   3290.0    \n",
      " Outer Iter.  1  Inner Iter.  1:  Max. DC =  0.1655E-03  [K,I,J]   62  328  221\n",
      " Outer Iter.  1  Inner Iter.  2:  Max. DC =  0.4172E-06  [K,I,J]   63  328  147\n",
      " Transport Step:    2   Step Size:   7.000     Total Elapsed Time:   3297.0    \n",
      " Outer Iter.  1  Inner Iter.  1:  Max. DC =  0.2313E-03  [K,I,J]   62  328  221\n",
      " Outer Iter.  1  Inner Iter.  2:  Max. DC =  0.1013E-05  [K,I,J]   63  328  147\n",
      " Transport Step:    3   Step Size:   9.800     Total Elapsed Time:   3306.8    \n",
      " Outer Iter.  1  Inner Iter.  1:  Max. DC =  0.3232E-03  [K,I,J]   62  328  147\n",
      " Outer Iter.  1  Inner Iter.  2:  Max. DC =  0.2503E-05  [K,I,J]   63  328  147\n",
      " Transport Step:    4   Step Size:   13.72     Total Elapsed Time:   3320.5    \n",
      " Outer Iter.  1  Inner Iter.  1:  Max. DC =  0.4515E-03  [K,I,J]   62  328  221\n",
      " Outer Iter.  1  Inner Iter.  2:  Max. DC =  0.6020E-05  [K,I,J]   63  328  147\n",
      " Transport Step:    5   Step Size:   19.21     Total Elapsed Time:   3339.7    \n",
      " Outer Iter.  1  Inner Iter.  1:  Max. DC =  0.6301E-03  [K,I,J]   62  328  147\n",
      " Outer Iter.  1  Inner Iter.  2:  Max. DC =  0.1389E-04  [K,I,J]   63  328  147\n",
      " Outer Iter.  1  Inner Iter.  3:  Max. DC =  0.2980E-06  [K,I,J]   62  328  147\n",
      " Transport Step:    6   Step Size:   26.89     Total Elapsed Time:   3366.6    \n",
      " Outer Iter.  1  Inner Iter.  1:  Max. DC =  0.8779E-03  [K,I,J]   62  328  221\n",
      " Outer Iter.  1  Inner Iter.  2:  Max. DC =  0.3046E-04  [K,I,J]   63  328  147\n",
      " Outer Iter.  1  Inner Iter.  3:  Max. DC =  0.1132E-05  [K,I,J]   62  328  147\n",
      " Transport Step:    7   Step Size:   37.65     Total Elapsed Time:   3404.3    \n",
      " Outer Iter.  1  Inner Iter.  1:  Max. DC =  0.1218E-02  [K,I,J]   62  328  221\n",
      " Outer Iter.  1  Inner Iter.  2:  Max. DC =  0.6300E-04  [K,I,J]   63  328  147\n",
      " Outer Iter.  1  Inner Iter.  3:  Max. DC =  0.3576E-05  [K,I,J]   62  328  147\n",
      " Transport Step:    8   Step Size:   52.71     Total Elapsed Time:   3457.0    \n",
      " Outer Iter.  1  Inner Iter.  1:  Max. DC =  0.1678E-02  [K,I,J]   62  328  147\n",
      " Outer Iter.  1  Inner Iter.  2:  Max. DC =  0.1220E-03  [K,I,J]   63  328  147\n",
      " Outer Iter.  1  Inner Iter.  3:  Max. DC =  0.1055E-04  [K,I,J]   62  328  147\n",
      " Outer Iter.  1  Inner Iter.  4:  Max. DC =  0.9537E-06  [K,I,J]   63  328  147\n",
      " Transport Step:    9   Step Size:   73.79     Total Elapsed Time:   3530.8    \n",
      " Outer Iter.  1  Inner Iter.  1:  Max. DC =  0.2286E-02  [K,I,J]   62  328  221\n",
      " Outer Iter.  1  Inner Iter.  2:  Max. DC =  0.2394E-03  [K,I,J]   62  326  147\n",
      " Outer Iter.  1  Inner Iter.  3:  Max. DC =  0.2855E-04  [K,I,J]   62  328  147\n",
      " Outer Iter.  1  Inner Iter.  4:  Max. DC =  0.2623E-05  [K,I,J]   63  328  147\n",
      " Transport Step:   10   Step Size:   103.3     Total Elapsed Time:   3634.1    \n",
      " Outer Iter.  1  Inner Iter.  1:  Max. DC =  0.3069E-02  [K,I,J]   62  328  221\n",
      " Outer Iter.  1  Inner Iter.  2:  Max. DC =  0.4734E-03  [K,I,J]   62  326  147\n",
      " Outer Iter.  1  Inner Iter.  3:  Max. DC =  0.6974E-04  [K,I,J]   62  328  147\n",
      " Outer Iter.  1  Inner Iter.  4:  Max. DC =  0.9358E-05  [K,I,J]   63  326  147\n",
      " Transport Step:   11   Step Size:   15.93     Total Elapsed Time:   3650.0    \n",
      " Outer Iter.  1  Inner Iter.  1:  Max. DC =  0.4641E-03  [K,I,J]   62  328  221\n",
      " Outer Iter.  1  Inner Iter.  2:  Max. DC =  0.7987E-05  [K,I,J]   63  328  147\n",
      "\n",
      " Program completed.   Total CPU time:  012 minutes 29.560 seconds\n"
     ]
    },
    {
     "data": {
      "text/plain": [
       "(False, [])"
      ]
     },
     "execution_count": 135,
     "metadata": {},
     "output_type": "execute_result"
    }
   ],
   "source": [
    "# Run the MODFLOW model\n",
    "mt.run_model()"
   ]
  },
  {
   "cell_type": "code",
   "execution_count": null,
   "metadata": {},
   "outputs": [],
   "source": []
  },
  {
   "cell_type": "code",
   "execution_count": 136,
   "metadata": {},
   "outputs": [
    {
     "data": {
      "text/plain": [
       "'/var/folders/hy/v14_l_r91tl2w5s9xfm9p2kc0000gn/T/_T1221122318_wasaga_tucxxlkj'"
      ]
     },
     "execution_count": 136,
     "metadata": {},
     "output_type": "execute_result"
    }
   ],
   "source": [
    "model_ws"
   ]
  },
  {
   "cell_type": "code",
   "execution_count": null,
   "metadata": {},
   "outputs": [],
   "source": []
  },
  {
   "cell_type": "code",
   "execution_count": null,
   "metadata": {},
   "outputs": [],
   "source": []
  },
  {
   "cell_type": "code",
   "execution_count": null,
   "metadata": {},
   "outputs": [],
   "source": []
  },
  {
   "cell_type": "code",
   "execution_count": null,
   "metadata": {},
   "outputs": [],
   "source": []
  },
  {
   "cell_type": "code",
   "execution_count": null,
   "metadata": {},
   "outputs": [],
   "source": []
  }
 ],
 "metadata": {
  "kernelspec": {
   "display_name": "Python 3",
   "language": "python",
   "name": "python3"
  },
  "language_info": {
   "codemirror_mode": {
    "name": "ipython",
    "version": 3
   },
   "file_extension": ".py",
   "mimetype": "text/x-python",
   "name": "python",
   "nbconvert_exporter": "python",
   "pygments_lexer": "ipython3",
   "version": "3.11.3"
  }
 },
 "nbformat": 4,
 "nbformat_minor": 4
}
