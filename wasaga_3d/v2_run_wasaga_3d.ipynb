{
 "cells": [
  {
   "cell_type": "code",
   "execution_count": null,
   "metadata": {},
   "outputs": [],
   "source": []
  },
  {
   "cell_type": "markdown",
   "metadata": {},
   "source": [
    "# Import"
   ]
  },
  {
   "cell_type": "markdown",
   "metadata": {},
   "source": [
    "- fix shoreline\n",
    "- add more septics\n",
    "- 1965 images\n",
    "- flux"
   ]
  },
  {
   "cell_type": "markdown",
   "metadata": {},
   "source": []
  },
  {
   "cell_type": "code",
   "execution_count": 67,
   "metadata": {},
   "outputs": [],
   "source": [
    "import flopy\n",
    "import numpy as np\n",
    "import matplotlib.pyplot as plt\n",
    "import shutil\n",
    "from pathlib import Path\n",
    "\n",
    "from datetime import datetime\n",
    "from tempfile import TemporaryDirectory\n",
    "from tempfile import mkdtemp\n",
    "\n",
    "import os\n",
    "import platform\n",
    "import subprocess\n",
    "from shapely.geometry import Polygon, Point\n",
    "from scipy.interpolate import make_interp_spline\n",
    "from random_name import generate_random_name\n"
   ]
  },
  {
   "cell_type": "code",
   "execution_count": null,
   "metadata": {},
   "outputs": [],
   "source": []
  },
  {
   "cell_type": "code",
   "execution_count": 68,
   "metadata": {},
   "outputs": [],
   "source": [
    "def locate_ground_surface_lay(row=150):\n",
    "    cross_section = ibound[:,:,0]\n",
    "    lay = np.where(cross_section[:,row]==1)[0][0]\n",
    "    return lay\n",
    "\n",
    "def meter_to_col(col_meter):\n",
    "    return int(np.round(col_meter/delc,0))\n",
    "\n",
    "def meter_to_row(row_meter):\n",
    "    return int(np.round(row_meter/delc,0))\n",
    "\n",
    "def meter_to_lay(lay_meter):\n",
    "    return int(np.round((top_elev-lay_meter)/layer_thickness,0))\n",
    "\n",
    "def col_to_meter(col):\n",
    "    return col*delc\n",
    "\n",
    "def row_to_meter(row):\n",
    "    return row*delc\n",
    "\n",
    "def lay_to_meter(row):\n",
    "    return 190.0-row*layer_thickness"
   ]
  },
  {
   "cell_type": "code",
   "execution_count": null,
   "metadata": {},
   "outputs": [],
   "source": []
  },
  {
   "cell_type": "code",
   "execution_count": 69,
   "metadata": {},
   "outputs": [],
   "source": [
    "\n",
    "def change_array_within_polygon(array, row_coords, col_coords, value):\n",
    "\n",
    "    # Create a polygon object from the row and column coordinates\n",
    "    polygon = Polygon(zip(col_coords, row_coords))\n",
    "\n",
    "    # Create a boolean mask indicating which points fall within the polygon\n",
    "    mask = np.zeros_like(array, dtype=bool)\n",
    "    for row in range(array.shape[0]):\n",
    "        for col in range(array.shape[1]):\n",
    "            point = Point(col, row)\n",
    "            if polygon.contains(point) or polygon.intersects(point):\n",
    "                mask[row, col] = True\n",
    "\n",
    "    # Set the values of the array that fall within the polygon to the new value\n",
    "    array[mask] = value\n",
    "\n",
    "    return array\n"
   ]
  },
  {
   "cell_type": "markdown",
   "metadata": {},
   "source": [
    "# Workspace"
   ]
  },
  {
   "cell_type": "code",
   "execution_count": 84,
   "metadata": {},
   "outputs": [],
   "source": [
    "\n",
    "# Control variable to decide the location of the temp folder\n",
    "use_d_drive = False # Set to False to use default temp location\n",
    "\n",
    "# Define model workspace\n",
    "myt = datetime.now().strftime('%m%d%H%M%S')\n",
    "name = 'wasaga'\n",
    "adj_non = '_'+generate_random_name()\n",
    "\n",
    "if use_d_drive:\n",
    "    temp_dir = 'D:/_T{}_{}'.format(myt, adj_non )\n",
    "    os.makedirs(temp_dir, exist_ok=True)\n",
    "else:\n",
    "    temp_dir = mkdtemp(prefix='_T{}_'.format(myt),suffix=adj_non )\n",
    "\n",
    "os.makedirs(Path(temp_dir) / '_output', exist_ok=True)\n",
    "\n",
    "model_ws = temp_dir\n",
    "\n",
    "\n"
   ]
  },
  {
   "cell_type": "code",
   "execution_count": 86,
   "metadata": {},
   "outputs": [],
   "source": [
    "def open_file(path):\n",
    "    if platform.system() == \"Windows\":\n",
    "        os.startfile(path)\n",
    "    elif platform.system() == \"Darwin\":\n",
    "        if os.path.isdir(path):\n",
    "            # Use '-R' to reveal the directory in Finder\n",
    "            subprocess.Popen([\"open\", \"-R\", path])\n",
    "        else:\n",
    "            subprocess.Popen([\"open\", path])\n",
    "    else:\n",
    "        subprocess.Popen([\"xdg-open\", path])\n",
    "\n",
    "\n",
    "open_file(model_ws)"
   ]
  },
  {
   "cell_type": "code",
   "execution_count": 90,
   "metadata": {},
   "outputs": [],
   "source": [
    "# base\n",
    "parms= {}\n",
    "parms['sp1']= 0.0002\n",
    "parms['hk']= 6.9\n",
    "parms['al'] = 5\n",
    "base_parms = parms"
   ]
  },
  {
   "cell_type": "code",
   "execution_count": 91,
   "metadata": {},
   "outputs": [
    {
     "data": {
      "text/plain": [
       "'/var/folders/hy/v14_l_r91tl2w5s9xfm9p2kc0000gn/T/_T0125155021_kzo5luym_Gentle_Nurse'"
      ]
     },
     "execution_count": 91,
     "metadata": {},
     "output_type": "execute_result"
    }
   ],
   "source": [
    "model_ws\n"
   ]
  },
  {
   "cell_type": "markdown",
   "metadata": {},
   "source": [
    "# Model"
   ]
  },
  {
   "cell_type": "code",
   "execution_count": 92,
   "metadata": {},
   "outputs": [],
   "source": [
    "# Create a MODFLOW model instance\n",
    "mf = flopy.modflow.Modflow(modelname=\"example_model\",version='mf2005',\n",
    "                              exe_name='mf2005', \n",
    "                              model_ws=model_ws)"
   ]
  },
  {
   "cell_type": "code",
   "execution_count": 93,
   "metadata": {},
   "outputs": [],
   "source": [
    "# # Create a MODFLOW model instance\n",
    "# model = flopy.seawat.Seawat(modelname=\"example_model\",\n",
    "#                             exe_name='swtv4', \n",
    "#                               model_ws=model_ws)\n"
   ]
  },
  {
   "cell_type": "markdown",
   "metadata": {},
   "source": [
    "# DIS"
   ]
  },
  {
   "cell_type": "code",
   "execution_count": 94,
   "metadata": {},
   "outputs": [],
   "source": [
    "# year 1: 1968  (assume houses in 1978 [earilest satellite image] was built 10 years ago ) \n",
    "# year 56: (2024 present)\n",
    "# year 76: (20 years later)\n",
    "# year 156: (100 years later)\n",
    "# year 556: (500 years later)"
   ]
  },
  {
   "cell_type": "code",
   "execution_count": null,
   "metadata": {},
   "outputs": [],
   "source": []
  },
  {
   "cell_type": "code",
   "execution_count": 95,
   "metadata": {},
   "outputs": [],
   "source": [
    "# Define model dimensions\n",
    "nlay = int(60 * 2)\n",
    "nrow = int(220 * 2)\n",
    "ncol = int(220 * 2)\n",
    "delr = 2200/nrow  # Cell width along rows (extend 2200 / 220)\n",
    "delc = 2200/ncol  # Cell width along columns (extend 2200 / 220)\n",
    "\n",
    "# Define top elevation\n",
    "layer_thickness = 30.0 / nlay\n",
    "\n",
    "top_elev = 190.0\n",
    "botm_elev = [top_elev - (i * layer_thickness) for i in range(1, nlay + 1)]\n",
    "# Define layer thickness (uniform thickness)\n",
    "\n",
    "\n",
    "perlen = 365\n",
    "nper = int(100)\n",
    "#nper = int(56)\n",
    "#nper = int(500)\n",
    "#nper = int(20)\n",
    "\n",
    "steady = np.append(np.array([True]),np.repeat(False,nper-1))\n",
    "#steady=[False,False,True]\n",
    "#steady = True\n",
    "\n",
    "# Create DIS package\n",
    "\n"
   ]
  },
  {
   "cell_type": "code",
   "execution_count": null,
   "metadata": {},
   "outputs": [],
   "source": []
  },
  {
   "cell_type": "code",
   "execution_count": 96,
   "metadata": {},
   "outputs": [],
   "source": [
    "dis = flopy.modflow.ModflowDis(mf, nlay=nlay, nrow=nrow, ncol=ncol, \n",
    "                               delr=delr, delc=delc,top=top_elev, \n",
    "                               botm=botm_elev,\n",
    "                               nper = nper, perlen = perlen,\n",
    "                               nstp = 1, steady = steady)\n"
   ]
  },
  {
   "cell_type": "markdown",
   "metadata": {},
   "source": [
    "# Ibound"
   ]
  },
  {
   "cell_type": "code",
   "execution_count": 97,
   "metadata": {},
   "outputs": [],
   "source": [
    "\n",
    "\n",
    "x = np.array([0, 100, 340, 600, 750, 850, 1100, 1350, 1450, 1530, 1650, 1750, 1850, 2050, 2200])\n",
    "\n",
    "y_topo = np.array([190,190,187,184,184,184,183,182,179,175.5,175,173.8,173.5,172,171])#topo\n",
    "#y_topo = np.array([190,190,187,184,184,184,183,182,179+2,175.5+4,175+2,173.8+1,173.5+0,172,171])#topo\n",
    "\n",
    "y_clay = np.array([185,184,180,175,174,174,173,170,169,168.5,167.5,166.8,166.5,165,164]) #clay\n",
    "\n",
    "\n",
    "# Interpolate the data using smoothing splines\n",
    "spl = make_interp_spline(x, y_topo)\n",
    "x_smooth_topo = np.linspace(x.min(), x.max(), 30)\n",
    "y_smooth_topo = spl(x_smooth_topo)\n",
    "\n",
    "col_coords = (x_smooth_topo/delr).round(0)\n",
    "col_coords_topo = list(col_coords) +[nrow,0]\n",
    "\n",
    "row_coords = ((top_elev - y_smooth_topo)/layer_thickness).round(0)\n",
    "row_coords_topo  =  list(row_coords) +[0,0]\n",
    "\n",
    "\n",
    "\n",
    "# Interpolate the data using smoothing splines\n",
    "spl = make_interp_spline(x, y_clay)\n",
    "x_smooth = np.linspace(x.min(), x.max(), 30)\n",
    "y_smooth = spl(x_smooth)\n",
    "\n",
    "col_coords = (x_smooth/delr).round(0)\n",
    "col_coords_clay = list(col_coords) +[nrow,0]\n",
    "row_coords = ((top_elev - y_smooth)/layer_thickness).round(0)\n",
    "row_coords_clay  =  list(row_coords) +[nlay,nlay]\n"
   ]
  },
  {
   "cell_type": "code",
   "execution_count": null,
   "metadata": {},
   "outputs": [],
   "source": []
  },
  {
   "cell_type": "markdown",
   "metadata": {},
   "source": [
    "# Ibound & Strt"
   ]
  },
  {
   "cell_type": "code",
   "execution_count": 98,
   "metadata": {},
   "outputs": [
    {
     "name": "stdout",
     "output_type": "stream",
     "text": [
      "185.25\n",
      "185.5\n",
      "185.75\n",
      "186.0\n",
      "186.25\n",
      "186.5\n",
      "186.75\n",
      "185.0\n",
      "185.25\n",
      "185.5\n",
      "185.75\n",
      "186.0\n",
      "186.25\n",
      "186.5\n",
      "186.75\n"
     ]
    },
    {
     "data": {
      "image/png": "[encoded data removed]",
      "text/plain": [
       "<Figure size 1500x1000 with 2 Axes>"
      ]
     },
     "metadata": {},
     "output_type": "display_data"
    },
    {
     "data": {
      "image/png": "[encoded data removed]",
      "text/plain": [
       "<Figure size 1500x1000 with 2 Axes>"
      ]
     },
     "metadata": {},
     "output_type": "display_data"
    }
   ],
   "source": [
    "\n",
    "# Define ibound and initial conditionsa\n",
    "ibound = np.ones((nlay, nrow, ncol), dtype=int)\n",
    "initial_head = np.full((nlay, nrow, ncol), 200.0, dtype=float)\n",
    "shoreline_distance = 1600\n",
    "\n",
    "# Set constant head boundary conditions for the first and last rows\n",
    "array = change_array_within_polygon(ibound, row_coords_topo, col_coords_topo, 0)\n",
    "plt.scatter(col_coords_topo,row_coords_topo,c='r')\n",
    "\n",
    "\n",
    "array = change_array_within_polygon(ibound, row_coords_clay, col_coords_clay, 0)\n",
    "plt.scatter(col_coords,row_coords,c='r')\n",
    "\n",
    "for c in range(0,2):\n",
    "    i = np.where(ibound[:,c,-1]==1)[0][-1]\n",
    "    head = top_elev-i*layer_thickness\n",
    "    #print('head {}'.format(head))\n",
    "    \n",
    "    while head<187:\n",
    "        ibound[i,c,:] = -1\n",
    "        #print(i,c)\n",
    "        #initial_head[i,c,:] = head+0.5\n",
    "        print(head)\n",
    "        initial_head[i,c,:] = 187\n",
    "        head+=layer_thickness\n",
    "        i-=1\n",
    "\n",
    "\n",
    "lay = np.where(ibound[:,int(shoreline_distance/delr),-1])[0][0]\n",
    "elv = lay_to_meter(lay)\n",
    "head = elv\n",
    "\n",
    "for c in range(int(shoreline_distance/delr),int(2200/delr)):\n",
    "    lay = np.where(ibound[:,c,-1]==1)[0][0]\n",
    "    #print(lay,lay_to_meter(lay))\n",
    "    ibound[lay,c,:] = -1\n",
    "    initial_head[lay,c,:] = elv\n",
    "\n",
    "# Your existing code\n",
    "im = plt.imshow(ibound[:,:,2], origin='upper', aspect=1)\n",
    "plt.axvline(x=meter_to_col(shoreline_distance))# shoreline\n",
    "plt.gcf().set_size_inches(15,10)\n",
    "\n",
    "# Set the y-axis tick positions and labels\n",
    "#plt.yticks([0, 10,20, 30,40, 50,60], ['190m (0L)','185m (10L)', '180m (20L)','175m (30L)', '170m (40L)', '165m (50L)','160m (60L)'])\n",
    "# Add a horizontal colorbar\n",
    "\n",
    "cbar = plt.colorbar(im, orientation='horizontal')\n",
    "cbar.ax.tick_params(labelsize=16)\n",
    "cbar.set_label('Colorbar Label', fontsize=16)\n",
    "\n",
    "# Display the plot\n",
    "plt.title('ibound')\n",
    "plt.grid()\n",
    "plt.show()\n",
    "\n",
    "\n",
    "fig, ax = plt.subplots(figsize=(15, 10))\n",
    "im = ax.imshow(initial_head[:, :, 0], origin='upper')\n",
    "\n",
    "# Add a horizontal colorbar\n",
    "cbar = plt.colorbar(im, orientation='horizontal')\n",
    "cbar.ax.tick_params(labelsize=18)\n",
    "plt.title('initial head')\n",
    "plt.show()\n"
   ]
  },
  {
   "cell_type": "code",
   "execution_count": null,
   "metadata": {},
   "outputs": [],
   "source": []
  },
  {
   "cell_type": "code",
   "execution_count": null,
   "metadata": {},
   "outputs": [],
   "source": []
  },
  {
   "cell_type": "code",
   "execution_count": null,
   "metadata": {},
   "outputs": [],
   "source": []
  },
  {
   "cell_type": "markdown",
   "metadata": {},
   "source": []
  },
  {
   "cell_type": "markdown",
   "metadata": {},
   "source": [
    "# BAS LPF  PCG"
   ]
  },
  {
   "cell_type": "code",
   "execution_count": 99,
   "metadata": {},
   "outputs": [],
   "source": [
    "\n",
    "# Create BAS package\n",
    "bas = flopy.modflow.ModflowBas(mf, ibound=ibound, strt=initial_head)\n",
    "\n",
    "# Define hydraulic properties\n",
    "horizontal_k = parms['hk'] # Horizontal hydraulic conductivity (m/day)\n",
    "vertical_ka = 0.1   # Vertical hydraulic conductivity (m/day)\n",
    "porosity = 0.25     # Porosity\n",
    "\n",
    "# Create LPF package (Layer Property Flow package)\n",
    "lpf = flopy.modflow.ModflowLpf(mf, hk=horizontal_k, \n",
    "                               vka=vertical_ka, laytyp=1, \n",
    "                               ipakcb=None,ss=0.0002,sy=0.33,\n",
    "                               laywet=1,iwetit=1,wetfct=0.1,ihdwet=1)\n",
    "\n",
    "# #ss=0.0002,sy=0.33\n",
    "# upw = flopy.modflow.ModflowUpw(model, laytyp=1, hk=horizontal_k)\n",
    "\n",
    "pcg = flopy.modflow.ModflowPcg(mf, hclose=1e-3,npcond=1,\n",
    "                               relax=0.98,rclose=1e-3,mutpcg=0,nbpol=1,iprpcg=1)\n",
    "\n"
   ]
  },
  {
   "cell_type": "code",
   "execution_count": null,
   "metadata": {},
   "outputs": [],
   "source": []
  },
  {
   "cell_type": "code",
   "execution_count": null,
   "metadata": {},
   "outputs": [],
   "source": []
  },
  {
   "cell_type": "markdown",
   "metadata": {},
   "source": [
    "# DRN"
   ]
  },
  {
   "cell_type": "code",
   "execution_count": 100,
   "metadata": {},
   "outputs": [
    {
     "name": "stdout",
     "output_type": "stream",
     "text": [
      "294\n",
      "295\n",
      "296\n",
      "297\n",
      "298\n",
      "299\n",
      "300\n",
      "301\n",
      "302\n",
      "303\n",
      "304\n",
      "305\n",
      "306\n",
      "119\n",
      "120\n",
      "121\n"
     ]
    }
   ],
   "source": [
    "locate_ground_surface_lay(meter_to_row(160))\n",
    "#drn_cell = [(0, 150, 28), -10, 100]\n",
    "start_dis = shoreline_distance - 130\n",
    "end_dis = shoreline_distance - 70\n",
    "beach_drns = np.arange(start_dis,end_dis+1,delr).astype(int)\n",
    "river_drns = np.arange(595,605+1,delr).astype(int)\n",
    "#beach_drns = []\n",
    "\n",
    "drn_list = []\n",
    "drn_ys= list(beach_drns)+list(river_drns)\n",
    "\n",
    "for y in drn_ys:\n",
    "   \n",
    "   row = meter_to_row(y)\n",
    "   lay = locate_ground_surface_lay(row=row)\n",
    "   elv = lay_to_meter(lay)\n",
    "   print(row)\n",
    "   #print(lay)\n",
    "   for col in range(ncol):\n",
    "\n",
    "      drn_list.append([lay, row, col, elv, 0.5])\n",
    "      #drn_list.append([12*2, meter_to_row(600), col, 184.0-0.5, 100])\n",
    "      \n",
    "drn_cell = {0:drn_list} \n",
    "\n",
    "#drn_cell={0:[[31, 160, 0, 174.5-0.5, 0],[12, 60, 0, 184.0-0.5, 0]]}\n",
    "drn = flopy.modflow.ModflowDrn(model=mf, stress_period_data=drn_cell,)"
   ]
  },
  {
   "cell_type": "code",
   "execution_count": 101,
   "metadata": {},
   "outputs": [
    {
     "data": {
      "image/png": "[encoded data removed]",
      "text/plain": [
       "<Figure size 1500x1000 with 1 Axes>"
      ]
     },
     "metadata": {},
     "output_type": "display_data"
    }
   ],
   "source": [
    "# Load your model\n",
    "model = mf\n",
    "# Plot the ibound array\n",
    "plt.imshow(model.bas6.ibound.array[:, :, 0], origin='upper', cmap='bone')\n",
    "# Plot drains for the first stress period if DRN package exists\n",
    "if model.drn:\n",
    "    for drn in np.unique(model.drn.stress_period_data[0], axis=0):\n",
    "        if drn[2] == 0:  # Checks if the drain is in the first layer\n",
    "            plt.scatter(drn[1], drn[0], c='cyan', s=5, marker='s')\n",
    "\n",
    "# Customize and display the plot\n",
    "plt.gcf().set_size_inches(15, 10)\n",
    "plt.title('Ibound and Drain Cells Visualization')\n",
    "plt.show()\n"
   ]
  },
  {
   "cell_type": "code",
   "execution_count": null,
   "metadata": {},
   "outputs": [],
   "source": []
  },
  {
   "cell_type": "markdown",
   "metadata": {},
   "source": [
    "# RCH"
   ]
  },
  {
   "cell_type": "markdown",
   "metadata": {},
   "source": [
    "### Test data"
   ]
  },
  {
   "cell_type": "code",
   "execution_count": 102,
   "metadata": {},
   "outputs": [],
   "source": [
    "##2D pers [1]+[30,92,31,212]*25 +[365]*5+[365*5]*5+[365*4]+[185,30,30,120]"
   ]
  },
  {
   "cell_type": "code",
   "execution_count": 103,
   "metadata": {},
   "outputs": [],
   "source": [
    "# rch_dict = {}\n",
    "\n",
    "# rch_array = np.full(( nrow, ncol), 0.00013, dtype=float)\n",
    "# rch_dict[0] = rch_array\n",
    "\n",
    "# rch_array = np.full(( nrow, ncol), 0.00013, dtype=float)\n",
    "# #rch_array[int(nrow/2),int(ncol/2)] = 0.51/delr/delc\n",
    "# #rch_array[int(nrow/2),int(ncol/3)] = 0.51/delr/delc\n",
    "\n",
    "# rch_array[int((1700-70)/delr),int(ncol/2)] = 0.51/delr/delc\n",
    "# rch_array[int((1700-70)/delr),int(ncol/3)] = 0.51/delr/delc\n",
    "# rch_dict[1] = rch_array \n",
    "\n",
    "\n",
    "# rch_array = np.full(( nrow, ncol), 0.00013, dtype=float)\n",
    "# rch_dict[26] = rch_array\n",
    "\n",
    "\n",
    "# rch = flopy.modflow.ModflowRch(model = mf, rech = rch_dict)"
   ]
  },
  {
   "cell_type": "code",
   "execution_count": 104,
   "metadata": {},
   "outputs": [
    {
     "data": {
      "text/plain": [
       "'/var/folders/hy/v14_l_r91tl2w5s9xfm9p2kc0000gn/T/_T0125155021_kzo5luym_Gentle_Nurse'"
      ]
     },
     "execution_count": 104,
     "metadata": {},
     "output_type": "execute_result"
    }
   ],
   "source": [
    "model_ws"
   ]
  },
  {
   "cell_type": "code",
   "execution_count": 105,
   "metadata": {},
   "outputs": [],
   "source": [
    "def calculate_year_septic_start(df):\n",
    "    # Ensure the DataFrame is sorted by 'Year'\n",
    "    df = df.sort_values('Year').reset_index(drop=True)\n",
    "    \n",
    "    # Get the unique years and sort them\n",
    "    unique_years = sorted(df['Year'].unique())\n",
    "    \n",
    "    # Initialize the \"Year_Septic_Start\" list\n",
    "    year_septic_start = []\n",
    "    \n",
    "    # Iterate through the DataFrame rows\n",
    "    for current_year in df['Year']:\n",
    "        # Find the index of the current_year in the unique_years list\n",
    "        current_index = unique_years.index(current_year)\n",
    "        \n",
    "        # Determine the previous year (if it's not the first year)\n",
    "        if current_index == 0:\n",
    "            #previous_year = 1950  # If it's the first unique year, use 1950\n",
    "            year_septic_start.append(1950)\n",
    "        else:\n",
    "            previous_year = unique_years[current_index - 1]  # Get the previous unique year\n",
    "        \n",
    "        # Calculate the \"Year_Septic_Start\"\n",
    "            year_septic_start.append((current_year + previous_year) // 2)\n",
    "    \n",
    "    # Add the \"Year_Septic_Start\" as a new column in the DataFrame\n",
    "    df['Year_Septic_Start'] = year_septic_start\n",
    "    return df"
   ]
  },
  {
   "cell_type": "code",
   "execution_count": 53,
   "metadata": {},
   "outputs": [],
   "source": [
    "import pandas as pd\n",
    "df = pd.read_csv(\"wasaga septics placement/septics_transformed.csv\")\n",
    "df = df[~df['Year End'].isna()]\n",
    "df['Year End'] =df['Year End'].astype(int)\n",
    "df = calculate_year_septic_start(df)\n",
    "df['Year_Septic_End'] = df['Sewer_Installation_Period'].apply(lambda x: (int(x.split('-')[1]) + int(x.split('-')[0]))//2)"
   ]
  },
  {
   "cell_type": "code",
   "execution_count": 54,
   "metadata": {},
   "outputs": [
    {
     "name": "stderr",
     "output_type": "stream",
     "text": [
      "/Users/b/miniforge3/envs/pht3d/lib/python3.11/site-packages/flopy/mbase.py:652: UserWarning: Unit 19 of package RCH already in use.\n",
      "  warn(\n",
      "/Users/b/miniforge3/envs/pht3d/lib/python3.11/site-packages/flopy/mbase.py:661: UserWarning: Two packages of the same type, Replacing existing 'RCH' package.\n",
      "  warn(\n"
     ]
    }
   ],
   "source": [
    "\n",
    "# # Assuming nrow, ncol, delr, delc, and mf are defined earlier in your code\n",
    "\n",
    "# # Initialize the recharge dictionary\n",
    "# rch_dict = {0: np.full((nrow, ncol), 0.00013, dtype=float)}  # Initial background recharge rate\n",
    "\n",
    "\n",
    "# # Loop through the DataFrame to update rch_dict\n",
    "# for index, row in df.iterrows():\n",
    "#     easting = row['Wasaga Easting']\n",
    "#     northing = row['Wasaga Northing']\n",
    "#     start_year = row['Year_Septic_Start']\n",
    "#     end_year = row['Year_Septic_End']\n",
    "\n",
    "#     # Calculate the indices\n",
    "#     row_index = int(northing / delr)\n",
    "#     col_index = int(easting / delc)\n",
    "\n",
    "#     # Calculate the range of years for each septic source\n",
    "#     start_key = start_year - 1950 + 1\n",
    "#     end_key = end_year - 1950 + 1\n",
    "\n",
    "#     # Loop through each year for the septic source\n",
    "#     for year_key in range(start_key, end_key + 1):\n",
    "#         # Check if the key exists in the dictionary, if not, create a new array with background recharge\n",
    "#         if year_key not in rch_dict:\n",
    "#             rch_dict[year_key] = np.full((nrow, ncol), 0.00013, dtype=float)\n",
    "\n",
    "#         # Update the recharge rate at the septic location\n",
    "#         rch_dict[year_key][row_index, col_index] = 0.51 / delr / delc\n",
    "    \n",
    "#     # Ensure the septic is turned off after its end year\n",
    "#     # Check if the year after the end_key exists in the dictionary, if not, create a new array with background recharge\n",
    "#     if end_key + 1 not in rch_dict:\n",
    "#         rch_dict[end_key + 1] = np.full((nrow, ncol), 0.00013, dtype=float)\n",
    "    \n",
    "#     # Set the recharge rate back to the background rate after the septic system's active period\n",
    "#     rch_dict[end_key + 1][row_index, col_index] = 0.00013\n",
    "\n",
    "# # Create the ModflowRch object\n",
    "# rch = flopy.modflow.ModflowRch(model=mf, rech=rch_dict)\n"
   ]
  },
  {
   "cell_type": "code",
   "execution_count": 107,
   "metadata": {},
   "outputs": [],
   "source": [
    "import numpy as np\n",
    "import flopy  # Assuming flopy is already installed and imported\n",
    "\n",
    "# Assuming nrow, ncol, delr, delc, mf are defined earlier in your code\n",
    "# Define start_dist, end_dist, and exclude_range\n",
    "start_dist = start_dis  # Define start distance for exclusion (e.g., 1000 meters)\n",
    "end_dist = end_dis    # Define end distance for exclusion (e.g., 2000 meters)\n",
    "exclude_range = True  # Set to True to exclude, False to include\n",
    "\n",
    "# Convert distances to row indices\n",
    "start_row_index = int(start_dist / delr)\n",
    "end_row_index = int(end_dist / delr)\n",
    "\n",
    "# Initialize the recharge dictionary\n",
    "rch_dict = {0: np.full((nrow, ncol), 0.00013, dtype=float)}  # Initial background recharge rate\n",
    "\n",
    "# # Loop through the DataFrame to update rch_dict\n",
    "# for index, row in df.iterrows():\n",
    "#     easting = row['Wasaga Easting']\n",
    "#     northing = row['Wasaga Northing']\n",
    "#     start_year = row['Year_Septic_Start']\n",
    "#     end_year = row['Year_Septic_End']\n",
    "\n",
    "#     # Calculate the indices\n",
    "#     row_index = int(northing / delr)\n",
    "#     col_index = int(easting / delc)\n",
    "\n",
    "#     # Check if row index is within the exclusion range and if exclusion is enabled\n",
    "#     if exclude_range and start_row_index <= row_index <= end_row_index:\n",
    "#         continue  # Skip updating for this row index\n",
    "\n",
    "#     # Calculate the range of years for each septic source\n",
    "#     start_key = start_year - 1950 + 1\n",
    "#     end_key = end_year - 1950 + 1\n",
    "\n",
    "#     # Loop through each year for the septic source\n",
    "#     for year_key in range(start_key, end_key + 1):\n",
    "#         # Check if the key exists in the dictionary, if not, create a new array with background recharge\n",
    "#         if year_key not in rch_dict:\n",
    "#             rch_dict[year_key] = np.full((nrow, ncol), 0.00013, dtype=float)\n",
    "\n",
    "#         # Update the recharge rate at the septic location\n",
    "#         rch_dict[year_key][row_index, col_index] = 0.51 / delr / delc\n",
    "    \n",
    "#     # Ensure the septic is turned off after its end year\n",
    "#     if end_key + 1 not in rch_dict:\n",
    "#         rch_dict[end_key + 1] = np.full((nrow, ncol), 0.00013, dtype=float)\n",
    "\n",
    "#     # Set the recharge rate back to the background rate after the septic system's active period\n",
    "#     rch_dict[end_key + 1][row_index, col_index] = 0.00013\n",
    "\n",
    "# Create the ModflowRch object\n",
    "rch = flopy.modflow.ModflowRch(model=mf, rech=rch_dict)\n"
   ]
  },
  {
   "cell_type": "code",
   "execution_count": null,
   "metadata": {},
   "outputs": [],
   "source": []
  },
  {
   "cell_type": "markdown",
   "metadata": {},
   "source": []
  },
  {
   "cell_type": "code",
   "execution_count": null,
   "metadata": {},
   "outputs": [],
   "source": []
  },
  {
   "cell_type": "code",
   "execution_count": 108,
   "metadata": {},
   "outputs": [
    {
     "data": {
      "image/png": "[encoded data removed]",
      "text/plain": [
       "<Figure size 1000x800 with 1 Axes>"
      ]
     },
     "metadata": {},
     "output_type": "display_data"
    }
   ],
   "source": [
    "import numpy as np\n",
    "import matplotlib.pyplot as plt\n",
    "\n",
    "fig, ax = plt.subplots(figsize=(10, 8))\n",
    "\n",
    "# Plot drain coordinates\n",
    "rows = []\n",
    "cols = []\n",
    "for drn in np.unique(model.drn.stress_period_data[0], axis=0):\n",
    "    rows.append(drn[1])\n",
    "    cols.append(drn[2])\n",
    "\n",
    "ax.scatter(cols, rows, c='cyan', marker='s')\n",
    "\n",
    "# Plot and customize the shoreline as a thicker, dashed line and add annotation\n",
    "shoreline_y = shoreline_distance / delr\n",
    "ax.axhline(shoreline_y, color='blue', linestyle='--', linewidth=2, label='Shoreline')\n",
    "ax.annotate('Shoreline', xy=(0.5, shoreline_y), xytext=(0, 5),\n",
    "            xycoords=('axes fraction', 'data'), textcoords='offset points',\n",
    "            ha='center', va='bottom')\n",
    "\n",
    "# Assuming rch_dict, delr, and delc are already defined\n",
    "target_value = 0.51 / delr / delc\n",
    "colors = plt.cm.jet(np.linspace(0, 1, len(rch_dict)))\n",
    "\n",
    "for (key, array), color in zip(rch_dict.items(), colors):\n",
    "    rows, cols = np.where(np.isclose(array, target_value))\n",
    "    if rows.size and cols.size:\n",
    "        ax.scatter(cols, rows, color=color, label=f'Key: {key}',s=10)\n",
    "\n",
    "# Set titles and labels\n",
    "ax.set(title='Drain and Septics', xlabel='Column ', ylabel='Row ')\n",
    "\n",
    "# Display legend\n",
    "#ax.legend()\n",
    "# plt.xlim(0,440)\n",
    "# plt.ylim(280,320)\n",
    "\n",
    "plt.tight_layout()\n",
    "plt.show()\n"
   ]
  },
  {
   "cell_type": "code",
   "execution_count": 109,
   "metadata": {},
   "outputs": [
    {
     "data": {
      "image/png": "[encoded data removed]",
      "text/plain": [
       "<Figure size 1000x600 with 2 Axes>"
      ]
     },
     "metadata": {},
     "output_type": "display_data"
    }
   ],
   "source": [
    "import matplotlib.pyplot as plt\n",
    "import numpy as np\n",
    "\n",
    "# Calculate and plot in a compact form\n",
    "kpers, active_septics = zip(*sorted((year_key, np.sum(rech >= 0.51 / delr / delc)) for year_key, rech in rch_dict.items()))\n",
    "\n",
    "fig, ax1 = plt.subplots(figsize=(10, 6))\n",
    "bars = ax1.bar(kpers, active_septics, color='dodgerblue', alpha=0.7)\n",
    "\n",
    "ax1.set(xlabel='kper', ylabel='Number of Active Septic Sources', title='Active Septic Sources Over Time')\n",
    "\n",
    "ax2 = ax1.twiny().set(xlabel='Year', xlim=[k + 1950 for k in ax1.get_xlim()], xticks=[k + 1950 for k in ax1.get_xticks()],\n",
    "                      xticklabels=[int(k + 1950) for k in ax1.get_xticks()])\n",
    "ax1.grid(axis='y', linestyle='--', alpha=0.7)\n",
    "\n",
    "for bar, val in zip(bars, active_septics):\n",
    "    if val == 0: ax1.text(bar.get_x() + bar.get_width() / 2, bar.get_height(), str(val), ha='center', va='bottom', fontsize=10, fontweight='bold')\n",
    "\n",
    "plt.tight_layout(); plt.show()\n"
   ]
  },
  {
   "cell_type": "code",
   "execution_count": null,
   "metadata": {},
   "outputs": [],
   "source": []
  },
  {
   "cell_type": "code",
   "execution_count": 110,
   "metadata": {},
   "outputs": [
    {
     "name": "stdout",
     "output_type": "stream",
     "text": [
      "No data available for period -30\n"
     ]
    }
   ],
   "source": [
    "import matplotlib.pyplot as plt\n",
    "\n",
    "# Assuming crch_dict is already defined and filled with your data\n",
    "\n",
    "period = max(rch_dict.keys()) - 30  # Specify the period you want to visualize\n",
    "if period in rch_dict: \n",
    "    crch_array = rch_dict[period]\n",
    "    plt.imshow(crch_array, cmap='viridis', interpolation='nearest')\n",
    "    plt.colorbar(label='Concentration');plt.gca().invert_yaxis()\n",
    "    plt.xlabel('Column Index'); plt.ylabel('Row Index'); plt.title(f'RCH Array Visualization at Period {period}');plt.show()\n",
    "else: print(f\"No data available for period {period}\")\n"
   ]
  },
  {
   "cell_type": "code",
   "execution_count": null,
   "metadata": {},
   "outputs": [],
   "source": []
  },
  {
   "cell_type": "markdown",
   "metadata": {},
   "source": [
    "# OC"
   ]
  },
  {
   "cell_type": "code",
   "execution_count": 111,
   "metadata": {},
   "outputs": [],
   "source": [
    "# OC\n",
    "spd = {}\n",
    "for kper in range(nper):\n",
    "    for kstp in range(1):\n",
    "        spd[(kper, kstp)] = [\n",
    "            \"save head\",\n",
    "            \"save drawdown\",\n",
    "            \"save budget\",\n",
    "            \"print head\",\n",
    "            \"print budget\",\n",
    "        ]\n",
    "\n",
    "oc = flopy.modflow.ModflowOc(\n",
    "    mf,\n",
    "    stress_period_data= spd,\n",
    "    compact=True\n",
    "    ,extension=['oc', 'hds', 'ddn', 'cbc', 'ibo']\n",
    ")\n",
    "\n",
    "#oc.reset_budgetunit(budgetunit=1053, fname='test.cbc')\n",
    "oc.reset_budgetunit(budgetunit=53, fname='example_model.cbc')"
   ]
  },
  {
   "cell_type": "code",
   "execution_count": null,
   "metadata": {},
   "outputs": [],
   "source": []
  },
  {
   "cell_type": "code",
   "execution_count": null,
   "metadata": {},
   "outputs": [],
   "source": []
  },
  {
   "cell_type": "code",
   "execution_count": null,
   "metadata": {},
   "outputs": [],
   "source": []
  },
  {
   "cell_type": "code",
   "execution_count": 112,
   "metadata": {},
   "outputs": [],
   "source": [
    "lmt = flopy.modflow.ModflowLmt(mf, output_file_name='mt3d_link.ftl')"
   ]
  },
  {
   "cell_type": "code",
   "execution_count": 113,
   "metadata": {},
   "outputs": [],
   "source": [
    "# Write the MODFLOW model input files\n",
    "mf.write_input()"
   ]
  },
  {
   "cell_type": "code",
   "execution_count": 114,
   "metadata": {},
   "outputs": [
    {
     "name": "stdout",
     "output_type": "stream",
     "text": [
      "FloPy is using the following executable to run the model: ../../../../../../Users/b/.local/share/flopy/bin/mf2005\n",
      "\n",
      "                                  MODFLOW-2005     \n",
      "    U.S. GEOLOGICAL SURVEY MODULAR FINITE-DIFFERENCE GROUND-WATER FLOW MODEL\n",
      "                             Version 1.12.00 2/3/2017                        \n",
      "\n",
      " Using NAME file: example_model.nam \n",
      " Run start date and time (yyyy/mm/dd hh:mm:ss): 2024/01/25 15:53:12\n",
      "\n",
      " Solving:  Stress period:     1    Time step:     1    Ground-Water Flow Eqn.\n",
      " Solving:  Stress period:     2    Time step:     1    Ground-Water Flow Eqn.\n",
      " Solving:  Stress period:     3    Time step:     1    Ground-Water Flow Eqn.\n",
      " Solving:  Stress period:     4    Time step:     1    Ground-Water Flow Eqn.\n",
      " Solving:  Stress period:     5    Time step:     1    Ground-Water Flow Eqn.\n",
      " Solving:  Stress period:     6    Time step:     1    Ground-Water Flow Eqn.\n",
      " Solving:  Stress period:     7    Time step:     1    Ground-Water Flow Eqn.\n",
      " Solving:  Stress period:     8    Time step:     1    Ground-Water Flow Eqn.\n",
      " Solving:  Stress period:     9    Time step:     1    Ground-Water Flow Eqn.\n",
      " Solving:  Stress period:    10    Time step:     1    Ground-Water Flow Eqn.\n",
      " Solving:  Stress period:    11    Time step:     1    Ground-Water Flow Eqn.\n",
      " Solving:  Stress period:    12    Time step:     1    Ground-Water Flow Eqn.\n",
      " Solving:  Stress period:    13    Time step:     1    Ground-Water Flow Eqn.\n",
      " Solving:  Stress period:    14    Time step:     1    Ground-Water Flow Eqn.\n",
      " Solving:  Stress period:    15    Time step:     1    Ground-Water Flow Eqn.\n",
      " Solving:  Stress period:    16    Time step:     1    Ground-Water Flow Eqn.\n",
      " Solving:  Stress period:    17    Time step:     1    Ground-Water Flow Eqn.\n",
      " Solving:  Stress period:    18    Time step:     1    Ground-Water Flow Eqn.\n",
      " Solving:  Stress period:    19    Time step:     1    Ground-Water Flow Eqn.\n",
      " Solving:  Stress period:    20    Time step:     1    Ground-Water Flow Eqn.\n",
      " Solving:  Stress period:    21    Time step:     1    Ground-Water Flow Eqn.\n",
      " Solving:  Stress period:    22    Time step:     1    Ground-Water Flow Eqn.\n",
      " Solving:  Stress period:    23    Time step:     1    Ground-Water Flow Eqn.\n",
      " Solving:  Stress period:    24    Time step:     1    Ground-Water Flow Eqn.\n",
      " Solving:  Stress period:    25    Time step:     1    Ground-Water Flow Eqn.\n",
      " Solving:  Stress period:    26    Time step:     1    Ground-Water Flow Eqn.\n",
      " Solving:  Stress period:    27    Time step:     1    Ground-Water Flow Eqn.\n",
      " Solving:  Stress period:    28    Time step:     1    Ground-Water Flow Eqn.\n",
      " Solving:  Stress period:    29    Time step:     1    Ground-Water Flow Eqn.\n",
      " Solving:  Stress period:    30    Time step:     1    Ground-Water Flow Eqn.\n",
      " Solving:  Stress period:    31    Time step:     1    Ground-Water Flow Eqn.\n",
      " Solving:  Stress period:    32    Time step:     1    Ground-Water Flow Eqn.\n",
      " Solving:  Stress period:    33    Time step:     1    Ground-Water Flow Eqn.\n",
      " Solving:  Stress period:    34    Time step:     1    Ground-Water Flow Eqn.\n",
      " Solving:  Stress period:    35    Time step:     1    Ground-Water Flow Eqn.\n",
      " Solving:  Stress period:    36    Time step:     1    Ground-Water Flow Eqn.\n",
      " Solving:  Stress period:    37    Time step:     1    Ground-Water Flow Eqn.\n",
      " Solving:  Stress period:    38    Time step:     1    Ground-Water Flow Eqn.\n",
      " Solving:  Stress period:    39    Time step:     1    Ground-Water Flow Eqn.\n",
      " Solving:  Stress period:    40    Time step:     1    Ground-Water Flow Eqn.\n",
      " Solving:  Stress period:    41    Time step:     1    Ground-Water Flow Eqn.\n",
      " Solving:  Stress period:    42    Time step:     1    Ground-Water Flow Eqn.\n",
      " Solving:  Stress period:    43    Time step:     1    Ground-Water Flow Eqn.\n",
      " Solving:  Stress period:    44    Time step:     1    Ground-Water Flow Eqn.\n",
      " Solving:  Stress period:    45    Time step:     1    Ground-Water Flow Eqn.\n",
      " Solving:  Stress period:    46    Time step:     1    Ground-Water Flow Eqn.\n",
      " Solving:  Stress period:    47    Time step:     1    Ground-Water Flow Eqn.\n",
      " Solving:  Stress period:    48    Time step:     1    Ground-Water Flow Eqn.\n",
      " Solving:  Stress period:    49    Time step:     1    Ground-Water Flow Eqn.\n",
      " Solving:  Stress period:    50    Time step:     1    Ground-Water Flow Eqn.\n",
      " Solving:  Stress period:    51    Time step:     1    Ground-Water Flow Eqn.\n",
      " Solving:  Stress period:    52    Time step:     1    Ground-Water Flow Eqn.\n",
      " Solving:  Stress period:    53    Time step:     1    Ground-Water Flow Eqn.\n",
      " Solving:  Stress period:    54    Time step:     1    Ground-Water Flow Eqn.\n",
      " Solving:  Stress period:    55    Time step:     1    Ground-Water Flow Eqn.\n",
      " Solving:  Stress period:    56    Time step:     1    Ground-Water Flow Eqn.\n",
      " Solving:  Stress period:    57    Time step:     1    Ground-Water Flow Eqn.\n",
      " Solving:  Stress period:    58    Time step:     1    Ground-Water Flow Eqn.\n",
      " Solving:  Stress period:    59    Time step:     1    Ground-Water Flow Eqn.\n",
      " Solving:  Stress period:    60    Time step:     1    Ground-Water Flow Eqn.\n",
      " Solving:  Stress period:    61    Time step:     1    Ground-Water Flow Eqn.\n",
      " Solving:  Stress period:    62    Time step:     1    Ground-Water Flow Eqn.\n",
      " Solving:  Stress period:    63    Time step:     1    Ground-Water Flow Eqn.\n",
      " Solving:  Stress period:    64    Time step:     1    Ground-Water Flow Eqn.\n",
      " Solving:  Stress period:    65    Time step:     1    Ground-Water Flow Eqn.\n",
      " Solving:  Stress period:    66    Time step:     1    Ground-Water Flow Eqn.\n",
      " Solving:  Stress period:    67    Time step:     1    Ground-Water Flow Eqn.\n",
      " Solving:  Stress period:    68    Time step:     1    Ground-Water Flow Eqn.\n",
      " Solving:  Stress period:    69    Time step:     1    Ground-Water Flow Eqn.\n",
      " Solving:  Stress period:    70    Time step:     1    Ground-Water Flow Eqn.\n",
      " Solving:  Stress period:    71    Time step:     1    Ground-Water Flow Eqn.\n",
      " Solving:  Stress period:    72    Time step:     1    Ground-Water Flow Eqn.\n",
      " Solving:  Stress period:    73    Time step:     1    Ground-Water Flow Eqn.\n",
      " Solving:  Stress period:    74    Time step:     1    Ground-Water Flow Eqn.\n",
      " Solving:  Stress period:    75    Time step:     1    Ground-Water Flow Eqn.\n",
      " Solving:  Stress period:    76    Time step:     1    Ground-Water Flow Eqn.\n",
      " Solving:  Stress period:    77    Time step:     1    Ground-Water Flow Eqn.\n",
      " Solving:  Stress period:    78    Time step:     1    Ground-Water Flow Eqn.\n",
      " Solving:  Stress period:    79    Time step:     1    Ground-Water Flow Eqn.\n",
      " Solving:  Stress period:    80    Time step:     1    Ground-Water Flow Eqn.\n",
      " Solving:  Stress period:    81    Time step:     1    Ground-Water Flow Eqn.\n",
      " Solving:  Stress period:    82    Time step:     1    Ground-Water Flow Eqn.\n",
      " Solving:  Stress period:    83    Time step:     1    Ground-Water Flow Eqn.\n",
      " Solving:  Stress period:    84    Time step:     1    Ground-Water Flow Eqn.\n",
      " Solving:  Stress period:    85    Time step:     1    Ground-Water Flow Eqn.\n",
      " Solving:  Stress period:    86    Time step:     1    Ground-Water Flow Eqn.\n",
      " Solving:  Stress period:    87    Time step:     1    Ground-Water Flow Eqn.\n",
      " Solving:  Stress period:    88    Time step:     1    Ground-Water Flow Eqn.\n",
      " Solving:  Stress period:    89    Time step:     1    Ground-Water Flow Eqn.\n",
      " Solving:  Stress period:    90    Time step:     1    Ground-Water Flow Eqn.\n",
      " Solving:  Stress period:    91    Time step:     1    Ground-Water Flow Eqn.\n",
      " Solving:  Stress period:    92    Time step:     1    Ground-Water Flow Eqn.\n",
      " Solving:  Stress period:    93    Time step:     1    Ground-Water Flow Eqn.\n",
      " Solving:  Stress period:    94    Time step:     1    Ground-Water Flow Eqn.\n",
      " Solving:  Stress period:    95    Time step:     1    Ground-Water Flow Eqn.\n",
      " Solving:  Stress period:    96    Time step:     1    Ground-Water Flow Eqn.\n",
      " Solving:  Stress period:    97    Time step:     1    Ground-Water Flow Eqn.\n",
      " Solving:  Stress period:    98    Time step:     1    Ground-Water Flow Eqn.\n",
      " Solving:  Stress period:    99    Time step:     1    Ground-Water Flow Eqn.\n",
      " Solving:  Stress period:   100    Time step:     1    Ground-Water Flow Eqn.\n",
      " Run end date and time (yyyy/mm/dd hh:mm:ss): 2024/01/25 16:12:50\n",
      " Elapsed run time: 19 Minutes, 37.601 Seconds\n",
      "\n",
      "  Normal termination of simulation\n"
     ]
    }
   ],
   "source": [
    "# Run the MODFLOW model\n",
    "success, buff = mf.run_model()"
   ]
  },
  {
   "cell_type": "code",
   "execution_count": null,
   "metadata": {},
   "outputs": [],
   "source": []
  },
  {
   "cell_type": "markdown",
   "metadata": {},
   "source": [
    "# ---MT3DMS---"
   ]
  },
  {
   "cell_type": "code",
   "execution_count": 118,
   "metadata": {},
   "outputs": [],
   "source": [
    "mt = flopy.mt3d.Mt3dms(modflowmodel=mf, modelname='mt', exe_name='mt3dms.exe' ,ftlfilename='mt3d_link.ftl',model_ws=model_ws)"
   ]
  },
  {
   "cell_type": "code",
   "execution_count": null,
   "metadata": {},
   "outputs": [],
   "source": []
  },
  {
   "cell_type": "markdown",
   "metadata": {},
   "source": [
    "# ICBUND"
   ]
  },
  {
   "cell_type": "code",
   "execution_count": 119,
   "metadata": {},
   "outputs": [
    {
     "data": {
      "text/plain": [
       "<matplotlib.image.AxesImage at 0x12d660950>"
      ]
     },
     "execution_count": 119,
     "metadata": {},
     "output_type": "execute_result"
    },
    {
     "data": {
      "image/png": "[encoded data removed]",
      "text/plain": [
       "<Figure size 640x480 with 1 Axes>"
      ]
     },
     "metadata": {},
     "output_type": "display_data"
    }
   ],
   "source": [
    "icbund = ibound.copy()\n",
    "cc = np.where(icbund==-1)\n",
    "mask = cc[1]>2200/2/delr\n",
    "\n",
    "cc2 = (cc[0][mask],cc[1][mask],cc[2][mask])\n",
    "icbund[cc2] = 1\n",
    "plt.imshow(icbund[:,:,0])"
   ]
  },
  {
   "cell_type": "code",
   "execution_count": null,
   "metadata": {},
   "outputs": [],
   "source": []
  },
  {
   "cell_type": "markdown",
   "metadata": {},
   "source": [
    "# BTN ICBOUND "
   ]
  },
  {
   "cell_type": "code",
   "execution_count": 120,
   "metadata": {},
   "outputs": [],
   "source": [
    "#icbund = np.full((nlay, nrow, ncol),0, dtype=float)\n",
    "#\n",
    "btn = flopy.mt3d.Mt3dBtn(\n",
    "    mt,\n",
    "    nprs=5,\n",
    "    timprs=np.cumsum([200]*7),\n",
    "    prsity=0.25,\n",
    "    sconc= 0.01, # starting concentration\n",
    "    ifmtcn=0, chkmas=False, nprobs=10, nprmas=10,\n",
    "    dt0=5,  # The user-specified initial \n",
    "    ttsmult=1.4,\n",
    "    mxstrn = 50000,\n",
    "    icbund = icbund\n",
    ")\n"
   ]
  },
  {
   "cell_type": "code",
   "execution_count": null,
   "metadata": {},
   "outputs": [],
   "source": []
  },
  {
   "cell_type": "code",
   "execution_count": 121,
   "metadata": {},
   "outputs": [],
   "source": [
    "adv = flopy.mt3d.Mt3dAdv(mt, mixelm=0,percel=0.4,mxpart=50000000,nadvfd=0)\n",
    "dsp = flopy.mt3d.Mt3dDsp(mt, al=parms['al'], trpt=0.1, \n",
    "                        trpv=0.01, \n",
    "                        dmcoef=3.7E-10 )  ## !!TRVP change to 0.01\n",
    "gcg = flopy.mt3d.Mt3dGcg(mt, iter1=50, mxiter=1, isolve=2, cclose= 1e-5)"
   ]
  },
  {
   "cell_type": "code",
   "execution_count": null,
   "metadata": {},
   "outputs": [],
   "source": []
  },
  {
   "cell_type": "markdown",
   "metadata": {},
   "source": [
    "# RCH"
   ]
  },
  {
   "cell_type": "code",
   "execution_count": 122,
   "metadata": {},
   "outputs": [],
   "source": [
    "# crch_array =  np.full(( nrow, ncol), 0.1, dtype=float)\n",
    "# crch_dict = {}\n",
    "# crch_dict[0] = crch_array\n",
    "# ssm = flopy.mt3d.Mt3dSsm(model, crch=crch_dict)\n",
    "\n",
    "# rch_dict = {}\n",
    "# rch_array = np.full(( nrow, ncol), 0.00013, dtype=float)\n",
    "# rch_dict[0] = rch_array\n",
    "# rch = flopy.modflow.ModflowRch(model = model, rech = rch_dict)\n",
    "\n",
    "\n",
    "# ## [row, col, rch(m3), crch, start, end]\n",
    "# rch_data = [[1100,1100,0.51,5000,1,20]]\n"
   ]
  },
  {
   "cell_type": "markdown",
   "metadata": {},
   "source": [
    "### Real Septics"
   ]
  },
  {
   "cell_type": "code",
   "execution_count": 123,
   "metadata": {},
   "outputs": [],
   "source": [
    "import numpy as np\n",
    "import pandas as pd\n",
    "import flopy\n",
    "\n",
    "# Assuming nrow, ncol, delr, delc, and mt are defined earlier in your code\n",
    "\n",
    "# Initialize the base concentration array and the dictionary\n",
    "crch_array_base = np.full((nrow, ncol), 0.01, dtype=float)\n",
    "crch_dict = {0: crch_array_base.copy()}\n",
    "\n",
    "# Read the CSV file from the specified path\n",
    "df = pd.read_csv(\"wasaga septics placement/septics_transformed.csv\")\n",
    "df = df[~df['Year End'].isna()]\n",
    "df['Year End'] =df['Year End'].astype(int)\n",
    "\n",
    "# Loop through the DataFrame to update crch_dict\n",
    "for index, row in df.iterrows():\n",
    "    easting = row['Wasaga Easting']\n",
    "    northing = row['Wasaga Northing']\n",
    "    start_year = row['Year']\n",
    "    end_year = row['Year End']\n",
    "\n",
    "    # Calculate the indices\n",
    "    row_index = int(northing / delr)  # Using northing for row index\n",
    "    col_index = int(easting / delc)   # Using easting for column index\n",
    "\n",
    "    # Calculate the range of years for each septic source\n",
    "    start_key = start_year - 1968\n",
    "    end_key = end_year - 1968\n",
    "\n",
    "    # Loop through each year for the septic source\n",
    "    for year_key in range(start_key, end_key + 1):\n",
    "        # Check if the key exists in the dictionary, if not, create a new array\n",
    "        if year_key not in crch_dict:\n",
    "            crch_dict[year_key] = crch_array_base.copy()\n",
    "\n",
    "        # Update the concentration at the specified location\n",
    "        crch_dict[year_key][row_index, col_index] = 5000  # or any other value you wish to set\n",
    "\n",
    "# Create the SSM object\n",
    "ssm = flopy.mt3d.Mt3dSsm(mt, crch=crch_dict)\n"
   ]
  },
  {
   "cell_type": "code",
   "execution_count": 128,
   "metadata": {},
   "outputs": [],
   "source": [
    "import numpy as np\n",
    "import pandas as pd\n",
    "import flopy\n",
    "\n",
    "# Assuming nrow, ncol, delr, delc, and mt are defined earlier in your code\n",
    "# Also assuming rch_dict is already defined from your MODFLOW recharge setup\n",
    "\n",
    "# Initialize the base concentration array and the dictionary\n",
    "crch_array_base = np.full((nrow, ncol), 0.01, dtype=float)  # Background concentration\n",
    "crch_dict = {}\n",
    "\n",
    "# Constants for recharge and concentration\n",
    "background_recharge = 0.00013\n",
    "septic_recharge = 0.51 / delr / delc\n",
    "background_concentration = 0.01\n",
    "septic_concentration = 5000\n",
    "\n",
    "# Loop through each stress period in rch_dict\n",
    "for stress_period, rch_array in rch_dict.items():\n",
    "    # Copy the base concentration array for the current stress period\n",
    "    crch_array = crch_array_base.copy()\n",
    "    \n",
    "    # Find indices where recharge rate indicates a septic source\n",
    "    septic_indices = np.where(rch_array == septic_recharge)\n",
    "    \n",
    "    # Update the concentration array at these indices\n",
    "    crch_array[septic_indices] = septic_concentration\n",
    "    \n",
    "    # Store the updated concentration array in crch_dict for the current stress period\n",
    "    crch_dict[stress_period] = crch_array\n",
    "\n",
    "# Create the SSM object using crch_dict\n",
    "ssm = flopy.mt3d.Mt3dSsm(mt, crch=crch_dict)\n"
   ]
  },
  {
   "cell_type": "code",
   "execution_count": 129,
   "metadata": {},
   "outputs": [
    {
     "name": "stderr",
     "output_type": "stream",
     "text": [
      "/var/folders/hy/v14_l_r91tl2w5s9xfm9p2kc0000gn/T/ipykernel_39768/2813288131.py:18: UserWarning: Attempting to set identical low and high xlims makes transformation singular; automatically expanding.\n",
      "  ax2.set(xlabel='Year', xlim=[start_year + kpers[0], start_year + kpers[-1]], xticks=[start_year + k for k in ax1.get_xticks()],\n"
     ]
    },
    {
     "data": {
      "image/png": "[encoded data removed]",
      "text/plain": [
       "<Figure size 1000x600 with 2 Axes>"
      ]
     },
     "metadata": {},
     "output_type": "display_data"
    }
   ],
   "source": [
    "import matplotlib.pyplot as plt\n",
    "import numpy as np\n",
    "\n",
    "# Constants for recharge and concentration\n",
    "septic_concentration = 5000\n",
    "\n",
    "# Calculate and plot in a compact form\n",
    "kpers, active_septics = zip(*sorted((year_key, np.sum(crch == septic_concentration)) for year_key, crch in crch_dict.items()))\n",
    "\n",
    "fig, ax1 = plt.subplots(figsize=(10, 6))\n",
    "bars = ax1.bar(kpers, active_septics, color='dodgerblue', alpha=0.7)\n",
    "\n",
    "ax1.set(xlabel='Stress Period (kper)', ylabel='Number of Active Septic Sources', title='Active Septic Sources Over Time')\n",
    "\n",
    "# Adjust the x-axis to show actual years assuming the first stress period starts in 1950 (change if needed)\n",
    "start_year = 1950\n",
    "ax2 = ax1.twiny()\n",
    "ax2.set(xlabel='Year', xlim=[start_year + kpers[0], start_year + kpers[-1]], xticks=[start_year + k for k in ax1.get_xticks()],\n",
    "        xticklabels=[int(start_year + k) for k in ax1.get_xticks()])\n",
    "ax1.grid(axis='y', linestyle='--', alpha=0.7)\n",
    "\n",
    "# Add text labels on the bars\n",
    "for bar, val in zip(bars, active_septics):\n",
    "    if val == 0:\n",
    "        ax1.text(bar.get_x() + bar.get_width() / 2, bar.get_height(), str(val), ha='center', va='bottom', fontsize=10, fontweight='bold')\n",
    "\n",
    "\n",
    "plt.tight_layout()\n",
    "plt.show()\n"
   ]
  },
  {
   "cell_type": "code",
   "execution_count": 127,
   "metadata": {},
   "outputs": [
    {
     "name": "stdout",
     "output_type": "stream",
     "text": [
      "No data available for period 47\n"
     ]
    }
   ],
   "source": [
    "import matplotlib.pyplot as plt\n",
    "\n",
    "# Assuming crch_dict is already defined and filled with your data\n",
    "\n",
    "period = 47  # Specify the period you want to visualize\n",
    "\n",
    "# Check if the period exists in the dictionary\n",
    "if period in crch_dict:\n",
    "    # Extract the array for the specified period\n",
    "    crch_array = crch_dict[period]\n",
    "\n",
    "    # Create a heatmap of the array\n",
    "    plt.imshow(crch_array, cmap='viridis', interpolation='nearest')\n",
    "    plt.colorbar(label='Concentration')  # Add a color bar to indicate the values\n",
    "\n",
    "    # Flip the y-axis\n",
    "    plt.gca().invert_yaxis()\n",
    "\n",
    "    # Add labels and title\n",
    "    plt.xlabel('Column Index')\n",
    "    plt.ylabel('Row Index')\n",
    "    plt.title(f'CRCH Array Visualization at Period {period}')\n",
    "\n",
    "    # Show the plot\n",
    "    plt.show()\n",
    "else:\n",
    "    print(f\"No data available for period {period}\")\n"
   ]
  },
  {
   "cell_type": "code",
   "execution_count": null,
   "metadata": {},
   "outputs": [],
   "source": []
  },
  {
   "cell_type": "code",
   "execution_count": null,
   "metadata": {},
   "outputs": [],
   "source": []
  },
  {
   "cell_type": "code",
   "execution_count": null,
   "metadata": {},
   "outputs": [],
   "source": []
  },
  {
   "cell_type": "markdown",
   "metadata": {},
   "source": [
    "### Test SSM"
   ]
  },
  {
   "cell_type": "code",
   "execution_count": 174,
   "metadata": {},
   "outputs": [],
   "source": [
    "# crch_array =  np.full(( nrow, ncol), 0.01, dtype=float)\n",
    "# crch_dict = {}\n",
    "# crch_dict[0] = crch_array\n",
    "\n",
    "# crch_array =  np.full(( nrow, ncol), 0.01, dtype=float)\n",
    "\n",
    "# # crch_array[int(nrow/2),int(ncol/2)] =5000\n",
    "# # crch_array[int(nrow/2),int(ncol/3)] =5000\n",
    "# crch_array[int((1700-70)/delr),int(ncol/3)] =5000\n",
    "# crch_array[int((1700-70)/delr),int(ncol/2)] =5000\n",
    "# spetic_locs = [[int((1700-70)/delr),int(ncol/3)], [int((1700-70)/delr),int(ncol/2)]]\n",
    "\n",
    "# crch_dict = {}\n",
    "# crch_dict[1] = crch_array\n",
    "\n",
    "\n",
    "# crch_array =  np.full(( nrow, ncol), 0.01, dtype=float)\n",
    "# crch_dict[26] = crch_array\n",
    "\n",
    "# ssm = flopy.mt3d.Mt3dSsm(mt, crch=crch_dict)"
   ]
  },
  {
   "cell_type": "code",
   "execution_count": null,
   "metadata": {},
   "outputs": [],
   "source": []
  },
  {
   "cell_type": "code",
   "execution_count": null,
   "metadata": {},
   "outputs": [],
   "source": []
  },
  {
   "cell_type": "code",
   "execution_count": null,
   "metadata": {},
   "outputs": [],
   "source": []
  },
  {
   "cell_type": "code",
   "execution_count": null,
   "metadata": {},
   "outputs": [],
   "source": []
  },
  {
   "cell_type": "code",
   "execution_count": null,
   "metadata": {},
   "outputs": [],
   "source": []
  },
  {
   "cell_type": "code",
   "execution_count": null,
   "metadata": {},
   "outputs": [],
   "source": []
  },
  {
   "cell_type": "markdown",
   "metadata": {},
   "source": [
    "# RCT"
   ]
  },
  {
   "cell_type": "code",
   "execution_count": 175,
   "metadata": {},
   "outputs": [],
   "source": [
    "rct = flopy.mt3d.Mt3dRct(model=mt, isothm=3,sp1=parms['sp1'],sp2=0.0001,igetsc=0,rhob= 1.65E+09)"
   ]
  },
  {
   "cell_type": "code",
   "execution_count": null,
   "metadata": {},
   "outputs": [],
   "source": []
  },
  {
   "cell_type": "code",
   "execution_count": null,
   "metadata": {},
   "outputs": [],
   "source": []
  },
  {
   "cell_type": "markdown",
   "metadata": {},
   "source": [
    "# Write and Run"
   ]
  },
  {
   "cell_type": "code",
   "execution_count": 176,
   "metadata": {},
   "outputs": [],
   "source": [
    "\n",
    "# Write MODFLOW input files\n",
    "mt.write_input()"
   ]
  },
  {
   "cell_type": "markdown",
   "metadata": {},
   "source": []
  },
  {
   "cell_type": "code",
   "execution_count": 177,
   "metadata": {},
   "outputs": [],
   "source": [
    "open_file(model_ws)"
   ]
  },
  {
   "cell_type": "code",
   "execution_count": 178,
   "metadata": {},
   "outputs": [
    {
     "name": "stdout",
     "output_type": "stream",
     "text": [
      "FloPy is using the following executable to run the model: C:\\Users\\swan47\\AppData\\Local\\flopy\\bin\\mt3dms.exe\n",
      " MT3DMS - Modular 3-D Multi-Species Transport Model [Version 5.30]\n",
      " Developed at University of Alabama for U.S. Department of Defense\n",
      "\n",
      " Using NAME File: mt.nam                                            \n",
      "\n",
      " STRESS PERIOD NO.    1\n",
      "\n",
      " TIME STEP NO.    1\n",
      " FROM TIME =   0.0000     TO    365.00    \n",
      "\n",
      " Transport Step:    1   Step Size:   5.000     Total Elapsed Time:   5.0000    \n",
      " Outer Iter.  1  Inner Iter.  1:  Max. DC =  0.2062E-02  [K,I,J]   61  319  393\n",
      " Outer Iter.  1  Inner Iter.  2:  Max. DC =  0.5960E-07  [K,I,J]   62  318    1\n",
      " Transport Step:    2   Step Size:   7.000     Total Elapsed Time:   12.000    \n",
      " Outer Iter.  1  Inner Iter.  1:  Max. DC =  0.2831E-02  [K,I,J]   61  319  393\n",
      " Outer Iter.  1  Inner Iter.  2:  Max. DC =  0.1192E-06  [K,I,J]   63  319    1\n",
      " Transport Step:    3   Step Size:   9.800     Total Elapsed Time:   21.800    \n",
      " Outer Iter.  1  Inner Iter.  1:  Max. DC =  0.3856E-02  [K,I,J]   61  319   14\n",
      " Outer Iter.  1  Inner Iter.  2:  Max. DC =  0.2980E-06  [K,I,J]   63  319    1\n",
      " Transport Step:    4   Step Size:   13.72     Total Elapsed Time:   35.520    \n",
      " Outer Iter.  1  Inner Iter.  1:  Max. DC =  0.5199E-02  [K,I,J]   61  319   16\n",
      " Outer Iter.  1  Inner Iter.  2:  Max. DC =  0.8345E-06  [K,I,J]   63  320    1\n",
      " Transport Step:    5   Step Size:   19.21     Total Elapsed Time:   54.728    \n",
      " Outer Iter.  1  Inner Iter.  1:  Max. DC =  0.6914E-02  [K,I,J]   61  319   20\n",
      " Outer Iter.  1  Inner Iter.  2:  Max. DC =  0.2682E-05  [K,I,J]   63  320    1\n",
      " Transport Step:    6   Step Size:   26.89     Total Elapsed Time:   81.619    \n",
      " Outer Iter.  1  Inner Iter.  1:  Max. DC =  0.9030E-02  [K,I,J]   61  319   21\n",
      " Outer Iter.  1  Inner Iter.  2:  Max. DC =  0.8166E-05  [K,I,J]   63  320    3\n",
      " Transport Step:    7   Step Size:   37.65     Total Elapsed Time:   119.27    \n",
      " Outer Iter.  1  Inner Iter.  1:  Max. DC =  0.1152E-01  [K,I,J]   61  319    2\n",
      " Outer Iter.  1  Inner Iter.  2:  Max. DC =  0.2933E-04  [K,I,J]   63  321    5\n",
      " Outer Iter.  1  Inner Iter.  3:  Max. DC =  0.7749E-06  [K,I,J]   63  321    1\n",
      " Transport Step:    8   Step Size:   52.71     Total Elapsed Time:   171.97    \n",
      " Outer Iter.  1  Inner Iter.  1:  Max. DC =  0.1428E-01  [K,I,J]   61  319   20\n",
      " Outer Iter.  1  Inner Iter.  2:  Max. DC =  0.8917E-04  [K,I,J]   63  321    8\n",
      " Outer Iter.  1  Inner Iter.  3:  Max. DC =  0.2861E-05  [K,I,J]   63  320    1\n",
      " Transport Step:    9   Step Size:   28.03     Total Elapsed Time:   200.00    \n",
      " Outer Iter.  1  Inner Iter.  1:  Max. DC =  0.7047E-02  [K,I,J]   61  319    2\n",
      " Outer Iter.  1  Inner Iter.  2:  Max. DC =  0.2086E-04  [K,I,J]   63  321    7\n",
      " Outer Iter.  1  Inner Iter.  3:  Max. DC =  0.2980E-06  [K,I,J]   63  320    1\n",
      " Transport Step:   10   Step Size:   103.3     Total Elapsed Time:   303.31    \n",
      " Outer Iter.  1  Inner Iter.  1:  Max. DC =  0.2138E-01  [K,I,J]   61  319    2\n",
      " Outer Iter.  1  Inner Iter.  2:  Max. DC =  0.4712E-03  [K,I,J]   63  321   19\n",
      " Outer Iter.  1  Inner Iter.  3:  Max. DC =  0.2682E-04  [K,I,J]   63  321    2\n",
      " Outer Iter.  1  Inner Iter.  4:  Max. DC =  0.7153E-06  [K,I,J]   63  322    1\n",
      " Transport Step:   11   Step Size:   61.69     Total Elapsed Time:   365.00    \n",
      " Outer Iter.  1  Inner Iter.  1:  Max. DC =  0.1113E-01  [K,I,J]   61  319    2\n",
      " Outer Iter.  1  Inner Iter.  2:  Max. DC =  0.1656E-03  [K,I,J]   63  321   13\n",
      " Outer Iter.  1  Inner Iter.  3:  Max. DC =  0.4947E-05  [K,I,J]   63  320    4\n",
      "\n",
      " STRESS PERIOD NO.    2\n",
      "\n",
      " TIME STEP NO.    1\n",
      " FROM TIME =   365.00     TO    730.00    \n",
      "\n",
      " Transport Step:    1   Step Size:   5.000     Total Elapsed Time:   370.00    \n",
      " Outer Iter.  1  Inner Iter.  1:  Max. DC =  0.1250E+05  [K,I,J]   46  228  165\n",
      " Outer Iter.  1  Inner Iter.  2:  Max. DC =   790.2      [K,I,J]   17   22   84\n",
      " Outer Iter.  1  Inner Iter.  3:  Max. DC =   50.81      [K,I,J]   17   22   84\n",
      " Outer Iter.  1  Inner Iter.  4:  Max. DC =   3.099      [K,I,J]   17   22   84\n",
      " Outer Iter.  1  Inner Iter.  5:  Max. DC =  0.2246      [K,I,J]   17   22   84\n",
      " Outer Iter.  1  Inner Iter.  6:  Max. DC =  0.1562E-01  [K,I,J]   17   22   84\n",
      " Outer Iter.  1  Inner Iter.  7:  Max. DC =  0.9766E-03  [K,I,J]   16   22   84\n",
      " Outer Iter.  1  Inner Iter.  8:  Max. DC =  0.2861E-05  [K,I,J]   14    7  128\n",
      " Transport Step:    2   Step Size:   7.000     Total Elapsed Time:   377.00    \n",
      " Outer Iter.  1  Inner Iter.  1:  Max. DC =  0.8361      [K,I,J]   16   20  252\n",
      " Outer Iter.  1  Inner Iter.  2:  Max. DC =  0.1269      [K,I,J]   17   22   84\n",
      " Outer Iter.  1  Inner Iter.  3:  Max. DC =  0.1287E-01  [K,I,J]   17   22   84\n",
      " Outer Iter.  1  Inner Iter.  4:  Max. DC =  0.1326E-02  [K,I,J]   17   22   84\n",
      " Outer Iter.  1  Inner Iter.  5:  Max. DC =  0.1423E-03  [K,I,J]   17   22   84\n",
      " Outer Iter.  1  Inner Iter.  6:  Max. DC =  0.1359E-04  [K,I,J]   17   22   84\n",
      " Outer Iter.  1  Inner Iter.  7:  Max. DC =  0.1431E-05  [K,I,J]   17   22   84\n",
      " Transport Step:    3   Step Size:   9.800     Total Elapsed Time:   386.80    \n",
      " Outer Iter.  1  Inner Iter.  1:  Max. DC =  0.6113      [K,I,J]   19   33  279\n",
      " Outer Iter.  1  Inner Iter.  2:  Max. DC =  0.1306      [K,I,J]   17   22   84\n",
      " Outer Iter.  1  Inner Iter.  3:  Max. DC =  0.1810E-01  [K,I,J]   17   22   84\n",
      " Outer Iter.  1  Inner Iter.  4:  Max. DC =  0.3072E-02  [K,I,J]   17   22   84\n",
      " Outer Iter.  1  Inner Iter.  5:  Max. DC =  0.4264E-03  [K,I,J]   17   22   84\n",
      " Outer Iter.  1  Inner Iter.  6:  Max. DC =  0.6020E-04  [K,I,J]   17   22   84\n",
      " Outer Iter.  1  Inner Iter.  7:  Max. DC =  0.8225E-05  [K,I,J]   17   22   84\n",
      " Transport Step:    4   Step Size:   13.20     Total Elapsed Time:   400.00    \n",
      " Outer Iter.  1  Inner Iter.  1:  Max. DC =  0.4726      [K,I,J]   23   50  259\n",
      " Outer Iter.  1  Inner Iter.  2:  Max. DC =  0.1280      [K,I,J]   17   22   84\n",
      " Outer Iter.  1  Inner Iter.  3:  Max. DC =  0.2253E-01  [K,I,J]   17   22   84\n",
      " Outer Iter.  1  Inner Iter.  4:  Max. DC =  0.5550E-02  [K,I,J]   17   22   84\n",
      " Outer Iter.  1  Inner Iter.  5:  Max. DC =  0.9734E-03  [K,I,J]   17   22   84\n",
      " Outer Iter.  1  Inner Iter.  6:  Max. DC =  0.1878E-03  [K,I,J]   17   22   84\n",
      " Outer Iter.  1  Inner Iter.  7:  Max. DC =  0.3028E-04  [K,I,J]   17   22   84\n",
      " Outer Iter.  1  Inner Iter.  8:  Max. DC =  0.5782E-05  [K,I,J]   17   22   84\n",
      " Transport Step:    5   Step Size:   19.21     Total Elapsed Time:   419.21    \n",
      " Outer Iter.  1  Inner Iter.  1:  Max. DC =  0.4039      [K,I,J]   21   41  255\n",
      " Outer Iter.  1  Inner Iter.  2:  Max. DC =  0.1330      [K,I,J]   17   22   84\n",
      " Outer Iter.  1  Inner Iter.  3:  Max. DC =  0.3156E-01  [K,I,J]   17   22   84\n",
      " Outer Iter.  1  Inner Iter.  4:  Max. DC =  0.1032E-01  [K,I,J]   17   22   84\n",
      " Outer Iter.  1  Inner Iter.  5:  Max. DC =  0.2650E-02  [K,I,J]   17   22   84\n",
      " Outer Iter.  1  Inner Iter.  6:  Max. DC =  0.6117E-03  [K,I,J]   17   22   84\n",
      " Outer Iter.  1  Inner Iter.  7:  Max. DC =  0.1523E-03  [K,I,J]   17   22   84\n",
      " Outer Iter.  1  Inner Iter.  8:  Max. DC =  0.3260E-04  [K,I,J]   17   22   84\n",
      " Outer Iter.  1  Inner Iter.  9:  Max. DC =  0.7868E-05  [K,I,J]   17   22   84\n",
      " Transport Step:    6   Step Size:   26.89     Total Elapsed Time:   446.10    \n",
      " Outer Iter.  1  Inner Iter.  1:  Max. DC =  0.3491      [K,I,J]   15   14  229\n",
      " Outer Iter.  1  Inner Iter.  2:  Max. DC =  0.1259      [K,I,J]   22   43    7\n",
      " Outer Iter.  1  Inner Iter.  3:  Max. DC =  0.4136E-01  [K,I,J]   17   22   84\n",
      " Outer Iter.  1  Inner Iter.  4:  Max. DC =  0.1470E-01  [K,I,J]   17   22   84\n",
      " Outer Iter.  1  Inner Iter.  5:  Max. DC =  0.5327E-02  [K,I,J]   17   22   84\n",
      " Outer Iter.  1  Inner Iter.  6:  Max. DC =  0.1520E-02  [K,I,J]   17   22   84\n",
      " Outer Iter.  1  Inner Iter.  7:  Max. DC =  0.4659E-03  [K,I,J]   17   22   84\n",
      " Outer Iter.  1  Inner Iter.  8:  Max. DC =  0.1317E-03  [K,I,J]   17   22   84\n",
      " Outer Iter.  1  Inner Iter.  9:  Max. DC =  0.3588E-04  [K,I,J]   17   22   84\n",
      " Outer Iter.  1  Inner Iter. 10:  Max. DC =  0.1049E-04  [K,I,J]   17   22   84\n",
      " Outer Iter.  1  Inner Iter. 11:  Max. DC =  0.2861E-05  [K,I,J]   17   22   84\n",
      " Transport Step:    7   Step Size:   37.65     Total Elapsed Time:   483.75    \n",
      " Outer Iter.  1  Inner Iter.  1:  Max. DC =  0.3127      [K,I,J]   49  241  169\n",
      " Outer Iter.  1  Inner Iter.  2:  Max. DC =  0.1178      [K,I,J]   19   30  251\n",
      " Outer Iter.  1  Inner Iter.  3:  Max. DC =  0.5329E-01  [K,I,J]   17   22   84\n",
      " Outer Iter.  1  Inner Iter.  4:  Max. DC =  0.1874E-01  [K,I,J]   17   22   84\n",
      " Outer Iter.  1  Inner Iter.  5:  Max. DC =  0.8462E-02  [K,I,J]   17   22   84\n",
      " Outer Iter.  1  Inner Iter.  6:  Max. DC =  0.3345E-02  [K,I,J]   17   22   84\n",
      " Outer Iter.  1  Inner Iter.  7:  Max. DC =  0.1069E-02  [K,I,J]   17   22   84\n",
      " Outer Iter.  1  Inner Iter.  8:  Max. DC =  0.4057E-03  [K,I,J]   17   22   84\n",
      " Outer Iter.  1  Inner Iter.  9:  Max. DC =  0.1341E-03  [K,I,J]   17   22   84\n",
      " Outer Iter.  1  Inner Iter. 10:  Max. DC =  0.4458E-04  [K,I,J]   17   22   84\n",
      " Outer Iter.  1  Inner Iter. 11:  Max. DC =  0.1597E-04  [K,I,J]   17   22   84\n",
      " Outer Iter.  1  Inner Iter. 12:  Max. DC =  0.5364E-05  [K,I,J]   17   22   84\n",
      " Transport Step:    8   Step Size:   52.71     Total Elapsed Time:   536.45    \n",
      " Outer Iter.  1  Inner Iter.  1:  Max. DC =  0.2824      [K,I,J]   46  220  107\n",
      " Outer Iter.  1  Inner Iter.  2:  Max. DC =  0.1059      [K,I,J]   16   16   87\n",
      " Outer Iter.  1  Inner Iter.  3:  Max. DC =  0.6264E-01  [K,I,J]   14    8  176\n",
      " Outer Iter.  1  Inner Iter.  4:  Max. DC =  0.2281E-01  [K,I,J]   17   22   84\n",
      " Outer Iter.  1  Inner Iter.  5:  Max. DC =  0.1092E-01  [K,I,J]   17   22   84\n",
      " Outer Iter.  1  Inner Iter.  6:  Max. DC =  0.5327E-02  [K,I,J]   17   22   84\n",
      " Outer Iter.  1  Inner Iter.  7:  Max. DC =  0.2240E-02  [K,I,J]   17   22   84\n",
      " Outer Iter.  1  Inner Iter.  8:  Max. DC =  0.8528E-03  [K,I,J]   17   22   84\n",
      " Outer Iter.  1  Inner Iter.  9:  Max. DC =  0.3948E-03  [K,I,J]   17   22   84\n",
      " Outer Iter.  1  Inner Iter. 10:  Max. DC =  0.1559E-03  [K,I,J]   17   22   84\n",
      " Outer Iter.  1  Inner Iter. 11:  Max. DC =  0.5805E-04  [K,I,J]   17   22   84\n",
      " Outer Iter.  1  Inner Iter. 12:  Max. DC =  0.2170E-04  [K,I,J]   17   22   84\n",
      " Outer Iter.  1  Inner Iter. 13:  Max. DC =  0.8941E-05  [K,I,J]   17   22   84\n",
      " Transport Step:    9   Step Size:   63.55     Total Elapsed Time:   600.00    \n",
      " Outer Iter.  1  Inner Iter.  1:  Max. DC =  0.2205      [K,I,J]   46  220  107\n",
      " Outer Iter.  1  Inner Iter.  2:  Max. DC =  0.8459E-01  [K,I,J]   46  219  181\n",
      " Outer Iter.  1  Inner Iter.  3:  Max. DC =  0.5788E-01  [K,I,J]   48  233  156\n",
      " Outer Iter.  1  Inner Iter.  4:  Max. DC =  0.2173E-01  [K,I,J]   17   22   84\n",
      " Outer Iter.  1  Inner Iter.  5:  Max. DC =  0.1000E-01  [K,I,J]   17   22   84\n",
      " Outer Iter.  1  Inner Iter.  6:  Max. DC =  0.5193E-02  [K,I,J]   17   22   84\n",
      " Outer Iter.  1  Inner Iter.  7:  Max. DC =  0.2734E-02  [K,I,J]   17   22   84\n",
      " Outer Iter.  1  Inner Iter.  8:  Max. DC =  0.1202E-02  [K,I,J]   17   22   84\n",
      " Outer Iter.  1  Inner Iter.  9:  Max. DC =  0.5108E-03  [K,I,J]   17   22   84\n",
      " Outer Iter.  1  Inner Iter. 10:  Max. DC =  0.2366E-03  [K,I,J]   17   22   84\n",
      " Outer Iter.  1  Inner Iter. 11:  Max. DC =  0.9954E-04  [K,I,J]   17   22   84\n",
      " Outer Iter.  1  Inner Iter. 12:  Max. DC =  0.3946E-04  [K,I,J]   17   22   84\n",
      " Outer Iter.  1  Inner Iter. 13:  Max. DC =  0.1693E-04  [K,I,J]   17   22   84\n",
      " Outer Iter.  1  Inner Iter. 14:  Max. DC =  0.7510E-05  [K,I,J]   17   22   84\n",
      " Transport Step:   10   Step Size:   103.3     Total Elapsed Time:   703.31    \n",
      " Outer Iter.  1  Inner Iter.  1:  Max. DC =  0.2176      [K,I,J]   46  220  107\n",
      " Outer Iter.  1  Inner Iter.  2:  Max. DC =  0.8451E-01  [K,I,J]   42  189   94\n",
      " Outer Iter.  1  Inner Iter.  3:  Max. DC =  0.6860E-01  [K,I,J]   44  204   67\n",
      " Outer Iter.  1  Inner Iter.  4:  Max. DC =  0.3137E-01  [K,I,J]   51  254  227\n",
      " Outer Iter.  1  Inner Iter.  5:  Max. DC =  0.1400E-01  [K,I,J]   56  284  334\n",
      " Outer Iter.  1  Inner Iter.  6:  Max. DC =  0.8086E-02  [K,I,J]   45  211  295\n",
      " Outer Iter.  1  Inner Iter.  7:  Max. DC =  0.4470E-02  [K,I,J]   17   22   84\n",
      " Outer Iter.  1  Inner Iter.  8:  Max. DC =  0.2458E-02  [K,I,J]   17   22   84\n",
      " Outer Iter.  1  Inner Iter.  9:  Max. DC =  0.1228E-02  [K,I,J]   17   22   84\n",
      " Outer Iter.  1  Inner Iter. 10:  Max. DC =  0.5752E-03  [K,I,J]   17   22   84\n",
      " Outer Iter.  1  Inner Iter. 11:  Max. DC =  0.3045E-03  [K,I,J]   17   22   84\n",
      " Outer Iter.  1  Inner Iter. 12:  Max. DC =  0.1408E-03  [K,I,J]   17   22   84\n",
      " Outer Iter.  1  Inner Iter. 13:  Max. DC =  0.7200E-04  [K,I,J]   17   22   84\n",
      " Outer Iter.  1  Inner Iter. 14:  Max. DC =  0.3231E-04  [K,I,J]   17   22   84\n",
      " Outer Iter.  1  Inner Iter. 15:  Max. DC =  0.1538E-04  [K,I,J]   17   22   84\n",
      " Outer Iter.  1  Inner Iter. 16:  Max. DC =  0.7272E-05  [K,I,J]   17   22   84\n",
      " Transport Step:   11   Step Size:   26.69     Total Elapsed Time:   730.00    \n",
      " Outer Iter.  1  Inner Iter.  1:  Max. DC =  0.4522E-01  [K,I,J]   46  220  107\n",
      " Outer Iter.  1  Inner Iter.  2:  Max. DC =  0.2020E-01  [K,I,J]   44  204   67\n",
      " Outer Iter.  1  Inner Iter.  3:  Max. DC =  0.8796E-02  [K,I,J]   47  228  165\n",
      " Outer Iter.  1  Inner Iter.  4:  Max. DC =  0.2901E-02  [K,I,J]   47  228  165\n",
      " Outer Iter.  1  Inner Iter.  5:  Max. DC =  0.1298E-02  [K,I,J]   17   22   84\n",
      " Outer Iter.  1  Inner Iter.  6:  Max. DC =  0.5207E-03  [K,I,J]   17   22   84\n",
      " Outer Iter.  1  Inner Iter.  7:  Max. DC =  0.1693E-03  [K,I,J]   17   22   84\n",
      " Outer Iter.  1  Inner Iter.  8:  Max. DC =  0.6551E-04  [K,I,J]   17   22   84\n",
      " Outer Iter.  1  Inner Iter.  9:  Max. DC =  0.2241E-04  [K,I,J]   17   22   84\n",
      " Outer Iter.  1  Inner Iter. 10:  Max. DC =  0.7451E-05  [K,I,J]   17   22   84\n",
      "\n",
      " STRESS PERIOD NO.    3\n",
      "\n",
      " TIME STEP NO.    1\n",
      " FROM TIME =   730.00     TO    1095.0    \n",
      "\n",
      " Transport Step:    1   Step Size:   5.000     Total Elapsed Time:   735.00    \n",
      " Outer Iter.  1  Inner Iter.  1:  Max. DC =  0.7265      [K,I,J]   45  224  184\n",
      " Outer Iter.  1  Inner Iter.  2:  Max. DC =  0.5689E-01  [K,I,J]   49  242  180\n",
      " Outer Iter.  1  Inner Iter.  3:  Max. DC =  0.7595E-02  [K,I,J]   48  235  207\n",
      " Outer Iter.  1  Inner Iter.  4:  Max. DC =  0.1161E-02  [K,I,J]   48  235  237\n",
      " Outer Iter.  1  Inner Iter.  5:  Max. DC =  0.1740E-03  [K,I,J]   48  235  207\n",
      " Outer Iter.  1  Inner Iter.  6:  Max. DC =  0.4470E-05  [K,I,J]   46  222  233\n",
      " Transport Step:    2   Step Size:   7.000     Total Elapsed Time:   742.00    \n",
      " Outer Iter.  1  Inner Iter.  1:  Max. DC =  0.2410      [K,I,J]   43  207    4\n",
      " Outer Iter.  1  Inner Iter.  2:  Max. DC =  0.1828E-01  [K,I,J]   48  235  207\n",
      " Outer Iter.  1  Inner Iter.  3:  Max. DC =  0.2876E-02  [K,I,J]   48  235  237\n",
      " Outer Iter.  1  Inner Iter.  4:  Max. DC =  0.4651E-03  [K,I,J]   48  235  237\n",
      " Outer Iter.  1  Inner Iter.  5:  Max. DC =  0.9823E-04  [K,I,J]   48  235  237\n",
      " Outer Iter.  1  Inner Iter.  6:  Max. DC =  0.3779E-04  [K,I,J]   48  235  237\n",
      " Outer Iter.  1  Inner Iter.  7:  Max. DC =  0.4172E-05  [K,I,J]   48  235  237\n",
      " Transport Step:    3   Step Size:   9.800     Total Elapsed Time:   751.80    \n",
      " Outer Iter.  1  Inner Iter.  1:  Max. DC =  0.1382      [K,I,J]   47  235  237\n",
      " Outer Iter.  1  Inner Iter.  2:  Max. DC =  0.1376E-01  [K,I,J]   46  224  184\n",
      " Outer Iter.  1  Inner Iter.  3:  Max. DC =  0.2305E-02  [K,I,J]   46  224  184\n",
      " Outer Iter.  1  Inner Iter.  4:  Max. DC =  0.4953E-03  [K,I,J]   46  224  184\n",
      " Outer Iter.  1  Inner Iter.  5:  Max. DC =  0.1066E-03  [K,I,J]   46  224  184\n",
      " Outer Iter.  1  Inner Iter.  6:  Max. DC =  0.2217E-04  [K,I,J]   46  224  184\n",
      " Outer Iter.  1  Inner Iter.  7:  Max. DC =  0.4470E-05  [K,I,J]   46  224  184\n",
      " Transport Step:    4   Step Size:   13.72     Total Elapsed Time:   765.52    \n",
      " Outer Iter.  1  Inner Iter.  1:  Max. DC =  0.7668E-01  [K,I,J]   47  235  237\n",
      " Outer Iter.  1  Inner Iter.  2:  Max. DC =  0.1988E-01  [K,I,J]   46  223  214\n",
      " Outer Iter.  1  Inner Iter.  3:  Max. DC =  0.3664E-02  [K,I,J]   46  224  184\n",
      " Outer Iter.  1  Inner Iter.  4:  Max. DC =  0.1374E-02  [K,I,J]   46  224  184\n",
      " Outer Iter.  1  Inner Iter.  5:  Max. DC =  0.3108E-03  [K,I,J]   46  224  184\n",
      " Outer Iter.  1  Inner Iter.  6:  Max. DC =  0.8714E-04  [K,I,J]   46  224  184\n",
      " Outer Iter.  1  Inner Iter.  7:  Max. DC =  0.2134E-04  [K,I,J]   46  224  184\n",
      " Outer Iter.  1  Inner Iter.  8:  Max. DC =  0.5543E-05  [K,I,J]   46  224  184\n",
      " Transport Step:    5   Step Size:   19.21     Total Elapsed Time:   784.73    \n",
      " Outer Iter.  1  Inner Iter.  1:  Max. DC =  0.5483E-01  [K,I,J]   23   52  252\n",
      " Outer Iter.  1  Inner Iter.  2:  Max. DC =  0.2728E-01  [K,I,J]   45  215  189\n",
      " Outer Iter.  1  Inner Iter.  3:  Max. DC =  0.4699E-02  [K,I,J]   46  224  184\n",
      " Outer Iter.  1  Inner Iter.  4:  Max. DC =  0.2521E-02  [K,I,J]   46  224  184\n",
      " Outer Iter.  1  Inner Iter.  5:  Max. DC =  0.6724E-03  [K,I,J]   46  224  184\n",
      " Outer Iter.  1  Inner Iter.  6:  Max. DC =  0.2249E-03  [K,I,J]   46  224  184\n",
      " Outer Iter.  1  Inner Iter.  7:  Max. DC =  0.7308E-04  [K,I,J]   46  224  184\n",
      " Outer Iter.  1  Inner Iter.  8:  Max. DC =  0.1991E-04  [K,I,J]   46  224  184\n",
      " Outer Iter.  1  Inner Iter.  9:  Max. DC =  0.6378E-05  [K,I,J]   46  224  184\n",
      " Transport Step:    6   Step Size:   15.27     Total Elapsed Time:   800.00    \n",
      " Outer Iter.  1  Inner Iter.  1:  Max. DC =  0.3615E-01  [K,I,J]   47  234  156\n",
      " Outer Iter.  1  Inner Iter.  2:  Max. DC =  0.1754E-01  [K,I,J]   45  215  189\n",
      " Outer Iter.  1  Inner Iter.  3:  Max. DC =  0.2947E-02  [K,I,J]   48  235  237\n",
      " Outer Iter.  1  Inner Iter.  4:  Max. DC =  0.1379E-02  [K,I,J]   46  224  184\n",
      " Outer Iter.  1  Inner Iter.  5:  Max. DC =  0.3234E-03  [K,I,J]   46  224  184\n",
      " Outer Iter.  1  Inner Iter.  6:  Max. DC =  0.1015E-03  [K,I,J]   46  224  184\n",
      " Outer Iter.  1  Inner Iter.  7:  Max. DC =  0.2933E-04  [K,I,J]   46  224  184\n",
      " Outer Iter.  1  Inner Iter.  8:  Max. DC =  0.7093E-05  [K,I,J]   46  224  184\n",
      " Transport Step:    7   Step Size:   37.65     Total Elapsed Time:   837.65    \n",
      " Outer Iter.  1  Inner Iter.  1:  Max. DC =  0.6331E-01  [K,I,J]   50  254  235\n",
      " Outer Iter.  1  Inner Iter.  2:  Max. DC =  0.3950E-01  [K,I,J]   48  235  237\n",
      " Outer Iter.  1  Inner Iter.  3:  Max. DC =  0.1270E-01  [K,I,J]   49  242  180\n",
      " Outer Iter.  1  Inner Iter.  4:  Max. DC =  0.4703E-02  [K,I,J]   48  235  237\n",
      " Outer Iter.  1  Inner Iter.  5:  Max. DC =  0.2674E-02  [K,I,J]   48  235  237\n",
      " Outer Iter.  1  Inner Iter.  6:  Max. DC =  0.9390E-03  [K,I,J]   46  224  184\n",
      " Outer Iter.  1  Inner Iter.  7:  Max. DC =  0.3754E-03  [K,I,J]   46  224  184\n",
      " Outer Iter.  1  Inner Iter.  8:  Max. DC =  0.1572E-03  [K,I,J]   46  224  184\n",
      " Outer Iter.  1  Inner Iter.  9:  Max. DC =  0.7355E-04  [K,I,J]   46  224  184\n",
      " Outer Iter.  1  Inner Iter. 10:  Max. DC =  0.2432E-04  [K,I,J]   46  224  184\n",
      " Outer Iter.  1  Inner Iter. 11:  Max. DC =  0.8821E-05  [K,I,J]   46  224  184\n",
      " Transport Step:    8   Step Size:   52.71     Total Elapsed Time:   890.35    \n",
      " Outer Iter.  1  Inner Iter.  1:  Max. DC =  0.6573E-01  [K,I,J]   46  226  119\n",
      " Outer Iter.  1  Inner Iter.  2:  Max. DC =  0.3619E-01  [K,I,J]   48  235  237\n",
      " Outer Iter.  1  Inner Iter.  3:  Max. DC =  0.1952E-01  [K,I,J]   45  215  189\n",
      " Outer Iter.  1  Inner Iter.  4:  Max. DC =  0.5470E-02  [K,I,J]   37  145  381\n",
      " Outer Iter.  1  Inner Iter.  5:  Max. DC =  0.3853E-02  [K,I,J]   48  235  237\n",
      " Outer Iter.  1  Inner Iter.  6:  Max. DC =  0.1594E-02  [K,I,J]   46  224  184\n",
      " Outer Iter.  1  Inner Iter.  7:  Max. DC =  0.7359E-03  [K,I,J]   46  224  184\n",
      " Outer Iter.  1  Inner Iter.  8:  Max. DC =  0.2963E-03  [K,I,J]   46  224  184\n",
      " Outer Iter.  1  Inner Iter.  9:  Max. DC =  0.1313E-03  [K,I,J]   46  224  184\n",
      " Outer Iter.  1  Inner Iter. 10:  Max. DC =  0.6884E-04  [K,I,J]   46  224  184\n",
      " Outer Iter.  1  Inner Iter. 11:  Max. DC =  0.2909E-04  [K,I,J]   46  224  184\n",
      " Outer Iter.  1  Inner Iter. 12:  Max. DC =  0.1091E-04  [K,I,J]   46  224  184\n",
      " Outer Iter.  1  Inner Iter. 13:  Max. DC =  0.5484E-05  [K,I,J]   46  224  184\n",
      " Transport Step:    9   Step Size:   73.79     Total Elapsed Time:   964.14    \n",
      " Outer Iter.  1  Inner Iter.  1:  Max. DC =  0.6791E-01  [K,I,J]   46  226  119\n",
      " Outer Iter.  1  Inner Iter.  2:  Max. DC =  0.3012E-01  [K,I,J]   48  235  237\n",
      " Outer Iter.  1  Inner Iter.  3:  Max. DC =  0.2503E-01  [K,I,J]   45  215  189\n",
      " Outer Iter.  1  Inner Iter.  4:  Max. DC =  0.6952E-02  [K,I,J]   40  172  418\n",
      " Outer Iter.  1  Inner Iter.  5:  Max. DC =  0.3790E-02  [K,I,J]   57  292  320\n",
      " Outer Iter.  1  Inner Iter.  6:  Max. DC =  0.2821E-02  [K,I,J]   48  235  237\n",
      " Outer Iter.  1  Inner Iter.  7:  Max. DC =  0.1129E-02  [K,I,J]   46  224  184\n",
      " Outer Iter.  1  Inner Iter.  8:  Max. DC =  0.5313E-03  [K,I,J]   46  224  184\n",
      " Outer Iter.  1  Inner Iter.  9:  Max. DC =  0.2390E-03  [K,I,J]   46  224  184\n",
      " Outer Iter.  1  Inner Iter. 10:  Max. DC =  0.1242E-03  [K,I,J]   46  224  184\n",
      " Outer Iter.  1  Inner Iter. 11:  Max. DC =  0.6902E-04  [K,I,J]   46  224  184\n",
      " Outer Iter.  1  Inner Iter. 12:  Max. DC =  0.3040E-04  [K,I,J]   46  224  184\n",
      " Outer Iter.  1  Inner Iter. 13:  Max. DC =  0.1264E-04  [K,I,J]   46  224  184\n",
      " Outer Iter.  1  Inner Iter. 14:  Max. DC =  0.6795E-05  [K,I,J]   46  224  184\n",
      " Transport Step:   10   Step Size:   35.86     Total Elapsed Time:   1000.0    \n",
      " Outer Iter.  1  Inner Iter.  1:  Max. DC =  0.2946E-01  [K,I,J]   46  226  119\n",
      " Outer Iter.  1  Inner Iter.  2:  Max. DC =  0.1509E-01  [K,I,J]   48  235  237\n",
      " Outer Iter.  1  Inner Iter.  3:  Max. DC =  0.6765E-02  [K,I,J]   47  227    5\n",
      " Outer Iter.  1  Inner Iter.  4:  Max. DC =  0.2077E-02  [K,I,J]   37  145  381\n",
      " Outer Iter.  1  Inner Iter.  5:  Max. DC =  0.1209E-02  [K,I,J]   48  235  237\n",
      " Outer Iter.  1  Inner Iter.  6:  Max. DC =  0.4717E-03  [K,I,J]   46  224  184\n",
      " Outer Iter.  1  Inner Iter.  7:  Max. DC =  0.1941E-03  [K,I,J]   46  224  184\n",
      " Outer Iter.  1  Inner Iter.  8:  Max. DC =  0.7558E-04  [K,I,J]   46  224  184\n",
      " Outer Iter.  1  Inner Iter.  9:  Max. DC =  0.3749E-04  [K,I,J]   46  224  184\n",
      " Outer Iter.  1  Inner Iter. 10:  Max. DC =  0.1359E-04  [K,I,J]   46  224  184\n",
      " Outer Iter.  1  Inner Iter. 11:  Max. DC =  0.4709E-05  [K,I,J]   46  224  184\n",
      " Transport Step:   11   Step Size:   95.00     Total Elapsed Time:   1095.0    \n",
      " Outer Iter.  1  Inner Iter.  1:  Max. DC =  0.6073E-01  [K,I,J]   48  240  222\n",
      " Outer Iter.  1  Inner Iter.  2:  Max. DC =  0.2387E-01  [K,I,J]   39  163  399\n",
      " Outer Iter.  1  Inner Iter.  3:  Max. DC =  0.2044E-01  [K,I,J]   45  215  189\n",
      " Outer Iter.  1  Inner Iter.  4:  Max. DC =  0.8505E-02  [K,I,J]   47  227    5\n",
      " Outer Iter.  1  Inner Iter.  5:  Max. DC =  0.4587E-02  [K,I,J]   37  145  381\n",
      " Outer Iter.  1  Inner Iter.  6:  Max. DC =  0.2551E-02  [K,I,J]   48  235  237\n",
      " Outer Iter.  1  Inner Iter.  7:  Max. DC =  0.1183E-02  [K,I,J]   48  235  237\n",
      " Outer Iter.  1  Inner Iter.  8:  Max. DC =  0.6726E-03  [K,I,J]   46  224  184\n",
      " Outer Iter.  1  Inner Iter.  9:  Max. DC =  0.3489E-03  [K,I,J]   46  224  184\n",
      " Outer Iter.  1  Inner Iter. 10:  Max. DC =  0.1434E-03  [K,I,J]   46  224  184\n",
      " Outer Iter.  1  Inner Iter. 11:  Max. DC =  0.7868E-04  [K,I,J]   46  224  184\n",
      " Outer Iter.  1  Inner Iter. 12:  Max. DC =  0.5233E-04  [K,I,J]   46  224  184\n",
      " Outer Iter.  1  Inner Iter. 13:  Max. DC =  0.2527E-04  [K,I,J]   46  224  184\n",
      " Outer Iter.  1  Inner Iter. 14:  Max. DC =  0.1013E-04  [K,I,J]   46  224  184\n",
      " Outer Iter.  1  Inner Iter. 15:  Max. DC =  0.5603E-05  [K,I,J]   46  224  184\n",
      "\n",
      " STRESS PERIOD NO.    4\n",
      "\n",
      " TIME STEP NO.    1\n",
      " FROM TIME =   1095.0     TO    1460.0    \n",
      "\n",
      " Transport Step:    1   Step Size:   5.000     Total Elapsed Time:   1100.0    \n",
      " Outer Iter.  1  Inner Iter.  1:  Max. DC =  0.6849      [K,I,J]   47  238  251\n",
      " Outer Iter.  1  Inner Iter.  2:  Max. DC =  0.7153E-01  [K,I,J]   50  250  195\n",
      " Outer Iter.  1  Inner Iter.  3:  Max. DC =  0.7345E-02  [K,I,J]   51  256  247\n",
      " Outer Iter.  1  Inner Iter.  4:  Max. DC =  0.8203E-03  [K,I,J]   51  256  247\n",
      " Outer Iter.  1  Inner Iter.  5:  Max. DC =  0.6467E-04  [K,I,J]   51  256  247\n",
      " Outer Iter.  1  Inner Iter.  6:  Max. DC =  0.2682E-05  [K,I,J]   51  254  227\n",
      " Transport Step:    2   Step Size:   7.000     Total Elapsed Time:   1107.0    \n",
      " Outer Iter.  1  Inner Iter.  1:  Max. DC =  0.2312      [K,I,J]   50  256  247\n",
      " Outer Iter.  1  Inner Iter.  2:  Max. DC =  0.1740E-01  [K,I,J]   46  224  172\n",
      " Outer Iter.  1  Inner Iter.  3:  Max. DC =  0.1530E-02  [K,I,J]   51  256  247\n",
      " Outer Iter.  1  Inner Iter.  4:  Max. DC =  0.1560E-03  [K,I,J]   51  256  247\n",
      " Outer Iter.  1  Inner Iter.  5:  Max. DC =  0.3421E-04  [K,I,J]   51  254  227\n",
      " Outer Iter.  1  Inner Iter.  6:  Max. DC =  0.2861E-05  [K,I,J]   51  256  247\n",
      " Transport Step:    3   Step Size:   9.800     Total Elapsed Time:   1116.8    \n",
      " Outer Iter.  1  Inner Iter.  1:  Max. DC =  0.9190E-01  [K,I,J]   50  256  247\n",
      " Outer Iter.  1  Inner Iter.  2:  Max. DC =  0.1259E-01  [K,I,J]   39  173  166\n",
      " Outer Iter.  1  Inner Iter.  3:  Max. DC =  0.1834E-02  [K,I,J]   48  238  251\n",
      " Outer Iter.  1  Inner Iter.  4:  Max. DC =  0.3608E-03  [K,I,J]   48  238  251\n",
      " Outer Iter.  1  Inner Iter.  5:  Max. DC =  0.8577E-04  [K,I,J]   48  238  251\n",
      " Outer Iter.  1  Inner Iter.  6:  Max. DC =  0.2319E-04  [K,I,J]   48  238  251\n",
      " Outer Iter.  1  Inner Iter.  7:  Max. DC =  0.3576E-05  [K,I,J]   48  238  251\n",
      " Transport Step:    4   Step Size:   13.72     Total Elapsed Time:   1130.5    \n",
      " Outer Iter.  1  Inner Iter.  1:  Max. DC =  0.7728E-01  [K,I,J]   47  237  189\n",
      " Outer Iter.  1  Inner Iter.  2:  Max. DC =  0.2044E-01  [K,I,J]   47  231  208\n",
      " Outer Iter.  1  Inner Iter.  3:  Max. DC =  0.2259E-02  [K,I,J]   48  238  251\n",
      " Outer Iter.  1  Inner Iter.  4:  Max. DC =  0.1090E-02  [K,I,J]   48  238  251\n",
      " Outer Iter.  1  Inner Iter.  5:  Max. DC =  0.2122E-03  [K,I,J]   48  238  251\n",
      " Outer Iter.  1  Inner Iter.  6:  Max. DC =  0.8070E-04  [K,I,J]   48  238  251\n",
      " Outer Iter.  1  Inner Iter.  7:  Max. DC =  0.2068E-04  [K,I,J]   48  238  251\n",
      " Outer Iter.  1  Inner Iter.  8:  Max. DC =  0.4351E-05  [K,I,J]   48  238  251\n",
      " Transport Step:    5   Step Size:   19.21     Total Elapsed Time:   1149.7    \n",
      " Outer Iter.  1  Inner Iter.  1:  Max. DC =  0.7110E-01  [K,I,J]   47  237  197\n",
      " Outer Iter.  1  Inner Iter.  2:  Max. DC =  0.2722E-01  [K,I,J]   46  224  172\n",
      " Outer Iter.  1  Inner Iter.  3:  Max. DC =  0.2620E-02  [K,I,J]   48  238  170\n",
      " Outer Iter.  1  Inner Iter.  4:  Max. DC =  0.1559E-02  [K,I,J]   48  238  170\n",
      " Outer Iter.  1  Inner Iter.  5:  Max. DC =  0.5795E-03  [K,I,J]   48  238  251\n",
      " Outer Iter.  1  Inner Iter.  6:  Max. DC =  0.1472E-03  [K,I,J]   48  238  251\n",
      " Outer Iter.  1  Inner Iter.  7:  Max. DC =  0.6664E-04  [K,I,J]   48  238  251\n",
      " Outer Iter.  1  Inner Iter.  8:  Max. DC =  0.1901E-04  [K,I,J]   48  238  251\n",
      " Outer Iter.  1  Inner Iter.  9:  Max. DC =  0.4888E-05  [K,I,J]   48  238  251\n",
      " Transport Step:    6   Step Size:   26.89     Total Elapsed Time:   1176.6    \n",
      " Outer Iter.  1  Inner Iter.  1:  Max. DC =  0.6724E-01  [K,I,J]   50  255  227\n",
      " Outer Iter.  1  Inner Iter.  2:  Max. DC =  0.2996E-01  [K,I,J]   46  224  172\n",
      " Outer Iter.  1  Inner Iter.  3:  Max. DC =  0.3853E-02  [K,I,J]   48  238  229\n",
      " Outer Iter.  1  Inner Iter.  4:  Max. DC =  0.1575E-02  [K,I,J]   48  238  170\n",
      " Outer Iter.  1  Inner Iter.  5:  Max. DC =  0.1051E-02  [K,I,J]   48  238  170\n",
      " Outer Iter.  1  Inner Iter.  6:  Max. DC =  0.3608E-03  [K,I,J]   48  238  251\n",
      " Outer Iter.  1  Inner Iter.  7:  Max. DC =  0.1177E-03  [K,I,J]   48  238  251\n",
      " Outer Iter.  1  Inner Iter.  8:  Max. DC =  0.5603E-04  [K,I,J]   48  238  251\n",
      " Outer Iter.  1  Inner Iter.  9:  Max. DC =  0.1919E-04  [K,I,J]   48  238  251\n",
      " Outer Iter.  1  Inner Iter. 10:  Max. DC =  0.5603E-05  [K,I,J]   48  238  251\n",
      " Transport Step:    7   Step Size:   23.38     Total Elapsed Time:   1200.0    \n",
      " Outer Iter.  1  Inner Iter.  1:  Max. DC =  0.4717E-01  [K,I,J]   50  255  227\n",
      " Outer Iter.  1  Inner Iter.  2:  Max. DC =  0.2003E-01  [K,I,J]   51  256  247\n",
      " Outer Iter.  1  Inner Iter.  3:  Max. DC =  0.2439E-02  [K,I,J]   46  225  164\n",
      " Outer Iter.  1  Inner Iter.  4:  Max. DC =  0.1029E-02  [K,I,J]   48  238  170\n",
      " Outer Iter.  1  Inner Iter.  5:  Max. DC =  0.6273E-03  [K,I,J]   48  238  170\n",
      " Outer Iter.  1  Inner Iter.  6:  Max. DC =  0.1948E-03  [K,I,J]   48  238  251\n",
      " Outer Iter.  1  Inner Iter.  7:  Max. DC =  0.6789E-04  [K,I,J]   48  238  251\n",
      " Outer Iter.  1  Inner Iter.  8:  Max. DC =  0.2927E-04  [K,I,J]   48  238  251\n",
      " Outer Iter.  1  Inner Iter.  9:  Max. DC =  0.9477E-05  [K,I,J]   48  238  251\n",
      " Transport Step:    8   Step Size:   52.71     Total Elapsed Time:   1252.7    \n",
      " Outer Iter.  1  Inner Iter.  1:  Max. DC =  0.6948E-01  [K,I,J]   50  255  227\n",
      " Outer Iter.  1  Inner Iter.  2:  Max. DC =  0.2354E-01  [K,I,J]   51  256  247\n",
      " Outer Iter.  1  Inner Iter.  3:  Max. DC =  0.1420E-01  [K,I,J]   47  231  195\n",
      " Outer Iter.  1  Inner Iter.  4:  Max. DC =  0.2858E-02  [K,I,J]   39  169  131\n",
      " Outer Iter.  1  Inner Iter.  5:  Max. DC =  0.1302E-02  [K,I,J]   48  238  170\n",
      " Outer Iter.  1  Inner Iter.  6:  Max. DC =  0.9167E-03  [K,I,J]   48  238  170\n",
      " Outer Iter.  1  Inner Iter.  7:  Max. DC =  0.4983E-03  [K,I,J]   48  238  170\n",
      " Outer Iter.  1  Inner Iter.  8:  Max. DC =  0.1928E-03  [K,I,J]   48  238  251\n",
      " Outer Iter.  1  Inner Iter.  9:  Max. DC =  0.9412E-04  [K,I,J]   48  238  251\n",
      " Outer Iter.  1  Inner Iter. 10:  Max. DC =  0.4536E-04  [K,I,J]   48  238  251\n",
      " Outer Iter.  1  Inner Iter. 11:  Max. DC =  0.2271E-04  [K,I,J]   48  238  251\n",
      " Outer Iter.  1  Inner Iter. 12:  Max. DC =  0.8643E-05  [K,I,J]   48  238  251\n",
      " Transport Step:    9   Step Size:   73.79     Total Elapsed Time:   1326.5    \n",
      " Outer Iter.  1  Inner Iter.  1:  Max. DC =  0.6292E-01  [K,I,J]   50  255  227\n",
      " Outer Iter.  1  Inner Iter.  2:  Max. DC =  0.1655E-01  [K,I,J]   51  256  247\n",
      " Outer Iter.  1  Inner Iter.  3:  Max. DC =  0.1587E-01  [K,I,J]   47  231  195\n",
      " Outer Iter.  1  Inner Iter.  4:  Max. DC =  0.5610E-02  [K,I,J]   47  231  195\n",
      " Outer Iter.  1  Inner Iter.  5:  Max. DC =  0.2005E-02  [K,I,J]   38  161  151\n",
      " Outer Iter.  1  Inner Iter.  6:  Max. DC =  0.9146E-03  [K,I,J]   48  238  170\n",
      " Outer Iter.  1  Inner Iter.  7:  Max. DC =  0.6153E-03  [K,I,J]   48  238  170\n",
      " Outer Iter.  1  Inner Iter.  8:  Max. DC =  0.3647E-03  [K,I,J]   48  238  170\n",
      " Outer Iter.  1  Inner Iter.  9:  Max. DC =  0.1658E-03  [K,I,J]   48  238  251\n",
      " Outer Iter.  1  Inner Iter. 10:  Max. DC =  0.8422E-04  [K,I,J]   48  238  251\n",
      " Outer Iter.  1  Inner Iter. 11:  Max. DC =  0.3934E-04  [K,I,J]   48  238  251\n",
      " Outer Iter.  1  Inner Iter. 12:  Max. DC =  0.2301E-04  [K,I,J]   48  238  251\n",
      " Outer Iter.  1  Inner Iter. 13:  Max. DC =  0.1055E-04  [K,I,J]   48  238  251\n",
      " Outer Iter.  1  Inner Iter. 14:  Max. DC =  0.4828E-05  [K,I,J]   48  238  251\n",
      " Transport Step:   10   Step Size:   73.50     Total Elapsed Time:   1400.0    \n",
      " Outer Iter.  1  Inner Iter.  1:  Max. DC =  0.4507E-01  [K,I,J]   50  255  227\n",
      " Outer Iter.  1  Inner Iter.  2:  Max. DC =  0.1116E-01  [K,I,J]   51  256  247\n",
      " Outer Iter.  1  Inner Iter.  3:  Max. DC =  0.1138E-01  [K,I,J]   47  231  195\n",
      " Outer Iter.  1  Inner Iter.  4:  Max. DC =  0.4639E-02  [K,I,J]   53  269  237\n",
      " Outer Iter.  1  Inner Iter.  5:  Max. DC =  0.1712E-02  [K,I,J]   38  161  151\n",
      " Outer Iter.  1  Inner Iter.  6:  Max. DC =  0.7504E-03  [K,I,J]   38  157  385\n",
      " Outer Iter.  1  Inner Iter.  7:  Max. DC =  0.4655E-03  [K,I,J]   48  238  251\n",
      " Outer Iter.  1  Inner Iter.  8:  Max. DC =  0.2847E-03  [K,I,J]   48  238  251\n",
      " Outer Iter.  1  Inner Iter.  9:  Max. DC =  0.1324E-03  [K,I,J]   48  238  251\n",
      " Outer Iter.  1  Inner Iter. 10:  Max. DC =  0.6807E-04  [K,I,J]   48  238  251\n",
      " Outer Iter.  1  Inner Iter. 11:  Max. DC =  0.3231E-04  [K,I,J]   48  238  251\n",
      " Outer Iter.  1  Inner Iter. 12:  Max. DC =  0.1901E-04  [K,I,J]   48  238  251\n",
      " Outer Iter.  1  Inner Iter. 13:  Max. DC =  0.8702E-05  [K,I,J]   48  238  251\n",
      " Transport Step:   11   Step Size:   60.00     Total Elapsed Time:   1460.0    \n",
      " Outer Iter.  1  Inner Iter.  1:  Max. DC =  0.3004E-01  [K,I,J]   41  193   63\n",
      " Outer Iter.  1  Inner Iter.  2:  Max. DC =  0.7867E-02  [K,I,J]   37  145  381\n",
      " Outer Iter.  1  Inner Iter.  3:  Max. DC =  0.7299E-02  [K,I,J]   53  269  237\n",
      " Outer Iter.  1  Inner Iter.  4:  Max. DC =  0.2606E-02  [K,I,J]   53  269  237\n",
      " Outer Iter.  1  Inner Iter.  5:  Max. DC =  0.1073E-02  [K,I,J]   38  161  151\n",
      " Outer Iter.  1  Inner Iter.  6:  Max. DC =  0.5025E-03  [K,I,J]   38  157  385\n",
      " Outer Iter.  1  Inner Iter.  7:  Max. DC =  0.2875E-03  [K,I,J]   48  238  251\n",
      " Outer Iter.  1  Inner Iter.  8:  Max. DC =  0.1503E-03  [K,I,J]   48  238  251\n",
      " Outer Iter.  1  Inner Iter.  9:  Max. DC =  0.7260E-04  [K,I,J]   48  238  251\n",
      " Outer Iter.  1  Inner Iter. 10:  Max. DC =  0.3636E-04  [K,I,J]   48  238  251\n",
      " Outer Iter.  1  Inner Iter. 11:  Max. DC =  0.1723E-04  [K,I,J]   48  238  251\n",
      " Outer Iter.  1  Inner Iter. 12:  Max. DC =  0.8464E-05  [K,I,J]   48  238  251\n",
      "\n",
      " STRESS PERIOD NO.    5\n",
      "\n",
      " TIME STEP NO.    1\n",
      " FROM TIME =   1460.0     TO    1825.0    \n",
      "\n",
      " Transport Step:    1   Step Size:   5.000     Total Elapsed Time:   1465.0    \n",
      " Outer Iter.  1  Inner Iter.  1:  Max. DC =  0.6409      [K,I,J]   47  236  309\n",
      " Outer Iter.  1  Inner Iter.  2:  Max. DC =  0.8231E-01  [K,I,J]   47  232  176\n",
      " Outer Iter.  1  Inner Iter.  3:  Max. DC =  0.9948E-02  [K,I,J]   37  155  168\n",
      " Outer Iter.  1  Inner Iter.  4:  Max. DC =  0.1135E-02  [K,I,J]   37  155  168\n",
      " Outer Iter.  1  Inner Iter.  5:  Max. DC =  0.8702E-04  [K,I,J]   37  155  168\n",
      " Outer Iter.  1  Inner Iter.  6:  Max. DC =  0.7629E-05  [K,I,J]   37  155  168\n",
      " Transport Step:    2   Step Size:   7.000     Total Elapsed Time:   1472.0    \n",
      " Outer Iter.  1  Inner Iter.  1:  Max. DC =  0.2281      [K,I,J]   36  155  192\n",
      " Outer Iter.  1  Inner Iter.  2:  Max. DC =  0.1671E-01  [K,I,J]   37  155  168\n",
      " Outer Iter.  1  Inner Iter.  3:  Max. DC =  0.2093E-02  [K,I,J]   37  155  168\n",
      " Outer Iter.  1  Inner Iter.  4:  Max. DC =  0.1932E-03  [K,I,J]   37  155  168\n",
      " Outer Iter.  1  Inner Iter.  5:  Max. DC =  0.8404E-05  [K,I,J]   48  233   45\n",
      " Transport Step:    3   Step Size:   9.800     Total Elapsed Time:   1481.8    \n",
      " Outer Iter.  1  Inner Iter.  1:  Max. DC =  0.9872E-01  [K,I,J]   44  219  212\n",
      " Outer Iter.  1  Inner Iter.  2:  Max. DC =  0.1380E-01  [K,I,J]   37  156  205\n",
      " Outer Iter.  1  Inner Iter.  3:  Max. DC =  0.1521E-02  [K,I,J]   37  155  168\n",
      " Outer Iter.  1  Inner Iter.  4:  Max. DC =  0.1972E-03  [K,I,J]   36  135  208\n",
      " Outer Iter.  1  Inner Iter.  5:  Max. DC =  0.4876E-04  [K,I,J]   38  155  168\n",
      " Outer Iter.  1  Inner Iter.  6:  Max. DC =  0.1103E-04  [K,I,J]   37  155  168\n",
      " Outer Iter.  1  Inner Iter.  7:  Max. DC =  0.1311E-05  [K,I,J]   48  236  309\n",
      " Transport Step:    4   Step Size:   13.72     Total Elapsed Time:   1495.5    \n",
      " Outer Iter.  1  Inner Iter.  1:  Max. DC =  0.9408E-01  [K,I,J]   44  219  212\n",
      " Outer Iter.  1  Inner Iter.  2:  Max. DC =  0.2244E-01  [K,I,J]   37  155  168\n",
      " Outer Iter.  1  Inner Iter.  3:  Max. DC =  0.2705E-02  [K,I,J]   37  155  168\n",
      " Outer Iter.  1  Inner Iter.  4:  Max. DC =  0.8706E-03  [K,I,J]   37  155  168\n",
      " Outer Iter.  1  Inner Iter.  5:  Max. DC =  0.1404E-03  [K,I,J]   60  308   16\n",
      " Outer Iter.  1  Inner Iter.  6:  Max. DC =  0.5805E-04  [K,I,J]   37  155  168\n",
      " Outer Iter.  1  Inner Iter.  7:  Max. DC =  0.1335E-04  [K,I,J]   37  155  168\n",
      " Outer Iter.  1  Inner Iter.  8:  Max. DC =  0.1550E-05  [K,I,J]   18   27   52\n",
      " Transport Step:    5   Step Size:   19.21     Total Elapsed Time:   1514.7    \n",
      " Outer Iter.  1  Inner Iter.  1:  Max. DC =  0.8312E-01  [K,I,J]   48  244  252\n",
      " Outer Iter.  1  Inner Iter.  2:  Max. DC =  0.2932E-01  [K,I,J]   37  155  168\n",
      " Outer Iter.  1  Inner Iter.  3:  Max. DC =  0.2951E-02  [K,I,J]   60  308   16\n",
      " Outer Iter.  1  Inner Iter.  4:  Max. DC =  0.1870E-02  [K,I,J]   37  155  168\n",
      " Outer Iter.  1  Inner Iter.  5:  Max. DC =  0.4246E-03  [K,I,J]   37  155  168\n",
      " Outer Iter.  1  Inner Iter.  6:  Max. DC =  0.7969E-04  [K,I,J]   45  217   49\n",
      " Outer Iter.  1  Inner Iter.  7:  Max. DC =  0.5156E-04  [K,I,J]   37  155  168\n",
      " Outer Iter.  1  Inner Iter.  8:  Max. DC =  0.1270E-04  [K,I,J]   37  155  168\n",
      " Outer Iter.  1  Inner Iter.  9:  Max. DC =  0.1967E-05  [K,I,J]   60  308   16\n",
      " Transport Step:    6   Step Size:   26.89     Total Elapsed Time:   1541.6    \n",
      " Outer Iter.  1  Inner Iter.  1:  Max. DC =  0.7635E-01  [K,I,J]   44  218  233\n",
      " Outer Iter.  1  Inner Iter.  2:  Max. DC =  0.3074E-01  [K,I,J]   37  155  168\n",
      " Outer Iter.  1  Inner Iter.  3:  Max. DC =  0.6164E-02  [K,I,J]   60  308   16\n",
      " Outer Iter.  1  Inner Iter.  4:  Max. DC =  0.1802E-02  [K,I,J]   37  155  168\n",
      " Outer Iter.  1  Inner Iter.  5:  Max. DC =  0.1189E-02  [K,I,J]   37  155  168\n",
      " Outer Iter.  1  Inner Iter.  6:  Max. DC =  0.2217E-03  [K,I,J]   37  155  192\n",
      " Outer Iter.  1  Inner Iter.  7:  Max. DC =  0.5800E-04  [K,I,J]   45  217   49\n",
      " Outer Iter.  1  Inner Iter.  8:  Max. DC =  0.4083E-04  [K,I,J]   37  155  168\n",
      " Outer Iter.  1  Inner Iter.  9:  Max. DC =  0.1377E-04  [K,I,J]   37  155  168\n",
      " Outer Iter.  1  Inner Iter. 10:  Max. DC =  0.2563E-05  [K,I,J]   60  308   16\n",
      " Transport Step:    7   Step Size:   37.65     Total Elapsed Time:   1579.3    \n",
      " Outer Iter.  1  Inner Iter.  1:  Max. DC =  0.7446E-01  [K,I,J]   59  308   16\n",
      " Outer Iter.  1  Inner Iter.  2:  Max. DC =  0.2574E-01  [K,I,J]   37  155  168\n",
      " Outer Iter.  1  Inner Iter.  3:  Max. DC =  0.9332E-02  [K,I,J]   60  308   16\n",
      " Outer Iter.  1  Inner Iter.  4:  Max. DC =  0.2016E-02  [K,I,J]   60  308   16\n",
      " Outer Iter.  1  Inner Iter.  5:  Max. DC =  0.1368E-02  [K,I,J]   37  155  168\n",
      " Outer Iter.  1  Inner Iter.  6:  Max. DC =  0.6772E-03  [K,I,J]   37  155  168\n",
      " Outer Iter.  1  Inner Iter.  7:  Max. DC =  0.1634E-03  [K,I,J]   60  308   16\n",
      " Outer Iter.  1  Inner Iter.  8:  Max. DC =  0.6264E-04  [K,I,J]   60  308   16\n",
      " Outer Iter.  1  Inner Iter.  9:  Max. DC =  0.2813E-04  [K,I,J]   37  155  168\n",
      " Outer Iter.  1  Inner Iter. 10:  Max. DC =  0.1472E-04  [K,I,J]   37  155  168\n",
      " Outer Iter.  1  Inner Iter. 11:  Max. DC =  0.3099E-05  [K,I,J]   37  155  168\n",
      " Transport Step:    8   Step Size:   52.71     Total Elapsed Time:   1632.0    \n",
      " Outer Iter.  1  Inner Iter.  1:  Max. DC =  0.7351E-01  [K,I,J]   59  308   16\n",
      " Outer Iter.  1  Inner Iter.  2:  Max. DC =  0.1756E-01  [K,I,J]   37  155  168\n",
      " Outer Iter.  1  Inner Iter.  3:  Max. DC =  0.1317E-01  [K,I,J]   47  232  176\n",
      " Outer Iter.  1  Inner Iter.  4:  Max. DC =  0.2612E-02  [K,I,J]   48  239  222\n",
      " Outer Iter.  1  Inner Iter.  5:  Max. DC =  0.9547E-03  [K,I,J]   45  217   49\n",
      " Outer Iter.  1  Inner Iter.  6:  Max. DC =  0.8221E-03  [K,I,J]   37  155  168\n",
      " Outer Iter.  1  Inner Iter.  7:  Max. DC =  0.4190E-03  [K,I,J]   37  155  168\n",
      " Outer Iter.  1  Inner Iter.  8:  Max. DC =  0.1169E-03  [K,I,J]   37  155  168\n",
      " Outer Iter.  1  Inner Iter.  9:  Max. DC =  0.4470E-04  [K,I,J]   45  217   49\n",
      " Outer Iter.  1  Inner Iter. 10:  Max. DC =  0.2202E-04  [K,I,J]   60  308   16\n",
      " Outer Iter.  1  Inner Iter. 11:  Max. DC =  0.1246E-04  [K,I,J]   60  308   16\n",
      " Outer Iter.  1  Inner Iter. 12:  Max. DC =  0.4172E-05  [K,I,J]   37  155  168\n",
      " Transport Step:    9   Step Size:   73.79     Total Elapsed Time:   1705.8    \n",
      " Outer Iter.  1  Inner Iter.  1:  Max. DC =  0.7050E-01  [K,I,J]   59  308   16\n",
      " Outer Iter.  1  Inner Iter.  2:  Max. DC =  0.1344E-01  [K,I,J]   60  308   16\n",
      " Outer Iter.  1  Inner Iter.  3:  Max. DC =  0.1349E-01  [K,I,J]   47  232  176\n",
      " Outer Iter.  1  Inner Iter.  4:  Max. DC =  0.5308E-02  [K,I,J]   47  232  176\n",
      " Outer Iter.  1  Inner Iter.  5:  Max. DC =  0.1438E-02  [K,I,J]   60  308   16\n",
      " Outer Iter.  1  Inner Iter.  6:  Max. DC =  0.9210E-03  [K,I,J]   60  308   16\n",
      " Outer Iter.  1  Inner Iter.  7:  Max. DC =  0.5022E-03  [K,I,J]   37  155  168\n",
      " Outer Iter.  1  Inner Iter.  8:  Max. DC =  0.2993E-03  [K,I,J]   37  155  168\n",
      " Outer Iter.  1  Inner Iter.  9:  Max. DC =  0.1070E-03  [K,I,J]   60  308   16\n",
      " Outer Iter.  1  Inner Iter. 10:  Max. DC =  0.4953E-04  [K,I,J]   60  308   16\n",
      " Outer Iter.  1  Inner Iter. 11:  Max. DC =  0.1973E-04  [K,I,J]   45  217   49\n",
      " Outer Iter.  1  Inner Iter. 12:  Max. DC =  0.1180E-04  [K,I,J]   45  217   49\n",
      " Outer Iter.  1  Inner Iter. 13:  Max. DC =  0.6616E-05  [K,I,J]   60  308   16\n",
      " Transport Step:   10   Step Size:   103.3     Total Elapsed Time:   1809.1    \n",
      " Outer Iter.  1  Inner Iter.  1:  Max. DC =  0.6544E-01  [K,I,J]   59  308   16\n",
      " Outer Iter.  1  Inner Iter.  2:  Max. DC =  0.1372E-01  [K,I,J]   60  308   16\n"
     ]
    },
    {
     "ename": "KeyboardInterrupt",
     "evalue": "",
     "output_type": "error",
     "traceback": [
      "\u001b[1;31m---------------------------------------------------------------------------\u001b[0m",
      "\u001b[1;31mKeyboardInterrupt\u001b[0m                         Traceback (most recent call last)",
      "\u001b[1;32mc:\\Users\\swan47\\Documents\\GitHub\\wasaga_model\\wasaga_3d\\v2_run_wasaga_3d.ipynb Cell 102\u001b[0m line \u001b[0;36m2\n\u001b[0;32m      <a href='vscode-notebook-cell:/c%3A/Users/swan47/Documents/GitHub/wasaga_model/wasaga_3d/v2_run_wasaga_3d.ipynb#Y220sZmlsZQ%3D%3D?line=0'>1</a>\u001b[0m \u001b[39m# Run the MODFLOW model\u001b[39;00m\n\u001b[1;32m----> <a href='vscode-notebook-cell:/c%3A/Users/swan47/Documents/GitHub/wasaga_model/wasaga_3d/v2_run_wasaga_3d.ipynb#Y220sZmlsZQ%3D%3D?line=1'>2</a>\u001b[0m mt\u001b[39m.\u001b[39mrun_model()\n",
      "File \u001b[1;32mc:\\Users\\swan47\\Miniconda3\\envs\\pht3d\\Lib\\site-packages\\flopy\\mbase.py:1373\u001b[0m, in \u001b[0;36mBaseModel.run_model\u001b[1;34m(self, silent, pause, report, normal_msg)\u001b[0m\n\u001b[0;32m   1342\u001b[0m \u001b[39mdef\u001b[39;00m \u001b[39mrun_model\u001b[39m(\n\u001b[0;32m   1343\u001b[0m     \u001b[39mself\u001b[39m,\n\u001b[0;32m   1344\u001b[0m     silent\u001b[39m=\u001b[39m\u001b[39mFalse\u001b[39;00m,\n\u001b[1;32m   (...)\u001b[0m\n\u001b[0;32m   1347\u001b[0m     normal_msg\u001b[39m=\u001b[39m\u001b[39m\"\u001b[39m\u001b[39mnormal termination\u001b[39m\u001b[39m\"\u001b[39m,\n\u001b[0;32m   1348\u001b[0m ):\n\u001b[0;32m   1349\u001b[0m \u001b[39m    \u001b[39m\u001b[39m\"\"\"\u001b[39;00m\n\u001b[0;32m   1350\u001b[0m \u001b[39m    This method will run the model using subprocess.Popen.\u001b[39;00m\n\u001b[0;32m   1351\u001b[0m \n\u001b[1;32m   (...)\u001b[0m\n\u001b[0;32m   1370\u001b[0m \n\u001b[0;32m   1371\u001b[0m \u001b[39m    \"\"\"\u001b[39;00m\n\u001b[1;32m-> 1373\u001b[0m     \u001b[39mreturn\u001b[39;00m run_model(\n\u001b[0;32m   1374\u001b[0m         \u001b[39mself\u001b[39m\u001b[39m.\u001b[39mexe_name,\n\u001b[0;32m   1375\u001b[0m         \u001b[39mself\u001b[39m\u001b[39m.\u001b[39mnamefile,\n\u001b[0;32m   1376\u001b[0m         model_ws\u001b[39m=\u001b[39m\u001b[39mself\u001b[39m\u001b[39m.\u001b[39mmodel_ws,\n\u001b[0;32m   1377\u001b[0m         silent\u001b[39m=\u001b[39msilent,\n\u001b[0;32m   1378\u001b[0m         pause\u001b[39m=\u001b[39mpause,\n\u001b[0;32m   1379\u001b[0m         report\u001b[39m=\u001b[39mreport,\n\u001b[0;32m   1380\u001b[0m         normal_msg\u001b[39m=\u001b[39mnormal_msg,\n\u001b[0;32m   1381\u001b[0m     )\n",
      "File \u001b[1;32mc:\\Users\\swan47\\Miniconda3\\envs\\pht3d\\Lib\\site-packages\\flopy\\mbase.py:1747\u001b[0m, in \u001b[0;36mrun_model\u001b[1;34m(exe_name, namefile, model_ws, silent, pause, report, normal_msg, use_async, cargs)\u001b[0m\n\u001b[0;32m   1745\u001b[0m \u001b[39mif\u001b[39;00m \u001b[39mnot\u001b[39;00m use_async:\n\u001b[0;32m   1746\u001b[0m     \u001b[39mwhile\u001b[39;00m \u001b[39mTrue\u001b[39;00m:\n\u001b[1;32m-> 1747\u001b[0m         line \u001b[39m=\u001b[39m proc\u001b[39m.\u001b[39mstdout\u001b[39m.\u001b[39mreadline()\u001b[39m.\u001b[39mdecode(\u001b[39m\"\u001b[39m\u001b[39mutf-8\u001b[39m\u001b[39m\"\u001b[39m)\n\u001b[0;32m   1748\u001b[0m         \u001b[39mif\u001b[39;00m line \u001b[39m==\u001b[39m \u001b[39m\"\u001b[39m\u001b[39m\"\u001b[39m \u001b[39mand\u001b[39;00m proc\u001b[39m.\u001b[39mpoll() \u001b[39mis\u001b[39;00m \u001b[39mnot\u001b[39;00m \u001b[39mNone\u001b[39;00m:\n\u001b[0;32m   1749\u001b[0m             \u001b[39mbreak\u001b[39;00m\n",
      "\u001b[1;31mKeyboardInterrupt\u001b[0m: "
     ]
    }
   ],
   "source": [
    "# Run the MODFLOW model\n",
    "mt.run_model()"
   ]
  },
  {
   "cell_type": "code",
   "execution_count": null,
   "metadata": {},
   "outputs": [],
   "source": []
  },
  {
   "cell_type": "code",
   "execution_count": null,
   "metadata": {},
   "outputs": [
    {
     "data": {
      "text/plain": [
       "'C:\\\\Users\\\\swan47\\\\AppData\\\\Local\\\\Temp\\\\_T0109005814_wasaga_8t3rbwo4'"
      ]
     },
     "execution_count": 267,
     "metadata": {},
     "output_type": "execute_result"
    }
   ],
   "source": [
    "model_ws"
   ]
  },
  {
   "cell_type": "code",
   "execution_count": null,
   "metadata": {},
   "outputs": [],
   "source": []
  },
  {
   "cell_type": "code",
   "execution_count": null,
   "metadata": {},
   "outputs": [],
   "source": []
  },
  {
   "cell_type": "code",
   "execution_count": null,
   "metadata": {},
   "outputs": [],
   "source": []
  },
  {
   "cell_type": "code",
   "execution_count": null,
   "metadata": {},
   "outputs": [],
   "source": []
  },
  {
   "cell_type": "code",
   "execution_count": null,
   "metadata": {},
   "outputs": [],
   "source": []
  }
 ],
 "metadata": {
  "kernelspec": {
   "display_name": "Python 3",
   "language": "python",
   "name": "python3"
  },
  "language_info": {
   "codemirror_mode": {
    "name": "ipython",
    "version": 3
   },
   "file_extension": ".py",
   "mimetype": "text/x-python",
   "name": "python",
   "nbconvert_exporter": "python",
   "pygments_lexer": "ipython3",
   "version": "3.11.3"
  }
 },
 "nbformat": 4,
 "nbformat_minor": 4
}
