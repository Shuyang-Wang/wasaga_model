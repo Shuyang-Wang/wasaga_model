{
 "cells": [
  {
   "cell_type": "code",
   "execution_count": null,
   "metadata": {},
   "outputs": [],
   "source": []
  },
  {
   "cell_type": "code",
   "execution_count": 3,
   "metadata": {},
   "outputs": [
    {
     "name": "stdout",
     "output_type": "stream",
     "text": [
      "Data has been written to Septics_coordinates.csv\n"
     ]
    }
   ],
   "source": [
    "import pandas as pd\n",
    "import zipfile\n",
    "import os\n",
    "from pykml import parser\n",
    "from io import BytesIO\n",
    "import xmltodict\n",
    "\n",
    "def extract_coordinates(kml_folder):\n",
    "    data = []\n",
    "    for pm in kml_folder.findall('.//{http://www.opengis.net/kml/2.2}Placemark'):\n",
    "        coords = pm.Point.coordinates.text.strip().split(',')\n",
    "        name = pm.name.text.strip() if hasattr(pm, 'name') else \"No Name\"\n",
    "        data.append({\n",
    "            'Name': name,\n",
    "            'Longitude': coords[0],\n",
    "            'Latitude': coords[1],\n",
    "            'Year': kml_folder.name.text.strip()\n",
    "        })\n",
    "    return data\n",
    "\n",
    "def kmz_to_csv(kmz_filepath, csv_filepath):\n",
    "    # Unzip KMZ to get to the KML file\n",
    "    with zipfile.ZipFile(kmz_filepath, 'r') as zip_ref:\n",
    "        kml_filename = [name for name in zip_ref.namelist() if name.endswith('.kml')][0]\n",
    "        kml_data = zip_ref.read(kml_filename)\n",
    "\n",
    "    # Parse KML file\n",
    "    root = parser.fromstring(kml_data)\n",
    "\n",
    "    # Extract Placemarks and respective data into a list\n",
    "    all_data = []\n",
    "    for folder in root.Document.Folder.findall('.//{http://www.opengis.net/kml/2.2}Folder'):\n",
    "        all_data.extend(extract_coordinates(folder))\n",
    "\n",
    "    # Convert list to a Pandas DataFrame\n",
    "    df = pd.DataFrame(all_data)\n",
    "\n",
    "    # Save DataFrame to CSV\n",
    "    df.to_csv(csv_filepath, index=False)\n",
    "    print(f\"Data has been written to {csv_filepath}\")\n",
    "\n",
    "\n"
   ]
  },
  {
   "cell_type": "code",
   "execution_count": 4,
   "metadata": {},
   "outputs": [
    {
     "name": "stdout",
     "output_type": "stream",
     "text": [
      "Data has been written to Septics_coordinates.csv\n"
     ]
    }
   ],
   "source": [
    "# Replace with your actual file paths\n",
    "kmz_to_csv(\"Septics.kmz\", \"Septics_coordinates.csv\")"
   ]
  },
  {
   "cell_type": "code",
   "execution_count": null,
   "metadata": {},
   "outputs": [],
   "source": []
  },
  {
   "cell_type": "code",
   "execution_count": null,
   "metadata": {},
   "outputs": [],
   "source": []
  },
  {
   "cell_type": "code",
   "execution_count": 5,
   "metadata": {},
   "outputs": [],
   "source": [
    "def extract_coordinates(kml_folder):\n",
    "    data = []\n",
    "    for pm in kml_folder.findall('.//{http://www.opengis.net/kml/2.2}Placemark'):\n",
    "        if hasattr(pm.Point, 'coordinates'):\n",
    "            coords = pm.Point.coordinates.text.strip().split(',')\n",
    "            # Convert from string to float and then to UTM\n",
    "            longitude, latitude = float(coords[0]), float(coords[1])\n",
    "            utm_coords = utm.from_latlon(latitude, longitude, force_zone_number=17)\n",
    "            name = pm.name.text.strip() if hasattr(pm, 'name') else \"No Name\"\n",
    "            data.append({\n",
    "                'Name': name,\n",
    "                'UTM Easting': utm_coords[0],\n",
    "                'UTM Northing': utm_coords[1],\n",
    "                'Year': kml_folder.name.text.strip()\n",
    "            })\n",
    "    return data\n"
   ]
  },
  {
   "cell_type": "code",
   "execution_count": 6,
   "metadata": {},
   "outputs": [],
   "source": [
    "def extract_coordinates(kml_folder):\n",
    "    data = []\n",
    "    for pm in kml_folder.findall('.//{http://www.opengis.net/kml/2.2}Placemark'):\n",
    "        if hasattr(pm.Point, 'coordinates'):\n",
    "            coords = pm.Point.coordinates.text.strip().split(',')\n",
    "            # Convert from string to float and then to UTM\n",
    "            longitude, latitude = float(coords[0]), float(coords[1])\n",
    "            utm_coords = utm.from_latlon(latitude, longitude, force_zone_number=17)\n",
    "            name = pm.name.text.strip() if hasattr(pm, 'name') else \"No Name\"\n",
    "            data.append({\n",
    "                'Name': name,\n",
    "                'UTM Easting': utm_coords[0],\n",
    "                'UTM Northing': utm_coords[1],\n",
    "                'Year': kml_folder.name.text.strip()\n",
    "            })\n",
    "    return data\n"
   ]
  },
  {
   "cell_type": "code",
   "execution_count": 7,
   "metadata": {},
   "outputs": [
    {
     "name": "stdout",
     "output_type": "stream",
     "text": [
      "Data has been written to Septics_coordinates.csv\n"
     ]
    }
   ],
   "source": [
    "import pandas as pd\n",
    "import zipfile\n",
    "from pykml import parser\n",
    "import utm\n",
    "\n",
    "def extract_coordinates(kml_folder):\n",
    "    data = []\n",
    "    for pm in kml_folder.findall('.//{http://www.opengis.net/kml/2.2}Placemark'):\n",
    "        if hasattr(pm.Point, 'coordinates'):\n",
    "            coords = pm.Point.coordinates.text.strip().split(',')\n",
    "            # Convert from string to float and then to UTM\n",
    "            longitude, latitude = float(coords[0]), float(coords[1])\n",
    "            utm_coords = utm.from_latlon(latitude, longitude, force_zone_number=17)\n",
    "            name = pm.name.text.strip() if hasattr(pm, 'name') else \"No Name\"\n",
    "            data.append({\n",
    "                'Name': name,\n",
    "                'UTM Easting': utm_coords[0],\n",
    "                'UTM Northing': utm_coords[1],\n",
    "                'Year': kml_folder.name.text.strip()\n",
    "            })\n",
    "    return data\n",
    "\n",
    "def kmz_to_csv(kmz_filepath, csv_filepath):\n",
    "    # Unzip KMZ to get to the KML file\n",
    "    with zipfile.ZipFile(kmz_filepath, 'r') as zip_ref:\n",
    "        kml_filename = [name for name in zip_ref.namelist() if name.endswith('.kml')][0]\n",
    "        kml_data = zip_ref.read(kml_filename)\n",
    "\n",
    "    # Parse KML file\n",
    "    root = parser.fromstring(kml_data)\n",
    "\n",
    "    # Extract Placemarks and respective data into a list\n",
    "    all_data = []\n",
    "    for folder in root.Document.Folder.findall('.//{http://www.opengis.net/kml/2.2}Folder'):\n",
    "        all_data.extend(extract_coordinates(folder))\n",
    "\n",
    "    # Convert list to a Pandas DataFrame\n",
    "    df = pd.DataFrame(all_data)\n",
    "\n",
    "    # Save DataFrame to CSV\n",
    "    df.to_csv(csv_filepath, index=False)\n",
    "    print(f\"Data has been written to {csv_filepath}\")\n",
    "\n",
    "# Replace with your actual file paths\n",
    "kmz_to_csv(\"Septics.kmz\", \"Septics_coordinates.csv\")\n"
   ]
  },
  {
   "cell_type": "code",
   "execution_count": null,
   "metadata": {},
   "outputs": [],
   "source": []
  },
  {
   "cell_type": "code",
   "execution_count": null,
   "metadata": {},
   "outputs": [],
   "source": []
  },
  {
   "cell_type": "markdown",
   "metadata": {},
   "source": [
    "# Polygons"
   ]
  },
  {
   "cell_type": "markdown",
   "metadata": {},
   "source": [
    "from pykml import parser\n",
    "from lxml import etree\n",
    "import pandas as pd\n"
   ]
  },
  {
   "cell_type": "code",
   "execution_count": 5,
   "metadata": {},
   "outputs": [],
   "source": [
    "from pykml import parser\n",
    "from lxml import etree\n",
    "from shapely.geometry import Polygon\n"
   ]
  },
  {
   "cell_type": "code",
   "execution_count": 6,
   "metadata": {},
   "outputs": [],
   "source": [
    "def extract_shapely_polygons(kml_file):\n",
    "    # Open and parse the KML file\n",
    "    with open(kml_file, 'r') as f:\n",
    "        doc = parser.parse(f).getroot()\n",
    "\n",
    "    # Dictionary to store year range and corresponding Shapely polygons\n",
    "    polygons = {}\n",
    "\n",
    "    # Iterate through folders (year ranges)\n",
    "    for folder in doc.Document.Folder.Folder:\n",
    "        year_range = folder.name.text\n",
    "        polygons[year_range] = []\n",
    "\n",
    "        # Iterate through Placemarks (polygons)\n",
    "        for placemark in folder.Placemark:\n",
    "            if hasattr(placemark, 'Polygon'):\n",
    "                # Extract coordinates\n",
    "                coords = placemark.Polygon.outerBoundaryIs.LinearRing.coordinates.text\n",
    "                coord_list = [(float(c.split(',')[0]), float(c.split(',')[1])) for c in coords.strip().split(' ')]\n",
    "\n",
    "                # Create Shapely Polygon and append to list\n",
    "                polygon = Polygon(coord_list)\n",
    "                polygons[year_range].append(polygon)\n",
    "\n",
    "    return polygons\n"
   ]
  },
  {
   "cell_type": "code",
   "execution_count": 7,
   "metadata": {},
   "outputs": [
    {
     "name": "stdout",
     "output_type": "stream",
     "text": [
      "POLYGON ((-80.08456895877413 44.46796204757844, -80.08363511311572 44.46814492562817, -80.08388947344989 44.46912844500715, -80.08438170831138 44.46903298594422, -80.08473196888549 44.4687671801755, -80.08456895877413 44.46796204757844))\n",
      "POLYGON ((-80.07488730494181 44.46451841025498, -80.07328336466371 44.46530199545857, -80.07368590972227 44.46668532873691, -80.07543892305605 44.4664361702341, -80.07512234122404 44.46541067371765, -80.07488730494181 44.46451841025498))\n"
     ]
    }
   ],
   "source": [
    "kml_file = 'Sanitary_Polygons.kml'  # Replace with your file path\n",
    "polygon_shapes = extract_shapely_polygons(kml_file)\n",
    "\n",
    "# Example: Print the polygons for a specific year range\n",
    "year_range = '2011-2015'  # Replace with the actual year range in your KML file\n",
    "for poly in polygon_shapes.get(year_range, []):\n",
    "    print(poly)\n"
   ]
  },
  {
   "cell_type": "code",
   "execution_count": 9,
   "metadata": {},
   "outputs": [
    {
     "data": {
      "text/plain": [
       "dict_keys(['2006-2010', '2001-2005', '1996-2000', '2011-2015'])"
      ]
     },
     "execution_count": 9,
     "metadata": {},
     "output_type": "execute_result"
    }
   ],
   "source": [
    "polygon_shapes.keys()"
   ]
  }
 ],
 "metadata": {
  "kernelspec": {
   "display_name": "pht3d",
   "language": "python",
   "name": "python3"
  },
  "language_info": {
   "codemirror_mode": {
    "name": "ipython",
    "version": 3
   },
   "file_extension": ".py",
   "mimetype": "text/x-python",
   "name": "python",
   "nbconvert_exporter": "python",
   "pygments_lexer": "ipython3",
   "version": "3.11.5"
  }
 },
 "nbformat": 4,
 "nbformat_minor": 2
}
