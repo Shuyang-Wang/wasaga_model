{
 "cells": [
  {
   "cell_type": "code",
   "execution_count": null,
   "metadata": {},
   "outputs": [],
   "source": []
  },
  {
   "cell_type": "code",
   "execution_count": 3,
   "metadata": {},
   "outputs": [
    {
     "name": "stdout",
     "output_type": "stream",
     "text": [
      "Data has been written to Septics_coordinates.csv\n"
     ]
    }
   ],
   "source": [
    "import pandas as pd\n",
    "import zipfile\n",
    "import os\n",
    "from pykml import parser\n",
    "from io import BytesIO\n",
    "import xmltodict\n",
    "\n",
    "def extract_coordinates(kml_folder):\n",
    "    data = []\n",
    "    for pm in kml_folder.findall('.//{http://www.opengis.net/kml/2.2}Placemark'):\n",
    "        coords = pm.Point.coordinates.text.strip().split(',')\n",
    "        name = pm.name.text.strip() if hasattr(pm, 'name') else \"No Name\"\n",
    "        data.append({\n",
    "            'Name': name,\n",
    "            'Longitude': coords[0],\n",
    "            'Latitude': coords[1],\n",
    "            'Year': kml_folder.name.text.strip()\n",
    "        })\n",
    "    return data\n",
    "\n",
    "def kmz_to_csv(kmz_filepath, csv_filepath):\n",
    "    # Unzip KMZ to get to the KML file\n",
    "    with zipfile.ZipFile(kmz_filepath, 'r') as zip_ref:\n",
    "        kml_filename = [name for name in zip_ref.namelist() if name.endswith('.kml')][0]\n",
    "        kml_data = zip_ref.read(kml_filename)\n",
    "\n",
    "    # Parse KML file\n",
    "    root = parser.fromstring(kml_data)\n",
    "\n",
    "    # Extract Placemarks and respective data into a list\n",
    "    all_data = []\n",
    "    for folder in root.Document.Folder.findall('.//{http://www.opengis.net/kml/2.2}Folder'):\n",
    "        all_data.extend(extract_coordinates(folder))\n",
    "\n",
    "    # Convert list to a Pandas DataFrame\n",
    "    df = pd.DataFrame(all_data)\n",
    "\n",
    "    # Save DataFrame to CSV\n",
    "    df.to_csv(csv_filepath, index=False)\n",
    "    print(f\"Data has been written to {csv_filepath}\")\n",
    "\n",
    "\n"
   ]
  },
  {
   "cell_type": "code",
   "execution_count": 4,
   "metadata": {},
   "outputs": [
    {
     "name": "stdout",
     "output_type": "stream",
     "text": [
      "Data has been written to Septics_coordinates.csv\n"
     ]
    }
   ],
   "source": [
    "# Replace with your actual file paths\n",
    "kmz_to_csv(\"Septics.kmz\", \"Septics_coordinates.csv\")"
   ]
  },
  {
   "cell_type": "code",
   "execution_count": null,
   "metadata": {},
   "outputs": [],
   "source": []
  },
  {
   "cell_type": "code",
   "execution_count": null,
   "metadata": {},
   "outputs": [],
   "source": []
  },
  {
   "cell_type": "code",
   "execution_count": null,
   "metadata": {},
   "outputs": [],
   "source": [
    "import utm\n"
   ]
  },
  {
   "cell_type": "code",
   "execution_count": 5,
   "metadata": {},
   "outputs": [],
   "source": [
    "def extract_coordinates(kml_folder):\n",
    "    data = []\n",
    "    for pm in kml_folder.findall('.//{http://www.opengis.net/kml/2.2}Placemark'):\n",
    "        if hasattr(pm.Point, 'coordinates'):\n",
    "            coords = pm.Point.coordinates.text.strip().split(',')\n",
    "            # Convert from string to float and then to UTM\n",
    "            longitude, latitude = float(coords[0]), float(coords[1])\n",
    "            utm_coords = utm.from_latlon(latitude, longitude, force_zone_number=17)\n",
    "            name = pm.name.text.strip() if hasattr(pm, 'name') else \"No Name\"\n",
    "            data.append({\n",
    "                'Name': name,\n",
    "                'UTM Easting': utm_coords[0],\n",
    "                'UTM Northing': utm_coords[1],\n",
    "                'Year': kml_folder.name.text.strip()\n",
    "            })\n",
    "    return data\n"
   ]
  },
  {
   "cell_type": "code",
   "execution_count": 6,
   "metadata": {},
   "outputs": [],
   "source": [
    "def extract_coordinates(kml_folder):\n",
    "    data = []\n",
    "    for pm in kml_folder.findall('.//{http://www.opengis.net/kml/2.2}Placemark'):\n",
    "        if hasattr(pm.Point, 'coordinates'):\n",
    "            coords = pm.Point.coordinates.text.strip().split(',')\n",
    "            # Convert from string to float and then to UTM\n",
    "            longitude, latitude = float(coords[0]), float(coords[1])\n",
    "            utm_coords = utm.from_latlon(latitude, longitude, force_zone_number=17)\n",
    "            name = pm.name.text.strip() if hasattr(pm, 'name') else \"No Name\"\n",
    "            data.append({\n",
    "                'Name': name,\n",
    "                'UTM Easting': utm_coords[0],\n",
    "                'UTM Northing': utm_coords[1],\n",
    "                'Year': kml_folder.name.text.strip()\n",
    "            })\n",
    "    return data\n"
   ]
  },
  {
   "cell_type": "code",
   "execution_count": 7,
   "metadata": {},
   "outputs": [
    {
     "name": "stdout",
     "output_type": "stream",
     "text": [
      "Data has been written to Septics_coordinates.csv\n"
     ]
    }
   ],
   "source": [
    "import pandas as pd\n",
    "import zipfile\n",
    "from pykml import parser\n",
    "import utm\n",
    "\n",
    "def extract_coordinates(kml_folder):\n",
    "    data = []\n",
    "    for pm in kml_folder.findall('.//{http://www.opengis.net/kml/2.2}Placemark'):\n",
    "        if hasattr(pm.Point, 'coordinates'):\n",
    "            coords = pm.Point.coordinates.text.strip().split(',')\n",
    "            # Convert from string to float and then to UTM\n",
    "            longitude, latitude = float(coords[0]), float(coords[1])\n",
    "            utm_coords = utm.from_latlon(latitude, longitude, force_zone_number=17)\n",
    "            name = pm.name.text.strip() if hasattr(pm, 'name') else \"No Name\"\n",
    "            data.append({\n",
    "                'Name': name,\n",
    "                'UTM Easting': utm_coords[0],\n",
    "                'UTM Northing': utm_coords[1],\n",
    "                'Year': kml_folder.name.text.strip()\n",
    "            })\n",
    "    return data\n",
    "\n",
    "def kmz_to_csv(kmz_filepath, csv_filepath):\n",
    "    # Unzip KMZ to get to the KML file\n",
    "    with zipfile.ZipFile(kmz_filepath, 'r') as zip_ref:\n",
    "        kml_filename = [name for name in zip_ref.namelist() if name.endswith('.kml')][0]\n",
    "        kml_data = zip_ref.read(kml_filename)\n",
    "\n",
    "    # Parse KML file\n",
    "    root = parser.fromstring(kml_data)\n",
    "\n",
    "    # Extract Placemarks and respective data into a list\n",
    "    all_data = []\n",
    "    for folder in root.Document.Folder.findall('.//{http://www.opengis.net/kml/2.2}Folder'):\n",
    "        all_data.extend(extract_coordinates(folder))\n",
    "\n",
    "    # Convert list to a Pandas DataFrame\n",
    "    df = pd.DataFrame(all_data)\n",
    "\n",
    "    # Save DataFrame to CSV\n",
    "    df.to_csv(csv_filepath, index=False)\n",
    "    print(f\"Data has been written to {csv_filepath}\")\n",
    "\n",
    "# Replace with your actual file paths\n",
    "kmz_to_csv(\"Septics.kmz\", \"Septics_coordinates.csv\")\n"
   ]
  },
  {
   "cell_type": "code",
   "execution_count": null,
   "metadata": {},
   "outputs": [],
   "source": []
  },
  {
   "cell_type": "code",
   "execution_count": null,
   "metadata": {},
   "outputs": [],
   "source": []
  },
  {
   "cell_type": "code",
   "execution_count": null,
   "metadata": {},
   "outputs": [],
   "source": []
  }
 ],
 "metadata": {
  "kernelspec": {
   "display_name": "pht3d",
   "language": "python",
   "name": "python3"
  },
  "language_info": {
   "codemirror_mode": {
    "name": "ipython",
    "version": 3
   },
   "file_extension": ".py",
   "mimetype": "text/x-python",
   "name": "python",
   "nbconvert_exporter": "python",
   "pygments_lexer": "ipython3",
   "version": "3.11.3"
  }
 },
 "nbformat": 4,
 "nbformat_minor": 2
}
