{
 "cells": [
  {
   "cell_type": "markdown",
   "metadata": {},
   "source": [
    "https://flopy.readthedocs.io/en/3.3.2/_notebooks/tutorial01_mf6.html"
   ]
  },
  {
   "cell_type": "code",
   "execution_count": 608,
   "metadata": {},
   "outputs": [],
   "source": [
    "import flopy\n",
    "import numpy as np\n",
    "import matplotlib.pyplot as plt\n",
    "import shutil\n",
    "from pathlib import Path\n",
    "\n",
    "from datetime import datetime\n",
    "\n",
    "from tempfile import TemporaryDirectory\n",
    "from tempfile import mkdtemp\n",
    "import os\n",
    "import platform\n",
    "import subprocess\n",
    "\n",
    "from shapely.geometry import Polygon, Point"
   ]
  },
  {
   "cell_type": "code",
   "execution_count": 609,
   "metadata": {},
   "outputs": [],
   "source": [
    "import flopy\n",
    "import numpy as np\n",
    "import matplotlib.pyplot as plt\n",
    "import shutil\n",
    "from pathlib import Path\n",
    "import os\n",
    "from datetime import datetime\n",
    "\n",
    "from tempfile import TemporaryDirectory\n",
    "from tempfile import mkdtemp\n",
    "\n",
    "import os\n",
    "import platform\n",
    "import subprocess\n",
    "import numpy as np"
   ]
  },
  {
   "cell_type": "code",
   "execution_count": 610,
   "metadata": {},
   "outputs": [],
   "source": [
    "\n",
    "def change_array_within_polygon(array, row_coords, col_coords, value):\n",
    "\n",
    "    # Create a polygon object from the row and column coordinates\n",
    "    polygon = Polygon(zip(col_coords, row_coords))\n",
    "\n",
    "    # Create a boolean mask indicating which points fall within the polygon\n",
    "    mask = np.zeros_like(array, dtype=bool)\n",
    "    for row in range(array.shape[0]):\n",
    "        for col in range(array.shape[1]):\n",
    "            point = Point(col, row)\n",
    "            if polygon.contains(point) or polygon.intersects(point):\n",
    "                mask[row, col] = True\n",
    "\n",
    "    # Set the values of the array that fall within the polygon to the new value\n",
    "    array[mask] = value\n",
    "\n",
    "    return array\n"
   ]
  },
  {
   "cell_type": "code",
   "execution_count": 611,
   "metadata": {},
   "outputs": [],
   "source": [
    "def locate_ground_surface_lay(row=150):\n",
    "    cross_section = ibound[:,:,0]\n",
    "    lay = np.where(cross_section[:,row]==1)[0][0]\n",
    "    return lay\n",
    "\n",
    "def meter_to_col(col_meter):\n",
    "    return int(np.round(col_meter/delc,0))\n",
    "\n",
    "def meter_to_row(row_meter):\n",
    "    return int(np.round(row_meter/delc,0))\n",
    "\n",
    "def meter_to_lay(lay_meter):\n",
    "    return int(np.round((top_elev-lay_meter)/layer_thickness,0))\n",
    "\n",
    "\n",
    "def col_to_meter(col):\n",
    "    return col*delc\n",
    "\n",
    "def row_to_meter(row):\n",
    "    return row*delc\n",
    "\n",
    "def lay_to_meter(row):\n",
    "    return 190.0-row*layer_thickness"
   ]
  },
  {
   "cell_type": "code",
   "execution_count": null,
   "metadata": {},
   "outputs": [],
   "source": []
  },
  {
   "cell_type": "markdown",
   "metadata": {},
   "source": [
    "# Workspace"
   ]
  },
  {
   "cell_type": "code",
   "execution_count": 612,
   "metadata": {},
   "outputs": [],
   "source": [
    "myt = datetime.now().strftime('%m%d%H%M%S')\n",
    "name = 'wasaga'\n",
    "temp_dir = mkdtemp(prefix='_T{}_{}_'.format(myt,name))\n",
    "os.makedirs(Path(temp_dir) / '_output')\n",
    "model_ws = temp_dir\n",
    "\n",
    "\n",
    "def open_file(path):\n",
    "    if platform.system() == \"Windows\":\n",
    "        os.startfile(path)\n",
    "    elif platform.system() == \"Darwin\":\n",
    "        subprocess.Popen([\"open\", path])\n",
    "    else:\n",
    "        subprocess.Popen([\"xdg-open\", path])\n",
    "\n",
    "open_file(model_ws)"
   ]
  },
  {
   "cell_type": "code",
   "execution_count": null,
   "metadata": {},
   "outputs": [],
   "source": []
  },
  {
   "cell_type": "code",
   "execution_count": null,
   "metadata": {},
   "outputs": [],
   "source": []
  },
  {
   "cell_type": "code",
   "execution_count": null,
   "metadata": {},
   "outputs": [],
   "source": []
  },
  {
   "cell_type": "code",
   "execution_count": 613,
   "metadata": {},
   "outputs": [],
   "source": [
    "# name = \"wasaga_mf6\"\n",
    "# h1 = 100\n",
    "# h2 = 90\n",
    "# Nlay = 120\n",
    "# N = 440\n",
    "\n",
    "# L = 400.0\n",
    "# H = 50.0\n",
    "# k = 1.0"
   ]
  },
  {
   "cell_type": "code",
   "execution_count": 614,
   "metadata": {},
   "outputs": [],
   "source": [
    "name = \"wasaga_mf6\"\n",
    "\n",
    "# Define model dimensions\n",
    "nlay = int(60*1)\n",
    "nrow = int(220*2)\n",
    "ncol = int(220*2)\n",
    "delr = 2200/nrow  # Cell width along rows (extend 2200 / 220)\n",
    "delc = 2200/ncol  # Cell width along columns (extend 2200 / 220)\n",
    "\n",
    "# Define top elevation\n",
    "top_elev = 190.0\n",
    "\n",
    "# Define layer thickness (uniform thickness)\n",
    "layer_thickness = 30.0 / nlay\n",
    "\n",
    "perlen = 365\n",
    "nper = int(1)\n",
    "nstp = np.repeat(1,nper)\n",
    "steady = np.append(np.array([True]),np.repeat(False,nper-1))\n",
    "#steady=[False,False,True]"
   ]
  },
  {
   "cell_type": "code",
   "execution_count": null,
   "metadata": {},
   "outputs": [],
   "source": []
  },
  {
   "cell_type": "markdown",
   "metadata": {},
   "source": [
    "# SIM"
   ]
  },
  {
   "cell_type": "code",
   "execution_count": 615,
   "metadata": {},
   "outputs": [],
   "source": [
    "sim = flopy.mf6.MFSimulation(\n",
    "    sim_name=name, exe_name=\"mf6\", version=\"mf6\", sim_ws=model_ws)"
   ]
  },
  {
   "cell_type": "code",
   "execution_count": null,
   "metadata": {},
   "outputs": [],
   "source": []
  },
  {
   "cell_type": "code",
   "execution_count": null,
   "metadata": {},
   "outputs": [],
   "source": []
  },
  {
   "cell_type": "markdown",
   "metadata": {},
   "source": [
    "# TDIS"
   ]
  },
  {
   "cell_type": "code",
   "execution_count": 616,
   "metadata": {},
   "outputs": [],
   "source": [
    "tdis = flopy.mf6.ModflowTdis(\n",
    "    sim, pname=\"tdis\", time_units=\"DAYS\", nper=1, perioddata=[(365.0, 1, 1.0)])\n",
    "\n",
    "#perioddata ([perlen, nstp, tsmult])"
   ]
  },
  {
   "cell_type": "code",
   "execution_count": null,
   "metadata": {},
   "outputs": [],
   "source": []
  },
  {
   "cell_type": "markdown",
   "metadata": {},
   "source": [
    "# IMS"
   ]
  },
  {
   "cell_type": "code",
   "execution_count": 617,
   "metadata": {},
   "outputs": [],
   "source": [
    "ims = flopy.mf6.ModflowIms(sim, pname=\"ims\", complexity=\"MODERATE\") # Iterative Model Solution"
   ]
  },
  {
   "cell_type": "code",
   "execution_count": null,
   "metadata": {},
   "outputs": [],
   "source": []
  },
  {
   "cell_type": "markdown",
   "metadata": {},
   "source": [
    "# GWF"
   ]
  },
  {
   "cell_type": "code",
   "execution_count": 618,
   "metadata": {},
   "outputs": [],
   "source": [
    "model_nam_file = \"{}.nam\".format(name)\n",
    "gwf = flopy.mf6.ModflowGwf(sim, modelname=name, model_nam_file=model_nam_file)"
   ]
  },
  {
   "cell_type": "code",
   "execution_count": 619,
   "metadata": {},
   "outputs": [],
   "source": [
    "# bot = np.linspace(-H / Nlay, -H, Nlay)\n",
    "# delrow = delcol = L / (N - 1)\n",
    "# dis = flopy.mf6.ModflowGwfdis(\n",
    "#     gwf,\n",
    "#     nlay=Nlay,\n",
    "#     nrow=N,\n",
    "#     ncol=N,\n",
    "#     delr=delrow,\n",
    "#     delc=delcol,\n",
    "#     top=0.0,\n",
    "#     botm=bot,\n",
    "# )"
   ]
  },
  {
   "cell_type": "code",
   "execution_count": 620,
   "metadata": {},
   "outputs": [
    {
     "name": "stdout",
     "output_type": "stream",
     "text": [
      "WARNING: Unable to resolve dimension of ('gwf6', 'sto', 'griddata', 'iconvert', 'iconvert') based on shape \"nodes\".\n",
      "WARNING: Unable to resolve dimension of ('gwf6', 'sto', 'griddata', 'ss', 'ss') based on shape \"nodes\".\n",
      "WARNING: Unable to resolve dimension of ('gwf6', 'sto', 'griddata', 'sy', 'sy') based on shape \"nodes\".\n"
     ]
    }
   ],
   "source": [
    "sto = flopy.mf6.ModflowGwfsto(\n",
    "    gwf,\n",
    "    pname=\"sto\",\n",
    "    save_flows=True,\n",
    "    ss=0.002,\n",
    "    sy=0.33,\n",
    "    steady_state={0: True}\n",
    ")"
   ]
  },
  {
   "cell_type": "code",
   "execution_count": null,
   "metadata": {},
   "outputs": [],
   "source": []
  },
  {
   "cell_type": "code",
   "execution_count": null,
   "metadata": {},
   "outputs": [],
   "source": []
  },
  {
   "cell_type": "code",
   "execution_count": 621,
   "metadata": {},
   "outputs": [
    {
     "data": {
      "image/png": "[encoded data removed]",
      "text/plain": [
       "<Figure size 1000x200 with 1 Axes>"
      ]
     },
     "metadata": {},
     "output_type": "display_data"
    },
    {
     "data": {
      "image/png": "[encoded data removed]",
      "text/plain": [
       "<Figure size 1000x200 with 1 Axes>"
      ]
     },
     "metadata": {},
     "output_type": "display_data"
    }
   ],
   "source": [
    "from scipy.interpolate import make_interp_spline\n",
    "\n",
    "x = np.array([0, 100, 340, 600, 750, 850, 1100, 1350, 1450, 1530, 1650, 1750, 1850, 2050, 2200])\n",
    "y_topo = np.array([190,190,187,184,184,184,183,182,179,175.5,175,173.8,173.5,172,171])#topo\n",
    "y_clay = np.array([185,184,180,175,174,174,173,170,169,168.5,167.5,166.8,166.5,165,164]) #clay\n",
    "\n",
    "\n",
    "\n",
    "# Interpolate the data using smoothing splines\n",
    "spl = make_interp_spline(x, y_topo)\n",
    "x_smooth_topo = np.linspace(x.min(), x.max(), 30)\n",
    "y_smooth_topo = spl(x_smooth_topo)\n",
    "\n",
    "col_coords = (x_smooth_topo/delr).round(0)\n",
    "col_coords_topo = list(col_coords) +[nrow,0]\n",
    "\n",
    "row_coords = ((top_elev - y_smooth_topo)/layer_thickness).round(0)\n",
    "row_coords_topo  =  list(row_coords) +[0,0]\n",
    "\n",
    "\n",
    "\n",
    "# Interpolate the data using smoothing splines\n",
    "spl = make_interp_spline(x, y_clay)\n",
    "x_smooth = np.linspace(x.min(), x.max(), 30)\n",
    "y_smooth = spl(x_smooth)\n",
    "\n",
    "col_coords = (x_smooth/delr).round(0)\n",
    "col_coords_clay = list(col_coords) +[nrow,0]\n",
    "row_coords = ((top_elev - y_smooth)/layer_thickness).round(0)\n",
    "row_coords_clay  =  list(row_coords) +[nlay,nlay]\n",
    "\n",
    "\n",
    "\n",
    "\n",
    "plt.scatter(x, y_topo)\n",
    "plt.plot(x_smooth_topo, y_smooth_topo)\n",
    "\n",
    "# Plot the original data and the smooth curve\n",
    "plt.scatter(x, y_clay)\n",
    "plt.plot(x_smooth, y_smooth)\n",
    "\n",
    "\n",
    "plt.gcf().set_size_inches(10,2)\n",
    "# Show the plot\n",
    "plt.show()\n",
    "\n",
    "\n",
    "plt.plot(col_coords_topo,row_coords_topo)\n",
    "plt.scatter(col_coords_topo,row_coords_topo)\n",
    "\n",
    "plt.plot(col_coords_clay,row_coords_clay)\n",
    "plt.scatter(col_coords_clay,row_coords_clay)\n",
    "\n",
    "plt.gca().invert_yaxis()\n",
    "plt.gcf().set_size_inches(10,2)"
   ]
  },
  {
   "cell_type": "code",
   "execution_count": 622,
   "metadata": {},
   "outputs": [
    {
     "name": "stdout",
     "output_type": "stream",
     "text": [
      "185.5\n",
      "186.0\n",
      "186.5\n"
     ]
    },
    {
     "data": {
      "image/png": "[encoded data removed]",
      "text/plain": [
       "<Figure size 1500x1000 with 2 Axes>"
      ]
     },
     "metadata": {},
     "output_type": "display_data"
    },
    {
     "data": {
      "image/png": "[encoded data removed]",
      "text/plain": [
       "<Figure size 1500x1000 with 2 Axes>"
      ]
     },
     "metadata": {},
     "output_type": "display_data"
    }
   ],
   "source": [
    "\n",
    "# Define ibound and initial conditionsa\n",
    "ibound = np.ones((nlay, nrow, ncol), dtype=int)\n",
    "initial_head = np.full((nlay, nrow, ncol), 185.0, dtype=float)\n",
    "\n",
    "# Set constant head boundary conditions for the first and last rows\n",
    "array = change_array_within_polygon(ibound, row_coords_topo, col_coords_topo, 0)\n",
    "plt.scatter(col_coords_topo,row_coords_topo,c='r')\n",
    "\n",
    "\n",
    "array = change_array_within_polygon(ibound, row_coords_clay, col_coords_clay, 0)\n",
    "plt.scatter(col_coords,row_coords,c='r')\n",
    "\n",
    "\n",
    "\n",
    "ibound_2 = ibound.copy()\n",
    "for c in range(0,1):\n",
    "    i = np.where(ibound[:,c,-1]==1)[0][-1]\n",
    "    head = top_elev-i*layer_thickness\n",
    "    #print('head {}'.format(head))\n",
    "    \n",
    "    while head<187:\n",
    "        ibound_2[i,c,:] = 2\n",
    "        #print(i,c)\n",
    "        #initial_head[i,c,:] = head+0.5\n",
    "        print(head)\n",
    "        initial_head[i,c,:] = 187\n",
    "        head+=layer_thickness\n",
    "        i-=1\n",
    "\n",
    "\n",
    "lay = np.where(ibound[:,int(1700/delr),-1])[0][0]\n",
    "elv = lay_to_meter(lay)\n",
    "head = elv\n",
    "for c in range(int(1700/delr),int(2200/delr)):\n",
    "    lay = np.where(ibound[:,c,-1]==1)[0][0]\n",
    "    #print(lay,lay_to_meter(lay))\n",
    "    #ibound[lay,c,:] = -1\n",
    "    #initial_head[lay,c,:] = elv\n",
    "\n",
    "# Your existing code\n",
    "im = plt.imshow(ibound[:,:,2], origin='upper', aspect=1)\n",
    "plt.axvline(x=meter_to_col(1700))# shoreline\n",
    "plt.gcf().set_size_inches(15,10)\n",
    "\n",
    "# Set the y-axis tick positions and labels\n",
    "#plt.yticks([0, 10,20, 30,40, 50,60], ['190m (0L)','185m (10L)', '180m (20L)','175m (30L)', '170m (40L)', '165m (50L)','160m (60L)'])\n",
    "\n",
    "# Add a horizontal colorbar\n",
    "cbar = plt.colorbar(im, orientation='horizontal')\n",
    "cbar.ax.tick_params(labelsize=16)\n",
    "cbar.set_label('Colorbar Label', fontsize=16)\n",
    "\n",
    "# Display the plot\n",
    "plt.title('ibound')\n",
    "plt.grid()\n",
    "plt.show()\n",
    "\n",
    "\n",
    "fig, ax = plt.subplots(figsize=(15, 10))\n",
    "im = ax.imshow(initial_head[:, :, 0], origin='upper')\n",
    "\n",
    "# Add a horizontal colorbar\n",
    "cbar = plt.colorbar(im, orientation='horizontal')\n",
    "cbar.ax.tick_params(labelsize=18)\n",
    "plt.title('initial head')\n",
    "plt.show()\n",
    "\n"
   ]
  },
  {
   "cell_type": "markdown",
   "metadata": {},
   "source": [
    "# DIS"
   ]
  },
  {
   "cell_type": "code",
   "execution_count": 623,
   "metadata": {},
   "outputs": [],
   "source": [
    "#ibound = np.ones((nlay, nrow, ncol), dtype=int)"
   ]
  },
  {
   "cell_type": "markdown",
   "metadata": {},
   "source": []
  },
  {
   "cell_type": "code",
   "execution_count": 624,
   "metadata": {},
   "outputs": [],
   "source": [
    "dis = flopy.mf6.ModflowGwfdis(\n",
    "    gwf,\n",
    "    nlay=nlay,\n",
    "    nrow=nrow,\n",
    "    ncol=ncol,\n",
    "    delr=delr,\n",
    "    delc=delc,\n",
    "    top=190.0,\n",
    "    botm=[top_elev - (i * layer_thickness) for i in range(1, nlay + 1)],\n",
    "    idomain=ibound\n",
    ")"
   ]
  },
  {
   "cell_type": "markdown",
   "metadata": {},
   "source": [
    "# IC"
   ]
  },
  {
   "cell_type": "code",
   "execution_count": 625,
   "metadata": {},
   "outputs": [],
   "source": [
    "#start = h1 * np.ones((Nlay, N, N))\n",
    "ic = flopy.mf6.ModflowGwfic(gwf, pname=\"ic\", strt=191)"
   ]
  },
  {
   "cell_type": "code",
   "execution_count": 626,
   "metadata": {},
   "outputs": [],
   "source": [
    "npf = flopy.mf6.ModflowGwfnpf(gwf, icelltype=1, k=6.9, save_flows=True)"
   ]
  },
  {
   "cell_type": "code",
   "execution_count": null,
   "metadata": {},
   "outputs": [],
   "source": []
  },
  {
   "cell_type": "markdown",
   "metadata": {},
   "source": [
    "# CHD"
   ]
  },
  {
   "cell_type": "code",
   "execution_count": 627,
   "metadata": {},
   "outputs": [],
   "source": [
    "# N = 220\n",
    "# Nlay =60\n",
    "# h1 = 100\n",
    "# h2 =90\n",
    "# chd_rec = []\n",
    "# chd_rec.append(((0, int(N / 4), int(N / 4)), h2))\n",
    "# for layer in range(0, Nlay):\n",
    "#     for row_col in range(0, N):\n",
    "#         chd_rec.append(((layer, row_col, 0), h1))\n",
    "#         chd_rec.append(((layer, row_col, N - 1), h1))\n",
    "#         if row_col != 0 and row_col != N - 1:\n",
    "#             chd_rec.append(((layer, 0, row_col), h1))\n",
    "#             chd_rec.append(((layer, N - 1, row_col), h1))"
   ]
  },
  {
   "cell_type": "code",
   "execution_count": 628,
   "metadata": {},
   "outputs": [],
   "source": [
    "# cellids = np.array([np.where(ibound_2==2)])[0].T\n",
    "# chd_rec = {}\n",
    "# chd_rec[0] = [(tuple(i),187)for i in cellids]"
   ]
  },
  {
   "cell_type": "code",
   "execution_count": 629,
   "metadata": {},
   "outputs": [],
   "source": [
    "lays = np.where(ibound[:,0,0]==1)[0]\n",
    "chd_rec = [] \n",
    "for lay in lays:\n",
    "    for row in [0]:\n",
    "        for col in range(nrow):\n",
    "            chd_rec.append(((lay,row,col),190))\n",
    "\n",
    "\n",
    "\n",
    "\n",
    "lays = np.where(ibound[:,-1,0]==1)[0]\n",
    "\n",
    "for lay in lays:\n",
    "    for row in [nrow-1]:\n",
    "        for col in range(nrow):\n",
    "            chd_rec.append(((lay,row,col),175.0))\n",
    "\n",
    "\n",
    "stress_period_data = chd_rec\n"
   ]
  },
  {
   "cell_type": "markdown",
   "metadata": {},
   "source": []
  },
  {
   "cell_type": "code",
   "execution_count": 630,
   "metadata": {},
   "outputs": [],
   "source": [
    "chd = flopy.mf6.ModflowGwfchd(\n",
    "    gwf,\n",
    "    stress_period_data=stress_period_data,\n",
    ")"
   ]
  },
  {
   "cell_type": "code",
   "execution_count": 631,
   "metadata": {},
   "outputs": [
    {
     "data": {
      "text/plain": [
       "rec.array([((1, 0, 0), 190.), ((1, 0, 1), 190.), ((1, 0, 2), 190.), ...,\n",
       "           ((51, 439, 437), 175.), ((51, 439, 438), 175.),\n",
       "           ((51, 439, 439), 175.)],\n",
       "          dtype=[('cellid', 'O'), ('head', '<f8')])"
      ]
     },
     "execution_count": 631,
     "metadata": {},
     "output_type": "execute_result"
    }
   ],
   "source": [
    "iper = 0\n",
    "ra = chd.stress_period_data.get_data(key=iper)\n",
    "ra"
   ]
  },
  {
   "cell_type": "code",
   "execution_count": 632,
   "metadata": {},
   "outputs": [],
   "source": [
    "# Create the output control (`OC`) Package\n",
    "headfile = \"{}.hds\".format(name)\n",
    "head_filerecord = [headfile]\n",
    "budgetfile = \"{}.cbb\".format(name)\n",
    "budget_filerecord = [budgetfile]\n",
    "saverecord = [(\"HEAD\", \"ALL\"), (\"BUDGET\", \"ALL\")]\n",
    "printrecord = [(\"HEAD\", \"LAST\")]\n",
    "oc = flopy.mf6.ModflowGwfoc(\n",
    "    gwf,\n",
    "    saverecord=saverecord,\n",
    "    head_filerecord=head_filerecord,\n",
    "    budget_filerecord=budget_filerecord,\n",
    "    printrecord=printrecord,\n",
    ")"
   ]
  },
  {
   "cell_type": "code",
   "execution_count": 633,
   "metadata": {},
   "outputs": [
    {
     "name": "stdout",
     "output_type": "stream",
     "text": [
      "writing simulation...\n",
      "  writing simulation name file...\n",
      "  writing simulation tdis package...\n",
      "  writing ims package ims...\n",
      "  writing model wasaga_mf6...\n",
      "    writing model name file...\n",
      "    writing package sto...\n",
      "    writing package dis...\n",
      "    writing package ic...\n",
      "    writing package npf...\n",
      "    writing package chd_0...\n",
      "INFORMATION: maxbound in ('gwf6', 'chd', 'dimensions') changed to 10120 based on size of stress_period_data\n",
      "    writing package oc...\n"
     ]
    }
   ],
   "source": [
    "sim.write_simulation()"
   ]
  },
  {
   "cell_type": "code",
   "execution_count": 28,
   "metadata": {},
   "outputs": [
    {
     "name": "stdout",
     "output_type": "stream",
     "text": [
      "FloPy is using the following executable to run the model: C:\\Users\\swan47\\AppData\\Local\\flopy\\bin\\mf6.EXE\n",
      "                                   MODFLOW 6\n",
      "                U.S. GEOLOGICAL SURVEY MODULAR HYDROLOGIC MODEL\n",
      "                        VERSION 6.4.1 Release 12/09/2022\n",
      "\n",
      "   MODFLOW 6 compiled Apr 12 2023 19:05:25 with Intel(R) Fortran Intel(R) 64\n",
      "   Compiler Classic for applications running on Intel(R) 64, Version 2021.7.0\n",
      "                             Build 20220726_000000\n",
      "\n",
      "This software has been approved for release by the U.S. Geological \n",
      "Survey (USGS). Although the software has been subjected to rigorous \n",
      "review, the USGS reserves the right to update the software as needed \n",
      "pursuant to further analysis and review. No warranty, expressed or \n",
      "implied, is made by the USGS or the U.S. Government as to the \n",
      "functionality of the software and related material nor shall the \n",
      "fact of release constitute any such warranty. Furthermore, the \n",
      "software is released on condition that neither the USGS nor the U.S. \n",
      "Government shall be held liable for any damages resulting from its \n",
      "authorized or unauthorized use. Also refer to the USGS Water \n",
      "Resources Software User Rights Notice for complete use, copyright, \n",
      "and distribution information.\n",
      "\n",
      " \n",
      " Run start date and time (yyyy/mm/dd hh:mm:ss): 2023/10/17 16:28:22\n",
      " \n",
      " Writing simulation list file: mfsim.lst\n",
      " Using Simulation name file: mfsim.nam\n",
      " \n",
      "    Solving:  Stress period:     1    Time step:     1\n",
      " \n",
      " Run end date and time (yyyy/mm/dd hh:mm:ss): 2023/10/17 16:29:08\n",
      " Elapsed run time: 46.176 Seconds\n",
      " \n",
      " Normal termination of simulation.\n"
     ]
    }
   ],
   "source": [
    "success, buff = sim.run_simulation()\n",
    "if not success:\n",
    "    raise Exception(\"MODFLOW 6 did not terminate normally.\")"
   ]
  },
  {
   "cell_type": "markdown",
   "metadata": {},
   "source": []
  },
  {
   "cell_type": "code",
   "execution_count": 29,
   "metadata": {},
   "outputs": [
    {
     "data": {
      "image/png": "[encoded data removed]",
      "text/plain": [
       "<Figure size 1500x500 with 2 Axes>"
      ]
     },
     "metadata": {},
     "output_type": "display_data"
    }
   ],
   "source": [
    "fig = plt.figure(figsize=(15, 5))\n",
    "xsect = flopy.plot.PlotCrossSection(model=gwf, line={\"Column\": 100})\n",
    "\n",
    "\n",
    "\n",
    "hds = flopy.utils.binaryfile.HeadFile(model_ws+ '/'+headfile)\n",
    "head_data = hds.get_data(kstpkper=(0, 0)) # (time step, stress period)\n",
    "masked_head_data = np.ma.masked_where(ibound<= 0, head_data)\n",
    "\n",
    "cs = xsect.plot_array(masked_head_data, cmap=\"viridis\")\n",
    "plt.colorbar(cs)\n",
    "\n",
    "\n",
    "plt.grid()\n",
    "\n",
    "ibd = xsect.plot_ibound(color_noflow='grey')\n",
    "#ibd.set_facecolor(\"red\")  # set the color of the masked cells to grey\n",
    "\n",
    "plt.axvline(x=1680, color='black', linestyle='--')\n",
    "\n",
    "#plt.text(1700, 185, 'Shoreline', ha='center', va='bottom', fontsize=12)\n",
    "#xs = drn_ys\n",
    "#ys = [ lay_to_meter(locate_ground_surface_lay(meter_to_row(y))) for y in drn_ys]\n",
    "#plt.scatter([x - 0.0 for x in xs],[y- 0.0 for y in ys],c='r',marker='s',s=5)\n",
    "\n",
    "plt.show()"
   ]
  },
  {
   "cell_type": "code",
   "execution_count": null,
   "metadata": {},
   "outputs": [],
   "source": []
  },
  {
   "cell_type": "code",
   "execution_count": null,
   "metadata": {},
   "outputs": [],
   "source": []
  },
  {
   "cell_type": "code",
   "execution_count": null,
   "metadata": {},
   "outputs": [],
   "source": []
  },
  {
   "cell_type": "code",
   "execution_count": null,
   "metadata": {},
   "outputs": [],
   "source": []
  },
  {
   "cell_type": "code",
   "execution_count": null,
   "metadata": {},
   "outputs": [],
   "source": []
  },
  {
   "cell_type": "code",
   "execution_count": 355,
   "metadata": {},
   "outputs": [
    {
     "ename": "TypeError",
     "evalue": "Length of x (220) must match number of columns in z (440)",
     "output_type": "error",
     "traceback": [
      "\u001b[0;31m---------------------------------------------------------------------------\u001b[0m",
      "\u001b[0;31mTypeError\u001b[0m                                 Traceback (most recent call last)",
      "\u001b[1;32m/Users/b/Documents/GitHub/wasaga_model/wasaga_regional_test/wasaga_3d_mf6.ipynb Cell 52\u001b[0m line \u001b[0;36m7\n\u001b[1;32m      <a href='vscode-notebook-cell:/Users/b/Documents/GitHub/wasaga_model/wasaga_regional_test/wasaga_3d_mf6.ipynb#X63sZmlsZQ%3D%3D?line=4'>5</a>\u001b[0m fig \u001b[39m=\u001b[39m plt\u001b[39m.\u001b[39mfigure(figsize\u001b[39m=\u001b[39m(\u001b[39m6\u001b[39m, \u001b[39m6\u001b[39m))\n\u001b[1;32m      <a href='vscode-notebook-cell:/Users/b/Documents/GitHub/wasaga_model/wasaga_regional_test/wasaga_3d_mf6.ipynb#X63sZmlsZQ%3D%3D?line=5'>6</a>\u001b[0m ax \u001b[39m=\u001b[39m fig\u001b[39m.\u001b[39madd_subplot(\u001b[39m1\u001b[39m, \u001b[39m1\u001b[39m, \u001b[39m1\u001b[39m, aspect\u001b[39m=\u001b[39m\u001b[39m\"\u001b[39m\u001b[39mequal\u001b[39m\u001b[39m\"\u001b[39m)\n\u001b[0;32m----> <a href='vscode-notebook-cell:/Users/b/Documents/GitHub/wasaga_model/wasaga_regional_test/wasaga_3d_mf6.ipynb#X63sZmlsZQ%3D%3D?line=6'>7</a>\u001b[0m c \u001b[39m=\u001b[39m ax\u001b[39m.\u001b[39;49mcontour(x, y, h[\u001b[39m0\u001b[39;49m], np\u001b[39m.\u001b[39;49marange(\u001b[39m90\u001b[39;49m, \u001b[39m100.1\u001b[39;49m, \u001b[39m0.2\u001b[39;49m), colors\u001b[39m=\u001b[39;49m\u001b[39m\"\u001b[39;49m\u001b[39mblack\u001b[39;49m\u001b[39m\"\u001b[39;49m)\n\u001b[1;32m      <a href='vscode-notebook-cell:/Users/b/Documents/GitHub/wasaga_model/wasaga_regional_test/wasaga_3d_mf6.ipynb#X63sZmlsZQ%3D%3D?line=7'>8</a>\u001b[0m plt\u001b[39m.\u001b[39mclabel(c, fmt\u001b[39m=\u001b[39m\u001b[39m\"\u001b[39m\u001b[39m%2.1f\u001b[39;00m\u001b[39m\"\u001b[39m)\n",
      "File \u001b[0;32m~/miniforge3/envs/pht3d/lib/python3.11/site-packages/matplotlib/__init__.py:1442\u001b[0m, in \u001b[0;36m_preprocess_data.<locals>.inner\u001b[0;34m(ax, data, *args, **kwargs)\u001b[0m\n\u001b[1;32m   1439\u001b[0m \u001b[39m@functools\u001b[39m\u001b[39m.\u001b[39mwraps(func)\n\u001b[1;32m   1440\u001b[0m \u001b[39mdef\u001b[39;00m \u001b[39minner\u001b[39m(ax, \u001b[39m*\u001b[39margs, data\u001b[39m=\u001b[39m\u001b[39mNone\u001b[39;00m, \u001b[39m*\u001b[39m\u001b[39m*\u001b[39mkwargs):\n\u001b[1;32m   1441\u001b[0m     \u001b[39mif\u001b[39;00m data \u001b[39mis\u001b[39;00m \u001b[39mNone\u001b[39;00m:\n\u001b[0;32m-> 1442\u001b[0m         \u001b[39mreturn\u001b[39;00m func(ax, \u001b[39m*\u001b[39;49m\u001b[39mmap\u001b[39;49m(sanitize_sequence, args), \u001b[39m*\u001b[39;49m\u001b[39m*\u001b[39;49mkwargs)\n\u001b[1;32m   1444\u001b[0m     bound \u001b[39m=\u001b[39m new_sig\u001b[39m.\u001b[39mbind(ax, \u001b[39m*\u001b[39margs, \u001b[39m*\u001b[39m\u001b[39m*\u001b[39mkwargs)\n\u001b[1;32m   1445\u001b[0m     auto_label \u001b[39m=\u001b[39m (bound\u001b[39m.\u001b[39marguments\u001b[39m.\u001b[39mget(label_namer)\n\u001b[1;32m   1446\u001b[0m                   \u001b[39mor\u001b[39;00m bound\u001b[39m.\u001b[39mkwargs\u001b[39m.\u001b[39mget(label_namer))\n",
      "File \u001b[0;32m~/miniforge3/envs/pht3d/lib/python3.11/site-packages/matplotlib/axes/_axes.py:6451\u001b[0m, in \u001b[0;36mAxes.contour\u001b[0;34m(self, *args, **kwargs)\u001b[0m\n\u001b[1;32m   6442\u001b[0m \u001b[39m\u001b[39m\u001b[39m\"\"\"\u001b[39;00m\n\u001b[1;32m   6443\u001b[0m \u001b[39mPlot contour lines.\u001b[39;00m\n\u001b[1;32m   6444\u001b[0m \n\u001b[0;32m   (...)\u001b[0m\n\u001b[1;32m   6448\u001b[0m \u001b[39m%(contour_doc)s\u001b[39;00m\n\u001b[1;32m   6449\u001b[0m \u001b[39m\"\"\"\u001b[39;00m\n\u001b[1;32m   6450\u001b[0m kwargs[\u001b[39m'\u001b[39m\u001b[39mfilled\u001b[39m\u001b[39m'\u001b[39m] \u001b[39m=\u001b[39m \u001b[39mFalse\u001b[39;00m\n\u001b[0;32m-> 6451\u001b[0m contours \u001b[39m=\u001b[39m mcontour\u001b[39m.\u001b[39;49mQuadContourSet(\u001b[39mself\u001b[39;49m, \u001b[39m*\u001b[39;49margs, \u001b[39m*\u001b[39;49m\u001b[39m*\u001b[39;49mkwargs)\n\u001b[1;32m   6452\u001b[0m \u001b[39mself\u001b[39m\u001b[39m.\u001b[39m_request_autoscale_view()\n\u001b[1;32m   6453\u001b[0m \u001b[39mreturn\u001b[39;00m contours\n",
      "File \u001b[0;32m~/miniforge3/envs/pht3d/lib/python3.11/site-packages/matplotlib/contour.py:769\u001b[0m, in \u001b[0;36mContourSet.__init__\u001b[0;34m(self, ax, levels, filled, linewidths, linestyles, hatches, alpha, origin, extent, cmap, colors, norm, vmin, vmax, extend, antialiased, nchunk, locator, transform, negative_linestyles, *args, **kwargs)\u001b[0m\n\u001b[1;32m    765\u001b[0m \u001b[39mif\u001b[39;00m \u001b[39mself\u001b[39m\u001b[39m.\u001b[39mnegative_linestyles \u001b[39mis\u001b[39;00m \u001b[39mNone\u001b[39;00m:\n\u001b[1;32m    766\u001b[0m     \u001b[39mself\u001b[39m\u001b[39m.\u001b[39mnegative_linestyles \u001b[39m=\u001b[39m \\\n\u001b[1;32m    767\u001b[0m         mpl\u001b[39m.\u001b[39mrcParams[\u001b[39m'\u001b[39m\u001b[39mcontour.negative_linestyle\u001b[39m\u001b[39m'\u001b[39m]\n\u001b[0;32m--> 769\u001b[0m kwargs \u001b[39m=\u001b[39m \u001b[39mself\u001b[39;49m\u001b[39m.\u001b[39;49m_process_args(\u001b[39m*\u001b[39;49margs, \u001b[39m*\u001b[39;49m\u001b[39m*\u001b[39;49mkwargs)\n\u001b[1;32m    770\u001b[0m \u001b[39mself\u001b[39m\u001b[39m.\u001b[39m_process_levels()\n\u001b[1;32m    772\u001b[0m \u001b[39mself\u001b[39m\u001b[39m.\u001b[39m_extend_min \u001b[39m=\u001b[39m \u001b[39mself\u001b[39m\u001b[39m.\u001b[39mextend \u001b[39min\u001b[39;00m [\u001b[39m'\u001b[39m\u001b[39mmin\u001b[39m\u001b[39m'\u001b[39m, \u001b[39m'\u001b[39m\u001b[39mboth\u001b[39m\u001b[39m'\u001b[39m]\n",
      "File \u001b[0;32m~/miniforge3/envs/pht3d/lib/python3.11/site-packages/matplotlib/contour.py:1411\u001b[0m, in \u001b[0;36mQuadContourSet._process_args\u001b[0;34m(self, corner_mask, algorithm, *args, **kwargs)\u001b[0m\n\u001b[1;32m   1408\u001b[0m         corner_mask \u001b[39m=\u001b[39m mpl\u001b[39m.\u001b[39mrcParams[\u001b[39m'\u001b[39m\u001b[39mcontour.corner_mask\u001b[39m\u001b[39m'\u001b[39m]\n\u001b[1;32m   1409\u001b[0m \u001b[39mself\u001b[39m\u001b[39m.\u001b[39m_corner_mask \u001b[39m=\u001b[39m corner_mask\n\u001b[0;32m-> 1411\u001b[0m x, y, z \u001b[39m=\u001b[39m \u001b[39mself\u001b[39;49m\u001b[39m.\u001b[39;49m_contour_args(args, kwargs)\n\u001b[1;32m   1413\u001b[0m contour_generator \u001b[39m=\u001b[39m contourpy\u001b[39m.\u001b[39mcontour_generator(\n\u001b[1;32m   1414\u001b[0m     x, y, z, name\u001b[39m=\u001b[39m\u001b[39mself\u001b[39m\u001b[39m.\u001b[39m_algorithm, corner_mask\u001b[39m=\u001b[39m\u001b[39mself\u001b[39m\u001b[39m.\u001b[39m_corner_mask,\n\u001b[1;32m   1415\u001b[0m     line_type\u001b[39m=\u001b[39mcontourpy\u001b[39m.\u001b[39mLineType\u001b[39m.\u001b[39mSeparateCode,\n\u001b[1;32m   1416\u001b[0m     fill_type\u001b[39m=\u001b[39mcontourpy\u001b[39m.\u001b[39mFillType\u001b[39m.\u001b[39mOuterCode,\n\u001b[1;32m   1417\u001b[0m     chunk_size\u001b[39m=\u001b[39m\u001b[39mself\u001b[39m\u001b[39m.\u001b[39mnchunk)\n\u001b[1;32m   1419\u001b[0m t \u001b[39m=\u001b[39m \u001b[39mself\u001b[39m\u001b[39m.\u001b[39mget_transform()\n",
      "File \u001b[0;32m~/miniforge3/envs/pht3d/lib/python3.11/site-packages/matplotlib/contour.py:1450\u001b[0m, in \u001b[0;36mQuadContourSet._contour_args\u001b[0;34m(self, args, kwargs)\u001b[0m\n\u001b[1;32m   1448\u001b[0m \u001b[39melif\u001b[39;00m nargs \u001b[39m<\u001b[39m\u001b[39m=\u001b[39m \u001b[39m4\u001b[39m:\n\u001b[1;32m   1449\u001b[0m     x, y, z_orig, \u001b[39m*\u001b[39margs \u001b[39m=\u001b[39m args\n\u001b[0;32m-> 1450\u001b[0m     x, y, z \u001b[39m=\u001b[39m \u001b[39mself\u001b[39;49m\u001b[39m.\u001b[39;49m_check_xyz(x, y, z_orig, kwargs)\n\u001b[1;32m   1451\u001b[0m \u001b[39melse\u001b[39;00m:\n\u001b[1;32m   1452\u001b[0m     \u001b[39mraise\u001b[39;00m _api\u001b[39m.\u001b[39mnargs_error(fn, takes\u001b[39m=\u001b[39m\u001b[39m\"\u001b[39m\u001b[39mfrom 1 to 4\u001b[39m\u001b[39m\"\u001b[39m, given\u001b[39m=\u001b[39mnargs)\n",
      "File \u001b[0;32m~/miniforge3/envs/pht3d/lib/python3.11/site-packages/matplotlib/contour.py:1488\u001b[0m, in \u001b[0;36mQuadContourSet._check_xyz\u001b[0;34m(self, x, y, z, kwargs)\u001b[0m\n\u001b[1;32m   1486\u001b[0m ny, \u001b[39m=\u001b[39m y\u001b[39m.\u001b[39mshape\n\u001b[1;32m   1487\u001b[0m \u001b[39mif\u001b[39;00m nx \u001b[39m!=\u001b[39m Nx:\n\u001b[0;32m-> 1488\u001b[0m     \u001b[39mraise\u001b[39;00m \u001b[39mTypeError\u001b[39;00m(\u001b[39mf\u001b[39m\u001b[39m\"\u001b[39m\u001b[39mLength of x (\u001b[39m\u001b[39m{\u001b[39;00mnx\u001b[39m}\u001b[39;00m\u001b[39m) must match number of \u001b[39m\u001b[39m\"\u001b[39m\n\u001b[1;32m   1489\u001b[0m                     \u001b[39mf\u001b[39m\u001b[39m\"\u001b[39m\u001b[39mcolumns in z (\u001b[39m\u001b[39m{\u001b[39;00mNx\u001b[39m}\u001b[39;00m\u001b[39m)\u001b[39m\u001b[39m\"\u001b[39m)\n\u001b[1;32m   1490\u001b[0m \u001b[39mif\u001b[39;00m ny \u001b[39m!=\u001b[39m Ny:\n\u001b[1;32m   1491\u001b[0m     \u001b[39mraise\u001b[39;00m \u001b[39mTypeError\u001b[39;00m(\u001b[39mf\u001b[39m\u001b[39m\"\u001b[39m\u001b[39mLength of y (\u001b[39m\u001b[39m{\u001b[39;00mny\u001b[39m}\u001b[39;00m\u001b[39m) must match number of \u001b[39m\u001b[39m\"\u001b[39m\n\u001b[1;32m   1492\u001b[0m                     \u001b[39mf\u001b[39m\u001b[39m\"\u001b[39m\u001b[39mrows in z (\u001b[39m\u001b[39m{\u001b[39;00mNy\u001b[39m}\u001b[39;00m\u001b[39m)\u001b[39m\u001b[39m\"\u001b[39m)\n",
      "\u001b[0;31mTypeError\u001b[0m: Length of x (220) must match number of columns in z (440)"
     ]
    },
    {
     "data": {
      "image/png": "[encoded data removed]",
      "text/plain": [
       "<Figure size 600x600 with 1 Axes>"
      ]
     },
     "metadata": {},
     "output_type": "display_data"
    }
   ],
   "source": [
    "hds = flopy.utils.binaryfile.HeadFile(model_ws+ '/'+headfile)\n",
    "h = hds.get_data(kstpkper=(0, 0))\n",
    "x = y = np.linspace(0, 2200, 220)\n",
    "y = y[::-1]\n",
    "fig = plt.figure(figsize=(6, 6))\n",
    "ax = fig.add_subplot(1, 1, 1, aspect=\"equal\")\n",
    "c = ax.contour(x, y, h[0], np.arange(90, 100.1, 0.2), colors=\"black\")\n",
    "plt.clabel(c, fmt=\"%2.1f\")"
   ]
  },
  {
   "cell_type": "code",
   "execution_count": 134,
   "metadata": {},
   "outputs": [
    {
     "data": {
      "text/plain": [
       "<matplotlib.colorbar.Colorbar at 0x1b96129d210>"
      ]
     },
     "execution_count": 134,
     "metadata": {},
     "output_type": "execute_result"
    },
    {
     "data": {
      "image/png": "[encoded data removed]",
      "text/plain": [
       "<Figure size 640x480 with 2 Axes>"
      ]
     },
     "metadata": {},
     "output_type": "display_data"
    }
   ],
   "source": []
  },
  {
   "cell_type": "code",
   "execution_count": null,
   "metadata": {},
   "outputs": [],
   "source": []
  },
  {
   "cell_type": "code",
   "execution_count": null,
   "metadata": {},
   "outputs": [],
   "source": []
  },
  {
   "cell_type": "code",
   "execution_count": null,
   "metadata": {},
   "outputs": [],
   "source": []
  }
 ],
 "metadata": {
  "kernelspec": {
   "display_name": "pht3d",
   "language": "python",
   "name": "python3"
  },
  "language_info": {
   "codemirror_mode": {
    "name": "ipython",
    "version": 3
   },
   "file_extension": ".py",
   "mimetype": "text/x-python",
   "name": "python",
   "nbconvert_exporter": "python",
   "pygments_lexer": "ipython3",
   "version": "3.11.5"
  },
  "orig_nbformat": 4
 },
 "nbformat": 4,
 "nbformat_minor": 2
}
