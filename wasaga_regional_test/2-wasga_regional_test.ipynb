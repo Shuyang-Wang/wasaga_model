{
 "cells": [
  {
   "cell_type": "code",
   "execution_count": 15,
   "metadata": {},
   "outputs": [],
   "source": [
    "import flopy\n",
    "import numpy as np\n",
    "import matplotlib.pyplot as plt\n",
    "import shutil\n",
    "from pathlib import Path\n",
    "import os\n",
    "from datetime import datetime\n",
    "\n",
    "from tempfile import TemporaryDirectory\n",
    "from tempfile import mkdtemp\n",
    "\n",
    "import os\n",
    "import platform\n",
    "import subprocess"
   ]
  },
  {
   "cell_type": "code",
   "execution_count": 16,
   "metadata": {},
   "outputs": [],
   "source": [
    "\n",
    "# Define model workspace\n",
    "\n",
    "myt = datetime.now().strftime('%m%d%H%M%S')\n",
    "name = 'wasaga'\n",
    "temp_dir = mkdtemp(prefix='_T{}_{}_'.format(myt,name))\n",
    "os.makedirs(Path(temp_dir) / '_output')\n",
    "\n",
    "#model_ws = \"./modflow_model_2\"\n",
    "model_ws = temp_dir\n",
    "\n",
    "# Create a MODFLOW model instance\n",
    "model = flopy.seawat.Seawat(modelname=\"example_model\", model_ws=model_ws, exe_name=\"swtv4\")\n",
    "\n",
    "def open_file(path):\n",
    "    if platform.system() == \"Windows\":\n",
    "        os.startfile(path)\n",
    "    elif platform.system() == \"Darwin\":\n",
    "        subprocess.Popen([\"open\", path])\n",
    "    else:\n",
    "        subprocess.Popen([\"xdg-open\", path])\n",
    "\n",
    "open_file(model_ws)\n",
    "\n",
    "\n"
   ]
  },
  {
   "cell_type": "code",
   "execution_count": null,
   "metadata": {},
   "outputs": [],
   "source": []
  },
  {
   "cell_type": "code",
   "execution_count": 17,
   "metadata": {},
   "outputs": [],
   "source": [
    "# Define model dimensions\n",
    "nlay = 50\n",
    "nrow = 190\n",
    "ncol = 220\n",
    "delr = 12.0  # Cell width along rows (extend 2200 / 220)\n",
    "delc = 12.0  # Cell width along columns (extend 1900 / 190)\n",
    "\n",
    "# Define top elevation\n",
    "top_elev = 190.0\n",
    "\n",
    "# Define layer thickness (uniform thickness)\n",
    "layer_thickness = 25.0 / nlay\n",
    "\n",
    "perlen = 200\n",
    "nper = 7\n",
    "nstp = np.repeat(1,nper)\n",
    "steady = np.append(np.array([True]),np.repeat(False,nper-1))\n",
    "\n",
    "# Create DIS package\n",
    "dis = flopy.modflow.ModflowDis(model, nlay=nlay, nrow=nrow, ncol=ncol, delr=delr, delc=delc,top=top_elev, \n",
    "                               botm=[top_elev - (i * layer_thickness) for i in range(1, nlay + 1)],\n",
    "                               nper = nper,\n",
    "                               perlen = perlen,\n",
    "                               nstp = nstp,\n",
    "                               steady = steady)\n",
    "\n"
   ]
  },
  {
   "cell_type": "code",
   "execution_count": 18,
   "metadata": {},
   "outputs": [
    {
     "data": {
      "text/plain": [
       "<matplotlib.image.AxesImage at 0x25d80641ad0>"
      ]
     },
     "execution_count": 18,
     "metadata": {},
     "output_type": "execute_result"
    },
    {
     "data": {
      "image/png": "[encoded data removed]",
      "text/plain": [
       "<Figure size 640x480 with 1 Axes>"
      ]
     },
     "metadata": {},
     "output_type": "display_data"
    }
   ],
   "source": [
    "\n",
    "\n",
    "\n",
    "# Define ibound and initial conditionsa\n",
    "ibound = np.ones((nlay, nrow, ncol), dtype=int)\n",
    "\n",
    "# Set constant head boundary conditions for the first and last rows\n",
    "\n",
    "\n",
    "\n",
    "\n",
    "# Change the values in the top left corner to 1s\n",
    "ibound[:3, 15:,:] = 0\n",
    "ibound[3:6, 20:,:] = 0\n",
    "ibound[6:9, 28:,:] = 0\n",
    "ibound[9:12, 40:,:] = 0\n",
    "ibound[12:15, 48:,:] = 0\n",
    "ibound[15:18, 56:,:] = 0\n",
    "ibound[18:21, 64:,:] = 0\n",
    "ibound[21:24, 74:,:] = 0\n",
    "ibound[24:27, 84:,:] = 0\n",
    "ibound[27:30, 90:,:] = 0\n",
    "ibound[30:33, 98:,:] = 0\n",
    "ibound[33:36, 102:,:] = 0\n",
    "ibound[36:38, 120:,:] = 0\n",
    "ibound[38:40, 135:,:] = 0\n",
    "ibound[40:42, 155:,:] = 0\n",
    "\n",
    "ibound[40, 135:155,:] = -1\n",
    "ibound[42, 155:,:] = -1\n",
    "\n",
    "\n",
    "\n",
    "\n",
    "\n",
    "rows  = ([160]+[150] + [120]  + \n",
    "         list(np.linspace(120,80,5).astype(int)) + \n",
    "         list(np.linspace(80,65,5).astype(int)) + \n",
    "         list(np.linspace(65,0,28).astype(int)))\n",
    "for layer in range(40):\n",
    "    row = rows[layer]\n",
    "    ibound[49-layer,:row,:]= 0\n",
    "\n",
    "\n",
    "#ibound[45:-1, 180:,:] = 0\n",
    "\n",
    "\n",
    "\n",
    "ibound[5:10, 0:2, :] = -1  # Constant head for the first row\n",
    "#ibound[:, -1, :] = -1  # Constant head for the last row\n",
    "\n",
    "\n",
    "plt.imshow(ibound[:,:,2])\n",
    "\n"
   ]
  },
  {
   "cell_type": "code",
   "execution_count": 19,
   "metadata": {},
   "outputs": [
    {
     "data": {
      "text/plain": [
       "<matplotlib.image.AxesImage at 0x25dff963c90>"
      ]
     },
     "execution_count": 19,
     "metadata": {},
     "output_type": "execute_result"
    },
    {
     "data": {
      "image/png": "[encoded data removed]",
      "text/plain": [
       "<Figure size 640x480 with 1 Axes>"
      ]
     },
     "metadata": {},
     "output_type": "display_data"
    }
   ],
   "source": [
    "# Define initial head conditions\n",
    "initial_head = np.full((nlay, nrow, ncol),190, dtype=float)\n",
    "initial_head[:10, 0:2, :] = 188  # Initial head for the first row\n",
    "#initial_head[:, -1, :] = 178.0  # Initial head for the last row\n",
    "initial_head[40, 135:155,:] = 170\n",
    "initial_head[42, 155:,:] = 170\n",
    "\n",
    "plt.imshow(initial_head[:,:,3])\n",
    "#plt.colorbar()"
   ]
  },
  {
   "cell_type": "code",
   "execution_count": 20,
   "metadata": {},
   "outputs": [],
   "source": [
    "\n",
    "# Create BAS package\n",
    "bas = flopy.modflow.ModflowBas(model, ibound=ibound, strt=initial_head)\n",
    "\n",
    "# Define hydraulic properties\n",
    "horizontal_k = 6.9  # Horizontal hydraulic conductivity (m/day)\n",
    "vertical_k = 0.1   # Vertical hydraulic conductivity (m/day)\n",
    "porosity = 0.25     # Porosity\n",
    "\n",
    "# Create LPF package (Layer Property Flow package)\n",
    "lpf = flopy.modflow.ModflowLpf(model, hk=horizontal_k, vka=vertical_k, laytyp=1, ipakcb=53,ss=0.0002,sy=0.33)\n",
    "\n",
    "\n",
    "\n",
    "pcg = flopy.modflow.ModflowPcg(model, hclose=1e-3)\n",
    "\n",
    "\n",
    "# Create a steady-state MODFLOW model\n",
    "# You can add additional packages and settings as needed for your specific problem\n",
    "\n",
    "\n",
    "# OC - Output Control Option\n",
    "oc = flopy.modflow.ModflowOc(\n",
    "    model,\n",
    "    stress_period_data= None,\n",
    "    compact=True,\n",
    ")\n"
   ]
  },
  {
   "cell_type": "code",
   "execution_count": 21,
   "metadata": {},
   "outputs": [],
   "source": [
    "wel_data = {}\n",
    "wel_data[1] = [[28,75,20,0.075]]\n",
    "wel_data[2] = [[28,75,20,0.075],[26,65,60,0.075]]\n",
    "wel_data[3] = [[28,75,20,0.000],[26,65,60,0.075]]\n",
    "wel_data[4] = [[28,75,20,0.000],[26,65,60,0.000]]\n",
    "\n",
    "#stress_period_data = {0: [[lay, row, col, flux], [lay, row, col, flux], [lay, row, col, flux] ],\n",
    "\n",
    "wel = flopy.modflow.ModflowWel(model, stress_period_data=wel_data, ipakcb=53)"
   ]
  },
  {
   "cell_type": "code",
   "execution_count": null,
   "metadata": {},
   "outputs": [],
   "source": []
  },
  {
   "cell_type": "code",
   "execution_count": null,
   "metadata": {},
   "outputs": [],
   "source": []
  },
  {
   "cell_type": "code",
   "execution_count": 22,
   "metadata": {},
   "outputs": [],
   "source": [
    "icbund = ibound.copy()\n",
    "\n",
    "btn = flopy.mt3d.Mt3dBtn(\n",
    "    model,\n",
    "    nprs=5,\n",
    "    timprs=np.cumsum([200]*7),\n",
    "    prsity=0.25,\n",
    "    sconc= 0., # starting concentration\n",
    "    ifmtcn=0,\n",
    "    chkmas=False,\n",
    "    nprobs=10,\n",
    "    nprmas=10,\n",
    "    dt0=0,  # The user-specified initial transport step size\n",
    "    ttsmult=1.1,\n",
    "    mxstrn = 50000,\n",
    "    icbund = icbund\n",
    ")\n"
   ]
  },
  {
   "cell_type": "code",
   "execution_count": 23,
   "metadata": {},
   "outputs": [],
   "source": [
    "adv = flopy.mt3d.Mt3dAdv(model, mixelm=0,percel=0.4,mxpart=200000,nadvfd=0)\n",
    "dsp = flopy.mt3d.Mt3dDsp(model, al=0.2, trpt=0.1, \n",
    "                        trpv=0.1, \n",
    "                        dmcoef=3.7E-10 )\n",
    "gcg = flopy.mt3d.Mt3dGcg(model, iter1=50, mxiter=1, isolve=2, cclose= 1e-5)"
   ]
  },
  {
   "cell_type": "code",
   "execution_count": 24,
   "metadata": {},
   "outputs": [],
   "source": [
    "# ## SSM\n",
    "ssm_data = {}\n",
    "itype = flopy.mt3d.Mt3dSsm.itype_dict()\n",
    "ssm_data[1] = [(28,75,20, 3000.0, itype['WEL'])]\n",
    "ssm_data[2] = [(28,75,20, 3000.0, itype['WEL']),(26,65,60,3000, itype['WEL'])]\n",
    "ssm_data[3] = [(28,75,20, 0, itype['WEL']),(26,65,60,3000, itype['WEL'])]\n",
    "ssm_data[4] = [(28,75,20, 0, itype['WEL']),(26,65,60,0, itype['WEL'])]\n",
    "\n",
    "ssm = flopy.mt3d.Mt3dSsm(model, stress_period_data=ssm_data)"
   ]
  },
  {
   "cell_type": "code",
   "execution_count": 25,
   "metadata": {},
   "outputs": [],
   "source": [
    "## RCT\n",
    "\n",
    "rct = flopy.mt3d.Mt3dRct(model=model, isothm=3,sp1=0.0001,sp2=0.0001,igetsc=0,rhob= 1.65E+09)"
   ]
  },
  {
   "cell_type": "code",
   "execution_count": null,
   "metadata": {},
   "outputs": [],
   "source": []
  },
  {
   "cell_type": "code",
   "execution_count": 26,
   "metadata": {},
   "outputs": [
    {
     "name": "stdout",
     "output_type": "stream",
     "text": [
      "FloPy is using the following executable to run the model: C:\\Users\\swan47\\AppData\\Local\\flopy\\bin\\swtv4.EXE\n",
      "\n",
      "                                  SEAWAT Version 4\n",
      "    U.S. GEOLOGICAL SURVEY MODULAR FINITE-DIFFERENCE GROUND-WATER FLOW MODEL\n",
      "                             Version 4.00.05 10/19/2012                      \n",
      "\n",
      "Incorporated MODFLOW Version: 1.18.01 06/20/2008                      \n",
      "Incorporated MT3DMS  Version: 5.20    10/30/2006                      \n",
      "\n",
      "\n",
      " This program is public domain and is released on the\n",
      " condition that neither the U.S. Geological Survey nor\n",
      " the United States Government may be held liable for any\n",
      " damages resulting from their authorized or unauthorized\n",
      " use.\n",
      "\n",
      "\n",
      " Using NAME file: example_model.nam                                                                                                                                                                                       \n",
      " Run start date and time (yyyy/mm/dd hh:mm:ss): 2023/09/12  2:41:42\n",
      "\n",
      "\n",
      " STRESS PERIOD NO.    1\n",
      "\n",
      "  STRESS PERIOD    1 TIME STEP    1 FROM TIME =   0.0000     TO    200.00    \n",
      "\n",
      "forrtl: error (73): floating divide by zero\n",
      "Image              PC                Routine            Line        Source             \n",
      "swtv4.exe          00007FF7EAF6559A  __libm_log10_l9             0  Unknown\n",
      "swtv4.exe          00007FF7EAF61AA7  __libm_log10_disp           0  Unknown\n",
      "swtv4.exe          00007FF7EAD9A780  IMT1BTN5AD                861  imt1btn5.f\n",
      "swtv4.exe          00007FF7EAEAAFD0  MAIN__                   1635  swt_v4.f\n",
      "swtv4.exe          00007FF7EAFC48AE  Unknown               Unknown  Unknown\n",
      "swtv4.exe          00007FF7EB01D2D0  Unknown               Unknown  Unknown\n",
      "KERNEL32.DLL       00007FF8DDFA55A0  Unknown               Unknown  Unknown\n",
      "ntdll.dll          00007FF8DE9A485B  Unknown               Unknown  Unknown\n"
     ]
    },
    {
     "data": {
      "text/plain": [
       "(False, [])"
      ]
     },
     "execution_count": 26,
     "metadata": {},
     "output_type": "execute_result"
    }
   ],
   "source": [
    "\n",
    "# Write MODFLOW input files\n",
    "model.write_input()\n",
    "\n",
    "# Run the MODFLOW model\n",
    "model.run_model()\n"
   ]
  },
  {
   "cell_type": "code",
   "execution_count": null,
   "metadata": {},
   "outputs": [],
   "source": []
  },
  {
   "cell_type": "code",
   "execution_count": null,
   "metadata": {},
   "outputs": [],
   "source": []
  },
  {
   "cell_type": "code",
   "execution_count": null,
   "metadata": {},
   "outputs": [],
   "source": []
  },
  {
   "cell_type": "code",
   "execution_count": 156,
   "metadata": {},
   "outputs": [
    {
     "data": {
      "image/png": "[encoded data removed]",
      "text/plain": [
       "<Figure size 800x500 with 2 Axes>"
      ]
     },
     "metadata": {},
     "output_type": "display_data"
    }
   ],
   "source": [
    "# Import necessary libraries for plotting\n",
    "import matplotlib.pyplot as plt\n",
    "import flopy.utils.binaryfile as bf\n",
    "\n",
    "budobj = bf.HeadFile(model_ws + '/example_model.hds')\n",
    "times = budobj.get_times()\n",
    "head = budobj.get_data(totim=times[2])\n",
    "# Assuming 'head', 'ibound' are defined somewhere in your code\n",
    "\n",
    "arr = head[:, :, 20].copy()\n",
    "arr[arr < 0] = np.nan\n",
    "\n",
    "topo = ibound[:, :, 0].copy()\n",
    "topo[topo == -1] = 1\n",
    "\n",
    "\n",
    "\n",
    "# Create a 2x1 grid of subplots\n",
    "fig,ax1 = plt.subplots(figsize=(8,5))\n",
    "#fig.figure()\n",
    "\n",
    "# Plot 'topo' in the first subplot\n",
    "ax1.imshow(topo, cmap='Pastel2')\n",
    "\n",
    "# Plot 'arr' in the second subplot\n",
    "im = ax1.imshow(arr)\n",
    "\n",
    "# Create a colorbar at the bottom\n",
    "cax = fig.add_axes([0.1, 0.05, 0.8, 0.03])  # [left, bottom, width, height]\n",
    "cbar = plt.colorbar(im, cax=cax, orientation='horizontal')\n",
    "\n",
    "\n",
    "\n",
    "# Show the plots\n",
    "plt.show()"
   ]
  },
  {
   "cell_type": "code",
   "execution_count": 157,
   "metadata": {},
   "outputs": [
    {
     "data": {
      "text/plain": [
       "<matplotlib.image.AxesImage at 0x143c6dd50>"
      ]
     },
     "execution_count": 157,
     "metadata": {},
     "output_type": "execute_result"
    },
    {
     "data": {
      "image/png": "[encoded data removed]",
      "text/plain": [
       "<Figure size 640x480 with 1 Axes>"
      ]
     },
     "metadata": {},
     "output_type": "display_data"
    }
   ],
   "source": [
    "budobj = bf.HeadFile(model_ws + '/example_model.hds')\n",
    "times = budobj.get_times()\n",
    "head = budobj.get_data(totim=times[2])\n",
    "head[head<0]=np.nan\n",
    "\n",
    "\n",
    "topview = head[0].copy()\n",
    "for n in range(head.shape[0]):\n",
    "    #print(n)\n",
    "    layer = head[n]\n",
    "    topview[np.isnan(topview)] = layer[np.isnan(topview)]\n",
    "\n",
    "\n",
    "plt.imshow(topview)"
   ]
  },
  {
   "cell_type": "code",
   "execution_count": 255,
   "metadata": {},
   "outputs": [
    {
     "data": {
      "image/png": "[encoded data removed]",
      "text/plain": [
       "<Figure size 800x500 with 1 Axes>"
      ]
     },
     "metadata": {},
     "output_type": "display_data"
    }
   ],
   "source": [
    "ucnobj = bf.UcnFile(model_ws + '/MT3D001.UCN', model=model)\n",
    "times = ucnobj.get_times()\n",
    "conc = ucnobj.get_data(totim=times[6])\n",
    "arr = conc[:, :, 20].copy()\n",
    "arr[arr==1.e+30] = np.nan\n",
    "\n",
    "\n",
    "# Create a 2x1 grid of subplots\n",
    "fig,ax1 = plt.subplots(figsize=(8,5))\n",
    "#fig.figure()\n",
    "\n",
    "# Plot 'topo' in the first subplot\n",
    "ax1.imshow(topo, cmap='Pastel2')\n",
    "\n",
    "# Plot 'arr' in the second subplot\n",
    "im = ax1.imshow(arr,cmap='coolwarm')\n"
   ]
  },
  {
   "cell_type": "code",
   "execution_count": 262,
   "metadata": {},
   "outputs": [
    {
     "data": {
      "text/plain": [
       "<matplotlib.image.AxesImage at 0x144bbdd50>"
      ]
     },
     "execution_count": 262,
     "metadata": {},
     "output_type": "execute_result"
    },
    {
     "data": {
      "image/png": "[encoded data removed]",
      "text/plain": [
       "<Figure size 640x480 with 1 Axes>"
      ]
     },
     "metadata": {},
     "output_type": "display_data"
    }
   ],
   "source": [
    "budobj = bf.UcnFile(model_ws + '/MT3D001.UCN', model=model)\n",
    "times = budobj.get_times()\n",
    "conc = budobj.get_data(totim=times[6])\n",
    "conc[conc==1.e+30]=np.nan\n",
    "\n",
    "\n",
    "topview = conc[0].copy()\n",
    "for n in range(conc.shape[0]):\n",
    "    #print(n)\n",
    "    layer = conc[n]\n",
    "    topview[np.isnan(topview)] = layer[np.isnan(topview)]\n",
    "\n",
    "\n",
    "plt.imshow(topview,cmap='coolwarm')"
   ]
  },
  {
   "cell_type": "code",
   "execution_count": 174,
   "metadata": {},
   "outputs": [
    {
     "data": {
      "text/plain": [
       "array([[1.e+30, 1.e+30, 1.e+30, ..., 1.e+30, 1.e+30, 1.e+30],\n",
       "       [1.e+30, 1.e+30, 1.e+30, ..., 1.e+30, 1.e+30, 1.e+30],\n",
       "       [1.e+30, 1.e+30, 1.e+30, ..., 1.e+30, 1.e+30, 1.e+30],\n",
       "       ...,\n",
       "       [1.e+30, 1.e+30, 1.e+30, ..., 1.e+30, 1.e+30, 1.e+30],\n",
       "       [1.e+30, 1.e+30, 1.e+30, ..., 1.e+30, 1.e+30, 1.e+30],\n",
       "       [1.e+30, 1.e+30, 1.e+30, ..., 1.e+30, 1.e+30, 1.e+30]],\n",
       "      dtype=float32)"
      ]
     },
     "execution_count": 174,
     "metadata": {},
     "output_type": "execute_result"
    }
   ],
   "source": [
    "topview"
   ]
  },
  {
   "cell_type": "code",
   "execution_count": null,
   "metadata": {},
   "outputs": [],
   "source": []
  },
  {
   "cell_type": "code",
   "execution_count": null,
   "metadata": {},
   "outputs": [],
   "source": []
  }
 ],
 "metadata": {
  "kernelspec": {
   "display_name": "pht3d",
   "language": "python",
   "name": "python3"
  },
  "language_info": {
   "codemirror_mode": {
    "name": "ipython",
    "version": 3
   },
   "file_extension": ".py",
   "mimetype": "text/x-python",
   "name": "python",
   "nbconvert_exporter": "python",
   "pygments_lexer": "ipython3",
   "version": "3.11.3"
  },
  "orig_nbformat": 4
 },
 "nbformat": 4,
 "nbformat_minor": 2
}
