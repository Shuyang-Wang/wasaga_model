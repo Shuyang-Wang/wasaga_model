{
 "cells": [
  {
   "cell_type": "code",
   "execution_count": 8,
   "metadata": {},
   "outputs": [],
   "source": [
    "import flopy\n",
    "import numpy as np\n",
    "import matplotlib.pyplot as plt"
   ]
  },
  {
   "cell_type": "code",
   "execution_count": null,
   "metadata": {},
   "outputs": [],
   "source": []
  },
  {
   "cell_type": "code",
   "execution_count": 9,
   "metadata": {},
   "outputs": [],
   "source": [
    "\n",
    "# Define model workspace\n",
    "model_ws = \"./modflow_model_2\"\n",
    "\n",
    "# Create a MODFLOW model instance\n",
    "model = flopy.seawat.Seawat(modelname=\"example_model\", model_ws=model_ws, exe_name=\"mf2005\")\n",
    "\n",
    "\n",
    "# Define model dimensions\n",
    "nlay = 50\n",
    "nrow = 190\n",
    "ncol = 220\n",
    "delr = 12.0  # Cell width along rows (extend 2200 / 220)\n",
    "delc = 12.0  # Cell width along columns (extend 1900 / 190)\n",
    "\n",
    "# Define top elevation\n",
    "top_elev = 190.0\n",
    "\n",
    "# Define layer thickness (uniform thickness)\n",
    "layer_thickness = 25.0 / nlay\n",
    "\n",
    "perlen = 30\n",
    "nper = 5\n",
    "nstp = np.repeat(1,nper)\n",
    "steady = np.append(np.array([True]),np.repeat(False,nper-1))\n",
    "\n",
    "# Create DIS package\n",
    "dis = flopy.modflow.ModflowDis(model, nlay=nlay, nrow=nrow, ncol=ncol, delr=delr, delc=delc,top=top_elev, \n",
    "                               botm=[top_elev - (i * layer_thickness) for i in range(1, nlay + 1)],\n",
    "                               nper = nper,\n",
    "                               perlen = perlen,\n",
    "                               nstp = nstp,\n",
    "                               steady = steady)\n",
    "\n"
   ]
  },
  {
   "cell_type": "code",
   "execution_count": 10,
   "metadata": {},
   "outputs": [
    {
     "data": {
      "text/plain": [
       "<matplotlib.image.AxesImage at 0x128559910>"
      ]
     },
     "execution_count": 10,
     "metadata": {},
     "output_type": "execute_result"
    },
    {
     "data": {
      "image/png": "[encoded data removed]",
      "text/plain": [
       "<Figure size 640x480 with 1 Axes>"
      ]
     },
     "metadata": {},
     "output_type": "display_data"
    }
   ],
   "source": [
    "\n",
    "\n",
    "\n",
    "# Define ibound and initial conditions\n",
    "ibound = np.ones((nlay, nrow, ncol), dtype=int)\n",
    "\n",
    "# Set constant head boundary conditions for the first and last rows\n",
    "\n",
    "\n",
    "\n",
    "\n",
    "# Change the values in the top left corner to 1s\n",
    "ibound[:3, 15:,:] = 0\n",
    "ibound[3:6, 20:,:] = 0\n",
    "ibound[6:9, 28:,:] = 0\n",
    "ibound[9:12, 40:,:] = 0\n",
    "ibound[12:15, 48:,:] = 0\n",
    "ibound[15:18, 56:,:] = 0\n",
    "ibound[18:21, 64:,:] = 0\n",
    "ibound[21:24, 74:,:] = 0\n",
    "ibound[24:27, 84:,:] = 0\n",
    "ibound[27:30, 90:,:] = 0\n",
    "ibound[30:33, 98:,:] = 0\n",
    "ibound[33:36, 102:,:] = 0\n",
    "ibound[36:38, 120:,:] = 0\n",
    "ibound[38:40, 135:,:] = 0\n",
    "ibound[40:42, 155:,:] = 0\n",
    "\n",
    "ibound[40, 135:155,:] = -1\n",
    "ibound[42, 155:,:] = -1\n",
    "\n",
    "\n",
    "\n",
    "\n",
    "\n",
    "rows  = ([160]+[150] + [120]  + \n",
    "         list(np.linspace(120,80,5).astype(int)) + \n",
    "         list(np.linspace(80,65,5).astype(int)) + \n",
    "         list(np.linspace(65,0,28).astype(int)))\n",
    "for layer in range(40):\n",
    "    row = rows[layer]\n",
    "    ibound[49-layer,:row,:]= 0\n",
    "\n",
    "\n",
    "#ibound[45:-1, 180:,:] = 0\n",
    "\n",
    "\n",
    "\n",
    "ibound[5:10, 0:2, :] = -1  # Constant head for the first row\n",
    "#ibound[:, -1, :] = -1  # Constant head for the last row\n",
    "\n",
    "\n",
    "plt.imshow(ibound[:,:,2])\n",
    "\n"
   ]
  },
  {
   "cell_type": "code",
   "execution_count": 11,
   "metadata": {},
   "outputs": [
    {
     "data": {
      "text/plain": [
       "<matplotlib.image.AxesImage at 0x148d3c910>"
      ]
     },
     "execution_count": 11,
     "metadata": {},
     "output_type": "execute_result"
    },
    {
     "data": {
      "image/png": "[encoded data removed]",
      "text/plain": [
       "<Figure size 640x480 with 1 Axes>"
      ]
     },
     "metadata": {},
     "output_type": "display_data"
    }
   ],
   "source": [
    "# Define initial head conditions\n",
    "initial_head = np.full((nlay, nrow, ncol),190, dtype=float)\n",
    "initial_head[:10, 0:2, :] = 188  # Initial head for the first row\n",
    "#initial_head[:, -1, :] = 178.0  # Initial head for the last row\n",
    "initial_head[40, 135:155,:] = 170\n",
    "initial_head[42, 155:,:] = 170\n",
    "\n",
    "plt.imshow(initial_head[:,:,3])\n",
    "#plt.colorbar()"
   ]
  },
  {
   "cell_type": "code",
   "execution_count": 12,
   "metadata": {},
   "outputs": [],
   "source": [
    "\n",
    "# Create BAS package\n",
    "bas = flopy.modflow.ModflowBas(model, ibound=ibound, strt=initial_head)\n",
    "\n",
    "# Define hydraulic properties\n",
    "horizontal_k = 6.9  # Horizontal hydraulic conductivity (m/day)\n",
    "vertical_k = 0.1   # Vertical hydraulic conductivity (m/day)\n",
    "porosity = 0.25     # Porosity\n",
    "\n",
    "# Create LPF package (Layer Property Flow package)\n",
    "lpf = flopy.modflow.ModflowLpf(model, hk=horizontal_k, vka=vertical_k, laytyp=1, ipakcb=53,ss=0.0002,sy=0.33)\n",
    "\n",
    "\n",
    "\n",
    "pcg = flopy.modflow.ModflowPcg(model, hclose=1e-3)\n",
    "\n",
    "\n",
    "# Create a steady-state MODFLOW model\n",
    "# You can add additional packages and settings as needed for your specific problem\n",
    "\n",
    "\n",
    "# OC - Output Control Option\n",
    "oc = flopy.modflow.ModflowOc(\n",
    "    model,\n",
    "    stress_period_data= None,\n",
    "    compact=True,\n",
    ")\n",
    "\n",
    "# Write MODFLOW input files\n",
    "model.write_input()"
   ]
  },
  {
   "cell_type": "code",
   "execution_count": 13,
   "metadata": {},
   "outputs": [
    {
     "name": "stdout",
     "output_type": "stream",
     "text": [
      "FloPy is using the following executable to run the model: /Users/shuyangwang/.local/share/flopy/bin/mf2005\n",
      "\n",
      "                                  MODFLOW-2005     \n",
      "    U.S. GEOLOGICAL SURVEY MODULAR FINITE-DIFFERENCE GROUND-WATER FLOW MODEL\n",
      "                             Version 1.12.00 2/3/2017                        \n",
      "\n",
      " Using NAME file: example_model.nam \n",
      " Run start date and time (yyyy/mm/dd hh:mm:ss): 2023/09/07  3:17:39\n",
      "\n",
      " Solving:  Stress period:     1    Time step:     1    Ground-Water Flow Eqn.\n",
      " Solving:  Stress period:     2    Time step:     1    Ground-Water Flow Eqn.\n",
      " Solving:  Stress period:     3    Time step:     1    Ground-Water Flow Eqn.\n",
      " Solving:  Stress period:     4    Time step:     1    Ground-Water Flow Eqn.\n",
      " Solving:  Stress period:     5    Time step:     1    Ground-Water Flow Eqn.\n",
      " Run end date and time (yyyy/mm/dd hh:mm:ss): 2023/09/07  3:17:53\n",
      " Elapsed run time: 14.456 Seconds\n",
      "\n",
      "  Normal termination of simulation\n"
     ]
    },
    {
     "data": {
      "text/plain": [
       "(True, [])"
      ]
     },
     "execution_count": 13,
     "metadata": {},
     "output_type": "execute_result"
    }
   ],
   "source": [
    "\n",
    "\n",
    "# Run the MODFLOW model\n",
    "model.run_model()\n"
   ]
  },
  {
   "cell_type": "code",
   "execution_count": 16,
   "metadata": {},
   "outputs": [
    {
     "data": {
      "image/png": "[encoded data removed]",
      "text/plain": [
       "<Figure size 1400x1200 with 2 Axes>"
      ]
     },
     "metadata": {},
     "output_type": "display_data"
    }
   ],
   "source": [
    "# Import necessary libraries for plotting\n",
    "import matplotlib.pyplot as plt\n",
    "import flopy.utils.binaryfile as bf\n",
    "\n",
    "budobj = bf.HeadFile(model_ws + '/example_model.hds')\n",
    "times = budobj.get_times()\n",
    "head = budobj.get_data(totim=times[-1])\n",
    "# Assuming 'head', 'ibound' are defined somewhere in your code\n",
    "\n",
    "arr = head[:, :, 10].copy()\n",
    "arr[arr < 0] = np.nan\n",
    "\n",
    "topo = ibound[:, :, 0].copy()\n",
    "topo[topo == -1] = 1\n",
    "\n",
    "\n",
    "\n",
    "# Create a 2x1 grid of subplots\n",
    "fig,ax1 = plt.subplots(figsize=(14,12))\n",
    "#fig.figure()\n",
    "\n",
    "# Plot 'topo' in the first subplot\n",
    "ax1.imshow(topo, cmap='Pastel2')\n",
    "\n",
    "# Plot 'arr' in the second subplot\n",
    "im = ax1.imshow(arr)\n",
    "\n",
    "# Create a colorbar at the bottom\n",
    "cax = fig.add_axes([0.1, 0.05, 0.8, 0.03])  # [left, bottom, width, height]\n",
    "cbar = plt.colorbar(im, cax=cax, orientation='horizontal')\n",
    "\n",
    "# Show the plots\n",
    "plt.show()"
   ]
  },
  {
   "cell_type": "code",
   "execution_count": 17,
   "metadata": {},
   "outputs": [
    {
     "data": {
      "text/plain": [
       "{'CHD': 1,\n",
       " 'BAS6': 1,\n",
       " 'PBC': 1,\n",
       " 'WEL': 2,\n",
       " 'DRN': 3,\n",
       " 'RIV': 4,\n",
       " 'GHB': 5,\n",
       " 'MAS': 15,\n",
       " 'CC': -1}"
      ]
     },
     "execution_count": 17,
     "metadata": {},
     "output_type": "execute_result"
    }
   ],
   "source": [
    "itype = flopy.mt3d.Mt3dSsm.itype_dict()\n",
    "itype"
   ]
  },
  {
   "cell_type": "code",
   "execution_count": 524,
   "metadata": {},
   "outputs": [],
   "source": []
  },
  {
   "cell_type": "code",
   "execution_count": 18,
   "metadata": {},
   "outputs": [
    {
     "data": {
      "text/plain": [
       "<matplotlib.image.AxesImage at 0x14f8da890>"
      ]
     },
     "execution_count": 18,
     "metadata": {},
     "output_type": "execute_result"
    },
    {
     "data": {
      "image/png": "[encoded data removed]",
      "text/plain": [
       "<Figure size 640x480 with 1 Axes>"
      ]
     },
     "metadata": {},
     "output_type": "display_data"
    }
   ],
   "source": [
    "budobj = bf.HeadFile(model_ws + '/example_model.hds')\n",
    "times = budobj.get_times()\n",
    "head = budobj.get_data(totim=times[-1])\n",
    "head[head<0]=np.nan\n",
    "\n",
    "\n",
    "topview = head[0].copy()\n",
    "for n in range(head.shape[0]):\n",
    "    #print(n)\n",
    "    layer = head[n]\n",
    "    topview[np.isnan(topview)] = layer[np.isnan(topview)]\n",
    "\n",
    "\n",
    "plt.imshow(topview)"
   ]
  },
  {
   "cell_type": "code",
   "execution_count": null,
   "metadata": {},
   "outputs": [],
   "source": []
  },
  {
   "cell_type": "code",
   "execution_count": 185,
   "metadata": {},
   "outputs": [],
   "source": []
  },
  {
   "cell_type": "code",
   "execution_count": null,
   "metadata": {},
   "outputs": [],
   "source": []
  }
 ],
 "metadata": {
  "kernelspec": {
   "display_name": "pht3d",
   "language": "python",
   "name": "python3"
  },
  "language_info": {
   "codemirror_mode": {
    "name": "ipython",
    "version": 3
   },
   "file_extension": ".py",
   "mimetype": "text/x-python",
   "name": "python",
   "nbconvert_exporter": "python",
   "pygments_lexer": "ipython3",
   "version": "3.11.3"
  },
  "orig_nbformat": 4
 },
 "nbformat": 4,
 "nbformat_minor": 2
}
