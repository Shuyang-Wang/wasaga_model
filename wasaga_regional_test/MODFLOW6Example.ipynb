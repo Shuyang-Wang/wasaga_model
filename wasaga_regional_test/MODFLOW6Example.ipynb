{
 "cells": [
  {
   "cell_type": "markdown",
   "metadata": {},
   "source": [
    "# Basic Example of Groundwater Modeling with MODFLOW 6 and Flopy\n",
    "Based on:\n",
    "https://github.com/modflowpy/flopy/blob/develop/examples/Notebooks/flopy3_mf6_tutorial.ipynb"
   ]
  },
  {
   "cell_type": "code",
   "execution_count": 1,
   "metadata": {},
   "outputs": [
    {
     "name": "stdout",
     "output_type": "stream",
     "text": [
      "Directory structure already exists for simulation path C:\\Users\\USER\\Documents\\Infohataris\\BasicExampleMODFLOWUZFFlopy\\Simulation\n"
     ]
    }
   ],
   "source": [
    "#%ls ..\\Exe\n",
    "\n",
    "import os, flopy\n",
    "\n",
    "#Going up to the example directory\n",
    "exampleDir = os.path.dirname(os.getcwd())\n",
    "\n",
    "simName = 'mf6uzfexamplesim'\n",
    "simPath = exampleDir + '\\Simulation'\n",
    "exeName = exampleDir + '\\Exe\\mf6.exe'\n",
    "\n",
    "sim = flopy.mf6.MFSimulation(sim_name=simName,\n",
    "                            version='mf6', exe_name=exeName,\n",
    "                            sim_ws=simPath)"
   ]
  },
  {
   "cell_type": "markdown",
   "metadata": {},
   "source": [
    "## Model creation and solver options"
   ]
  },
  {
   "cell_type": "code",
   "execution_count": 2,
   "metadata": {},
   "outputs": [],
   "source": [
    "modelName='mf6uzfexample'\n",
    "model = flopy.mf6.MFModel(sim,modelname=modelName,model_nam_file=modelName+'.nam')"
   ]
  },
  {
   "cell_type": "code",
   "execution_count": 3,
   "metadata": {},
   "outputs": [],
   "source": [
    "#creation of a Iterative Model Solution (IMS)\n",
    "imsPackage = flopy.mf6.ModflowIms(sim, print_option='ALL',\n",
    "                                   complexity='SIMPLE', outer_hclose=0.00001,\n",
    "                                   outer_maximum=50, under_relaxation='NONE',\n",
    "                                   inner_maximum=30, inner_hclose=0.00001,\n",
    "                                   linear_acceleration='CG',\n",
    "                                   preconditioner_levels=7,\n",
    "                                   preconditioner_drop_tolerance=0.01,\n",
    "                                   number_orthogonalizations=2)"
   ]
  },
  {
   "cell_type": "code",
   "execution_count": 4,
   "metadata": {},
   "outputs": [],
   "source": [
    "#register solution to the sim\n",
    "sim.register_ims_package(imsPackage,[modelName])"
   ]
  },
  {
   "cell_type": "markdown",
   "metadata": {},
   "source": [
    "## Definition of temporal discretization\n",
    "\n",
    "1 Steady state period of 1s 1 Transient period of 86400s"
   ]
  },
  {
   "cell_type": "code",
   "execution_count": 5,
   "metadata": {},
   "outputs": [],
   "source": [
    "#Example temporal discretization in MODFLOW 6\n",
    "tdis = flopy.mf6.ModflowTdis(sim, time_units='seconds', nper=2,\n",
    "                            perioddata=((1.0,1,1.0),(86400.0,24,1.0)))"
   ]
  },
  {
   "cell_type": "markdown",
   "metadata": {},
   "source": [
    "## Definition of spatial discretization"
   ]
  },
  {
   "cell_type": "code",
   "execution_count": 6,
   "metadata": {},
   "outputs": [],
   "source": [
    "disPackage = flopy.mf6.ModflowGwfdis(model, length_units='METERS', \n",
    "                                    nlay=2, nrow=20, ncol=20,\n",
    "                                     delr=4, delc=4, \n",
    "                                     top = 100.0, botm=[80.0, 60.0])"
   ]
  },
  {
   "cell_type": "markdown",
   "metadata": {},
   "source": [
    "## Definition of hydraulic conductivity"
   ]
  },
  {
   "cell_type": "code",
   "execution_count": 7,
   "metadata": {},
   "outputs": [
    {
     "name": "stdout",
     "output_type": "stream",
     "text": [
      "[0.00035, 7e-05]\n"
     ]
    }
   ],
   "source": [
    "#hydraulic conductivity constant for each layer\n",
    "layerStorageTypes = [flopy.mf6.data.mfdata.DataStorageType.internal_constant, \n",
    "                       flopy.mf6.data.mfdata.DataStorageType.internal_constant]\n",
    "#definition of the empty data type, please note that default value is 1e-5\n",
    "kTemplate = flopy.mf6.ModflowGwfnpf.k.empty(model, True, layerStorageTypes, 1e-5)\n",
    "\n",
    "#change constant value of layer 0 and 1\n",
    "kTemplate[0] = 3.5e-4\n",
    "kTemplate[1] = 7e-5\n",
    "print(kTemplate)\n",
    "\n",
    "#create a NFP package with the kTemplate\n",
    "npfPackage = flopy.mf6.ModflowGwfnpf(model, save_flows=True, icelltype=1, k=kTemplate)"
   ]
  },
  {
   "cell_type": "markdown",
   "metadata": {},
   "source": [
    "## Definition of initial conditions"
   ]
  },
  {
   "cell_type": "code",
   "execution_count": 8,
   "metadata": {},
   "outputs": [],
   "source": [
    "#define initial heads for model to 99\n",
    "icPackage = flopy.mf6.ModflowGwfic(model,strt=99)"
   ]
  },
  {
   "cell_type": "markdown",
   "metadata": {},
   "source": [
    "## Definition of storage parameters"
   ]
  },
  {
   "cell_type": "code",
   "execution_count": 9,
   "metadata": {},
   "outputs": [],
   "source": [
    "#define dynamic hydraulic parameters, the first layer is convertible and the second is confined\n",
    "stoPackage = flopy.mf6.ModflowGwfsto(model, save_flows=True, iconvert=[1,0], \n",
    "                                     ss=1e-5, sy=0.15, steady_state={0:True}, transient={1:True}) #"
   ]
  },
  {
   "cell_type": "markdown",
   "metadata": {},
   "source": [
    "## Definition of Constant Head Package"
   ]
  },
  {
   "cell_type": "code",
   "execution_count": 10,
   "metadata": {},
   "outputs": [],
   "source": [
    "stress_period_data = {0:[\n",
    "    [[0, 0, 0], 95.1],\n",
    "    [[0, 1, 0], 95.1],\n",
    "    [[0, 2, 0], 95.1],\n",
    "    [[0, 3, 0], 95.1],\n",
    "    [[0, 4, 0], 95.1],\n",
    "    [[0, 5, 0], 95.1],\n",
    "    [[0, 6, 0], 95.1],\n",
    "    [[0, 7, 0], 95.1],\n",
    "    [[0, 8, 0], 95.1],\n",
    "    [[0, 9, 0], 95.1],\n",
    "    [[0, 10, 19], 99.1],\n",
    "    [[0, 11, 19], 99.1],\n",
    "    [[0, 12, 19], 99.1],\n",
    "    [[0, 13, 19], 99.1],\n",
    "    [[0, 14, 19], 99.1],\n",
    "    [[0, 15, 19], 99.1],\n",
    "    [[0, 16, 19], 99.1],\n",
    "    [[0, 17, 19], 99.1],\n",
    "    [[0, 18, 19], 99.1],\n",
    "    [[0, 19, 19], 99.1],\n",
    "    ]\n",
    "    }\n",
    "\n",
    "chdPackage = flopy.mf6.ModflowGwfchd(model, stress_period_data=stress_period_data)"
   ]
  },
  {
   "cell_type": "markdown",
   "metadata": {},
   "source": [
    "## Definition of Well Package"
   ]
  },
  {
   "cell_type": "code",
   "execution_count": 11,
   "metadata": {},
   "outputs": [],
   "source": [
    "#definition of Wel boundary condition in two layers \n",
    "maxbound = 2\n",
    "#define two wells pumping fron 5 to 10 l/s in two layers\n",
    "welPeriod = flopy.mf6.ModflowGwfwel.stress_period_data.empty(model, maxbound=maxbound, boundnames=True, stress_periods=[0,1])\n",
    "# define the two wells for stress period one\n",
    "welPeriod[0][0] = ((0,8,8), -0.020, 'First Well')\n",
    "welPeriod[0][1] = ((1,12,16), -0.025, 'Second Well')\n",
    "# define the two wells for stress period two\n",
    "welPeriod[1][0] = ((0,8,8), -0.050, 'First Well')\n",
    "welPeriod[1][1] = ((1,12,16), -0.040, 'Second Well')\n",
    "# build the well package\n",
    "welPackage = flopy.mf6.ModflowGwfwel(model, stress_period_data=welPeriod, boundnames=True, save_flows=True)"
   ]
  },
  {
   "cell_type": "code",
   "execution_count": 12,
   "metadata": {},
   "outputs": [
    {
     "data": {
      "text/plain": [
       "{0: rec.array([((0, 8, 8), -0.02 , 'First Well'),\n",
       "            ((1, 12, 16), -0.025, 'Second Well')],\n",
       "           dtype=[('cellid', 'O'), ('q', '<f8'), ('boundnames', 'O')]),\n",
       " 1: rec.array([((0, 8, 8), -0.05, 'First Well'),\n",
       "            ((1, 12, 16), -0.04, 'Second Well')],\n",
       "           dtype=[('cellid', 'O'), ('q', '<f8'), ('boundnames', 'O')])}"
      ]
     },
     "execution_count": 12,
     "metadata": {},
     "output_type": "execute_result"
    }
   ],
   "source": [
    "# Well dictionary\n",
    "welPeriod"
   ]
  },
  {
   "cell_type": "markdown",
   "metadata": {},
   "source": [
    "## Output control options"
   ]
  },
  {
   "cell_type": "code",
   "execution_count": 13,
   "metadata": {},
   "outputs": [],
   "source": [
    "#set up Output Control Package\n",
    "printrec_tuple_list = [('HEAD', 'ALL'), ('BUDGET', 'ALL')]\n",
    "saverec_dict = {0:[('HEAD', 'ALL'), ('BUDGET', 'ALL')],1:[('HEAD', 'ALL'), ('BUDGET', 'ALL')]}\n",
    "ocPackage = flopy.mf6.ModflowGwfoc(model,\n",
    "                                   budget_filerecord=[modelName+'.cbc'],\n",
    "                                   head_filerecord=[modelName+'.hds'],\n",
    "                                   saverecord=saverec_dict,\n",
    "                                    printrecord=printrec_tuple_list)\n"
   ]
  },
  {
   "cell_type": "markdown",
   "metadata": {},
   "source": [
    "## Write simulation and run"
   ]
  },
  {
   "cell_type": "code",
   "execution_count": 14,
   "metadata": {},
   "outputs": [
    {
     "name": "stdout",
     "output_type": "stream",
     "text": [
      "WARNING: Unable to resolve dimension of ('nam', 'solutiongroup', 'solutiongroup', 'slnmnames') based on shape \"nslnmod\".\n",
      "INFORMATION: maxbound in ('gwf6', 'chd', 'dimensions') changed to 20 based on size of stress_period_data\n",
      "INFORMATION: maxbound in ('gwf6', 'wel', 'dimensions') changed to 2 based on size of stress_period_data\n",
      "INFORMATION: 0 external files copied\n"
     ]
    }
   ],
   "source": [
    "\n",
    "# write simulation to new location \n",
    "sim.write_simulation()"
   ]
  },
  {
   "cell_type": "code",
   "execution_count": 15,
   "metadata": {},
   "outputs": [
    {
     "name": "stdout",
     "output_type": "stream",
     "text": [
      "FloPy is using the following executable to run the model: C:\\Users\\USER\\Documents\\Infohataris\\BasicExampleMODFLOWUZFFlopy\\Exe\\mf6.exe\n",
      "                                   MODFLOW 6\n",
      "                U.S. GEOLOGICAL SURVEY MODULAR HYDROLOGIC MODEL\n",
      "                       VERSION mf6.0.2 February 23, 2018\n",
      "\n",
      "   MODFLOW 6 compiled Feb 21 2018 10:49:51 with IFORT compiler (ver. 18.0.1)\n",
      "\n",
      "This software has been approved for release by the U.S. Geological \n",
      "Survey (USGS). Although the software has been subjected to rigorous \n",
      "review, the USGS reserves the right to update the software as needed \n",
      "pursuant to further analysis and review. No warranty, expressed or \n",
      "implied, is made by the USGS or the U.S. Government as to the \n",
      "functionality of the software and related material nor shall the \n",
      "fact of release constitute any such warranty. Furthermore, the \n",
      "software is released on condition that neither the USGS nor the U.S. \n",
      "Government shall be held liable for any damages resulting from its \n",
      "authorized or unauthorized use. Also refer to the USGS Water \n",
      "Resources Software User Rights Notice for complete use, copyright, \n",
      "and distribution information.\n",
      "\n",
      " Run start date and time (yyyy/mm/dd hh:mm:ss): 2018/07/24 11:41:34\n",
      "\n",
      " Writing simulation list file: mfsim.lst\n",
      " Using Simulation name file: mfsim.nam\n",
      " Solving:  Stress period:     1    Time step:     1\n",
      " Solving:  Stress period:     2    Time step:     1\n",
      " Solving:  Stress period:     2    Time step:     2\n",
      " Solving:  Stress period:     2    Time step:     3\n",
      " Solving:  Stress period:     2    Time step:     4\n",
      " Solving:  Stress period:     2    Time step:     5\n",
      " Solving:  Stress period:     2    Time step:     6\n",
      " Solving:  Stress period:     2    Time step:     7\n",
      " Solving:  Stress period:     2    Time step:     8\n",
      " Solving:  Stress period:     2    Time step:     9\n",
      " Solving:  Stress period:     2    Time step:    10\n",
      " Solving:  Stress period:     2    Time step:    11\n",
      " Solving:  Stress period:     2    Time step:    12\n",
      " Solving:  Stress period:     2    Time step:    13\n",
      " Solving:  Stress period:     2    Time step:    14\n",
      " Solving:  Stress period:     2    Time step:    15\n",
      " Solving:  Stress period:     2    Time step:    16\n",
      " Solving:  Stress period:     2    Time step:    17\n",
      " Solving:  Stress period:     2    Time step:    18\n",
      " Solving:  Stress period:     2    Time step:    19\n",
      " Solving:  Stress period:     2    Time step:    20\n",
      " Solving:  Stress period:     2    Time step:    21\n",
      " Solving:  Stress period:     2    Time step:    22\n",
      " Solving:  Stress period:     2    Time step:    23\n",
      " Solving:  Stress period:     2    Time step:    24\n",
      " Run end date and time (yyyy/mm/dd hh:mm:ss): 2018/07/24 11:41:34\n",
      " Elapsed run time:  0.209 Seconds\n",
      "\n",
      " Normal termination of simulation.\n"
     ]
    },
    {
     "data": {
      "text/plain": [
       "(True, [])"
      ]
     },
     "execution_count": 15,
     "metadata": {},
     "output_type": "execute_result"
    }
   ],
   "source": [
    "# run simulation\n",
    "sim.run_simulation()"
   ]
  },
  {
   "cell_type": "markdown",
   "metadata": {},
   "source": [
    "<hr />\n",
    "<hr />\n",
    "<hr />\n",
    "## Output representation\n"
   ]
  },
  {
   "cell_type": "code",
   "execution_count": 16,
   "metadata": {},
   "outputs": [
    {
     "name": "stdout",
     "output_type": "stream",
     "text": [
      "('mf6uzfexample', 'CBC', 'STO-SS')\n",
      "('mf6uzfexample', 'CBC', 'STO-SY')\n",
      "('mf6uzfexample', 'CBC', 'FLOW-JA-FACE')\n",
      "('mf6uzfexample', 'CBC', 'WEL')\n",
      "('mf6uzfexample', 'HDS', 'HEAD')\n"
     ]
    }
   ],
   "source": [
    "keys = sim.simulation_data.mfdata.output_keys()"
   ]
  },
  {
   "cell_type": "code",
   "execution_count": 19,
   "metadata": {},
   "outputs": [
    {
     "data": {
      "image/png": "[encoded data removed]",
      "text/plain": [
       "<Figure size 432x288 with 2 Axes>"
      ]
     },
     "metadata": {},
     "output_type": "display_data"
    }
   ],
   "source": [
    "import matplotlib.pyplot as plt\n",
    "import numpy as np\n",
    "\n",
    "# get all head data\n",
    "head = sim.simulation_data.mfdata['mf6uzfexample', 'HDS', 'HEAD']\n",
    "# get the head data from the end of the model run\n",
    "head_end = head[-1]\n",
    "# plot the head data from the end of the model run\n",
    "extent = (0.0, 80.0, 80.0, 0.0)\n",
    "#CS = plt.contour(head_end[0, :, :], extent=extent)\n",
    "#plt.grid(head_end[0,:,:])\n",
    "#plt.clabel(CS, inline=1, fontsize=10)\n",
    "plt.imshow(head_end[0,:,:], interpolation='nearest', cmap=plt.cm.ocean, extent=extent)\n",
    "plt.colorbar()\n",
    "plt.show()"
   ]
  },
  {
   "cell_type": "code",
   "execution_count": 20,
   "metadata": {},
   "outputs": [
    {
     "name": "stderr",
     "output_type": "stream",
     "text": [
      "C:\\WRDAPP\\Miniconda\\lib\\site-packages\\matplotlib\\cbook\\deprecation.py:107: MatplotlibDeprecationWarning: Adding an axes using the same arguments as a previous axes currently reuses the earlier instance.  In a future version, a new instance will always be created and returned.  Meanwhile, this warning can be suppressed, and the future behavior ensured, by passing a unique label to each axes instance.\n",
      "  warnings.warn(message, mplDeprecation, stacklevel=1)\n"
     ]
    },
    {
     "data": {
      "image/png": "[encoded data removed]",
      "text/plain": [
       "<Figure size 432x288 with 1 Axes>"
      ]
     },
     "metadata": {},
     "output_type": "display_data"
    }
   ],
   "source": [
    "# get all head data\n",
    "head = sim.simulation_data.mfdata['mf6uzfexample', 'HDS', 'HEAD']\n",
    "# get the head data from the end of the model run\n",
    "head_end = head[-1]\n",
    "# plot the head data from the end of the model run\n",
    "extent = (0.0, 80.0, 80.0, 0.0)\n",
    "plt.subplot(111)\n",
    "CS = plt.contour(head_end[0, :, :],extent=extent)\n",
    "plt.xlabel('Easting')\n",
    "plt.ylabel('Norting')\n",
    "plt.clabel(CS, inline=1, fontsize=10)\n",
    "plt.axes().set_aspect('equal')\n",
    "plt.show()"
   ]
  },
  {
   "cell_type": "code",
   "execution_count": null,
   "metadata": {},
   "outputs": [],
   "source": []
  }
 ],
 "metadata": {
  "kernelspec": {
   "display_name": "Python 3",
   "language": "python",
   "name": "python3"
  },
  "language_info": {
   "codemirror_mode": {
    "name": "ipython",
    "version": 3
   },
   "file_extension": ".py",
   "mimetype": "text/x-python",
   "name": "python",
   "nbconvert_exporter": "python",
   "pygments_lexer": "ipython3",
   "version": "3.6.5"
  }
 },
 "nbformat": 4,
 "nbformat_minor": 2
}
