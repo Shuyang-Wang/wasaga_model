{
 "cells": [
  {
   "cell_type": "markdown",
   "metadata": {},
   "source": [
    "https://flopy.readthedocs.io/en/3.3.2/_notebooks/tutorial01_mf6.html"
   ]
  },
  {
   "cell_type": "code",
   "execution_count": 253,
   "metadata": {},
   "outputs": [],
   "source": [
    "import flopy\n",
    "import numpy as np\n",
    "import matplotlib.pyplot as plt\n",
    "import shutil\n",
    "from pathlib import Path\n",
    "\n",
    "from datetime import datetime\n",
    "\n",
    "from tempfile import TemporaryDirectory\n",
    "from tempfile import mkdtemp\n",
    "import os\n",
    "import platform\n",
    "import subprocess\n",
    "\n",
    "from shapely.geometry import Polygon, Point"
   ]
  },
  {
   "cell_type": "code",
   "execution_count": 254,
   "metadata": {},
   "outputs": [],
   "source": [
    "import flopy\n",
    "import numpy as np\n",
    "import matplotlib.pyplot as plt\n",
    "import shutil\n",
    "from pathlib import Path\n",
    "import os\n",
    "from datetime import datetime\n",
    "\n",
    "from tempfile import TemporaryDirectory\n",
    "from tempfile import mkdtemp\n",
    "\n",
    "import os\n",
    "import platform\n",
    "import subprocess\n",
    "import numpy as np"
   ]
  },
  {
   "cell_type": "code",
   "execution_count": 255,
   "metadata": {},
   "outputs": [],
   "source": [
    "\n",
    "def change_array_within_polygon(array, row_coords, col_coords, value):\n",
    "\n",
    "    # Create a polygon object from the row and column coordinates\n",
    "    polygon = Polygon(zip(col_coords, row_coords))\n",
    "\n",
    "    # Create a boolean mask indicating which points fall within the polygon\n",
    "    mask = np.zeros_like(array, dtype=bool)\n",
    "    for row in range(array.shape[0]):\n",
    "        for col in range(array.shape[1]):\n",
    "            point = Point(col, row)\n",
    "            if polygon.contains(point) or polygon.intersects(point):\n",
    "                mask[row, col] = True\n",
    "\n",
    "    # Set the values of the array that fall within the polygon to the new value\n",
    "    array[mask] = value\n",
    "\n",
    "    return array\n"
   ]
  },
  {
   "cell_type": "code",
   "execution_count": 256,
   "metadata": {},
   "outputs": [],
   "source": [
    "def locate_ground_surface_lay(row=150):\n",
    "    cross_section = ibound[:,:,0]\n",
    "    lay = np.where(cross_section[:,row]==1)[0][0]\n",
    "    return lay\n",
    "\n",
    "def meter_to_col(col_meter):\n",
    "    return int(np.round(col_meter/delc,0))\n",
    "\n",
    "def meter_to_row(row_meter):\n",
    "    return int(np.round(row_meter/delc,0))\n",
    "\n",
    "def meter_to_lay(lay_meter):\n",
    "    return int(np.round((top_elev-lay_meter)/layer_thickness,0))\n",
    "\n",
    "\n",
    "def col_to_meter(col):\n",
    "    return col*delc\n",
    "\n",
    "def row_to_meter(row):\n",
    "    return row*delc\n",
    "\n",
    "def lay_to_meter(row):\n",
    "    return 190.0-row*layer_thickness"
   ]
  },
  {
   "cell_type": "code",
   "execution_count": null,
   "metadata": {},
   "outputs": [],
   "source": []
  },
  {
   "cell_type": "markdown",
   "metadata": {},
   "source": [
    "# Workspace"
   ]
  },
  {
   "cell_type": "code",
   "execution_count": 278,
   "metadata": {},
   "outputs": [],
   "source": [
    "myt = datetime.now().strftime('%m%d%H%M%S')\n",
    "name = 'wasaga'\n",
    "temp_dir = mkdtemp(prefix='_T{}_{}_'.format(myt,name))\n",
    "os.makedirs(Path(temp_dir) / '_output')\n",
    "model_ws = temp_dir\n",
    "\n",
    "\n",
    "def open_file(path):\n",
    "    if platform.system() == \"Windows\":\n",
    "        os.startfile(path)\n",
    "    elif platform.system() == \"Darwin\":\n",
    "        subprocess.Popen([\"open\", path])\n",
    "    else:\n",
    "        subprocess.Popen([\"xdg-open\", path])\n",
    "\n",
    "open_file(model_ws)"
   ]
  },
  {
   "cell_type": "code",
   "execution_count": null,
   "metadata": {},
   "outputs": [],
   "source": []
  },
  {
   "cell_type": "code",
   "execution_count": 279,
   "metadata": {},
   "outputs": [],
   "source": [
    "# name = \"wasaga_mf6\"\n",
    "# h1 = 100\n",
    "# h2 = 90\n",
    "# Nlay = 120\n",
    "# N = 440\n",
    "\n",
    "# L = 400.0\n",
    "# H = 50.0\n",
    "# k = 1.0"
   ]
  },
  {
   "cell_type": "code",
   "execution_count": 280,
   "metadata": {},
   "outputs": [],
   "source": [
    "name = \"wasaga_mf6\"\n",
    "\n",
    "# Define model dimensions\n",
    "nlay = int(60*1)\n",
    "nrow = int(220*1)\n",
    "ncol = int(220*1)\n",
    "delr = 2200/nrow  # Cell width along rows (extend 2200 / 220)\n",
    "delc = 2200/ncol  # Cell width along columns (extend 2200 / 220)\n",
    "\n",
    "# Define top elevation\n",
    "top_elev = 190.0\n",
    "\n",
    "# Define layer thickness (uniform thickness)\n",
    "layer_thickness = 30.0 / nlay\n",
    "\n",
    "perlen = 365\n",
    "nper = int(1)\n",
    "nstp = np.repeat(1,nper)\n",
    "steady = np.append(np.array([True]),np.repeat(False,nper-1))\n",
    "#steady=[False,False,True]"
   ]
  },
  {
   "cell_type": "code",
   "execution_count": null,
   "metadata": {},
   "outputs": [],
   "source": []
  },
  {
   "cell_type": "markdown",
   "metadata": {},
   "source": [
    "# SIM"
   ]
  },
  {
   "cell_type": "code",
   "execution_count": 281,
   "metadata": {},
   "outputs": [],
   "source": [
    "sim = flopy.mf6.MFSimulation(\n",
    "    sim_name=name, exe_name=\"mf6\", version=\"mf6\", sim_ws=model_ws)"
   ]
  },
  {
   "cell_type": "code",
   "execution_count": null,
   "metadata": {},
   "outputs": [],
   "source": []
  },
  {
   "cell_type": "markdown",
   "metadata": {},
   "source": [
    "# TDIS"
   ]
  },
  {
   "cell_type": "code",
   "execution_count": 282,
   "metadata": {},
   "outputs": [],
   "source": [
    "tdis = flopy.mf6.ModflowTdis(\n",
    "    sim, pname=\"tdis\", time_units=\"DAYS\", nper=1, perioddata=[(365.0, 1, 1.0)]\n",
    ")\n",
    "\n",
    "#perioddata ([perlen, nstp, tsmult])"
   ]
  },
  {
   "cell_type": "code",
   "execution_count": null,
   "metadata": {},
   "outputs": [],
   "source": []
  },
  {
   "cell_type": "markdown",
   "metadata": {},
   "source": [
    "# IMS"
   ]
  },
  {
   "cell_type": "code",
   "execution_count": 283,
   "metadata": {},
   "outputs": [],
   "source": [
    "ims = flopy.mf6.ModflowIms(sim, pname=\"ims\", complexity=\"SIMPLE\") # Iterative Model Solution"
   ]
  },
  {
   "cell_type": "markdown",
   "metadata": {},
   "source": [
    "# GWF"
   ]
  },
  {
   "cell_type": "code",
   "execution_count": 284,
   "metadata": {},
   "outputs": [],
   "source": [
    "model_nam_file = \"{}.nam\".format(name)\n",
    "gwf = flopy.mf6.ModflowGwf(sim, modelname=name, model_nam_file=model_nam_file)"
   ]
  },
  {
   "cell_type": "code",
   "execution_count": 285,
   "metadata": {},
   "outputs": [],
   "source": [
    "# bot = np.linspace(-H / Nlay, -H, Nlay)\n",
    "# delrow = delcol = L / (N - 1)\n",
    "# dis = flopy.mf6.ModflowGwfdis(\n",
    "#     gwf,\n",
    "#     nlay=Nlay,\n",
    "#     nrow=N,\n",
    "#     ncol=N,\n",
    "#     delr=delrow,\n",
    "#     delc=delcol,\n",
    "#     top=0.0,\n",
    "#     botm=bot,\n",
    "# )"
   ]
  },
  {
   "cell_type": "code",
   "execution_count": null,
   "metadata": {},
   "outputs": [],
   "source": []
  },
  {
   "cell_type": "code",
   "execution_count": 286,
   "metadata": {},
   "outputs": [
    {
     "data": {
      "image/png": "[encoded data removed]",
      "text/plain": [
       "<Figure size 1000x200 with 1 Axes>"
      ]
     },
     "metadata": {},
     "output_type": "display_data"
    },
    {
     "data": {
      "image/png": "[encoded data removed]",
      "text/plain": [
       "<Figure size 1000x200 with 1 Axes>"
      ]
     },
     "metadata": {},
     "output_type": "display_data"
    }
   ],
   "source": [
    "from scipy.interpolate import make_interp_spline\n",
    "\n",
    "x = np.array([0, 100, 340, 600, 750, 850, 1100, 1350, 1450, 1530, 1650, 1750, 1850, 2050, 2200])\n",
    "y_topo = np.array([190,190,187,184,184,184,183,182,179,175.5,175,173.8,173.5,172,171])#topo\n",
    "y_clay = np.array([185,184,180,175,174,174,173,170,169,168.5,167.5,166.8,166.5,165,164]) #clay\n",
    "\n",
    "\n",
    "\n",
    "# Interpolate the data using smoothing splines\n",
    "spl = make_interp_spline(x, y_topo)\n",
    "x_smooth_topo = np.linspace(x.min(), x.max(), 30)\n",
    "y_smooth_topo = spl(x_smooth_topo)\n",
    "\n",
    "col_coords = (x_smooth_topo/delr).round(0)\n",
    "col_coords_topo = list(col_coords) +[nrow,0]\n",
    "\n",
    "row_coords = ((top_elev - y_smooth_topo)/layer_thickness).round(0)\n",
    "row_coords_topo  =  list(row_coords) +[0,0]\n",
    "\n",
    "\n",
    "\n",
    "# Interpolate the data using smoothing splines\n",
    "spl = make_interp_spline(x, y_clay)\n",
    "x_smooth = np.linspace(x.min(), x.max(), 30)\n",
    "y_smooth = spl(x_smooth)\n",
    "\n",
    "col_coords = (x_smooth/delr).round(0)\n",
    "col_coords_clay = list(col_coords) +[nrow,0]\n",
    "row_coords = ((top_elev - y_smooth)/layer_thickness).round(0)\n",
    "row_coords_clay  =  list(row_coords) +[nlay,nlay]\n",
    "\n",
    "\n",
    "\n",
    "\n",
    "plt.scatter(x, y_topo)\n",
    "plt.plot(x_smooth_topo, y_smooth_topo)\n",
    "\n",
    "# Plot the original data and the smooth curve\n",
    "plt.scatter(x, y_clay)\n",
    "plt.plot(x_smooth, y_smooth)\n",
    "\n",
    "\n",
    "plt.gcf().set_size_inches(10,2)\n",
    "# Show the plot\n",
    "plt.show()\n",
    "\n",
    "\n",
    "plt.plot(col_coords_topo,row_coords_topo)\n",
    "plt.scatter(col_coords_topo,row_coords_topo)\n",
    "\n",
    "plt.plot(col_coords_clay,row_coords_clay)\n",
    "plt.scatter(col_coords_clay,row_coords_clay)\n",
    "\n",
    "plt.gca().invert_yaxis()\n",
    "plt.gcf().set_size_inches(10,2)"
   ]
  },
  {
   "cell_type": "code",
   "execution_count": 287,
   "metadata": {},
   "outputs": [
    {
     "name": "stdout",
     "output_type": "stream",
     "text": [
      "185.5\n",
      "186.0\n",
      "186.5\n"
     ]
    },
    {
     "data": {
      "image/png": "[encoded data removed]",
      "text/plain": [
       "<Figure size 1500x1000 with 2 Axes>"
      ]
     },
     "metadata": {},
     "output_type": "display_data"
    },
    {
     "data": {
      "image/png": "[encoded data removed]",
      "text/plain": [
       "<Figure size 1500x1000 with 2 Axes>"
      ]
     },
     "metadata": {},
     "output_type": "display_data"
    }
   ],
   "source": [
    "\n",
    "# Define ibound and initial conditionsa\n",
    "ibound = np.ones((nlay, nrow, ncol), dtype=int)\n",
    "initial_head = np.full((nlay, nrow, ncol), 190.0, dtype=float)\n",
    "\n",
    "# Set constant head boundary conditions for the first and last rows\n",
    "array = change_array_within_polygon(ibound, row_coords_topo, col_coords_topo, 0)\n",
    "plt.scatter(col_coords_topo,row_coords_topo,c='r')\n",
    "\n",
    "\n",
    "array = change_array_within_polygon(ibound, row_coords_clay, col_coords_clay, 0)\n",
    "plt.scatter(col_coords,row_coords,c='r')\n",
    "\n",
    "\n",
    "\n",
    "ibound_2 = ibound.copy()\n",
    "for c in range(0,1):\n",
    "    i = np.where(ibound[:,c,-1]==1)[0][-1]\n",
    "    head = top_elev-i*layer_thickness\n",
    "    #print('head {}'.format(head))\n",
    "    \n",
    "    while head<187:\n",
    "        ibound_2[i,c,:] = 2\n",
    "        #print(i,c)\n",
    "        #initial_head[i,c,:] = head+0.5\n",
    "        print(head)\n",
    "        initial_head[i,c,:] = 187\n",
    "        head+=layer_thickness\n",
    "        i-=1\n",
    "\n",
    "\n",
    "lay = np.where(ibound[:,int(1700/delr),-1])[0][0]\n",
    "elv = lay_to_meter(lay)\n",
    "head = elv\n",
    "for c in range(int(1700/delr),int(2200/delr)):\n",
    "    lay = np.where(ibound[:,c,-1]==1)[0][0]\n",
    "    #print(lay,lay_to_meter(lay))\n",
    "    #ibound[lay,c,:] = -1\n",
    "    #initial_head[lay,c,:] = elv\n",
    "\n",
    "# Your existing code\n",
    "im = plt.imshow(ibound[:,:,2], origin='upper', aspect=1)\n",
    "plt.axvline(x=meter_to_col(1700))# shoreline\n",
    "plt.gcf().set_size_inches(15,10)\n",
    "\n",
    "# Set the y-axis tick positions and labels\n",
    "#plt.yticks([0, 10,20, 30,40, 50,60], ['190m (0L)','185m (10L)', '180m (20L)','175m (30L)', '170m (40L)', '165m (50L)','160m (60L)'])\n",
    "\n",
    "# Add a horizontal colorbar\n",
    "cbar = plt.colorbar(im, orientation='horizontal')\n",
    "cbar.ax.tick_params(labelsize=16)\n",
    "cbar.set_label('Colorbar Label', fontsize=16)\n",
    "\n",
    "# Display the plot\n",
    "plt.title('ibound')\n",
    "plt.grid()\n",
    "plt.show()\n",
    "\n",
    "\n",
    "fig, ax = plt.subplots(figsize=(15, 10))\n",
    "im = ax.imshow(initial_head[:, :, 0], origin='upper')\n",
    "\n",
    "# Add a horizontal colorbar\n",
    "cbar = plt.colorbar(im, orientation='horizontal')\n",
    "cbar.ax.tick_params(labelsize=18)\n",
    "plt.title('initial head')\n",
    "plt.show()\n",
    "\n"
   ]
  },
  {
   "cell_type": "code",
   "execution_count": null,
   "metadata": {},
   "outputs": [],
   "source": []
  },
  {
   "cell_type": "markdown",
   "metadata": {},
   "source": [
    "# DIS"
   ]
  },
  {
   "cell_type": "code",
   "execution_count": 288,
   "metadata": {},
   "outputs": [],
   "source": [
    "dis = flopy.mf6.ModflowGwfdis(\n",
    "    gwf,\n",
    "    nlay=nlay,\n",
    "    nrow=nrow,\n",
    "    ncol=ncol,\n",
    "    delr=delr,\n",
    "    delc=delc,\n",
    "    top=190.0,\n",
    "    botm=[top_elev - (i * layer_thickness) for i in range(1, nlay + 1)],\n",
    "    idomain=ibound\n",
    ")"
   ]
  },
  {
   "cell_type": "markdown",
   "metadata": {},
   "source": [
    "# IC"
   ]
  },
  {
   "cell_type": "code",
   "execution_count": 289,
   "metadata": {},
   "outputs": [],
   "source": [
    "#start = h1 * np.ones((Nlay, N, N))\n",
    "ic = flopy.mf6.ModflowGwfic(gwf, pname=\"ic\", strt=190)"
   ]
  },
  {
   "cell_type": "code",
   "execution_count": 290,
   "metadata": {},
   "outputs": [],
   "source": [
    "npf = flopy.mf6.ModflowGwfnpf(gwf, icelltype=1, k=6.9/3, save_flows=True)"
   ]
  },
  {
   "cell_type": "markdown",
   "metadata": {},
   "source": [
    "# CHD"
   ]
  },
  {
   "cell_type": "code",
   "execution_count": 291,
   "metadata": {},
   "outputs": [],
   "source": [
    "# N = 220\n",
    "# Nlay =60\n",
    "# h1 = 100\n",
    "# h2 =90\n",
    "# chd_rec = []\n",
    "# chd_rec.append(((0, int(N / 4), int(N / 4)), h2))\n",
    "# for layer in range(0, Nlay):\n",
    "#     for row_col in range(0, N):\n",
    "#         chd_rec.append(((layer, row_col, 0), h1))\n",
    "#         chd_rec.append(((layer, row_col, N - 1), h1))\n",
    "#         if row_col != 0 and row_col != N - 1:\n",
    "#             chd_rec.append(((layer, 0, row_col), h1))\n",
    "#             chd_rec.append(((layer, N - 1, row_col), h1))"
   ]
  },
  {
   "cell_type": "code",
   "execution_count": 292,
   "metadata": {},
   "outputs": [],
   "source": [
    "cellids = np.array([np.where(ibound_2==2)])[0].T\n",
    "chd_rec = {}\n",
    "chd_rec[0] = [(tuple(i),187.0 )for i in cellids]"
   ]
  },
  {
   "cell_type": "code",
   "execution_count": 293,
   "metadata": {},
   "outputs": [],
   "source": [
    "\n",
    "chd = flopy.mf6.ModflowGwfchd(\n",
    "    gwf,\n",
    "    maxbound=len(chd_rec),\n",
    "    stress_period_data=chd_rec,\n",
    "    save_flows=True,\n",
    ")"
   ]
  },
  {
   "cell_type": "code",
   "execution_count": 294,
   "metadata": {},
   "outputs": [
    {
     "data": {
      "text/plain": [
       "rec.array([((7, 0, 0), 187.), ((7, 0, 1), 187.), ((7, 0, 2), 187.),\n",
       "           ((7, 0, 3), 187.), ((7, 0, 4), 187.), ((7, 0, 5), 187.),\n",
       "           ((7, 0, 6), 187.), ((7, 0, 7), 187.), ((7, 0, 8), 187.),\n",
       "           ((7, 0, 9), 187.), ((7, 0, 10), 187.), ((7, 0, 11), 187.),\n",
       "           ((7, 0, 12), 187.), ((7, 0, 13), 187.), ((7, 0, 14), 187.),\n",
       "           ((7, 0, 15), 187.), ((7, 0, 16), 187.), ((7, 0, 17), 187.),\n",
       "           ((7, 0, 18), 187.), ((7, 0, 19), 187.), ((7, 0, 20), 187.),\n",
       "           ((7, 0, 21), 187.), ((7, 0, 22), 187.), ((7, 0, 23), 187.),\n",
       "           ((7, 0, 24), 187.), ((7, 0, 25), 187.), ((7, 0, 26), 187.),\n",
       "           ((7, 0, 27), 187.), ((7, 0, 28), 187.), ((7, 0, 29), 187.),\n",
       "           ((7, 0, 30), 187.), ((7, 0, 31), 187.), ((7, 0, 32), 187.),\n",
       "           ((7, 0, 33), 187.), ((7, 0, 34), 187.), ((7, 0, 35), 187.),\n",
       "           ((7, 0, 36), 187.), ((7, 0, 37), 187.), ((7, 0, 38), 187.),\n",
       "           ((7, 0, 39), 187.), ((7, 0, 40), 187.), ((7, 0, 41), 187.),\n",
       "           ((7, 0, 42), 187.), ((7, 0, 43), 187.), ((7, 0, 44), 187.),\n",
       "           ((7, 0, 45), 187.), ((7, 0, 46), 187.), ((7, 0, 47), 187.),\n",
       "           ((7, 0, 48), 187.), ((7, 0, 49), 187.), ((7, 0, 50), 187.),\n",
       "           ((7, 0, 51), 187.), ((7, 0, 52), 187.), ((7, 0, 53), 187.),\n",
       "           ((7, 0, 54), 187.), ((7, 0, 55), 187.), ((7, 0, 56), 187.),\n",
       "           ((7, 0, 57), 187.), ((7, 0, 58), 187.), ((7, 0, 59), 187.),\n",
       "           ((7, 0, 60), 187.), ((7, 0, 61), 187.), ((7, 0, 62), 187.),\n",
       "           ((7, 0, 63), 187.), ((7, 0, 64), 187.), ((7, 0, 65), 187.),\n",
       "           ((7, 0, 66), 187.), ((7, 0, 67), 187.), ((7, 0, 68), 187.),\n",
       "           ((7, 0, 69), 187.), ((7, 0, 70), 187.), ((7, 0, 71), 187.),\n",
       "           ((7, 0, 72), 187.), ((7, 0, 73), 187.), ((7, 0, 74), 187.),\n",
       "           ((7, 0, 75), 187.), ((7, 0, 76), 187.), ((7, 0, 77), 187.),\n",
       "           ((7, 0, 78), 187.), ((7, 0, 79), 187.), ((7, 0, 80), 187.),\n",
       "           ((7, 0, 81), 187.), ((7, 0, 82), 187.), ((7, 0, 83), 187.),\n",
       "           ((7, 0, 84), 187.), ((7, 0, 85), 187.), ((7, 0, 86), 187.),\n",
       "           ((7, 0, 87), 187.), ((7, 0, 88), 187.), ((7, 0, 89), 187.),\n",
       "           ((7, 0, 90), 187.), ((7, 0, 91), 187.), ((7, 0, 92), 187.),\n",
       "           ((7, 0, 93), 187.), ((7, 0, 94), 187.), ((7, 0, 95), 187.),\n",
       "           ((7, 0, 96), 187.), ((7, 0, 97), 187.), ((7, 0, 98), 187.),\n",
       "           ((7, 0, 99), 187.), ((7, 0, 100), 187.), ((7, 0, 101), 187.),\n",
       "           ((7, 0, 102), 187.), ((7, 0, 103), 187.), ((7, 0, 104), 187.),\n",
       "           ((7, 0, 105), 187.), ((7, 0, 106), 187.), ((7, 0, 107), 187.),\n",
       "           ((7, 0, 108), 187.), ((7, 0, 109), 187.), ((7, 0, 110), 187.),\n",
       "           ((7, 0, 111), 187.), ((7, 0, 112), 187.), ((7, 0, 113), 187.),\n",
       "           ((7, 0, 114), 187.), ((7, 0, 115), 187.), ((7, 0, 116), 187.),\n",
       "           ((7, 0, 117), 187.), ((7, 0, 118), 187.), ((7, 0, 119), 187.),\n",
       "           ((7, 0, 120), 187.), ((7, 0, 121), 187.), ((7, 0, 122), 187.),\n",
       "           ((7, 0, 123), 187.), ((7, 0, 124), 187.), ((7, 0, 125), 187.),\n",
       "           ((7, 0, 126), 187.), ((7, 0, 127), 187.), ((7, 0, 128), 187.),\n",
       "           ((7, 0, 129), 187.), ((7, 0, 130), 187.), ((7, 0, 131), 187.),\n",
       "           ((7, 0, 132), 187.), ((7, 0, 133), 187.), ((7, 0, 134), 187.),\n",
       "           ((7, 0, 135), 187.), ((7, 0, 136), 187.), ((7, 0, 137), 187.),\n",
       "           ((7, 0, 138), 187.), ((7, 0, 139), 187.), ((7, 0, 140), 187.),\n",
       "           ((7, 0, 141), 187.), ((7, 0, 142), 187.), ((7, 0, 143), 187.),\n",
       "           ((7, 0, 144), 187.), ((7, 0, 145), 187.), ((7, 0, 146), 187.),\n",
       "           ((7, 0, 147), 187.), ((7, 0, 148), 187.), ((7, 0, 149), 187.),\n",
       "           ((7, 0, 150), 187.), ((7, 0, 151), 187.), ((7, 0, 152), 187.),\n",
       "           ((7, 0, 153), 187.), ((7, 0, 154), 187.), ((7, 0, 155), 187.),\n",
       "           ((7, 0, 156), 187.), ((7, 0, 157), 187.), ((7, 0, 158), 187.),\n",
       "           ((7, 0, 159), 187.), ((7, 0, 160), 187.), ((7, 0, 161), 187.),\n",
       "           ((7, 0, 162), 187.), ((7, 0, 163), 187.), ((7, 0, 164), 187.),\n",
       "           ((7, 0, 165), 187.), ((7, 0, 166), 187.), ((7, 0, 167), 187.),\n",
       "           ((7, 0, 168), 187.), ((7, 0, 169), 187.), ((7, 0, 170), 187.),\n",
       "           ((7, 0, 171), 187.), ((7, 0, 172), 187.), ((7, 0, 173), 187.),\n",
       "           ((7, 0, 174), 187.), ((7, 0, 175), 187.), ((7, 0, 176), 187.),\n",
       "           ((7, 0, 177), 187.), ((7, 0, 178), 187.), ((7, 0, 179), 187.),\n",
       "           ((7, 0, 180), 187.), ((7, 0, 181), 187.), ((7, 0, 182), 187.),\n",
       "           ((7, 0, 183), 187.), ((7, 0, 184), 187.), ((7, 0, 185), 187.),\n",
       "           ((7, 0, 186), 187.), ((7, 0, 187), 187.), ((7, 0, 188), 187.),\n",
       "           ((7, 0, 189), 187.), ((7, 0, 190), 187.), ((7, 0, 191), 187.),\n",
       "           ((7, 0, 192), 187.), ((7, 0, 193), 187.), ((7, 0, 194), 187.),\n",
       "           ((7, 0, 195), 187.), ((7, 0, 196), 187.), ((7, 0, 197), 187.),\n",
       "           ((7, 0, 198), 187.), ((7, 0, 199), 187.), ((7, 0, 200), 187.),\n",
       "           ((7, 0, 201), 187.), ((7, 0, 202), 187.), ((7, 0, 203), 187.),\n",
       "           ((7, 0, 204), 187.), ((7, 0, 205), 187.), ((7, 0, 206), 187.),\n",
       "           ((7, 0, 207), 187.), ((7, 0, 208), 187.), ((7, 0, 209), 187.),\n",
       "           ((7, 0, 210), 187.), ((7, 0, 211), 187.), ((7, 0, 212), 187.),\n",
       "           ((7, 0, 213), 187.), ((7, 0, 214), 187.), ((7, 0, 215), 187.),\n",
       "           ((7, 0, 216), 187.), ((7, 0, 217), 187.), ((7, 0, 218), 187.),\n",
       "           ((7, 0, 219), 187.), ((8, 0, 0), 187.), ((8, 0, 1), 187.),\n",
       "           ((8, 0, 2), 187.), ((8, 0, 3), 187.), ((8, 0, 4), 187.),\n",
       "           ((8, 0, 5), 187.), ((8, 0, 6), 187.), ((8, 0, 7), 187.),\n",
       "           ((8, 0, 8), 187.), ((8, 0, 9), 187.), ((8, 0, 10), 187.),\n",
       "           ((8, 0, 11), 187.), ((8, 0, 12), 187.), ((8, 0, 13), 187.),\n",
       "           ((8, 0, 14), 187.), ((8, 0, 15), 187.), ((8, 0, 16), 187.),\n",
       "           ((8, 0, 17), 187.), ((8, 0, 18), 187.), ((8, 0, 19), 187.),\n",
       "           ((8, 0, 20), 187.), ((8, 0, 21), 187.), ((8, 0, 22), 187.),\n",
       "           ((8, 0, 23), 187.), ((8, 0, 24), 187.), ((8, 0, 25), 187.),\n",
       "           ((8, 0, 26), 187.), ((8, 0, 27), 187.), ((8, 0, 28), 187.),\n",
       "           ((8, 0, 29), 187.), ((8, 0, 30), 187.), ((8, 0, 31), 187.),\n",
       "           ((8, 0, 32), 187.), ((8, 0, 33), 187.), ((8, 0, 34), 187.),\n",
       "           ((8, 0, 35), 187.), ((8, 0, 36), 187.), ((8, 0, 37), 187.),\n",
       "           ((8, 0, 38), 187.), ((8, 0, 39), 187.), ((8, 0, 40), 187.),\n",
       "           ((8, 0, 41), 187.), ((8, 0, 42), 187.), ((8, 0, 43), 187.),\n",
       "           ((8, 0, 44), 187.), ((8, 0, 45), 187.), ((8, 0, 46), 187.),\n",
       "           ((8, 0, 47), 187.), ((8, 0, 48), 187.), ((8, 0, 49), 187.),\n",
       "           ((8, 0, 50), 187.), ((8, 0, 51), 187.), ((8, 0, 52), 187.),\n",
       "           ((8, 0, 53), 187.), ((8, 0, 54), 187.), ((8, 0, 55), 187.),\n",
       "           ((8, 0, 56), 187.), ((8, 0, 57), 187.), ((8, 0, 58), 187.),\n",
       "           ((8, 0, 59), 187.), ((8, 0, 60), 187.), ((8, 0, 61), 187.),\n",
       "           ((8, 0, 62), 187.), ((8, 0, 63), 187.), ((8, 0, 64), 187.),\n",
       "           ((8, 0, 65), 187.), ((8, 0, 66), 187.), ((8, 0, 67), 187.),\n",
       "           ((8, 0, 68), 187.), ((8, 0, 69), 187.), ((8, 0, 70), 187.),\n",
       "           ((8, 0, 71), 187.), ((8, 0, 72), 187.), ((8, 0, 73), 187.),\n",
       "           ((8, 0, 74), 187.), ((8, 0, 75), 187.), ((8, 0, 76), 187.),\n",
       "           ((8, 0, 77), 187.), ((8, 0, 78), 187.), ((8, 0, 79), 187.),\n",
       "           ((8, 0, 80), 187.), ((8, 0, 81), 187.), ((8, 0, 82), 187.),\n",
       "           ((8, 0, 83), 187.), ((8, 0, 84), 187.), ((8, 0, 85), 187.),\n",
       "           ((8, 0, 86), 187.), ((8, 0, 87), 187.), ((8, 0, 88), 187.),\n",
       "           ((8, 0, 89), 187.), ((8, 0, 90), 187.), ((8, 0, 91), 187.),\n",
       "           ((8, 0, 92), 187.), ((8, 0, 93), 187.), ((8, 0, 94), 187.),\n",
       "           ((8, 0, 95), 187.), ((8, 0, 96), 187.), ((8, 0, 97), 187.),\n",
       "           ((8, 0, 98), 187.), ((8, 0, 99), 187.), ((8, 0, 100), 187.),\n",
       "           ((8, 0, 101), 187.), ((8, 0, 102), 187.), ((8, 0, 103), 187.),\n",
       "           ((8, 0, 104), 187.), ((8, 0, 105), 187.), ((8, 0, 106), 187.),\n",
       "           ((8, 0, 107), 187.), ((8, 0, 108), 187.), ((8, 0, 109), 187.),\n",
       "           ((8, 0, 110), 187.), ((8, 0, 111), 187.), ((8, 0, 112), 187.),\n",
       "           ((8, 0, 113), 187.), ((8, 0, 114), 187.), ((8, 0, 115), 187.),\n",
       "           ((8, 0, 116), 187.), ((8, 0, 117), 187.), ((8, 0, 118), 187.),\n",
       "           ((8, 0, 119), 187.), ((8, 0, 120), 187.), ((8, 0, 121), 187.),\n",
       "           ((8, 0, 122), 187.), ((8, 0, 123), 187.), ((8, 0, 124), 187.),\n",
       "           ((8, 0, 125), 187.), ((8, 0, 126), 187.), ((8, 0, 127), 187.),\n",
       "           ((8, 0, 128), 187.), ((8, 0, 129), 187.), ((8, 0, 130), 187.),\n",
       "           ((8, 0, 131), 187.), ((8, 0, 132), 187.), ((8, 0, 133), 187.),\n",
       "           ((8, 0, 134), 187.), ((8, 0, 135), 187.), ((8, 0, 136), 187.),\n",
       "           ((8, 0, 137), 187.), ((8, 0, 138), 187.), ((8, 0, 139), 187.),\n",
       "           ((8, 0, 140), 187.), ((8, 0, 141), 187.), ((8, 0, 142), 187.),\n",
       "           ((8, 0, 143), 187.), ((8, 0, 144), 187.), ((8, 0, 145), 187.),\n",
       "           ((8, 0, 146), 187.), ((8, 0, 147), 187.), ((8, 0, 148), 187.),\n",
       "           ((8, 0, 149), 187.), ((8, 0, 150), 187.), ((8, 0, 151), 187.),\n",
       "           ((8, 0, 152), 187.), ((8, 0, 153), 187.), ((8, 0, 154), 187.),\n",
       "           ((8, 0, 155), 187.), ((8, 0, 156), 187.), ((8, 0, 157), 187.),\n",
       "           ((8, 0, 158), 187.), ((8, 0, 159), 187.), ((8, 0, 160), 187.),\n",
       "           ((8, 0, 161), 187.), ((8, 0, 162), 187.), ((8, 0, 163), 187.),\n",
       "           ((8, 0, 164), 187.), ((8, 0, 165), 187.), ((8, 0, 166), 187.),\n",
       "           ((8, 0, 167), 187.), ((8, 0, 168), 187.), ((8, 0, 169), 187.),\n",
       "           ((8, 0, 170), 187.), ((8, 0, 171), 187.), ((8, 0, 172), 187.),\n",
       "           ((8, 0, 173), 187.), ((8, 0, 174), 187.), ((8, 0, 175), 187.),\n",
       "           ((8, 0, 176), 187.), ((8, 0, 177), 187.), ((8, 0, 178), 187.),\n",
       "           ((8, 0, 179), 187.), ((8, 0, 180), 187.), ((8, 0, 181), 187.),\n",
       "           ((8, 0, 182), 187.), ((8, 0, 183), 187.), ((8, 0, 184), 187.),\n",
       "           ((8, 0, 185), 187.), ((8, 0, 186), 187.), ((8, 0, 187), 187.),\n",
       "           ((8, 0, 188), 187.), ((8, 0, 189), 187.), ((8, 0, 190), 187.),\n",
       "           ((8, 0, 191), 187.), ((8, 0, 192), 187.), ((8, 0, 193), 187.),\n",
       "           ((8, 0, 194), 187.), ((8, 0, 195), 187.), ((8, 0, 196), 187.),\n",
       "           ((8, 0, 197), 187.), ((8, 0, 198), 187.), ((8, 0, 199), 187.),\n",
       "           ((8, 0, 200), 187.), ((8, 0, 201), 187.), ((8, 0, 202), 187.),\n",
       "           ((8, 0, 203), 187.), ((8, 0, 204), 187.), ((8, 0, 205), 187.),\n",
       "           ((8, 0, 206), 187.), ((8, 0, 207), 187.), ((8, 0, 208), 187.),\n",
       "           ((8, 0, 209), 187.), ((8, 0, 210), 187.), ((8, 0, 211), 187.),\n",
       "           ((8, 0, 212), 187.), ((8, 0, 213), 187.), ((8, 0, 214), 187.),\n",
       "           ((8, 0, 215), 187.), ((8, 0, 216), 187.), ((8, 0, 217), 187.),\n",
       "           ((8, 0, 218), 187.), ((8, 0, 219), 187.), ((9, 0, 0), 187.),\n",
       "           ((9, 0, 1), 187.), ((9, 0, 2), 187.), ((9, 0, 3), 187.),\n",
       "           ((9, 0, 4), 187.), ((9, 0, 5), 187.), ((9, 0, 6), 187.),\n",
       "           ((9, 0, 7), 187.), ((9, 0, 8), 187.), ((9, 0, 9), 187.),\n",
       "           ((9, 0, 10), 187.), ((9, 0, 11), 187.), ((9, 0, 12), 187.),\n",
       "           ((9, 0, 13), 187.), ((9, 0, 14), 187.), ((9, 0, 15), 187.),\n",
       "           ((9, 0, 16), 187.), ((9, 0, 17), 187.), ((9, 0, 18), 187.),\n",
       "           ((9, 0, 19), 187.), ((9, 0, 20), 187.), ((9, 0, 21), 187.),\n",
       "           ((9, 0, 22), 187.), ((9, 0, 23), 187.), ((9, 0, 24), 187.),\n",
       "           ((9, 0, 25), 187.), ((9, 0, 26), 187.), ((9, 0, 27), 187.),\n",
       "           ((9, 0, 28), 187.), ((9, 0, 29), 187.), ((9, 0, 30), 187.),\n",
       "           ((9, 0, 31), 187.), ((9, 0, 32), 187.), ((9, 0, 33), 187.),\n",
       "           ((9, 0, 34), 187.), ((9, 0, 35), 187.), ((9, 0, 36), 187.),\n",
       "           ((9, 0, 37), 187.), ((9, 0, 38), 187.), ((9, 0, 39), 187.),\n",
       "           ((9, 0, 40), 187.), ((9, 0, 41), 187.), ((9, 0, 42), 187.),\n",
       "           ((9, 0, 43), 187.), ((9, 0, 44), 187.), ((9, 0, 45), 187.),\n",
       "           ((9, 0, 46), 187.), ((9, 0, 47), 187.), ((9, 0, 48), 187.),\n",
       "           ((9, 0, 49), 187.), ((9, 0, 50), 187.), ((9, 0, 51), 187.),\n",
       "           ((9, 0, 52), 187.), ((9, 0, 53), 187.), ((9, 0, 54), 187.),\n",
       "           ((9, 0, 55), 187.), ((9, 0, 56), 187.), ((9, 0, 57), 187.),\n",
       "           ((9, 0, 58), 187.), ((9, 0, 59), 187.), ((9, 0, 60), 187.),\n",
       "           ((9, 0, 61), 187.), ((9, 0, 62), 187.), ((9, 0, 63), 187.),\n",
       "           ((9, 0, 64), 187.), ((9, 0, 65), 187.), ((9, 0, 66), 187.),\n",
       "           ((9, 0, 67), 187.), ((9, 0, 68), 187.), ((9, 0, 69), 187.),\n",
       "           ((9, 0, 70), 187.), ((9, 0, 71), 187.), ((9, 0, 72), 187.),\n",
       "           ((9, 0, 73), 187.), ((9, 0, 74), 187.), ((9, 0, 75), 187.),\n",
       "           ((9, 0, 76), 187.), ((9, 0, 77), 187.), ((9, 0, 78), 187.),\n",
       "           ((9, 0, 79), 187.), ((9, 0, 80), 187.), ((9, 0, 81), 187.),\n",
       "           ((9, 0, 82), 187.), ((9, 0, 83), 187.), ((9, 0, 84), 187.),\n",
       "           ((9, 0, 85), 187.), ((9, 0, 86), 187.), ((9, 0, 87), 187.),\n",
       "           ((9, 0, 88), 187.), ((9, 0, 89), 187.), ((9, 0, 90), 187.),\n",
       "           ((9, 0, 91), 187.), ((9, 0, 92), 187.), ((9, 0, 93), 187.),\n",
       "           ((9, 0, 94), 187.), ((9, 0, 95), 187.), ((9, 0, 96), 187.),\n",
       "           ((9, 0, 97), 187.), ((9, 0, 98), 187.), ((9, 0, 99), 187.),\n",
       "           ((9, 0, 100), 187.), ((9, 0, 101), 187.), ((9, 0, 102), 187.),\n",
       "           ((9, 0, 103), 187.), ((9, 0, 104), 187.), ((9, 0, 105), 187.),\n",
       "           ((9, 0, 106), 187.), ((9, 0, 107), 187.), ((9, 0, 108), 187.),\n",
       "           ((9, 0, 109), 187.), ((9, 0, 110), 187.), ((9, 0, 111), 187.),\n",
       "           ((9, 0, 112), 187.), ((9, 0, 113), 187.), ((9, 0, 114), 187.),\n",
       "           ((9, 0, 115), 187.), ((9, 0, 116), 187.), ((9, 0, 117), 187.),\n",
       "           ((9, 0, 118), 187.), ((9, 0, 119), 187.), ((9, 0, 120), 187.),\n",
       "           ((9, 0, 121), 187.), ((9, 0, 122), 187.), ((9, 0, 123), 187.),\n",
       "           ((9, 0, 124), 187.), ((9, 0, 125), 187.), ((9, 0, 126), 187.),\n",
       "           ((9, 0, 127), 187.), ((9, 0, 128), 187.), ((9, 0, 129), 187.),\n",
       "           ((9, 0, 130), 187.), ((9, 0, 131), 187.), ((9, 0, 132), 187.),\n",
       "           ((9, 0, 133), 187.), ((9, 0, 134), 187.), ((9, 0, 135), 187.),\n",
       "           ((9, 0, 136), 187.), ((9, 0, 137), 187.), ((9, 0, 138), 187.),\n",
       "           ((9, 0, 139), 187.), ((9, 0, 140), 187.), ((9, 0, 141), 187.),\n",
       "           ((9, 0, 142), 187.), ((9, 0, 143), 187.), ((9, 0, 144), 187.),\n",
       "           ((9, 0, 145), 187.), ((9, 0, 146), 187.), ((9, 0, 147), 187.),\n",
       "           ((9, 0, 148), 187.), ((9, 0, 149), 187.), ((9, 0, 150), 187.),\n",
       "           ((9, 0, 151), 187.), ((9, 0, 152), 187.), ((9, 0, 153), 187.),\n",
       "           ((9, 0, 154), 187.), ((9, 0, 155), 187.), ((9, 0, 156), 187.),\n",
       "           ((9, 0, 157), 187.), ((9, 0, 158), 187.), ((9, 0, 159), 187.),\n",
       "           ((9, 0, 160), 187.), ((9, 0, 161), 187.), ((9, 0, 162), 187.),\n",
       "           ((9, 0, 163), 187.), ((9, 0, 164), 187.), ((9, 0, 165), 187.),\n",
       "           ((9, 0, 166), 187.), ((9, 0, 167), 187.), ((9, 0, 168), 187.),\n",
       "           ((9, 0, 169), 187.), ((9, 0, 170), 187.), ((9, 0, 171), 187.),\n",
       "           ((9, 0, 172), 187.), ((9, 0, 173), 187.), ((9, 0, 174), 187.),\n",
       "           ((9, 0, 175), 187.), ((9, 0, 176), 187.), ((9, 0, 177), 187.),\n",
       "           ((9, 0, 178), 187.), ((9, 0, 179), 187.), ((9, 0, 180), 187.),\n",
       "           ((9, 0, 181), 187.), ((9, 0, 182), 187.), ((9, 0, 183), 187.),\n",
       "           ((9, 0, 184), 187.), ((9, 0, 185), 187.), ((9, 0, 186), 187.),\n",
       "           ((9, 0, 187), 187.), ((9, 0, 188), 187.), ((9, 0, 189), 187.),\n",
       "           ((9, 0, 190), 187.), ((9, 0, 191), 187.), ((9, 0, 192), 187.),\n",
       "           ((9, 0, 193), 187.), ((9, 0, 194), 187.), ((9, 0, 195), 187.),\n",
       "           ((9, 0, 196), 187.), ((9, 0, 197), 187.), ((9, 0, 198), 187.),\n",
       "           ((9, 0, 199), 187.), ((9, 0, 200), 187.), ((9, 0, 201), 187.),\n",
       "           ((9, 0, 202), 187.), ((9, 0, 203), 187.), ((9, 0, 204), 187.),\n",
       "           ((9, 0, 205), 187.), ((9, 0, 206), 187.), ((9, 0, 207), 187.),\n",
       "           ((9, 0, 208), 187.), ((9, 0, 209), 187.), ((9, 0, 210), 187.),\n",
       "           ((9, 0, 211), 187.), ((9, 0, 212), 187.), ((9, 0, 213), 187.),\n",
       "           ((9, 0, 214), 187.), ((9, 0, 215), 187.), ((9, 0, 216), 187.),\n",
       "           ((9, 0, 217), 187.), ((9, 0, 218), 187.), ((9, 0, 219), 187.)],\n",
       "          dtype=[('cellid', 'O'), ('head', '<f8')])"
      ]
     },
     "execution_count": 294,
     "metadata": {},
     "output_type": "execute_result"
    }
   ],
   "source": [
    "iper = 0\n",
    "ra = chd.stress_period_data.get_data(key=iper)\n",
    "ra"
   ]
  },
  {
   "cell_type": "code",
   "execution_count": 295,
   "metadata": {},
   "outputs": [],
   "source": [
    "# Create the output control (`OC`) Package\n",
    "headfile = \"{}.hds\".format(name)\n",
    "head_filerecord = [headfile]\n",
    "budgetfile = \"{}.cbb\".format(name)\n",
    "budget_filerecord = [budgetfile]\n",
    "saverecord = [(\"HEAD\", \"ALL\"), (\"BUDGET\", \"ALL\")]\n",
    "printrecord = [(\"HEAD\", \"LAST\")]\n",
    "oc = flopy.mf6.ModflowGwfoc(\n",
    "    gwf,\n",
    "    saverecord=saverecord,\n",
    "    head_filerecord=head_filerecord,\n",
    "    budget_filerecord=budget_filerecord,\n",
    "    printrecord=printrecord,\n",
    ")"
   ]
  },
  {
   "cell_type": "code",
   "execution_count": null,
   "metadata": {},
   "outputs": [],
   "source": []
  },
  {
   "cell_type": "code",
   "execution_count": 296,
   "metadata": {},
   "outputs": [
    {
     "name": "stdout",
     "output_type": "stream",
     "text": [
      "writing simulation...\n",
      "  writing simulation name file...\n",
      "  writing simulation tdis package...\n",
      "  writing ims package ims...\n",
      "  writing model wasaga_mf6...\n",
      "    writing model name file...\n",
      "    writing package dis...\n",
      "    writing package ic...\n",
      "    writing package npf...\n",
      "    writing package chd_0...\n",
      "INFORMATION: maxbound in ('gwf6', 'chd', 'dimensions') changed to 660 based on size of stress_period_data\n",
      "    writing package oc...\n"
     ]
    }
   ],
   "source": [
    "sim.write_simulation()"
   ]
  },
  {
   "cell_type": "code",
   "execution_count": null,
   "metadata": {},
   "outputs": [],
   "source": []
  },
  {
   "cell_type": "code",
   "execution_count": 297,
   "metadata": {},
   "outputs": [
    {
     "name": "stdout",
     "output_type": "stream",
     "text": [
      "FloPy is using the following executable to run the model: C:\\Users\\swan47\\AppData\\Local\\flopy\\bin\\mf6.EXE\n",
      "                                   MODFLOW 6\n",
      "                U.S. GEOLOGICAL SURVEY MODULAR HYDROLOGIC MODEL\n",
      "                        VERSION 6.4.1 Release 12/09/2022\n",
      "\n",
      "   MODFLOW 6 compiled Apr 12 2023 19:05:25 with Intel(R) Fortran Intel(R) 64\n",
      "   Compiler Classic for applications running on Intel(R) 64, Version 2021.7.0\n",
      "                             Build 20220726_000000\n",
      "\n",
      "This software has been approved for release by the U.S. Geological \n",
      "Survey (USGS). Although the software has been subjected to rigorous \n",
      "review, the USGS reserves the right to update the software as needed \n",
      "pursuant to further analysis and review. No warranty, expressed or \n",
      "implied, is made by the USGS or the U.S. Government as to the \n",
      "functionality of the software and related material nor shall the \n",
      "fact of release constitute any such warranty. Furthermore, the \n",
      "software is released on condition that neither the USGS nor the U.S. \n",
      "Government shall be held liable for any damages resulting from its \n",
      "authorized or unauthorized use. Also refer to the USGS Water \n",
      "Resources Software User Rights Notice for complete use, copyright, \n",
      "and distribution information.\n",
      "\n",
      " \n",
      " Run start date and time (yyyy/mm/dd hh:mm:ss): 2023/10/14  0:57:19\n",
      " \n",
      " Writing simulation list file: mfsim.lst\n",
      " Using Simulation name file: mfsim.nam\n",
      " \n",
      "    Solving:  Stress period:     1    Time step:     1\n",
      " \n",
      " Run end date and time (yyyy/mm/dd hh:mm:ss): 2023/10/14  0:57:56\n",
      " Elapsed run time: 36.628 Seconds\n",
      " \n",
      "\n",
      "ERROR REPORT:\n",
      "\n",
      "  1.  Simulation convergence failure occurred 1 time(s).\n",
      " Premature termination of simulation.\n"
     ]
    },
    {
     "ename": "Exception",
     "evalue": "MODFLOW 6 did not terminate normally.",
     "output_type": "error",
     "traceback": [
      "\u001b[1;31m---------------------------------------------------------------------------\u001b[0m",
      "\u001b[1;31mException\u001b[0m                                 Traceback (most recent call last)",
      "\u001b[1;32mc:\\Users\\swan47\\Documents\\GitHub\\wasaga_model\\wasaga_regional_test\\wasaga_3d_mf6.ipynb Cell 42\u001b[0m line \u001b[0;36m3\n\u001b[0;32m      <a href='vscode-notebook-cell:/c%3A/Users/swan47/Documents/GitHub/wasaga_model/wasaga_regional_test/wasaga_3d_mf6.ipynb#Y222sZmlsZQ%3D%3D?line=0'>1</a>\u001b[0m success, buff \u001b[39m=\u001b[39m sim\u001b[39m.\u001b[39mrun_simulation()\n\u001b[0;32m      <a href='vscode-notebook-cell:/c%3A/Users/swan47/Documents/GitHub/wasaga_model/wasaga_regional_test/wasaga_3d_mf6.ipynb#Y222sZmlsZQ%3D%3D?line=1'>2</a>\u001b[0m \u001b[39mif\u001b[39;00m \u001b[39mnot\u001b[39;00m success:\n\u001b[1;32m----> <a href='vscode-notebook-cell:/c%3A/Users/swan47/Documents/GitHub/wasaga_model/wasaga_regional_test/wasaga_3d_mf6.ipynb#Y222sZmlsZQ%3D%3D?line=2'>3</a>\u001b[0m     \u001b[39mraise\u001b[39;00m \u001b[39mException\u001b[39;00m(\u001b[39m\"\u001b[39m\u001b[39mMODFLOW 6 did not terminate normally.\u001b[39m\u001b[39m\"\u001b[39m)\n",
      "\u001b[1;31mException\u001b[0m: MODFLOW 6 did not terminate normally."
     ]
    }
   ],
   "source": [
    "success, buff = sim.run_simulation()\n",
    "if not success:\n",
    "    raise Exception(\"MODFLOW 6 did not terminate normally.\")"
   ]
  },
  {
   "cell_type": "markdown",
   "metadata": {},
   "source": []
  },
  {
   "cell_type": "code",
   "execution_count": null,
   "metadata": {},
   "outputs": [],
   "source": []
  },
  {
   "cell_type": "code",
   "execution_count": 143,
   "metadata": {},
   "outputs": [
    {
     "data": {
      "image/png": "[encoded data removed]",
      "text/plain": [
       "<Figure size 640x480 with 2 Axes>"
      ]
     },
     "metadata": {},
     "output_type": "display_data"
    }
   ],
   "source": [
    "hds = flopy.utils.binaryfile.HeadFile(model_ws+ '/'+headfile)\n",
    "h = hds.get_data(kstpkper=(0, 0))\n",
    "x = h[:,:,1]\n",
    "x[x>=1e30]=np.nan\n",
    "im = plt.imshow(x)\n",
    "plt.colorbar(im)\n",
    "plt.show()"
   ]
  },
  {
   "cell_type": "code",
   "execution_count": 114,
   "metadata": {},
   "outputs": [
    {
     "data": {
      "text/plain": [
       "<a list of 0 text.Text objects>"
      ]
     },
     "execution_count": 114,
     "metadata": {},
     "output_type": "execute_result"
    },
    {
     "data": {
      "image/png": "[encoded data removed]",
      "text/plain": [
       "<Figure size 600x600 with 1 Axes>"
      ]
     },
     "metadata": {},
     "output_type": "display_data"
    }
   ],
   "source": [
    "hds = flopy.utils.binaryfile.HeadFile(model_ws+ '/'+headfile)\n",
    "h = hds.get_data(kstpkper=(0, 0))\n",
    "x = y = np.linspace(0, 2200, 220)\n",
    "y = y[::-1]\n",
    "fig = plt.figure(figsize=(6, 6))\n",
    "ax = fig.add_subplot(1, 1, 1, aspect=\"equal\")\n",
    "c = ax.contour(x, y, h[0], np.arange(90, 100.1, 0.2), colors=\"black\")\n",
    "plt.clabel(c, fmt=\"%2.1f\")"
   ]
  },
  {
   "cell_type": "code",
   "execution_count": 134,
   "metadata": {},
   "outputs": [
    {
     "data": {
      "text/plain": [
       "<matplotlib.colorbar.Colorbar at 0x1b96129d210>"
      ]
     },
     "execution_count": 134,
     "metadata": {},
     "output_type": "execute_result"
    },
    {
     "data": {
      "image/png": "[encoded data removed]",
      "text/plain": [
       "<Figure size 640x480 with 2 Axes>"
      ]
     },
     "metadata": {},
     "output_type": "display_data"
    }
   ],
   "source": []
  },
  {
   "cell_type": "code",
   "execution_count": null,
   "metadata": {},
   "outputs": [],
   "source": []
  },
  {
   "cell_type": "code",
   "execution_count": null,
   "metadata": {},
   "outputs": [],
   "source": []
  },
  {
   "cell_type": "code",
   "execution_count": null,
   "metadata": {},
   "outputs": [],
   "source": []
  }
 ],
 "metadata": {
  "kernelspec": {
   "display_name": "pht3d",
   "language": "python",
   "name": "python3"
  },
  "language_info": {
   "codemirror_mode": {
    "name": "ipython",
    "version": 3
   },
   "file_extension": ".py",
   "mimetype": "text/x-python",
   "name": "python",
   "nbconvert_exporter": "python",
   "pygments_lexer": "ipython3",
   "version": "3.11.3"
  },
  "orig_nbformat": 4
 },
 "nbformat": 4,
 "nbformat_minor": 2
}
