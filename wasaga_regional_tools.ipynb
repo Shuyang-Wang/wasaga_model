{
 "cells": [
  {
   "cell_type": "code",
   "execution_count": 23,
   "metadata": {},
   "outputs": [],
   "source": [
    "import os\n",
    "import numpy as np\n",
    "import flopy\n",
    "import flopy.seawat as swt\n",
    "\n",
    "# Model domain and grid properties in UTM coordinates\n",
    "utm_coords = [(571890, 4924941), (573724, 4926178), (574960, 4924345), (573128, 4923108)]\n",
    "nrow, ncol = 500, 500  # Number of rows and columns in the model grid\n",
    "lr = math.dist(utm_coords[0] , utm_coords[1]) \n",
    "lc = math.dist(utm_coords[0] , utm_coords[3]) \n",
    "delr = lr/ ncol  # Grid spacing in the x-direction\n",
    "delc = lc / nrow  # Grid spacing in the y-direction\n",
    "top_elevation = 100.0  # Top elevation of the model domain\n",
    "bot_elevation = 90.0  # Bottom elevation of the model domain\n",
    "\n",
    "# Create the SEAWAT model object\n",
    "model_name = \"square_seawat_model\"\n",
    "model_ws = os.path.join(\".\", \"output\")  # Specify the model workspace\n",
    "swt_model = swt.Seawat(modelname=model_name, model_ws=model_ws, exe_name=\"swt_v4\")\n",
    "\n",
    "# Specify the discretization of the model grid\n",
    "dis = flopy.modflow.ModflowDis(swt_model, nrow=nrow, ncol=ncol, delr=delr, delc=delc, top=top_elevation, botm=[bot_elevation])\n",
    "\n",
    "# Add boundary conditions and other model parameters as needed\n",
    "# For example, you can add wells, rivers, constant head boundaries, etc. using relevant packages (e.g., ModflowWel, ModflowRiv, ModflowChd).\n",
    "# Also, you can use the SEAWAT-specific packages such as MFSor, MT3DMS, and SEAWAT.\n",
    "\n",
    "\n"
   ]
  },
  {
   "cell_type": "code",
   "execution_count": 24,
   "metadata": {},
   "outputs": [],
   "source": [
    "import matplotlib.pyplot as plt"
   ]
  },
  {
   "cell_type": "code",
   "execution_count": null,
   "metadata": {},
   "outputs": [],
   "source": []
  },
  {
   "cell_type": "code",
   "execution_count": 7,
   "metadata": {},
   "outputs": [
    {
     "ename": "Exception",
     "evalue": "The program swt_v4 does not exist or is not executable.",
     "output_type": "error",
     "traceback": [
      "\u001b[1;31m---------------------------------------------------------------------------\u001b[0m",
      "\u001b[1;31mException\u001b[0m                                 Traceback (most recent call last)",
      "Cell \u001b[1;32mIn[7], line 5\u001b[0m\n\u001b[0;32m      2\u001b[0m swt_model\u001b[39m.\u001b[39mwrite_input()\n\u001b[0;32m      4\u001b[0m \u001b[39m# Run the SEAWAT model\u001b[39;00m\n\u001b[1;32m----> 5\u001b[0m success, swtoutput \u001b[39m=\u001b[39m swt_model\u001b[39m.\u001b[39mrun_model(silent\u001b[39m=\u001b[39m\u001b[39mTrue\u001b[39;00m, pause\u001b[39m=\u001b[39m\u001b[39mFalse\u001b[39;00m)\n\u001b[0;32m      7\u001b[0m \u001b[39m# Check if the model run was successful\u001b[39;00m\n\u001b[0;32m      8\u001b[0m \u001b[39mif\u001b[39;00m success:\n",
      "File \u001b[1;32mc:\\Users\\swan47\\Miniconda3\\envs\\pht3d\\Lib\\site-packages\\flopy\\mbase.py:1373\u001b[0m, in \u001b[0;36mBaseModel.run_model\u001b[1;34m(self, silent, pause, report, normal_msg)\u001b[0m\n\u001b[0;32m   1342\u001b[0m \u001b[39mdef\u001b[39;00m \u001b[39mrun_model\u001b[39m(\n\u001b[0;32m   1343\u001b[0m     \u001b[39mself\u001b[39m,\n\u001b[0;32m   1344\u001b[0m     silent\u001b[39m=\u001b[39m\u001b[39mFalse\u001b[39;00m,\n\u001b[1;32m   (...)\u001b[0m\n\u001b[0;32m   1347\u001b[0m     normal_msg\u001b[39m=\u001b[39m\u001b[39m\"\u001b[39m\u001b[39mnormal termination\u001b[39m\u001b[39m\"\u001b[39m,\n\u001b[0;32m   1348\u001b[0m ):\n\u001b[0;32m   1349\u001b[0m \u001b[39m    \u001b[39m\u001b[39m\"\"\"\u001b[39;00m\n\u001b[0;32m   1350\u001b[0m \u001b[39m    This method will run the model using subprocess.Popen.\u001b[39;00m\n\u001b[0;32m   1351\u001b[0m \n\u001b[1;32m   (...)\u001b[0m\n\u001b[0;32m   1370\u001b[0m \n\u001b[0;32m   1371\u001b[0m \u001b[39m    \"\"\"\u001b[39;00m\n\u001b[1;32m-> 1373\u001b[0m     \u001b[39mreturn\u001b[39;00m run_model(\n\u001b[0;32m   1374\u001b[0m         \u001b[39mself\u001b[39m\u001b[39m.\u001b[39mexe_name,\n\u001b[0;32m   1375\u001b[0m         \u001b[39mself\u001b[39m\u001b[39m.\u001b[39mnamefile,\n\u001b[0;32m   1376\u001b[0m         model_ws\u001b[39m=\u001b[39m\u001b[39mself\u001b[39m\u001b[39m.\u001b[39mmodel_ws,\n\u001b[0;32m   1377\u001b[0m         silent\u001b[39m=\u001b[39msilent,\n\u001b[0;32m   1378\u001b[0m         pause\u001b[39m=\u001b[39mpause,\n\u001b[0;32m   1379\u001b[0m         report\u001b[39m=\u001b[39mreport,\n\u001b[0;32m   1380\u001b[0m         normal_msg\u001b[39m=\u001b[39mnormal_msg,\n\u001b[0;32m   1381\u001b[0m     )\n",
      "File \u001b[1;32mc:\\Users\\swan47\\Miniconda3\\envs\\pht3d\\Lib\\site-packages\\flopy\\mbase.py:1708\u001b[0m, in \u001b[0;36mrun_model\u001b[1;34m(exe_name, namefile, model_ws, silent, pause, report, normal_msg, use_async, cargs)\u001b[0m\n\u001b[0;32m   1706\u001b[0m     exe \u001b[39m=\u001b[39m which(os\u001b[39m.\u001b[39mpath\u001b[39m.\u001b[39mabspath(exe_name))\n\u001b[0;32m   1707\u001b[0m \u001b[39mif\u001b[39;00m exe \u001b[39mis\u001b[39;00m \u001b[39mNone\u001b[39;00m:\n\u001b[1;32m-> 1708\u001b[0m     \u001b[39mraise\u001b[39;00m \u001b[39mException\u001b[39;00m(\n\u001b[0;32m   1709\u001b[0m         \u001b[39mf\u001b[39m\u001b[39m\"\u001b[39m\u001b[39mThe program \u001b[39m\u001b[39m{\u001b[39;00mexe_name\u001b[39m}\u001b[39;00m\u001b[39m does not exist or is not executable.\u001b[39m\u001b[39m\"\u001b[39m\n\u001b[0;32m   1710\u001b[0m     )\n\u001b[0;32m   1711\u001b[0m \u001b[39melse\u001b[39;00m:\n\u001b[0;32m   1712\u001b[0m     \u001b[39mif\u001b[39;00m \u001b[39mnot\u001b[39;00m silent:\n",
      "\u001b[1;31mException\u001b[0m: The program swt_v4 does not exist or is not executable."
     ]
    }
   ],
   "source": [
    "# Write the SEAWAT input files  \n",
    "swt_model.write_input()\n",
    "\n",
    "# Run the SEAWAT model\n",
    "success, swtoutput = swt_model.run_model(silent=True, pause=False)\n",
    "\n",
    "# Check if the model run was successful\n",
    "if success:\n",
    "    print(\"SEAWAT model run completed successfully.\")\n",
    "else:\n",
    "    print(\"SEAWAT model run failed.\")"
   ]
  },
  {
   "cell_type": "code",
   "execution_count": null,
   "metadata": {},
   "outputs": [],
   "source": []
  }
 ],
 "metadata": {
  "kernelspec": {
   "display_name": "pht3d",
   "language": "python",
   "name": "python3"
  },
  "language_info": {
   "codemirror_mode": {
    "name": "ipython",
    "version": 3
   },
   "file_extension": ".py",
   "mimetype": "text/x-python",
   "name": "python",
   "nbconvert_exporter": "python",
   "pygments_lexer": "ipython3",
   "version": "3.11.3"
  },
  "orig_nbformat": 4
 },
 "nbformat": 4,
 "nbformat_minor": 2
}
